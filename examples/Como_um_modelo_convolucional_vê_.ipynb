{
  "cells": [
    {
      "cell_type": "markdown",
      "metadata": {
        "id": "R6gHiH-I7uFa"
      },
      "source": [
        "# Como um modelo convolucional vê?\n",
        "\n",
        "Vamos treinar uma rede convolucional com o conjunto de dados Fashion-MNIST e visualizar os filtros e pooling."
      ]
    },
    {
      "cell_type": "markdown",
      "source": [
        "### Importando as bibliotecas."
      ],
      "metadata": {
        "id": "63VvgSNlXnkh"
      }
    },
    {
      "cell_type": "code",
      "source": [
        "import tensorflow as tf\n",
        "import matplotlib.pyplot as plt\n",
        "from tensorflow.keras import models"
      ],
      "metadata": {
        "id": "bakDPWyPWunM"
      },
      "execution_count": 1,
      "outputs": []
    },
    {
      "cell_type": "markdown",
      "source": [
        "### Baixando a base de dados."
      ],
      "metadata": {
        "id": "g7jYla1SXY8T"
      }
    },
    {
      "cell_type": "code",
      "source": [
        "mnist = tf.keras.datasets.fashion_mnist\n",
        "(training_images, training_labels), (val_images, val_labels) = mnist.load_data()"
      ],
      "metadata": {
        "colab": {
          "base_uri": "https://localhost:8080/"
        },
        "id": "sTKef3dNW0v1",
        "outputId": "5fb07d98-19bc-4ff7-825c-aca2e029a7c9"
      },
      "execution_count": 2,
      "outputs": [
        {
          "output_type": "stream",
          "name": "stdout",
          "text": [
            "Downloading data from https://storage.googleapis.com/tensorflow/tf-keras-datasets/train-labels-idx1-ubyte.gz\n",
            "29515/29515 [==============================] - 0s 0us/step\n",
            "Downloading data from https://storage.googleapis.com/tensorflow/tf-keras-datasets/train-images-idx3-ubyte.gz\n",
            "26421880/26421880 [==============================] - 1s 0us/step\n",
            "Downloading data from https://storage.googleapis.com/tensorflow/tf-keras-datasets/t10k-labels-idx1-ubyte.gz\n",
            "5148/5148 [==============================] - 0s 0us/step\n",
            "Downloading data from https://storage.googleapis.com/tensorflow/tf-keras-datasets/t10k-images-idx3-ubyte.gz\n",
            "4422102/4422102 [==============================] - 1s 0us/step\n"
          ]
        }
      ]
    },
    {
      "cell_type": "markdown",
      "source": [
        "### Redimensionando e escanolando os dados."
      ],
      "metadata": {
        "id": "lHLH3WU1XS3t"
      }
    },
    {
      "cell_type": "code",
      "source": [
        "# Camadas convolucionais esperam que a entrada tenha 3 dimensões. Portanto, fazemos um reshape adicionando uma nova dimensão.\n",
        "training_images = training_images.reshape(60000, 28, 28, 1)\n",
        "training_images = training_images / 255.\n",
        "\n",
        "# Camadas convolucionais esperam que a entrada tenha 3 dimensões. Portanto, fazemos um reshape adicionando uma nova dimensão.\n",
        "val_images = val_images.reshape(10000, 28, 28, 1)\n",
        "val_images = val_images/255.0"
      ],
      "metadata": {
        "id": "imDPR9ucW54f"
      },
      "execution_count": 3,
      "outputs": []
    },
    {
      "cell_type": "markdown",
      "source": [
        "### Definição, compilação e treinamento do modelo."
      ],
      "metadata": {
        "id": "eBNw_i8QXuQo"
      }
    },
    {
      "cell_type": "code",
      "execution_count": 4,
      "metadata": {
        "colab": {
          "base_uri": "https://localhost:8080/"
        },
        "id": "C0tFgT1MMKi6",
        "outputId": "79ecdaba-3a02-4036-a283-8d99bb72e5ad"
      },
      "outputs": [
        {
          "output_type": "stream",
          "name": "stdout",
          "text": [
            "Model: \"sequential\"\n",
            "_________________________________________________________________\n",
            " Layer (type)                Output Shape              Param #   \n",
            "=================================================================\n",
            " conv2d (Conv2D)             (None, 26, 26, 64)        640       \n",
            "                                                                 \n",
            " max_pooling2d (MaxPooling2  (None, 13, 13, 64)        0         \n",
            " D)                                                              \n",
            "                                                                 \n",
            " conv2d_1 (Conv2D)           (None, 11, 11, 64)        36928     \n",
            "                                                                 \n",
            " max_pooling2d_1 (MaxPoolin  (None, 5, 5, 64)          0         \n",
            " g2D)                                                            \n",
            "                                                                 \n",
            " flatten (Flatten)           (None, 1600)              0         \n",
            "                                                                 \n",
            " dense (Dense)               (None, 20)                32020     \n",
            "                                                                 \n",
            " dense_1 (Dense)             (None, 10)                210       \n",
            "                                                                 \n",
            "=================================================================\n",
            "Total params: 69798 (272.65 KB)\n",
            "Trainable params: 69798 (272.65 KB)\n",
            "Non-trainable params: 0 (0.00 Byte)\n",
            "_________________________________________________________________\n",
            "Epoch 1/20\n",
            "1875/1875 [==============================] - 23s 5ms/step - loss: 0.5420 - accuracy: 0.8025 - val_loss: 0.3878 - val_accuracy: 0.8612\n",
            "Epoch 2/20\n",
            "1875/1875 [==============================] - 8s 4ms/step - loss: 0.3459 - accuracy: 0.8745 - val_loss: 0.3347 - val_accuracy: 0.8833\n",
            "Epoch 3/20\n",
            "1875/1875 [==============================] - 8s 4ms/step - loss: 0.2968 - accuracy: 0.8914 - val_loss: 0.3062 - val_accuracy: 0.8907\n",
            "Epoch 4/20\n",
            "1875/1875 [==============================] - 9s 5ms/step - loss: 0.2665 - accuracy: 0.9026 - val_loss: 0.2851 - val_accuracy: 0.8987\n",
            "Epoch 5/20\n",
            "1875/1875 [==============================] - 8s 4ms/step - loss: 0.2454 - accuracy: 0.9103 - val_loss: 0.2860 - val_accuracy: 0.9009\n",
            "Epoch 6/20\n",
            "1875/1875 [==============================] - 9s 5ms/step - loss: 0.2257 - accuracy: 0.9174 - val_loss: 0.2736 - val_accuracy: 0.8993\n",
            "Epoch 7/20\n",
            "1875/1875 [==============================] - 10s 5ms/step - loss: 0.2135 - accuracy: 0.9209 - val_loss: 0.2689 - val_accuracy: 0.9028\n",
            "Epoch 8/20\n",
            "1875/1875 [==============================] - 13s 7ms/step - loss: 0.1972 - accuracy: 0.9275 - val_loss: 0.2711 - val_accuracy: 0.9000\n",
            "Epoch 9/20\n",
            "1875/1875 [==============================] - 10s 5ms/step - loss: 0.1854 - accuracy: 0.9313 - val_loss: 0.2737 - val_accuracy: 0.9035\n",
            "Epoch 10/20\n",
            "1875/1875 [==============================] - 8s 5ms/step - loss: 0.1727 - accuracy: 0.9360 - val_loss: 0.2891 - val_accuracy: 0.8980\n",
            "Epoch 11/20\n",
            "1875/1875 [==============================] - 8s 4ms/step - loss: 0.1652 - accuracy: 0.9387 - val_loss: 0.2700 - val_accuracy: 0.9049\n",
            "Epoch 12/20\n",
            "1875/1875 [==============================] - 12s 6ms/step - loss: 0.1538 - accuracy: 0.9435 - val_loss: 0.2718 - val_accuracy: 0.9073\n",
            "Epoch 13/20\n",
            "1875/1875 [==============================] - 10s 5ms/step - loss: 0.1462 - accuracy: 0.9457 - val_loss: 0.2789 - val_accuracy: 0.9024\n",
            "Epoch 14/20\n",
            "1875/1875 [==============================] - 8s 4ms/step - loss: 0.1385 - accuracy: 0.9499 - val_loss: 0.2988 - val_accuracy: 0.9062\n",
            "Epoch 15/20\n",
            "1875/1875 [==============================] - 11s 6ms/step - loss: 0.1321 - accuracy: 0.9515 - val_loss: 0.2862 - val_accuracy: 0.9073\n",
            "Epoch 16/20\n",
            "1875/1875 [==============================] - 8s 4ms/step - loss: 0.1240 - accuracy: 0.9548 - val_loss: 0.3182 - val_accuracy: 0.9072\n",
            "Epoch 17/20\n",
            "1875/1875 [==============================] - 12s 6ms/step - loss: 0.1196 - accuracy: 0.9559 - val_loss: 0.3224 - val_accuracy: 0.9017\n",
            "Epoch 18/20\n",
            "1875/1875 [==============================] - 9s 5ms/step - loss: 0.1106 - accuracy: 0.9588 - val_loss: 0.3167 - val_accuracy: 0.9042\n",
            "Epoch 19/20\n",
            "1875/1875 [==============================] - 8s 4ms/step - loss: 0.1073 - accuracy: 0.9603 - val_loss: 0.3145 - val_accuracy: 0.9083\n",
            "Epoch 20/20\n",
            "1875/1875 [==============================] - 9s 5ms/step - loss: 0.1022 - accuracy: 0.9623 - val_loss: 0.3596 - val_accuracy: 0.9036\n"
          ]
        },
        {
          "output_type": "execute_result",
          "data": {
            "text/plain": [
              "<keras.src.callbacks.History at 0x7e725eec4760>"
            ]
          },
          "metadata": {},
          "execution_count": 4
        }
      ],
      "source": [
        "model = tf.keras.models.Sequential([\n",
        "  tf.keras.layers.Conv2D(64, (3,3), activation='relu', input_shape=(28, 28, 1)),\n",
        "  tf.keras.layers.MaxPooling2D(2, 2),\n",
        "  tf.keras.layers.Conv2D(64, (3,3), activation='relu'),\n",
        "  tf.keras.layers.MaxPooling2D(2,2),\n",
        "  tf.keras.layers.Flatten(),\n",
        "  tf.keras.layers.Dense(20, activation='relu'),\n",
        "  tf.keras.layers.Dense(10, activation='softmax')\n",
        "])\n",
        "\n",
        "model.compile(optimizer='adam', loss='sparse_categorical_crossentropy', metrics=['accuracy'])\n",
        "\n",
        "model.summary()\n",
        "\n",
        "model.fit(training_images, training_labels, validation_data=(val_images, val_labels), epochs=20)"
      ]
    },
    {
      "cell_type": "markdown",
      "metadata": {
        "id": "IXx_LX3SAlFs"
      },
      "source": [
        "# Visualizando as Convoluções e Pooling\n",
        "\n",
        "A célula abaixo mostra graficamente as convoluções.\n",
        "\n",
        "O `print(test_labels[:100])` mostra os primeiros 100 rótulos do conjunto de teste, e podemos ver que aqueles no índice 0, 23 e 28 têm todos o mesmo valor (9). Ou seja, são todos sapatos.\n",
        "\n",
        "Vamos dar uma olhada no resultado da execução da convolução em cada um e veremos o surgimento das caracteristicas comuns entre eles.\n",
        "\n",
        "Quando as camadas densas finais são treinadas nesses dados resultantes das camadas de convolução e pooling, elas estão trabalhando com muito menos dados e mais direcionadas: as características detectadas (ou filtradas) por essas camadas."
      ]
    },
    {
      "cell_type": "code",
      "execution_count": 5,
      "metadata": {
        "colab": {
          "base_uri": "https://localhost:8080/"
        },
        "id": "f-6nX4QsOku6",
        "outputId": "ac598347-8a4e-4a79-e86b-dc82ea78098d"
      },
      "outputs": [
        {
          "output_type": "stream",
          "name": "stdout",
          "text": [
            "[9 2 1 1 6 1 4 6 5 7 4 5 7 3 4 1 2 4 8 0 2 5 7 9 1 4 6 0 9 3 8 8 3 3 8 0 7\n",
            " 5 7 9 6 1 3 7 6 7 2 1 2 2 4 4 5 8 2 2 8 4 8 0 7 7 8 5 1 1 2 3 9 8 7 0 2 6\n",
            " 2 3 1 2 8 4 1 8 5 9 5 0 3 2 0 6 5 3 6 7 1 8 0 1 4 2]\n"
          ]
        }
      ],
      "source": [
        "print(val_labels[:100])"
      ]
    },
    {
      "cell_type": "markdown",
      "source": [
        "### Definindo uma função para plotar as figuras."
      ],
      "metadata": {
        "id": "x1j4u0zYX6qa"
      }
    },
    {
      "cell_type": "code",
      "source": [
        "def show_image(img):\n",
        "  plt.figure()\n",
        "  plt.imshow(val_images[img].reshape(28, 28))\n",
        "  plt.grid(False)\n",
        "  plt.show()"
      ],
      "metadata": {
        "id": "Q5nA8foIX5hA"
      },
      "execution_count": 6,
      "outputs": []
    },
    {
      "cell_type": "markdown",
      "source": [
        "No código abaixo, o modelo `activation_model` é uma versão do modelo original model que permite obter as saídas das camadas intermediárias do modelo, o que é útil para a visualização de ativações ou outras análises intermediárias durante o treinamento ou inferência do modelo."
      ],
      "metadata": {
        "id": "GEcfWIC0eYEM"
      }
    },
    {
      "cell_type": "code",
      "execution_count": 47,
      "metadata": {
        "colab": {
          "base_uri": "https://localhost:8080/",
          "height": 554
        },
        "id": "9FGsHhv6JvDx",
        "outputId": "bc98af25-878c-4e0d-ecfd-fe265cb3ee4d"
      },
      "outputs": [
        {
          "output_type": "stream",
          "name": "stdout",
          "text": [
            "Número de camadas: 7\n",
            "1/1 [==============================] - 0s 77ms/step\n",
            "1/1 [==============================] - 0s 18ms/step\n",
            "1/1 [==============================] - 0s 18ms/step\n",
            "1/1 [==============================] - 0s 19ms/step\n",
            "1/1 [==============================] - 0s 17ms/step\n",
            "1/1 [==============================] - 0s 17ms/step\n"
          ]
        },
        {
          "output_type": "display_data",
          "data": {
            "text/plain": [
              "<Figure size 640x480 with 6 Axes>"
            ],
            "image/png": "[encoded data removed]"
          },
          "metadata": {}
        }
      ],
      "source": [
        "f, axarr = plt.subplots(3,2)\n",
        "\n",
        "# Ao examinar a lista acima, vemos que as entradas 0, 23 e 28 têm rótulo igual a 9.\n",
        "FIRST_IMAGE = 0\n",
        "SECOND_IMAGE =23\n",
        "THIRD_IMAGE = 28\n",
        "\n",
        "# Para sapatos (0, 23, 28), FILTER_NUMBER=0 (ou seja, o primeiro filtro) mostra a sola sendo filtrada com muita clareza.\n",
        "FILTER_NUMBER = 0\n",
        "\n",
        "# Uma lista chamada layer_outputs é criada usando uma compreensão de lista.\n",
        "# Ele itera por todas as camadas (layer) no modelo model e extrai as saídas de cada camada (layer.output).\n",
        "# Portanto, layer_outputs será uma lista de tensores, onde cada tensor corresponde à saída de uma camada específica do modelo.\n",
        "layer_outputs = [layer.output for layer in model.layers]\n",
        "activation_model = tf.keras.models.Model(inputs = model.input, outputs = layer_outputs)\n",
        "\n",
        "print('Número de camadas:', len(layer_outputs))\n",
        "\n",
        "# O \"for\" abaixo é usado para plotar as saídas das duas primeiras camadas (Conv2D e MaxPooling)\n",
        "# O índice 0 acessa a primeira camada Conv2D e o índice 1 acessa a primeira camada de MaxPooling.\n",
        "for x in range(0, 2):\n",
        "  f1 = activation_model.predict(val_images[FIRST_IMAGE].reshape(1, 28, 28, 1))[x]\n",
        "  axarr[0,x].imshow(f1[0, : , :, FILTER_NUMBER], cmap='inferno')\n",
        "  axarr[0,x].grid(False)\n",
        "\n",
        "  f2 = activation_model.predict(val_images[SECOND_IMAGE].reshape(1, 28, 28, 1))[x]\n",
        "  axarr[1,x].imshow(f2[0, : , :, FILTER_NUMBER], cmap='inferno')\n",
        "  axarr[1,x].grid(False)\n",
        "\n",
        "  f3 = activation_model.predict(val_images[THIRD_IMAGE].reshape(1, 28, 28, 1))[x]\n",
        "  axarr[2,x].imshow(f3[0, : , :, FILTER_NUMBER], cmap='inferno')\n",
        "  axarr[2,x].grid(False)"
      ]
    },
    {
      "cell_type": "code",
      "source": [
        "show_image(FIRST_IMAGE)\n",
        "show_image(SECOND_IMAGE)\n",
        "show_image(THIRD_IMAGE)"
      ],
      "metadata": {
        "id": "0OwouEgChU9B"
      },
      "execution_count": null,
      "outputs": []
    }
  ],
  "metadata": {
    "accelerator": "GPU",
    "colab": {
      "provenance": []
    },
    "kernelspec": {
      "display_name": "Python 3",
      "language": "python",
      "name": "python3"
    },
    "language_info": {
      "codemirror_mode": {
        "name": "ipython",
        "version": 3
      },
      "file_extension": ".py",
      "mimetype": "text/x-python",
      "name": "python",
      "nbconvert_exporter": "python",
      "pygments_lexer": "ipython3",
      "version": "3.6.9"
    }
  },
  "nbformat": 4,
  "nbformat_minor": 0
}