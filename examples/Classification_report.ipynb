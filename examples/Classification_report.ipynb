{
  "cells": [
    {
      "cell_type": "markdown",
      "metadata": {
        "id": "Zo2JiEtkzvQL"
      },
      "source": [
        "# Detecção de dígitos escritos à mão com dados de validação e teste"
      ]
    },
    {
      "cell_type": "markdown",
      "metadata": {
        "id": "ZLLenukpg6VN"
      },
      "source": [
        "**Observação**: Verifiquem se o uso de GPU está habilitado."
      ]
    },
    {
      "cell_type": "markdown",
      "metadata": {
        "id": "z56YN3JZ0Duh"
      },
      "source": [
        "## Importando as bibliotecas"
      ]
    },
    {
      "cell_type": "code",
      "execution_count": null,
      "metadata": {
        "id": "YfPnR74Gzc_q"
      },
      "outputs": [],
      "source": [
        "import numpy as np\n",
        "import matplotlib.pyplot as plt\n",
        "import tensorflow as tf\n",
        "import seaborn as sns"
      ]
    },
    {
      "cell_type": "markdown",
      "metadata": {
        "id": "xrGLDV6q0PCc"
      },
      "source": [
        "## Baixando o conjunto de dados MNIST\n",
        "\n",
        "\n",
        "O conjunto de dados MNIST de dígitos manuscritos, pode ser baixado com o [TF](https://www.tensorflow.org/api_docs/python/tf/keras/datasets/mnist/load_data).\n",
        "\n",
        "O conjunto contém imagens 28x28 pixels em tons de cinza dos 10 dígitos (0-9).\n",
        "Ele possui um conjunto de treinamento com 60.000 imagens e um conjunto de teste com 10.000."
      ]
    },
    {
      "cell_type": "code",
      "execution_count": null,
      "metadata": {
        "colab": {
          "base_uri": "https://localhost:8080/"
        },
        "id": "Ib2Ihepx0N6h",
        "outputId": "f2e29a62-25c5-47d4-91db-a739fac14689"
      },
      "outputs": [
        {
          "output_type": "stream",
          "name": "stdout",
          "text": [
            "Downloading data from https://storage.googleapis.com/tensorflow/tf-keras-datasets/mnist.npz\n",
            "11490434/11490434 [==============================] - 0s 0us/step\n"
          ]
        }
      ],
      "source": [
        "(ltrain_images, ltrain_labels), (test_images, test_labels) = tf.keras.datasets.mnist.load_data()"
      ]
    },
    {
      "cell_type": "markdown",
      "metadata": {
        "id": "nxTp8fjIKxAk"
      },
      "source": [
        "## Divindo em o conjunto original de treinamento em um conjunto de treinamento menor e um conjunto de validação"
      ]
    },
    {
      "cell_type": "markdown",
      "metadata": {
        "id": "c-5RfO0PLghj"
      },
      "source": [
        "### Separamos as primeiras 10.000 imagens para o conjunto de validação."
      ]
    },
    {
      "cell_type": "code",
      "execution_count": null,
      "metadata": {
        "id": "u_e88OtBak7n"
      },
      "outputs": [],
      "source": [
        "val_images = ltrain_images[:10000]\n",
        "val_labels = ltrain_labels[:10000]"
      ]
    },
    {
      "cell_type": "code",
      "execution_count": null,
      "metadata": {
        "colab": {
          "base_uri": "https://localhost:8080/"
        },
        "id": "hcuDlGmVLz2k",
        "outputId": "d8a03a80-58a2-4361-d713-319ff31fc267"
      },
      "outputs": [
        {
          "output_type": "stream",
          "name": "stdout",
          "text": [
            "(10000, 28, 28)\n",
            "(10000,)\n"
          ]
        }
      ],
      "source": [
        "print(val_images.shape)\n",
        "print(val_labels.shape)"
      ]
    },
    {
      "cell_type": "markdown",
      "metadata": {
        "id": "lyE6KB2oLqpB"
      },
      "source": [
        "### As 50.000 restantes vão para o novo conjunto de treinamento (menor)"
      ]
    },
    {
      "cell_type": "code",
      "execution_count": null,
      "metadata": {
        "id": "MtTSlX3TaDqj"
      },
      "outputs": [],
      "source": [
        "train_images = ltrain_images[10000:]\n",
        "train_labels = ltrain_labels[10000:]"
      ]
    },
    {
      "cell_type": "code",
      "execution_count": null,
      "metadata": {
        "colab": {
          "base_uri": "https://localhost:8080/"
        },
        "id": "pq1bMIRd38b8",
        "outputId": "ec98801b-d101-4731-e0d8-207edc494c48"
      },
      "outputs": [
        {
          "output_type": "stream",
          "name": "stdout",
          "text": [
            "(50000, 28, 28)\n",
            "(50000,)\n"
          ]
        }
      ],
      "source": [
        "print(train_images.shape)\n",
        "print(train_labels.shape)"
      ]
    },
    {
      "cell_type": "markdown",
      "metadata": {
        "id": "0-H0LwB_7von"
      },
      "source": [
        "## Pré-processamento dos dados\n",
        "\n",
        "Vamos aplicar normalização aos dados (i.e., atributos) dos três conjuntos.\n",
        "\n",
        "Como os valores dos pixels variam entre 0 e 255, basta dividí-los por 255.0 e o intervalo final ficará entre 0.0 e 1.0."
      ]
    },
    {
      "cell_type": "code",
      "execution_count": null,
      "metadata": {
        "id": "uZrGVMsH0X3F"
      },
      "outputs": [],
      "source": [
        "train_images  = train_images / 255.0\n",
        "val_images = val_images / 255.0\n",
        "test_images = test_images / 255.0"
      ]
    },
    {
      "cell_type": "markdown",
      "metadata": {
        "id": "pYMsyOk8-xnf"
      },
      "source": [
        "## Definindo e compilando o modelo\n",
        "\n",
        "**Observação**: ao invés de passar uma **lista** com as camadas, vamos usar o método `add()` da classe `Sequential` para adicionar as camadas"
      ]
    },
    {
      "cell_type": "code",
      "execution_count": null,
      "metadata": {
        "colab": {
          "base_uri": "https://localhost:8080/"
        },
        "id": "dEdoqWl28dB3",
        "outputId": "600278fd-86be-44c2-bd85-9645a871e9a7"
      },
      "outputs": [
        {
          "output_type": "stream",
          "name": "stdout",
          "text": [
            "Model: \"sequential\"\n",
            "_________________________________________________________________\n",
            " Layer (type)                Output Shape              Param #   \n",
            "=================================================================\n",
            " flatten (Flatten)           (None, 784)               0         \n",
            "                                                                 \n",
            " dense (Dense)               (None, 20)                15700     \n",
            "                                                                 \n",
            " dense_1 (Dense)             (None, 10)                210       \n",
            "                                                                 \n",
            "=================================================================\n",
            "Total params: 15910 (62.15 KB)\n",
            "Trainable params: 15910 (62.15 KB)\n",
            "Non-trainable params: 0 (0.00 Byte)\n",
            "_________________________________________________________________\n"
          ]
        }
      ],
      "source": [
        "# Definindo o modelo.\n",
        "model = tf.keras.models.Sequential()\n",
        "model.add(tf.keras.layers.Flatten(input_shape=(28, 28)))\n",
        "model.add(tf.keras.layers.Dense(20, activation='relu'))\n",
        "model.add(tf.keras.layers.Dense(10, activation='softmax'))\n",
        "\n",
        "# Resumo da rede neural.\n",
        "model.summary()"
      ]
    },
    {
      "cell_type": "markdown",
      "metadata": {
        "id": "dWH_kfJ2RPGc"
      },
      "source": [
        "### Compilando o modelo\n",
        "\n",
        "**Observação**: vamos usar um passo de aprendizagem menor, pois como vimos no exemplo anterior, um valor maior faz com que o modelo se sobreajuste."
      ]
    },
    {
      "cell_type": "code",
      "execution_count": null,
      "metadata": {
        "id": "NA21O9Y0_BJ7"
      },
      "outputs": [],
      "source": [
        "# Instanciando otimizador Adam.\n",
        "opt = tf.keras.optimizers.Adam(learning_rate=0.0001)\n",
        "\n",
        "# Compilando a rede neural.\n",
        "model.compile(\n",
        "    optimizer=opt,\n",
        "    loss='sparse_categorical_crossentropy',\n",
        "    metrics=['accuracy']\n",
        ")"
      ]
    },
    {
      "cell_type": "markdown",
      "metadata": {
        "id": "pJZ4fvT3_yd7"
      },
      "source": [
        "## Treinando o modelo."
      ]
    },
    {
      "cell_type": "code",
      "execution_count": null,
      "metadata": {
        "colab": {
          "base_uri": "https://localhost:8080/"
        },
        "id": "RxklrX_R_uvn",
        "outputId": "e3809b9f-dadc-4c09-d5f1-7d696624fae1"
      },
      "outputs": [
        {
          "output_type": "stream",
          "name": "stdout",
          "text": [
            "Epoch 1/20\n",
            "1563/1563 [==============================] - 18s 7ms/step - loss: 1.2016 - accuracy: 0.6918 - val_loss: 0.6132 - val_accuracy: 0.8576\n",
            "Epoch 2/20\n",
            "1563/1563 [==============================] - 10s 7ms/step - loss: 0.5014 - accuracy: 0.8728 - val_loss: 0.4137 - val_accuracy: 0.8932\n",
            "Epoch 3/20\n",
            "1563/1563 [==============================] - 6s 4ms/step - loss: 0.3846 - accuracy: 0.8967 - val_loss: 0.3503 - val_accuracy: 0.9074\n",
            "Epoch 4/20\n",
            "1563/1563 [==============================] - 6s 4ms/step - loss: 0.3368 - accuracy: 0.9070 - val_loss: 0.3186 - val_accuracy: 0.9142\n",
            "Epoch 5/20\n",
            "1563/1563 [==============================] - 5s 3ms/step - loss: 0.3087 - accuracy: 0.9139 - val_loss: 0.2965 - val_accuracy: 0.9186\n",
            "Epoch 6/20\n",
            "1563/1563 [==============================] - 5s 3ms/step - loss: 0.2890 - accuracy: 0.9188 - val_loss: 0.2816 - val_accuracy: 0.9212\n",
            "Epoch 7/20\n",
            "1563/1563 [==============================] - 6s 4ms/step - loss: 0.2738 - accuracy: 0.9235 - val_loss: 0.2701 - val_accuracy: 0.9237\n",
            "Epoch 8/20\n",
            "1563/1563 [==============================] - 5s 3ms/step - loss: 0.2614 - accuracy: 0.9267 - val_loss: 0.2593 - val_accuracy: 0.9253\n",
            "Epoch 9/20\n",
            "1563/1563 [==============================] - 6s 4ms/step - loss: 0.2511 - accuracy: 0.9291 - val_loss: 0.2507 - val_accuracy: 0.9279\n",
            "Epoch 10/20\n",
            "1563/1563 [==============================] - 5s 3ms/step - loss: 0.2421 - accuracy: 0.9322 - val_loss: 0.2430 - val_accuracy: 0.9309\n",
            "Epoch 11/20\n",
            "1563/1563 [==============================] - 6s 4ms/step - loss: 0.2341 - accuracy: 0.9345 - val_loss: 0.2369 - val_accuracy: 0.9322\n",
            "Epoch 12/20\n",
            "1563/1563 [==============================] - 5s 3ms/step - loss: 0.2272 - accuracy: 0.9359 - val_loss: 0.2319 - val_accuracy: 0.9340\n",
            "Epoch 13/20\n",
            "1563/1563 [==============================] - 8s 5ms/step - loss: 0.2209 - accuracy: 0.9378 - val_loss: 0.2263 - val_accuracy: 0.9368\n",
            "Epoch 14/20\n",
            "1563/1563 [==============================] - 5s 3ms/step - loss: 0.2152 - accuracy: 0.9396 - val_loss: 0.2222 - val_accuracy: 0.9368\n",
            "Epoch 15/20\n",
            "1563/1563 [==============================] - 6s 4ms/step - loss: 0.2100 - accuracy: 0.9413 - val_loss: 0.2185 - val_accuracy: 0.9381\n",
            "Epoch 16/20\n",
            "1563/1563 [==============================] - 6s 4ms/step - loss: 0.2051 - accuracy: 0.9427 - val_loss: 0.2142 - val_accuracy: 0.9385\n",
            "Epoch 17/20\n",
            "1563/1563 [==============================] - 6s 4ms/step - loss: 0.2005 - accuracy: 0.9434 - val_loss: 0.2111 - val_accuracy: 0.9398\n",
            "Epoch 18/20\n",
            "1563/1563 [==============================] - 6s 4ms/step - loss: 0.1964 - accuracy: 0.9453 - val_loss: 0.2081 - val_accuracy: 0.9419\n",
            "Epoch 19/20\n",
            "1563/1563 [==============================] - 6s 4ms/step - loss: 0.1923 - accuracy: 0.9460 - val_loss: 0.2057 - val_accuracy: 0.9408\n",
            "Epoch 20/20\n",
            "1563/1563 [==============================] - 5s 3ms/step - loss: 0.1891 - accuracy: 0.9471 - val_loss: 0.2022 - val_accuracy: 0.9416\n"
          ]
        }
      ],
      "source": [
        "history = model.fit(\n",
        "    train_images,\n",
        "    train_labels,\n",
        "    epochs=20,\n",
        "    validation_data=(val_images, val_labels)\n",
        ")"
      ]
    },
    {
      "cell_type": "markdown",
      "metadata": {
        "id": "0xAXSo5-HCIo"
      },
      "source": [
        "### Inspecionando os resultados obtidos ao longo do treinamento"
      ]
    },
    {
      "cell_type": "code",
      "execution_count": null,
      "metadata": {
        "colab": {
          "base_uri": "https://localhost:8080/",
          "height": 474
        },
        "id": "g6qHpwg8BpZi",
        "outputId": "bc4f2f7c-3029-4344-afbb-d165da5f1b3b"
      },
      "outputs": [
        {
          "output_type": "display_data",
          "data": {
            "text/plain": [
              "<Figure size 640x480 with 1 Axes>"
            ],
            "image/png": "[encoded data removed]"
          },
          "metadata": {}
        }
      ],
      "source": [
        "plt.plot(history.history['accuracy'], label='Train')\n",
        "plt.plot(history.history['val_accuracy'], label='Val')\n",
        "plt.title('Acurácia do modelo')\n",
        "plt.ylabel('Acurácia')\n",
        "plt.xlabel('Época')\n",
        "plt.legend(loc='upper left')\n",
        "plt.xticks(range(20))\n",
        "plt.grid()\n",
        "plt.show()"
      ]
    },
    {
      "cell_type": "markdown",
      "metadata": {
        "id": "JYHTdEJVH0tZ"
      },
      "source": [
        "## Avaliando o modelo treinado nos três conjuntos\n"
      ]
    },
    {
      "cell_type": "code",
      "execution_count": null,
      "metadata": {
        "colab": {
          "base_uri": "https://localhost:8080/"
        },
        "id": "QBuJGqbSH6xT",
        "outputId": "da69aaa4-7164-40d8-dc93-bf35255b5469"
      },
      "outputs": [
        {
          "output_type": "stream",
          "name": "stdout",
          "text": [
            "1563/1563 [==============================] - 4s 3ms/step - loss: 0.1849 - accuracy: 0.9483\n"
          ]
        },
        {
          "output_type": "execute_result",
          "data": {
            "text/plain": [
              "[0.18487930297851562, 0.9483199715614319]"
            ]
          },
          "metadata": {},
          "execution_count": 12
        }
      ],
      "source": [
        "model.evaluate(train_images, train_labels)"
      ]
    },
    {
      "cell_type": "code",
      "execution_count": null,
      "metadata": {
        "colab": {
          "base_uri": "https://localhost:8080/"
        },
        "id": "kvv19U6BbYeF",
        "outputId": "fb2f0d96-db1a-4f11-d19d-7989f06c3d53"
      },
      "outputs": [
        {
          "output_type": "stream",
          "name": "stdout",
          "text": [
            "313/313 [==============================] - 1s 2ms/step - loss: 0.2022 - accuracy: 0.9416\n"
          ]
        },
        {
          "output_type": "execute_result",
          "data": {
            "text/plain": [
              "[0.20222920179367065, 0.9416000247001648]"
            ]
          },
          "metadata": {},
          "execution_count": 13
        }
      ],
      "source": [
        "model.evaluate(val_images, val_labels)"
      ]
    },
    {
      "cell_type": "code",
      "execution_count": null,
      "metadata": {
        "colab": {
          "base_uri": "https://localhost:8080/"
        },
        "id": "bKgtMK9IbaYC",
        "outputId": "144e30df-d6c7-453f-8120-4c0d2e46d223"
      },
      "outputs": [
        {
          "output_type": "stream",
          "name": "stdout",
          "text": [
            "313/313 [==============================] - 1s 2ms/step - loss: 0.1925 - accuracy: 0.9433\n"
          ]
        },
        {
          "output_type": "execute_result",
          "data": {
            "text/plain": [
              "[0.19248689711093903, 0.9433000087738037]"
            ]
          },
          "metadata": {},
          "execution_count": 14
        }
      ],
      "source": [
        "model.evaluate(test_images, test_labels)"
      ]
    },
    {
      "cell_type": "markdown",
      "metadata": {
        "id": "Epb8VsAPeBpI"
      },
      "source": [
        "## Reporte de classificação e matriz de confusão\n",
        "\n",
        "Para analisar o desempenho do classificador, vamos usar as funções `classification_report` e `confusion_matrix` do módulo `metrics` da biblioteca Scikit-Learn.\n",
        "\n",
        "Usaremos o conjunto de teste para avaliar o desempenho do classificador."
      ]
    },
    {
      "cell_type": "code",
      "execution_count": null,
      "metadata": {
        "id": "Rs6gd-99eBpI",
        "outputId": "8566deda-ac5d-45d5-f9d3-ababc023c202",
        "colab": {
          "base_uri": "https://localhost:8080/"
        }
      },
      "outputs": [
        {
          "output_type": "stream",
          "name": "stdout",
          "text": [
            "313/313 [==============================] - 1s 2ms/step\n",
            "              precision    recall  f1-score   support\n",
            "\n",
            "           0       0.95      0.98      0.97       980\n",
            "           1       0.98      0.98      0.98      1135\n",
            "           2       0.95      0.93      0.94      1032\n",
            "           3       0.92      0.95      0.93      1010\n",
            "           4       0.93      0.95      0.94       982\n",
            "           5       0.94      0.90      0.92       892\n",
            "           6       0.95      0.96      0.95       958\n",
            "           7       0.95      0.94      0.94      1028\n",
            "           8       0.92      0.91      0.91       974\n",
            "           9       0.94      0.93      0.94      1009\n",
            "\n",
            "    accuracy                           0.94     10000\n",
            "   macro avg       0.94      0.94      0.94     10000\n",
            "weighted avg       0.94      0.94      0.94     10000\n",
            "\n"
          ]
        }
      ],
      "source": [
        "# Importando as funções que usaremos.\n",
        "from sklearn.metrics import classification_report, confusion_matrix\n",
        "\n",
        "# Realizando predições com o conjunto de teste.\n",
        "predictions = model.predict(test_images)\n",
        "predictions = np.argmax(predictions, axis=-1)\n",
        "\n",
        "# Imprime o reporte de classificação.\n",
        "print(classification_report(test_labels, predictions))"
      ]
    },
    {
      "cell_type": "markdown",
      "metadata": {
        "id": "0b5MG3IKeBpI"
      },
      "source": [
        "#### Observações:\n",
        "\n",
        "+ `macro avg` dá média aritmética **simples** das métricas para cada classe.\n",
        "    + Ela atribui o mesmo peso para cada classe, independentemente do número de amostras em cada uma delas.\n",
        "\n",
        "\n",
        "+ `weighted avg` dá média aritmética **ponderada** das métricas para cada classe.\n",
        "    + Ela atribui pesos diferentes para cada classe, levando em consideração o número de amostras em cada uma delas.\n",
        "    + Assim, classes com mais amostras tem uma contribuição maior no cálculo da métrica.\n",
        "    \n",
        "    \n",
        "+ `weighted avg` é útil quando as classes são desbalanceadas, ou seja, quando algumas classes têm um número muito maior de amostras do que outras.\n",
        "\n",
        "\n",
        "+ `macro avg` é útil quando as classes são balanceadas, ou seja, quando todas as classes têm aproximadamente o mesmo número de amostras."
      ]
    },
    {
      "cell_type": "markdown",
      "metadata": {
        "id": "hvbOUljueBpI"
      },
      "source": [
        "### Plotando a matriz de confusão.\n",
        "\n"
      ]
    },
    {
      "cell_type": "code",
      "execution_count": null,
      "metadata": {
        "id": "Hyf9Zy7aeBpI",
        "outputId": "b051d4fd-32f9-431d-b35b-b28fb7c795d2",
        "colab": {
          "base_uri": "https://localhost:8080/",
          "height": 449
        }
      },
      "outputs": [
        {
          "output_type": "display_data",
          "data": {
            "text/plain": [
              "<Figure size 640x480 with 1 Axes>"
            ],
            "image/png": "[encoded data removed]"
          },
          "metadata": {}
        }
      ],
      "source": [
        "# Plot the confusion matrix.\n",
        "mat = confusion_matrix(test_labels, predictions)\n",
        "sns.heatmap(mat.T, square=True, annot=True, fmt='d', cbar=False, cmap=\"Blues\")\n",
        "plt.xlabel('true label')\n",
        "plt.ylabel('predicted label')\n",
        "plt.show()"
      ]
    }
  ],
  "metadata": {
    "accelerator": "GPU",
    "colab": {
      "provenance": [],
      "gpuType": "T4"
    },
    "kernelspec": {
      "display_name": "Python 3",
      "name": "python3"
    },
    "language_info": {
      "codemirror_mode": {
        "name": "ipython",
        "version": 3
      },
      "file_extension": ".py",
      "mimetype": "text/x-python",
      "name": "python",
      "nbconvert_exporter": "python",
      "pygments_lexer": "ipython3",
      "version": "3.10.9"
    }
  },
  "nbformat": 4,
  "nbformat_minor": 0
}