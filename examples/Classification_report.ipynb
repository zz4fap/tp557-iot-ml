{
 "cells": [
  {
   "cell_type": "markdown",
   "metadata": {
    "id": "Zo2JiEtkzvQL"
   },
   "source": [
    "# Detecção de dígitos escritos à mão com dados de validação e teste"
   ]
  },
  {
   "cell_type": "markdown",
   "metadata": {
    "id": "ZLLenukpg6VN"
   },
   "source": [
    "**Observação**: Verifiquem se o uso de GPU está habilitado."
   ]
  },
  {
   "cell_type": "markdown",
   "metadata": {
    "id": "z56YN3JZ0Duh"
   },
   "source": [
    "## Importando as bibliotecas"
   ]
  },
  {
   "cell_type": "code",
   "execution_count": 1,
   "metadata": {
    "id": "YfPnR74Gzc_q"
   },
   "outputs": [],
   "source": [
    "import numpy as np\n",
    "import matplotlib.pyplot as plt\n",
    "import tensorflow as tf\n",
    "import seaborn as sns"
   ]
  },
  {
   "cell_type": "markdown",
   "metadata": {
    "id": "xrGLDV6q0PCc"
   },
   "source": [
    "## Baixando o conjunto de dados MNIST\n",
    "\n",
    "\n",
    "O conjunto de dados MNIST de dígitos manuscritos, pode ser baixado com o [TF](https://www.tensorflow.org/api_docs/python/tf/keras/datasets/mnist/load_data).\n",
    "\n",
    "O conjunto contém imagens 28x28 pixels em tons de cinza dos 10 dígitos (0-9).\n",
    "Ele possui um conjunto de treinamento com 60.000 imagens e um conjunto de teste com 10.000."
   ]
  },
  {
   "cell_type": "code",
   "execution_count": 2,
   "metadata": {
    "colab": {
     "base_uri": "https://localhost:8080/"
    },
    "id": "Ib2Ihepx0N6h",
    "outputId": "46df5f21-dcfe-4c5c-8cc2-c81f7d6947d7"
   },
   "outputs": [
    {
     "name": "stdout",
     "output_type": "stream",
     "text": [
      "Downloading data from https://storage.googleapis.com/tensorflow/tf-keras-datasets/mnist.npz\n",
      "11490434/11490434 [==============================] - 0s 0us/step\n"
     ]
    }
   ],
   "source": [
    "(ltrain_images, ltrain_labels), (test_images, test_labels) = tf.keras.datasets.mnist.load_data()"
   ]
  },
  {
   "cell_type": "markdown",
   "metadata": {
    "id": "nxTp8fjIKxAk"
   },
   "source": [
    "## Divindo em o conjunto inicial de treinamento em um conjunto de treinamento menor e um conjunto de validação"
   ]
  },
  {
   "cell_type": "markdown",
   "metadata": {
    "id": "c-5RfO0PLghj"
   },
   "source": [
    "### Separamos as primeiras 10.000 imagens para o conjunto de validação."
   ]
  },
  {
   "cell_type": "code",
   "execution_count": 3,
   "metadata": {
    "id": "u_e88OtBak7n"
   },
   "outputs": [],
   "source": [
    "val_images = ltrain_images[:10000]\n",
    "val_labels = ltrain_labels[:10000]"
   ]
  },
  {
   "cell_type": "code",
   "execution_count": 4,
   "metadata": {
    "colab": {
     "base_uri": "https://localhost:8080/"
    },
    "id": "hcuDlGmVLz2k",
    "outputId": "043abd02-19eb-4318-e040-4020f34bc396"
   },
   "outputs": [
    {
     "name": "stdout",
     "output_type": "stream",
     "text": [
      "(10000, 28, 28)\n",
      "(10000,)\n"
     ]
    }
   ],
   "source": [
    "print(val_images.shape)\n",
    "print(val_labels.shape)"
   ]
  },
  {
   "cell_type": "markdown",
   "metadata": {
    "id": "lyE6KB2oLqpB"
   },
   "source": [
    "### As 50.000 restantes vão para o novo conjunto de treinamento (menor)"
   ]
  },
  {
   "cell_type": "code",
   "execution_count": 5,
   "metadata": {
    "id": "MtTSlX3TaDqj"
   },
   "outputs": [],
   "source": [
    "train_images = ltrain_images[10000:]\n",
    "train_labels = ltrain_labels[10000:]"
   ]
  },
  {
   "cell_type": "code",
   "execution_count": 6,
   "metadata": {
    "colab": {
     "base_uri": "https://localhost:8080/"
    },
    "id": "pq1bMIRd38b8",
    "outputId": "68a696df-3d86-49b1-862d-84c438ffe169"
   },
   "outputs": [
    {
     "name": "stdout",
     "output_type": "stream",
     "text": [
      "(50000, 28, 28)\n",
      "(50000,)\n"
     ]
    }
   ],
   "source": [
    "print(train_images.shape)\n",
    "print(train_labels.shape)"
   ]
  },
  {
   "cell_type": "markdown",
   "metadata": {
    "id": "0-H0LwB_7von"
   },
   "source": [
    "## Pré-processamento dos dados\n",
    "\n",
    "Vamos aplicar normalização aos dados (i.e., atributos) dos três conjuntos.\n",
    "\n",
    "Como os valores dos pixels variam entre 0 e 255, basta dividí-los por 255.0 e o intervalo final ficará entre 0.0 e 1.0."
   ]
  },
  {
   "cell_type": "code",
   "execution_count": 8,
   "metadata": {
    "id": "uZrGVMsH0X3F"
   },
   "outputs": [],
   "source": [
    "train_images  = train_images / 255.0\n",
    "val_images = val_images / 255.0\n",
    "test_images = test_images / 255.0"
   ]
  },
  {
   "cell_type": "markdown",
   "metadata": {
    "id": "pYMsyOk8-xnf"
   },
   "source": [
    "## Definindo e compilando o modelo\n",
    "\n",
    "**Observação**: ao invés de passar uma **lista** com as camadas, vamos usar o método `add()` da classe `Sequential` para adicionar as camadas"
   ]
  },
  {
   "cell_type": "code",
   "execution_count": 9,
   "metadata": {
    "colab": {
     "base_uri": "https://localhost:8080/"
    },
    "id": "dEdoqWl28dB3",
    "outputId": "5d2009be-6305-4ee5-cc9f-50bd9c869246"
   },
   "outputs": [
    {
     "name": "stdout",
     "output_type": "stream",
     "text": [
      "Model: \"sequential\"\n",
      "_________________________________________________________________\n",
      " Layer (type)                Output Shape              Param #   \n",
      "=================================================================\n",
      " flatten (Flatten)           (None, 784)               0         \n",
      "                                                                 \n",
      " dense (Dense)               (None, 20)                15700     \n",
      "                                                                 \n",
      " dense_1 (Dense)             (None, 10)                210       \n",
      "                                                                 \n",
      "=================================================================\n",
      "Total params: 15,910\n",
      "Trainable params: 15,910\n",
      "Non-trainable params: 0\n",
      "_________________________________________________________________\n"
     ]
    }
   ],
   "source": [
    "# Definindo o modelo.\n",
    "model = tf.keras.models.Sequential()\n",
    "model.add(tf.keras.layers.Flatten(input_shape=(28, 28)))\n",
    "model.add(tf.keras.layers.Dense(20, activation='relu'))\n",
    "model.add(tf.keras.layers.Dense(10, activation='softmax'))\n",
    "\n",
    "# Resumo da rede neural.\n",
    "model.summary()"
   ]
  },
  {
   "cell_type": "markdown",
   "metadata": {
    "id": "dWH_kfJ2RPGc"
   },
   "source": [
    "### Compilando o modelo"
   ]
  },
  {
   "cell_type": "code",
   "execution_count": 10,
   "metadata": {
    "id": "NA21O9Y0_BJ7"
   },
   "outputs": [],
   "source": [
    "# Instanciando otimizador Adam.\n",
    "opt = tf.keras.optimizers.Adam(learning_rate=0.0001)\n",
    "\n",
    "# Compilando a rede neural.\n",
    "model.compile(\n",
    "    optimizer=opt,\n",
    "    loss='sparse_categorical_crossentropy',\n",
    "    metrics=['accuracy']\n",
    ")"
   ]
  },
  {
   "cell_type": "markdown",
   "metadata": {
    "id": "pJZ4fvT3_yd7"
   },
   "source": [
    "## Treinando o modelo."
   ]
  },
  {
   "cell_type": "code",
   "execution_count": 11,
   "metadata": {
    "colab": {
     "base_uri": "https://localhost:8080/"
    },
    "id": "RxklrX_R_uvn",
    "outputId": "8a5993c4-8a3d-45b7-dfcf-3c9c26de1a4c"
   },
   "outputs": [
    {
     "name": "stdout",
     "output_type": "stream",
     "text": [
      "Epoch 1/20\n",
      "1563/1563 [==============================] - 11s 4ms/step - loss: 0.3227 - accuracy: 0.9045 - val_loss: 0.2818 - val_accuracy: 0.9197\n",
      "Epoch 2/20\n",
      "1563/1563 [==============================] - 5s 3ms/step - loss: 0.2313 - accuracy: 0.9303 - val_loss: 0.2038 - val_accuracy: 0.9417\n",
      "Epoch 3/20\n",
      "1563/1563 [==============================] - 7s 4ms/step - loss: 0.2079 - accuracy: 0.9380 - val_loss: 0.2274 - val_accuracy: 0.9335\n",
      "Epoch 4/20\n",
      "1563/1563 [==============================] - 5s 3ms/step - loss: 0.1967 - accuracy: 0.9419 - val_loss: 0.2397 - val_accuracy: 0.9363\n",
      "Epoch 5/20\n",
      "1563/1563 [==============================] - 5s 3ms/step - loss: 0.1877 - accuracy: 0.9440 - val_loss: 0.2168 - val_accuracy: 0.9412\n",
      "Epoch 6/20\n",
      "1563/1563 [==============================] - 5s 3ms/step - loss: 0.1801 - accuracy: 0.9465 - val_loss: 0.2348 - val_accuracy: 0.9393\n",
      "Epoch 7/20\n",
      "1563/1563 [==============================] - 5s 3ms/step - loss: 0.1738 - accuracy: 0.9484 - val_loss: 0.2421 - val_accuracy: 0.9348\n",
      "Epoch 8/20\n",
      "1563/1563 [==============================] - 5s 3ms/step - loss: 0.1728 - accuracy: 0.9493 - val_loss: 0.2472 - val_accuracy: 0.9335\n",
      "Epoch 9/20\n",
      "1563/1563 [==============================] - 5s 3ms/step - loss: 0.1682 - accuracy: 0.9509 - val_loss: 0.2347 - val_accuracy: 0.9416\n",
      "Epoch 10/20\n",
      "1563/1563 [==============================] - 5s 3ms/step - loss: 0.1629 - accuracy: 0.9513 - val_loss: 0.2352 - val_accuracy: 0.9399\n",
      "Epoch 11/20\n",
      "1563/1563 [==============================] - 5s 3ms/step - loss: 0.1615 - accuracy: 0.9529 - val_loss: 0.2417 - val_accuracy: 0.9364\n",
      "Epoch 12/20\n",
      "1563/1563 [==============================] - 5s 3ms/step - loss: 0.1591 - accuracy: 0.9530 - val_loss: 0.2362 - val_accuracy: 0.9391\n",
      "Epoch 13/20\n",
      "1563/1563 [==============================] - 5s 3ms/step - loss: 0.1529 - accuracy: 0.9546 - val_loss: 0.2244 - val_accuracy: 0.9456\n",
      "Epoch 14/20\n",
      "1563/1563 [==============================] - 5s 3ms/step - loss: 0.1547 - accuracy: 0.9550 - val_loss: 0.2492 - val_accuracy: 0.9398\n",
      "Epoch 15/20\n",
      "1563/1563 [==============================] - 5s 3ms/step - loss: 0.1529 - accuracy: 0.9551 - val_loss: 0.2351 - val_accuracy: 0.9435\n",
      "Epoch 16/20\n",
      "1563/1563 [==============================] - 5s 3ms/step - loss: 0.1510 - accuracy: 0.9555 - val_loss: 0.2459 - val_accuracy: 0.9414\n",
      "Epoch 17/20\n",
      "1563/1563 [==============================] - 5s 3ms/step - loss: 0.1485 - accuracy: 0.9566 - val_loss: 0.2478 - val_accuracy: 0.9386\n",
      "Epoch 18/20\n",
      "1563/1563 [==============================] - 5s 4ms/step - loss: 0.1436 - accuracy: 0.9580 - val_loss: 0.2332 - val_accuracy: 0.9471\n",
      "Epoch 19/20\n",
      "1563/1563 [==============================] - 5s 3ms/step - loss: 0.1464 - accuracy: 0.9572 - val_loss: 0.2442 - val_accuracy: 0.9435\n",
      "Epoch 20/20\n",
      "1563/1563 [==============================] - 5s 4ms/step - loss: 0.1425 - accuracy: 0.9593 - val_loss: 0.2609 - val_accuracy: 0.9431\n"
     ]
    }
   ],
   "source": [
    "history = model.fit(\n",
    "    train_images,\n",
    "    train_labels,\n",
    "    epochs=20,\n",
    "    validation_data=(val_images, val_labels)\n",
    ")"
   ]
  },
  {
   "cell_type": "markdown",
   "metadata": {
    "id": "0xAXSo5-HCIo"
   },
   "source": [
    "### Inspecionando os resultados obtidos ao longo do treinamento"
   ]
  },
  {
   "cell_type": "code",
   "execution_count": 12,
   "metadata": {
    "colab": {
     "base_uri": "https://localhost:8080/",
     "height": 474
    },
    "id": "g6qHpwg8BpZi",
    "outputId": "40d4345f-26c1-49b2-bcb4-9560c093de47"
   },
   "outputs": [
    {
     "data": {
      "image/png": "[encoded data removed]",
      "text/plain": [
       "<Figure size 640x480 with 1 Axes>"
      ]
     },
     "metadata": {},
     "output_type": "display_data"
    }
   ],
   "source": [
    "plt.plot(history.history['accuracy'], label='Train')\n",
    "plt.plot(history.history['val_accuracy'], label='Val')\n",
    "plt.title('Acurácia do modelo')\n",
    "plt.ylabel('Acurácia')\n",
    "plt.xlabel('Época')\n",
    "plt.legend(loc='upper left')\n",
    "plt.xticks(range(20))\n",
    "plt.grid()\n",
    "plt.show()"
   ]
  },
  {
   "cell_type": "markdown",
   "metadata": {
    "id": "JYHTdEJVH0tZ"
   },
   "source": [
    "## Testando o modelo treinado nos três conjuntos\n"
   ]
  },
  {
   "cell_type": "code",
   "execution_count": 15,
   "metadata": {
    "colab": {
     "base_uri": "https://localhost:8080/"
    },
    "id": "QBuJGqbSH6xT",
    "outputId": "e40fe505-0377-4535-95be-e5c81ad2b784"
   },
   "outputs": [
    {
     "name": "stdout",
     "output_type": "stream",
     "text": [
      "1563/1563 [==============================] - 4s 3ms/step - loss: 0.1958 - accuracy: 0.9459\n"
     ]
    },
    {
     "data": {
      "text/plain": [
       "[0.19579695165157318, 0.945900022983551]"
      ]
     },
     "execution_count": 15,
     "metadata": {},
     "output_type": "execute_result"
    }
   ],
   "source": [
    "model.evaluate(train_images, train_labels)"
   ]
  },
  {
   "cell_type": "code",
   "execution_count": 16,
   "metadata": {
    "colab": {
     "base_uri": "https://localhost:8080/"
    },
    "id": "kvv19U6BbYeF",
    "outputId": "fdef9cd2-1306-4879-a28c-8f42e0c8cb36"
   },
   "outputs": [
    {
     "name": "stdout",
     "output_type": "stream",
     "text": [
      "313/313 [==============================] - 1s 2ms/step - loss: 0.2138 - accuracy: 0.9407\n"
     ]
    },
    {
     "data": {
      "text/plain": [
       "[0.21378742158412933, 0.9406999945640564]"
      ]
     },
     "execution_count": 16,
     "metadata": {},
     "output_type": "execute_result"
    }
   ],
   "source": [
    "model.evaluate(val_images, val_labels)"
   ]
  },
  {
   "cell_type": "code",
   "execution_count": 17,
   "metadata": {
    "colab": {
     "base_uri": "https://localhost:8080/"
    },
    "id": "bKgtMK9IbaYC",
    "outputId": "bf3f79ad-a3ce-4663-b1e6-c486ba97ed80"
   },
   "outputs": [
    {
     "name": "stdout",
     "output_type": "stream",
     "text": [
      "313/313 [==============================] - 1s 2ms/step - loss: 0.2048 - accuracy: 0.9414\n"
     ]
    },
    {
     "data": {
      "text/plain": [
       "[0.20484086871147156, 0.9413999915122986]"
      ]
     },
     "execution_count": 17,
     "metadata": {},
     "output_type": "execute_result"
    }
   ],
   "source": [
    "model.evaluate(test_images, test_labels)"
   ]
  },
  {
   "cell_type": "markdown",
   "metadata": {},
   "source": [
    "## Reporte de classificação e matriz de confusão\n",
    "\n",
    "Vamos usar o conjunto de teste."
   ]
  },
  {
   "cell_type": "code",
   "execution_count": null,
   "metadata": {},
   "outputs": [],
   "source": [
    "# Importando as funções que usaremos.\n",
    "from sklearn.metrics import classification_report, confusion_matrix\n",
    "\n",
    "# Realizando predições com o conjunto de teste.\n",
    "predictions = model.predict(test_images)\n",
    "predictions = np.argmax(predictions, axis=-1)\n",
    "\n",
    "# Imprime o reporte de classificação.\n",
    "print(classification_report(test_labels, predictions))"
   ]
  },
  {
   "cell_type": "markdown",
   "metadata": {},
   "source": [
    "#### Observações:\n",
    "\n",
    "+ `macro avg` dá média aritmética **simples** das métricas para cada classe.\n",
    "    + Ela atribui o mesmo peso para cada classe, independentemente do número de amostras em cada uma delas. \n",
    "\n",
    "\n",
    "+ `weighted avg` dá média aritmética **ponderada** das métricas para cada classe.\n",
    "    + Ela atribui pesos diferentes para cada classe, levando em consideração o número de amostras em cada uma delas.\n",
    "    + Assim, classes com mais amostras tem uma contribuição maior no cálculo da métrica.\n",
    "    \n",
    "    \n",
    "+ `weighted avg` é útil quando as classes são desbalanceadas, ou seja, quando algumas classes têm um número muito maior de amostras do que outras.\n",
    "\n",
    "\n",
    "+ `macro avg` é útil quando as classes são balanceadas, ou seja, quando todas as classes têm aproximadamente o mesmo número de amostras."
   ]
  },
  {
   "cell_type": "markdown",
   "metadata": {},
   "source": [
    "### Instalando a biblioteca seaborn\n",
    "\n",
    "Seaborn é uma biblioteca de visualização de dados baseada na biblioteca matplotlib."
   ]
  },
  {
   "cell_type": "code",
   "execution_count": null,
   "metadata": {},
   "outputs": [],
   "source": [
    "# Plot the confusion matrix.\n",
    "mat = confusion_matrix(test_labels, predictions)\n",
    "sns.heatmap(mat.T, square=True, annot=True, fmt='d', cbar=False, cmap=\"Blues\")\n",
    "plt.xlabel('true label')\n",
    "plt.ylabel('predicted label')\n",
    "plt.show()"
   ]
  }
 ],
 "metadata": {
  "accelerator": "GPU",
  "colab": {
   "provenance": []
  },
  "kernelspec": {
   "display_name": "Python 3 (ipykernel)",
   "language": "python",
   "name": "python3"
  },
  "language_info": {
   "codemirror_mode": {
    "name": "ipython",
    "version": 3
   },
   "file_extension": ".py",
   "mimetype": "text/x-python",
   "name": "python",
   "nbconvert_exporter": "python",
   "pygments_lexer": "ipython3",
   "version": "3.10.9"
  }
 },
 "nbformat": 4,
 "nbformat_minor": 1
}
