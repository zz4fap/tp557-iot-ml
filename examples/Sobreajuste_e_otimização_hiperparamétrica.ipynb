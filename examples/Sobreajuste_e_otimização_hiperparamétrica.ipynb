{
  "cells": [
    {
      "cell_type": "markdown",
      "metadata": {
        "id": "21HL_zD-Y2Ga"
      },
      "source": [
        "# Sobreajuste e otimização hiperparamétrica\n",
        "\n"
      ]
    },
    {
      "cell_type": "markdown",
      "source": [
        "## Importanto as bibliotecas"
      ],
      "metadata": {
        "id": "cqbJBKw8Eevw"
      }
    },
    {
      "cell_type": "code",
      "source": [
        "# TensorFlow\n",
        "import tensorflow as tf\n",
        "\n",
        "# Bibliotecas Auxiliares\n",
        "import numpy as np\n",
        "import matplotlib.pyplot as plt\n",
        "import seaborn as sns\n",
        "\n",
        "# Instalando o KerasTuner.\n",
        "!pip install keras-tuner --upgrade\n",
        "\n",
        "# Importanda a biblioteca KerasTuner.\n",
        "import keras_tuner as kt"
      ],
      "metadata": {
        "colab": {
          "base_uri": "https://localhost:8080/"
        },
        "id": "uXT1kF7ZEd2d",
        "outputId": "75f9298d-d0d5-4a20-86fb-90a5374a8bd3"
      },
      "execution_count": null,
      "outputs": [
        {
          "output_type": "stream",
          "name": "stdout",
          "text": [
            "Collecting keras-tuner\n",
            "  Downloading keras_tuner-1.4.0-py3-none-any.whl (126 kB)\n",
            "\u001b[2K     \u001b[90m━━━━━━━━━━━━━━━━━━━━━━━━━━━━━━━━━━━━━━━\u001b[0m \u001b[32m126.8/126.8 kB\u001b[0m \u001b[31m2.7 MB/s\u001b[0m eta \u001b[36m0:00:00\u001b[0m\n",
            "\u001b[?25hCollecting keras-core (from keras-tuner)\n",
            "  Downloading keras_core-0.1.7-py3-none-any.whl (950 kB)\n",
            "\u001b[2K     \u001b[90m━━━━━━━━━━━━━━━━━━━━━━━━━━━━━━━━━━━━━━━\u001b[0m \u001b[32m950.8/950.8 kB\u001b[0m \u001b[31m8.0 MB/s\u001b[0m eta \u001b[36m0:00:00\u001b[0m\n",
            "\u001b[?25hRequirement already satisfied: packaging in /usr/local/lib/python3.10/dist-packages (from keras-tuner) (23.1)\n",
            "Requirement already satisfied: requests in /usr/local/lib/python3.10/dist-packages (from keras-tuner) (2.31.0)\n",
            "Collecting kt-legacy (from keras-tuner)\n",
            "  Downloading kt_legacy-1.0.5-py3-none-any.whl (9.6 kB)\n",
            "Requirement already satisfied: absl-py in /usr/local/lib/python3.10/dist-packages (from keras-core->keras-tuner) (1.4.0)\n",
            "Requirement already satisfied: numpy in /usr/local/lib/python3.10/dist-packages (from keras-core->keras-tuner) (1.23.5)\n",
            "Requirement already satisfied: rich in /usr/local/lib/python3.10/dist-packages (from keras-core->keras-tuner) (13.5.2)\n",
            "Collecting namex (from keras-core->keras-tuner)\n",
            "  Downloading namex-0.0.7-py3-none-any.whl (5.8 kB)\n",
            "Requirement already satisfied: h5py in /usr/local/lib/python3.10/dist-packages (from keras-core->keras-tuner) (3.9.0)\n",
            "Requirement already satisfied: dm-tree in /usr/local/lib/python3.10/dist-packages (from keras-core->keras-tuner) (0.1.8)\n",
            "Requirement already satisfied: charset-normalizer<4,>=2 in /usr/local/lib/python3.10/dist-packages (from requests->keras-tuner) (3.2.0)\n",
            "Requirement already satisfied: idna<4,>=2.5 in /usr/local/lib/python3.10/dist-packages (from requests->keras-tuner) (3.4)\n",
            "Requirement already satisfied: urllib3<3,>=1.21.1 in /usr/local/lib/python3.10/dist-packages (from requests->keras-tuner) (2.0.4)\n",
            "Requirement already satisfied: certifi>=2017.4.17 in /usr/local/lib/python3.10/dist-packages (from requests->keras-tuner) (2023.7.22)\n",
            "Requirement already satisfied: markdown-it-py>=2.2.0 in /usr/local/lib/python3.10/dist-packages (from rich->keras-core->keras-tuner) (3.0.0)\n",
            "Requirement already satisfied: pygments<3.0.0,>=2.13.0 in /usr/local/lib/python3.10/dist-packages (from rich->keras-core->keras-tuner) (2.16.1)\n",
            "Requirement already satisfied: mdurl~=0.1 in /usr/local/lib/python3.10/dist-packages (from markdown-it-py>=2.2.0->rich->keras-core->keras-tuner) (0.1.2)\n",
            "Installing collected packages: namex, kt-legacy, keras-core, keras-tuner\n",
            "Successfully installed keras-core-0.1.7 keras-tuner-1.4.0 kt-legacy-1.0.5 namex-0.0.7\n",
            "Using TensorFlow backend\n"
          ]
        }
      ]
    },
    {
      "cell_type": "markdown",
      "metadata": {
        "id": "nov-CJlfY2Gn"
      },
      "source": [
        "## Baixando e normalizando os dados.\n",
        "\n",
        "Utilizaremos a base de dados conhecida como CIFAR10. Ela possui 60.000 imagens **coloridas** com dimensão $32 \\times 32 \\times 3$, ou seja, elas têm 3 dimensões (ou canais), uma para cada uma das três cores, RGB (vermelho, verde e azul).\n",
        "\n",
        "Usaremos 50.000 imagens para treinamento e 10.000 imagens para validação. As imagens pertencem a 10 classes, as quais são listadas abaixo.\n",
        "\n",
        "| Rótulo |  Descrição |\n",
        "|:------:|:----------:|\n",
        "|    0   |  airplane  |\n",
        "|    1   | automobile |\n",
        "|    2   |    bird    |\n",
        "|    3   |     cat    |\n",
        "|    4   |    deer    |\n",
        "|    5   |     dog    |\n",
        "|    6   |    frog    |\n",
        "|    7   |    horse   |\n",
        "|    8   |    ship    |\n",
        "|    9   |    truck   |\n"
      ]
    },
    {
      "cell_type": "code",
      "execution_count": null,
      "metadata": {
        "colab": {
          "base_uri": "https://localhost:8080/"
        },
        "id": "syIYbkj-Y2Go",
        "outputId": "d72d8091-2eca-4d1c-911b-6023c2c7206a"
      },
      "outputs": [
        {
          "output_type": "stream",
          "name": "stdout",
          "text": [
            "Downloading data from https://www.cs.toronto.edu/~kriz/cifar-10-python.tar.gz\n",
            "170498071/170498071 [==============================] - 4s 0us/step\n"
          ]
        }
      ],
      "source": [
        "# Download the dataset.\n",
        "(train_images, train_labels), (test_images, test_labels) = tf.keras.datasets.cifar10.load_data()\n",
        "\n",
        "# Reshaping the label arrays.\n",
        "train_labels = train_labels.reshape(-1,)\n",
        "test_labels = test_labels.reshape(-1,)\n",
        "\n",
        "# Defining the class names.\n",
        "class_names = ['airplane', 'automobile', 'bird', 'cat', 'deer', 'dog', 'frog', 'horse', 'ship', 'truck']\n",
        "\n",
        "# Scaling.\n",
        "train_images = train_images / 255.0\n",
        "test_images = test_images / 255.0"
      ]
    },
    {
      "cell_type": "markdown",
      "metadata": {
        "id": "k6YN2FyOY2Gu"
      },
      "source": [
        "## Criando, configurando e treinando uma rede neural convolucional"
      ]
    },
    {
      "cell_type": "code",
      "execution_count": null,
      "metadata": {
        "id": "TuavsTHqY2G5",
        "colab": {
          "base_uri": "https://localhost:8080/"
        },
        "outputId": "856dbcc6-0f9c-4645-e809-e305c29c516b"
      },
      "outputs": [
        {
          "output_type": "stream",
          "name": "stdout",
          "text": [
            "Epoch 1/100\n",
            "782/782 [==============================] - 25s 10ms/step - loss: 1.5004 - accuracy: 0.4452 - val_loss: 1.1391 - val_accuracy: 0.5861\n",
            "Epoch 2/100\n",
            "782/782 [==============================] - 7s 9ms/step - loss: 0.9706 - accuracy: 0.6555 - val_loss: 0.9159 - val_accuracy: 0.6857\n",
            "Epoch 3/100\n",
            "782/782 [==============================] - 7s 9ms/step - loss: 0.7435 - accuracy: 0.7386 - val_loss: 0.7170 - val_accuracy: 0.7550\n",
            "Epoch 4/100\n",
            "782/782 [==============================] - 6s 8ms/step - loss: 0.5969 - accuracy: 0.7913 - val_loss: 0.7713 - val_accuracy: 0.7420\n",
            "Epoch 5/100\n",
            "782/782 [==============================] - 7s 9ms/step - loss: 0.4751 - accuracy: 0.8322 - val_loss: 0.7567 - val_accuracy: 0.7474\n",
            "Epoch 6/100\n",
            "782/782 [==============================] - 7s 8ms/step - loss: 0.3792 - accuracy: 0.8655 - val_loss: 0.7431 - val_accuracy: 0.7698\n",
            "Epoch 7/100\n",
            "782/782 [==============================] - 7s 9ms/step - loss: 0.2818 - accuracy: 0.8993 - val_loss: 0.8723 - val_accuracy: 0.7557\n",
            "Epoch 8/100\n",
            "782/782 [==============================] - 7s 9ms/step - loss: 0.2181 - accuracy: 0.9243 - val_loss: 0.8560 - val_accuracy: 0.7716\n",
            "Epoch 9/100\n",
            "782/782 [==============================] - 7s 9ms/step - loss: 0.1720 - accuracy: 0.9402 - val_loss: 0.9719 - val_accuracy: 0.7641\n",
            "Epoch 10/100\n",
            "782/782 [==============================] - 7s 9ms/step - loss: 0.1560 - accuracy: 0.9457 - val_loss: 1.0900 - val_accuracy: 0.7659\n",
            "Epoch 11/100\n",
            "782/782 [==============================] - 7s 9ms/step - loss: 0.1284 - accuracy: 0.9572 - val_loss: 1.1040 - val_accuracy: 0.7648\n",
            "Epoch 12/100\n",
            "782/782 [==============================] - 7s 9ms/step - loss: 0.1183 - accuracy: 0.9602 - val_loss: 1.2106 - val_accuracy: 0.7571\n",
            "Epoch 13/100\n",
            "782/782 [==============================] - 7s 9ms/step - loss: 0.0989 - accuracy: 0.9668 - val_loss: 1.2515 - val_accuracy: 0.7588\n",
            "Epoch 14/100\n",
            "782/782 [==============================] - 7s 9ms/step - loss: 0.1057 - accuracy: 0.9648 - val_loss: 1.2455 - val_accuracy: 0.7654\n",
            "Epoch 15/100\n",
            "782/782 [==============================] - 7s 9ms/step - loss: 0.0977 - accuracy: 0.9675 - val_loss: 1.3241 - val_accuracy: 0.7673\n",
            "Epoch 16/100\n",
            "782/782 [==============================] - 7s 9ms/step - loss: 0.0899 - accuracy: 0.9711 - val_loss: 1.3240 - val_accuracy: 0.7571\n",
            "Epoch 17/100\n",
            "782/782 [==============================] - 7s 8ms/step - loss: 0.0884 - accuracy: 0.9707 - val_loss: 1.3317 - val_accuracy: 0.7594\n",
            "Epoch 18/100\n",
            "782/782 [==============================] - 7s 9ms/step - loss: 0.0912 - accuracy: 0.9705 - val_loss: 1.4395 - val_accuracy: 0.7619\n",
            "Epoch 19/100\n",
            "782/782 [==============================] - 7s 9ms/step - loss: 0.0887 - accuracy: 0.9720 - val_loss: 1.3637 - val_accuracy: 0.7587\n",
            "Epoch 20/100\n",
            "782/782 [==============================] - 7s 9ms/step - loss: 0.0831 - accuracy: 0.9736 - val_loss: 1.4506 - val_accuracy: 0.7506\n",
            "Epoch 21/100\n",
            "782/782 [==============================] - 7s 8ms/step - loss: 0.0738 - accuracy: 0.9767 - val_loss: 1.6150 - val_accuracy: 0.7619\n",
            "Epoch 22/100\n",
            "782/782 [==============================] - 7s 9ms/step - loss: 0.0831 - accuracy: 0.9733 - val_loss: 1.5123 - val_accuracy: 0.7637\n",
            "Epoch 23/100\n",
            "782/782 [==============================] - 7s 8ms/step - loss: 0.0846 - accuracy: 0.9736 - val_loss: 1.6807 - val_accuracy: 0.7549\n",
            "Epoch 24/100\n",
            "782/782 [==============================] - 7s 9ms/step - loss: 0.0775 - accuracy: 0.9756 - val_loss: 1.5231 - val_accuracy: 0.7546\n",
            "Epoch 25/100\n",
            "782/782 [==============================] - 7s 8ms/step - loss: 0.0743 - accuracy: 0.9773 - val_loss: 1.4773 - val_accuracy: 0.7598\n",
            "Epoch 26/100\n",
            "782/782 [==============================] - 7s 9ms/step - loss: 0.0700 - accuracy: 0.9781 - val_loss: 1.6083 - val_accuracy: 0.7553\n",
            "Epoch 27/100\n",
            "782/782 [==============================] - 7s 9ms/step - loss: 0.0661 - accuracy: 0.9791 - val_loss: 1.6082 - val_accuracy: 0.7537\n",
            "Epoch 28/100\n",
            "782/782 [==============================] - 7s 9ms/step - loss: 0.0755 - accuracy: 0.9760 - val_loss: 1.7207 - val_accuracy: 0.7570\n",
            "Epoch 29/100\n",
            "782/782 [==============================] - 7s 8ms/step - loss: 0.0672 - accuracy: 0.9795 - val_loss: 1.7416 - val_accuracy: 0.7414\n",
            "Epoch 30/100\n",
            "782/782 [==============================] - 7s 9ms/step - loss: 0.0684 - accuracy: 0.9794 - val_loss: 1.6498 - val_accuracy: 0.7622\n",
            "Epoch 31/100\n",
            "782/782 [==============================] - 7s 9ms/step - loss: 0.0707 - accuracy: 0.9794 - val_loss: 1.8453 - val_accuracy: 0.7427\n",
            "Epoch 32/100\n",
            "782/782 [==============================] - 7s 9ms/step - loss: 0.0648 - accuracy: 0.9798 - val_loss: 1.8507 - val_accuracy: 0.7568\n",
            "Epoch 33/100\n",
            "782/782 [==============================] - 7s 9ms/step - loss: 0.0686 - accuracy: 0.9796 - val_loss: 1.6137 - val_accuracy: 0.7564\n",
            "Epoch 34/100\n",
            "782/782 [==============================] - 7s 8ms/step - loss: 0.0668 - accuracy: 0.9803 - val_loss: 1.6721 - val_accuracy: 0.7573\n",
            "Epoch 35/100\n",
            "782/782 [==============================] - 7s 9ms/step - loss: 0.0614 - accuracy: 0.9816 - val_loss: 1.9808 - val_accuracy: 0.7513\n",
            "Epoch 36/100\n",
            "782/782 [==============================] - 7s 9ms/step - loss: 0.0661 - accuracy: 0.9802 - val_loss: 1.7899 - val_accuracy: 0.7534\n",
            "Epoch 37/100\n",
            "782/782 [==============================] - 7s 9ms/step - loss: 0.0635 - accuracy: 0.9811 - val_loss: 1.8348 - val_accuracy: 0.7615\n",
            "Epoch 38/100\n",
            "782/782 [==============================] - 7s 9ms/step - loss: 0.0631 - accuracy: 0.9810 - val_loss: 1.7431 - val_accuracy: 0.7596\n",
            "Epoch 39/100\n",
            "782/782 [==============================] - 7s 9ms/step - loss: 0.0607 - accuracy: 0.9820 - val_loss: 2.0128 - val_accuracy: 0.7543\n",
            "Epoch 40/100\n",
            "782/782 [==============================] - 7s 9ms/step - loss: 0.0663 - accuracy: 0.9806 - val_loss: 1.9370 - val_accuracy: 0.7490\n",
            "Epoch 41/100\n",
            "782/782 [==============================] - 7s 9ms/step - loss: 0.0640 - accuracy: 0.9818 - val_loss: 1.7622 - val_accuracy: 0.7584\n",
            "Epoch 42/100\n",
            "782/782 [==============================] - 7s 9ms/step - loss: 0.0598 - accuracy: 0.9824 - val_loss: 1.7738 - val_accuracy: 0.7612\n",
            "Epoch 43/100\n",
            "782/782 [==============================] - 7s 9ms/step - loss: 0.0616 - accuracy: 0.9816 - val_loss: 1.7923 - val_accuracy: 0.7475\n",
            "Epoch 44/100\n",
            "782/782 [==============================] - 7s 9ms/step - loss: 0.0582 - accuracy: 0.9836 - val_loss: 1.7514 - val_accuracy: 0.7520\n",
            "Epoch 45/100\n",
            "782/782 [==============================] - 7s 9ms/step - loss: 0.0694 - accuracy: 0.9793 - val_loss: 2.0059 - val_accuracy: 0.7490\n",
            "Epoch 46/100\n",
            "782/782 [==============================] - 7s 9ms/step - loss: 0.0566 - accuracy: 0.9841 - val_loss: 1.7596 - val_accuracy: 0.7592\n",
            "Epoch 47/100\n",
            "782/782 [==============================] - 7s 9ms/step - loss: 0.0719 - accuracy: 0.9806 - val_loss: 1.8543 - val_accuracy: 0.7495\n",
            "Epoch 48/100\n",
            "782/782 [==============================] - 7s 9ms/step - loss: 0.0538 - accuracy: 0.9843 - val_loss: 1.9539 - val_accuracy: 0.7529\n",
            "Epoch 49/100\n",
            "782/782 [==============================] - 7s 9ms/step - loss: 0.0678 - accuracy: 0.9811 - val_loss: 1.9258 - val_accuracy: 0.7423\n",
            "Epoch 50/100\n",
            "782/782 [==============================] - 7s 9ms/step - loss: 0.0570 - accuracy: 0.9831 - val_loss: 1.8595 - val_accuracy: 0.7546\n",
            "Epoch 51/100\n",
            "782/782 [==============================] - 7s 9ms/step - loss: 0.0653 - accuracy: 0.9818 - val_loss: 2.0081 - val_accuracy: 0.7531\n",
            "Epoch 52/100\n",
            "782/782 [==============================] - 7s 9ms/step - loss: 0.0547 - accuracy: 0.9842 - val_loss: 2.0797 - val_accuracy: 0.7521\n",
            "Epoch 53/100\n",
            "782/782 [==============================] - 7s 9ms/step - loss: 0.0710 - accuracy: 0.9814 - val_loss: 1.8387 - val_accuracy: 0.7547\n",
            "Epoch 54/100\n",
            "782/782 [==============================] - 7s 9ms/step - loss: 0.0442 - accuracy: 0.9871 - val_loss: 2.1686 - val_accuracy: 0.7508\n",
            "Epoch 55/100\n",
            "782/782 [==============================] - 7s 9ms/step - loss: 0.0683 - accuracy: 0.9814 - val_loss: 1.9351 - val_accuracy: 0.7580\n",
            "Epoch 56/100\n",
            "782/782 [==============================] - 7s 9ms/step - loss: 0.0609 - accuracy: 0.9829 - val_loss: 2.0791 - val_accuracy: 0.7536\n",
            "Epoch 57/100\n",
            "782/782 [==============================] - 7s 9ms/step - loss: 0.0506 - accuracy: 0.9862 - val_loss: 2.0508 - val_accuracy: 0.7557\n",
            "Epoch 58/100\n",
            "782/782 [==============================] - 7s 9ms/step - loss: 0.0685 - accuracy: 0.9825 - val_loss: 2.0340 - val_accuracy: 0.7560\n",
            "Epoch 59/100\n",
            "782/782 [==============================] - 7s 9ms/step - loss: 0.0606 - accuracy: 0.9835 - val_loss: 2.1455 - val_accuracy: 0.7518\n",
            "Epoch 60/100\n",
            "782/782 [==============================] - 7s 9ms/step - loss: 0.0532 - accuracy: 0.9853 - val_loss: 2.0084 - val_accuracy: 0.7628\n",
            "Epoch 61/100\n",
            "782/782 [==============================] - 7s 9ms/step - loss: 0.0569 - accuracy: 0.9847 - val_loss: 2.0457 - val_accuracy: 0.7622\n",
            "Epoch 62/100\n",
            "782/782 [==============================] - 7s 9ms/step - loss: 0.0580 - accuracy: 0.9849 - val_loss: 2.1977 - val_accuracy: 0.7485\n",
            "Epoch 63/100\n",
            "782/782 [==============================] - 7s 9ms/step - loss: 0.0545 - accuracy: 0.9850 - val_loss: 2.1348 - val_accuracy: 0.7508\n",
            "Epoch 64/100\n",
            "782/782 [==============================] - 7s 9ms/step - loss: 0.0536 - accuracy: 0.9856 - val_loss: 2.1519 - val_accuracy: 0.7629\n",
            "Epoch 65/100\n",
            "782/782 [==============================] - 7s 9ms/step - loss: 0.0601 - accuracy: 0.9845 - val_loss: 2.1615 - val_accuracy: 0.7411\n",
            "Epoch 66/100\n",
            "782/782 [==============================] - 7s 8ms/step - loss: 0.0559 - accuracy: 0.9847 - val_loss: 2.0747 - val_accuracy: 0.7468\n",
            "Epoch 67/100\n",
            "782/782 [==============================] - 7s 9ms/step - loss: 0.0541 - accuracy: 0.9855 - val_loss: 2.0971 - val_accuracy: 0.7559\n",
            "Epoch 68/100\n",
            "782/782 [==============================] - 7s 8ms/step - loss: 0.0567 - accuracy: 0.9853 - val_loss: 2.1082 - val_accuracy: 0.7309\n",
            "Epoch 69/100\n",
            "782/782 [==============================] - 7s 9ms/step - loss: 0.0705 - accuracy: 0.9819 - val_loss: 2.1127 - val_accuracy: 0.7570\n",
            "Epoch 70/100\n",
            "782/782 [==============================] - 7s 9ms/step - loss: 0.0545 - accuracy: 0.9864 - val_loss: 2.2385 - val_accuracy: 0.7581\n",
            "Epoch 71/100\n",
            "782/782 [==============================] - 7s 9ms/step - loss: 0.0514 - accuracy: 0.9863 - val_loss: 2.0921 - val_accuracy: 0.7605\n",
            "Epoch 72/100\n",
            "782/782 [==============================] - 7s 9ms/step - loss: 0.0570 - accuracy: 0.9857 - val_loss: 2.2236 - val_accuracy: 0.7550\n",
            "Epoch 73/100\n",
            "782/782 [==============================] - 7s 9ms/step - loss: 0.0539 - accuracy: 0.9860 - val_loss: 2.0569 - val_accuracy: 0.7608\n",
            "Epoch 74/100\n",
            "782/782 [==============================] - 7s 9ms/step - loss: 0.0518 - accuracy: 0.9865 - val_loss: 2.4427 - val_accuracy: 0.7515\n",
            "Epoch 75/100\n",
            "782/782 [==============================] - 7s 9ms/step - loss: 0.0622 - accuracy: 0.9845 - val_loss: 2.0456 - val_accuracy: 0.7521\n",
            "Epoch 76/100\n",
            "782/782 [==============================] - 7s 9ms/step - loss: 0.0485 - accuracy: 0.9886 - val_loss: 2.0698 - val_accuracy: 0.7531\n",
            "Epoch 77/100\n",
            "782/782 [==============================] - 7s 9ms/step - loss: 0.0506 - accuracy: 0.9865 - val_loss: 2.1639 - val_accuracy: 0.7665\n",
            "Epoch 78/100\n",
            "782/782 [==============================] - 7s 9ms/step - loss: 0.0693 - accuracy: 0.9836 - val_loss: 2.0903 - val_accuracy: 0.7411\n",
            "Epoch 79/100\n",
            "782/782 [==============================] - 7s 8ms/step - loss: 0.0480 - accuracy: 0.9874 - val_loss: 2.2705 - val_accuracy: 0.7563\n",
            "Epoch 80/100\n",
            "782/782 [==============================] - 7s 9ms/step - loss: 0.0546 - accuracy: 0.9863 - val_loss: 2.1141 - val_accuracy: 0.7521\n",
            "Epoch 81/100\n",
            "782/782 [==============================] - 7s 8ms/step - loss: 0.0493 - accuracy: 0.9865 - val_loss: 2.1765 - val_accuracy: 0.7556\n",
            "Epoch 82/100\n",
            "782/782 [==============================] - 7s 9ms/step - loss: 0.0521 - accuracy: 0.9868 - val_loss: 2.1330 - val_accuracy: 0.7493\n",
            "Epoch 83/100\n",
            "782/782 [==============================] - 7s 9ms/step - loss: 0.0443 - accuracy: 0.9887 - val_loss: 2.4093 - val_accuracy: 0.7541\n",
            "Epoch 84/100\n",
            "782/782 [==============================] - 7s 9ms/step - loss: 0.0566 - accuracy: 0.9853 - val_loss: 2.5503 - val_accuracy: 0.7444\n",
            "Epoch 85/100\n",
            "782/782 [==============================] - 7s 8ms/step - loss: 0.0563 - accuracy: 0.9856 - val_loss: 2.1891 - val_accuracy: 0.7506\n",
            "Epoch 86/100\n",
            "782/782 [==============================] - 7s 9ms/step - loss: 0.0428 - accuracy: 0.9892 - val_loss: 2.1822 - val_accuracy: 0.7573\n",
            "Epoch 87/100\n",
            "782/782 [==============================] - 7s 9ms/step - loss: 0.0507 - accuracy: 0.9878 - val_loss: 2.5062 - val_accuracy: 0.7546\n",
            "Epoch 88/100\n",
            "782/782 [==============================] - 7s 9ms/step - loss: 0.0501 - accuracy: 0.9880 - val_loss: 2.2635 - val_accuracy: 0.7469\n",
            "Epoch 89/100\n",
            "782/782 [==============================] - 7s 9ms/step - loss: 0.0627 - accuracy: 0.9850 - val_loss: 2.1812 - val_accuracy: 0.7608\n",
            "Epoch 90/100\n",
            "782/782 [==============================] - 7s 9ms/step - loss: 0.0415 - accuracy: 0.9896 - val_loss: 2.1661 - val_accuracy: 0.7486\n",
            "Epoch 91/100\n",
            "782/782 [==============================] - 7s 9ms/step - loss: 0.0419 - accuracy: 0.9892 - val_loss: 2.2506 - val_accuracy: 0.7516\n",
            "Epoch 92/100\n",
            "782/782 [==============================] - 7s 9ms/step - loss: 0.0527 - accuracy: 0.9869 - val_loss: 2.3005 - val_accuracy: 0.7543\n",
            "Epoch 93/100\n",
            "782/782 [==============================] - 7s 9ms/step - loss: 0.0410 - accuracy: 0.9895 - val_loss: 2.2791 - val_accuracy: 0.7528\n",
            "Epoch 94/100\n",
            "782/782 [==============================] - 7s 9ms/step - loss: 0.0550 - accuracy: 0.9870 - val_loss: 2.2605 - val_accuracy: 0.7557\n",
            "Epoch 95/100\n",
            "782/782 [==============================] - 7s 9ms/step - loss: 0.0434 - accuracy: 0.9898 - val_loss: 2.0186 - val_accuracy: 0.7631\n",
            "Epoch 96/100\n",
            "782/782 [==============================] - 7s 8ms/step - loss: 0.0442 - accuracy: 0.9895 - val_loss: 2.2587 - val_accuracy: 0.7513\n",
            "Epoch 97/100\n",
            "782/782 [==============================] - 7s 9ms/step - loss: 0.0534 - accuracy: 0.9865 - val_loss: 1.9660 - val_accuracy: 0.7506\n",
            "Epoch 98/100\n",
            "782/782 [==============================] - 7s 9ms/step - loss: 0.0443 - accuracy: 0.9888 - val_loss: 2.2770 - val_accuracy: 0.7432\n",
            "Epoch 99/100\n",
            "782/782 [==============================] - 7s 9ms/step - loss: 0.0471 - accuracy: 0.9883 - val_loss: 2.1066 - val_accuracy: 0.7590\n",
            "Epoch 100/100\n",
            "782/782 [==============================] - 7s 9ms/step - loss: 0.0398 - accuracy: 0.9895 - val_loss: 2.1562 - val_accuracy: 0.7548\n"
          ]
        }
      ],
      "source": [
        "# Define VGG model.\n",
        "model = tf.keras.Sequential([\n",
        "    tf.keras.layers.Conv2D(filters=32, kernel_size=(3, 3), activation='relu', padding='same', input_shape=(32, 32, 3)),\n",
        "    tf.keras.layers.Conv2D(filters=32, kernel_size=(3, 3), activation='relu', padding='same'),\n",
        "    tf.keras.layers.MaxPooling2D(pool_size=(2, 2)),\n",
        "    tf.keras.layers.Conv2D(filters=64, kernel_size=(3, 3), activation='relu', padding='same'),\n",
        "    tf.keras.layers.Conv2D(filters=64, kernel_size=(3, 3), activation='relu', padding='same'),\n",
        "    tf.keras.layers.MaxPooling2D(pool_size=(2, 2)),\n",
        "    tf.keras.layers.Conv2D(filters=128, kernel_size=(3, 3), activation='relu', padding='same'),\n",
        "    tf.keras.layers.Conv2D(filters=128,kernel_size=(3, 3), activation='relu', padding='same'),\n",
        "    tf.keras.layers.MaxPooling2D(pool_size=(2, 2)),\n",
        "    tf.keras.layers.Flatten(),\n",
        "    tf.keras.layers.Dense(units=1024, activation='relu', kernel_initializer='he_uniform'),\n",
        "    tf.keras.layers.Dense(units=512, activation='relu', kernel_initializer='he_uniform'),\n",
        "    tf.keras.layers.Dense(units=10, activation='softmax')\n",
        "])\n",
        "\n",
        "# Compile the defined model.\n",
        "model.compile(loss='sparse_categorical_crossentropy',\n",
        "              optimizer='adam',\n",
        "              metrics=['accuracy'])\n",
        "\n",
        "# Train the VGG model.\n",
        "history = model.fit(train_images, train_labels, batch_size=64, validation_data=(test_images, test_labels), epochs=100)"
      ]
    },
    {
      "cell_type": "markdown",
      "metadata": {
        "id": "G4l28-IXY2HG"
      },
      "source": [
        "## Plotando os erros e acurácias de treinamento e validação em função das épocas de treinamento.\n"
      ]
    },
    {
      "cell_type": "code",
      "execution_count": null,
      "metadata": {
        "id": "HMiASJPHY2HH",
        "colab": {
          "base_uri": "https://localhost:8080/",
          "height": 573
        },
        "outputId": "1a16265d-6a17-47aa-e010-7e27aacae7bf"
      },
      "outputs": [
        {
          "output_type": "display_data",
          "data": {
            "text/plain": [
              "<Figure size 800x600 with 1 Axes>"
            ],
            "image/png": "[encoded data removed]"
          },
          "metadata": {}
        }
      ],
      "source": [
        "plt.figure(figsize=(8, 6))\n",
        "plt.plot(history.history['loss'])\n",
        "plt.plot(history.history['val_loss'])\n",
        "plt.xlabel('Época', fontsize=14)\n",
        "plt.legend(['Train', 'Val'], fontsize=14)\n",
        "plt.title('Loss', fontsize=14)\n",
        "plt.grid()\n",
        "plt.show()"
      ]
    },
    {
      "cell_type": "code",
      "execution_count": null,
      "metadata": {
        "id": "n-tkZEA3uMYn",
        "colab": {
          "base_uri": "https://localhost:8080/",
          "height": 573
        },
        "outputId": "a14ff693-7934-4f75-8a74-21bb7df1f0f0"
      },
      "outputs": [
        {
          "output_type": "display_data",
          "data": {
            "text/plain": [
              "<Figure size 800x600 with 1 Axes>"
            ],
            "image/png": "[encoded data removed]"
          },
          "metadata": {}
        }
      ],
      "source": [
        "plt.figure(figsize=(8, 6))\n",
        "plt.plot(history.history['accuracy'])\n",
        "plt.plot(history.history['val_accuracy'])\n",
        "plt.xlabel('Época', fontsize=14)\n",
        "plt.legend(['Train', 'Val'], fontsize=14)\n",
        "plt.title('Acurácia', fontsize=14)\n",
        "plt.grid()\n",
        "plt.show()"
      ]
    },
    {
      "cell_type": "markdown",
      "source": [
        "**Observação**\n",
        "\n",
        "Nitidamente, o modelo está se sobreajustando aos dados."
      ],
      "metadata": {
        "id": "RsIgv2RoFyKn"
      }
    },
    {
      "cell_type": "markdown",
      "metadata": {
        "id": "uKH9wisKvIUz"
      },
      "source": [
        "## Otimização hiperparamétrica"
      ]
    },
    {
      "cell_type": "code",
      "execution_count": null,
      "metadata": {
        "id": "GvzZ0ndOe4Q-"
      },
      "outputs": [],
      "source": [
        "def build_model(hp):\n",
        "\n",
        "    # Cria o modelo sequêncial.\n",
        "    model = tf.keras.Sequential()\n",
        "\n",
        "    # Number of convolutional layers.\n",
        "    numOfConvLayers = hp.Choice('numOfConvLayers', range(1, 11))\n",
        "\n",
        "    # Seleciona o número de camadas densas.\n",
        "    numOfDenseLayers = hp.Choice('numOfDenseLayers', range(0, 3))\n",
        "\n",
        "    # Seleciona o tmanho dos filtros.\n",
        "    filterSize = hp.Choice('filterSize', [8, 16, 32, 64])\n",
        "\n",
        "    # Seleciona a função de ativação.\n",
        "    activation = hp.Choice('activation', ['relu', 'tanh'])\n",
        "\n",
        "    # Seleciona o otimizador.\n",
        "    optimizer = hp.Choice('optimizer', ['sgd', 'adam', 'nadam'])\n",
        "\n",
        "    # Seleciona o kernel size.\n",
        "    kernelSize = hp.Choice('kernelSize', [2, 4, 6])\n",
        "\n",
        "    # Adiciona camadas convolucionais.\n",
        "    for i in range(numOfConvLayers):\n",
        "        if(i==0):\n",
        "            model.add(tf.keras.layers.Conv2D(filters=filterSize, kernel_size=kernelSize, activation=activation, padding='same', input_shape=(32, 32, 3)))\n",
        "        else:\n",
        "            model.add(tf.keras.layers.Conv2D(filters=filterSize*(i+1), kernel_size=kernelSize, activation=activation, padding='same'))\n",
        "        if(i % 2 != 0):\n",
        "            model.add(tf.keras.layers.MaxPooling2D(pool_size=(2, 2)))\n",
        "\n",
        "    # Adiciona camada de achatamento.\n",
        "    model.add(tf.keras.layers.Flatten())\n",
        "\n",
        "    # Adiciona camadas densas.\n",
        "    for i in range(numOfDenseLayers):\n",
        "        numberOfNodes = hp.Choice('numberOfNodes', [1024, 512, 256, 128, 64])\n",
        "        model.add(tf.keras.layers.Dense(units=numberOfNodes//(i+1), activation=activation, kernel_initializer='he_uniform'))\n",
        "\n",
        "    # Adiciona a camada de saída.\n",
        "    model.add(tf.keras.layers.Dense(units=10, activation='softmax'))\n",
        "\n",
        "    # Compile the defined model.\n",
        "    model.compile(loss='sparse_categorical_crossentropy',\n",
        "                  optimizer=optimizer,\n",
        "                  metrics=['accuracy'])\n",
        "\n",
        "    # Retorna o modelo.\n",
        "    return model"
      ]
    },
    {
      "cell_type": "markdown",
      "source": [
        "### Usando otimização bayesiana para encontrar os melhores hiperparâmetros.\n",
        "\n",
        "A otimização bayesiana é uma técnica utilizada no contexto de otimização de hiperparâmetros, como a seleção dos melhores hiperparâmetros para um modelo de aprendizado de máquina. No Keras Tuner, a otimização bayesiana é uma das estratégias de busca que você pode escolher para encontrar os melhores hiperparâmetros para o seu modelo.\n",
        "\n",
        "A otimização bayesiana funciona explorando de forma eficiente o espaço de hiperparâmetros por meio de um processo probabilístico. Em vez de testar todas as combinações possíveis de hiperparâmetros, que pode ser demorado e computacionalmente caro, a otimização bayesiana mantém uma distribuição de probabilidade das funções objetivas (por exemplo, a precisão do modelo) e usa essa distribuição para decidir quais configurações de hiperparâmetros devem ser avaliadas em seguida.\n",
        "\n",
        "A ideia principal por trás da otimização bayesiana é encontrar um equilíbrio entre a *exploration* (tentar diferentes configurações de hiperparâmetros) e a *exploitation* (focar nas configurações de hiperparâmetros que têm a maior probabilidade de levar a melhores resultados).\n",
        "\n",
        "À medida que mais avaliações de modelos são feitas, a distribuição de probabilidade é atualizada, permitindo que a otimização bayesiana refine progressivamente sua busca em direção às melhores configurações de hiperparâmetros."
      ],
      "metadata": {
        "id": "kD5fyA1MGTDY"
      }
    },
    {
      "cell_type": "code",
      "execution_count": null,
      "metadata": {
        "id": "MkUGeY5ue4Q-"
      },
      "outputs": [],
      "source": [
        "# Instanciando um objeto da classe BayesianOptimization.\n",
        "tuner = kt.BayesianOptimization(\n",
        "    build_model,\n",
        "    objective='val_loss',\n",
        "    max_trials=50\n",
        ")"
      ]
    },
    {
      "cell_type": "code",
      "execution_count": null,
      "metadata": {
        "colab": {
          "base_uri": "https://localhost:8080/"
        },
        "id": "U9NupIoDe4Q-",
        "outputId": "cc97a957-0fd6-4ae6-e96f-f2d4587e43a8"
      },
      "outputs": [
        {
          "output_type": "stream",
          "name": "stdout",
          "text": [
            "Trial 10 Complete [00h 03m 36s]\n",
            "val_loss: 1.155137062072754\n",
            "\n",
            "Best val_loss So Far: 0.7357670664787292\n",
            "Total elapsed time: 01h 23m 43s\n",
            "\n",
            "Search: Running Trial #11\n",
            "\n",
            "Value             |Best Value So Far |Hyperparameter\n",
            "5                 |6                 |numOfConvLayers\n",
            "0                 |2                 |numOfDenseLayers\n",
            "32                |32                |filterSize\n",
            "relu              |relu              |activation\n",
            "sgd               |adam              |optimizer\n",
            "3                 |2                 |kernelSize\n",
            "256               |512               |numberOfNodes\n",
            "\n",
            "Epoch 1/50\n",
            "782/782 [==============================] - 10s 11ms/step - loss: 2.1008 - accuracy: 0.2320 - val_loss: 1.8782 - val_accuracy: 0.3293\n",
            "Epoch 2/50\n",
            "782/782 [==============================] - 8s 10ms/step - loss: 1.7589 - accuracy: 0.3756 - val_loss: 2.2016 - val_accuracy: 0.2582\n",
            "Epoch 3/50\n",
            "782/782 [==============================] - 8s 10ms/step - loss: 1.5455 - accuracy: 0.4491 - val_loss: 1.4813 - val_accuracy: 0.4601\n",
            "Epoch 4/50\n",
            "782/782 [==============================] - 9s 11ms/step - loss: 1.4139 - accuracy: 0.4981 - val_loss: 1.5164 - val_accuracy: 0.4597\n",
            "Epoch 5/50\n",
            "782/782 [==============================] - 8s 10ms/step - loss: 1.3211 - accuracy: 0.5321 - val_loss: 1.3040 - val_accuracy: 0.5288\n",
            "Epoch 6/50\n",
            "782/782 [==============================] - 8s 10ms/step - loss: 1.2408 - accuracy: 0.5617 - val_loss: 1.3367 - val_accuracy: 0.5087\n",
            "Epoch 7/50\n",
            "782/782 [==============================] - 8s 11ms/step - loss: 1.1631 - accuracy: 0.5922 - val_loss: 1.5556 - val_accuracy: 0.4657\n",
            "Epoch 8/50\n",
            "782/782 [==============================] - 8s 10ms/step - loss: 1.0903 - accuracy: 0.6197 - val_loss: 1.2742 - val_accuracy: 0.5602\n",
            "Epoch 9/50\n",
            "782/782 [==============================] - 8s 10ms/step - loss: 1.0280 - accuracy: 0.6421 - val_loss: 1.1249 - val_accuracy: 0.6028\n",
            "Epoch 10/50\n",
            "782/782 [==============================] - 8s 10ms/step - loss: 0.9668 - accuracy: 0.6644 - val_loss: 1.2730 - val_accuracy: 0.5606\n",
            "Epoch 11/50\n",
            "782/782 [==============================] - 8s 10ms/step - loss: 0.9093 - accuracy: 0.6855 - val_loss: 1.0792 - val_accuracy: 0.6193\n",
            "Epoch 12/50\n",
            "782/782 [==============================] - 8s 10ms/step - loss: 0.8559 - accuracy: 0.7031 - val_loss: 1.0069 - val_accuracy: 0.6512\n",
            "Epoch 13/50\n",
            "782/782 [==============================] - 8s 10ms/step - loss: 0.8070 - accuracy: 0.7197 - val_loss: 1.1468 - val_accuracy: 0.6084\n",
            "Epoch 14/50\n",
            "782/782 [==============================] - 8s 10ms/step - loss: 0.7580 - accuracy: 0.7375 - val_loss: 1.0011 - val_accuracy: 0.6593\n",
            "Epoch 15/50\n",
            "782/782 [==============================] - 8s 10ms/step - loss: 0.7114 - accuracy: 0.7536 - val_loss: 1.0730 - val_accuracy: 0.6431\n",
            "Epoch 16/50\n",
            "782/782 [==============================] - 8s 10ms/step - loss: 0.6669 - accuracy: 0.7690 - val_loss: 2.0731 - val_accuracy: 0.4902\n",
            "Epoch 17/50\n",
            "782/782 [==============================] - 8s 10ms/step - loss: 0.6282 - accuracy: 0.7825 - val_loss: 1.2342 - val_accuracy: 0.6226\n",
            "Epoch 18/50\n",
            "782/782 [==============================] - 8s 10ms/step - loss: 0.5812 - accuracy: 0.7971 - val_loss: 1.3427 - val_accuracy: 0.5880\n",
            "Epoch 19/50\n",
            "782/782 [==============================] - 8s 10ms/step - loss: 0.5386 - accuracy: 0.8134 - val_loss: 1.0060 - val_accuracy: 0.6793\n",
            "Epoch 20/50\n",
            "782/782 [==============================] - 9s 11ms/step - loss: 0.4967 - accuracy: 0.8280 - val_loss: 1.1444 - val_accuracy: 0.6464\n",
            "Epoch 21/50\n",
            "416/782 [==============>...............] - ETA: 3s - loss: 0.4334 - accuracy: 0.8506"
          ]
        }
      ],
      "source": [
        "stop_early = tf.keras.callbacks.EarlyStopping(monitor='val_loss', patience=15)\n",
        "\n",
        "tuner.search(\n",
        "    train_images, train_labels,\n",
        "    validation_data=(test_images, test_labels),\n",
        "    batch_size=64,\n",
        "    epochs=50,\n",
        "    callbacks=[stop_early]\n",
        ")"
      ]
    },
    {
      "cell_type": "code",
      "execution_count": null,
      "metadata": {
        "id": "zAsm6WVie4Q-"
      },
      "outputs": [],
      "source": [
        "tuner.results_summary()"
      ]
    }
  ],
  "metadata": {
    "accelerator": "GPU",
    "colab": {
      "provenance": []
    },
    "kernelspec": {
      "display_name": "Python 3 (ipykernel)",
      "language": "python",
      "name": "python3"
    },
    "language_info": {
      "codemirror_mode": {
        "name": "ipython",
        "version": 3
      },
      "file_extension": ".py",
      "mimetype": "text/x-python",
      "name": "python",
      "nbconvert_exporter": "python",
      "pygments_lexer": "ipython3",
      "version": "3.10.9"
    }
  },
  "nbformat": 4,
  "nbformat_minor": 0
}