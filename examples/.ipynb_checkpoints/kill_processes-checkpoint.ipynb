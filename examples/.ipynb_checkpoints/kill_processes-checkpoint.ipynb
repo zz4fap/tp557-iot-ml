{
 "cells": [
  {
   "cell_type": "code",
   "execution_count": null,
   "id": "9068e62e",
   "metadata": {},
   "outputs": [],
   "source": [
    "!nvidia-smi"
   ]
  },
  {
   "cell_type": "code",
   "execution_count": null,
   "id": "52c22992",
   "metadata": {},
   "outputs": [],
   "source": [
    "import psutil\n",
    "pid_to_kill = 45288                                                                      \n",
    "process = psutil.Process(pid_to_kill)\n",
    "    \n",
    "# Encerra o processo\n",
    "process.terminate()"
   ]
  }
 ],
 "metadata": {
  "kernelspec": {
   "display_name": "Python 3 (ipykernel)",
   "language": "python",
   "name": "python3"
  },
  "language_info": {
   "codemirror_mode": {
    "name": "ipython",
    "version": 3
   },
   "file_extension": ".py",
   "mimetype": "text/x-python",
   "name": "python",
   "nbconvert_exporter": "python",
   "pygments_lexer": "ipython3",
   "version": "3.10.9"
  }
 },
 "nbformat": 4,
 "nbformat_minor": 5
}
