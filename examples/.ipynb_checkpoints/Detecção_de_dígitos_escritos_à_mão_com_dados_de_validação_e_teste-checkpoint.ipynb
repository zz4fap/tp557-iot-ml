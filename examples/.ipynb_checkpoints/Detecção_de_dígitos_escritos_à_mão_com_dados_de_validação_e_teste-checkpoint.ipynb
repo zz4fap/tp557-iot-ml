{
 "cells": [
  {
   "cell_type": "markdown",
   "metadata": {
    "id": "Zo2JiEtkzvQL"
   },
   "source": [
    "# Detecção de dígitos escritos à mão com dados de validação e teste"
   ]
  },
  {
   "cell_type": "markdown",
   "metadata": {
    "id": "ZLLenukpg6VN"
   },
   "source": [
    "**Observação**: Verifiquem se o uso de GPU está habilitado."
   ]
  },
  {
   "cell_type": "markdown",
   "metadata": {
    "id": "z56YN3JZ0Duh"
   },
   "source": [
    "## Importando as bibliotecas"
   ]
  },
  {
   "cell_type": "code",
   "execution_count": 1,
   "metadata": {
    "id": "YfPnR74Gzc_q"
   },
   "outputs": [],
   "source": [
    "import numpy as np\n",
    "import matplotlib.pyplot as plt\n",
    "import tensorflow as tf"
   ]
  },
  {
   "cell_type": "markdown",
   "metadata": {
    "id": "xrGLDV6q0PCc"
   },
   "source": [
    "## Baixando o conjunto de dados MNIST\n",
    "\n",
    "\n",
    "O conjunto de dados MNIST de dígitos manuscritos, pode ser baixado com o [TF](https://www.tensorflow.org/api_docs/python/tf/keras/datasets/mnist/load_data).\n",
    "\n",
    "O conjunto contém imagens 28x28 pixels em tons de cinza dos 10 dígitos (0-9).\n",
    "Ele possui um conjunto de treinamento com 60.000 imagens e um conjunto de teste com 10.000."
   ]
  },
  {
   "cell_type": "code",
   "execution_count": 2,
   "metadata": {
    "colab": {
     "base_uri": "https://localhost:8080/"
    },
    "id": "Ib2Ihepx0N6h",
    "outputId": "46df5f21-dcfe-4c5c-8cc2-c81f7d6947d7"
   },
   "outputs": [],
   "source": [
    "(ltrain_images, ltrain_labels), (test_images, test_labels) = tf.keras.datasets.mnist.load_data()"
   ]
  },
  {
   "cell_type": "markdown",
   "metadata": {
    "id": "nxTp8fjIKxAk"
   },
   "source": [
    "## Dividindo em o conjunto original de treinamento em um conjunto de treinamento menor e um conjunto de validação"
   ]
  },
  {
   "cell_type": "markdown",
   "metadata": {
    "id": "c-5RfO0PLghj"
   },
   "source": [
    "### Separamos as primeiras 10.000 imagens para o conjunto de validação."
   ]
  },
  {
   "cell_type": "code",
   "execution_count": 3,
   "metadata": {
    "id": "u_e88OtBak7n"
   },
   "outputs": [],
   "source": [
    "val_images = ltrain_images[:10000]\n",
    "val_labels = ltrain_labels[:10000]"
   ]
  },
  {
   "cell_type": "code",
   "execution_count": 4,
   "metadata": {
    "colab": {
     "base_uri": "https://localhost:8080/"
    },
    "id": "hcuDlGmVLz2k",
    "outputId": "043abd02-19eb-4318-e040-4020f34bc396"
   },
   "outputs": [
    {
     "name": "stdout",
     "output_type": "stream",
     "text": [
      "(10000, 28, 28)\n",
      "(10000,)\n"
     ]
    }
   ],
   "source": [
    "print(val_images.shape)\n",
    "print(val_labels.shape)"
   ]
  },
  {
   "cell_type": "markdown",
   "metadata": {
    "id": "lyE6KB2oLqpB"
   },
   "source": [
    "### As 50.000 restantes vão para o novo conjunto de treinamento (menor)"
   ]
  },
  {
   "cell_type": "code",
   "execution_count": 5,
   "metadata": {
    "id": "MtTSlX3TaDqj"
   },
   "outputs": [],
   "source": [
    "train_images = ltrain_images[10000:]\n",
    "train_labels = ltrain_labels[10000:]"
   ]
  },
  {
   "cell_type": "code",
   "execution_count": 6,
   "metadata": {
    "colab": {
     "base_uri": "https://localhost:8080/"
    },
    "id": "pq1bMIRd38b8",
    "outputId": "68a696df-3d86-49b1-862d-84c438ffe169"
   },
   "outputs": [
    {
     "name": "stdout",
     "output_type": "stream",
     "text": [
      "(50000, 28, 28)\n",
      "(50000,)\n"
     ]
    }
   ],
   "source": [
    "print(train_images.shape)\n",
    "print(train_labels.shape)"
   ]
  },
  {
   "cell_type": "markdown",
   "metadata": {
    "id": "X5lPYHAjLEPb"
   },
   "source": [
    "### Analisando o balanceamento das classes."
   ]
  },
  {
   "cell_type": "code",
   "execution_count": 7,
   "metadata": {
    "colab": {
     "base_uri": "https://localhost:8080/",
     "height": 454
    },
    "id": "8N4sFgGLaXYQ",
    "outputId": "31312ae5-0a66-490b-eb0d-d4a6264a09f1"
   },
   "outputs": [
    {
     "data": {
      "image/png": "[encoded data removed]",
      "text/plain": [
       "<Figure size 640x480 with 1 Axes>"
      ]
     },
     "metadata": {},
     "output_type": "display_data"
    }
   ],
   "source": [
    "plt.hist(train_labels, alpha=0.5, label='Train')\n",
    "plt.hist(test_labels, alpha=0.5, label='Val')\n",
    "plt.hist(val_labels, alpha=0.5, label='Test')\n",
    "plt.xticks(range(10))\n",
    "plt.xlabel('Classes', fontsize=14)\n",
    "plt.ylabel('Quantidade', fontsize=14)\n",
    "plt.grid()\n",
    "plt.show()"
   ]
  },
  {
   "cell_type": "markdown",
   "metadata": {
    "id": "fjUTFsz8OmU6"
   },
   "source": [
    "**Observação**\n",
    "\n",
    "As classes estão razoavelmente equilibradas (i.e., balanceadas).\n",
    "\n",
    "Isso é muito importante para que a rede não **veja** mais exemplos de uma classe do que outra, pois isso pode levá-la a ficar muito melhor naquela classe com maior quantidade de exemplos de treinamento do que nas outras."
   ]
  },
  {
   "cell_type": "markdown",
   "metadata": {
    "id": "0-H0LwB_7von"
   },
   "source": [
    "## Pré-processamento dos dados\n",
    "\n",
    "Vamos aplicar normalização aos dados (i.e., atributos) dos três conjuntos.\n",
    "\n",
    "Como os valores dos pixels variam entre 0 e 255, basta dividí-los por 255.0 e o intervalo final ficará entre 0.0 e 1.0."
   ]
  },
  {
   "cell_type": "code",
   "execution_count": 8,
   "metadata": {
    "id": "uZrGVMsH0X3F"
   },
   "outputs": [],
   "source": [
    "train_images  = train_images / 255.0\n",
    "val_images = val_images / 255.0\n",
    "test_images = test_images / 255.0"
   ]
  },
  {
   "cell_type": "markdown",
   "metadata": {
    "id": "pYMsyOk8-xnf"
   },
   "source": [
    "## Definindo e compilando o modelo\n",
    "\n",
    "**Observação**: ao invés de passar uma **lista** com as camadas, vamos usar o método `add()` da classe `Sequential` para adicionar as camadas"
   ]
  },
  {
   "cell_type": "code",
   "execution_count": 9,
   "metadata": {
    "colab": {
     "base_uri": "https://localhost:8080/"
    },
    "id": "dEdoqWl28dB3",
    "outputId": "5d2009be-6305-4ee5-cc9f-50bd9c869246"
   },
   "outputs": [
    {
     "name": "stdout",
     "output_type": "stream",
     "text": [
      "Model: \"sequential\"\n",
      "_________________________________________________________________\n",
      " Layer (type)                Output Shape              Param #   \n",
      "=================================================================\n",
      " flatten (Flatten)           (None, 784)               0         \n",
      "                                                                 \n",
      " dense (Dense)               (None, 20)                15700     \n",
      "                                                                 \n",
      " dense_1 (Dense)             (None, 10)                210       \n",
      "                                                                 \n",
      "=================================================================\n",
      "Total params: 15,910\n",
      "Trainable params: 15,910\n",
      "Non-trainable params: 0\n",
      "_________________________________________________________________\n"
     ]
    }
   ],
   "source": [
    "# Definindo o modelo.\n",
    "model = tf.keras.models.Sequential()\n",
    "model.add(tf.keras.layers.Flatten(input_shape=(28, 28)))\n",
    "model.add(tf.keras.layers.Dense(20, activation='relu'))\n",
    "model.add(tf.keras.layers.Dense(10, activation='softmax'))\n",
    "\n",
    "# Resumo da rede neural.\n",
    "model.summary()"
   ]
  },
  {
   "cell_type": "markdown",
   "metadata": {
    "id": "dWH_kfJ2RPGc"
   },
   "source": [
    "### Compilando o modelo\n",
    "\n",
    "Quando passamos a *string* `adam` para o parâmetro `optimizer`do método `compile`, por padrão, o otimizador `adam` usa um taxa de aprendizado de 0.001,\n",
    "\n",
    "Porém, no caso deste exemplo, para ilustrar um problema que podemos encontrar durante o treinamento de redes neurais, queremos aumentá-lo para 0.01.\n",
    "\n",
    "Para alterar o valor, devemos instanciar um objeto da classe `Adam` e especificar o valor que queremos para a taxa de aprendizagem através do parâmetro `learning_rate`."
   ]
  },
  {
   "cell_type": "code",
   "execution_count": 10,
   "metadata": {
    "id": "NA21O9Y0_BJ7"
   },
   "outputs": [],
   "source": [
    "# Instanciando otimizador Adam.\n",
    "opt = tf.keras.optimizers.Adam(learning_rate=0.01)\n",
    "\n",
    "# Compilando a rede neural.\n",
    "model.compile(\n",
    "    optimizer=opt,\n",
    "    loss='sparse_categorical_crossentropy',\n",
    "    metrics=['accuracy']\n",
    ")"
   ]
  },
  {
   "cell_type": "markdown",
   "metadata": {
    "id": "pJZ4fvT3_yd7"
   },
   "source": [
    "## Treinando o modelo."
   ]
  },
  {
   "cell_type": "markdown",
   "metadata": {
    "id": "jL6QDHJnGDm6"
   },
   "source": [
    "Passamos para o treinamento do modelo além do conjunto de treinamento, o conjunto de validação. Isso é feito através do parâmetro `validation_data`. \n",
    "\n",
    "Poderíamos deixar o conjunto de treinamento com todas as amostras e, alternativamente, usar:\n",
    "- `validation_split=0.1` em vez de `validation_data=(val_images, val_labels)`.\n",
    "\n",
    "Neste caso, o TensorFlow dividiria o conjunto original de treinamento em conjuntos de treinamento e validação automaticamente se baseando na porcentagem passada.\n",
    "\n",
    "**Observação:** Notem que durante o treinamento, como passamos um conjunto de validação, os resultados impressos mostram a perda e a acurácia para ambos os conjuntos."
   ]
  },
  {
   "cell_type": "code",
   "execution_count": 11,
   "metadata": {
    "colab": {
     "base_uri": "https://localhost:8080/"
    },
    "id": "RxklrX_R_uvn",
    "outputId": "8a5993c4-8a3d-45b7-dfcf-3c9c26de1a4c"
   },
   "outputs": [
    {
     "name": "stdout",
     "output_type": "stream",
     "text": [
      "Epoch 1/20\n",
      "1563/1563 [==============================] - 6s 3ms/step - loss: 0.3236 - accuracy: 0.9064 - val_loss: 0.2395 - val_accuracy: 0.9306\n",
      "Epoch 2/20\n",
      "1563/1563 [==============================] - 4s 3ms/step - loss: 0.2349 - accuracy: 0.9313 - val_loss: 0.2749 - val_accuracy: 0.9186\n",
      "Epoch 3/20\n",
      "1563/1563 [==============================] - 4s 3ms/step - loss: 0.2141 - accuracy: 0.9381 - val_loss: 0.2354 - val_accuracy: 0.9329\n",
      "Epoch 4/20\n",
      "1563/1563 [==============================] - 4s 3ms/step - loss: 0.2057 - accuracy: 0.9404 - val_loss: 0.2156 - val_accuracy: 0.9395\n",
      "Epoch 5/20\n",
      "1563/1563 [==============================] - 4s 3ms/step - loss: 0.1964 - accuracy: 0.9416 - val_loss: 0.2131 - val_accuracy: 0.9394\n",
      "Epoch 6/20\n",
      "1563/1563 [==============================] - 4s 3ms/step - loss: 0.1912 - accuracy: 0.9438 - val_loss: 0.2481 - val_accuracy: 0.9352\n",
      "Epoch 7/20\n",
      "1563/1563 [==============================] - 4s 3ms/step - loss: 0.1887 - accuracy: 0.9452 - val_loss: 0.2245 - val_accuracy: 0.9448\n",
      "Epoch 8/20\n",
      "1563/1563 [==============================] - 4s 3ms/step - loss: 0.1823 - accuracy: 0.9460 - val_loss: 0.2236 - val_accuracy: 0.9412\n",
      "Epoch 9/20\n",
      "1563/1563 [==============================] - 4s 3ms/step - loss: 0.1787 - accuracy: 0.9473 - val_loss: 0.2413 - val_accuracy: 0.9341\n",
      "Epoch 10/20\n",
      "1563/1563 [==============================] - 4s 3ms/step - loss: 0.1752 - accuracy: 0.9484 - val_loss: 0.2427 - val_accuracy: 0.9366\n",
      "Epoch 11/20\n",
      "1563/1563 [==============================] - 4s 3ms/step - loss: 0.1726 - accuracy: 0.9487 - val_loss: 0.2515 - val_accuracy: 0.9369\n",
      "Epoch 12/20\n",
      "1563/1563 [==============================] - 4s 3ms/step - loss: 0.1711 - accuracy: 0.9483 - val_loss: 0.2276 - val_accuracy: 0.9434\n",
      "Epoch 13/20\n",
      "1563/1563 [==============================] - 4s 3ms/step - loss: 0.1656 - accuracy: 0.9505 - val_loss: 0.2481 - val_accuracy: 0.9391\n",
      "Epoch 14/20\n",
      "1563/1563 [==============================] - 4s 3ms/step - loss: 0.1621 - accuracy: 0.9518 - val_loss: 0.2490 - val_accuracy: 0.9390\n",
      "Epoch 15/20\n",
      "1563/1563 [==============================] - 4s 3ms/step - loss: 0.1621 - accuracy: 0.9519 - val_loss: 0.2643 - val_accuracy: 0.9399\n",
      "Epoch 16/20\n",
      "1563/1563 [==============================] - 4s 3ms/step - loss: 0.1556 - accuracy: 0.9530 - val_loss: 0.2728 - val_accuracy: 0.9354\n",
      "Epoch 17/20\n",
      "1563/1563 [==============================] - 4s 3ms/step - loss: 0.1547 - accuracy: 0.9541 - val_loss: 0.2338 - val_accuracy: 0.9448\n",
      "Epoch 18/20\n",
      "1563/1563 [==============================] - 4s 3ms/step - loss: 0.1533 - accuracy: 0.9544 - val_loss: 0.2672 - val_accuracy: 0.9388\n",
      "Epoch 19/20\n",
      "1563/1563 [==============================] - 4s 3ms/step - loss: 0.1535 - accuracy: 0.9537 - val_loss: 0.2575 - val_accuracy: 0.9420\n",
      "Epoch 20/20\n",
      "1563/1563 [==============================] - 4s 3ms/step - loss: 0.1471 - accuracy: 0.9561 - val_loss: 0.2869 - val_accuracy: 0.9366\n"
     ]
    }
   ],
   "source": [
    "history = model.fit(\n",
    "    train_images,\n",
    "    train_labels,\n",
    "    epochs=20,\n",
    "    validation_data=(val_images, val_labels)\n",
    ")"
   ]
  },
  {
   "cell_type": "markdown",
   "metadata": {
    "id": "JHonIaNT6Qaw"
   },
   "source": [
    "**Observação**\n",
    "\n",
    "Os valores da perda e da acurácia nos dois conjuntos praticamente nunca serão iguais.\n",
    "\n",
    "Porém, nosso objetivo é encontrar uma arquitetura que faça com que ambos fiquem o mais próximo possível.\n",
    "\n",
    "Valores próximos são um sinal de que a rede neural é boa em generalizar e que não está se especializando demais nos dados de treinamento (i.e., sobreajuste)."
   ]
  },
  {
   "cell_type": "markdown",
   "metadata": {
    "id": "0xAXSo5-HCIo"
   },
   "source": [
    "### Inspecionando os resultados obtidos ao longo do treinamento"
   ]
  },
  {
   "cell_type": "code",
   "execution_count": 12,
   "metadata": {
    "colab": {
     "base_uri": "https://localhost:8080/",
     "height": 474
    },
    "id": "g6qHpwg8BpZi",
    "outputId": "40d4345f-26c1-49b2-bcb4-9560c093de47"
   },
   "outputs": [
    {
     "data": {
      "image/png": "[encoded data removed]",
      "text/plain": [
       "<Figure size 640x480 with 1 Axes>"
      ]
     },
     "metadata": {},
     "output_type": "display_data"
    }
   ],
   "source": [
    "plt.plot(history.history['accuracy'], label='Train')\n",
    "plt.plot(history.history['val_accuracy'], label='Val')\n",
    "plt.title('Acurácia do modelo')\n",
    "plt.ylabel('Acurácia')\n",
    "plt.xlabel('Época')\n",
    "plt.legend(loc='upper left')\n",
    "plt.xticks(range(20))\n",
    "plt.grid()\n",
    "plt.show()"
   ]
  },
  {
   "cell_type": "markdown",
   "metadata": {
    "id": "CF1jssVyel8D"
   },
   "source": [
    "**Observações**\n",
    "\n",
    "A acurácia de validação está bastante instável, oscilando muito.\n",
    "\n",
    "Nesse caso, o que pode estar acontecendo é que a taxa de aprendizado esteja alta demais.\n",
    "\n",
    "Para tentar contornar isso, devemos reduzí-la.\n",
    "\n",
    "Vamos começar de novo com um `learning_rate` mais baixo (por exemplo: 0.0001)"
   ]
  },
  {
   "cell_type": "code",
   "execution_count": 13,
   "metadata": {
    "colab": {
     "base_uri": "https://localhost:8080/"
    },
    "id": "21HE2qcnbMCf",
    "outputId": "daa4f893-b6a9-43f8-e4fd-a3e6f0d80ba5",
    "scrolled": false
   },
   "outputs": [
    {
     "name": "stdout",
     "output_type": "stream",
     "text": [
      "Epoch 1/20\n",
      "1563/1563 [==============================] - 4s 3ms/step - loss: 1.1323 - accuracy: 0.6961 - val_loss: 0.5824 - val_accuracy: 0.8602\n",
      "Epoch 2/20\n",
      "1563/1563 [==============================] - 4s 3ms/step - loss: 0.4874 - accuracy: 0.8754 - val_loss: 0.4081 - val_accuracy: 0.8927\n",
      "Epoch 3/20\n",
      "1563/1563 [==============================] - 4s 3ms/step - loss: 0.3864 - accuracy: 0.8944 - val_loss: 0.3525 - val_accuracy: 0.9041\n",
      "Epoch 4/20\n",
      "1563/1563 [==============================] - 4s 3ms/step - loss: 0.3456 - accuracy: 0.9035 - val_loss: 0.3264 - val_accuracy: 0.9091\n",
      "Epoch 5/20\n",
      "1563/1563 [==============================] - 4s 3ms/step - loss: 0.3225 - accuracy: 0.9092 - val_loss: 0.3086 - val_accuracy: 0.9138\n",
      "Epoch 6/20\n",
      "1563/1563 [==============================] - 4s 3ms/step - loss: 0.3071 - accuracy: 0.9135 - val_loss: 0.2981 - val_accuracy: 0.9150\n",
      "Epoch 7/20\n",
      "1563/1563 [==============================] - 4s 3ms/step - loss: 0.2960 - accuracy: 0.9161 - val_loss: 0.2890 - val_accuracy: 0.9179\n",
      "Epoch 8/20\n",
      "1563/1563 [==============================] - 4s 3ms/step - loss: 0.2869 - accuracy: 0.9187 - val_loss: 0.2817 - val_accuracy: 0.9198\n",
      "Epoch 9/20\n",
      "1563/1563 [==============================] - 4s 3ms/step - loss: 0.2793 - accuracy: 0.9208 - val_loss: 0.2789 - val_accuracy: 0.9203\n",
      "Epoch 10/20\n",
      "1563/1563 [==============================] - 4s 3ms/step - loss: 0.2733 - accuracy: 0.9223 - val_loss: 0.2708 - val_accuracy: 0.9226\n",
      "Epoch 11/20\n",
      "1563/1563 [==============================] - 4s 3ms/step - loss: 0.2673 - accuracy: 0.9240 - val_loss: 0.2679 - val_accuracy: 0.9226\n",
      "Epoch 12/20\n",
      "1563/1563 [==============================] - 4s 3ms/step - loss: 0.2621 - accuracy: 0.9262 - val_loss: 0.2629 - val_accuracy: 0.9250\n",
      "Epoch 13/20\n",
      "1563/1563 [==============================] - 4s 3ms/step - loss: 0.2574 - accuracy: 0.9270 - val_loss: 0.2594 - val_accuracy: 0.9260\n",
      "Epoch 14/20\n",
      "1563/1563 [==============================] - 4s 3ms/step - loss: 0.2525 - accuracy: 0.9284 - val_loss: 0.2564 - val_accuracy: 0.9266\n",
      "Epoch 15/20\n",
      "1563/1563 [==============================] - 4s 3ms/step - loss: 0.2480 - accuracy: 0.9291 - val_loss: 0.2529 - val_accuracy: 0.9284\n",
      "Epoch 16/20\n",
      "1563/1563 [==============================] - 4s 3ms/step - loss: 0.2438 - accuracy: 0.9306 - val_loss: 0.2508 - val_accuracy: 0.9291\n",
      "Epoch 17/20\n",
      "1563/1563 [==============================] - 4s 3ms/step - loss: 0.2400 - accuracy: 0.9320 - val_loss: 0.2484 - val_accuracy: 0.9284\n",
      "Epoch 18/20\n",
      "1563/1563 [==============================] - 4s 3ms/step - loss: 0.2361 - accuracy: 0.9327 - val_loss: 0.2437 - val_accuracy: 0.9318\n",
      "Epoch 19/20\n",
      "1563/1563 [==============================] - 4s 3ms/step - loss: 0.2322 - accuracy: 0.9346 - val_loss: 0.2419 - val_accuracy: 0.9321\n",
      "Epoch 20/20\n",
      "1563/1563 [==============================] - 4s 3ms/step - loss: 0.2286 - accuracy: 0.9353 - val_loss: 0.2401 - val_accuracy: 0.9321\n"
     ]
    }
   ],
   "source": [
    "# Definindo o modelo.\n",
    "model = tf.keras.models.Sequential()\n",
    "model.add(tf.keras.layers.Flatten(input_shape=(28, 28)))\n",
    "model.add(tf.keras.layers.Dense(20, activation='relu'))\n",
    "model.add(tf.keras.layers.Dense(10, activation='softmax'))\n",
    "\n",
    "# Instanciando otimizador Adam.\n",
    "opt = tf.keras.optimizers.Adam(learning_rate=0.0001)\n",
    "\n",
    "# Compilando a rede neural.\n",
    "model.compile(\n",
    "    optimizer=opt,\n",
    "    loss='sparse_categorical_crossentropy',\n",
    "    metrics=['accuracy']\n",
    ")\n",
    "\n",
    "# Treinando o modelo.\n",
    "history = model.fit(\n",
    "    train_images,\n",
    "    train_labels,\n",
    "    epochs=20,\n",
    "    validation_data=(val_images, val_labels)\n",
    ")"
   ]
  },
  {
   "cell_type": "code",
   "execution_count": 14,
   "metadata": {
    "colab": {
     "base_uri": "https://localhost:8080/",
     "height": 474
    },
    "id": "DYlZ1ZNrcrGC",
    "outputId": "a6dfb291-ba57-4950-f4e2-7a938947de6a"
   },
   "outputs": [
    {
     "data": {
      "image/png": "[encoded data removed]",
      "text/plain": [
       "<Figure size 640x480 with 1 Axes>"
      ]
     },
     "metadata": {},
     "output_type": "display_data"
    }
   ],
   "source": [
    "plt.plot(history.history['accuracy'], label='Train')\n",
    "plt.plot(history.history['val_accuracy'], label='Val')\n",
    "plt.title('Acurácia do modelo')\n",
    "plt.ylabel('Acurácia')\n",
    "plt.xlabel('Época')\n",
    "plt.legend(loc='upper left')\n",
    "plt.xticks(range(20))\n",
    "plt.grid()\n",
    "plt.show()"
   ]
  },
  {
   "cell_type": "markdown",
   "metadata": {
    "id": "7tqC5s42UAKa"
   },
   "source": [
    "**Observação**\n",
    "\n",
    "As duas curvas convergem para valores bem próximos e a curva de acurácia com o conjunto de validação não apresenta mais instabilidade."
   ]
  },
  {
   "cell_type": "markdown",
   "metadata": {
    "id": "JYHTdEJVH0tZ"
   },
   "source": [
    "## Testando o modelo treinado nos três conjuntos\n"
   ]
  },
  {
   "cell_type": "code",
   "execution_count": 15,
   "metadata": {
    "colab": {
     "base_uri": "https://localhost:8080/"
    },
    "id": "QBuJGqbSH6xT",
    "outputId": "e40fe505-0377-4535-95be-e5c81ad2b784"
   },
   "outputs": [
    {
     "name": "stdout",
     "output_type": "stream",
     "text": [
      "1563/1563 [==============================] - 3s 2ms/step - loss: 0.2248 - accuracy: 0.9366\n"
     ]
    },
    {
     "data": {
      "text/plain": [
       "[0.2247665375471115, 0.9365599751472473]"
      ]
     },
     "execution_count": 15,
     "metadata": {},
     "output_type": "execute_result"
    }
   ],
   "source": [
    "model.evaluate(train_images, train_labels)"
   ]
  },
  {
   "cell_type": "code",
   "execution_count": 16,
   "metadata": {
    "colab": {
     "base_uri": "https://localhost:8080/"
    },
    "id": "kvv19U6BbYeF",
    "outputId": "fdef9cd2-1306-4879-a28c-8f42e0c8cb36"
   },
   "outputs": [
    {
     "name": "stdout",
     "output_type": "stream",
     "text": [
      "313/313 [==============================] - 1s 2ms/step - loss: 0.2401 - accuracy: 0.9321\n"
     ]
    },
    {
     "data": {
      "text/plain": [
       "[0.24011589586734772, 0.9320999979972839]"
      ]
     },
     "execution_count": 16,
     "metadata": {},
     "output_type": "execute_result"
    }
   ],
   "source": [
    "model.evaluate(val_images, val_labels)"
   ]
  },
  {
   "cell_type": "code",
   "execution_count": 17,
   "metadata": {
    "colab": {
     "base_uri": "https://localhost:8080/"
    },
    "id": "bKgtMK9IbaYC",
    "outputId": "bf3f79ad-a3ce-4663-b1e6-c486ba97ed80"
   },
   "outputs": [
    {
     "name": "stdout",
     "output_type": "stream",
     "text": [
      "313/313 [==============================] - 1s 2ms/step - loss: 0.2356 - accuracy: 0.9349\n"
     ]
    },
    {
     "data": {
      "text/plain": [
       "[0.23557148873806, 0.9348999857902527]"
      ]
     },
     "execution_count": 17,
     "metadata": {},
     "output_type": "execute_result"
    }
   ],
   "source": [
    "model.evaluate(test_images, test_labels)"
   ]
  },
  {
   "cell_type": "markdown",
   "metadata": {
    "id": "WVZcgwAQHZMl"
   },
   "source": [
    "**Observação**\n",
    "\n",
    "Percebam que os três valores são razoavelmente altos e estão muito próximos uns dos outros.\n",
    "\n",
    "Esse é um forte indicativo de que o modelo realmente descobriu um padrão geral por trás do conjunto de treinamento e consegue, com isso, classficar bem imagens inéditas.\n",
    "\n",
    "Talvez consigamos aumentar a acurácia se treinarmos por mais épocas."
   ]
  },
  {
   "cell_type": "markdown",
   "metadata": {
    "id": "qtiChF3M8OdO"
   },
   "source": [
    "## Analisando resultados de classificação"
   ]
  },
  {
   "cell_type": "code",
   "execution_count": 18,
   "metadata": {
    "colab": {
     "base_uri": "https://localhost:8080/",
     "height": 430
    },
    "id": "rvNEv5BPIwPE",
    "outputId": "90c985e1-8335-469f-e01f-aabc7cd67d35"
   },
   "outputs": [
    {
     "data": {
      "image/png": "[encoded data removed]",
      "text/plain": [
       "<Figure size 640x480 with 1 Axes>"
      ]
     },
     "metadata": {},
     "output_type": "display_data"
    }
   ],
   "source": [
    "plt.imshow(test_images[0])\n",
    "plt.show()"
   ]
  },
  {
   "cell_type": "code",
   "execution_count": 19,
   "metadata": {
    "colab": {
     "base_uri": "https://localhost:8080/"
    },
    "id": "ysGu1V_PJ28-",
    "outputId": "3e39db83-e32f-4deb-d1ff-380a4ec248bf"
   },
   "outputs": [
    {
     "name": "stdout",
     "output_type": "stream",
     "text": [
      "7\n"
     ]
    }
   ],
   "source": [
    "print(test_labels[0])"
   ]
  },
  {
   "cell_type": "code",
   "execution_count": 20,
   "metadata": {
    "colab": {
     "base_uri": "https://localhost:8080/"
    },
    "id": "tkaTLMaTIbIL",
    "outputId": "c460c8a8-8dc5-432e-a689-f1bcc8add88a"
   },
   "outputs": [
    {
     "name": "stdout",
     "output_type": "stream",
     "text": [
      "313/313 [==============================] - 0s 941us/step\n",
      "[1.1138240e-04 1.1225234e-08 3.2773346e-04 3.6766855e-03 2.1072119e-06\n",
      " 3.3389653e-05 1.9837433e-08 9.9512696e-01 5.5778983e-05 6.6595379e-04]\n"
     ]
    }
   ],
   "source": [
    "predictions = model.predict(test_images)\n",
    "print(predictions[0])"
   ]
  },
  {
   "cell_type": "code",
   "execution_count": 21,
   "metadata": {
    "colab": {
     "base_uri": "https://localhost:8080/"
    },
    "id": "yjenS2EZJH6h",
    "outputId": "bc20d59b-02c5-4673-e7dd-e20328f6a56b"
   },
   "outputs": [
    {
     "data": {
      "text/plain": [
       "7"
      ]
     },
     "execution_count": 21,
     "metadata": {},
     "output_type": "execute_result"
    }
   ],
   "source": [
    "# argmax: retorna os índices dos valores máximos ao longo de um eixo.\n",
    "np.argmax(predictions[0])"
   ]
  },
  {
   "cell_type": "code",
   "execution_count": 22,
   "metadata": {
    "colab": {
     "base_uri": "https://localhost:8080/"
    },
    "id": "JeEgVvBTIx8z",
    "outputId": "a2bf88ba-ab1d-40de-bb7a-af80ee65c6f8"
   },
   "outputs": [
    {
     "data": {
      "text/plain": [
       "(10000,)"
      ]
     },
     "execution_count": 22,
     "metadata": {},
     "output_type": "execute_result"
    }
   ],
   "source": [
    "predictions = np.argmax(predictions, axis=-1)\n",
    "predictions.shape"
   ]
  },
  {
   "cell_type": "code",
   "execution_count": 23,
   "metadata": {
    "colab": {
     "base_uri": "https://localhost:8080/"
    },
    "id": "8N2zUFaZJIUF",
    "outputId": "b3707e1d-5a64-464a-e4b3-6825ccd1e6c4"
   },
   "outputs": [
    {
     "data": {
      "text/plain": [
       "array([7, 2, 1, 0, 4, 1, 4, 9, 6, 9], dtype=int64)"
      ]
     },
     "execution_count": 23,
     "metadata": {},
     "output_type": "execute_result"
    }
   ],
   "source": [
    "predictions[:10]"
   ]
  },
  {
   "cell_type": "code",
   "execution_count": 24,
   "metadata": {},
   "outputs": [
    {
     "data": {
      "text/plain": [
       "array([7, 2, 1, 0, 4, 1, 4, 9, 5, 9], dtype=uint8)"
      ]
     },
     "execution_count": 24,
     "metadata": {},
     "output_type": "execute_result"
    }
   ],
   "source": [
    "test_labels[:10]"
   ]
  },
  {
   "cell_type": "markdown",
   "metadata": {
    "id": "O_ZQdPpB7Z2g"
   },
   "source": [
    "## Visualizando o modelo\n",
    "\n",
    "Podemos usar o [Netron](https://netron.app) para visualizar o modelo, hiperparâmetros, dimensões de tensores, etc.\n",
    "\n",
    "O Netron é uma aplicação web para visualizar a arquitetura de redes neurais. (consulte [GitHub](https://github.com/lutzroeder/netron) para obter instruções sobre a instalação em seu computador).\n",
    "\n",
    "Para podermos visualizar o modelo, devemos primeiro salvá-lo em um arquivo com extensão `.h5`."
   ]
  },
  {
   "cell_type": "code",
   "execution_count": 25,
   "metadata": {
    "id": "g1PyVPkhRx01"
   },
   "outputs": [],
   "source": [
    "model.save('MNIST_model.h5')"
   ]
  }
 ],
 "metadata": {
  "accelerator": "GPU",
  "colab": {
   "provenance": []
  },
  "kernelspec": {
   "display_name": "Python 3 (ipykernel)",
   "language": "python",
   "name": "python3"
  },
  "language_info": {
   "codemirror_mode": {
    "name": "ipython",
    "version": 3
   },
   "file_extension": ".py",
   "mimetype": "text/x-python",
   "name": "python",
   "nbconvert_exporter": "python",
   "pygments_lexer": "ipython3",
   "version": "3.10.9"
  }
 },
 "nbformat": 4,
 "nbformat_minor": 1
}
