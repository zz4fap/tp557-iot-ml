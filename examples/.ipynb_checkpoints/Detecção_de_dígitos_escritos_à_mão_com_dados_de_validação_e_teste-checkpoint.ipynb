{
 "cells": [
  {
   "cell_type": "markdown",
   "metadata": {
    "id": "Zo2JiEtkzvQL"
   },
   "source": [
    "# Detecção de dígitos escritos à mão com dados de validação e teste"
   ]
  },
  {
   "cell_type": "markdown",
   "metadata": {
    "id": "ZLLenukpg6VN"
   },
   "source": [
    "**Observação**: Verifiquem se o uso de GPU está habilitado."
   ]
  },
  {
   "cell_type": "markdown",
   "metadata": {
    "id": "z56YN3JZ0Duh"
   },
   "source": [
    "## Importando as bibliotecas"
   ]
  },
  {
   "cell_type": "code",
   "execution_count": 1,
   "metadata": {
    "id": "YfPnR74Gzc_q"
   },
   "outputs": [],
   "source": [
    "import numpy as np\n",
    "import matplotlib.pyplot as plt\n",
    "import tensorflow as tf"
   ]
  },
  {
   "cell_type": "markdown",
   "metadata": {
    "id": "xrGLDV6q0PCc"
   },
   "source": [
    "## Baixando o conjunto de dados MNIST\n",
    "\n",
    "\n",
    "O conjunto de dados MNIST de dígitos manuscritos, pode ser baixado com o [TF](https://www.tensorflow.org/api_docs/python/tf/keras/datasets/mnist/load_data).\n",
    "\n",
    "O conjunto contém imagens 28x28 pixels em tons de cinza dos 10 dígitos (0-9).\n",
    "Ele possui um conjunto de treinamento com 60.000 imagens e um conjunto de teste com 10.000."
   ]
  },
  {
   "cell_type": "code",
   "execution_count": 2,
   "metadata": {
    "colab": {
     "base_uri": "https://localhost:8080/"
    },
    "id": "Ib2Ihepx0N6h",
    "outputId": "46df5f21-dcfe-4c5c-8cc2-c81f7d6947d7"
   },
   "outputs": [
    {
     "name": "stdout",
     "output_type": "stream",
     "text": [
      "Downloading data from https://storage.googleapis.com/tensorflow/tf-keras-datasets/mnist.npz\n",
      "11490434/11490434 [==============================] - 0s 0us/step\n"
     ]
    }
   ],
   "source": [
    "(ltrain_images, ltrain_labels), (test_images, test_labels) = tf.keras.datasets.mnist.load_data()"
   ]
  },
  {
   "cell_type": "markdown",
   "metadata": {
    "id": "nxTp8fjIKxAk"
   },
   "source": [
    "## Divindo em o conjunto inicial de treinamento em um conjunto de treinamento menor e um conjunto de validação"
   ]
  },
  {
   "cell_type": "markdown",
   "metadata": {
    "id": "c-5RfO0PLghj"
   },
   "source": [
    "### Separamos as primeiras 10.000 imagens para o conjunto de validação."
   ]
  },
  {
   "cell_type": "code",
   "execution_count": 3,
   "metadata": {
    "id": "u_e88OtBak7n"
   },
   "outputs": [],
   "source": [
    "val_images = ltrain_images[:10000]\n",
    "val_labels = ltrain_labels[:10000]"
   ]
  },
  {
   "cell_type": "code",
   "execution_count": 4,
   "metadata": {
    "colab": {
     "base_uri": "https://localhost:8080/"
    },
    "id": "hcuDlGmVLz2k",
    "outputId": "043abd02-19eb-4318-e040-4020f34bc396"
   },
   "outputs": [
    {
     "name": "stdout",
     "output_type": "stream",
     "text": [
      "(10000, 28, 28)\n",
      "(10000,)\n"
     ]
    }
   ],
   "source": [
    "print(val_images.shape)\n",
    "print(val_labels.shape)"
   ]
  },
  {
   "cell_type": "markdown",
   "metadata": {
    "id": "lyE6KB2oLqpB"
   },
   "source": [
    "### As 50.000 restantes vão para o novo conjunto de treinamento (menor)"
   ]
  },
  {
   "cell_type": "code",
   "execution_count": 5,
   "metadata": {
    "id": "MtTSlX3TaDqj"
   },
   "outputs": [],
   "source": [
    "train_images = ltrain_images[10000:]\n",
    "train_labels = ltrain_labels[10000:]"
   ]
  },
  {
   "cell_type": "code",
   "execution_count": 6,
   "metadata": {
    "colab": {
     "base_uri": "https://localhost:8080/"
    },
    "id": "pq1bMIRd38b8",
    "outputId": "68a696df-3d86-49b1-862d-84c438ffe169"
   },
   "outputs": [
    {
     "name": "stdout",
     "output_type": "stream",
     "text": [
      "(50000, 28, 28)\n",
      "(50000,)\n"
     ]
    }
   ],
   "source": [
    "print(train_images.shape)\n",
    "print(train_labels.shape)"
   ]
  },
  {
   "cell_type": "markdown",
   "metadata": {
    "id": "X5lPYHAjLEPb"
   },
   "source": [
    "### Analisando o balanceamento das classes."
   ]
  },
  {
   "cell_type": "code",
   "execution_count": 7,
   "metadata": {
    "colab": {
     "base_uri": "https://localhost:8080/",
     "height": 454
    },
    "id": "8N4sFgGLaXYQ",
    "outputId": "31312ae5-0a66-490b-eb0d-d4a6264a09f1"
   },
   "outputs": [
    {
     "data": {
      "image/png": "[encoded data removed]",
      "text/plain": [
       "<Figure size 640x480 with 1 Axes>"
      ]
     },
     "metadata": {},
     "output_type": "display_data"
    }
   ],
   "source": [
    "plt.hist(train_labels, alpha=0.5, label='Train')\n",
    "plt.hist(test_labels, alpha=0.5, label='Val')\n",
    "plt.hist(val_labels, alpha=0.5, label='Test')\n",
    "plt.xticks(range(10))\n",
    "plt.xlabel('Classes', fontsize=14)\n",
    "plt.ylabel('Quantidade', fontsize=14)\n",
    "plt.grid()\n",
    "plt.show()"
   ]
  },
  {
   "cell_type": "markdown",
   "metadata": {
    "id": "fjUTFsz8OmU6"
   },
   "source": [
    "**Observação**\n",
    "\n",
    "As classes estão razoavelmente equilibradas (i.e., balanceadas).\n",
    "\n",
    "Isso é muito importante para que a rede não **veja** mais exemplos de uma classe do que outra, pois isso pode levá-la a ficar muito melhor naquela classe com maior quantidade de exemplos de treinamento do que nas outras."
   ]
  },
  {
   "cell_type": "markdown",
   "metadata": {
    "id": "0-H0LwB_7von"
   },
   "source": [
    "## Pré-processamento dos dados\n",
    "\n",
    "Vamos aplicar normalização aos dados (i.e., atributos) dos três conjuntos.\n",
    "\n",
    "Como os valores dos pixels variam entre 0 e 255, basta dividí-los por 255.0 e o intervalo final ficará entre 0.0 e 1.0."
   ]
  },
  {
   "cell_type": "code",
   "execution_count": 8,
   "metadata": {
    "id": "uZrGVMsH0X3F"
   },
   "outputs": [],
   "source": [
    "train_images  = train_images / 255.0\n",
    "val_images = val_images / 255.0\n",
    "test_images = test_images / 255.0"
   ]
  },
  {
   "cell_type": "markdown",
   "metadata": {
    "id": "pYMsyOk8-xnf"
   },
   "source": [
    "## Definindo e compilando o modelo\n",
    "\n",
    "**Observação**: ao invés de passar uma **lista** com as camadas, vamos usar o método `add()` da classe `Sequential` para adicionar as camadas"
   ]
  },
  {
   "cell_type": "code",
   "execution_count": 9,
   "metadata": {
    "colab": {
     "base_uri": "https://localhost:8080/"
    },
    "id": "dEdoqWl28dB3",
    "outputId": "5d2009be-6305-4ee5-cc9f-50bd9c869246"
   },
   "outputs": [
    {
     "name": "stdout",
     "output_type": "stream",
     "text": [
      "Model: \"sequential\"\n",
      "_________________________________________________________________\n",
      " Layer (type)                Output Shape              Param #   \n",
      "=================================================================\n",
      " flatten (Flatten)           (None, 784)               0         \n",
      "                                                                 \n",
      " dense (Dense)               (None, 20)                15700     \n",
      "                                                                 \n",
      " dense_1 (Dense)             (None, 10)                210       \n",
      "                                                                 \n",
      "=================================================================\n",
      "Total params: 15,910\n",
      "Trainable params: 15,910\n",
      "Non-trainable params: 0\n",
      "_________________________________________________________________\n"
     ]
    }
   ],
   "source": [
    "# Definindo o modelo.\n",
    "model = tf.keras.models.Sequential()\n",
    "model.add(tf.keras.layers.Flatten(input_shape=(28, 28)))\n",
    "model.add(tf.keras.layers.Dense(20, activation='relu'))\n",
    "model.add(tf.keras.layers.Dense(10, activation='softmax'))\n",
    "\n",
    "# Resumo da rede neural.\n",
    "model.summary()"
   ]
  },
  {
   "cell_type": "markdown",
   "metadata": {
    "id": "dWH_kfJ2RPGc"
   },
   "source": [
    "### Compilando o modelo\n",
    "\n",
    "Quando passamos a *string* `adam` para o parâmetro `optimizer`do método `compile`, por padrão, o otimizador `adam` usa um taxa de aprendizado de 0.001,\n",
    "\n",
    "Porém, no caso deste exemplo, para ilustrar um problema que podemos encontrar durante o treinamento de redes neurais, queremos aumentá-lo para 0.01.\n",
    "\n",
    "Para alterar o valor, devemos instanciar um objeto da classe `Adam` e especificar o valor que queremos para a taxa de aprendizagem através do parâmetro `learning_rate`."
   ]
  },
  {
   "cell_type": "code",
   "execution_count": 10,
   "metadata": {
    "id": "NA21O9Y0_BJ7"
   },
   "outputs": [],
   "source": [
    "# Instanciando otimizador Adam.\n",
    "opt = tf.keras.optimizers.Adam(learning_rate=0.01)\n",
    "\n",
    "# Compilando a rede neural.\n",
    "model.compile(\n",
    "    optimizer=opt,\n",
    "    loss='sparse_categorical_crossentropy',\n",
    "    metrics=['accuracy']\n",
    ")"
   ]
  },
  {
   "cell_type": "markdown",
   "metadata": {
    "id": "pJZ4fvT3_yd7"
   },
   "source": [
    "## Treinando o modelo."
   ]
  },
  {
   "cell_type": "markdown",
   "metadata": {
    "id": "jL6QDHJnGDm6"
   },
   "source": [
    "Poderíamos deixar o conjunto de treinamento com todas as amostras e, alternativamente, usar:\n",
    "- `validation_split=0.1` em vez de `validation_data=(val_images, val_labels)`.\n",
    "\n",
    "Neste caso, o TF dividiria os dados de validação automaticamente se baseando na porcentagem passada.\n",
    "\n",
    "**Observação:** Notem que durante o treinamento, como passamos um conjunto de validação, os resultados impressos mostram a perda e a acurácia para ambos os conjuntos."
   ]
  },
  {
   "cell_type": "code",
   "execution_count": 11,
   "metadata": {
    "colab": {
     "base_uri": "https://localhost:8080/"
    },
    "id": "RxklrX_R_uvn",
    "outputId": "8a5993c4-8a3d-45b7-dfcf-3c9c26de1a4c"
   },
   "outputs": [
    {
     "name": "stdout",
     "output_type": "stream",
     "text": [
      "Epoch 1/20\n",
      "1563/1563 [==============================] - 11s 4ms/step - loss: 0.3227 - accuracy: 0.9045 - val_loss: 0.2818 - val_accuracy: 0.9197\n",
      "Epoch 2/20\n",
      "1563/1563 [==============================] - 5s 3ms/step - loss: 0.2313 - accuracy: 0.9303 - val_loss: 0.2038 - val_accuracy: 0.9417\n",
      "Epoch 3/20\n",
      "1563/1563 [==============================] - 7s 4ms/step - loss: 0.2079 - accuracy: 0.9380 - val_loss: 0.2274 - val_accuracy: 0.9335\n",
      "Epoch 4/20\n",
      "1563/1563 [==============================] - 5s 3ms/step - loss: 0.1967 - accuracy: 0.9419 - val_loss: 0.2397 - val_accuracy: 0.9363\n",
      "Epoch 5/20\n",
      "1563/1563 [==============================] - 5s 3ms/step - loss: 0.1877 - accuracy: 0.9440 - val_loss: 0.2168 - val_accuracy: 0.9412\n",
      "Epoch 6/20\n",
      "1563/1563 [==============================] - 5s 3ms/step - loss: 0.1801 - accuracy: 0.9465 - val_loss: 0.2348 - val_accuracy: 0.9393\n",
      "Epoch 7/20\n",
      "1563/1563 [==============================] - 5s 3ms/step - loss: 0.1738 - accuracy: 0.9484 - val_loss: 0.2421 - val_accuracy: 0.9348\n",
      "Epoch 8/20\n",
      "1563/1563 [==============================] - 5s 3ms/step - loss: 0.1728 - accuracy: 0.9493 - val_loss: 0.2472 - val_accuracy: 0.9335\n",
      "Epoch 9/20\n",
      "1563/1563 [==============================] - 5s 3ms/step - loss: 0.1682 - accuracy: 0.9509 - val_loss: 0.2347 - val_accuracy: 0.9416\n",
      "Epoch 10/20\n",
      "1563/1563 [==============================] - 5s 3ms/step - loss: 0.1629 - accuracy: 0.9513 - val_loss: 0.2352 - val_accuracy: 0.9399\n",
      "Epoch 11/20\n",
      "1563/1563 [==============================] - 5s 3ms/step - loss: 0.1615 - accuracy: 0.9529 - val_loss: 0.2417 - val_accuracy: 0.9364\n",
      "Epoch 12/20\n",
      "1563/1563 [==============================] - 5s 3ms/step - loss: 0.1591 - accuracy: 0.9530 - val_loss: 0.2362 - val_accuracy: 0.9391\n",
      "Epoch 13/20\n",
      "1563/1563 [==============================] - 5s 3ms/step - loss: 0.1529 - accuracy: 0.9546 - val_loss: 0.2244 - val_accuracy: 0.9456\n",
      "Epoch 14/20\n",
      "1563/1563 [==============================] - 5s 3ms/step - loss: 0.1547 - accuracy: 0.9550 - val_loss: 0.2492 - val_accuracy: 0.9398\n",
      "Epoch 15/20\n",
      "1563/1563 [==============================] - 5s 3ms/step - loss: 0.1529 - accuracy: 0.9551 - val_loss: 0.2351 - val_accuracy: 0.9435\n",
      "Epoch 16/20\n",
      "1563/1563 [==============================] - 5s 3ms/step - loss: 0.1510 - accuracy: 0.9555 - val_loss: 0.2459 - val_accuracy: 0.9414\n",
      "Epoch 17/20\n",
      "1563/1563 [==============================] - 5s 3ms/step - loss: 0.1485 - accuracy: 0.9566 - val_loss: 0.2478 - val_accuracy: 0.9386\n",
      "Epoch 18/20\n",
      "1563/1563 [==============================] - 5s 4ms/step - loss: 0.1436 - accuracy: 0.9580 - val_loss: 0.2332 - val_accuracy: 0.9471\n",
      "Epoch 19/20\n",
      "1563/1563 [==============================] - 5s 3ms/step - loss: 0.1464 - accuracy: 0.9572 - val_loss: 0.2442 - val_accuracy: 0.9435\n",
      "Epoch 20/20\n",
      "1563/1563 [==============================] - 5s 4ms/step - loss: 0.1425 - accuracy: 0.9593 - val_loss: 0.2609 - val_accuracy: 0.9431\n"
     ]
    }
   ],
   "source": [
    "history = model.fit(\n",
    "    train_images,\n",
    "    train_labels,\n",
    "    epochs=20,\n",
    "    validation_data=(val_images, val_labels)\n",
    ")"
   ]
  },
  {
   "cell_type": "markdown",
   "metadata": {
    "id": "JHonIaNT6Qaw"
   },
   "source": [
    "**Observação**\n",
    "\n",
    "Os valores da perda e da acurácia nos dois conjuntos praticamente nunca serão iguais.\n",
    "\n",
    "Porém, nosso objetivo é encontrar uma arquitetura que faça com que ambos fiquem o mais próximo possível.\n",
    "\n",
    "Valores próximos são um sinal de que a rede neural é boa em generalizar e não está se especializando demais nos dados de treinamento (i.e., sobreajuste)."
   ]
  },
  {
   "cell_type": "markdown",
   "metadata": {
    "id": "0xAXSo5-HCIo"
   },
   "source": [
    "### Inspecionando os resultados obtidos ao longo do treinamento"
   ]
  },
  {
   "cell_type": "code",
   "execution_count": 12,
   "metadata": {
    "colab": {
     "base_uri": "https://localhost:8080/",
     "height": 474
    },
    "id": "g6qHpwg8BpZi",
    "outputId": "40d4345f-26c1-49b2-bcb4-9560c093de47"
   },
   "outputs": [
    {
     "data": {
      "image/png": "[encoded data removed]",
      "text/plain": [
       "<Figure size 640x480 with 1 Axes>"
      ]
     },
     "metadata": {},
     "output_type": "display_data"
    }
   ],
   "source": [
    "plt.plot(history.history['accuracy'], label='Train')\n",
    "plt.plot(history.history['val_accuracy'], label='Val')\n",
    "plt.title('Acurácia do modelo')\n",
    "plt.ylabel('Acurácia')\n",
    "plt.xlabel('Época')\n",
    "plt.legend(loc='upper left')\n",
    "plt.xticks(range(20))\n",
    "plt.grid()\n",
    "plt.show()"
   ]
  },
  {
   "cell_type": "markdown",
   "metadata": {
    "id": "CF1jssVyel8D"
   },
   "source": [
    "A acurácia de validação está bastante instável, oscilando muito.\n",
    "\n",
    "Nesse caso, o que pode estar acontecendo é que a taxa de aprendizado esteja alta demais.\n",
    "\n",
    "Para tentar contornar isso, devemos reduzí-la.\n",
    "\n",
    "Vamos começar de novo com um `learning_rate` mais baixo (por exemplo: 0.0001)"
   ]
  },
  {
   "cell_type": "code",
   "execution_count": 13,
   "metadata": {
    "colab": {
     "base_uri": "https://localhost:8080/"
    },
    "id": "21HE2qcnbMCf",
    "outputId": "daa4f893-b6a9-43f8-e4fd-a3e6f0d80ba5",
    "scrolled": false
   },
   "outputs": [
    {
     "name": "stdout",
     "output_type": "stream",
     "text": [
      "Epoch 1/20\n",
      "1563/1563 [==============================] - 6s 3ms/step - loss: 1.1861 - accuracy: 0.7004 - val_loss: 0.6125 - val_accuracy: 0.8586\n",
      "Epoch 2/20\n",
      "1563/1563 [==============================] - 5s 3ms/step - loss: 0.4988 - accuracy: 0.8747 - val_loss: 0.4163 - val_accuracy: 0.8911\n",
      "Epoch 3/20\n",
      "1563/1563 [==============================] - 5s 3ms/step - loss: 0.3863 - accuracy: 0.8958 - val_loss: 0.3534 - val_accuracy: 0.9033\n",
      "Epoch 4/20\n",
      "1563/1563 [==============================] - 5s 3ms/step - loss: 0.3396 - accuracy: 0.9069 - val_loss: 0.3224 - val_accuracy: 0.9103\n",
      "Epoch 5/20\n",
      "1563/1563 [==============================] - 5s 3ms/step - loss: 0.3126 - accuracy: 0.9132 - val_loss: 0.3025 - val_accuracy: 0.9161\n",
      "Epoch 6/20\n",
      "1563/1563 [==============================] - 5s 3ms/step - loss: 0.2945 - accuracy: 0.9180 - val_loss: 0.2881 - val_accuracy: 0.9200\n",
      "Epoch 7/20\n",
      "1563/1563 [==============================] - 5s 3ms/step - loss: 0.2806 - accuracy: 0.9214 - val_loss: 0.2787 - val_accuracy: 0.9232\n",
      "Epoch 8/20\n",
      "1563/1563 [==============================] - 5s 3ms/step - loss: 0.2696 - accuracy: 0.9239 - val_loss: 0.2697 - val_accuracy: 0.9252\n",
      "Epoch 9/20\n",
      "1563/1563 [==============================] - 8s 5ms/step - loss: 0.2602 - accuracy: 0.9272 - val_loss: 0.2621 - val_accuracy: 0.9283\n",
      "Epoch 10/20\n",
      "1563/1563 [==============================] - 6s 4ms/step - loss: 0.2520 - accuracy: 0.9297 - val_loss: 0.2571 - val_accuracy: 0.9304\n",
      "Epoch 11/20\n",
      "1563/1563 [==============================] - 6s 4ms/step - loss: 0.2447 - accuracy: 0.9322 - val_loss: 0.2500 - val_accuracy: 0.9317\n",
      "Epoch 12/20\n",
      "1563/1563 [==============================] - 7s 4ms/step - loss: 0.2379 - accuracy: 0.9338 - val_loss: 0.2454 - val_accuracy: 0.9331\n",
      "Epoch 13/20\n",
      "1563/1563 [==============================] - 7s 4ms/step - loss: 0.2317 - accuracy: 0.9362 - val_loss: 0.2388 - val_accuracy: 0.9347\n",
      "Epoch 14/20\n",
      "1563/1563 [==============================] - 5s 3ms/step - loss: 0.2259 - accuracy: 0.9379 - val_loss: 0.2352 - val_accuracy: 0.9357\n",
      "Epoch 15/20\n",
      "1563/1563 [==============================] - 5s 3ms/step - loss: 0.2206 - accuracy: 0.9390 - val_loss: 0.2307 - val_accuracy: 0.9375\n",
      "Epoch 16/20\n",
      "1563/1563 [==============================] - 5s 3ms/step - loss: 0.2156 - accuracy: 0.9398 - val_loss: 0.2277 - val_accuracy: 0.9382\n",
      "Epoch 17/20\n",
      "1563/1563 [==============================] - 5s 3ms/step - loss: 0.2109 - accuracy: 0.9418 - val_loss: 0.2229 - val_accuracy: 0.9387\n",
      "Epoch 18/20\n",
      "1563/1563 [==============================] - 5s 3ms/step - loss: 0.2068 - accuracy: 0.9430 - val_loss: 0.2195 - val_accuracy: 0.9395\n",
      "Epoch 19/20\n",
      "1563/1563 [==============================] - 5s 3ms/step - loss: 0.2026 - accuracy: 0.9439 - val_loss: 0.2159 - val_accuracy: 0.9408\n",
      "Epoch 20/20\n",
      "1563/1563 [==============================] - 5s 3ms/step - loss: 0.1989 - accuracy: 0.9449 - val_loss: 0.2138 - val_accuracy: 0.9407\n"
     ]
    }
   ],
   "source": [
    "# Definindo o modelo.\n",
    "model = tf.keras.models.Sequential()\n",
    "model.add(tf.keras.layers.Flatten(input_shape=(28, 28)))\n",
    "model.add(tf.keras.layers.Dense(20, activation='relu'))\n",
    "model.add(tf.keras.layers.Dense(10, activation='softmax'))\n",
    "\n",
    "# Instanciando otimizador Adam.\n",
    "opt = tf.keras.optimizers.Adam(learning_rate=0.0001)\n",
    "\n",
    "# Compilando a rede neural.\n",
    "model.compile(\n",
    "    optimizer=opt,\n",
    "    loss='sparse_categorical_crossentropy',\n",
    "    metrics=['accuracy']\n",
    ")\n",
    "\n",
    "# Treinando o modelo.\n",
    "history = model.fit(\n",
    "    train_images,\n",
    "    train_labels,\n",
    "    epochs=20,\n",
    "    validation_data=(val_images, val_labels)\n",
    ")"
   ]
  },
  {
   "cell_type": "code",
   "execution_count": 14,
   "metadata": {
    "colab": {
     "base_uri": "https://localhost:8080/",
     "height": 474
    },
    "id": "DYlZ1ZNrcrGC",
    "outputId": "a6dfb291-ba57-4950-f4e2-7a938947de6a"
   },
   "outputs": [
    {
     "data": {
      "image/png": "[encoded data removed]",
      "text/plain": [
       "<Figure size 640x480 with 1 Axes>"
      ]
     },
     "metadata": {},
     "output_type": "display_data"
    }
   ],
   "source": [
    "plt.plot(history.history['accuracy'], label='Train')\n",
    "plt.plot(history.history['val_accuracy'], label='Val')\n",
    "plt.title('Acurácia do modelo')\n",
    "plt.ylabel('Acurácia')\n",
    "plt.xlabel('Época')\n",
    "plt.legend(loc='upper left')\n",
    "plt.xticks(range(20))\n",
    "plt.grid()\n",
    "plt.show()"
   ]
  },
  {
   "cell_type": "markdown",
   "metadata": {
    "id": "7tqC5s42UAKa"
   },
   "source": [
    "**Observação**\n",
    "\n",
    "As duas curvas convergem para valores bem próximos e a curva de acurácia com o conjunto de validação não apresenta mais instabilidade."
   ]
  },
  {
   "cell_type": "markdown",
   "metadata": {
    "id": "JYHTdEJVH0tZ"
   },
   "source": [
    "## Testando o modelo treinado nos três conjuntos\n"
   ]
  },
  {
   "cell_type": "code",
   "execution_count": 15,
   "metadata": {
    "colab": {
     "base_uri": "https://localhost:8080/"
    },
    "id": "QBuJGqbSH6xT",
    "outputId": "e40fe505-0377-4535-95be-e5c81ad2b784"
   },
   "outputs": [
    {
     "name": "stdout",
     "output_type": "stream",
     "text": [
      "1563/1563 [==============================] - 4s 3ms/step - loss: 0.1958 - accuracy: 0.9459\n"
     ]
    },
    {
     "data": {
      "text/plain": [
       "[0.19579695165157318, 0.945900022983551]"
      ]
     },
     "execution_count": 15,
     "metadata": {},
     "output_type": "execute_result"
    }
   ],
   "source": [
    "model.evaluate(train_images, train_labels)"
   ]
  },
  {
   "cell_type": "code",
   "execution_count": 16,
   "metadata": {
    "colab": {
     "base_uri": "https://localhost:8080/"
    },
    "id": "kvv19U6BbYeF",
    "outputId": "fdef9cd2-1306-4879-a28c-8f42e0c8cb36"
   },
   "outputs": [
    {
     "name": "stdout",
     "output_type": "stream",
     "text": [
      "313/313 [==============================] - 1s 2ms/step - loss: 0.2138 - accuracy: 0.9407\n"
     ]
    },
    {
     "data": {
      "text/plain": [
       "[0.21378742158412933, 0.9406999945640564]"
      ]
     },
     "execution_count": 16,
     "metadata": {},
     "output_type": "execute_result"
    }
   ],
   "source": [
    "model.evaluate(val_images, val_labels)"
   ]
  },
  {
   "cell_type": "code",
   "execution_count": 17,
   "metadata": {
    "colab": {
     "base_uri": "https://localhost:8080/"
    },
    "id": "bKgtMK9IbaYC",
    "outputId": "bf3f79ad-a3ce-4663-b1e6-c486ba97ed80"
   },
   "outputs": [
    {
     "name": "stdout",
     "output_type": "stream",
     "text": [
      "313/313 [==============================] - 1s 2ms/step - loss: 0.2048 - accuracy: 0.9414\n"
     ]
    },
    {
     "data": {
      "text/plain": [
       "[0.20484086871147156, 0.9413999915122986]"
      ]
     },
     "execution_count": 17,
     "metadata": {},
     "output_type": "execute_result"
    }
   ],
   "source": [
    "model.evaluate(test_images, test_labels)"
   ]
  },
  {
   "cell_type": "markdown",
   "metadata": {
    "id": "WVZcgwAQHZMl"
   },
   "source": [
    "**Observação**\n",
    "\n",
    "Percebam que os três valores são razoavelmente altos e estão muito próximos uns dos outros.\n",
    "\n",
    "Esse é um forte indicativo de que o modelo realmente descobriu um padrão geral por trás do conjunto de trainamento e consegue, com isso, classficar bem imagens inéditas.\n",
    "\n",
    "Talvez consigamos aumentar a acurácia se treinarmos por mais épocas."
   ]
  },
  {
   "cell_type": "markdown",
   "metadata": {
    "id": "qtiChF3M8OdO"
   },
   "source": [
    "## Analisando resultados de classificação"
   ]
  },
  {
   "cell_type": "code",
   "execution_count": 18,
   "metadata": {
    "colab": {
     "base_uri": "https://localhost:8080/",
     "height": 430
    },
    "id": "rvNEv5BPIwPE",
    "outputId": "90c985e1-8335-469f-e01f-aabc7cd67d35"
   },
   "outputs": [
    {
     "data": {
      "image/png": "[encoded data removed]",
      "text/plain": [
       "<Figure size 640x480 with 1 Axes>"
      ]
     },
     "metadata": {},
     "output_type": "display_data"
    }
   ],
   "source": [
    "plt.imshow(test_images[0])\n",
    "plt.show()"
   ]
  },
  {
   "cell_type": "code",
   "execution_count": 19,
   "metadata": {
    "colab": {
     "base_uri": "https://localhost:8080/"
    },
    "id": "ysGu1V_PJ28-",
    "outputId": "3e39db83-e32f-4deb-d1ff-380a4ec248bf"
   },
   "outputs": [
    {
     "name": "stdout",
     "output_type": "stream",
     "text": [
      "7\n"
     ]
    }
   ],
   "source": [
    "print(test_labels[0])"
   ]
  },
  {
   "cell_type": "code",
   "execution_count": 20,
   "metadata": {
    "colab": {
     "base_uri": "https://localhost:8080/"
    },
    "id": "tkaTLMaTIbIL",
    "outputId": "c460c8a8-8dc5-432e-a689-f1bcc8add88a"
   },
   "outputs": [
    {
     "name": "stdout",
     "output_type": "stream",
     "text": [
      "313/313 [==============================] - 1s 1ms/step\n",
      "[4.5817043e-05 4.3231292e-08 3.1286926e-04 7.3940279e-03 1.0877959e-05\n",
      " 4.4978413e-04 1.3104145e-08 9.9051231e-01 2.7834869e-04 9.9599769e-04]\n"
     ]
    }
   ],
   "source": [
    "predictions = model.predict(test_images)\n",
    "print(predictions[0])"
   ]
  },
  {
   "cell_type": "code",
   "execution_count": 21,
   "metadata": {
    "colab": {
     "base_uri": "https://localhost:8080/"
    },
    "id": "yjenS2EZJH6h",
    "outputId": "bc20d59b-02c5-4673-e7dd-e20328f6a56b"
   },
   "outputs": [
    {
     "data": {
      "text/plain": [
       "7"
      ]
     },
     "execution_count": 21,
     "metadata": {},
     "output_type": "execute_result"
    }
   ],
   "source": [
    "# argmax: retorna os índices dos valores máximos ao longo de um eixo.\n",
    "np.argmax(predictions[0])"
   ]
  },
  {
   "cell_type": "code",
   "execution_count": 22,
   "metadata": {
    "colab": {
     "base_uri": "https://localhost:8080/"
    },
    "id": "JeEgVvBTIx8z",
    "outputId": "a2bf88ba-ab1d-40de-bb7a-af80ee65c6f8"
   },
   "outputs": [
    {
     "data": {
      "text/plain": [
       "(10000,)"
      ]
     },
     "execution_count": 22,
     "metadata": {},
     "output_type": "execute_result"
    }
   ],
   "source": [
    "predictions = np.argmax(predictions, axis=-1)\n",
    "predictions.shape"
   ]
  },
  {
   "cell_type": "code",
   "execution_count": 23,
   "metadata": {
    "colab": {
     "base_uri": "https://localhost:8080/"
    },
    "id": "8N2zUFaZJIUF",
    "outputId": "b3707e1d-5a64-464a-e4b3-6825ccd1e6c4"
   },
   "outputs": [
    {
     "data": {
      "text/plain": [
       "array([7, 2, 1, 0, 4, 1, 4, 9, 6, 9])"
      ]
     },
     "execution_count": 23,
     "metadata": {},
     "output_type": "execute_result"
    }
   ],
   "source": [
    "predictions[:10]"
   ]
  },
  {
   "cell_type": "markdown",
   "metadata": {
    "id": "O_ZQdPpB7Z2g"
   },
   "source": [
    "## Visualizando o modelo\n",
    "\n",
    "Podemos usar o [Netron](https://netron.app) para visualizar o modelo, hiperparâmetros, dimensões de tensores, etc.\n",
    "\n",
    "O Netron é uma aplicação web para visualizar a arquitetura de redes neurais. (consulte [GitHub](https://github.com/lutzroeder/netron) para obter instruções sobre a instalação em seu computador).\n",
    "\n",
    "Para podermos visualizar o modelo, devemos primeiro salvá-lo em um arquivo com extensão `.h5`."
   ]
  },
  {
   "cell_type": "code",
   "execution_count": 24,
   "metadata": {
    "id": "g1PyVPkhRx01"
   },
   "outputs": [],
   "source": [
    "model.save('MNIST_model.h5')"
   ]
  }
 ],
 "metadata": {
  "accelerator": "GPU",
  "colab": {
   "provenance": []
  },
  "kernelspec": {
   "display_name": "Python 3 (ipykernel)",
   "language": "python",
   "name": "python3"
  },
  "language_info": {
   "codemirror_mode": {
    "name": "ipython",
    "version": 3
   },
   "file_extension": ".py",
   "mimetype": "text/x-python",
   "name": "python",
   "nbconvert_exporter": "python",
   "pygments_lexer": "ipython3",
   "version": "3.10.9"
  }
 },
 "nbformat": 4,
 "nbformat_minor": 1
}
