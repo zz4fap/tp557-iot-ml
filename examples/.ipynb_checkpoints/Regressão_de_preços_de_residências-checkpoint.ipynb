{
 "cells": [
  {
   "cell_type": "markdown",
   "metadata": {
    "id": "Zo2JiEtkzvQL"
   },
   "source": [
    "# Regressão de preços de residências usando redes neurais densas (DNNs)\n"
   ]
  },
  {
   "cell_type": "markdown",
   "metadata": {
    "id": "z56YN3JZ0Duh"
   },
   "source": [
    "## Importando as bibliotecas"
   ]
  },
  {
   "cell_type": "code",
   "execution_count": 1,
   "metadata": {
    "id": "YfPnR74Gzc_q"
   },
   "outputs": [],
   "source": [
    "import numpy as np\n",
    "import matplotlib.pyplot as plt\n",
    "import tensorflow as tf"
   ]
  },
  {
   "cell_type": "markdown",
   "metadata": {
    "id": "xrGLDV6q0PCc"
   },
   "source": [
    "## A base de dados\n",
    "\n",
    "Neste exemplo, utilizaremos uma rede neural para aproximar o conjunto de dados do Boston Housing e predizer o custo médio de uma casa em uma área de Boston.\n",
    "\n",
    "Esta base de dados contém **informações do censo dos EUA relativos aos preços de residências** em diferentes locais nos subúrbios de Boston **no final dos anos 1970**.\n",
    "\n",
    "**A base possui 506 exemplos e 13 atributos numéricos** (atributos $x_i$ com $i$ variando de 1 a 13). \n",
    "\n",
    "O **décimo quarto atributo** (i.e., MEDV: Median value of owner-occupied homes in USD 1000's) é considerado como sendo o **rótulo**, ou seja, o valor que queremos predizer com o modelo.\n",
    "\n",
    "A descrição das informações contidas no banco de dados segue abaixo.\n",
    "\n",
    "| Attribute |                              Description                              |\n",
    "|:---------:|:---------------------------------------------------------------------:|\n",
    "|    CRIM   |                     per capita crime rate by town                     |\n",
    "|     ZN    |    proportion of residential land zoned for lots over 25,000 sq.ft.   |\n",
    "|   INDUS   |            proportion of non-retail business acres per town           |\n",
    "|    CHAS   | Charles River dummy variable (= 1 if tract bounds river; 0 otherwise) |\n",
    "|    NOX    |           nitric oxides concentration (parts per 10 million)          |\n",
    "|     RM    |                  average number of rooms per dwelling                 |\n",
    "|    AGE    |         proportion of owner-occupied units built prior to 1940        |\n",
    "|    DIS    |          weighted distances to five Boston employment centres         |\n",
    "|    RAD    |               index of accessibility to radial highways               |\n",
    "|    TAX    |                full-value property-tax rate per USD 10.000               |\n",
    "|  PTRATIO  |                      pupil-teacher ratio by town                      |\n",
    "|     B     |  1000(Bk - 0.63)^2 where Bk is the proportion of black people by town |\n",
    "|   LSTAT   |                     lower status of the population                    |\n",
    "|    MEDV   |            Median value of owner-occupied homes in USD 1000's            |\n",
    "\n",
    "\n",
    "### Objetivo\n",
    "\n",
    "O objetivo é treinar um modelo de regressão que prediga o valor médio das casas naquela área usando os 13 atributos fornecidos.\n",
    "\n",
    "\n",
    "**Observação**\n",
    "\n",
    "A base de dados do Boston Housing é um das várias bases de dados disponibilizadas pela biblioteca TensorFlow.\n",
    "\n",
    "Outras bases de dados estão disponíveis em [TF datasets](https://www.tensorflow.org/api_docs/python/tf/keras/datasets)."
   ]
  },
  {
   "cell_type": "markdown",
   "metadata": {
    "id": "fyf8lZNuF0nz"
   },
   "source": [
    "## Baixando a base de dados\n",
    "\n",
    "Usamos a função `load_data()` do módulo `datasets` do TensorFlow para baixar a base de dados.\n",
    "\n",
    "A função divide o conjunto de dados em conjuntos de treinamento e teste. Por padrão, ela separa 80% do total para treinamento e 20% para testes.\n",
    "\n",
    "Como o próprio nome já diz, o **conjunto de treinamento** é usado para treinar o modelo.\n",
    "\n",
    "Já o **conjunto de teste** é usado para medir a **capacidade de generalização do modelo**, pois ele **não é usado durante o treinamento**."
   ]
  },
  {
   "cell_type": "code",
   "execution_count": 2,
   "metadata": {
    "id": "Ib2Ihepx0N6h"
   },
   "outputs": [],
   "source": [
    "data = tf.keras.datasets.boston_housing\n",
    "\n",
    "(x_train, y_train), (x_test, y_test) = data.load_data()"
   ]
  },
  {
   "cell_type": "markdown",
   "metadata": {
    "id": "2d6pGhBxFu95"
   },
   "source": [
    "### Dimensões dos conjuntos de treinamento e teste.\n",
    "\n",
    "As arrays Numpy têm um atributo `shape`, o qual retorna uma *tupla* com as dimensões das arrays."
   ]
  },
  {
   "cell_type": "code",
   "execution_count": 3,
   "metadata": {
    "colab": {
     "base_uri": "https://localhost:8080/"
    },
    "id": "pq1bMIRd38b8",
    "outputId": "2957b4dd-83b8-4a3d-a49f-f19488681fcc"
   },
   "outputs": [
    {
     "name": "stdout",
     "output_type": "stream",
     "text": [
      "(404, 13)\n",
      "(404,)\n"
     ]
    }
   ],
   "source": [
    "print(x_train.shape)\n",
    "print(y_train.shape)"
   ]
  },
  {
   "cell_type": "code",
   "execution_count": 4,
   "metadata": {
    "colab": {
     "base_uri": "https://localhost:8080/"
    },
    "id": "qHaUYnSs4bq4",
    "outputId": "a0bfa28a-986b-42a0-eb5d-d6d612e80786"
   },
   "outputs": [
    {
     "name": "stdout",
     "output_type": "stream",
     "text": [
      "(102, 13)\n",
      "(102,)\n"
     ]
    }
   ],
   "source": [
    "print(x_test.shape)\n",
    "print(y_test.shape)"
   ]
  },
  {
   "cell_type": "markdown",
   "metadata": {},
   "source": [
    "## Análise exploratória dos dados"
   ]
  },
  {
   "cell_type": "markdown",
   "metadata": {
    "id": "44ENgGg2Qudp"
   },
   "source": [
    "### Explorando os rótulos ($y$)"
   ]
  },
  {
   "cell_type": "code",
   "execution_count": 5,
   "metadata": {
    "colab": {
     "base_uri": "https://localhost:8080/"
    },
    "id": "82O77YHNybhA",
    "outputId": "d77f3a76-6ac4-4a71-a3c0-2b878cebd32b"
   },
   "outputs": [
    {
     "name": "stdout",
     "output_type": "stream",
     "text": [
      "Preço mín. em 1K de USD:  5.0\n",
      "Preço médio em 1K de USD:  22.4\n",
      "Preço máx. em 1K de USD:  50.0\n"
     ]
    }
   ],
   "source": [
    "print('Preço mín. em 1K de USD: ',  y_train.min())\n",
    "print('Preço médio em 1K de USD: ', round(y_train.mean(), 2))\n",
    "print('Preço máx. em 1K de USD: ',  y_train.max())"
   ]
  },
  {
   "cell_type": "markdown",
   "metadata": {
    "id": "YntJY4qbGY83"
   },
   "source": [
    "#### Plotando o histograma"
   ]
  },
  {
   "cell_type": "code",
   "execution_count": 6,
   "metadata": {
    "colab": {
     "base_uri": "https://localhost:8080/",
     "height": 453
    },
    "id": "1SCj8H9rysOM",
    "outputId": "7b5778b2-5b69-4ccc-f3de-2bf40083a3bd"
   },
   "outputs": [
    {
     "data": {
      "image/png": "[encoded data removed]",
      "text/plain": [
       "<Figure size 640x480 with 1 Axes>"
      ]
     },
     "metadata": {},
     "output_type": "display_data"
    }
   ],
   "source": [
    "plt.hist(y_train, label='train', bins=20)\n",
    "plt.hist(y_test, label = 'test', bins=20)\n",
    "plt.xlabel('Preço em K$')\n",
    "plt.grid()\n",
    "plt.legend()\n",
    "plt.show()"
   ]
  },
  {
   "cell_type": "markdown",
   "metadata": {
    "id": "y-rucFopR7-H"
   },
   "source": [
    "**Observação**\n",
    "\n",
    "Vejam que os rótulos de teste têm uma distribuição similar aos de treinamento, tendo apenas uma quantidade menor."
   ]
  },
  {
   "cell_type": "markdown",
   "metadata": {
    "id": "_M47lzg7z3vI"
   },
   "source": [
    "### Explorando os atributos ($x_i, \\forall i \\in {1, ..., 13}$)"
   ]
  },
  {
   "cell_type": "markdown",
   "metadata": {
    "id": "7UscKMDdGkcB"
   },
   "source": [
    "#### Verificando o intervalo de valores de cada atributo."
   ]
  },
  {
   "cell_type": "code",
   "execution_count": 7,
   "metadata": {
    "colab": {
     "base_uri": "https://localhost:8080/"
    },
    "id": "sgy3E-Y7D__F",
    "outputId": "fab1f206-752f-4710-fffe-aabaf1d0d544"
   },
   "outputs": [
    {
     "name": "stdout",
     "output_type": "stream",
     "text": [
      "Atributo 1 ==> varia de 0.00632 a 88.9762\n",
      "Atributo 2 ==> varia de 0.0 a 100.0\n",
      "Atributo 3 ==> varia de 0.46 a 27.74\n",
      "Atributo 4 ==> varia de 0.0 a 1.0\n",
      "Atributo 5 ==> varia de 0.385 a 0.871\n",
      "Atributo 6 ==> varia de 3.561 a 8.725\n",
      "Atributo 7 ==> varia de 2.9 a 100.0\n",
      "Atributo 8 ==> varia de 1.1296 a 10.7103\n",
      "Atributo 9 ==> varia de 1.0 a 24.0\n",
      "Atributo 10 ==> varia de 188.0 a 711.0\n",
      "Atributo 11 ==> varia de 12.6 a 22.0\n",
      "Atributo 12 ==> varia de 0.32 a 396.9\n",
      "Atributo 13 ==> varia de 1.73 a 37.97\n"
     ]
    }
   ],
   "source": [
    "for i in range(len(x_train[0])):\n",
    "    print(\"Atributo {} ==> varia de {} a {}\".format(\n",
    "      i+1, x_train[:,i].min(), x_train[:,i].max()\n",
    "      )\n",
    "  )"
   ]
  },
  {
   "cell_type": "markdown",
   "metadata": {},
   "source": [
    "**Observação**\n",
    "\n",
    "Percebam que os atributos têm intervalos bastante diferentes."
   ]
  },
  {
   "cell_type": "markdown",
   "metadata": {
    "id": "zydqdnphG1V_"
   },
   "source": [
    "#### Plotando os histogramas dos atributos"
   ]
  },
  {
   "cell_type": "code",
   "execution_count": 8,
   "metadata": {
    "colab": {
     "base_uri": "https://localhost:8080/",
     "height": 1000
    },
    "id": "DGLqc-E4rkCG",
    "outputId": "5d8398cf-de71-432b-d0a4-1bfcb6155a45"
   },
   "outputs": [
    {
     "data": {
      "text/plain": [
       "array([[<Axes: title={'center': 'CRIM'}>, <Axes: title={'center': 'ZN'}>,\n",
       "        <Axes: title={'center': 'INDUS'}>,\n",
       "        <Axes: title={'center': 'CHAS'}>],\n",
       "       [<Axes: title={'center': 'NOX'}>, <Axes: title={'center': 'RM'}>,\n",
       "        <Axes: title={'center': 'AGE'}>, <Axes: title={'center': 'DIS'}>],\n",
       "       [<Axes: title={'center': 'RAD'}>, <Axes: title={'center': 'TAX'}>,\n",
       "        <Axes: title={'center': 'PTRATIO'}>,\n",
       "        <Axes: title={'center': 'B'}>],\n",
       "       [<Axes: title={'center': 'LSTAT'}>, <Axes: >, <Axes: >, <Axes: >]],\n",
       "      dtype=object)"
      ]
     },
     "execution_count": 8,
     "metadata": {},
     "output_type": "execute_result"
    },
    {
     "data": {
      "image/png": "[encoded data removed]",
      "text/plain": [
       "<Figure size 1600x2000 with 16 Axes>"
      ]
     },
     "metadata": {},
     "output_type": "display_data"
    }
   ],
   "source": [
    "# Biblioteca para análise e manipulação de dados.\n",
    "import pandas as pd\n",
    "\n",
    "# Concatena os dois conjuntos em apenas um.\n",
    "x = np.vstack([x_train, x_test])\n",
    "\n",
    "# Cria um objeto do tipo DataFrame.\n",
    "df = pd.DataFrame(x, columns=['CRIM','ZN','INDUS','CHAS','NOX','RM','AGE','DIS','RAD','TAX','PTRATIO','B','LSTAT'])\n",
    "\n",
    "# Plota os histogramas de todos os atributos.\n",
    "df.hist(figsize=(16, 20), xlabelsize=8, ylabelsize=8)"
   ]
  },
  {
   "cell_type": "markdown",
   "metadata": {
    "id": "0-H0LwB_7von"
   },
   "source": [
    "### Pré-processamento dos dados\n",
    "\n",
    "Como percebemos, os atributos têm diferentes intervalos de valores.\n",
    "\n",
    "Quando os atributos têm intervalos de valores muito diferentes, os modelos de aprendizado de máquina, podem ser afetados com\n",
    "\n",
    "  + **Influência desproporcional**: Atributos com **intervalos maiores** podem ter uma **influência desproporcional sobre o processo de aprendizado**, levando o **modelo a dar mais importância a esses atributos** e menos importância aos atributos com intervalos menores.\n",
    "  <br/>\n",
    "\n",
    "  + **Dificuldade de convergência**: Algoritmos de otimização, como o **gradiente descendente**, podem ter **dificuldade em convergir rapidamente quando os atributos têm escalas muito diferentes**. Isso pode resultar em um treinamento mais lento ou até mesmo na não convergência do modelo.\n",
    "\n",
    "Uma forma de resolver ou mitigar estes problemas é através do **escalonamento dos atributos**.\n",
    "\n",
    "O **escalonamento** de dados serve para garantir que os atributos **estejam em uma escala compatível e comparável**, melhorando assim o desempenho e a eficácia de muitos algoritmos de aprendizado.\n",
    "\n",
    "Existem duas formas comuns de escalonamento que podem ser aplicadas aos atributos em um conjunto de dados:\n",
    "\n",
    "+ **Normalização**: os valores dos atributos são transformados para um intervalo entre 0 e 1. A normalização de cada amostra, $x_i[n]$, do conjunto é feita da seguinte forma:\n",
    "$$z_i[n] = \\frac{x_i[n] - \\min{x_i}}{\\max{x_i}-\\min{x_i}}, \\forall i \\in [1, ..., K]\\;\\;\\ \\text{e} \\;\\;\\ n \\in [0, ..., N-1],$$\n",
    "onde $\\min{x_i}$ e $\\max{x_i}$ são os valores mínimo e máximo do $i$-ésimo atributo do conjunto de treinamento, respectivamente.\n",
    "<br/>\n",
    "\n",
    "+ **Padronização**: os valores dos atributos são transformados para terem uma média igual a 0 e um desvio padrão igual a 1. A padronização de cada amostra, $x_i[n]$, do conjunto é feita da seguinte forma:\n",
    "$$z_i[n] = \\frac{x_i[n] - \\mu_{x_i}}{\\sigma_{x_i}}, \\forall i \\in [1, ..., K]\\;\\;\\ \\text{e} \\;\\;\\ n \\in [0, ..., N-1]$$\n",
    "onde $\\mu_{x_i}$ e $\\sigma_{x_i}$ são a média e o desvio padrão das amostras do $i$-ésimo atributo do conjunto de treinamento, respectivamente.\n",
    "\n",
    "**Observações**\n",
    "\n",
    "+ Os **parâmetros para escalonamento são calculados a partir do conjunto de treinamento** e aplicados a todos os conjuntos.\n",
    "  + Isso **evita o vazamento de informações do futuro no treinamento** (i.e., os dados inéditos do conjunto de testes) e garante consistência no pré-processamento, garantindo previsões coerentes em diferentes conjuntos de dados.\n",
    "+ Em geral, não se aplica escalonamento aos rótulos.\n",
    "+ Não existe uma regra direta para dizer quando normalizar ou\n",
    "padronizar os atributos. Portanto, é comum treinar o modelo com os dados brutos, normalizados e padronizados e, em seguida, comparar o desempenho para cada um dos casos.\n",
    "\n",
    "Usaremos a classe `StandardScaler` da biblioteca `SciKit-learn` para padronizar os atributos."
   ]
  },
  {
   "cell_type": "code",
   "execution_count": 9,
   "metadata": {
    "id": "uZrGVMsH0X3F"
   },
   "outputs": [],
   "source": [
    "# Importamos a classe StandardScaler.\n",
    "from sklearn.preprocessing import StandardScaler\n",
    "\n",
    "# Instanciamos um objeto da classe StandardScaler.\n",
    "scaler = StandardScaler()\n",
    "\n",
    "# Calcula-se os parâmetros de padronização usando o conjunto de treinamento.\n",
    "scaler.fit(x_train)\n",
    "\n",
    "# Usamos o método `transform` para padronizar os atributos de treinamento e teste.\n",
    "x_train_std = scaler.transform(x_train)\n",
    "x_test_std = scaler.transform(x_test)"
   ]
  },
  {
   "cell_type": "markdown",
   "metadata": {
    "id": "amLdhSLI6gzT"
   },
   "source": [
    "Uma amostra padronizada"
   ]
  },
  {
   "cell_type": "code",
   "execution_count": 10,
   "metadata": {
    "colab": {
     "base_uri": "https://localhost:8080/"
    },
    "id": "bDL5Es5W6caw",
    "outputId": "82a4b948-eca4-43aa-9dfe-326b5a1b4b16"
   },
   "outputs": [
    {
     "name": "stdout",
     "output_type": "stream",
     "text": [
      "[-0.27224633 -0.48361547 -0.43576161 -0.25683275 -0.1652266  -0.1764426\n",
      "  0.81306188  0.1166983  -0.62624905 -0.59517003  1.14850044  0.44807713\n",
      "  0.8252202 ]\n"
     ]
    }
   ],
   "source": [
    "print(x_train_std[0])"
   ]
  },
  {
   "cell_type": "markdown",
   "metadata": {
    "id": "i4tVlw4Za3-U"
   },
   "source": [
    "Comparando os valores máximos e mínimos antes e depois do escalonamento"
   ]
  },
  {
   "cell_type": "code",
   "execution_count": 11,
   "metadata": {
    "colab": {
     "base_uri": "https://localhost:8080/"
    },
    "id": "V0JnMrLAa3Y4",
    "outputId": "00610fc6-817a-4b86-c1ff-b3a651518620"
   },
   "outputs": [
    {
     "name": "stdout",
     "output_type": "stream",
     "text": [
      "Máx. antes do escalonamento: 711.0\n",
      "Mín. antes do escalonamento: 0.0\n",
      "\n",
      "Máx. depois do escalonamento: 9.234847178400438\n",
      "Mín. depois do escalonamento: -3.8172503201932715\n"
     ]
    }
   ],
   "source": [
    "print('Máx. antes do escalonamento:', x_train.max())\n",
    "print('Mín. antes do escalonamento:', x_train.min())\n",
    "\n",
    "print('\\nMáx. depois do escalonamento:', x_train_std.max())\n",
    "print('Mín. depois do escalonamento:', x_train_std.min())"
   ]
  },
  {
   "cell_type": "markdown",
   "metadata": {
    "id": "pYMsyOk8-xnf"
   },
   "source": [
    "## Definindo o modelo\n",
    "\n",
    "Sabemos que a base de dados possui 13 atributos. Portanto, a **entrada da rede neural precisa ter uma dimensão igual a 13**, ou seja, a rede deve ter 13 entradas.\n",
    "\n",
    "O número de exemplos não é usado para especificar as dimensões de entrada da rede, pois ele pode ser alterado dependendo do tamanho do *mini-batch* usado."
   ]
  },
  {
   "cell_type": "code",
   "execution_count": 12,
   "metadata": {
    "colab": {
     "base_uri": "https://localhost:8080/"
    },
    "id": "JBUukyQ0INrf",
    "outputId": "fb9fc17e-dbed-48c7-f6c8-b47946e42b17"
   },
   "outputs": [
    {
     "data": {
      "text/plain": [
       "(404, 13)"
      ]
     },
     "execution_count": 12,
     "metadata": {},
     "output_type": "execute_result"
    }
   ],
   "source": [
    "x_train_std.shape"
   ]
  },
  {
   "cell_type": "code",
   "execution_count": 13,
   "metadata": {
    "colab": {
     "base_uri": "https://localhost:8080/"
    },
    "id": "ezpCJySN5h2Y",
    "outputId": "8d59593c-9c82-421f-b68e-21c9ae797da7"
   },
   "outputs": [
    {
     "data": {
      "text/plain": [
       "13"
      ]
     },
     "execution_count": 13,
     "metadata": {},
     "output_type": "execute_result"
    }
   ],
   "source": [
    "x_train_std.shape[1]"
   ]
  },
  {
   "cell_type": "markdown",
   "metadata": {
    "id": "cZd5uWeMeCBh"
   },
   "source": [
    "<img src=\"https://raw.githubusercontent.com/zz4fap/tp557-iot-ml/main/figures/exercicio_regressao.png\" width=\"400px\">"
   ]
  },
  {
   "cell_type": "markdown",
   "metadata": {
    "id": "M-rf04NFdM-9"
   },
   "source": [
    "Assim, definimos a variável `input_shape` usando apenas o número de colunas da matriz de entrada."
   ]
  },
  {
   "cell_type": "code",
   "execution_count": 14,
   "metadata": {
    "colab": {
     "base_uri": "https://localhost:8080/"
    },
    "id": "sDlDs9YO5qk_",
    "outputId": "59bebc7b-e2cb-4a69-f155-d893d49c58be"
   },
   "outputs": [
    {
     "name": "stdout",
     "output_type": "stream",
     "text": [
      "Dimensão de entrada: 13\n"
     ]
    }
   ],
   "source": [
    "input_shape = x_train_std.shape[1]\n",
    "\n",
    "print('Dimensão de entrada:', input_shape)"
   ]
  },
  {
   "cell_type": "markdown",
   "metadata": {
    "id": "UZimwlA92lLr"
   },
   "source": [
    "Vamos inicialmente criar um modelo com uma única camada oculta com 20 neurônios, mas iremos validar outros valores mais tarde.\n",
    "\n",
    "Desta forma, a rede que precisamos definir terá uma entrada com dimensão igual a 13, uma camada oculta com 20 neurônios e uma camada de saída com apenas um neurônio para corresponder à dimensão dos rótulos, $y$.\n",
    "\n",
    "- [input] ==> [hidden] ==> [output]:\n",
    "  - 13 ==> [20] ==>  1\n",
    "\n",
    "**Observações**\n",
    "\n",
    "+ Percebam que o número de entradas e saídas da rede neural é sempre definido pelo conjunto de dados que temos.\n",
    "+ O que precisamos definir nós mesmos é o número de camadas e nós em cada uma dessas outras camadas.\n",
    "   + O que **precisamos ter como objetivo é encontrar o modelo mais simples, mas ainda explique bem os dados**, ou seja, generalize bem.\n",
    "   + Modelos **muito complexos** (i.e., grandes) têm uma **capacidade muito grande** (i.e., memória) e podem acabar **memorizando o conjunto de treinamento** ao invés de encontrarem uma solução geral (i.e., **sobreajuste**).\n",
    "+ Como encontramos os valores ideiais para estes **hiperparâmetros**?\n",
    "   + Através de técnicas de otimização hiperparamétrica.\n",
    "   + Na sequência, usaremos uma biblioteca que implementa algumas técnicas."
   ]
  },
  {
   "cell_type": "code",
   "execution_count": 15,
   "metadata": {
    "colab": {
     "base_uri": "https://localhost:8080/"
    },
    "id": "dEdoqWl28dB3",
    "outputId": "4c3cfcf3-0574-4ff1-ca2d-36747afe880c"
   },
   "outputs": [
    {
     "name": "stdout",
     "output_type": "stream",
     "text": [
      "Model: \"sequential\"\n",
      "_________________________________________________________________\n",
      " Layer (type)                Output Shape              Param #   \n",
      "=================================================================\n",
      " dense (Dense)               (None, 20)                280       \n",
      "                                                                 \n",
      " dense_1 (Dense)             (None, 1)                 21        \n",
      "                                                                 \n",
      "=================================================================\n",
      "Total params: 301\n",
      "Trainable params: 301\n",
      "Non-trainable params: 0\n",
      "_________________________________________________________________\n"
     ]
    }
   ],
   "source": [
    "model = tf.keras.models.Sequential(\n",
    "    [\n",
    "        tf.keras.layers.Dense(20, input_shape=[input_shape], activation='relu'),\n",
    "        tf.keras.layers.Dense(1)\n",
    "    ]\n",
    ")\n",
    "\n",
    "model.summary()"
   ]
  },
  {
   "cell_type": "markdown",
   "metadata": {
    "id": "FNTU33Hn1TRj"
   },
   "source": [
    "**Observação**\n",
    "\n",
    "+ A camada de entrada possui 13 conexões, uma para cada atributo $x_i$.\n",
    "\n",
    "+ Cada atributo se conecta a todos os neurônios da camada oculta, que tem 20 neurônios.\n",
    "\n",
    "+ Assim, os parâmetros treináneis da camada oculta são $13 \\times 20 + 20 = 280$, i.e., $13 \\times 20$ pesos sinápticos mais $20$ pesos de bias por neurônio.\n",
    "\n",
    "+ A camada de saída tem apenas um neurônio que está conectado às saídas de todos os neurônios da camada anterior. Assim, ela possui $20 + 1 = 21$ parâmetros treináneis, ou seja, $20$ pesos sinápticos e $1$ peso de bias.\n",
    "\n",
    "+ Isso totaliza $280 + 21 = 301$ parâmetros treináveis (ou seja, 301 pesos)."
   ]
  },
  {
   "cell_type": "markdown",
   "metadata": {
    "id": "IfGTI8SY_3AL"
   },
   "source": [
    "## Compilando o modelo\n",
    "\n",
    "Para compilar o modelo, precisamos definir uma função de erro a ser minimizada e o otimizador a ser usado para a minimização."
   ]
  },
  {
   "cell_type": "markdown",
   "metadata": {
    "id": "QzTQem0EHY-O"
   },
   "source": [
    "### Diferentes funções de erro.\n",
    "\n",
    "Como vimos anteriormente, existem várias funções de erro que podemos utilizar para otimizar um modelo de aprendizado de máquina para problemas de regressão.\n",
    "\n",
    "Além do MSE, temos\n",
    "\n",
    "+ `Mean Absolute Error (MAE)` que é calculado como:\n",
    "$$MAE=\\frac{1}{n}\\sum_{i=1}^{n}(\\left|y_{i}-\\hat{y}_{i}\\right|)$$\n",
    "  + Não amplifica erros maiores, o que pode torná-lo mais robusto a outliers.\n",
    "<br/><br/>\n",
    "\n",
    "+ `Root Mean Square Error (RMSE)`, que é a raiz quadrada do MSE e é calculado da seguinte forma:\n",
    "$$RSME=\\sqrt{\\frac{1}{N}\\sum_{i=1}^{N}{(y_{i}-\\hat{y}_{i})}^2}$$\n",
    "  + Toma-se a raíz quadrada do MSE para trazer a métrica de volta à mesma unidade dos dados originais, tornando-a mais interpretável e comparável com os valores reais.\n",
    "  + O MSE e o RMSE tendem a penalizar mais erros maiores, enquanto o MAE é mais tolerante a eles.\n",
    "\n",
    "Podemos usar o MSE para calcular o erro (i.e., perda), mas também acompanhar o MAE ou RMSE. \n",
    "\n",
    "Isso é possível através do uso do parâmetro `metrics` do método `compile`, para o qual podemos passar uma **lista** com as métricas que queremos acompanhar."
   ]
  },
  {
   "cell_type": "markdown",
   "metadata": {
    "id": "K7yHe1BU_Cr2"
   },
   "source": [
    "### Otimizador\n",
    "\n",
    "Em exemplos anteriores, usamos o Gradiente Descendente Estocástico (SGD) como otimizador. Neste exemplo, usaremos um outro tipo de otimizador muito popular para o treinamento de redes neurais.\n",
    "\n",
    "O otimizador que utilizaremos será o [Adam](https://www.tensorflow.org/api_docs/python/tf/keras/optimizers/Adam).\n",
    "\n",
    "O Adam (Adaptive Moment Estimation) foi projetado para superar algumas limitações do SGD, como problemas de convergência e passo de aprendizagem fixo.\n",
    "\n",
    "Ele é uma variante (**melhoria**) do SGD que **combina** técnicas conhecidas como **termo momentum** e **passos** de aprendizagem independentes e variáveis.\n",
    "\n",
    "Usa **estimativas dos momentos de primeira e segunda ordens** (i.e., média e variância) para **acelerar a convergência do algoritmo**, **evitar divergência** e **ajustar automaticamente os valores dos passos de aprendizagem** de acordo com os gradientes em diferentes direções, respectivamente.\n",
    "\n",
    "Por padrão, o valor do hiperparâmetro `learning_rate` é $0.001$."
   ]
  },
  {
   "cell_type": "code",
   "execution_count": 16,
   "metadata": {
    "id": "NA21O9Y0_BJ7"
   },
   "outputs": [],
   "source": [
    "model.compile(\n",
    "    optimizer='adam',\n",
    "    loss='mse',\n",
    "    metrics=['mae'] # métrica usada para monitorar as etapas de treinamento e teste.\n",
    ")"
   ]
  },
  {
   "cell_type": "markdown",
   "metadata": {
    "id": "pJZ4fvT3_yd7"
   },
   "source": [
    "## Treinando o modelo\n",
    "\n",
    "**Observações**\n",
    "\n",
    "+ Se quisermos avaliar o desempenho do modelo no conjunto de teste durante o treinamento, podemos usar o parâmetro `validation_data` para passar o conjunto de testes para o método `fit`.\n",
    "<br/>\n",
    "\n",
    "+ Atribuímos o retorno do método `fit` (i.e., dicionário com resultados) à variável `history` para que possamos plotar os resultados obtidos durante o treinamento.\n",
    "<br/>\n",
    "\n",
    "+ Percebam que estamos usando o **conjunto de treinamento padronizado**."
   ]
  },
  {
   "cell_type": "code",
   "execution_count": 17,
   "metadata": {
    "colab": {
     "base_uri": "https://localhost:8080/"
    },
    "id": "RxklrX_R_uvn",
    "outputId": "8a410ce8-271f-4ce4-e184-4b0139e0834a"
   },
   "outputs": [
    {
     "name": "stdout",
     "output_type": "stream",
     "text": [
      "Epoch 1/1000\n",
      "13/13 [==============================] - 0s 917us/step - loss: 593.3499 - mae: 22.7505\n",
      "Epoch 2/1000\n",
      "13/13 [==============================] - 0s 750us/step - loss: 580.7227 - mae: 22.4883\n",
      "Epoch 3/1000\n",
      "13/13 [==============================] - 0s 666us/step - loss: 568.7249 - mae: 22.2374\n",
      "Epoch 4/1000\n",
      "13/13 [==============================] - 0s 750us/step - loss: 556.8134 - mae: 21.9879\n",
      "Epoch 5/1000\n",
      "13/13 [==============================] - 0s 667us/step - loss: 544.7838 - mae: 21.7336\n",
      "Epoch 6/1000\n",
      "13/13 [==============================] - 0s 750us/step - loss: 532.4958 - mae: 21.4712\n",
      "Epoch 7/1000\n",
      "13/13 [==============================] - 0s 750us/step - loss: 519.9138 - mae: 21.2047\n",
      "Epoch 8/1000\n",
      "13/13 [==============================] - 0s 750us/step - loss: 507.1369 - mae: 20.9286\n",
      "Epoch 9/1000\n",
      "13/13 [==============================] - 0s 750us/step - loss: 493.7441 - mae: 20.6385\n",
      "Epoch 10/1000\n",
      "13/13 [==============================] - 0s 750us/step - loss: 480.3563 - mae: 20.3398\n",
      "Epoch 11/1000\n",
      "13/13 [==============================] - 0s 749us/step - loss: 466.3892 - mae: 20.0240\n",
      "Epoch 12/1000\n",
      "13/13 [==============================] - 0s 666us/step - loss: 451.7536 - mae: 19.6949\n",
      "Epoch 13/1000\n",
      "13/13 [==============================] - 0s 750us/step - loss: 437.1177 - mae: 19.3497\n",
      "Epoch 14/1000\n",
      "13/13 [==============================] - 0s 750us/step - loss: 422.1874 - mae: 18.9914\n",
      "Epoch 15/1000\n",
      "13/13 [==============================] - 0s 751us/step - loss: 407.0851 - mae: 18.6161\n",
      "Epoch 16/1000\n",
      "13/13 [==============================] - 0s 750us/step - loss: 392.0406 - mae: 18.2326\n",
      "Epoch 17/1000\n",
      "13/13 [==============================] - 0s 751us/step - loss: 376.6542 - mae: 17.8284\n",
      "Epoch 18/1000\n",
      "13/13 [==============================] - 0s 833us/step - loss: 361.3968 - mae: 17.4158\n",
      "Epoch 19/1000\n",
      "13/13 [==============================] - 0s 750us/step - loss: 346.1291 - mae: 16.9914\n",
      "Epoch 20/1000\n",
      "13/13 [==============================] - 0s 752us/step - loss: 331.1137 - mae: 16.5513\n",
      "Epoch 21/1000\n",
      "13/13 [==============================] - 0s 750us/step - loss: 316.3662 - mae: 16.1072\n",
      "Epoch 22/1000\n",
      "13/13 [==============================] - 0s 751us/step - loss: 301.4843 - mae: 15.6440\n",
      "Epoch 23/1000\n",
      "13/13 [==============================] - 0s 749us/step - loss: 287.5737 - mae: 15.1861\n",
      "Epoch 24/1000\n",
      "13/13 [==============================] - 0s 751us/step - loss: 273.5075 - mae: 14.7022\n",
      "Epoch 25/1000\n",
      "13/13 [==============================] - 0s 834us/step - loss: 260.1194 - mae: 14.2156\n",
      "Epoch 26/1000\n",
      "13/13 [==============================] - 0s 750us/step - loss: 246.8905 - mae: 13.7327\n",
      "Epoch 27/1000\n",
      "13/13 [==============================] - 0s 833us/step - loss: 234.6320 - mae: 13.2514\n",
      "Epoch 28/1000\n",
      "13/13 [==============================] - 0s 750us/step - loss: 222.3041 - mae: 12.7770\n",
      "Epoch 29/1000\n",
      "13/13 [==============================] - 0s 833us/step - loss: 210.8627 - mae: 12.3175\n",
      "Epoch 30/1000\n",
      "13/13 [==============================] - 0s 750us/step - loss: 200.0680 - mae: 11.8775\n",
      "Epoch 31/1000\n",
      "13/13 [==============================] - 0s 750us/step - loss: 189.6204 - mae: 11.4621\n",
      "Epoch 32/1000\n",
      "13/13 [==============================] - 0s 751us/step - loss: 179.7946 - mae: 11.0743\n",
      "Epoch 33/1000\n",
      "13/13 [==============================] - 0s 750us/step - loss: 170.8336 - mae: 10.7179\n",
      "Epoch 34/1000\n",
      "13/13 [==============================] - 0s 917us/step - loss: 161.8630 - mae: 10.3659\n",
      "Epoch 35/1000\n",
      "13/13 [==============================] - 0s 667us/step - loss: 153.8256 - mae: 10.0446\n",
      "Epoch 36/1000\n",
      "13/13 [==============================] - 0s 750us/step - loss: 146.2786 - mae: 9.7293\n",
      "Epoch 37/1000\n",
      "13/13 [==============================] - 0s 750us/step - loss: 138.7792 - mae: 9.4256\n",
      "Epoch 38/1000\n",
      "13/13 [==============================] - 0s 667us/step - loss: 132.0655 - mae: 9.1300\n",
      "Epoch 39/1000\n",
      "13/13 [==============================] - 0s 750us/step - loss: 125.6295 - mae: 8.8604\n",
      "Epoch 40/1000\n",
      "13/13 [==============================] - 0s 667us/step - loss: 119.4140 - mae: 8.5970\n",
      "Epoch 41/1000\n",
      "13/13 [==============================] - 0s 750us/step - loss: 113.7103 - mae: 8.3525\n",
      "Epoch 42/1000\n",
      "13/13 [==============================] - 0s 750us/step - loss: 108.3823 - mae: 8.1163\n",
      "Epoch 43/1000\n",
      "13/13 [==============================] - 0s 667us/step - loss: 102.9454 - mae: 7.8928\n",
      "Epoch 44/1000\n",
      "13/13 [==============================] - 0s 668us/step - loss: 98.2127 - mae: 7.6823\n",
      "Epoch 45/1000\n",
      "13/13 [==============================] - 0s 667us/step - loss: 93.3505 - mae: 7.4772\n",
      "Epoch 46/1000\n",
      "13/13 [==============================] - 0s 667us/step - loss: 88.8974 - mae: 7.2708\n",
      "Epoch 47/1000\n",
      "13/13 [==============================] - 0s 750us/step - loss: 84.6199 - mae: 7.0781\n",
      "Epoch 48/1000\n",
      "13/13 [==============================] - 0s 667us/step - loss: 80.7357 - mae: 6.8970\n",
      "Epoch 49/1000\n",
      "13/13 [==============================] - 0s 667us/step - loss: 76.8169 - mae: 6.7172\n",
      "Epoch 50/1000\n",
      "13/13 [==============================] - 0s 750us/step - loss: 73.0643 - mae: 6.5341\n",
      "Epoch 51/1000\n",
      "13/13 [==============================] - 0s 751us/step - loss: 69.6256 - mae: 6.3648\n",
      "Epoch 52/1000\n",
      "13/13 [==============================] - 0s 666us/step - loss: 66.3149 - mae: 6.1979\n",
      "Epoch 53/1000\n",
      "13/13 [==============================] - 0s 751us/step - loss: 63.2167 - mae: 6.0366\n",
      "Epoch 54/1000\n",
      "13/13 [==============================] - 0s 749us/step - loss: 60.1179 - mae: 5.8764\n",
      "Epoch 55/1000\n",
      "13/13 [==============================] - 0s 750us/step - loss: 57.3744 - mae: 5.7289\n",
      "Epoch 56/1000\n",
      "13/13 [==============================] - 0s 750us/step - loss: 54.6899 - mae: 5.5799\n",
      "Epoch 57/1000\n",
      "13/13 [==============================] - 0s 667us/step - loss: 52.2910 - mae: 5.4381\n",
      "Epoch 58/1000\n",
      "13/13 [==============================] - 0s 750us/step - loss: 49.8873 - mae: 5.3045\n",
      "Epoch 59/1000\n",
      "13/13 [==============================] - 0s 751us/step - loss: 47.7600 - mae: 5.1775\n",
      "Epoch 60/1000\n",
      "13/13 [==============================] - 0s 750us/step - loss: 45.8052 - mae: 5.0458\n",
      "Epoch 61/1000\n",
      "13/13 [==============================] - 0s 749us/step - loss: 43.8159 - mae: 4.9206\n",
      "Epoch 62/1000\n",
      "13/13 [==============================] - 0s 751us/step - loss: 42.1180 - mae: 4.8090\n",
      "Epoch 63/1000\n",
      "13/13 [==============================] - 0s 750us/step - loss: 40.5951 - mae: 4.7080\n",
      "Epoch 64/1000\n",
      "13/13 [==============================] - 0s 758us/step - loss: 39.1469 - mae: 4.6123\n",
      "Epoch 65/1000\n",
      "13/13 [==============================] - 0s 667us/step - loss: 37.8308 - mae: 4.5237\n",
      "Epoch 66/1000\n",
      "13/13 [==============================] - 0s 750us/step - loss: 36.7027 - mae: 4.4450\n",
      "Epoch 67/1000\n",
      "13/13 [==============================] - 0s 749us/step - loss: 35.6363 - mae: 4.3657\n",
      "Epoch 68/1000\n",
      "13/13 [==============================] - 0s 666us/step - loss: 34.7104 - mae: 4.2976\n",
      "Epoch 69/1000\n",
      "13/13 [==============================] - 0s 667us/step - loss: 33.8256 - mae: 4.2388\n",
      "Epoch 70/1000\n",
      "13/13 [==============================] - 0s 750us/step - loss: 33.1033 - mae: 4.1849\n",
      "Epoch 71/1000\n",
      "13/13 [==============================] - 0s 750us/step - loss: 32.4249 - mae: 4.1346\n",
      "Epoch 72/1000\n",
      "13/13 [==============================] - 0s 750us/step - loss: 31.8198 - mae: 4.0857\n",
      "Epoch 73/1000\n",
      "13/13 [==============================] - 0s 834us/step - loss: 31.2873 - mae: 4.0484\n",
      "Epoch 74/1000\n",
      "13/13 [==============================] - 0s 751us/step - loss: 30.7732 - mae: 4.0069\n",
      "Epoch 75/1000\n",
      "13/13 [==============================] - 0s 750us/step - loss: 30.3798 - mae: 3.9792\n",
      "Epoch 76/1000\n",
      "13/13 [==============================] - 0s 749us/step - loss: 29.9908 - mae: 3.9568\n",
      "Epoch 77/1000\n",
      "13/13 [==============================] - 0s 751us/step - loss: 29.5988 - mae: 3.9310\n",
      "Epoch 78/1000\n",
      "13/13 [==============================] - 0s 666us/step - loss: 29.2911 - mae: 3.9108\n",
      "Epoch 79/1000\n",
      "13/13 [==============================] - 0s 667us/step - loss: 28.9803 - mae: 3.8882\n",
      "Epoch 80/1000\n",
      "13/13 [==============================] - 0s 667us/step - loss: 28.7200 - mae: 3.8732\n",
      "Epoch 81/1000\n",
      "13/13 [==============================] - 0s 667us/step - loss: 28.4366 - mae: 3.8621\n",
      "Epoch 82/1000\n",
      "13/13 [==============================] - 0s 750us/step - loss: 28.2190 - mae: 3.8526\n",
      "Epoch 83/1000\n"
     ]
    },
    {
     "name": "stdout",
     "output_type": "stream",
     "text": [
      "13/13 [==============================] - 0s 666us/step - loss: 27.9709 - mae: 3.8374\n",
      "Epoch 84/1000\n",
      "13/13 [==============================] - 0s 666us/step - loss: 27.7959 - mae: 3.8283\n",
      "Epoch 85/1000\n",
      "13/13 [==============================] - 0s 834us/step - loss: 27.5652 - mae: 3.8136\n",
      "Epoch 86/1000\n",
      "13/13 [==============================] - 0s 750us/step - loss: 27.3860 - mae: 3.8017\n",
      "Epoch 87/1000\n",
      "13/13 [==============================] - 0s 750us/step - loss: 27.2105 - mae: 3.7916\n",
      "Epoch 88/1000\n",
      "13/13 [==============================] - 0s 750us/step - loss: 27.0222 - mae: 3.7798\n",
      "Epoch 89/1000\n",
      "13/13 [==============================] - 0s 750us/step - loss: 26.8424 - mae: 3.7673\n",
      "Epoch 90/1000\n",
      "13/13 [==============================] - 0s 833us/step - loss: 26.6763 - mae: 3.7580\n",
      "Epoch 91/1000\n",
      "13/13 [==============================] - 0s 832us/step - loss: 26.5328 - mae: 3.7534\n",
      "Epoch 92/1000\n",
      "13/13 [==============================] - 0s 749us/step - loss: 26.3405 - mae: 3.7439\n",
      "Epoch 93/1000\n",
      "13/13 [==============================] - 0s 749us/step - loss: 26.1952 - mae: 3.7362\n",
      "Epoch 94/1000\n",
      "13/13 [==============================] - 0s 751us/step - loss: 26.0372 - mae: 3.7222\n",
      "Epoch 95/1000\n",
      "13/13 [==============================] - 0s 750us/step - loss: 25.8781 - mae: 3.7140\n",
      "Epoch 96/1000\n",
      "13/13 [==============================] - 0s 750us/step - loss: 25.7326 - mae: 3.7060\n",
      "Epoch 97/1000\n",
      "13/13 [==============================] - 0s 757us/step - loss: 25.5832 - mae: 3.6957\n",
      "Epoch 98/1000\n",
      "13/13 [==============================] - 0s 742us/step - loss: 25.4415 - mae: 3.6837\n",
      "Epoch 99/1000\n",
      "13/13 [==============================] - 0s 751us/step - loss: 25.2985 - mae: 3.6732\n",
      "Epoch 100/1000\n",
      "13/13 [==============================] - 0s 750us/step - loss: 25.1645 - mae: 3.6650\n",
      "Epoch 101/1000\n",
      "13/13 [==============================] - 0s 750us/step - loss: 25.0553 - mae: 3.6583\n",
      "Epoch 102/1000\n",
      "13/13 [==============================] - 0s 751us/step - loss: 24.9061 - mae: 3.6450\n",
      "Epoch 103/1000\n",
      "13/13 [==============================] - 0s 668us/step - loss: 24.7600 - mae: 3.6365\n",
      "Epoch 104/1000\n",
      "13/13 [==============================] - 0s 667us/step - loss: 24.6252 - mae: 3.6269\n",
      "Epoch 105/1000\n",
      "13/13 [==============================] - 0s 667us/step - loss: 24.4931 - mae: 3.6170\n",
      "Epoch 106/1000\n",
      "13/13 [==============================] - 0s 749us/step - loss: 24.3780 - mae: 3.6054\n",
      "Epoch 107/1000\n",
      "13/13 [==============================] - 0s 667us/step - loss: 24.2429 - mae: 3.5968\n",
      "Epoch 108/1000\n",
      "13/13 [==============================] - 0s 667us/step - loss: 24.1204 - mae: 3.5931\n",
      "Epoch 109/1000\n",
      "13/13 [==============================] - 0s 668us/step - loss: 23.9630 - mae: 3.5827\n",
      "Epoch 110/1000\n",
      "13/13 [==============================] - 0s 666us/step - loss: 23.8591 - mae: 3.5768\n",
      "Epoch 111/1000\n",
      "13/13 [==============================] - 0s 750us/step - loss: 23.7065 - mae: 3.5678\n",
      "Epoch 112/1000\n",
      "13/13 [==============================] - 0s 668us/step - loss: 23.5840 - mae: 3.5605\n",
      "Epoch 113/1000\n",
      "13/13 [==============================] - 0s 750us/step - loss: 23.4457 - mae: 3.5503\n",
      "Epoch 114/1000\n",
      "13/13 [==============================] - 0s 751us/step - loss: 23.3241 - mae: 3.5389\n",
      "Epoch 115/1000\n",
      "13/13 [==============================] - 0s 666us/step - loss: 23.1920 - mae: 3.5307\n",
      "Epoch 116/1000\n",
      "13/13 [==============================] - 0s 751us/step - loss: 23.0622 - mae: 3.5198\n",
      "Epoch 117/1000\n",
      "13/13 [==============================] - 0s 667us/step - loss: 22.9409 - mae: 3.5087\n",
      "Epoch 118/1000\n",
      "13/13 [==============================] - 0s 750us/step - loss: 22.8080 - mae: 3.4979\n",
      "Epoch 119/1000\n",
      "13/13 [==============================] - 0s 750us/step - loss: 22.6886 - mae: 3.4899\n",
      "Epoch 120/1000\n",
      "13/13 [==============================] - 0s 751us/step - loss: 22.5614 - mae: 3.4790\n",
      "Epoch 121/1000\n",
      "13/13 [==============================] - 0s 750us/step - loss: 22.4327 - mae: 3.4693\n",
      "Epoch 122/1000\n",
      "13/13 [==============================] - 0s 747us/step - loss: 22.3097 - mae: 3.4612\n",
      "Epoch 123/1000\n",
      "13/13 [==============================] - 0s 749us/step - loss: 22.2145 - mae: 3.4555\n",
      "Epoch 124/1000\n",
      "13/13 [==============================] - 0s 811us/step - loss: 22.0586 - mae: 3.4437\n",
      "Epoch 125/1000\n",
      "13/13 [==============================] - 0s 743us/step - loss: 21.9480 - mae: 3.4330\n",
      "Epoch 126/1000\n",
      "13/13 [==============================] - 0s 750us/step - loss: 21.8181 - mae: 3.4207\n",
      "Epoch 127/1000\n",
      "13/13 [==============================] - 0s 756us/step - loss: 21.7068 - mae: 3.4097\n",
      "Epoch 128/1000\n",
      "13/13 [==============================] - 0s 750us/step - loss: 21.6005 - mae: 3.4032\n",
      "Epoch 129/1000\n",
      "13/13 [==============================] - 0s 750us/step - loss: 21.4633 - mae: 3.3933\n",
      "Epoch 130/1000\n",
      "13/13 [==============================] - 0s 750us/step - loss: 21.3559 - mae: 3.3863\n",
      "Epoch 131/1000\n",
      "13/13 [==============================] - 0s 750us/step - loss: 21.2337 - mae: 3.3766\n",
      "Epoch 132/1000\n",
      "13/13 [==============================] - 0s 750us/step - loss: 21.0845 - mae: 3.3627\n",
      "Epoch 133/1000\n",
      "13/13 [==============================] - 0s 750us/step - loss: 20.9664 - mae: 3.3531\n",
      "Epoch 134/1000\n",
      "13/13 [==============================] - 0s 751us/step - loss: 20.8459 - mae: 3.3403\n",
      "Epoch 135/1000\n",
      "13/13 [==============================] - 0s 750us/step - loss: 20.7057 - mae: 3.3296\n",
      "Epoch 136/1000\n",
      "13/13 [==============================] - 0s 832us/step - loss: 20.5874 - mae: 3.3215\n",
      "Epoch 137/1000\n",
      "13/13 [==============================] - 0s 750us/step - loss: 20.4739 - mae: 3.3132\n",
      "Epoch 138/1000\n",
      "13/13 [==============================] - 0s 751us/step - loss: 20.3572 - mae: 3.3031\n",
      "Epoch 139/1000\n",
      "13/13 [==============================] - 0s 750us/step - loss: 20.2195 - mae: 3.2915\n",
      "Epoch 140/1000\n",
      "13/13 [==============================] - 0s 751us/step - loss: 20.0966 - mae: 3.2803\n",
      "Epoch 141/1000\n",
      "13/13 [==============================] - 0s 750us/step - loss: 19.9653 - mae: 3.2708\n",
      "Epoch 142/1000\n",
      "13/13 [==============================] - 0s 750us/step - loss: 19.8394 - mae: 3.2602\n",
      "Epoch 143/1000\n",
      "13/13 [==============================] - 0s 725us/step - loss: 19.7246 - mae: 3.2486\n",
      "Epoch 144/1000\n",
      "13/13 [==============================] - 0s 750us/step - loss: 19.6097 - mae: 3.2401\n",
      "Epoch 145/1000\n",
      "13/13 [==============================] - 0s 833us/step - loss: 19.4853 - mae: 3.2230\n",
      "Epoch 146/1000\n",
      "13/13 [==============================] - 0s 834us/step - loss: 19.3511 - mae: 3.2133\n",
      "Epoch 147/1000\n",
      "13/13 [==============================] - 0s 833us/step - loss: 19.2253 - mae: 3.2027\n",
      "Epoch 148/1000\n",
      "13/13 [==============================] - 0s 750us/step - loss: 19.1049 - mae: 3.1909\n",
      "Epoch 149/1000\n",
      "13/13 [==============================] - 0s 749us/step - loss: 18.9805 - mae: 3.1771\n",
      "Epoch 150/1000\n",
      "13/13 [==============================] - 0s 834us/step - loss: 18.8460 - mae: 3.1676\n",
      "Epoch 151/1000\n",
      "13/13 [==============================] - 0s 751us/step - loss: 18.7355 - mae: 3.1589\n",
      "Epoch 152/1000\n",
      "13/13 [==============================] - 0s 751us/step - loss: 18.5930 - mae: 3.1448\n",
      "Epoch 153/1000\n",
      "13/13 [==============================] - 0s 750us/step - loss: 18.4649 - mae: 3.1344\n",
      "Epoch 154/1000\n",
      "13/13 [==============================] - 0s 750us/step - loss: 18.3483 - mae: 3.1272\n",
      "Epoch 155/1000\n",
      "13/13 [==============================] - 0s 751us/step - loss: 18.1973 - mae: 3.1118\n",
      "Epoch 156/1000\n",
      "13/13 [==============================] - 0s 751us/step - loss: 18.0640 - mae: 3.0952\n",
      "Epoch 157/1000\n",
      "13/13 [==============================] - 0s 751us/step - loss: 17.9444 - mae: 3.0804\n",
      "Epoch 158/1000\n",
      "13/13 [==============================] - 0s 751us/step - loss: 17.8216 - mae: 3.0677\n",
      "Epoch 159/1000\n",
      "13/13 [==============================] - 0s 751us/step - loss: 17.6951 - mae: 3.0563\n",
      "Epoch 160/1000\n",
      "13/13 [==============================] - 0s 834us/step - loss: 17.5805 - mae: 3.0460\n",
      "Epoch 161/1000\n",
      "13/13 [==============================] - 0s 751us/step - loss: 17.4542 - mae: 3.0346\n",
      "Epoch 162/1000\n",
      "13/13 [==============================] - 0s 751us/step - loss: 17.3159 - mae: 3.0203\n",
      "Epoch 163/1000\n",
      "13/13 [==============================] - 0s 751us/step - loss: 17.2199 - mae: 3.0077\n",
      "Epoch 164/1000\n",
      "13/13 [==============================] - 0s 833us/step - loss: 17.0796 - mae: 2.9961\n",
      "Epoch 165/1000\n",
      "13/13 [==============================] - 0s 751us/step - loss: 16.9797 - mae: 2.9888\n",
      "Epoch 166/1000\n",
      "13/13 [==============================] - 0s 750us/step - loss: 16.8292 - mae: 2.9736\n",
      "Epoch 167/1000\n",
      "13/13 [==============================] - 0s 750us/step - loss: 16.7240 - mae: 2.9607\n",
      "Epoch 168/1000\n",
      "13/13 [==============================] - 0s 751us/step - loss: 16.5933 - mae: 2.9458\n",
      "Epoch 169/1000\n",
      "13/13 [==============================] - 0s 749us/step - loss: 16.4878 - mae: 2.9329\n",
      "Epoch 170/1000\n",
      "13/13 [==============================] - 0s 750us/step - loss: 16.3614 - mae: 2.9209\n",
      "Epoch 171/1000\n",
      "13/13 [==============================] - 0s 749us/step - loss: 16.2348 - mae: 2.9106\n",
      "Epoch 172/1000\n",
      "13/13 [==============================] - 0s 749us/step - loss: 16.1294 - mae: 2.9023\n",
      "Epoch 173/1000\n",
      "13/13 [==============================] - 0s 751us/step - loss: 15.9932 - mae: 2.8885\n",
      "Epoch 174/1000\n",
      "13/13 [==============================] - 0s 833us/step - loss: 15.8975 - mae: 2.8761\n",
      "Epoch 175/1000\n",
      "13/13 [==============================] - 0s 833us/step - loss: 15.7724 - mae: 2.8652\n",
      "Epoch 176/1000\n",
      "13/13 [==============================] - 0s 750us/step - loss: 15.6512 - mae: 2.8531\n",
      "Epoch 177/1000\n",
      "13/13 [==============================] - 0s 834us/step - loss: 15.5501 - mae: 2.8450\n",
      "Epoch 178/1000\n",
      "13/13 [==============================] - 0s 833us/step - loss: 15.4551 - mae: 2.8367\n",
      "Epoch 179/1000\n",
      "13/13 [==============================] - 0s 750us/step - loss: 15.3326 - mae: 2.8227\n",
      "Epoch 180/1000\n",
      "13/13 [==============================] - 0s 750us/step - loss: 15.2219 - mae: 2.8126\n",
      "Epoch 181/1000\n",
      "13/13 [==============================] - 0s 751us/step - loss: 15.1191 - mae: 2.8012\n",
      "Epoch 182/1000\n",
      "13/13 [==============================] - 0s 750us/step - loss: 15.0108 - mae: 2.7910\n",
      "Epoch 183/1000\n",
      "13/13 [==============================] - 0s 751us/step - loss: 14.8990 - mae: 2.7819\n",
      "Epoch 184/1000\n",
      "13/13 [==============================] - 0s 833us/step - loss: 14.8265 - mae: 2.7741\n",
      "Epoch 185/1000\n",
      "13/13 [==============================] - 0s 750us/step - loss: 14.6898 - mae: 2.7596\n",
      "Epoch 186/1000\n",
      "13/13 [==============================] - 0s 750us/step - loss: 14.5965 - mae: 2.7503\n",
      "Epoch 187/1000\n",
      "13/13 [==============================] - 0s 750us/step - loss: 14.4887 - mae: 2.7382\n",
      "Epoch 188/1000\n",
      "13/13 [==============================] - 0s 751us/step - loss: 14.3915 - mae: 2.7259\n",
      "Epoch 189/1000\n",
      "13/13 [==============================] - 0s 751us/step - loss: 14.2829 - mae: 2.7148\n",
      "Epoch 190/1000\n",
      "13/13 [==============================] - 0s 833us/step - loss: 14.1967 - mae: 2.7068\n",
      "Epoch 191/1000\n",
      "13/13 [==============================] - 0s 750us/step - loss: 14.0788 - mae: 2.6964\n",
      "Epoch 192/1000\n",
      "13/13 [==============================] - 0s 749us/step - loss: 13.9856 - mae: 2.6856\n",
      "Epoch 193/1000\n",
      "13/13 [==============================] - 0s 833us/step - loss: 13.8821 - mae: 2.6718\n",
      "Epoch 194/1000\n",
      "13/13 [==============================] - 0s 834us/step - loss: 13.8074 - mae: 2.6593\n",
      "Epoch 195/1000\n",
      "13/13 [==============================] - 0s 751us/step - loss: 13.6913 - mae: 2.6473\n",
      "Epoch 196/1000\n",
      "13/13 [==============================] - 0s 750us/step - loss: 13.5974 - mae: 2.6379\n",
      "Epoch 197/1000\n",
      "13/13 [==============================] - 0s 751us/step - loss: 13.4869 - mae: 2.6297\n",
      "Epoch 198/1000\n",
      "13/13 [==============================] - 0s 833us/step - loss: 13.4001 - mae: 2.6237\n",
      "Epoch 199/1000\n",
      "13/13 [==============================] - 0s 750us/step - loss: 13.3039 - mae: 2.6111\n",
      "Epoch 200/1000\n",
      "13/13 [==============================] - 0s 750us/step - loss: 13.2107 - mae: 2.5967\n",
      "Epoch 201/1000\n",
      "13/13 [==============================] - 0s 751us/step - loss: 13.1093 - mae: 2.5876\n",
      "Epoch 202/1000\n",
      "13/13 [==============================] - 0s 833us/step - loss: 13.0208 - mae: 2.5834\n",
      "Epoch 203/1000\n",
      "13/13 [==============================] - 0s 749us/step - loss: 12.9377 - mae: 2.5753\n",
      "Epoch 204/1000\n",
      "13/13 [==============================] - 0s 751us/step - loss: 12.8323 - mae: 2.5631\n",
      "Epoch 205/1000\n",
      "13/13 [==============================] - 0s 751us/step - loss: 12.7607 - mae: 2.5574\n",
      "Epoch 206/1000\n",
      "13/13 [==============================] - 0s 751us/step - loss: 12.6741 - mae: 2.5478\n",
      "Epoch 207/1000\n",
      "13/13 [==============================] - 0s 751us/step - loss: 12.5708 - mae: 2.5351\n",
      "Epoch 208/1000\n",
      "13/13 [==============================] - 0s 833us/step - loss: 12.4951 - mae: 2.5276\n",
      "Epoch 209/1000\n",
      "13/13 [==============================] - 0s 750us/step - loss: 12.4204 - mae: 2.5162\n",
      "Epoch 210/1000\n",
      "13/13 [==============================] - 0s 751us/step - loss: 12.3204 - mae: 2.5043\n",
      "Epoch 211/1000\n",
      "13/13 [==============================] - 0s 750us/step - loss: 12.2411 - mae: 2.4951\n",
      "Epoch 212/1000\n",
      "13/13 [==============================] - 0s 749us/step - loss: 12.1560 - mae: 2.4853\n",
      "Epoch 213/1000\n",
      "13/13 [==============================] - 0s 750us/step - loss: 12.0720 - mae: 2.4793\n",
      "Epoch 214/1000\n",
      "13/13 [==============================] - 0s 834us/step - loss: 12.0025 - mae: 2.4695\n",
      "Epoch 215/1000\n",
      "13/13 [==============================] - 0s 750us/step - loss: 11.9408 - mae: 2.4635\n",
      "Epoch 216/1000\n",
      "13/13 [==============================] - 0s 833us/step - loss: 11.8495 - mae: 2.4543\n",
      "Epoch 217/1000\n",
      "13/13 [==============================] - 0s 749us/step - loss: 11.7794 - mae: 2.4487\n",
      "Epoch 218/1000\n",
      "13/13 [==============================] - 0s 751us/step - loss: 11.7124 - mae: 2.4415\n",
      "Epoch 219/1000\n",
      "13/13 [==============================] - 0s 750us/step - loss: 11.6325 - mae: 2.4308\n",
      "Epoch 220/1000\n",
      "13/13 [==============================] - 0s 750us/step - loss: 11.5636 - mae: 2.4244\n",
      "Epoch 221/1000\n",
      "13/13 [==============================] - 0s 750us/step - loss: 11.4975 - mae: 2.4177\n",
      "Epoch 222/1000\n",
      "13/13 [==============================] - 0s 750us/step - loss: 11.4593 - mae: 2.4074\n",
      "Epoch 223/1000\n",
      "13/13 [==============================] - 0s 833us/step - loss: 11.3704 - mae: 2.4019\n",
      "Epoch 224/1000\n",
      "13/13 [==============================] - 0s 750us/step - loss: 11.3237 - mae: 2.3971\n",
      "Epoch 225/1000\n",
      "13/13 [==============================] - 0s 751us/step - loss: 11.2606 - mae: 2.3891\n",
      "Epoch 226/1000\n",
      "13/13 [==============================] - 0s 750us/step - loss: 11.1866 - mae: 2.3820\n",
      "Epoch 227/1000\n",
      "13/13 [==============================] - 0s 666us/step - loss: 11.1247 - mae: 2.3792\n",
      "Epoch 228/1000\n",
      "13/13 [==============================] - 0s 750us/step - loss: 11.0490 - mae: 2.3673\n",
      "Epoch 229/1000\n",
      "13/13 [==============================] - 0s 750us/step - loss: 10.9969 - mae: 2.3626\n",
      "Epoch 230/1000\n",
      "13/13 [==============================] - 0s 667us/step - loss: 10.9373 - mae: 2.3545\n",
      "Epoch 231/1000\n",
      "13/13 [==============================] - 0s 750us/step - loss: 10.8737 - mae: 2.3456\n",
      "Epoch 232/1000\n",
      "13/13 [==============================] - 0s 667us/step - loss: 10.8136 - mae: 2.3393\n",
      "Epoch 233/1000\n",
      "13/13 [==============================] - 0s 667us/step - loss: 10.7650 - mae: 2.3343\n",
      "Epoch 234/1000\n",
      "13/13 [==============================] - 0s 750us/step - loss: 10.7513 - mae: 2.3346\n",
      "Epoch 235/1000\n",
      "13/13 [==============================] - 0s 666us/step - loss: 10.6421 - mae: 2.3220\n",
      "Epoch 236/1000\n",
      "13/13 [==============================] - 0s 682us/step - loss: 10.6002 - mae: 2.3174\n",
      "Epoch 237/1000\n",
      "13/13 [==============================] - 0s 666us/step - loss: 10.5643 - mae: 2.3116\n",
      "Epoch 238/1000\n",
      "13/13 [==============================] - 0s 751us/step - loss: 10.4946 - mae: 2.3040\n",
      "Epoch 239/1000\n",
      "13/13 [==============================] - 0s 751us/step - loss: 10.4570 - mae: 2.3023\n",
      "Epoch 240/1000\n",
      "13/13 [==============================] - 0s 750us/step - loss: 10.4541 - mae: 2.3031\n",
      "Epoch 241/1000\n",
      "13/13 [==============================] - 0s 750us/step - loss: 10.3450 - mae: 2.2901\n",
      "Epoch 242/1000\n",
      "13/13 [==============================] - 0s 750us/step - loss: 10.2972 - mae: 2.2836\n",
      "Epoch 243/1000\n",
      "13/13 [==============================] - 0s 750us/step - loss: 10.2651 - mae: 2.2818\n",
      "Epoch 244/1000\n",
      "13/13 [==============================] - 0s 666us/step - loss: 10.2323 - mae: 2.2753\n",
      "Epoch 245/1000\n",
      "13/13 [==============================] - 0s 666us/step - loss: 10.1625 - mae: 2.2686\n",
      "Epoch 246/1000\n",
      "13/13 [==============================] - 0s 750us/step - loss: 10.1167 - mae: 2.2665\n",
      "Epoch 247/1000\n"
     ]
    },
    {
     "name": "stdout",
     "output_type": "stream",
     "text": [
      "13/13 [==============================] - 0s 750us/step - loss: 10.0790 - mae: 2.2629\n",
      "Epoch 248/1000\n",
      "13/13 [==============================] - 0s 750us/step - loss: 10.0424 - mae: 2.2580\n",
      "Epoch 249/1000\n",
      "13/13 [==============================] - 0s 750us/step - loss: 10.0025 - mae: 2.2508\n",
      "Epoch 250/1000\n",
      "13/13 [==============================] - 0s 750us/step - loss: 9.9613 - mae: 2.2514\n",
      "Epoch 251/1000\n",
      "13/13 [==============================] - 0s 750us/step - loss: 9.9359 - mae: 2.2482\n",
      "Epoch 252/1000\n",
      "13/13 [==============================] - 0s 750us/step - loss: 9.8727 - mae: 2.2388\n",
      "Epoch 253/1000\n",
      "13/13 [==============================] - 0s 666us/step - loss: 9.8483 - mae: 2.2356\n",
      "Epoch 254/1000\n",
      "13/13 [==============================] - 0s 667us/step - loss: 9.8050 - mae: 2.2329\n",
      "Epoch 255/1000\n",
      "13/13 [==============================] - 0s 750us/step - loss: 9.7701 - mae: 2.2262\n",
      "Epoch 256/1000\n",
      "13/13 [==============================] - 0s 667us/step - loss: 9.7324 - mae: 2.2216\n",
      "Epoch 257/1000\n",
      "13/13 [==============================] - 0s 750us/step - loss: 9.6980 - mae: 2.2206\n",
      "Epoch 258/1000\n",
      "13/13 [==============================] - 0s 667us/step - loss: 9.6697 - mae: 2.2189\n",
      "Epoch 259/1000\n",
      "13/13 [==============================] - 0s 666us/step - loss: 9.6457 - mae: 2.2175\n",
      "Epoch 260/1000\n",
      "13/13 [==============================] - 0s 668us/step - loss: 9.6114 - mae: 2.2118\n",
      "Epoch 261/1000\n",
      "13/13 [==============================] - 0s 666us/step - loss: 9.5687 - mae: 2.2072\n",
      "Epoch 262/1000\n",
      "13/13 [==============================] - 0s 666us/step - loss: 9.5347 - mae: 2.2024\n",
      "Epoch 263/1000\n",
      "13/13 [==============================] - 0s 917us/step - loss: 9.5305 - mae: 2.2043\n",
      "Epoch 264/1000\n",
      "13/13 [==============================] - 0s 750us/step - loss: 9.5022 - mae: 2.2003\n",
      "Epoch 265/1000\n",
      "13/13 [==============================] - 0s 750us/step - loss: 9.4756 - mae: 2.1980\n",
      "Epoch 266/1000\n",
      "13/13 [==============================] - 0s 750us/step - loss: 9.4240 - mae: 2.1939\n",
      "Epoch 267/1000\n",
      "13/13 [==============================] - 0s 667us/step - loss: 9.4140 - mae: 2.1908\n",
      "Epoch 268/1000\n",
      "13/13 [==============================] - 0s 750us/step - loss: 9.3773 - mae: 2.1850\n",
      "Epoch 269/1000\n",
      "13/13 [==============================] - 0s 719us/step - loss: 9.3439 - mae: 2.1871\n",
      "Epoch 270/1000\n",
      "13/13 [==============================] - 0s 760us/step - loss: 9.3106 - mae: 2.1792\n",
      "Epoch 271/1000\n",
      "13/13 [==============================] - 0s 658us/step - loss: 9.2810 - mae: 2.1757\n",
      "Epoch 272/1000\n",
      "13/13 [==============================] - 0s 667us/step - loss: 9.2767 - mae: 2.1765\n",
      "Epoch 273/1000\n",
      "13/13 [==============================] - 0s 750us/step - loss: 9.2239 - mae: 2.1740\n",
      "Epoch 274/1000\n",
      "13/13 [==============================] - 0s 750us/step - loss: 9.1837 - mae: 2.1646\n",
      "Epoch 275/1000\n",
      "13/13 [==============================] - 0s 667us/step - loss: 9.1694 - mae: 2.1602\n",
      "Epoch 276/1000\n",
      "13/13 [==============================] - 0s 666us/step - loss: 9.1405 - mae: 2.1569\n",
      "Epoch 277/1000\n",
      "13/13 [==============================] - 0s 666us/step - loss: 9.1166 - mae: 2.1539\n",
      "Epoch 278/1000\n",
      "13/13 [==============================] - 0s 667us/step - loss: 9.0813 - mae: 2.1478\n",
      "Epoch 279/1000\n",
      "13/13 [==============================] - 0s 667us/step - loss: 9.0817 - mae: 2.1486\n",
      "Epoch 280/1000\n",
      "13/13 [==============================] - 0s 667us/step - loss: 9.0108 - mae: 2.1428\n",
      "Epoch 281/1000\n",
      "13/13 [==============================] - 0s 751us/step - loss: 9.0052 - mae: 2.1424\n",
      "Epoch 282/1000\n",
      "13/13 [==============================] - 0s 749us/step - loss: 8.9831 - mae: 2.1372\n",
      "Epoch 283/1000\n",
      "13/13 [==============================] - 0s 751us/step - loss: 8.9495 - mae: 2.1337\n",
      "Epoch 284/1000\n",
      "13/13 [==============================] - 0s 667us/step - loss: 8.9364 - mae: 2.1328\n",
      "Epoch 285/1000\n",
      "13/13 [==============================] - 0s 667us/step - loss: 8.9011 - mae: 2.1305\n",
      "Epoch 286/1000\n",
      "13/13 [==============================] - 0s 667us/step - loss: 8.9138 - mae: 2.1299\n",
      "Epoch 287/1000\n",
      "13/13 [==============================] - 0s 668us/step - loss: 8.8731 - mae: 2.1248\n",
      "Epoch 288/1000\n",
      "13/13 [==============================] - 0s 750us/step - loss: 8.8322 - mae: 2.1181\n",
      "Epoch 289/1000\n",
      "13/13 [==============================] - 0s 750us/step - loss: 8.8478 - mae: 2.1199\n",
      "Epoch 290/1000\n",
      "13/13 [==============================] - 0s 667us/step - loss: 8.7873 - mae: 2.1148\n",
      "Epoch 291/1000\n",
      "13/13 [==============================] - 0s 750us/step - loss: 8.7621 - mae: 2.1113\n",
      "Epoch 292/1000\n",
      "13/13 [==============================] - 0s 668us/step - loss: 8.7465 - mae: 2.1081\n",
      "Epoch 293/1000\n",
      "13/13 [==============================] - 0s 706us/step - loss: 8.7224 - mae: 2.1036\n",
      "Epoch 294/1000\n",
      "13/13 [==============================] - 0s 667us/step - loss: 8.6984 - mae: 2.1013\n",
      "Epoch 295/1000\n",
      "13/13 [==============================] - 0s 749us/step - loss: 8.6737 - mae: 2.0960\n",
      "Epoch 296/1000\n",
      "13/13 [==============================] - 0s 666us/step - loss: 8.6542 - mae: 2.0926\n",
      "Epoch 297/1000\n",
      "13/13 [==============================] - 0s 749us/step - loss: 8.6450 - mae: 2.0895\n",
      "Epoch 298/1000\n",
      "13/13 [==============================] - 0s 833us/step - loss: 8.6239 - mae: 2.0861\n",
      "Epoch 299/1000\n",
      "13/13 [==============================] - 0s 750us/step - loss: 8.5980 - mae: 2.0856\n",
      "Epoch 300/1000\n",
      "13/13 [==============================] - 0s 751us/step - loss: 8.5822 - mae: 2.0818\n",
      "Epoch 301/1000\n",
      "13/13 [==============================] - 0s 750us/step - loss: 8.5651 - mae: 2.0795\n",
      "Epoch 302/1000\n",
      "13/13 [==============================] - 0s 750us/step - loss: 8.5569 - mae: 2.0779\n",
      "Epoch 303/1000\n",
      "13/13 [==============================] - 0s 667us/step - loss: 8.5346 - mae: 2.0749\n",
      "Epoch 304/1000\n",
      "13/13 [==============================] - 0s 833us/step - loss: 8.5252 - mae: 2.0746\n",
      "Epoch 305/1000\n",
      "13/13 [==============================] - 0s 750us/step - loss: 8.5052 - mae: 2.0695\n",
      "Epoch 306/1000\n",
      "13/13 [==============================] - 0s 750us/step - loss: 8.5172 - mae: 2.0769\n",
      "Epoch 307/1000\n",
      "13/13 [==============================] - 0s 750us/step - loss: 8.4845 - mae: 2.0697\n",
      "Epoch 308/1000\n",
      "13/13 [==============================] - 0s 667us/step - loss: 8.4640 - mae: 2.0655\n",
      "Epoch 309/1000\n",
      "13/13 [==============================] - 0s 750us/step - loss: 8.4398 - mae: 2.0653\n",
      "Epoch 310/1000\n",
      "13/13 [==============================] - 0s 750us/step - loss: 8.4509 - mae: 2.0655\n",
      "Epoch 311/1000\n",
      "13/13 [==============================] - 0s 749us/step - loss: 8.4193 - mae: 2.0599\n",
      "Epoch 312/1000\n",
      "13/13 [==============================] - 0s 667us/step - loss: 8.3908 - mae: 2.0565\n",
      "Epoch 313/1000\n",
      "13/13 [==============================] - 0s 750us/step - loss: 8.4039 - mae: 2.0591\n",
      "Epoch 314/1000\n",
      "13/13 [==============================] - 0s 832us/step - loss: 8.3712 - mae: 2.0540\n",
      "Epoch 315/1000\n",
      "13/13 [==============================] - 0s 750us/step - loss: 8.3508 - mae: 2.0499\n",
      "Epoch 316/1000\n",
      "13/13 [==============================] - 0s 746us/step - loss: 8.3477 - mae: 2.0505\n",
      "Epoch 317/1000\n",
      "13/13 [==============================] - 0s 750us/step - loss: 8.3343 - mae: 2.0473\n",
      "Epoch 318/1000\n",
      "13/13 [==============================] - 0s 750us/step - loss: 8.3217 - mae: 2.0479\n",
      "Epoch 319/1000\n",
      "13/13 [==============================] - 0s 750us/step - loss: 8.3089 - mae: 2.0424\n",
      "Epoch 320/1000\n",
      "13/13 [==============================] - 0s 749us/step - loss: 8.2775 - mae: 2.0403\n",
      "Epoch 321/1000\n",
      "13/13 [==============================] - 0s 667us/step - loss: 8.2747 - mae: 2.0390\n",
      "Epoch 322/1000\n",
      "13/13 [==============================] - 0s 750us/step - loss: 8.2611 - mae: 2.0420\n",
      "Epoch 323/1000\n",
      "13/13 [==============================] - 0s 751us/step - loss: 8.2447 - mae: 2.0421\n",
      "Epoch 324/1000\n",
      "13/13 [==============================] - 0s 750us/step - loss: 8.2435 - mae: 2.0372\n",
      "Epoch 325/1000\n",
      "13/13 [==============================] - 0s 750us/step - loss: 8.2226 - mae: 2.0316\n",
      "Epoch 326/1000\n",
      "13/13 [==============================] - 0s 750us/step - loss: 8.2127 - mae: 2.0332\n",
      "Epoch 327/1000\n",
      "13/13 [==============================] - 0s 750us/step - loss: 8.2156 - mae: 2.0357\n",
      "Epoch 328/1000\n",
      "13/13 [==============================] - 0s 750us/step - loss: 8.2150 - mae: 2.0365\n",
      "Epoch 329/1000\n",
      "13/13 [==============================] - 0s 726us/step - loss: 8.1866 - mae: 2.0367\n",
      "Epoch 330/1000\n",
      "13/13 [==============================] - 0s 667us/step - loss: 8.1702 - mae: 2.0275\n",
      "Epoch 331/1000\n",
      "13/13 [==============================] - 0s 667us/step - loss: 8.1607 - mae: 2.0243\n",
      "Epoch 332/1000\n",
      "13/13 [==============================] - 0s 750us/step - loss: 8.1381 - mae: 2.0208\n",
      "Epoch 333/1000\n",
      "13/13 [==============================] - 0s 750us/step - loss: 8.1306 - mae: 2.0245\n",
      "Epoch 334/1000\n",
      "13/13 [==============================] - 0s 721us/step - loss: 8.1311 - mae: 2.0233\n",
      "Epoch 335/1000\n",
      "13/13 [==============================] - 0s 750us/step - loss: 8.0932 - mae: 2.0209\n",
      "Epoch 336/1000\n",
      "13/13 [==============================] - 0s 667us/step - loss: 8.0862 - mae: 2.0216\n",
      "Epoch 337/1000\n",
      "13/13 [==============================] - 0s 749us/step - loss: 8.0760 - mae: 2.0174\n",
      "Epoch 338/1000\n",
      "13/13 [==============================] - 0s 751us/step - loss: 8.0725 - mae: 2.0189\n",
      "Epoch 339/1000\n",
      "13/13 [==============================] - 0s 750us/step - loss: 8.0464 - mae: 2.0145\n",
      "Epoch 340/1000\n",
      "13/13 [==============================] - 0s 667us/step - loss: 8.0450 - mae: 2.0140\n",
      "Epoch 341/1000\n",
      "13/13 [==============================] - 0s 667us/step - loss: 8.0329 - mae: 2.0138\n",
      "Epoch 342/1000\n",
      "13/13 [==============================] - 0s 749us/step - loss: 8.0195 - mae: 2.0107\n",
      "Epoch 343/1000\n",
      "13/13 [==============================] - 0s 667us/step - loss: 8.0047 - mae: 2.0062\n",
      "Epoch 344/1000\n",
      "13/13 [==============================] - 0s 667us/step - loss: 7.9972 - mae: 2.0045\n",
      "Epoch 345/1000\n",
      "13/13 [==============================] - 0s 666us/step - loss: 7.9930 - mae: 2.0075\n",
      "Epoch 346/1000\n",
      "13/13 [==============================] - 0s 749us/step - loss: 7.9637 - mae: 2.0008\n",
      "Epoch 347/1000\n",
      "13/13 [==============================] - 0s 667us/step - loss: 7.9752 - mae: 2.0024\n",
      "Epoch 348/1000\n",
      "13/13 [==============================] - 0s 750us/step - loss: 7.9409 - mae: 2.0007\n",
      "Epoch 349/1000\n",
      "13/13 [==============================] - 0s 667us/step - loss: 7.9261 - mae: 1.9973\n",
      "Epoch 350/1000\n",
      "13/13 [==============================] - 0s 667us/step - loss: 7.9197 - mae: 1.9958\n",
      "Epoch 351/1000\n",
      "13/13 [==============================] - 0s 668us/step - loss: 7.9135 - mae: 1.9957\n",
      "Epoch 352/1000\n",
      "13/13 [==============================] - 0s 749us/step - loss: 7.8990 - mae: 1.9922\n",
      "Epoch 353/1000\n",
      "13/13 [==============================] - 0s 667us/step - loss: 7.8979 - mae: 1.9919\n",
      "Epoch 354/1000\n",
      "13/13 [==============================] - 0s 667us/step - loss: 7.8943 - mae: 1.9923\n",
      "Epoch 355/1000\n",
      "13/13 [==============================] - 0s 666us/step - loss: 7.8887 - mae: 1.9929\n",
      "Epoch 356/1000\n",
      "13/13 [==============================] - 0s 667us/step - loss: 7.8308 - mae: 1.9849\n",
      "Epoch 357/1000\n",
      "13/13 [==============================] - 0s 750us/step - loss: 7.8627 - mae: 1.9924\n",
      "Epoch 358/1000\n",
      "13/13 [==============================] - 0s 667us/step - loss: 7.8355 - mae: 1.9888\n",
      "Epoch 359/1000\n",
      "13/13 [==============================] - 0s 667us/step - loss: 7.8330 - mae: 1.9864\n",
      "Epoch 360/1000\n",
      "13/13 [==============================] - 0s 749us/step - loss: 7.8022 - mae: 1.9811\n",
      "Epoch 361/1000\n",
      "13/13 [==============================] - 0s 667us/step - loss: 7.8117 - mae: 1.9825\n",
      "Epoch 362/1000\n",
      "13/13 [==============================] - 0s 668us/step - loss: 7.8018 - mae: 1.9804\n",
      "Epoch 363/1000\n",
      "13/13 [==============================] - 0s 751us/step - loss: 7.7933 - mae: 1.9809\n",
      "Epoch 364/1000\n",
      "13/13 [==============================] - 0s 750us/step - loss: 7.7642 - mae: 1.9781\n",
      "Epoch 365/1000\n",
      "13/13 [==============================] - 0s 841us/step - loss: 7.7630 - mae: 1.9778\n",
      "Epoch 366/1000\n",
      "13/13 [==============================] - 0s 750us/step - loss: 7.7592 - mae: 1.9794\n",
      "Epoch 367/1000\n",
      "13/13 [==============================] - 0s 750us/step - loss: 7.7288 - mae: 1.9745\n",
      "Epoch 368/1000\n",
      "13/13 [==============================] - 0s 833us/step - loss: 7.7192 - mae: 1.9711\n",
      "Epoch 369/1000\n",
      "13/13 [==============================] - 0s 833us/step - loss: 7.7262 - mae: 1.9700\n",
      "Epoch 370/1000\n",
      "13/13 [==============================] - 0s 751us/step - loss: 7.6980 - mae: 1.9654\n",
      "Epoch 371/1000\n",
      "13/13 [==============================] - 0s 750us/step - loss: 7.6931 - mae: 1.9691\n",
      "Epoch 372/1000\n",
      "13/13 [==============================] - 0s 750us/step - loss: 7.6820 - mae: 1.9660\n",
      "Epoch 373/1000\n",
      "13/13 [==============================] - 0s 751us/step - loss: 7.6642 - mae: 1.9646\n",
      "Epoch 374/1000\n",
      "13/13 [==============================] - 0s 750us/step - loss: 7.6855 - mae: 1.9676\n",
      "Epoch 375/1000\n",
      "13/13 [==============================] - 0s 833us/step - loss: 7.6527 - mae: 1.9656\n",
      "Epoch 376/1000\n",
      "13/13 [==============================] - 0s 750us/step - loss: 7.6345 - mae: 1.9638\n",
      "Epoch 377/1000\n",
      "13/13 [==============================] - 0s 750us/step - loss: 7.6274 - mae: 1.9575\n",
      "Epoch 378/1000\n",
      "13/13 [==============================] - 0s 751us/step - loss: 7.6201 - mae: 1.9569\n",
      "Epoch 379/1000\n",
      "13/13 [==============================] - 0s 833us/step - loss: 7.6001 - mae: 1.9562\n",
      "Epoch 380/1000\n",
      "13/13 [==============================] - 0s 750us/step - loss: 7.6066 - mae: 1.9575\n",
      "Epoch 381/1000\n",
      "13/13 [==============================] - 0s 786us/step - loss: 7.5857 - mae: 1.9552\n",
      "Epoch 382/1000\n",
      "13/13 [==============================] - 0s 750us/step - loss: 7.5680 - mae: 1.9508\n",
      "Epoch 383/1000\n",
      "13/13 [==============================] - 0s 666us/step - loss: 7.5861 - mae: 1.9528\n",
      "Epoch 384/1000\n",
      "13/13 [==============================] - 0s 750us/step - loss: 7.5909 - mae: 1.9569\n",
      "Epoch 385/1000\n",
      "13/13 [==============================] - 0s 729us/step - loss: 7.5716 - mae: 1.9507\n",
      "Epoch 386/1000\n",
      "13/13 [==============================] - 0s 749us/step - loss: 7.5323 - mae: 1.9450\n",
      "Epoch 387/1000\n",
      "13/13 [==============================] - 0s 750us/step - loss: 7.5464 - mae: 1.9528\n",
      "Epoch 388/1000\n",
      "13/13 [==============================] - 0s 751us/step - loss: 7.5156 - mae: 1.9466\n",
      "Epoch 389/1000\n",
      "13/13 [==============================] - 0s 833us/step - loss: 7.5068 - mae: 1.9426\n",
      "Epoch 390/1000\n",
      "13/13 [==============================] - 0s 749us/step - loss: 7.5033 - mae: 1.9416\n",
      "Epoch 391/1000\n",
      "13/13 [==============================] - 0s 750us/step - loss: 7.4882 - mae: 1.9424\n",
      "Epoch 392/1000\n",
      "13/13 [==============================] - 0s 833us/step - loss: 7.4704 - mae: 1.9368\n",
      "Epoch 393/1000\n",
      "13/13 [==============================] - 0s 833us/step - loss: 7.4731 - mae: 1.9357\n",
      "Epoch 394/1000\n",
      "13/13 [==============================] - 0s 834us/step - loss: 7.4626 - mae: 1.9369\n",
      "Epoch 395/1000\n",
      "13/13 [==============================] - 0s 749us/step - loss: 7.4523 - mae: 1.9409\n",
      "Epoch 396/1000\n",
      "13/13 [==============================] - 0s 833us/step - loss: 7.4416 - mae: 1.9380\n",
      "Epoch 397/1000\n",
      "13/13 [==============================] - 0s 751us/step - loss: 7.4437 - mae: 1.9389\n",
      "Epoch 398/1000\n",
      "13/13 [==============================] - 0s 750us/step - loss: 7.4411 - mae: 1.9392\n",
      "Epoch 399/1000\n",
      "13/13 [==============================] - 0s 833us/step - loss: 7.4174 - mae: 1.9341\n",
      "Epoch 400/1000\n",
      "13/13 [==============================] - 0s 749us/step - loss: 7.4047 - mae: 1.9292\n",
      "Epoch 401/1000\n",
      "13/13 [==============================] - 0s 750us/step - loss: 7.3898 - mae: 1.9282\n",
      "Epoch 402/1000\n",
      "13/13 [==============================] - 0s 833us/step - loss: 7.3913 - mae: 1.9312\n",
      "Epoch 403/1000\n",
      "13/13 [==============================] - 0s 750us/step - loss: 7.3893 - mae: 1.9273\n",
      "Epoch 404/1000\n",
      "13/13 [==============================] - 0s 750us/step - loss: 7.3556 - mae: 1.9243\n",
      "Epoch 405/1000\n",
      "13/13 [==============================] - 0s 750us/step - loss: 7.3762 - mae: 1.9269\n",
      "Epoch 406/1000\n",
      "13/13 [==============================] - 0s 833us/step - loss: 7.3512 - mae: 1.9225\n",
      "Epoch 407/1000\n",
      "13/13 [==============================] - 0s 751us/step - loss: 7.3350 - mae: 1.9210\n",
      "Epoch 408/1000\n",
      "13/13 [==============================] - 0s 750us/step - loss: 7.3260 - mae: 1.9209\n",
      "Epoch 409/1000\n",
      "13/13 [==============================] - 0s 750us/step - loss: 7.3360 - mae: 1.9225\n",
      "Epoch 410/1000\n",
      "13/13 [==============================] - 0s 833us/step - loss: 7.3250 - mae: 1.9263\n",
      "Epoch 411/1000\n"
     ]
    },
    {
     "name": "stdout",
     "output_type": "stream",
     "text": [
      "13/13 [==============================] - 0s 750us/step - loss: 7.2913 - mae: 1.9172\n",
      "Epoch 412/1000\n",
      "13/13 [==============================] - 0s 833us/step - loss: 7.2977 - mae: 1.9152\n",
      "Epoch 413/1000\n",
      "13/13 [==============================] - 0s 750us/step - loss: 7.2958 - mae: 1.9154\n",
      "Epoch 414/1000\n",
      "13/13 [==============================] - 0s 750us/step - loss: 7.2864 - mae: 1.9128\n",
      "Epoch 415/1000\n",
      "13/13 [==============================] - 0s 750us/step - loss: 7.2806 - mae: 1.9104\n",
      "Epoch 416/1000\n",
      "13/13 [==============================] - 0s 750us/step - loss: 7.2588 - mae: 1.9103\n",
      "Epoch 417/1000\n",
      "13/13 [==============================] - 0s 759us/step - loss: 7.2776 - mae: 1.9149\n",
      "Epoch 418/1000\n",
      "13/13 [==============================] - 0s 751us/step - loss: 7.2385 - mae: 1.9105\n",
      "Epoch 419/1000\n",
      "13/13 [==============================] - 0s 750us/step - loss: 7.2289 - mae: 1.9082\n",
      "Epoch 420/1000\n",
      "13/13 [==============================] - 0s 833us/step - loss: 7.2241 - mae: 1.9041\n",
      "Epoch 421/1000\n",
      "13/13 [==============================] - 0s 794us/step - loss: 7.2116 - mae: 1.9021\n",
      "Epoch 422/1000\n",
      "13/13 [==============================] - 0s 750us/step - loss: 7.2056 - mae: 1.9041\n",
      "Epoch 423/1000\n",
      "13/13 [==============================] - 0s 751us/step - loss: 7.2105 - mae: 1.9031\n",
      "Epoch 424/1000\n",
      "13/13 [==============================] - 0s 833us/step - loss: 7.1940 - mae: 1.9036\n",
      "Epoch 425/1000\n",
      "13/13 [==============================] - 0s 750us/step - loss: 7.1928 - mae: 1.9044\n",
      "Epoch 426/1000\n",
      "13/13 [==============================] - 0s 751us/step - loss: 7.1776 - mae: 1.9048\n",
      "Epoch 427/1000\n",
      "13/13 [==============================] - 0s 751us/step - loss: 7.1620 - mae: 1.9002\n",
      "Epoch 428/1000\n",
      "13/13 [==============================] - 0s 751us/step - loss: 7.1502 - mae: 1.8969\n",
      "Epoch 429/1000\n",
      "13/13 [==============================] - 0s 833us/step - loss: 7.1609 - mae: 1.8998\n",
      "Epoch 430/1000\n",
      "13/13 [==============================] - 0s 751us/step - loss: 7.1491 - mae: 1.9003\n",
      "Epoch 431/1000\n",
      "13/13 [==============================] - 0s 834us/step - loss: 7.1476 - mae: 1.9015\n",
      "Epoch 432/1000\n",
      "13/13 [==============================] - 0s 750us/step - loss: 7.1541 - mae: 1.8966\n",
      "Epoch 433/1000\n",
      "13/13 [==============================] - 0s 750us/step - loss: 7.1421 - mae: 1.8994\n",
      "Epoch 434/1000\n",
      "13/13 [==============================] - 0s 833us/step - loss: 7.1142 - mae: 1.8943\n",
      "Epoch 435/1000\n",
      "13/13 [==============================] - 0s 750us/step - loss: 7.1025 - mae: 1.8914\n",
      "Epoch 436/1000\n",
      "13/13 [==============================] - 0s 750us/step - loss: 7.1108 - mae: 1.8967\n",
      "Epoch 437/1000\n",
      "13/13 [==============================] - 0s 749us/step - loss: 7.0801 - mae: 1.8885\n",
      "Epoch 438/1000\n",
      "13/13 [==============================] - 0s 751us/step - loss: 7.0897 - mae: 1.8924\n",
      "Epoch 439/1000\n",
      "13/13 [==============================] - 0s 750us/step - loss: 7.0627 - mae: 1.8858\n",
      "Epoch 440/1000\n",
      "13/13 [==============================] - 0s 749us/step - loss: 7.0743 - mae: 1.8875\n",
      "Epoch 441/1000\n",
      "13/13 [==============================] - 0s 750us/step - loss: 7.0685 - mae: 1.8864\n",
      "Epoch 442/1000\n",
      "13/13 [==============================] - 0s 833us/step - loss: 7.0543 - mae: 1.8817\n",
      "Epoch 443/1000\n",
      "13/13 [==============================] - 0s 751us/step - loss: 7.0353 - mae: 1.8792\n",
      "Epoch 444/1000\n",
      "13/13 [==============================] - 0s 833us/step - loss: 7.0324 - mae: 1.8800\n",
      "Epoch 445/1000\n",
      "13/13 [==============================] - 0s 749us/step - loss: 7.0221 - mae: 1.8801\n",
      "Epoch 446/1000\n",
      "13/13 [==============================] - 0s 750us/step - loss: 7.0334 - mae: 1.8815\n",
      "Epoch 447/1000\n",
      "13/13 [==============================] - 0s 750us/step - loss: 7.0262 - mae: 1.8779\n",
      "Epoch 448/1000\n",
      "13/13 [==============================] - 0s 749us/step - loss: 7.0029 - mae: 1.8738\n",
      "Epoch 449/1000\n",
      "13/13 [==============================] - 0s 750us/step - loss: 6.9847 - mae: 1.8706\n",
      "Epoch 450/1000\n",
      "13/13 [==============================] - 0s 833us/step - loss: 7.0005 - mae: 1.8780\n",
      "Epoch 451/1000\n",
      "13/13 [==============================] - 0s 750us/step - loss: 6.9742 - mae: 1.8749\n",
      "Epoch 452/1000\n",
      "13/13 [==============================] - 0s 750us/step - loss: 7.0074 - mae: 1.8772\n",
      "Epoch 453/1000\n",
      "13/13 [==============================] - 0s 833us/step - loss: 7.0138 - mae: 1.8797\n",
      "Epoch 454/1000\n",
      "13/13 [==============================] - 0s 833us/step - loss: 6.9787 - mae: 1.8753\n",
      "Epoch 455/1000\n",
      "13/13 [==============================] - 0s 750us/step - loss: 6.9621 - mae: 1.8688\n",
      "Epoch 456/1000\n",
      "13/13 [==============================] - 0s 749us/step - loss: 6.9477 - mae: 1.8697\n",
      "Epoch 457/1000\n",
      "13/13 [==============================] - 0s 833us/step - loss: 6.9494 - mae: 1.8670\n",
      "Epoch 458/1000\n",
      "13/13 [==============================] - 0s 833us/step - loss: 6.9166 - mae: 1.8640\n",
      "Epoch 459/1000\n",
      "13/13 [==============================] - 0s 832us/step - loss: 6.9364 - mae: 1.8695\n",
      "Epoch 460/1000\n",
      "13/13 [==============================] - 0s 833us/step - loss: 6.9282 - mae: 1.8675\n",
      "Epoch 461/1000\n",
      "13/13 [==============================] - 0s 749us/step - loss: 6.9141 - mae: 1.8647\n",
      "Epoch 462/1000\n",
      "13/13 [==============================] - 0s 751us/step - loss: 6.9139 - mae: 1.8654\n",
      "Epoch 463/1000\n",
      "13/13 [==============================] - 0s 751us/step - loss: 6.8944 - mae: 1.8632\n",
      "Epoch 464/1000\n",
      "13/13 [==============================] - 0s 751us/step - loss: 6.8926 - mae: 1.8630\n",
      "Epoch 465/1000\n",
      "13/13 [==============================] - 0s 833us/step - loss: 6.8864 - mae: 1.8653\n",
      "Epoch 466/1000\n",
      "13/13 [==============================] - 0s 750us/step - loss: 6.8738 - mae: 1.8603\n",
      "Epoch 467/1000\n",
      "13/13 [==============================] - 0s 834us/step - loss: 6.8704 - mae: 1.8588\n",
      "Epoch 468/1000\n",
      "13/13 [==============================] - 0s 833us/step - loss: 6.8772 - mae: 1.8610\n",
      "Epoch 469/1000\n",
      "13/13 [==============================] - 0s 750us/step - loss: 6.8784 - mae: 1.8590\n",
      "Epoch 470/1000\n",
      "13/13 [==============================] - 0s 750us/step - loss: 6.8518 - mae: 1.8552\n",
      "Epoch 471/1000\n",
      "13/13 [==============================] - 0s 750us/step - loss: 6.8363 - mae: 1.8523\n",
      "Epoch 472/1000\n",
      "13/13 [==============================] - 0s 750us/step - loss: 6.8541 - mae: 1.8619\n",
      "Epoch 473/1000\n",
      "13/13 [==============================] - 0s 751us/step - loss: 6.8596 - mae: 1.8577\n",
      "Epoch 474/1000\n",
      "13/13 [==============================] - 0s 833us/step - loss: 6.8135 - mae: 1.8501\n",
      "Epoch 475/1000\n",
      "13/13 [==============================] - 0s 751us/step - loss: 6.8265 - mae: 1.8561\n",
      "Epoch 476/1000\n",
      "13/13 [==============================] - 0s 833us/step - loss: 6.8008 - mae: 1.8475\n",
      "Epoch 477/1000\n",
      "13/13 [==============================] - 0s 751us/step - loss: 6.8381 - mae: 1.8541\n",
      "Epoch 478/1000\n",
      "13/13 [==============================] - 0s 834us/step - loss: 6.7999 - mae: 1.8506\n",
      "Epoch 479/1000\n",
      "13/13 [==============================] - 0s 749us/step - loss: 6.7839 - mae: 1.8474\n",
      "Epoch 480/1000\n",
      "13/13 [==============================] - 0s 751us/step - loss: 6.7858 - mae: 1.8481\n",
      "Epoch 481/1000\n",
      "13/13 [==============================] - 0s 751us/step - loss: 6.7863 - mae: 1.8498\n",
      "Epoch 482/1000\n",
      "13/13 [==============================] - 0s 751us/step - loss: 6.7690 - mae: 1.8429\n",
      "Epoch 483/1000\n",
      "13/13 [==============================] - 0s 750us/step - loss: 6.7770 - mae: 1.8431\n",
      "Epoch 484/1000\n",
      "13/13 [==============================] - 0s 749us/step - loss: 6.7595 - mae: 1.8436\n",
      "Epoch 485/1000\n",
      "13/13 [==============================] - 0s 751us/step - loss: 6.7628 - mae: 1.8486\n",
      "Epoch 486/1000\n",
      "13/13 [==============================] - 0s 833us/step - loss: 6.7481 - mae: 1.8460\n",
      "Epoch 487/1000\n",
      "13/13 [==============================] - 0s 834us/step - loss: 6.7581 - mae: 1.8446\n",
      "Epoch 488/1000\n",
      "13/13 [==============================] - 0s 751us/step - loss: 6.7459 - mae: 1.8391\n",
      "Epoch 489/1000\n",
      "13/13 [==============================] - 0s 751us/step - loss: 6.7448 - mae: 1.8441\n",
      "Epoch 490/1000\n",
      "13/13 [==============================] - 0s 833us/step - loss: 6.7390 - mae: 1.8450\n",
      "Epoch 491/1000\n",
      "13/13 [==============================] - 0s 750us/step - loss: 6.7741 - mae: 1.8575\n",
      "Epoch 492/1000\n",
      "13/13 [==============================] - 0s 751us/step - loss: 6.7073 - mae: 1.8366\n",
      "Epoch 493/1000\n",
      "13/13 [==============================] - 0s 833us/step - loss: 6.7363 - mae: 1.8351\n",
      "Epoch 494/1000\n",
      "13/13 [==============================] - 0s 750us/step - loss: 6.7149 - mae: 1.8369\n",
      "Epoch 495/1000\n",
      "13/13 [==============================] - 0s 751us/step - loss: 6.6998 - mae: 1.8376\n",
      "Epoch 496/1000\n",
      "13/13 [==============================] - 0s 833us/step - loss: 6.7203 - mae: 1.8440\n",
      "Epoch 497/1000\n",
      "13/13 [==============================] - 0s 833us/step - loss: 6.6864 - mae: 1.8348\n",
      "Epoch 498/1000\n",
      "13/13 [==============================] - 0s 834us/step - loss: 6.6853 - mae: 1.8326\n",
      "Epoch 499/1000\n",
      "13/13 [==============================] - 0s 750us/step - loss: 6.7077 - mae: 1.8380\n",
      "Epoch 500/1000\n",
      "13/13 [==============================] - 0s 833us/step - loss: 6.6713 - mae: 1.8338\n",
      "Epoch 501/1000\n",
      "13/13 [==============================] - 0s 834us/step - loss: 6.6629 - mae: 1.8333\n",
      "Epoch 502/1000\n",
      "13/13 [==============================] - 0s 751us/step - loss: 6.6668 - mae: 1.8335\n",
      "Epoch 503/1000\n",
      "13/13 [==============================] - 0s 833us/step - loss: 6.6553 - mae: 1.8311\n",
      "Epoch 504/1000\n",
      "13/13 [==============================] - 0s 750us/step - loss: 6.6638 - mae: 1.8309\n",
      "Epoch 505/1000\n",
      "13/13 [==============================] - 0s 751us/step - loss: 6.6467 - mae: 1.8276\n",
      "Epoch 506/1000\n",
      "13/13 [==============================] - 0s 833us/step - loss: 6.6713 - mae: 1.8352\n",
      "Epoch 507/1000\n",
      "13/13 [==============================] - 0s 750us/step - loss: 6.6538 - mae: 1.8297\n",
      "Epoch 508/1000\n",
      "13/13 [==============================] - 0s 834us/step - loss: 6.6330 - mae: 1.8235\n",
      "Epoch 509/1000\n",
      "13/13 [==============================] - 0s 750us/step - loss: 6.6551 - mae: 1.8312\n",
      "Epoch 510/1000\n",
      "13/13 [==============================] - 0s 750us/step - loss: 6.6363 - mae: 1.8265\n",
      "Epoch 511/1000\n",
      "13/13 [==============================] - 0s 833us/step - loss: 6.6143 - mae: 1.8231\n",
      "Epoch 512/1000\n",
      "13/13 [==============================] - 0s 751us/step - loss: 6.6080 - mae: 1.8202\n",
      "Epoch 513/1000\n",
      "13/13 [==============================] - 0s 750us/step - loss: 6.6122 - mae: 1.8215\n",
      "Epoch 514/1000\n",
      "13/13 [==============================] - 0s 771us/step - loss: 6.6145 - mae: 1.8208\n",
      "Epoch 515/1000\n",
      "13/13 [==============================] - 0s 750us/step - loss: 6.6050 - mae: 1.8209\n",
      "Epoch 516/1000\n",
      "13/13 [==============================] - 0s 833us/step - loss: 6.5943 - mae: 1.8195\n",
      "Epoch 517/1000\n",
      "13/13 [==============================] - 0s 716us/step - loss: 6.5913 - mae: 1.8200\n",
      "Epoch 518/1000\n",
      "13/13 [==============================] - 0s 833us/step - loss: 6.6229 - mae: 1.8182\n",
      "Epoch 519/1000\n",
      "13/13 [==============================] - 0s 750us/step - loss: 6.5935 - mae: 1.8258\n",
      "Epoch 520/1000\n",
      "13/13 [==============================] - 0s 833us/step - loss: 6.6187 - mae: 1.8244\n",
      "Epoch 521/1000\n",
      "13/13 [==============================] - 0s 751us/step - loss: 6.5944 - mae: 1.8138\n",
      "Epoch 522/1000\n",
      "13/13 [==============================] - 0s 748us/step - loss: 6.5822 - mae: 1.8177\n",
      "Epoch 523/1000\n",
      "13/13 [==============================] - 0s 750us/step - loss: 6.6173 - mae: 1.8190\n",
      "Epoch 524/1000\n",
      "13/13 [==============================] - 0s 750us/step - loss: 6.5664 - mae: 1.8187\n",
      "Epoch 525/1000\n",
      "13/13 [==============================] - 0s 750us/step - loss: 6.5612 - mae: 1.8197\n",
      "Epoch 526/1000\n",
      "13/13 [==============================] - 0s 750us/step - loss: 6.5634 - mae: 1.8164\n",
      "Epoch 527/1000\n",
      "13/13 [==============================] - 0s 833us/step - loss: 6.5436 - mae: 1.8092\n",
      "Epoch 528/1000\n",
      "13/13 [==============================] - 0s 751us/step - loss: 6.5373 - mae: 1.8091\n",
      "Epoch 529/1000\n",
      "13/13 [==============================] - 0s 833us/step - loss: 6.5440 - mae: 1.8130\n",
      "Epoch 530/1000\n",
      "13/13 [==============================] - 0s 750us/step - loss: 6.5361 - mae: 1.8103\n",
      "Epoch 531/1000\n",
      "13/13 [==============================] - 0s 833us/step - loss: 6.5242 - mae: 1.8085\n",
      "Epoch 532/1000\n",
      "13/13 [==============================] - 0s 750us/step - loss: 6.5503 - mae: 1.8148\n",
      "Epoch 533/1000\n",
      "13/13 [==============================] - 0s 751us/step - loss: 6.5324 - mae: 1.8149\n",
      "Epoch 534/1000\n",
      "13/13 [==============================] - 0s 833us/step - loss: 6.5254 - mae: 1.8068\n",
      "Epoch 535/1000\n",
      "13/13 [==============================] - 0s 822us/step - loss: 6.5029 - mae: 1.8030\n",
      "Epoch 536/1000\n",
      "13/13 [==============================] - 0s 744us/step - loss: 6.5015 - mae: 1.8028\n",
      "Epoch 537/1000\n",
      "13/13 [==============================] - 0s 834us/step - loss: 6.5050 - mae: 1.8079\n",
      "Epoch 538/1000\n",
      "13/13 [==============================] - 0s 833us/step - loss: 6.4961 - mae: 1.8038\n",
      "Epoch 539/1000\n",
      "13/13 [==============================] - 0s 667us/step - loss: 6.4908 - mae: 1.8026\n",
      "Epoch 540/1000\n",
      "13/13 [==============================] - 0s 834us/step - loss: 6.4859 - mae: 1.8017\n",
      "Epoch 541/1000\n",
      "13/13 [==============================] - 0s 750us/step - loss: 6.4957 - mae: 1.8032\n",
      "Epoch 542/1000\n",
      "13/13 [==============================] - 0s 833us/step - loss: 6.4849 - mae: 1.8098\n",
      "Epoch 543/1000\n",
      "13/13 [==============================] - 0s 833us/step - loss: 6.4976 - mae: 1.8038\n",
      "Epoch 544/1000\n",
      "13/13 [==============================] - 0s 751us/step - loss: 6.4739 - mae: 1.8027\n",
      "Epoch 545/1000\n",
      "13/13 [==============================] - 0s 750us/step - loss: 6.4688 - mae: 1.8034\n",
      "Epoch 546/1000\n",
      "13/13 [==============================] - 0s 833us/step - loss: 6.4836 - mae: 1.8035\n",
      "Epoch 547/1000\n",
      "13/13 [==============================] - 0s 833us/step - loss: 6.4669 - mae: 1.8029\n",
      "Epoch 548/1000\n",
      "13/13 [==============================] - 0s 751us/step - loss: 6.4666 - mae: 1.8001\n",
      "Epoch 549/1000\n",
      "13/13 [==============================] - 0s 819us/step - loss: 6.4733 - mae: 1.8029\n",
      "Epoch 550/1000\n",
      "13/13 [==============================] - 0s 750us/step - loss: 6.4584 - mae: 1.7977\n",
      "Epoch 551/1000\n",
      "13/13 [==============================] - 0s 751us/step - loss: 6.4745 - mae: 1.8043\n",
      "Epoch 552/1000\n",
      "13/13 [==============================] - 0s 750us/step - loss: 6.4459 - mae: 1.7946\n",
      "Epoch 553/1000\n",
      "13/13 [==============================] - 0s 750us/step - loss: 6.4498 - mae: 1.7920\n",
      "Epoch 554/1000\n",
      "13/13 [==============================] - 0s 750us/step - loss: 6.4645 - mae: 1.8065\n",
      "Epoch 555/1000\n",
      "13/13 [==============================] - 0s 751us/step - loss: 6.4544 - mae: 1.7980\n",
      "Epoch 556/1000\n",
      "13/13 [==============================] - 0s 833us/step - loss: 6.4430 - mae: 1.7952\n",
      "Epoch 557/1000\n",
      "13/13 [==============================] - 0s 750us/step - loss: 6.4322 - mae: 1.7928\n",
      "Epoch 558/1000\n",
      "13/13 [==============================] - 0s 833us/step - loss: 6.4162 - mae: 1.7925\n",
      "Epoch 559/1000\n",
      "13/13 [==============================] - 0s 724us/step - loss: 6.4615 - mae: 1.8012\n",
      "Epoch 560/1000\n",
      "13/13 [==============================] - 0s 750us/step - loss: 6.4170 - mae: 1.7940\n",
      "Epoch 561/1000\n",
      "13/13 [==============================] - 0s 751us/step - loss: 6.4109 - mae: 1.7921\n",
      "Epoch 562/1000\n",
      "13/13 [==============================] - 0s 750us/step - loss: 6.4217 - mae: 1.7908\n",
      "Epoch 563/1000\n",
      "13/13 [==============================] - 0s 750us/step - loss: 6.4006 - mae: 1.7900\n",
      "Epoch 564/1000\n",
      "13/13 [==============================] - 0s 833us/step - loss: 6.3919 - mae: 1.7899\n",
      "Epoch 565/1000\n",
      "13/13 [==============================] - 0s 833us/step - loss: 6.3935 - mae: 1.7915\n",
      "Epoch 566/1000\n",
      "13/13 [==============================] - 0s 832us/step - loss: 6.3822 - mae: 1.7885\n",
      "Epoch 567/1000\n",
      "13/13 [==============================] - 0s 750us/step - loss: 6.3980 - mae: 1.7903\n",
      "Epoch 568/1000\n",
      "13/13 [==============================] - 0s 751us/step - loss: 6.3899 - mae: 1.7921\n",
      "Epoch 569/1000\n",
      "13/13 [==============================] - 0s 750us/step - loss: 6.3754 - mae: 1.7871\n",
      "Epoch 570/1000\n",
      "13/13 [==============================] - 0s 834us/step - loss: 6.3927 - mae: 1.7913\n",
      "Epoch 571/1000\n",
      "13/13 [==============================] - 0s 916us/step - loss: 6.3870 - mae: 1.7904\n",
      "Epoch 572/1000\n",
      "13/13 [==============================] - 0s 750us/step - loss: 6.3812 - mae: 1.7882\n",
      "Epoch 573/1000\n",
      "13/13 [==============================] - 0s 833us/step - loss: 6.3728 - mae: 1.7882\n",
      "Epoch 574/1000\n",
      "13/13 [==============================] - 0s 750us/step - loss: 6.3802 - mae: 1.7900\n",
      "Epoch 575/1000\n"
     ]
    },
    {
     "name": "stdout",
     "output_type": "stream",
     "text": [
      "13/13 [==============================] - 0s 833us/step - loss: 6.3679 - mae: 1.7913\n",
      "Epoch 576/1000\n",
      "13/13 [==============================] - 0s 750us/step - loss: 6.3587 - mae: 1.7863\n",
      "Epoch 577/1000\n",
      "13/13 [==============================] - 0s 751us/step - loss: 6.3524 - mae: 1.7863\n",
      "Epoch 578/1000\n",
      "13/13 [==============================] - 0s 750us/step - loss: 6.3599 - mae: 1.7803\n",
      "Epoch 579/1000\n",
      "13/13 [==============================] - 0s 750us/step - loss: 6.3672 - mae: 1.7878\n",
      "Epoch 580/1000\n",
      "13/13 [==============================] - 0s 750us/step - loss: 6.3556 - mae: 1.7894\n",
      "Epoch 581/1000\n",
      "13/13 [==============================] - 0s 750us/step - loss: 6.3332 - mae: 1.7816\n",
      "Epoch 582/1000\n",
      "13/13 [==============================] - 0s 750us/step - loss: 6.3524 - mae: 1.7860\n",
      "Epoch 583/1000\n",
      "13/13 [==============================] - 0s 833us/step - loss: 6.3325 - mae: 1.7820\n",
      "Epoch 584/1000\n",
      "13/13 [==============================] - 0s 750us/step - loss: 6.3256 - mae: 1.7783\n",
      "Epoch 585/1000\n",
      "13/13 [==============================] - 0s 833us/step - loss: 6.3490 - mae: 1.7798\n",
      "Epoch 586/1000\n",
      "13/13 [==============================] - 0s 833us/step - loss: 6.3353 - mae: 1.7762\n",
      "Epoch 587/1000\n",
      "13/13 [==============================] - 0s 750us/step - loss: 6.3157 - mae: 1.7767\n",
      "Epoch 588/1000\n",
      "13/13 [==============================] - 0s 833us/step - loss: 6.3133 - mae: 1.7816\n",
      "Epoch 589/1000\n",
      "13/13 [==============================] - 0s 750us/step - loss: 6.3200 - mae: 1.7834\n",
      "Epoch 590/1000\n",
      "13/13 [==============================] - 0s 833us/step - loss: 6.3227 - mae: 1.7785\n",
      "Epoch 591/1000\n",
      "13/13 [==============================] - 0s 750us/step - loss: 6.3146 - mae: 1.7790\n",
      "Epoch 592/1000\n",
      "13/13 [==============================] - 0s 750us/step - loss: 6.3062 - mae: 1.7823\n",
      "Epoch 593/1000\n",
      "13/13 [==============================] - 0s 751us/step - loss: 6.3062 - mae: 1.7748\n",
      "Epoch 594/1000\n",
      "13/13 [==============================] - 0s 750us/step - loss: 6.3055 - mae: 1.7785\n",
      "Epoch 595/1000\n",
      "13/13 [==============================] - 0s 751us/step - loss: 6.2938 - mae: 1.7778\n",
      "Epoch 596/1000\n",
      "13/13 [==============================] - 0s 750us/step - loss: 6.2891 - mae: 1.7767\n",
      "Epoch 597/1000\n",
      "13/13 [==============================] - 0s 750us/step - loss: 6.2909 - mae: 1.7748\n",
      "Epoch 598/1000\n",
      "13/13 [==============================] - 0s 833us/step - loss: 6.2935 - mae: 1.7732\n",
      "Epoch 599/1000\n",
      "13/13 [==============================] - 0s 833us/step - loss: 6.2779 - mae: 1.7761\n",
      "Epoch 600/1000\n",
      "13/13 [==============================] - 0s 750us/step - loss: 6.2620 - mae: 1.7706\n",
      "Epoch 601/1000\n",
      "13/13 [==============================] - 0s 833us/step - loss: 6.2811 - mae: 1.7719\n",
      "Epoch 602/1000\n",
      "13/13 [==============================] - 0s 750us/step - loss: 6.2580 - mae: 1.7714\n",
      "Epoch 603/1000\n",
      "13/13 [==============================] - 0s 750us/step - loss: 6.2746 - mae: 1.7772\n",
      "Epoch 604/1000\n",
      "13/13 [==============================] - 0s 750us/step - loss: 6.2529 - mae: 1.7697\n",
      "Epoch 605/1000\n",
      "13/13 [==============================] - 0s 667us/step - loss: 6.2525 - mae: 1.7706\n",
      "Epoch 606/1000\n",
      "13/13 [==============================] - 0s 750us/step - loss: 6.2404 - mae: 1.7693\n",
      "Epoch 607/1000\n",
      "13/13 [==============================] - 0s 667us/step - loss: 6.2580 - mae: 1.7706\n",
      "Epoch 608/1000\n",
      "13/13 [==============================] - 0s 750us/step - loss: 6.2572 - mae: 1.7793\n",
      "Epoch 609/1000\n",
      "13/13 [==============================] - 0s 666us/step - loss: 6.3002 - mae: 1.7855\n",
      "Epoch 610/1000\n",
      "13/13 [==============================] - 0s 666us/step - loss: 6.2797 - mae: 1.7734\n",
      "Epoch 611/1000\n",
      "13/13 [==============================] - 0s 750us/step - loss: 6.2428 - mae: 1.7723\n",
      "Epoch 612/1000\n",
      "13/13 [==============================] - 0s 667us/step - loss: 6.2361 - mae: 1.7675\n",
      "Epoch 613/1000\n",
      "13/13 [==============================] - 0s 667us/step - loss: 6.2165 - mae: 1.7681\n",
      "Epoch 614/1000\n",
      "13/13 [==============================] - 0s 750us/step - loss: 6.2235 - mae: 1.7696\n",
      "Epoch 615/1000\n",
      "13/13 [==============================] - 0s 667us/step - loss: 6.2118 - mae: 1.7652\n",
      "Epoch 616/1000\n",
      "13/13 [==============================] - 0s 750us/step - loss: 6.2112 - mae: 1.7649\n",
      "Epoch 617/1000\n",
      "13/13 [==============================] - 0s 750us/step - loss: 6.2159 - mae: 1.7646\n",
      "Epoch 618/1000\n",
      "13/13 [==============================] - 0s 667us/step - loss: 6.2193 - mae: 1.7694\n",
      "Epoch 619/1000\n",
      "13/13 [==============================] - 0s 667us/step - loss: 6.2041 - mae: 1.7665\n",
      "Epoch 620/1000\n",
      "13/13 [==============================] - 0s 667us/step - loss: 6.1931 - mae: 1.7649\n",
      "Epoch 621/1000\n",
      "13/13 [==============================] - 0s 750us/step - loss: 6.2037 - mae: 1.7621\n",
      "Epoch 622/1000\n",
      "13/13 [==============================] - 0s 666us/step - loss: 6.2116 - mae: 1.7628\n",
      "Epoch 623/1000\n",
      "13/13 [==============================] - 0s 751us/step - loss: 6.2281 - mae: 1.7770\n",
      "Epoch 624/1000\n",
      "13/13 [==============================] - 0s 833us/step - loss: 6.2185 - mae: 1.7677\n",
      "Epoch 625/1000\n",
      "13/13 [==============================] - 0s 751us/step - loss: 6.1838 - mae: 1.7611\n",
      "Epoch 626/1000\n",
      "13/13 [==============================] - 0s 750us/step - loss: 6.1751 - mae: 1.7641\n",
      "Epoch 627/1000\n",
      "13/13 [==============================] - 0s 667us/step - loss: 6.1664 - mae: 1.7594\n",
      "Epoch 628/1000\n",
      "13/13 [==============================] - 0s 750us/step - loss: 6.1739 - mae: 1.7609\n",
      "Epoch 629/1000\n",
      "13/13 [==============================] - 0s 833us/step - loss: 6.2127 - mae: 1.7732\n",
      "Epoch 630/1000\n",
      "13/13 [==============================] - 0s 833us/step - loss: 6.1905 - mae: 1.7593\n",
      "Epoch 631/1000\n",
      "13/13 [==============================] - 0s 750us/step - loss: 6.1833 - mae: 1.7615\n",
      "Epoch 632/1000\n",
      "13/13 [==============================] - 0s 833us/step - loss: 6.1615 - mae: 1.7620\n",
      "Epoch 633/1000\n",
      "13/13 [==============================] - 0s 833us/step - loss: 6.1950 - mae: 1.7651\n",
      "Epoch 634/1000\n",
      "13/13 [==============================] - 0s 751us/step - loss: 6.1686 - mae: 1.7593\n",
      "Epoch 635/1000\n",
      "13/13 [==============================] - 0s 750us/step - loss: 6.1543 - mae: 1.7605\n",
      "Epoch 636/1000\n",
      "13/13 [==============================] - 0s 749us/step - loss: 6.1425 - mae: 1.7599\n",
      "Epoch 637/1000\n",
      "13/13 [==============================] - 0s 833us/step - loss: 6.1542 - mae: 1.7586\n",
      "Epoch 638/1000\n",
      "13/13 [==============================] - 0s 754us/step - loss: 6.1529 - mae: 1.7591\n",
      "Epoch 639/1000\n",
      "13/13 [==============================] - 0s 750us/step - loss: 6.1655 - mae: 1.7641\n",
      "Epoch 640/1000\n",
      "13/13 [==============================] - 0s 750us/step - loss: 6.1358 - mae: 1.7553\n",
      "Epoch 641/1000\n",
      "13/13 [==============================] - 0s 833us/step - loss: 6.1494 - mae: 1.7533\n",
      "Epoch 642/1000\n",
      "13/13 [==============================] - 0s 834us/step - loss: 6.1409 - mae: 1.7598\n",
      "Epoch 643/1000\n",
      "13/13 [==============================] - 0s 751us/step - loss: 6.1340 - mae: 1.7588\n",
      "Epoch 644/1000\n",
      "13/13 [==============================] - 0s 751us/step - loss: 6.1146 - mae: 1.7549\n",
      "Epoch 645/1000\n",
      "13/13 [==============================] - 0s 834us/step - loss: 6.1279 - mae: 1.7550\n",
      "Epoch 646/1000\n",
      "13/13 [==============================] - 0s 751us/step - loss: 6.1394 - mae: 1.7564\n",
      "Epoch 647/1000\n",
      "13/13 [==============================] - 0s 833us/step - loss: 6.1171 - mae: 1.7576\n",
      "Epoch 648/1000\n",
      "13/13 [==============================] - 0s 751us/step - loss: 6.1133 - mae: 1.7496\n",
      "Epoch 649/1000\n",
      "13/13 [==============================] - 0s 750us/step - loss: 6.1163 - mae: 1.7498\n",
      "Epoch 650/1000\n",
      "13/13 [==============================] - 0s 833us/step - loss: 6.1058 - mae: 1.7483\n",
      "Epoch 651/1000\n",
      "13/13 [==============================] - 0s 773us/step - loss: 6.1305 - mae: 1.7613\n",
      "Epoch 652/1000\n",
      "13/13 [==============================] - 0s 750us/step - loss: 6.1099 - mae: 1.7553\n",
      "Epoch 653/1000\n",
      "13/13 [==============================] - 0s 750us/step - loss: 6.1013 - mae: 1.7533\n",
      "Epoch 654/1000\n",
      "13/13 [==============================] - 0s 755us/step - loss: 6.1331 - mae: 1.7571\n",
      "Epoch 655/1000\n",
      "13/13 [==============================] - 0s 842us/step - loss: 6.1089 - mae: 1.7523\n",
      "Epoch 656/1000\n",
      "13/13 [==============================] - 0s 750us/step - loss: 6.1158 - mae: 1.7508\n",
      "Epoch 657/1000\n",
      "13/13 [==============================] - 0s 750us/step - loss: 6.1218 - mae: 1.7516\n",
      "Epoch 658/1000\n",
      "13/13 [==============================] - 0s 751us/step - loss: 6.1030 - mae: 1.7540\n",
      "Epoch 659/1000\n",
      "13/13 [==============================] - 0s 750us/step - loss: 6.0992 - mae: 1.7558\n",
      "Epoch 660/1000\n",
      "13/13 [==============================] - 0s 834us/step - loss: 6.1028 - mae: 1.7556\n",
      "Epoch 661/1000\n",
      "13/13 [==============================] - 0s 750us/step - loss: 6.0734 - mae: 1.7491\n",
      "Epoch 662/1000\n",
      "13/13 [==============================] - 0s 751us/step - loss: 6.0845 - mae: 1.7509\n",
      "Epoch 663/1000\n",
      "13/13 [==============================] - 0s 833us/step - loss: 6.1122 - mae: 1.7559\n",
      "Epoch 664/1000\n",
      "13/13 [==============================] - 0s 751us/step - loss: 6.0662 - mae: 1.7516\n",
      "Epoch 665/1000\n",
      "13/13 [==============================] - 0s 751us/step - loss: 6.0793 - mae: 1.7465\n",
      "Epoch 666/1000\n",
      "13/13 [==============================] - 0s 751us/step - loss: 6.0705 - mae: 1.7464\n",
      "Epoch 667/1000\n",
      "13/13 [==============================] - 0s 750us/step - loss: 6.0652 - mae: 1.7468\n",
      "Epoch 668/1000\n",
      "13/13 [==============================] - 0s 750us/step - loss: 6.0616 - mae: 1.7478\n",
      "Epoch 669/1000\n",
      "13/13 [==============================] - 0s 750us/step - loss: 6.0679 - mae: 1.7501\n",
      "Epoch 670/1000\n",
      "13/13 [==============================] - 0s 833us/step - loss: 6.0732 - mae: 1.7448\n",
      "Epoch 671/1000\n",
      "13/13 [==============================] - 0s 749us/step - loss: 6.0681 - mae: 1.7472\n",
      "Epoch 672/1000\n",
      "13/13 [==============================] - 0s 750us/step - loss: 6.0600 - mae: 1.7490\n",
      "Epoch 673/1000\n",
      "13/13 [==============================] - 0s 834us/step - loss: 6.0578 - mae: 1.7454\n",
      "Epoch 674/1000\n",
      "13/13 [==============================] - 0s 750us/step - loss: 6.0689 - mae: 1.7426\n",
      "Epoch 675/1000\n",
      "13/13 [==============================] - 0s 750us/step - loss: 6.0564 - mae: 1.7456\n",
      "Epoch 676/1000\n",
      "13/13 [==============================] - 0s 833us/step - loss: 6.0412 - mae: 1.7454\n",
      "Epoch 677/1000\n",
      "13/13 [==============================] - 0s 751us/step - loss: 6.0553 - mae: 1.7521\n",
      "Epoch 678/1000\n",
      "13/13 [==============================] - 0s 833us/step - loss: 6.0515 - mae: 1.7480\n",
      "Epoch 679/1000\n",
      "13/13 [==============================] - 0s 751us/step - loss: 6.0385 - mae: 1.7449\n",
      "Epoch 680/1000\n",
      "13/13 [==============================] - 0s 750us/step - loss: 6.0364 - mae: 1.7409\n",
      "Epoch 681/1000\n",
      "13/13 [==============================] - 0s 749us/step - loss: 6.0312 - mae: 1.7428\n",
      "Epoch 682/1000\n",
      "13/13 [==============================] - 0s 833us/step - loss: 6.0299 - mae: 1.7436\n",
      "Epoch 683/1000\n",
      "13/13 [==============================] - 0s 749us/step - loss: 6.0409 - mae: 1.7464\n",
      "Epoch 684/1000\n",
      "13/13 [==============================] - 0s 750us/step - loss: 6.0434 - mae: 1.7419\n",
      "Epoch 685/1000\n",
      "13/13 [==============================] - 0s 751us/step - loss: 6.0761 - mae: 1.7506\n",
      "Epoch 686/1000\n",
      "13/13 [==============================] - 0s 750us/step - loss: 6.0132 - mae: 1.7386\n",
      "Epoch 687/1000\n",
      "13/13 [==============================] - 0s 751us/step - loss: 6.0266 - mae: 1.7386\n",
      "Epoch 688/1000\n",
      "13/13 [==============================] - 0s 749us/step - loss: 6.0766 - mae: 1.7493\n",
      "Epoch 689/1000\n",
      "13/13 [==============================] - 0s 750us/step - loss: 6.0387 - mae: 1.7425\n",
      "Epoch 690/1000\n",
      "13/13 [==============================] - 0s 750us/step - loss: 6.0241 - mae: 1.7432\n",
      "Epoch 691/1000\n",
      "13/13 [==============================] - 0s 749us/step - loss: 6.0156 - mae: 1.7424\n",
      "Epoch 692/1000\n",
      "13/13 [==============================] - 0s 653us/step - loss: 6.0042 - mae: 1.7382\n",
      "Epoch 693/1000\n",
      "13/13 [==============================] - 0s 754us/step - loss: 6.0131 - mae: 1.7407\n",
      "Epoch 694/1000\n",
      "13/13 [==============================] - 0s 749us/step - loss: 5.9873 - mae: 1.7359\n",
      "Epoch 695/1000\n",
      "13/13 [==============================] - 0s 666us/step - loss: 6.0021 - mae: 1.7347\n",
      "Epoch 696/1000\n",
      "13/13 [==============================] - 0s 750us/step - loss: 5.9905 - mae: 1.7344\n",
      "Epoch 697/1000\n",
      "13/13 [==============================] - 0s 749us/step - loss: 5.9969 - mae: 1.7380\n",
      "Epoch 698/1000\n",
      "13/13 [==============================] - 0s 751us/step - loss: 6.0034 - mae: 1.7384\n",
      "Epoch 699/1000\n",
      "13/13 [==============================] - 0s 751us/step - loss: 5.9917 - mae: 1.7352\n",
      "Epoch 700/1000\n",
      "13/13 [==============================] - 0s 749us/step - loss: 6.0044 - mae: 1.7386\n",
      "Epoch 701/1000\n",
      "13/13 [==============================] - 0s 749us/step - loss: 5.9742 - mae: 1.7346\n",
      "Epoch 702/1000\n",
      "13/13 [==============================] - 0s 665us/step - loss: 5.9995 - mae: 1.7313\n",
      "Epoch 703/1000\n",
      "13/13 [==============================] - 0s 667us/step - loss: 5.9870 - mae: 1.7323\n",
      "Epoch 704/1000\n",
      "13/13 [==============================] - 0s 686us/step - loss: 5.9970 - mae: 1.7381\n",
      "Epoch 705/1000\n",
      "13/13 [==============================] - 0s 755us/step - loss: 5.9845 - mae: 1.7337\n",
      "Epoch 706/1000\n",
      "13/13 [==============================] - 0s 745us/step - loss: 5.9900 - mae: 1.7335\n",
      "Epoch 707/1000\n",
      "13/13 [==============================] - 0s 750us/step - loss: 5.9772 - mae: 1.7361\n",
      "Epoch 708/1000\n",
      "13/13 [==============================] - 0s 667us/step - loss: 6.0026 - mae: 1.7381\n",
      "Epoch 709/1000\n",
      "13/13 [==============================] - 0s 667us/step - loss: 5.9709 - mae: 1.7341\n",
      "Epoch 710/1000\n",
      "13/13 [==============================] - 0s 667us/step - loss: 6.0093 - mae: 1.7424\n",
      "Epoch 711/1000\n",
      "13/13 [==============================] - 0s 667us/step - loss: 5.9731 - mae: 1.7354\n",
      "Epoch 712/1000\n",
      "13/13 [==============================] - 0s 666us/step - loss: 5.9641 - mae: 1.7347\n",
      "Epoch 713/1000\n",
      "13/13 [==============================] - 0s 667us/step - loss: 5.9646 - mae: 1.7279\n",
      "Epoch 714/1000\n",
      "13/13 [==============================] - 0s 750us/step - loss: 5.9660 - mae: 1.7267\n",
      "Epoch 715/1000\n",
      "13/13 [==============================] - 0s 666us/step - loss: 5.9742 - mae: 1.7341\n",
      "Epoch 716/1000\n",
      "13/13 [==============================] - 0s 751us/step - loss: 5.9468 - mae: 1.7328\n",
      "Epoch 717/1000\n",
      "13/13 [==============================] - 0s 667us/step - loss: 5.9526 - mae: 1.7332\n",
      "Epoch 718/1000\n",
      "13/13 [==============================] - 0s 750us/step - loss: 5.9832 - mae: 1.7338\n",
      "Epoch 719/1000\n",
      "13/13 [==============================] - 0s 667us/step - loss: 5.9481 - mae: 1.7307\n",
      "Epoch 720/1000\n",
      "13/13 [==============================] - 0s 750us/step - loss: 5.9371 - mae: 1.7296\n",
      "Epoch 721/1000\n",
      "13/13 [==============================] - 0s 667us/step - loss: 5.9454 - mae: 1.7300\n",
      "Epoch 722/1000\n",
      "13/13 [==============================] - 0s 667us/step - loss: 5.9379 - mae: 1.7291\n",
      "Epoch 723/1000\n",
      "13/13 [==============================] - 0s 667us/step - loss: 5.9312 - mae: 1.7262\n",
      "Epoch 724/1000\n",
      "13/13 [==============================] - 0s 750us/step - loss: 5.9293 - mae: 1.7239\n",
      "Epoch 725/1000\n",
      "13/13 [==============================] - 0s 667us/step - loss: 5.9270 - mae: 1.7262\n",
      "Epoch 726/1000\n",
      "13/13 [==============================] - 0s 750us/step - loss: 5.9409 - mae: 1.7255\n",
      "Epoch 727/1000\n",
      "13/13 [==============================] - 0s 750us/step - loss: 5.9360 - mae: 1.7210\n",
      "Epoch 728/1000\n",
      "13/13 [==============================] - 0s 667us/step - loss: 5.9574 - mae: 1.7359\n",
      "Epoch 729/1000\n",
      "13/13 [==============================] - 0s 750us/step - loss: 5.9375 - mae: 1.7267\n",
      "Epoch 730/1000\n",
      "13/13 [==============================] - 0s 750us/step - loss: 5.9092 - mae: 1.7181\n",
      "Epoch 731/1000\n",
      "13/13 [==============================] - 0s 750us/step - loss: 5.9256 - mae: 1.7253\n",
      "Epoch 732/1000\n",
      "13/13 [==============================] - 0s 667us/step - loss: 5.9154 - mae: 1.7238\n",
      "Epoch 733/1000\n",
      "13/13 [==============================] - 0s 667us/step - loss: 5.9091 - mae: 1.7235\n",
      "Epoch 734/1000\n",
      "13/13 [==============================] - 0s 750us/step - loss: 5.9112 - mae: 1.7219\n",
      "Epoch 735/1000\n",
      "13/13 [==============================] - 0s 667us/step - loss: 5.9092 - mae: 1.7205\n",
      "Epoch 736/1000\n",
      "13/13 [==============================] - 0s 667us/step - loss: 5.9250 - mae: 1.7240\n",
      "Epoch 737/1000\n",
      "13/13 [==============================] - 0s 750us/step - loss: 5.8986 - mae: 1.7192\n",
      "Epoch 738/1000\n",
      "13/13 [==============================] - 0s 750us/step - loss: 5.9141 - mae: 1.7185\n",
      "Epoch 739/1000\n"
     ]
    },
    {
     "name": "stdout",
     "output_type": "stream",
     "text": [
      "13/13 [==============================] - 0s 668us/step - loss: 5.8861 - mae: 1.7127\n",
      "Epoch 740/1000\n",
      "13/13 [==============================] - 0s 750us/step - loss: 5.8893 - mae: 1.7187\n",
      "Epoch 741/1000\n",
      "13/13 [==============================] - 0s 750us/step - loss: 5.8967 - mae: 1.7235\n",
      "Epoch 742/1000\n",
      "13/13 [==============================] - 0s 667us/step - loss: 5.8899 - mae: 1.7214\n",
      "Epoch 743/1000\n",
      "13/13 [==============================] - 0s 667us/step - loss: 5.8847 - mae: 1.7195\n",
      "Epoch 744/1000\n",
      "13/13 [==============================] - 0s 750us/step - loss: 5.8850 - mae: 1.7188\n",
      "Epoch 745/1000\n",
      "13/13 [==============================] - 0s 750us/step - loss: 5.8789 - mae: 1.7147\n",
      "Epoch 746/1000\n",
      "13/13 [==============================] - 0s 751us/step - loss: 5.8782 - mae: 1.7152\n",
      "Epoch 747/1000\n",
      "13/13 [==============================] - 0s 666us/step - loss: 5.8813 - mae: 1.7190\n",
      "Epoch 748/1000\n",
      "13/13 [==============================] - 0s 750us/step - loss: 5.8905 - mae: 1.7183\n",
      "Epoch 749/1000\n",
      "13/13 [==============================] - 0s 749us/step - loss: 5.9050 - mae: 1.7219\n",
      "Epoch 750/1000\n",
      "13/13 [==============================] - 0s 667us/step - loss: 5.8847 - mae: 1.7107\n",
      "Epoch 751/1000\n",
      "13/13 [==============================] - 0s 750us/step - loss: 5.8615 - mae: 1.7129\n",
      "Epoch 752/1000\n",
      "13/13 [==============================] - 0s 667us/step - loss: 5.8632 - mae: 1.7179\n",
      "Epoch 753/1000\n",
      "13/13 [==============================] - 0s 667us/step - loss: 5.8592 - mae: 1.7142\n",
      "Epoch 754/1000\n",
      "13/13 [==============================] - 0s 667us/step - loss: 5.8614 - mae: 1.7098\n",
      "Epoch 755/1000\n",
      "13/13 [==============================] - 0s 667us/step - loss: 5.8894 - mae: 1.7141\n",
      "Epoch 756/1000\n",
      "13/13 [==============================] - 0s 750us/step - loss: 5.8555 - mae: 1.7095\n",
      "Epoch 757/1000\n",
      "13/13 [==============================] - 0s 667us/step - loss: 5.8641 - mae: 1.7154\n",
      "Epoch 758/1000\n",
      "13/13 [==============================] - 0s 750us/step - loss: 5.8711 - mae: 1.7113\n",
      "Epoch 759/1000\n",
      "13/13 [==============================] - 0s 667us/step - loss: 5.8428 - mae: 1.7069\n",
      "Epoch 760/1000\n",
      "13/13 [==============================] - 0s 751us/step - loss: 5.8519 - mae: 1.7124\n",
      "Epoch 761/1000\n",
      "13/13 [==============================] - 0s 667us/step - loss: 5.8505 - mae: 1.7082\n",
      "Epoch 762/1000\n",
      "13/13 [==============================] - 0s 750us/step - loss: 5.8685 - mae: 1.7107\n",
      "Epoch 763/1000\n",
      "13/13 [==============================] - 0s 750us/step - loss: 5.8407 - mae: 1.7085\n",
      "Epoch 764/1000\n",
      "13/13 [==============================] - 0s 667us/step - loss: 5.8691 - mae: 1.7151\n",
      "Epoch 765/1000\n",
      "13/13 [==============================] - 0s 750us/step - loss: 5.8343 - mae: 1.7078\n",
      "Epoch 766/1000\n",
      "13/13 [==============================] - 0s 749us/step - loss: 5.8313 - mae: 1.7056\n",
      "Epoch 767/1000\n",
      "13/13 [==============================] - 0s 667us/step - loss: 5.8337 - mae: 1.7081\n",
      "Epoch 768/1000\n",
      "13/13 [==============================] - 0s 751us/step - loss: 5.8267 - mae: 1.7059\n",
      "Epoch 769/1000\n",
      "13/13 [==============================] - 0s 667us/step - loss: 5.8330 - mae: 1.7050\n",
      "Epoch 770/1000\n",
      "13/13 [==============================] - 0s 667us/step - loss: 5.8177 - mae: 1.7035\n",
      "Epoch 771/1000\n",
      "13/13 [==============================] - 0s 750us/step - loss: 5.8191 - mae: 1.7023\n",
      "Epoch 772/1000\n",
      "13/13 [==============================] - 0s 667us/step - loss: 5.8349 - mae: 1.7082\n",
      "Epoch 773/1000\n",
      "13/13 [==============================] - 0s 750us/step - loss: 5.8329 - mae: 1.7061\n",
      "Epoch 774/1000\n",
      "13/13 [==============================] - 0s 667us/step - loss: 5.8327 - mae: 1.7029\n",
      "Epoch 775/1000\n",
      "13/13 [==============================] - 0s 667us/step - loss: 5.8082 - mae: 1.6993\n",
      "Epoch 776/1000\n",
      "13/13 [==============================] - 0s 750us/step - loss: 5.8092 - mae: 1.7051\n",
      "Epoch 777/1000\n",
      "13/13 [==============================] - 0s 666us/step - loss: 5.8160 - mae: 1.7043\n",
      "Epoch 778/1000\n",
      "13/13 [==============================] - 0s 667us/step - loss: 5.8116 - mae: 1.7044\n",
      "Epoch 779/1000\n",
      "13/13 [==============================] - 0s 750us/step - loss: 5.8068 - mae: 1.7006\n",
      "Epoch 780/1000\n",
      "13/13 [==============================] - 0s 749us/step - loss: 5.8014 - mae: 1.7012\n",
      "Epoch 781/1000\n",
      "13/13 [==============================] - 0s 833us/step - loss: 5.7927 - mae: 1.6976\n",
      "Epoch 782/1000\n",
      "13/13 [==============================] - 0s 833us/step - loss: 5.8161 - mae: 1.7056\n",
      "Epoch 783/1000\n",
      "13/13 [==============================] - 0s 833us/step - loss: 5.8017 - mae: 1.7075\n",
      "Epoch 784/1000\n",
      "13/13 [==============================] - 0s 833us/step - loss: 5.8234 - mae: 1.7083\n",
      "Epoch 785/1000\n",
      "13/13 [==============================] - 0s 837us/step - loss: 5.8025 - mae: 1.7018\n",
      "Epoch 786/1000\n",
      "13/13 [==============================] - 0s 826us/step - loss: 5.8024 - mae: 1.6969\n",
      "Epoch 787/1000\n",
      "13/13 [==============================] - 0s 833us/step - loss: 5.7965 - mae: 1.6994\n",
      "Epoch 788/1000\n",
      "13/13 [==============================] - 0s 833us/step - loss: 5.8185 - mae: 1.7081\n",
      "Epoch 789/1000\n",
      "13/13 [==============================] - 0s 917us/step - loss: 5.8016 - mae: 1.7038\n",
      "Epoch 790/1000\n",
      "13/13 [==============================] - 0s 918us/step - loss: 5.8027 - mae: 1.7020\n",
      "Epoch 791/1000\n",
      "13/13 [==============================] - 0s 751us/step - loss: 5.7939 - mae: 1.7055\n",
      "Epoch 792/1000\n",
      "13/13 [==============================] - 0s 750us/step - loss: 5.7898 - mae: 1.7055\n",
      "Epoch 793/1000\n",
      "13/13 [==============================] - 0s 750us/step - loss: 5.8203 - mae: 1.7043\n",
      "Epoch 794/1000\n",
      "13/13 [==============================] - 0s 667us/step - loss: 5.7829 - mae: 1.7003\n",
      "Epoch 795/1000\n",
      "13/13 [==============================] - 0s 750us/step - loss: 5.7894 - mae: 1.7001\n",
      "Epoch 796/1000\n",
      "13/13 [==============================] - 0s 667us/step - loss: 5.7851 - mae: 1.6953\n",
      "Epoch 797/1000\n",
      "13/13 [==============================] - 0s 750us/step - loss: 5.7643 - mae: 1.6961\n",
      "Epoch 798/1000\n",
      "13/13 [==============================] - 0s 769us/step - loss: 5.7697 - mae: 1.7004\n",
      "Epoch 799/1000\n",
      "13/13 [==============================] - 0s 666us/step - loss: 5.7922 - mae: 1.6979\n",
      "Epoch 800/1000\n",
      "13/13 [==============================] - 0s 751us/step - loss: 5.7607 - mae: 1.6915\n",
      "Epoch 801/1000\n",
      "13/13 [==============================] - 0s 750us/step - loss: 5.7840 - mae: 1.6992\n",
      "Epoch 802/1000\n",
      "13/13 [==============================] - 0s 750us/step - loss: 5.7782 - mae: 1.6999\n",
      "Epoch 803/1000\n",
      "13/13 [==============================] - 0s 666us/step - loss: 5.7549 - mae: 1.6949\n",
      "Epoch 804/1000\n",
      "13/13 [==============================] - 0s 750us/step - loss: 5.7792 - mae: 1.7005\n",
      "Epoch 805/1000\n",
      "13/13 [==============================] - 0s 750us/step - loss: 5.7619 - mae: 1.6964\n",
      "Epoch 806/1000\n",
      "13/13 [==============================] - 0s 750us/step - loss: 5.7726 - mae: 1.7023\n",
      "Epoch 807/1000\n",
      "13/13 [==============================] - 0s 666us/step - loss: 5.7511 - mae: 1.6949\n",
      "Epoch 808/1000\n",
      "13/13 [==============================] - 0s 750us/step - loss: 5.7513 - mae: 1.6877\n",
      "Epoch 809/1000\n",
      "13/13 [==============================] - 0s 751us/step - loss: 5.7798 - mae: 1.6968\n",
      "Epoch 810/1000\n",
      "13/13 [==============================] - 0s 750us/step - loss: 5.7541 - mae: 1.6939\n",
      "Epoch 811/1000\n",
      "13/13 [==============================] - 0s 750us/step - loss: 5.7495 - mae: 1.6882\n",
      "Epoch 812/1000\n",
      "13/13 [==============================] - 0s 750us/step - loss: 5.7611 - mae: 1.6946\n",
      "Epoch 813/1000\n",
      "13/13 [==============================] - 0s 750us/step - loss: 5.7453 - mae: 1.6917\n",
      "Epoch 814/1000\n",
      "13/13 [==============================] - 0s 751us/step - loss: 5.7387 - mae: 1.6909\n",
      "Epoch 815/1000\n",
      "13/13 [==============================] - 0s 750us/step - loss: 5.7452 - mae: 1.6903\n",
      "Epoch 816/1000\n",
      "13/13 [==============================] - 0s 667us/step - loss: 5.7385 - mae: 1.6901\n",
      "Epoch 817/1000\n",
      "13/13 [==============================] - 0s 751us/step - loss: 5.7539 - mae: 1.6948\n",
      "Epoch 818/1000\n",
      "13/13 [==============================] - 0s 751us/step - loss: 5.7381 - mae: 1.6883\n",
      "Epoch 819/1000\n",
      "13/13 [==============================] - 0s 667us/step - loss: 5.7602 - mae: 1.6849\n",
      "Epoch 820/1000\n",
      "13/13 [==============================] - 0s 749us/step - loss: 5.7799 - mae: 1.6909\n",
      "Epoch 821/1000\n",
      "13/13 [==============================] - 0s 750us/step - loss: 5.7789 - mae: 1.7014\n",
      "Epoch 822/1000\n",
      "13/13 [==============================] - 0s 667us/step - loss: 5.7239 - mae: 1.6892\n",
      "Epoch 823/1000\n",
      "13/13 [==============================] - 0s 750us/step - loss: 5.7324 - mae: 1.6884\n",
      "Epoch 824/1000\n",
      "13/13 [==============================] - 0s 750us/step - loss: 5.7225 - mae: 1.6897\n",
      "Epoch 825/1000\n",
      "13/13 [==============================] - 0s 750us/step - loss: 5.7383 - mae: 1.6869\n",
      "Epoch 826/1000\n",
      "13/13 [==============================] - 0s 667us/step - loss: 5.7243 - mae: 1.6888\n",
      "Epoch 827/1000\n",
      "13/13 [==============================] - 0s 750us/step - loss: 5.7272 - mae: 1.6920\n",
      "Epoch 828/1000\n",
      "13/13 [==============================] - 0s 750us/step - loss: 5.7204 - mae: 1.6874\n",
      "Epoch 829/1000\n",
      "13/13 [==============================] - 0s 749us/step - loss: 5.7306 - mae: 1.6897\n",
      "Epoch 830/1000\n",
      "13/13 [==============================] - 0s 666us/step - loss: 5.7236 - mae: 1.6850\n",
      "Epoch 831/1000\n",
      "13/13 [==============================] - 0s 750us/step - loss: 5.7260 - mae: 1.6889\n",
      "Epoch 832/1000\n",
      "13/13 [==============================] - 0s 750us/step - loss: 5.7482 - mae: 1.7015\n",
      "Epoch 833/1000\n",
      "13/13 [==============================] - 0s 751us/step - loss: 5.7061 - mae: 1.6819\n",
      "Epoch 834/1000\n",
      "13/13 [==============================] - 0s 667us/step - loss: 5.7228 - mae: 1.6849\n",
      "Epoch 835/1000\n",
      "13/13 [==============================] - 0s 750us/step - loss: 5.7081 - mae: 1.6832\n",
      "Epoch 836/1000\n",
      "13/13 [==============================] - 0s 749us/step - loss: 5.7024 - mae: 1.6876\n",
      "Epoch 837/1000\n",
      "13/13 [==============================] - 0s 750us/step - loss: 5.7434 - mae: 1.6912\n",
      "Epoch 838/1000\n",
      "13/13 [==============================] - 0s 750us/step - loss: 5.7090 - mae: 1.6865\n",
      "Epoch 839/1000\n",
      "13/13 [==============================] - 0s 667us/step - loss: 5.7255 - mae: 1.6859\n",
      "Epoch 840/1000\n",
      "13/13 [==============================] - 0s 750us/step - loss: 5.6952 - mae: 1.6847\n",
      "Epoch 841/1000\n",
      "13/13 [==============================] - 0s 750us/step - loss: 5.7010 - mae: 1.6901\n",
      "Epoch 842/1000\n",
      "13/13 [==============================] - 0s 750us/step - loss: 5.7298 - mae: 1.6833\n",
      "Epoch 843/1000\n",
      "13/13 [==============================] - 0s 667us/step - loss: 5.6997 - mae: 1.6789\n",
      "Epoch 844/1000\n",
      "13/13 [==============================] - 0s 749us/step - loss: 5.6921 - mae: 1.6823\n",
      "Epoch 845/1000\n",
      "13/13 [==============================] - 0s 750us/step - loss: 5.6919 - mae: 1.6823\n",
      "Epoch 846/1000\n",
      "13/13 [==============================] - 0s 750us/step - loss: 5.6973 - mae: 1.6842\n",
      "Epoch 847/1000\n",
      "13/13 [==============================] - 0s 750us/step - loss: 5.6989 - mae: 1.6816\n",
      "Epoch 848/1000\n",
      "13/13 [==============================] - 0s 666us/step - loss: 5.6960 - mae: 1.6839\n",
      "Epoch 849/1000\n",
      "13/13 [==============================] - 0s 750us/step - loss: 5.6833 - mae: 1.6819\n",
      "Epoch 850/1000\n",
      "13/13 [==============================] - 0s 667us/step - loss: 5.6873 - mae: 1.6750\n",
      "Epoch 851/1000\n",
      "13/13 [==============================] - 0s 667us/step - loss: 5.6939 - mae: 1.6822\n",
      "Epoch 852/1000\n",
      "13/13 [==============================] - 0s 750us/step - loss: 5.6836 - mae: 1.6789\n",
      "Epoch 853/1000\n",
      "13/13 [==============================] - 0s 667us/step - loss: 5.6955 - mae: 1.6834\n",
      "Epoch 854/1000\n",
      "13/13 [==============================] - 0s 667us/step - loss: 5.6804 - mae: 1.6774\n",
      "Epoch 855/1000\n",
      "13/13 [==============================] - 0s 749us/step - loss: 5.6886 - mae: 1.6813\n",
      "Epoch 856/1000\n",
      "13/13 [==============================] - 0s 667us/step - loss: 5.6712 - mae: 1.6821\n",
      "Epoch 857/1000\n",
      "13/13 [==============================] - 0s 750us/step - loss: 5.6745 - mae: 1.6819\n",
      "Epoch 858/1000\n",
      "13/13 [==============================] - 0s 751us/step - loss: 5.6793 - mae: 1.6836\n",
      "Epoch 859/1000\n",
      "13/13 [==============================] - 0s 751us/step - loss: 5.6616 - mae: 1.6794\n",
      "Epoch 860/1000\n",
      "13/13 [==============================] - 0s 750us/step - loss: 5.6762 - mae: 1.6784\n",
      "Epoch 861/1000\n",
      "13/13 [==============================] - 0s 749us/step - loss: 5.6628 - mae: 1.6780\n",
      "Epoch 862/1000\n",
      "13/13 [==============================] - 0s 666us/step - loss: 5.6669 - mae: 1.6842\n",
      "Epoch 863/1000\n",
      "13/13 [==============================] - 0s 750us/step - loss: 5.6812 - mae: 1.6909\n",
      "Epoch 864/1000\n",
      "13/13 [==============================] - 0s 751us/step - loss: 5.6714 - mae: 1.6850\n",
      "Epoch 865/1000\n",
      "13/13 [==============================] - 0s 750us/step - loss: 5.6984 - mae: 1.6788\n",
      "Epoch 866/1000\n",
      "13/13 [==============================] - 0s 667us/step - loss: 5.6825 - mae: 1.6824\n",
      "Epoch 867/1000\n",
      "13/13 [==============================] - 0s 750us/step - loss: 5.6769 - mae: 1.6837\n",
      "Epoch 868/1000\n",
      "13/13 [==============================] - 0s 750us/step - loss: 5.6462 - mae: 1.6754\n",
      "Epoch 869/1000\n",
      "13/13 [==============================] - 0s 749us/step - loss: 5.6794 - mae: 1.6749\n",
      "Epoch 870/1000\n",
      "13/13 [==============================] - 0s 667us/step - loss: 5.6607 - mae: 1.6722\n",
      "Epoch 871/1000\n",
      "13/13 [==============================] - 0s 667us/step - loss: 5.6794 - mae: 1.6766\n",
      "Epoch 872/1000\n",
      "13/13 [==============================] - 0s 750us/step - loss: 5.6301 - mae: 1.6704\n",
      "Epoch 873/1000\n",
      "13/13 [==============================] - 0s 750us/step - loss: 5.6576 - mae: 1.6774\n",
      "Epoch 874/1000\n",
      "13/13 [==============================] - 0s 676us/step - loss: 5.6395 - mae: 1.6763\n",
      "Epoch 875/1000\n",
      "13/13 [==============================] - 0s 666us/step - loss: 5.6535 - mae: 1.6794\n",
      "Epoch 876/1000\n",
      "13/13 [==============================] - 0s 750us/step - loss: 5.6538 - mae: 1.6740\n",
      "Epoch 877/1000\n",
      "13/13 [==============================] - 0s 750us/step - loss: 5.6448 - mae: 1.6728\n",
      "Epoch 878/1000\n",
      "13/13 [==============================] - 0s 751us/step - loss: 5.6434 - mae: 1.6742\n",
      "Epoch 879/1000\n",
      "13/13 [==============================] - 0s 750us/step - loss: 5.6596 - mae: 1.6813\n",
      "Epoch 880/1000\n",
      "13/13 [==============================] - 0s 761us/step - loss: 5.6395 - mae: 1.6706\n",
      "Epoch 881/1000\n",
      "13/13 [==============================] - 0s 750us/step - loss: 5.6458 - mae: 1.6671\n",
      "Epoch 882/1000\n",
      "13/13 [==============================] - 0s 667us/step - loss: 5.6331 - mae: 1.6708\n",
      "Epoch 883/1000\n",
      "13/13 [==============================] - 0s 749us/step - loss: 5.6379 - mae: 1.6749\n",
      "Epoch 884/1000\n",
      "13/13 [==============================] - 0s 750us/step - loss: 5.6315 - mae: 1.6753\n",
      "Epoch 885/1000\n",
      "13/13 [==============================] - 0s 751us/step - loss: 5.6314 - mae: 1.6721\n",
      "Epoch 886/1000\n",
      "13/13 [==============================] - 0s 666us/step - loss: 5.6277 - mae: 1.6709\n",
      "Epoch 887/1000\n",
      "13/13 [==============================] - 0s 667us/step - loss: 5.6412 - mae: 1.6679\n",
      "Epoch 888/1000\n",
      "13/13 [==============================] - 0s 751us/step - loss: 5.6153 - mae: 1.6699\n",
      "Epoch 889/1000\n",
      "13/13 [==============================] - 0s 750us/step - loss: 5.6268 - mae: 1.6725\n",
      "Epoch 890/1000\n",
      "13/13 [==============================] - 0s 666us/step - loss: 5.6858 - mae: 1.6771\n",
      "Epoch 891/1000\n",
      "13/13 [==============================] - 0s 667us/step - loss: 5.6140 - mae: 1.6675\n",
      "Epoch 892/1000\n",
      "13/13 [==============================] - 0s 750us/step - loss: 5.6222 - mae: 1.6751\n",
      "Epoch 893/1000\n",
      "13/13 [==============================] - 0s 749us/step - loss: 5.6242 - mae: 1.6756\n",
      "Epoch 894/1000\n",
      "13/13 [==============================] - 0s 667us/step - loss: 5.6654 - mae: 1.6842\n",
      "Epoch 895/1000\n",
      "13/13 [==============================] - 0s 750us/step - loss: 5.6254 - mae: 1.6657\n",
      "Epoch 896/1000\n",
      "13/13 [==============================] - 0s 749us/step - loss: 5.6386 - mae: 1.6733\n",
      "Epoch 897/1000\n",
      "13/13 [==============================] - 0s 702us/step - loss: 5.6134 - mae: 1.6694\n",
      "Epoch 898/1000\n",
      "13/13 [==============================] - 0s 749us/step - loss: 5.6221 - mae: 1.6664\n",
      "Epoch 899/1000\n",
      "13/13 [==============================] - 0s 667us/step - loss: 5.5996 - mae: 1.6685\n",
      "Epoch 900/1000\n",
      "13/13 [==============================] - 0s 749us/step - loss: 5.6071 - mae: 1.6709\n",
      "Epoch 901/1000\n",
      "13/13 [==============================] - 0s 749us/step - loss: 5.6051 - mae: 1.6695\n",
      "Epoch 902/1000\n",
      "13/13 [==============================] - 0s 667us/step - loss: 5.6019 - mae: 1.6625\n",
      "Epoch 903/1000\n"
     ]
    },
    {
     "name": "stdout",
     "output_type": "stream",
     "text": [
      "13/13 [==============================] - 0s 749us/step - loss: 5.6102 - mae: 1.6680\n",
      "Epoch 904/1000\n",
      "13/13 [==============================] - 0s 750us/step - loss: 5.6016 - mae: 1.6650\n",
      "Epoch 905/1000\n",
      "13/13 [==============================] - 0s 751us/step - loss: 5.6006 - mae: 1.6661\n",
      "Epoch 906/1000\n",
      "13/13 [==============================] - 0s 667us/step - loss: 5.6368 - mae: 1.6692\n",
      "Epoch 907/1000\n",
      "13/13 [==============================] - 0s 667us/step - loss: 5.6206 - mae: 1.6718\n",
      "Epoch 908/1000\n",
      "13/13 [==============================] - 0s 750us/step - loss: 5.6078 - mae: 1.6624\n",
      "Epoch 909/1000\n",
      "13/13 [==============================] - 0s 685us/step - loss: 5.5945 - mae: 1.6626\n",
      "Epoch 910/1000\n",
      "13/13 [==============================] - 0s 751us/step - loss: 5.6022 - mae: 1.6627\n",
      "Epoch 911/1000\n",
      "13/13 [==============================] - 0s 794us/step - loss: 5.5824 - mae: 1.6671\n",
      "Epoch 912/1000\n",
      "13/13 [==============================] - 0s 667us/step - loss: 5.5924 - mae: 1.6704\n",
      "Epoch 913/1000\n",
      "13/13 [==============================] - 0s 749us/step - loss: 5.5771 - mae: 1.6642\n",
      "Epoch 914/1000\n",
      "13/13 [==============================] - 0s 667us/step - loss: 5.6091 - mae: 1.6661\n",
      "Epoch 915/1000\n",
      "13/13 [==============================] - 0s 749us/step - loss: 5.6110 - mae: 1.6638\n",
      "Epoch 916/1000\n",
      "13/13 [==============================] - 0s 667us/step - loss: 5.5713 - mae: 1.6568\n",
      "Epoch 917/1000\n",
      "13/13 [==============================] - 0s 667us/step - loss: 5.5829 - mae: 1.6607\n",
      "Epoch 918/1000\n",
      "13/13 [==============================] - 0s 667us/step - loss: 5.5787 - mae: 1.6638\n",
      "Epoch 919/1000\n",
      "13/13 [==============================] - 0s 751us/step - loss: 5.6098 - mae: 1.6650\n",
      "Epoch 920/1000\n",
      "13/13 [==============================] - 0s 750us/step - loss: 5.5933 - mae: 1.6631\n",
      "Epoch 921/1000\n",
      "13/13 [==============================] - 0s 750us/step - loss: 5.6003 - mae: 1.6672\n",
      "Epoch 922/1000\n",
      "13/13 [==============================] - 0s 666us/step - loss: 5.5785 - mae: 1.6526\n",
      "Epoch 923/1000\n",
      "13/13 [==============================] - 0s 750us/step - loss: 5.5860 - mae: 1.6599\n",
      "Epoch 924/1000\n",
      "13/13 [==============================] - 0s 749us/step - loss: 5.5653 - mae: 1.6594\n",
      "Epoch 925/1000\n",
      "13/13 [==============================] - 0s 667us/step - loss: 5.5675 - mae: 1.6626\n",
      "Epoch 926/1000\n",
      "13/13 [==============================] - 0s 750us/step - loss: 5.5703 - mae: 1.6587\n",
      "Epoch 927/1000\n",
      "13/13 [==============================] - 0s 667us/step - loss: 5.5622 - mae: 1.6564\n",
      "Epoch 928/1000\n",
      "13/13 [==============================] - 0s 667us/step - loss: 5.5562 - mae: 1.6570\n",
      "Epoch 929/1000\n",
      "13/13 [==============================] - 0s 749us/step - loss: 5.5807 - mae: 1.6566\n",
      "Epoch 930/1000\n",
      "13/13 [==============================] - 0s 751us/step - loss: 5.5646 - mae: 1.6576\n",
      "Epoch 931/1000\n",
      "13/13 [==============================] - 0s 667us/step - loss: 5.5666 - mae: 1.6594\n",
      "Epoch 932/1000\n",
      "13/13 [==============================] - 0s 667us/step - loss: 5.5668 - mae: 1.6613\n",
      "Epoch 933/1000\n",
      "13/13 [==============================] - 0s 750us/step - loss: 5.5738 - mae: 1.6566\n",
      "Epoch 934/1000\n",
      "13/13 [==============================] - 0s 750us/step - loss: 5.5572 - mae: 1.6571\n",
      "Epoch 935/1000\n",
      "13/13 [==============================] - 0s 667us/step - loss: 5.5598 - mae: 1.6614\n",
      "Epoch 936/1000\n",
      "13/13 [==============================] - 0s 750us/step - loss: 5.5529 - mae: 1.6546\n",
      "Epoch 937/1000\n",
      "13/13 [==============================] - 0s 750us/step - loss: 5.5531 - mae: 1.6532\n",
      "Epoch 938/1000\n",
      "13/13 [==============================] - 0s 749us/step - loss: 5.5468 - mae: 1.6538\n",
      "Epoch 939/1000\n",
      "13/13 [==============================] - 0s 668us/step - loss: 5.5484 - mae: 1.6531\n",
      "Epoch 940/1000\n",
      "13/13 [==============================] - 0s 750us/step - loss: 5.5333 - mae: 1.6545\n",
      "Epoch 941/1000\n",
      "13/13 [==============================] - 0s 750us/step - loss: 5.5745 - mae: 1.6661\n",
      "Epoch 942/1000\n",
      "13/13 [==============================] - 0s 751us/step - loss: 5.5761 - mae: 1.6594\n",
      "Epoch 943/1000\n",
      "13/13 [==============================] - 0s 667us/step - loss: 5.5323 - mae: 1.6509\n",
      "Epoch 944/1000\n",
      "13/13 [==============================] - 0s 750us/step - loss: 5.5572 - mae: 1.6560\n",
      "Epoch 945/1000\n",
      "13/13 [==============================] - 0s 834us/step - loss: 5.5502 - mae: 1.6557\n",
      "Epoch 946/1000\n",
      "13/13 [==============================] - 0s 751us/step - loss: 5.5376 - mae: 1.6488\n",
      "Epoch 947/1000\n",
      "13/13 [==============================] - 0s 750us/step - loss: 5.5273 - mae: 1.6469\n",
      "Epoch 948/1000\n",
      "13/13 [==============================] - 0s 750us/step - loss: 5.5355 - mae: 1.6554\n",
      "Epoch 949/1000\n",
      "13/13 [==============================] - 0s 750us/step - loss: 5.5316 - mae: 1.6540\n",
      "Epoch 950/1000\n",
      "13/13 [==============================] - 0s 750us/step - loss: 5.5364 - mae: 1.6533\n",
      "Epoch 951/1000\n",
      "13/13 [==============================] - 0s 749us/step - loss: 5.5404 - mae: 1.6518\n",
      "Epoch 952/1000\n",
      "13/13 [==============================] - 0s 666us/step - loss: 5.5200 - mae: 1.6511\n",
      "Epoch 953/1000\n",
      "13/13 [==============================] - 0s 667us/step - loss: 5.5349 - mae: 1.6485\n",
      "Epoch 954/1000\n",
      "13/13 [==============================] - 0s 750us/step - loss: 5.5379 - mae: 1.6511\n",
      "Epoch 955/1000\n",
      "13/13 [==============================] - 0s 917us/step - loss: 5.5339 - mae: 1.6525\n",
      "Epoch 956/1000\n",
      "13/13 [==============================] - 0s 667us/step - loss: 5.5110 - mae: 1.6515\n",
      "Epoch 957/1000\n",
      "13/13 [==============================] - 0s 750us/step - loss: 5.5302 - mae: 1.6528\n",
      "Epoch 958/1000\n",
      "13/13 [==============================] - 0s 764us/step - loss: 5.5499 - mae: 1.6528\n",
      "Epoch 959/1000\n",
      "13/13 [==============================] - 0s 667us/step - loss: 5.5497 - mae: 1.6591\n",
      "Epoch 960/1000\n",
      "13/13 [==============================] - 0s 667us/step - loss: 5.5163 - mae: 1.6459\n",
      "Epoch 961/1000\n",
      "13/13 [==============================] - 0s 750us/step - loss: 5.5241 - mae: 1.6421\n",
      "Epoch 962/1000\n",
      "13/13 [==============================] - 0s 751us/step - loss: 5.5120 - mae: 1.6404\n",
      "Epoch 963/1000\n",
      "13/13 [==============================] - 0s 667us/step - loss: 5.5240 - mae: 1.6518\n",
      "Epoch 964/1000\n",
      "13/13 [==============================] - 0s 750us/step - loss: 5.5189 - mae: 1.6544\n",
      "Epoch 965/1000\n",
      "13/13 [==============================] - 0s 666us/step - loss: 5.5144 - mae: 1.6461\n",
      "Epoch 966/1000\n",
      "13/13 [==============================] - 0s 667us/step - loss: 5.4966 - mae: 1.6479\n",
      "Epoch 967/1000\n",
      "13/13 [==============================] - 0s 750us/step - loss: 5.5292 - mae: 1.6548\n",
      "Epoch 968/1000\n",
      "13/13 [==============================] - 0s 750us/step - loss: 5.5126 - mae: 1.6505\n",
      "Epoch 969/1000\n",
      "13/13 [==============================] - 0s 750us/step - loss: 5.5214 - mae: 1.6469\n",
      "Epoch 970/1000\n",
      "13/13 [==============================] - 0s 750us/step - loss: 5.5135 - mae: 1.6474\n",
      "Epoch 971/1000\n",
      "13/13 [==============================] - 0s 667us/step - loss: 5.5014 - mae: 1.6496\n",
      "Epoch 972/1000\n",
      "13/13 [==============================] - 0s 751us/step - loss: 5.4927 - mae: 1.6449\n",
      "Epoch 973/1000\n",
      "13/13 [==============================] - 0s 750us/step - loss: 5.4998 - mae: 1.6466\n",
      "Epoch 974/1000\n",
      "13/13 [==============================] - 0s 667us/step - loss: 5.4885 - mae: 1.6454\n",
      "Epoch 975/1000\n",
      "13/13 [==============================] - 0s 689us/step - loss: 5.4930 - mae: 1.6474\n",
      "Epoch 976/1000\n",
      "13/13 [==============================] - 0s 743us/step - loss: 5.4909 - mae: 1.6481\n",
      "Epoch 977/1000\n",
      "13/13 [==============================] - 0s 750us/step - loss: 5.4840 - mae: 1.6427\n",
      "Epoch 978/1000\n",
      "13/13 [==============================] - 0s 667us/step - loss: 5.4924 - mae: 1.6420\n",
      "Epoch 979/1000\n",
      "13/13 [==============================] - 0s 750us/step - loss: 5.5100 - mae: 1.6455\n",
      "Epoch 980/1000\n",
      "13/13 [==============================] - 0s 666us/step - loss: 5.5361 - mae: 1.6436\n",
      "Epoch 981/1000\n",
      "13/13 [==============================] - 0s 667us/step - loss: 5.4872 - mae: 1.6455\n",
      "Epoch 982/1000\n",
      "13/13 [==============================] - 0s 667us/step - loss: 5.5092 - mae: 1.6461\n",
      "Epoch 983/1000\n",
      "13/13 [==============================] - 0s 750us/step - loss: 5.4982 - mae: 1.6404\n",
      "Epoch 984/1000\n",
      "13/13 [==============================] - 0s 749us/step - loss: 5.4732 - mae: 1.6388\n",
      "Epoch 985/1000\n",
      "13/13 [==============================] - 0s 667us/step - loss: 5.4821 - mae: 1.6483\n",
      "Epoch 986/1000\n",
      "13/13 [==============================] - 0s 750us/step - loss: 5.4807 - mae: 1.6444\n",
      "Epoch 987/1000\n",
      "13/13 [==============================] - 0s 750us/step - loss: 5.4832 - mae: 1.6398\n",
      "Epoch 988/1000\n",
      "13/13 [==============================] - 0s 667us/step - loss: 5.4794 - mae: 1.6423\n",
      "Epoch 989/1000\n",
      "13/13 [==============================] - 0s 667us/step - loss: 5.4628 - mae: 1.6415\n",
      "Epoch 990/1000\n",
      "13/13 [==============================] - 0s 750us/step - loss: 5.4832 - mae: 1.6455\n",
      "Epoch 991/1000\n",
      "13/13 [==============================] - 0s 750us/step - loss: 5.4846 - mae: 1.6415\n",
      "Epoch 992/1000\n",
      "13/13 [==============================] - 0s 749us/step - loss: 5.4613 - mae: 1.6353\n",
      "Epoch 993/1000\n",
      "13/13 [==============================] - 0s 667us/step - loss: 5.4648 - mae: 1.6411\n",
      "Epoch 994/1000\n",
      "13/13 [==============================] - 0s 667us/step - loss: 5.4487 - mae: 1.6386\n",
      "Epoch 995/1000\n",
      "13/13 [==============================] - 0s 750us/step - loss: 5.4623 - mae: 1.6358\n",
      "Epoch 996/1000\n",
      "13/13 [==============================] - 0s 751us/step - loss: 5.4706 - mae: 1.6349\n",
      "Epoch 997/1000\n",
      "13/13 [==============================] - 0s 666us/step - loss: 5.4820 - mae: 1.6399\n",
      "Epoch 998/1000\n",
      "13/13 [==============================] - 0s 666us/step - loss: 5.4665 - mae: 1.6400\n",
      "Epoch 999/1000\n",
      "13/13 [==============================] - 0s 750us/step - loss: 5.4679 - mae: 1.6374\n",
      "Epoch 1000/1000\n",
      "13/13 [==============================] - 0s 666us/step - loss: 5.4458 - mae: 1.6383\n"
     ]
    }
   ],
   "source": [
    "history = model.fit(\n",
    "    x_train_std,\n",
    "    y_train,\n",
    "    epochs=1000,\n",
    ")"
   ]
  },
  {
   "cell_type": "markdown",
   "metadata": {
    "id": "0xAXSo5-HCIo"
   },
   "source": [
    "### Avaliando o modelo treinado no conjunto de treinamento\n",
    "\n",
    "O método `evaluate` retorna uma **lista** com valores da função de erro e das métricas defindas durante a compilação do modelo."
   ]
  },
  {
   "cell_type": "code",
   "execution_count": 18,
   "metadata": {
    "colab": {
     "base_uri": "https://localhost:8080/"
    },
    "id": "PXzMCGzVUuTx",
    "outputId": "14a99dc5-cc83-49c1-9296-49593ae5a4e5"
   },
   "outputs": [
    {
     "name": "stdout",
     "output_type": "stream",
     "text": [
      "13/13 [==============================] - 0s 833us/step - loss: 5.4240 - mae: 1.6361\n",
      "MSE no conjunto de treinamento: 5.424\n",
      "MAE no conjunto de treinamento: 1.6361\n"
     ]
    }
   ],
   "source": [
    "train_eval = model.evaluate(x_train_std, y_train)\n",
    "\n",
    "print (\"MSE no conjunto de treinamento: {:.5}\".format(train_eval[0]))\n",
    "print (\"MAE no conjunto de treinamento: {:.5}\".format(train_eval[1]))"
   ]
  },
  {
   "cell_type": "markdown",
   "metadata": {
    "id": "e3_9dkS5knbd"
   },
   "source": [
    "### Plotando os erros"
   ]
  },
  {
   "cell_type": "code",
   "execution_count": 19,
   "metadata": {
    "colab": {
     "base_uri": "https://localhost:8080/"
    },
    "id": "ShUfx2ZSCylX",
    "outputId": "2bf05d5d-7b14-4156-bf19-3615e03f8fff"
   },
   "outputs": [
    {
     "data": {
      "text/plain": [
       "dict_keys(['loss', 'mae'])"
      ]
     },
     "execution_count": 19,
     "metadata": {},
     "output_type": "execute_result"
    }
   ],
   "source": [
    "# Verificando os resultados disponíveis no dicionário.\n",
    "history.history.keys()"
   ]
  },
  {
   "cell_type": "code",
   "execution_count": 20,
   "metadata": {
    "colab": {
     "base_uri": "https://localhost:8080/",
     "height": 474
    },
    "id": "npIubpXaKl6u",
    "outputId": "b8320de8-1e6b-4f98-e2ba-a7620d2fdebd"
   },
   "outputs": [
    {
     "data": {
      "image/png": "[encoded data removed]",
      "text/plain": [
       "<Figure size 640x480 with 1 Axes>"
      ]
     },
     "metadata": {},
     "output_type": "display_data"
    }
   ],
   "source": [
    "plt.plot(history.history['loss'], label='MSE')\n",
    "plt.title('Erro do modelo')\n",
    "plt.ylabel('Erro')\n",
    "plt.xlabel('Época')\n",
    "plt.legend(loc='upper right')\n",
    "plt.grid()\n",
    "plt.show()"
   ]
  },
  {
   "cell_type": "code",
   "execution_count": 21,
   "metadata": {
    "colab": {
     "base_uri": "https://localhost:8080/",
     "height": 474
    },
    "id": "g6qHpwg8BpZi",
    "outputId": "c0029239-c3b0-4dd5-b33c-0a3081109296"
   },
   "outputs": [
    {
     "data": {
      "image/png": "[encoded data removed]",
      "text/plain": [
       "<Figure size 640x480 with 1 Axes>"
      ]
     },
     "metadata": {},
     "output_type": "display_data"
    }
   ],
   "source": [
    "plt.plot(history.history['mae'], label='MAE')\n",
    "plt.title('Erro do modelo')\n",
    "plt.ylabel('Erro em 1K de USD')\n",
    "plt.xlabel('Época')\n",
    "plt.legend(loc='upper right')\n",
    "plt.grid()\n",
    "plt.show()"
   ]
  },
  {
   "cell_type": "markdown",
   "metadata": {
    "id": "JYHTdEJVH0tZ"
   },
   "source": [
    "## Testando o modelo treinado no conjunto de teste\n",
    "### Medindo a capacidade de generalização\n",
    "\n",
    "**Obs**.: Usamos o conjunto de teste padronizado."
   ]
  },
  {
   "cell_type": "code",
   "execution_count": 22,
   "metadata": {
    "colab": {
     "base_uri": "https://localhost:8080/"
    },
    "id": "QBuJGqbSH6xT",
    "outputId": "9c0158ae-3678-4bc8-c753-512e9a14e776"
   },
   "outputs": [
    {
     "name": "stdout",
     "output_type": "stream",
     "text": [
      "4/4 [==============================] - 0s 1ms/step - loss: 17.2223 - mae: 2.6643\n",
      "MSE no conjunto de teste: 17.222\n",
      "MAE no conjunto de teste: 2.6643\n"
     ]
    }
   ],
   "source": [
    "test_eval = model.evaluate(x_test_std, y_test)\n",
    "\n",
    "print (\"MSE no conjunto de teste: {:.5}\".format(test_eval[0]))\n",
    "print (\"MAE no conjunto de teste: {:.5}\".format(test_eval[1]))"
   ]
  },
  {
   "cell_type": "markdown",
   "metadata": {
    "id": "we1LXnkDzbaS"
   },
   "source": [
    "O modelo tem um MAE de cerca de 2700 dólares, o que parecer ser um **erro médio** razoável para **estimar** o preço de uma casa."
   ]
  },
  {
   "cell_type": "markdown",
   "metadata": {
    "id": "5-3GpgoU2TUq"
   },
   "source": [
    "#### Comparando os 5 primeiros valores preditos com o esperados."
   ]
  },
  {
   "cell_type": "code",
   "execution_count": 23,
   "metadata": {
    "colab": {
     "base_uri": "https://localhost:8080/"
    },
    "id": "tkaTLMaTIbIL",
    "outputId": "56a9854a-20af-416c-aa20-9883ecb1eb58"
   },
   "outputs": [
    {
     "name": "stdout",
     "output_type": "stream",
     "text": [
      "4/4 [==============================] - 0s 996us/step\n",
      "[[ 8.234119]\n",
      " [18.819818]\n",
      " [22.728498]\n",
      " [35.072643]\n",
      " [25.554138]]\n"
     ]
    }
   ],
   "source": [
    "y_hat = model.predict(x_test_std)\n",
    "\n",
    "print(y_hat[:5]) # obtém as predições para as 5 primeiras amostras do conjunto de teste"
   ]
  },
  {
   "cell_type": "code",
   "execution_count": 24,
   "metadata": {
    "colab": {
     "base_uri": "https://localhost:8080/"
    },
    "id": "9p9buLk54A1W",
    "outputId": "9093c9ec-912f-4988-cda4-e2166d0025aa"
   },
   "outputs": [
    {
     "name": "stdout",
     "output_type": "stream",
     "text": [
      "[ 7.2 18.8 19.  27.  22.2]\n"
     ]
    }
   ],
   "source": [
    "print(y_test[:5]) # obtém os valores esperados para as 5 primeiras amostras"
   ]
  },
  {
   "cell_type": "code",
   "execution_count": 25,
   "metadata": {
    "colab": {
     "base_uri": "https://localhost:8080/",
     "height": 450
    },
    "id": "ERuEyCmx4QHY",
    "outputId": "da9aaa8b-538f-44b7-cfa5-21431bfa1bb9"
   },
   "outputs": [
    {
     "data": {
      "image/png": "[encoded data removed]",
      "text/plain": [
       "<Figure size 640x480 with 1 Axes>"
      ]
     },
     "metadata": {},
     "output_type": "display_data"
    }
   ],
   "source": [
    "plt.hist(y_hat, label='Predições', color = 'b')\n",
    "plt.hist(y_test, label = 'Valores esperados', color = 'r', alpha=0.5)\n",
    "plt.xlabel('Preços em 1K dólares')\n",
    "plt.legend()\n",
    "plt.grid()\n",
    "plt.show()"
   ]
  },
  {
   "cell_type": "markdown",
   "metadata": {
    "id": "pDdL9hgK4TNo"
   },
   "source": [
    "Observando o histograma acima, vemos que as predições estão de certa forma similares aos valores esperados em grande parte do intervalo, mas que existem alguns erros em determinados intervalos."
   ]
  },
  {
   "cell_type": "markdown",
   "metadata": {
    "id": "RQgmjypmxaFP"
   },
   "source": [
    "## Fazendo inferências\n",
    "\n",
    "Vamos utilizar um valor totalmente inédito (valores chutados).\n",
    "\n",
    "**O objetivo final da criação de um modelo de regressão é fazer inferências para dados inéditos**."
   ]
  },
  {
   "cell_type": "code",
   "execution_count": 26,
   "metadata": {
    "colab": {
     "base_uri": "https://localhost:8080/"
    },
    "id": "EIior9FBvdcs",
    "outputId": "a8f4ffe9-73e9-4371-f12f-b013e4a4f13c"
   },
   "outputs": [
    {
     "data": {
      "text/plain": [
       "(13,)"
      ]
     },
     "execution_count": 26,
     "metadata": {},
     "output_type": "execute_result"
    }
   ],
   "source": [
    "xt = np.array([1.1, 0., 9., 0., 0.6, 7., 92., 3.8 , 4., 300., 21., 200, 19.5])\n",
    "xt.shape"
   ]
  },
  {
   "cell_type": "markdown",
   "metadata": {
    "id": "t1FU2mXS53Vl"
   },
   "source": [
    "Vejamos as dimensões do conjunto de treinamento (isso é válido para o te teste também).\n",
    "\n",
    "Cada **linha** é um exemplo de entrada para o modelo. Portanto, o modelo espera vetores linha com 13 colunas como entrada."
   ]
  },
  {
   "cell_type": "code",
   "execution_count": 27,
   "metadata": {
    "colab": {
     "base_uri": "https://localhost:8080/"
    },
    "id": "Vp2mV37ZyOXE",
    "outputId": "1d7b5c1a-1788-4e89-f55a-b047c09f8d4f"
   },
   "outputs": [
    {
     "data": {
      "text/plain": [
       "(404, 13)"
      ]
     },
     "execution_count": 27,
     "metadata": {},
     "output_type": "execute_result"
    }
   ],
   "source": [
    "x_train.shape"
   ]
  },
  {
   "cell_type": "markdown",
   "metadata": {
    "id": "ulJtk7lu5kfc"
   },
   "source": [
    "Desta forma, precisamos fazer um **reshape** do novo vetor de atributos, pois o modelo espera vetores **linha**, ou seja, com dimensão $1 \\times 13$."
   ]
  },
  {
   "cell_type": "code",
   "execution_count": 28,
   "metadata": {
    "colab": {
     "base_uri": "https://localhost:8080/"
    },
    "id": "2qp7KDtgyz8g",
    "outputId": "1883e092-6787-4758-e885-b503d11da692"
   },
   "outputs": [
    {
     "data": {
      "text/plain": [
       "(1, 13)"
      ]
     },
     "execution_count": 28,
     "metadata": {},
     "output_type": "execute_result"
    }
   ],
   "source": [
    "xt = np.reshape(xt, (1, 13))\n",
    "xt.shape"
   ]
  },
  {
   "cell_type": "markdown",
   "metadata": {
    "id": "25p2xwCD6RF2"
   },
   "source": [
    "Em seguida, padronizamos o novo dado.\n",
    "\n",
    "**Observações**.:\n",
    "\n",
    "+ Como treinamos o modelos com dados escalonados, o escalonamento (padronização, normalização, etc.) deve sempre ser aplicado a qualquer novo dado.\n",
    "+ Percebam que usamos o mesmo objeto `scaler` usado para escalonar os dados de treinamento e teste."
   ]
  },
  {
   "cell_type": "code",
   "execution_count": 29,
   "metadata": {
    "colab": {
     "base_uri": "https://localhost:8080/"
    },
    "id": "XDlArmS2xfuR",
    "outputId": "f38f251c-4b0d-4d72-cadd-d24ef5478271"
   },
   "outputs": [
    {
     "name": "stdout",
     "output_type": "stream",
     "text": [
      "[[-0.28659955 -0.48361547 -0.30934443 -0.25683275  0.36401915  1.03386853\n",
      "   0.82381223  0.02945662 -0.62624905 -0.63729594  1.14850044 -1.64672402\n",
      "   0.93287232]]\n"
     ]
    }
   ],
   "source": [
    "xt_norm = scaler.transform(xt)\n",
    "\n",
    "print(xt_norm)"
   ]
  },
  {
   "cell_type": "markdown",
   "metadata": {
    "id": "7sUjU-kS6oOe"
   },
   "source": [
    "Ao final, relizamos a predição, ou seja, a estimativa do preço da casa."
   ]
  },
  {
   "cell_type": "code",
   "execution_count": 30,
   "metadata": {
    "colab": {
     "base_uri": "https://localhost:8080/"
    },
    "id": "fHbXuOGkzJ-n",
    "outputId": "1407f34c-6e36-46d0-b733-c4e0933074e4"
   },
   "outputs": [
    {
     "name": "stdout",
     "output_type": "stream",
     "text": [
      "1/1 [==============================] - 0s 13ms/step\n",
      "[[13.307656]]\n",
      "(1, 1)\n"
     ]
    }
   ],
   "source": [
    "yt = model.predict(xt_norm)\n",
    "\n",
    "print(yt)\n",
    "print(yt.shape)"
   ]
  },
  {
   "cell_type": "code",
   "execution_count": 31,
   "metadata": {
    "colab": {
     "base_uri": "https://localhost:8080/"
    },
    "id": "lfb5RGKT0rs3",
    "outputId": "b0aefec2-e007-48c6-8c34-698533edbdc2"
   },
   "outputs": [
    {
     "name": "stdout",
     "output_type": "stream",
     "text": [
      "O valor estimado para esta casa é de 13.31 mil dólares\n"
     ]
    }
   ],
   "source": [
    "print(\"O valor estimado para esta casa é de {:.2f} mil dólares\".format(yt[0][0]))"
   ]
  },
  {
   "cell_type": "markdown",
   "metadata": {
    "id": "RUNbBC_FgcWZ"
   },
   "source": [
    "## Encontrando os melhores hiperparâmetros\n",
    "\n",
    "Usaremos o KerasTuner para realizar a otimização hiperparamétrica.\n",
    "\n",
    "O KerasTuner é um *framework* de otimização de hiperparâmetros escalável e fácil de usar que automatiza a busca pelos hiperparâmetros ótimos.\n",
    "\n",
    "Ele implementa por padrão técnicas de otimização **bayesiana**, **hiperband** e **busca aleatória**. Outras técnicas podem ser criadas e usadas com ele.\n",
    "\n",
    "Para mais informações, veja [KerasTuner](https://keras.io/keras_tuner/)"
   ]
  },
  {
   "cell_type": "code",
   "execution_count": 32,
   "metadata": {
    "colab": {
     "base_uri": "https://localhost:8080/"
    },
    "id": "dql5K0r9gU1F",
    "outputId": "ef4ea931-7561-446d-e782-a4f8f4131995"
   },
   "outputs": [
    {
     "name": "stdout",
     "output_type": "stream",
     "text": [
      "Requirement already satisfied: keras-tuner in c:\\users\\felipe.figueiredo\\appdata\\local\\anaconda3\\lib\\site-packages (1.3.5)\n",
      "Requirement already satisfied: packaging in c:\\users\\felipe.figueiredo\\appdata\\local\\anaconda3\\lib\\site-packages (from keras-tuner) (22.0)\n",
      "Requirement already satisfied: requests in c:\\users\\felipe.figueiredo\\appdata\\local\\anaconda3\\lib\\site-packages (from keras-tuner) (2.28.1)\n",
      "Requirement already satisfied: kt-legacy in c:\\users\\felipe.figueiredo\\appdata\\local\\anaconda3\\lib\\site-packages (from keras-tuner) (1.0.5)\n",
      "Requirement already satisfied: charset-normalizer<3,>=2 in c:\\users\\felipe.figueiredo\\appdata\\local\\anaconda3\\lib\\site-packages (from requests->keras-tuner) (2.0.4)\n",
      "Requirement already satisfied: idna<4,>=2.5 in c:\\users\\felipe.figueiredo\\appdata\\local\\anaconda3\\lib\\site-packages (from requests->keras-tuner) (3.4)\n",
      "Requirement already satisfied: urllib3<1.27,>=1.21.1 in c:\\users\\felipe.figueiredo\\appdata\\local\\anaconda3\\lib\\site-packages (from requests->keras-tuner) (1.26.14)\n",
      "Requirement already satisfied: certifi>=2017.4.17 in c:\\users\\felipe.figueiredo\\appdata\\local\\anaconda3\\lib\\site-packages (from requests->keras-tuner) (2023.7.22)\n"
     ]
    }
   ],
   "source": [
    "# Instalando o KerasTuner.\n",
    "!pip install keras-tuner --upgrade"
   ]
  },
  {
   "cell_type": "code",
   "execution_count": 33,
   "metadata": {
    "id": "AP1tw9u9g5Uf"
   },
   "outputs": [],
   "source": [
    "# Importanda a biblioteca KerasTuner.\n",
    "import keras_tuner as kt"
   ]
  },
  {
   "cell_type": "markdown",
   "metadata": {},
   "source": [
    "### Definindo a função de criação do modelo"
   ]
  },
  {
   "cell_type": "markdown",
   "metadata": {
    "id": "5UHfySq-hJHo"
   },
   "source": [
    "Para realizar a otimização hiperparamétrica com o KerasTuner, precisamos definir uma função que cria e retorna um modelo do TensorFlow.\n",
    "\n",
    "A função precisa ter **um argumento**, por exemplo, chamado `hp`, que será **usado para definir os hiperparâmetros** durante a criação do modelo.\n",
    "\n",
    "O argumento de entrada da função é um objeto da classe `HyperParameters`, o qual possui alguns métodos, entre eles o `Choice`, que **escolhe aleatoriamente um valor entre um conjunto predefinido de valores possíveis** (por exemplo, de uma lista).\n",
    "\n",
    "Para uma lista com todos os outros métodos da classe `HyperParameters`, veja [hyperparameters](https://keras.io/api/keras_tuner/hyperparameters/)\n",
    "\n",
    "No código abaixo, testamos alguns valores para a **quantidade de neurônios da camada oculta**."
   ]
  },
  {
   "cell_type": "code",
   "execution_count": 34,
   "metadata": {
    "id": "qbvjlmNdhBn6"
   },
   "outputs": [],
   "source": [
    "def build_model(hp):\n",
    "\n",
    "  # Cria o modelo sequêncial.\n",
    "  model = tf.keras.Sequential()\n",
    "\n",
    "  # Adiciona a camada oculta.\n",
    "  model.add(\n",
    "      tf.keras.layers.Dense(\n",
    "          hp.Choice('units', [10, 20, 30]),\n",
    "          activation='relu')\n",
    "  )\n",
    "\n",
    "  # Adiciona a camada de saída.\n",
    "  model.add(tf.keras.layers.Dense(1))\n",
    "\n",
    "  # Compila o modelo.\n",
    "  model.compile(optimizer='adam', loss='mse')\n",
    "\n",
    "  # Retorna o modelo.\n",
    "  return model"
   ]
  },
  {
   "cell_type": "markdown",
   "metadata": {},
   "source": [
    "### Definindo o otimizador hiperparamétrico"
   ]
  },
  {
   "cell_type": "markdown",
   "metadata": {
    "id": "lsNpzZpeh2Hi"
   },
   "source": [
    "A biblioteca disponibiliza várias classes de otimizadores hiperparamétricos, mas neste exemplo, usaremos um dos mais simples, que é o `RandomSearch`, que como o próprio nome diz, **faz uma busca aleatória pelos melhores valores**.\n",
    "\n",
    "Outros otimizadores podem ser encontrados em [Tuners](https://keras.io/api/keras_tuner/tuners/).\n",
    "\n",
    "Durante a criação do objeto da classe `RandomSearch`, nós passamos para o construtor:\n",
    "\n",
    "+ a função que cria o modelo, \n",
    "+ definimos um `objective`, que neste caso é a minimização do erro de validação, `val_loss`, \n",
    "+ e, opcionalmente, pode-se definir o número máximo de tentativas, ou seja, de conjuntos de valores diferentes a serem testados, através do parâmetro `max_trials`."
   ]
  },
  {
   "cell_type": "code",
   "execution_count": 35,
   "metadata": {
    "id": "zufG9sUjh1xV"
   },
   "outputs": [],
   "source": [
    "# Instanciando um objeto da classe RandomSearch.\n",
    "tuner = kt.RandomSearch(\n",
    "    build_model,\n",
    "    objective='val_loss'\n",
    ")"
   ]
  },
  {
   "cell_type": "markdown",
   "metadata": {
    "id": "wN6Ci84OiFaZ"
   },
   "source": [
    "### Buscando o melhor modelo.\n",
    "\n",
    "O método `search` faz a busca pelo melhor conjunto de hiperparâmetros.\n",
    "\n",
    "Passamos para ele os conjuntos de treinamento e validação (teste neste caso) e definimos o número de épocas em que cada modelo (conjunto de hiperparâmetros) será treinado"
   ]
  },
  {
   "cell_type": "code",
   "execution_count": 36,
   "metadata": {
    "id": "WnkdoSzLiJUY"
   },
   "outputs": [
    {
     "name": "stdout",
     "output_type": "stream",
     "text": [
      "Trial 3 Complete [00h 00m 18s]\n",
      "val_loss: 19.675739288330078\n",
      "\n",
      "Best val_loss So Far: 17.630491256713867\n",
      "Total elapsed time: 00h 00m 57s\n",
      "INFO:tensorflow:Oracle triggered exit\n"
     ]
    }
   ],
   "source": [
    "tuner.search(\n",
    "    x_train_std, y_train,\n",
    "    epochs=500,\n",
    "    validation_data=(x_test_std, y_test)\n",
    ")"
   ]
  },
  {
   "cell_type": "markdown",
   "metadata": {
    "id": "BAW8ju2Jlk8I"
   },
   "source": [
    "### Obtendo os melhores hiperparâmetros\n",
    "\n",
    "Após a busca, obtemos os melhores hiperparâmetros aravés do método `get_best_hyperparameters`."
   ]
  },
  {
   "cell_type": "code",
   "execution_count": 37,
   "metadata": {
    "colab": {
     "base_uri": "https://localhost:8080/"
    },
    "id": "xRAptdj9kaa9",
    "outputId": "ebc88c29-32af-412c-b1be-4418363f68c9"
   },
   "outputs": [
    {
     "name": "stdout",
     "output_type": "stream",
     "text": [
      "\n",
      "A pesquisa de hiperparâmetros foi concluída. O número ideal de neurônios na camada oculta é 10.\n",
      "\n"
     ]
    }
   ],
   "source": [
    "best_hps  = tuner.get_best_hyperparameters()[0]\n",
    "\n",
    "print(f\"\"\"\n",
    "A pesquisa de hiperparâmetros foi concluída. O número ideal de neurônios na camada oculta é {best_hps.get('units')}.\n",
    "\"\"\")"
   ]
  },
  {
   "cell_type": "markdown",
   "metadata": {
    "id": "oe_YaLMYkKrJ"
   },
   "source": [
    "### Obtendo o melhor modelo."
   ]
  },
  {
   "cell_type": "code",
   "execution_count": 38,
   "metadata": {
    "id": "AQbHedAtsipY"
   },
   "outputs": [],
   "source": [
    "best_model = tuner.get_best_models()[0]"
   ]
  },
  {
   "cell_type": "markdown",
   "metadata": {
    "id": "7EquHI3ijAyW"
   },
   "source": [
    "### Espaço de busca\n",
    "\n",
    "Podemos imprimir um resumo do espaço de busca com o método `search_space_summary()`."
   ]
  },
  {
   "cell_type": "code",
   "execution_count": 39,
   "metadata": {
    "colab": {
     "base_uri": "https://localhost:8080/"
    },
    "id": "70gOV5Idme4w",
    "outputId": "a3d2cf37-d4fa-4bc4-f0cb-c79ab0ba5d4f"
   },
   "outputs": [
    {
     "name": "stdout",
     "output_type": "stream",
     "text": [
      "Search space summary\n",
      "Default search space size: 1\n",
      "units (Choice)\n",
      "{'default': 10, 'conditions': [], 'values': [10, 20, 30], 'ordered': True}\n"
     ]
    }
   ],
   "source": [
    "tuner.search_space_summary()"
   ]
  },
  {
   "cell_type": "markdown",
   "metadata": {
    "id": "hl9aW5--ji1l"
   },
   "source": [
    "### Imprimindo o resumos dos resultados\n",
    "\n",
    "Podemos também imprimir um resumo dos resultados da busca com o método `results_summary()`.\n",
    "\n",
    "**Observação**\n",
    "\n",
    "+ O `score` é baseado no `loss` configurado no método `compile` do modelo.\n",
    "+ Assim, no caso abaixo, o `score` é o MSE e, portanto, quanto menor o `score`, melhor será o modelo."
   ]
  },
  {
   "cell_type": "code",
   "execution_count": 40,
   "metadata": {
    "colab": {
     "base_uri": "https://localhost:8080/"
    },
    "id": "zcF6Ogb_mtYW",
    "outputId": "5ce7d238-f060-404f-f4cd-fa540df282c8"
   },
   "outputs": [
    {
     "name": "stdout",
     "output_type": "stream",
     "text": [
      "Results summary\n",
      "Results in .\\untitled_project\n",
      "Showing 10 best trials\n",
      "Objective(name=\"val_loss\", direction=\"min\")\n",
      "\n",
      "Trial 00 summary\n",
      "Hyperparameters:\n",
      "units: 10\n",
      "Score: 17.630491256713867\n",
      "\n",
      "Trial 01 summary\n",
      "Hyperparameters:\n",
      "units: 30\n",
      "Score: 18.234060287475586\n",
      "\n",
      "Trial 02 summary\n",
      "Hyperparameters:\n",
      "units: 20\n",
      "Score: 19.675739288330078\n"
     ]
    }
   ],
   "source": [
    "tuner.results_summary()"
   ]
  }
 ],
 "metadata": {
  "colab": {
   "provenance": []
  },
  "kernelspec": {
   "display_name": "Python 3 (ipykernel)",
   "language": "python",
   "name": "python3"
  },
  "language_info": {
   "codemirror_mode": {
    "name": "ipython",
    "version": 3
   },
   "file_extension": ".py",
   "mimetype": "text/x-python",
   "name": "python",
   "nbconvert_exporter": "python",
   "pygments_lexer": "ipython3",
   "version": "3.10.9"
  }
 },
 "nbformat": 4,
 "nbformat_minor": 1
}
