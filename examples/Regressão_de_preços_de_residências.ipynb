{
  "cells": [
    {
      "cell_type": "markdown",
      "metadata": {
        "id": "Zo2JiEtkzvQL"
      },
      "source": [
        "# Regressão de preços de residências usando redes neurais densas (DNNs)\n"
      ]
    },
    {
      "cell_type": "markdown",
      "metadata": {
        "id": "z56YN3JZ0Duh"
      },
      "source": [
        "## Importando as bibliotecas"
      ]
    },
    {
      "cell_type": "code",
      "execution_count": 118,
      "metadata": {
        "id": "YfPnR74Gzc_q"
      },
      "outputs": [],
      "source": [
        "import numpy as np\n",
        "import matplotlib.pyplot as plt\n",
        "import tensorflow as tf"
      ]
    },
    {
      "cell_type": "markdown",
      "metadata": {
        "id": "xrGLDV6q0PCc"
      },
      "source": [
        "## Baixando a base de dados\n",
        "\n",
        "Neste exemplo, utilizaremos uma rede neural para aproximar o conjunto de dados do Boston Housing e predizer o custo médio de uma casa em uma área de Boston.\n",
        "\n",
        "Esta base de dados contém informações do censo dos EUA relativos aos preços de residências em diferentes locais nos subúrbios de Boston **no final dos anos 1970**.\n",
        "\n",
        "A base possui 506 exemplos e 13 atributos numéricos (atributos $x_i$ com $i$ variando de 1 a 13). O décimo quarto atributo (i.e., MEDV: Median value of owner-occupied homes in USD 1000's) é considerado como sendo o rótulo, ou seja, o valor que queremos predizer com o modelo.\n",
        "\n",
        "A base de dados do Boston Housing é um das várias bases de dados disponibilizadas pela biblioteca TensorFlow.\n",
        "\n",
        "Outras bases de dados estão disponíveis em [TF datasets](https://www.tensorflow.org/api_docs/python/tf/keras/datasets).\n",
        "\n",
        "A descrição das informações contidas no banco de dados segue abaixo.\n",
        "\n",
        "| Attribute |                              Description                              |\n",
        "|:---------:|:---------------------------------------------------------------------:|\n",
        "|    CRIM   |                     per capita crime rate by town                     |\n",
        "|     ZN    |    proportion of residential land zoned for lots over 25,000 sq.ft.   |\n",
        "|   INDUS   |            proportion of non-retail business acres per town           |\n",
        "|    CHAS   | Charles River dummy variable (= 1 if tract bounds river; 0 otherwise) |\n",
        "|    NOX    |           nitric oxides concentration (parts per 10 million)          |\n",
        "|     RM    |                  average number of rooms per dwelling                 |\n",
        "|    AGE    |         proportion of owner-occupied units built prior to 1940        |\n",
        "|    DIS    |          weighted distances to five Boston employment centres         |\n",
        "|    RAD    |               index of accessibility to radial highways               |\n",
        "|    TAX    |                full-value property-tax rate per USD 10.000               |\n",
        "|  PTRATIO  |                      pupil-teacher ratio by town                      |\n",
        "|     B     |  1000(Bk - 0.63)^2 where Bk is the proportion of black people by town |\n",
        "|   LSTAT   |                     lower status of the population                    |\n",
        "|    MEDV   |            Median value of owner-occupied homes in USD 1000's            |\n",
        "\n",
        "\n",
        "**Objetivo**\n",
        "\n",
        "O objetivo é treinar um modelo de regressão que prediga o valor médio das casas naquela área usando os 13 atributos fornecidos."
      ]
    },
    {
      "cell_type": "markdown",
      "source": [
        "**Observação**\n",
        "\n",
        "Observem que a função `load_data` divide o conjunto de dados em conjuntos de treinamento e teste. Por padrão, ela separa 80% do total para treinamento e 20% para testes.\n",
        "\n",
        "Como o próprio nome já diz, o **conjunto de teste** é usado para treinar o modelo.\n",
        "\n",
        "Já o **conjunto de teste** é usado para medir a **capacidade de generalização do modelo**, pois ele **não é usado durante o treinamento**."
      ],
      "metadata": {
        "id": "fyf8lZNuF0nz"
      }
    },
    {
      "cell_type": "code",
      "execution_count": 119,
      "metadata": {
        "id": "Ib2Ihepx0N6h"
      },
      "outputs": [],
      "source": [
        "data = tf.keras.datasets.boston_housing\n",
        "\n",
        "(x_train, y_train), (x_test, y_test) = data.load_data()"
      ]
    },
    {
      "cell_type": "markdown",
      "source": [
        "### Dimensões dos conjuntos de treinamento e teste.\n",
        "\n",
        "As arrays Numpy têm um atributo `shape`, o qual retorna uma *tupla* com as dimensões das arrays."
      ],
      "metadata": {
        "id": "2d6pGhBxFu95"
      }
    },
    {
      "cell_type": "code",
      "execution_count": 120,
      "metadata": {
        "id": "pq1bMIRd38b8",
        "outputId": "2957b4dd-83b8-4a3d-a49f-f19488681fcc",
        "colab": {
          "base_uri": "https://localhost:8080/"
        }
      },
      "outputs": [
        {
          "output_type": "stream",
          "name": "stdout",
          "text": [
            "(404, 13)\n",
            "(404,)\n"
          ]
        }
      ],
      "source": [
        "print(x_train.shape)\n",
        "print(y_train.shape)"
      ]
    },
    {
      "cell_type": "code",
      "execution_count": 121,
      "metadata": {
        "id": "qHaUYnSs4bq4",
        "outputId": "a0bfa28a-986b-42a0-eb5d-d6d612e80786",
        "colab": {
          "base_uri": "https://localhost:8080/"
        }
      },
      "outputs": [
        {
          "output_type": "stream",
          "name": "stdout",
          "text": [
            "(102, 13)\n",
            "(102,)\n"
          ]
        }
      ],
      "source": [
        "print(x_test.shape)\n",
        "print(y_test.shape)"
      ]
    },
    {
      "cell_type": "markdown",
      "metadata": {
        "id": "44ENgGg2Qudp"
      },
      "source": [
        "### Explorando os rótulos ($y$)"
      ]
    },
    {
      "cell_type": "code",
      "execution_count": 122,
      "metadata": {
        "id": "82O77YHNybhA",
        "outputId": "d77f3a76-6ac4-4a71-a3c0-2b878cebd32b",
        "colab": {
          "base_uri": "https://localhost:8080/"
        }
      },
      "outputs": [
        {
          "output_type": "stream",
          "name": "stdout",
          "text": [
            "Preço mín. em 1K de USD:  5.0\n",
            "Preço médio em 1K de USD:  22.4\n",
            "Preço máx. em 1K de USD:  50.0\n"
          ]
        }
      ],
      "source": [
        "print('Preço mín. em 1K de USD: ',  y_train.min())\n",
        "print('Preço médio em 1K de USD: ', round(y_train.mean(), 2))\n",
        "print('Preço máx. em 1K de USD: ',  y_train.max())"
      ]
    },
    {
      "cell_type": "markdown",
      "source": [
        "#### Plotando o histograma"
      ],
      "metadata": {
        "id": "YntJY4qbGY83"
      }
    },
    {
      "cell_type": "code",
      "execution_count": 123,
      "metadata": {
        "id": "1SCj8H9rysOM",
        "outputId": "7b5778b2-5b69-4ccc-f3de-2bf40083a3bd",
        "colab": {
          "base_uri": "https://localhost:8080/",
          "height": 453
        }
      },
      "outputs": [
        {
          "output_type": "display_data",
          "data": {
            "text/plain": [
              "<Figure size 640x480 with 1 Axes>"
            ],
            "image/png": "[encoded data removed]"
          },
          "metadata": {}
        }
      ],
      "source": [
        "plt.hist(y_train, label='train', bins=20)\n",
        "plt.hist(y_test, label = 'test', bins=20)\n",
        "plt.xlabel('Preço em K$')\n",
        "plt.grid()\n",
        "plt.legend()\n",
        "plt.show()"
      ]
    },
    {
      "cell_type": "markdown",
      "source": [
        "**Observação**\n",
        "\n",
        "Vejam que os rótulos teste têm uma distribuição similar aos de treinamento, apenas uma quantidade menor.\n"
      ],
      "metadata": {
        "id": "y-rucFopR7-H"
      }
    },
    {
      "cell_type": "markdown",
      "metadata": {
        "id": "_M47lzg7z3vI"
      },
      "source": [
        "### Explorando os atributos ($x_i, \\forall i \\in {1, ..., 13}$)"
      ]
    },
    {
      "cell_type": "markdown",
      "source": [
        "#### Verificando o intervalo de valores de cada atributo."
      ],
      "metadata": {
        "id": "7UscKMDdGkcB"
      }
    },
    {
      "cell_type": "code",
      "execution_count": 124,
      "metadata": {
        "id": "sgy3E-Y7D__F",
        "outputId": "fab1f206-752f-4710-fffe-aabaf1d0d544",
        "colab": {
          "base_uri": "https://localhost:8080/"
        }
      },
      "outputs": [
        {
          "output_type": "stream",
          "name": "stdout",
          "text": [
            "Atributo 1 ==> varia de 0.00632 a 88.9762\n",
            "Atributo 2 ==> varia de 0.0 a 100.0\n",
            "Atributo 3 ==> varia de 0.46 a 27.74\n",
            "Atributo 4 ==> varia de 0.0 a 1.0\n",
            "Atributo 5 ==> varia de 0.385 a 0.871\n",
            "Atributo 6 ==> varia de 3.561 a 8.725\n",
            "Atributo 7 ==> varia de 2.9 a 100.0\n",
            "Atributo 8 ==> varia de 1.1296 a 10.7103\n",
            "Atributo 9 ==> varia de 1.0 a 24.0\n",
            "Atributo 10 ==> varia de 188.0 a 711.0\n",
            "Atributo 11 ==> varia de 12.6 a 22.0\n",
            "Atributo 12 ==> varia de 0.32 a 396.9\n",
            "Atributo 13 ==> varia de 1.73 a 37.97\n"
          ]
        }
      ],
      "source": [
        "for i in range(len(x_train[0])):\n",
        "  print(\"Atributo {} ==> varia de {} a {}\".format(\n",
        "      i+1, x_train[:,i].min(), x_train[:,i].max()\n",
        "      )\n",
        "  )"
      ]
    },
    {
      "cell_type": "markdown",
      "source": [
        "#### Plotando os histogramas dos atributos"
      ],
      "metadata": {
        "id": "zydqdnphG1V_"
      }
    },
    {
      "cell_type": "code",
      "source": [
        "# Biblioteca para análise e manipulação de dados.\n",
        "import pandas as pd\n",
        "\n",
        "# Concatena os dois conjuntos em apenas um.\n",
        "x = np.vstack([x_train, x_test])\n",
        "\n",
        "# Cria um objeto do tipo DataFrame.\n",
        "df = pd.DataFrame(x, columns=['CRIM','ZN','INDUS','CHAS','NOX','RM','AGE','DIS','RAD','TAX','PTRATIO','B','LSTAT'])\n",
        "\n",
        "# Plota os histogramas de todos os atributos.\n",
        "df.hist(figsize=(16, 20), xlabelsize=8, ylabelsize=8)"
      ],
      "metadata": {
        "colab": {
          "base_uri": "https://localhost:8080/",
          "height": 1000
        },
        "id": "DGLqc-E4rkCG",
        "outputId": "5d8398cf-de71-432b-d0a4-1bfcb6155a45"
      },
      "execution_count": 125,
      "outputs": [
        {
          "output_type": "execute_result",
          "data": {
            "text/plain": [
              "array([[<Axes: title={'center': 'CRIM'}>, <Axes: title={'center': 'ZN'}>,\n",
              "        <Axes: title={'center': 'INDUS'}>,\n",
              "        <Axes: title={'center': 'CHAS'}>],\n",
              "       [<Axes: title={'center': 'NOX'}>, <Axes: title={'center': 'RM'}>,\n",
              "        <Axes: title={'center': 'AGE'}>, <Axes: title={'center': 'DIS'}>],\n",
              "       [<Axes: title={'center': 'RAD'}>, <Axes: title={'center': 'TAX'}>,\n",
              "        <Axes: title={'center': 'PTRATIO'}>,\n",
              "        <Axes: title={'center': 'B'}>],\n",
              "       [<Axes: title={'center': 'LSTAT'}>, <Axes: >, <Axes: >, <Axes: >]],\n",
              "      dtype=object)"
            ]
          },
          "metadata": {},
          "execution_count": 125
        },
        {
          "output_type": "display_data",
          "data": {
            "text/plain": [
              "<Figure size 1600x2000 with 16 Axes>"
            ],
            "image/png": "[encoded data removed]"
          },
          "metadata": {}
        }
      ]
    },
    {
      "cell_type": "markdown",
      "metadata": {
        "id": "0-H0LwB_7von"
      },
      "source": [
        "### Preprocessamento dos dados\n",
        "\n",
        "Como percebemos, os atributos têm diferentes intervalos de valores.\n",
        "\n",
        "Quando os atributos têm intervalos de valores muito diferentes, os modelos de aprendizado de máquina, podem ser afetados com\n",
        "\n",
        "  + **Influência Desproporcional**: Atributos com intervalos maiores podem ter uma influência desproporcional sobre o processo de aprendizado, levando o modelo a dar mais importância a esses atributos e menos importância aos atributos com intervalos menores.\n",
        "\n",
        "  + **Dificuldade de Convergência**: Algoritmos de otimização, como o gradiente descendente, podem ter dificuldade em convergir rapidamente quando os atributos têm escalas muito diferentes. Isso pode resultar em um treinamento mais lento ou até mesmo na não convergência do modelo.\n",
        "\n",
        "Uma forma de resolver ou mitigar estes problemas é através do **escalonamento dos atributos**.\n",
        "\n",
        "O escalonamento de dados serve para garantir que os atributos estejam em uma escala compatível e comparável, melhorando assim o desempenho e a eficácia de muitos algoritmos de aprendizado.\n",
        "\n",
        "Existem duas formas comuns de escalonamento que podem ser aplicadas aos atributos em um conjunto de dados:\n",
        "\n",
        "+ **Normalização**: os valores dos atributos são transformados para um intervalo entre 0 e 1. A normalização de cada amostra, $x_i[n]$, do conjunto é feita da seguinte forma:\n",
        "$$z_i[n] = \\frac{x_i[n] - \\min{x_i}}{\\max{x_i}-\\min{x_i}}, \\forall i \\in [1, ..., K]\\;\\;\\ \\text{e} \\;\\;\\ n \\in [0, ..., N-1],$$\n",
        "onde $\\min{x_i}$ e $\\max{x_i}$ são os valores mínimo e máximo do $i$-ésimo atributo do conjunto de treinamento, respectivamente.\n",
        "\n",
        "+ **Padronização**: os valores dos atributos são transformados para terem uma média igual a 0 e um desvio padrão igual a 1. A padronização de cada amostra, $x_i[n]$, do conjunto é feita da seguinte forma:\n",
        "$$z_i[n] = \\frac{x_i[n] - \\mu_{x_i}}{\\sigma_{x_i}}, \\forall i \\in [1, ..., K]\\;\\;\\ \\text{e} \\;\\;\\ n \\in [0, ..., N-1]$$\n",
        "onde $\\mu_{x_i}$ e $\\sigma_{x_i}$ são a média e o desvio padrão das amostras do $i$-ésimo atributo do conjunto de treinamento, respectivamente.\n",
        "\n",
        "**Observações**\n",
        "\n",
        "+ Os parâmetros para escalonamento são calculados a partir do conjunto de treinamento e aplicados a todos os conjuntos.\n",
        "  + Isso evita o vazamento de informações do futuro no treinamento (i.e., os dados inéditos do conjunto de testes) e garante consistência no pré-processamento, garantindo previsões coerentes em diferentes conjuntos de dados.\n",
        "+ Em geral, não se aplica escalonamento aos rótulos.\n",
        "+ Não existe uma regra direta para dizer quando normalizar ou\n",
        "padronizar os atributos. Portanto, é comum treinar o modelo com os dados brutos, normalizados e padronizados e, em seguida, comparar o desempenho para cada um dos casos.\n",
        "\n",
        "Usaremos a a classe `StandardScaler` da bilioteca `SciKit-learn` para padronizar os atributos."
      ]
    },
    {
      "cell_type": "code",
      "execution_count": 126,
      "metadata": {
        "id": "uZrGVMsH0X3F"
      },
      "outputs": [],
      "source": [
        "# Importamos a classe StandardScaler.\n",
        "from sklearn.preprocessing import StandardScaler\n",
        "\n",
        "# Instanciamos um objeto da classe StandardScaler.\n",
        "scaler = StandardScaler()\n",
        "\n",
        "# Calcula-se os parâmetros de padronização usando o conjunto de treinamento.\n",
        "scaler.fit(x_train)\n",
        "\n",
        "# Usamos o método `transform` para padronizar os atributos de treinamento e teste.\n",
        "x_train_std = scaler.transform(x_train)\n",
        "x_test_std = scaler.transform(x_test)"
      ]
    },
    {
      "cell_type": "markdown",
      "metadata": {
        "id": "amLdhSLI6gzT"
      },
      "source": [
        "Uma amostra padronizada"
      ]
    },
    {
      "cell_type": "code",
      "execution_count": 127,
      "metadata": {
        "id": "bDL5Es5W6caw",
        "outputId": "82a4b948-eca4-43aa-9dfe-326b5a1b4b16",
        "colab": {
          "base_uri": "https://localhost:8080/"
        }
      },
      "outputs": [
        {
          "output_type": "stream",
          "name": "stdout",
          "text": [
            "[-0.27224633 -0.48361547 -0.43576161 -0.25683275 -0.1652266  -0.1764426\n",
            "  0.81306188  0.1166983  -0.62624905 -0.59517003  1.14850044  0.44807713\n",
            "  0.8252202 ]\n"
          ]
        }
      ],
      "source": [
        "print(x_train_std[0])"
      ]
    },
    {
      "cell_type": "markdown",
      "source": [
        "Comparando os valores máximos e mínimos antes e depois do escalonamento"
      ],
      "metadata": {
        "id": "i4tVlw4Za3-U"
      }
    },
    {
      "cell_type": "code",
      "source": [
        "print('Máx. antes do escalonamento:', x_train.max())\n",
        "print('Mín. antes do escalonamento:', x_train.min())\n",
        "\n",
        "print('\\nMáx. depois do escalonamento:', x_train_std.max())\n",
        "print('Mín. depois do escalonamento:', x_train_std.min())"
      ],
      "metadata": {
        "colab": {
          "base_uri": "https://localhost:8080/"
        },
        "id": "V0JnMrLAa3Y4",
        "outputId": "00610fc6-817a-4b86-c1ff-b3a651518620"
      },
      "execution_count": 128,
      "outputs": [
        {
          "output_type": "stream",
          "name": "stdout",
          "text": [
            "Máx. antes do escalonamento: 711.0\n",
            "Mín. antes do escalonamento: 0.0\n",
            "\n",
            "Máx. depois do escalonamento: 9.234847178400438\n",
            "Mín. depois do escalonamento: -3.8172503201932715\n"
          ]
        }
      ]
    },
    {
      "cell_type": "markdown",
      "metadata": {
        "id": "pYMsyOk8-xnf"
      },
      "source": [
        "## Definindo o modelo\n",
        "\n",
        "Sabemos que a base de dados possui 13 atributos. Portanto, a entrada da rede neural precisa ter uma dimensão igual a 13, ou seja, a rede deve ter 13 entradas.\n",
        "\n",
        "O número de exemplos não é usado para especificar as dimensões de entrada da rede, pois ele pode ser alterado dependendo do tamanho do *mini-batch* usado."
      ]
    },
    {
      "cell_type": "code",
      "execution_count": 129,
      "metadata": {
        "id": "JBUukyQ0INrf",
        "outputId": "fb9fc17e-dbed-48c7-f6c8-b47946e42b17",
        "colab": {
          "base_uri": "https://localhost:8080/"
        }
      },
      "outputs": [
        {
          "output_type": "execute_result",
          "data": {
            "text/plain": [
              "(404, 13)"
            ]
          },
          "metadata": {},
          "execution_count": 129
        }
      ],
      "source": [
        "x_train_std.shape"
      ]
    },
    {
      "cell_type": "code",
      "execution_count": 130,
      "metadata": {
        "id": "ezpCJySN5h2Y",
        "outputId": "8d59593c-9c82-421f-b68e-21c9ae797da7",
        "colab": {
          "base_uri": "https://localhost:8080/"
        }
      },
      "outputs": [
        {
          "output_type": "execute_result",
          "data": {
            "text/plain": [
              "13"
            ]
          },
          "metadata": {},
          "execution_count": 130
        }
      ],
      "source": [
        "x_train_std.shape[1]"
      ]
    },
    {
      "cell_type": "markdown",
      "source": [
        "<img src=\"https://raw.githubusercontent.com/zz4fap/tp557-iot-ml/main/figures/exercicio_regressao.png\" width=\"400px\">"
      ],
      "metadata": {
        "id": "cZd5uWeMeCBh"
      }
    },
    {
      "cell_type": "markdown",
      "source": [
        "Assim, definimos a variável `input_shape` usando apenas o número de colunas da matriz de entdada."
      ],
      "metadata": {
        "id": "M-rf04NFdM-9"
      }
    },
    {
      "cell_type": "code",
      "execution_count": 131,
      "metadata": {
        "id": "sDlDs9YO5qk_",
        "outputId": "59bebc7b-e2cb-4a69-f155-d893d49c58be",
        "colab": {
          "base_uri": "https://localhost:8080/"
        }
      },
      "outputs": [
        {
          "output_type": "stream",
          "name": "stdout",
          "text": [
            "Dimensão de entrada: 13\n"
          ]
        }
      ],
      "source": [
        "input_shape = x_train_std.shape[1]\n",
        "\n",
        "print('Dimensão de entrada:', input_shape)"
      ]
    },
    {
      "cell_type": "markdown",
      "metadata": {
        "id": "UZimwlA92lLr"
      },
      "source": [
        "Vamos inicialmente criar um modelo com uma única camada oculta com 20 neurônios, mas iremos validar outros valores mais tarde.\n",
        "\n",
        "Desta forma, a rede que precisamos definir terá uma entrada com dimensão igual a 13, uma camada oculta com 20 neurônios e uma camada de saída com apenas um neurônio para corresponder à dimensão dos rótulos, $y$.\n",
        "\n",
        "- [input] ==> [hidden] ==> [output]:\n",
        "  - 13 ==> [20] ==>  1\n",
        "\n",
        "**Observações**\n",
        "\n",
        "+ Percebam que o número de entradas e saídas da rede neural é sempre definido pelo conjunto de dados que temos.\n",
        "+ O que precisamos definir nós mesmos é o número de camadas e nós em cada uma dessas outras camadas.\n",
        "   + O que precisamos ter como objetivo é encontrar o modelo mais simples e que ainda explique bem os dados, ou seja, generalize bem.\n",
        "   + Modelos muito complexos (i.e., grandes) têm uma capacidade muito grande (i.e., memória) e podem acabar memorizando o conjunto de treinamento ao invés de encontrarem uma solução geral (i.e., sobreajuste).\n",
        "+ Como encontramos os valores ideiais para estes **(hiper)parâmetros**?\n",
        "   + Através de técnicas de otimização hiperparamétrica.\n",
        "   + Veremos uma biblioteca que implementa algumas técnicas."
      ]
    },
    {
      "cell_type": "code",
      "execution_count": 132,
      "metadata": {
        "id": "dEdoqWl28dB3",
        "outputId": "4c3cfcf3-0574-4ff1-ca2d-36747afe880c",
        "colab": {
          "base_uri": "https://localhost:8080/"
        }
      },
      "outputs": [
        {
          "output_type": "stream",
          "name": "stdout",
          "text": [
            "Model: \"sequential_1\"\n",
            "_________________________________________________________________\n",
            " Layer (type)                Output Shape              Param #   \n",
            "=================================================================\n",
            " dense_2 (Dense)             (None, 20)                280       \n",
            "                                                                 \n",
            " dense_3 (Dense)             (None, 1)                 21        \n",
            "                                                                 \n",
            "=================================================================\n",
            "Total params: 301\n",
            "Trainable params: 301\n",
            "Non-trainable params: 0\n",
            "_________________________________________________________________\n"
          ]
        }
      ],
      "source": [
        "model = tf.keras.models.Sequential(\n",
        "    [\n",
        "        tf.keras.layers.Dense(20, input_shape=[input_shape], activation='relu'),\n",
        "        tf.keras.layers.Dense(1)\n",
        "    ]\n",
        ")\n",
        "\n",
        "model.summary()"
      ]
    },
    {
      "cell_type": "markdown",
      "metadata": {
        "id": "FNTU33Hn1TRj"
      },
      "source": [
        "**Observação**\n",
        "\n",
        "+ A camada de entrada possui 13 conexões, uma para cada atributo $x_i$.\n",
        "\n",
        "+ Cada atributo se conecta a todos os neurônios da camada oculta, que tem 20 neurônios.\n",
        "\n",
        "+ Assim, os parâmetros treináneis da camada oculta são $13 \\times 20 + 20 = 280$, i.e., $13 \\times 20$ pesos sinápticos mais $20$ pesos de bias por neurônio.\n",
        "\n",
        "+ A camada de saída tem apenas um neurônio que está conectado às saídas de todos os neurônios da camada anterior. Assim, ela possui $20 + 1 = 21$ parâmetros treináneis, ou seja, $20$ pesos sinápticos e $1$ peso de bias.\n",
        "\n",
        "+ Isso totaliza $280 + 21 = 301$ parâmetros treináveis (ou seja, 301 pesos)."
      ]
    },
    {
      "cell_type": "markdown",
      "metadata": {
        "id": "IfGTI8SY_3AL"
      },
      "source": [
        "## Compilando o modelo\n",
        "\n",
        "Para compilar o modelo, precisamos definir uma função de erro a ser minimizada e o otimizador a ser usado para a minimização."
      ]
    },
    {
      "cell_type": "markdown",
      "metadata": {
        "id": "QzTQem0EHY-O"
      },
      "source": [
        "### Diferentes funções de erro.\n",
        "\n",
        "Como vimos anteriormente, existem várias funções de erro que podemos utilizar para otimizar um modelo de aprendizado de máquina para problemas de regressão.\n",
        "\n",
        "Além do MSE, temos\n",
        "\n",
        "+ `Mean Absolute Error (MAE)` que é calculado como:\n",
        "$$MAE=\\frac{1}{n}\\sum_{i=1}^{n}(\\left|y_{i}-\\hat{y}_{i}\\right|)$$\n",
        "  + Não amplifica erros maiores, o que pode torná-lo mais robusto a outliers.\n",
        "\n",
        "+ `Root Mean Square Error (RMSE)`, que é a raiz quadrada do MSE e é calculado da seguinte forma:\n",
        "$$RSME=\\sqrt{\\frac{1}{N}\\sum_{i=1}^{N}{(y_{i}-\\hat{y}_{i})}^2}$$\n",
        "  + Toma-se a raíz quadrada do MSE para trazer a métrica de volta à mesma escala dos dados originais, tornando-a mais interpretável e comparável com os valores reais.\n",
        "  + O MSE e o RMSE tendem a penalizar mais erros maiores, enquanto o MAE é mais tolerante a eles.\n",
        "\n",
        "Podemos usar o MSE para calcular o erro (i.e., perda), mas também acompanhar o MAE ou RMSE. Isso é possível através do uso do parâmetro `metrics` do método `compile`, para o qual podemos passar uma **lista** com as métricas que queremos acompanhar."
      ]
    },
    {
      "cell_type": "markdown",
      "metadata": {
        "id": "K7yHe1BU_Cr2"
      },
      "source": [
        "### Otimizador\n",
        "\n",
        "Em exemplos anteriores, usamos o Gradiente Descendente Estocástico (SGD) como otimizador. Neste exemplo, veremos um outro tipo de otimizador muito popular para o treinamento de redes neurais.\n",
        "\n",
        "O otimizador que utilizaremos será o [Adam](https://www.tensorflow.org/api_docs/python/tf/keras/optimizers/Adam).\n",
        "\n",
        "O Adam (Adaptive Moment Estimation) foi projetado para superar algumas limitações do SGD, como velocidade de convergência reduzida e passo de aprendizagem fixo.\n",
        "\n",
        "Ele é uma variante (melhoria) do SGD que combina as técnicas do termo momentum e **passos** de aprendizagem adaptativos.\n",
        "\n",
        "Usa estimativas dos momentos de primeira e segunda ordens (i.e., média e variância) para acelerar a convergência do algoritmo e evitar divergência e ajustar automaticamente os **passos** de aprendizagem de acordo com os gradientes em diferentes direções, respectivamente.\n",
        "\n",
        "O valor do hiperparâmetro `learning_rate` é o padrão, i.e., $0.001$."
      ]
    },
    {
      "cell_type": "code",
      "execution_count": 133,
      "metadata": {
        "id": "NA21O9Y0_BJ7"
      },
      "outputs": [],
      "source": [
        "model.compile(\n",
        "    optimizer='adam',\n",
        "    loss='mse',\n",
        "    metrics=['mae'] # métrica usada para monitorar as etapas de treinamento e teste.\n",
        ")"
      ]
    },
    {
      "cell_type": "markdown",
      "metadata": {
        "id": "pJZ4fvT3_yd7"
      },
      "source": [
        "## Treinando o modelo\n",
        "\n",
        "**Observações**\n",
        "\n",
        "+ Se quisermos avaliar o desempenho do modelo no conjunto de teste durante o treinamento, podemos usar o parâmetro `validation_data` para passar o conjunto de testes para o método `fit`.\n",
        "\n",
        "+ Atribuo o retorno do treinamento (i.e., dicionário com resultados) à variável `history` para que possamos plotar os resultados obtidos durante o treinamento."
      ]
    },
    {
      "cell_type": "code",
      "execution_count": 134,
      "metadata": {
        "id": "RxklrX_R_uvn",
        "colab": {
          "base_uri": "https://localhost:8080/"
        },
        "outputId": "8a410ce8-271f-4ce4-e184-4b0139e0834a"
      },
      "outputs": [
        {
          "output_type": "stream",
          "name": "stdout",
          "text": [
            "Epoch 1/1000\n",
            "13/13 [==============================] - 1s 2ms/step - loss: 619.6228 - mae: 23.1695\n",
            "Epoch 2/1000\n",
            "13/13 [==============================] - 0s 2ms/step - loss: 606.6358 - mae: 22.9243\n",
            "Epoch 3/1000\n",
            "13/13 [==============================] - 0s 2ms/step - loss: 594.0933 - mae: 22.6835\n",
            "Epoch 4/1000\n",
            "13/13 [==============================] - 0s 2ms/step - loss: 581.8619 - mae: 22.4432\n",
            "Epoch 5/1000\n",
            "13/13 [==============================] - 0s 2ms/step - loss: 569.9818 - mae: 22.2061\n",
            "Epoch 6/1000\n",
            "13/13 [==============================] - 0s 2ms/step - loss: 558.1627 - mae: 21.9643\n",
            "Epoch 7/1000\n",
            "13/13 [==============================] - 0s 3ms/step - loss: 545.9377 - mae: 21.7131\n",
            "Epoch 8/1000\n",
            "13/13 [==============================] - 0s 2ms/step - loss: 533.4933 - mae: 21.4542\n",
            "Epoch 9/1000\n",
            "13/13 [==============================] - 0s 2ms/step - loss: 520.9232 - mae: 21.1854\n",
            "Epoch 10/1000\n",
            "13/13 [==============================] - 0s 2ms/step - loss: 507.8526 - mae: 20.9062\n",
            "Epoch 11/1000\n",
            "13/13 [==============================] - 0s 2ms/step - loss: 494.1344 - mae: 20.6095\n",
            "Epoch 12/1000\n",
            "13/13 [==============================] - 0s 2ms/step - loss: 480.2182 - mae: 20.3031\n",
            "Epoch 13/1000\n",
            "13/13 [==============================] - 0s 3ms/step - loss: 465.6425 - mae: 19.9785\n",
            "Epoch 14/1000\n",
            "13/13 [==============================] - 0s 3ms/step - loss: 450.5914 - mae: 19.6349\n",
            "Epoch 15/1000\n",
            "13/13 [==============================] - 0s 3ms/step - loss: 435.4114 - mae: 19.2844\n",
            "Epoch 16/1000\n",
            "13/13 [==============================] - 0s 2ms/step - loss: 419.6128 - mae: 18.9063\n",
            "Epoch 17/1000\n",
            "13/13 [==============================] - 0s 2ms/step - loss: 403.9065 - mae: 18.5232\n",
            "Epoch 18/1000\n",
            "13/13 [==============================] - 0s 2ms/step - loss: 387.6551 - mae: 18.1177\n",
            "Epoch 19/1000\n",
            "13/13 [==============================] - 0s 2ms/step - loss: 371.8380 - mae: 17.7059\n",
            "Epoch 20/1000\n",
            "13/13 [==============================] - 0s 3ms/step - loss: 355.4115 - mae: 17.2746\n",
            "Epoch 21/1000\n",
            "13/13 [==============================] - 0s 2ms/step - loss: 340.0994 - mae: 16.8494\n",
            "Epoch 22/1000\n",
            "13/13 [==============================] - 0s 2ms/step - loss: 324.4231 - mae: 16.3968\n",
            "Epoch 23/1000\n",
            "13/13 [==============================] - 0s 2ms/step - loss: 309.5015 - mae: 15.9500\n",
            "Epoch 24/1000\n",
            "13/13 [==============================] - 0s 2ms/step - loss: 294.6253 - mae: 15.4976\n",
            "Epoch 25/1000\n",
            "13/13 [==============================] - 0s 2ms/step - loss: 280.3659 - mae: 15.0298\n",
            "Epoch 26/1000\n",
            "13/13 [==============================] - 0s 2ms/step - loss: 267.0144 - mae: 14.5822\n",
            "Epoch 27/1000\n",
            "13/13 [==============================] - 0s 2ms/step - loss: 253.5885 - mae: 14.1055\n",
            "Epoch 28/1000\n",
            "13/13 [==============================] - 0s 2ms/step - loss: 241.2573 - mae: 13.6539\n",
            "Epoch 29/1000\n",
            "13/13 [==============================] - 0s 2ms/step - loss: 229.3507 - mae: 13.1952\n",
            "Epoch 30/1000\n",
            "13/13 [==============================] - 0s 3ms/step - loss: 217.8652 - mae: 12.7653\n",
            "Epoch 31/1000\n",
            "13/13 [==============================] - 0s 2ms/step - loss: 207.2119 - mae: 12.3468\n",
            "Epoch 32/1000\n",
            "13/13 [==============================] - 0s 2ms/step - loss: 197.1120 - mae: 11.9575\n",
            "Epoch 33/1000\n",
            "13/13 [==============================] - 0s 2ms/step - loss: 187.5022 - mae: 11.5725\n",
            "Epoch 34/1000\n",
            "13/13 [==============================] - 0s 4ms/step - loss: 178.3770 - mae: 11.2083\n",
            "Epoch 35/1000\n",
            "13/13 [==============================] - 0s 3ms/step - loss: 169.6616 - mae: 10.8734\n",
            "Epoch 36/1000\n",
            "13/13 [==============================] - 0s 3ms/step - loss: 161.6668 - mae: 10.5498\n",
            "Epoch 37/1000\n",
            "13/13 [==============================] - 0s 3ms/step - loss: 153.7504 - mae: 10.2231\n",
            "Epoch 38/1000\n",
            "13/13 [==============================] - 0s 3ms/step - loss: 146.3662 - mae: 9.9168\n",
            "Epoch 39/1000\n",
            "13/13 [==============================] - 0s 3ms/step - loss: 139.3200 - mae: 9.6107\n",
            "Epoch 40/1000\n",
            "13/13 [==============================] - 0s 2ms/step - loss: 132.7214 - mae: 9.3266\n",
            "Epoch 41/1000\n",
            "13/13 [==============================] - 0s 4ms/step - loss: 126.4018 - mae: 9.0499\n",
            "Epoch 42/1000\n",
            "13/13 [==============================] - 0s 3ms/step - loss: 120.5732 - mae: 8.7909\n",
            "Epoch 43/1000\n",
            "13/13 [==============================] - 0s 2ms/step - loss: 114.7929 - mae: 8.5312\n",
            "Epoch 44/1000\n",
            "13/13 [==============================] - 0s 3ms/step - loss: 109.6234 - mae: 8.2840\n",
            "Epoch 45/1000\n",
            "13/13 [==============================] - 0s 3ms/step - loss: 104.4220 - mae: 8.0422\n",
            "Epoch 46/1000\n",
            "13/13 [==============================] - 0s 3ms/step - loss: 99.5140 - mae: 7.8158\n",
            "Epoch 47/1000\n",
            "13/13 [==============================] - 0s 3ms/step - loss: 95.2225 - mae: 7.6036\n",
            "Epoch 48/1000\n",
            "13/13 [==============================] - 0s 3ms/step - loss: 90.8641 - mae: 7.4016\n",
            "Epoch 49/1000\n",
            "13/13 [==============================] - 0s 4ms/step - loss: 86.8343 - mae: 7.2107\n",
            "Epoch 50/1000\n",
            "13/13 [==============================] - 0s 3ms/step - loss: 82.9405 - mae: 7.0256\n",
            "Epoch 51/1000\n",
            "13/13 [==============================] - 0s 2ms/step - loss: 79.4685 - mae: 6.8599\n",
            "Epoch 52/1000\n",
            "13/13 [==============================] - 0s 3ms/step - loss: 75.9652 - mae: 6.6828\n",
            "Epoch 53/1000\n",
            "13/13 [==============================] - 0s 4ms/step - loss: 72.7719 - mae: 6.5251\n",
            "Epoch 54/1000\n",
            "13/13 [==============================] - 0s 3ms/step - loss: 69.8387 - mae: 6.3694\n",
            "Epoch 55/1000\n",
            "13/13 [==============================] - 0s 4ms/step - loss: 66.8376 - mae: 6.2095\n",
            "Epoch 56/1000\n",
            "13/13 [==============================] - 0s 6ms/step - loss: 64.0585 - mae: 6.0611\n",
            "Epoch 57/1000\n",
            "13/13 [==============================] - 0s 3ms/step - loss: 61.4148 - mae: 5.9156\n",
            "Epoch 58/1000\n",
            "13/13 [==============================] - 0s 3ms/step - loss: 59.1096 - mae: 5.7812\n",
            "Epoch 59/1000\n",
            "13/13 [==============================] - 0s 3ms/step - loss: 56.8110 - mae: 5.6467\n",
            "Epoch 60/1000\n",
            "13/13 [==============================] - 0s 3ms/step - loss: 54.5600 - mae: 5.5204\n",
            "Epoch 61/1000\n",
            "13/13 [==============================] - 0s 5ms/step - loss: 52.5892 - mae: 5.4006\n",
            "Epoch 62/1000\n",
            "13/13 [==============================] - 0s 4ms/step - loss: 50.6152 - mae: 5.2866\n",
            "Epoch 63/1000\n",
            "13/13 [==============================] - 0s 4ms/step - loss: 48.8372 - mae: 5.1813\n",
            "Epoch 64/1000\n",
            "13/13 [==============================] - 0s 3ms/step - loss: 47.1502 - mae: 5.0774\n",
            "Epoch 65/1000\n",
            "13/13 [==============================] - 0s 4ms/step - loss: 45.5521 - mae: 4.9786\n",
            "Epoch 66/1000\n",
            "13/13 [==============================] - 0s 4ms/step - loss: 44.0985 - mae: 4.8853\n",
            "Epoch 67/1000\n",
            "13/13 [==============================] - 0s 4ms/step - loss: 42.6442 - mae: 4.7936\n",
            "Epoch 68/1000\n",
            "13/13 [==============================] - 0s 4ms/step - loss: 41.4003 - mae: 4.7116\n",
            "Epoch 69/1000\n",
            "13/13 [==============================] - 0s 4ms/step - loss: 40.1873 - mae: 4.6315\n",
            "Epoch 70/1000\n",
            "13/13 [==============================] - 0s 3ms/step - loss: 39.0587 - mae: 4.5531\n",
            "Epoch 71/1000\n",
            "13/13 [==============================] - 0s 3ms/step - loss: 38.0266 - mae: 4.4822\n",
            "Epoch 72/1000\n",
            "13/13 [==============================] - 0s 3ms/step - loss: 37.0573 - mae: 4.4104\n",
            "Epoch 73/1000\n",
            "13/13 [==============================] - 0s 3ms/step - loss: 36.1708 - mae: 4.3461\n",
            "Epoch 74/1000\n",
            "13/13 [==============================] - 0s 3ms/step - loss: 35.2787 - mae: 4.2841\n",
            "Epoch 75/1000\n",
            "13/13 [==============================] - 0s 3ms/step - loss: 34.5132 - mae: 4.2277\n",
            "Epoch 76/1000\n",
            "13/13 [==============================] - 0s 3ms/step - loss: 33.7583 - mae: 4.1734\n",
            "Epoch 77/1000\n",
            "13/13 [==============================] - 0s 3ms/step - loss: 33.0971 - mae: 4.1226\n",
            "Epoch 78/1000\n",
            "13/13 [==============================] - 0s 3ms/step - loss: 32.4408 - mae: 4.0770\n",
            "Epoch 79/1000\n",
            "13/13 [==============================] - 0s 3ms/step - loss: 31.8338 - mae: 4.0297\n",
            "Epoch 80/1000\n",
            "13/13 [==============================] - 0s 3ms/step - loss: 31.2832 - mae: 3.9866\n",
            "Epoch 81/1000\n",
            "13/13 [==============================] - 0s 3ms/step - loss: 30.7245 - mae: 3.9451\n",
            "Epoch 82/1000\n",
            "13/13 [==============================] - 0s 4ms/step - loss: 30.2308 - mae: 3.9075\n",
            "Epoch 83/1000\n",
            "13/13 [==============================] - 0s 3ms/step - loss: 29.7975 - mae: 3.8734\n",
            "Epoch 84/1000\n",
            "13/13 [==============================] - 0s 3ms/step - loss: 29.3362 - mae: 3.8351\n",
            "Epoch 85/1000\n",
            "13/13 [==============================] - 0s 3ms/step - loss: 28.9387 - mae: 3.8025\n",
            "Epoch 86/1000\n",
            "13/13 [==============================] - 0s 3ms/step - loss: 28.5635 - mae: 3.7718\n",
            "Epoch 87/1000\n",
            "13/13 [==============================] - 0s 5ms/step - loss: 28.1840 - mae: 3.7433\n",
            "Epoch 88/1000\n",
            "13/13 [==============================] - 0s 3ms/step - loss: 27.8318 - mae: 3.7131\n",
            "Epoch 89/1000\n",
            "13/13 [==============================] - 0s 3ms/step - loss: 27.4951 - mae: 3.6857\n",
            "Epoch 90/1000\n",
            "13/13 [==============================] - 0s 4ms/step - loss: 27.1975 - mae: 3.6604\n",
            "Epoch 91/1000\n",
            "13/13 [==============================] - 0s 4ms/step - loss: 26.8968 - mae: 3.6372\n",
            "Epoch 92/1000\n",
            "13/13 [==============================] - 0s 3ms/step - loss: 26.5896 - mae: 3.6130\n",
            "Epoch 93/1000\n",
            "13/13 [==============================] - 0s 3ms/step - loss: 26.3307 - mae: 3.5946\n",
            "Epoch 94/1000\n",
            "13/13 [==============================] - 0s 3ms/step - loss: 26.0758 - mae: 3.5755\n",
            "Epoch 95/1000\n",
            "13/13 [==============================] - 0s 3ms/step - loss: 25.8220 - mae: 3.5588\n",
            "Epoch 96/1000\n",
            "13/13 [==============================] - 0s 4ms/step - loss: 25.5523 - mae: 3.5370\n",
            "Epoch 97/1000\n",
            "13/13 [==============================] - 0s 3ms/step - loss: 25.3112 - mae: 3.5186\n",
            "Epoch 98/1000\n",
            "13/13 [==============================] - 0s 3ms/step - loss: 25.0836 - mae: 3.5021\n",
            "Epoch 99/1000\n",
            "13/13 [==============================] - 0s 4ms/step - loss: 24.8594 - mae: 3.4855\n",
            "Epoch 100/1000\n",
            "13/13 [==============================] - 0s 3ms/step - loss: 24.6661 - mae: 3.4731\n",
            "Epoch 101/1000\n",
            "13/13 [==============================] - 0s 4ms/step - loss: 24.4313 - mae: 3.4598\n",
            "Epoch 102/1000\n",
            "13/13 [==============================] - 0s 4ms/step - loss: 24.2382 - mae: 3.4434\n",
            "Epoch 103/1000\n",
            "13/13 [==============================] - 0s 4ms/step - loss: 24.0443 - mae: 3.4294\n",
            "Epoch 104/1000\n",
            "13/13 [==============================] - 0s 4ms/step - loss: 23.8435 - mae: 3.4151\n",
            "Epoch 105/1000\n",
            "13/13 [==============================] - 0s 5ms/step - loss: 23.6598 - mae: 3.4012\n",
            "Epoch 106/1000\n",
            "13/13 [==============================] - 0s 4ms/step - loss: 23.4932 - mae: 3.3891\n",
            "Epoch 107/1000\n",
            "13/13 [==============================] - 0s 3ms/step - loss: 23.3137 - mae: 3.3782\n",
            "Epoch 108/1000\n",
            "13/13 [==============================] - 0s 3ms/step - loss: 23.1480 - mae: 3.3640\n",
            "Epoch 109/1000\n",
            "13/13 [==============================] - 0s 3ms/step - loss: 22.9954 - mae: 3.3529\n",
            "Epoch 110/1000\n",
            "13/13 [==============================] - 0s 2ms/step - loss: 22.8469 - mae: 3.3419\n",
            "Epoch 111/1000\n",
            "13/13 [==============================] - 0s 2ms/step - loss: 22.6642 - mae: 3.3312\n",
            "Epoch 112/1000\n",
            "13/13 [==============================] - 0s 3ms/step - loss: 22.5312 - mae: 3.3228\n",
            "Epoch 113/1000\n",
            "13/13 [==============================] - 0s 2ms/step - loss: 22.3466 - mae: 3.3114\n",
            "Epoch 114/1000\n",
            "13/13 [==============================] - 0s 2ms/step - loss: 22.2018 - mae: 3.3005\n",
            "Epoch 115/1000\n",
            "13/13 [==============================] - 0s 2ms/step - loss: 22.0626 - mae: 3.2890\n",
            "Epoch 116/1000\n",
            "13/13 [==============================] - 0s 2ms/step - loss: 21.9247 - mae: 3.2791\n",
            "Epoch 117/1000\n",
            "13/13 [==============================] - 0s 2ms/step - loss: 21.7534 - mae: 3.2689\n",
            "Epoch 118/1000\n",
            "13/13 [==============================] - 0s 2ms/step - loss: 21.6255 - mae: 3.2595\n",
            "Epoch 119/1000\n",
            "13/13 [==============================] - 0s 2ms/step - loss: 21.4975 - mae: 3.2511\n",
            "Epoch 120/1000\n",
            "13/13 [==============================] - 0s 2ms/step - loss: 21.3311 - mae: 3.2411\n",
            "Epoch 121/1000\n",
            "13/13 [==============================] - 0s 2ms/step - loss: 21.2310 - mae: 3.2328\n",
            "Epoch 122/1000\n",
            "13/13 [==============================] - 0s 2ms/step - loss: 21.0745 - mae: 3.2233\n",
            "Epoch 123/1000\n",
            "13/13 [==============================] - 0s 3ms/step - loss: 20.9419 - mae: 3.2141\n",
            "Epoch 124/1000\n",
            "13/13 [==============================] - 0s 3ms/step - loss: 20.8228 - mae: 3.2072\n",
            "Epoch 125/1000\n",
            "13/13 [==============================] - 0s 2ms/step - loss: 20.6756 - mae: 3.1979\n",
            "Epoch 126/1000\n",
            "13/13 [==============================] - 0s 3ms/step - loss: 20.5715 - mae: 3.1876\n",
            "Epoch 127/1000\n",
            "13/13 [==============================] - 0s 2ms/step - loss: 20.4412 - mae: 3.1767\n",
            "Epoch 128/1000\n",
            "13/13 [==============================] - 0s 2ms/step - loss: 20.3226 - mae: 3.1687\n",
            "Epoch 129/1000\n",
            "13/13 [==============================] - 0s 2ms/step - loss: 20.1984 - mae: 3.1599\n",
            "Epoch 130/1000\n",
            "13/13 [==============================] - 0s 2ms/step - loss: 20.0854 - mae: 3.1540\n",
            "Epoch 131/1000\n",
            "13/13 [==============================] - 0s 2ms/step - loss: 19.9410 - mae: 3.1451\n",
            "Epoch 132/1000\n",
            "13/13 [==============================] - 0s 2ms/step - loss: 19.8693 - mae: 3.1432\n",
            "Epoch 133/1000\n",
            "13/13 [==============================] - 0s 2ms/step - loss: 19.6978 - mae: 3.1306\n",
            "Epoch 134/1000\n",
            "13/13 [==============================] - 0s 2ms/step - loss: 19.5831 - mae: 3.1174\n",
            "Epoch 135/1000\n",
            "13/13 [==============================] - 0s 2ms/step - loss: 19.4758 - mae: 3.1065\n",
            "Epoch 136/1000\n",
            "13/13 [==============================] - 0s 2ms/step - loss: 19.3438 - mae: 3.0969\n",
            "Epoch 137/1000\n",
            "13/13 [==============================] - 0s 3ms/step - loss: 19.2311 - mae: 3.0906\n",
            "Epoch 138/1000\n",
            "13/13 [==============================] - 0s 2ms/step - loss: 19.1211 - mae: 3.0842\n",
            "Epoch 139/1000\n",
            "13/13 [==============================] - 0s 2ms/step - loss: 19.0124 - mae: 3.0765\n",
            "Epoch 140/1000\n",
            "13/13 [==============================] - 0s 3ms/step - loss: 18.9260 - mae: 3.0694\n",
            "Epoch 141/1000\n",
            "13/13 [==============================] - 0s 2ms/step - loss: 18.7827 - mae: 3.0572\n",
            "Epoch 142/1000\n",
            "13/13 [==============================] - 0s 2ms/step - loss: 18.7142 - mae: 3.0507\n",
            "Epoch 143/1000\n",
            "13/13 [==============================] - 0s 2ms/step - loss: 18.5881 - mae: 3.0371\n",
            "Epoch 144/1000\n",
            "13/13 [==============================] - 0s 2ms/step - loss: 18.4742 - mae: 3.0284\n",
            "Epoch 145/1000\n",
            "13/13 [==============================] - 0s 2ms/step - loss: 18.3684 - mae: 3.0213\n",
            "Epoch 146/1000\n",
            "13/13 [==============================] - 0s 2ms/step - loss: 18.2508 - mae: 3.0130\n",
            "Epoch 147/1000\n",
            "13/13 [==============================] - 0s 2ms/step - loss: 18.1598 - mae: 3.0055\n",
            "Epoch 148/1000\n",
            "13/13 [==============================] - 0s 2ms/step - loss: 18.0400 - mae: 2.9980\n",
            "Epoch 149/1000\n",
            "13/13 [==============================] - 0s 2ms/step - loss: 17.9319 - mae: 2.9913\n",
            "Epoch 150/1000\n",
            "13/13 [==============================] - 0s 2ms/step - loss: 17.8262 - mae: 2.9840\n",
            "Epoch 151/1000\n",
            "13/13 [==============================] - 0s 2ms/step - loss: 17.7072 - mae: 2.9728\n",
            "Epoch 152/1000\n",
            "13/13 [==============================] - 0s 3ms/step - loss: 17.6080 - mae: 2.9643\n",
            "Epoch 153/1000\n",
            "13/13 [==============================] - 0s 2ms/step - loss: 17.5055 - mae: 2.9532\n",
            "Epoch 154/1000\n",
            "13/13 [==============================] - 0s 3ms/step - loss: 17.4040 - mae: 2.9450\n",
            "Epoch 155/1000\n",
            "13/13 [==============================] - 0s 2ms/step - loss: 17.2924 - mae: 2.9383\n",
            "Epoch 156/1000\n",
            "13/13 [==============================] - 0s 3ms/step - loss: 17.1834 - mae: 2.9268\n",
            "Epoch 157/1000\n",
            "13/13 [==============================] - 0s 2ms/step - loss: 17.0896 - mae: 2.9167\n",
            "Epoch 158/1000\n",
            "13/13 [==============================] - 0s 2ms/step - loss: 16.9785 - mae: 2.9091\n",
            "Epoch 159/1000\n",
            "13/13 [==============================] - 0s 2ms/step - loss: 16.9126 - mae: 2.9051\n",
            "Epoch 160/1000\n",
            "13/13 [==============================] - 0s 2ms/step - loss: 16.7835 - mae: 2.8945\n",
            "Epoch 161/1000\n",
            "13/13 [==============================] - 0s 2ms/step - loss: 16.6977 - mae: 2.8855\n",
            "Epoch 162/1000\n",
            "13/13 [==============================] - 0s 3ms/step - loss: 16.5889 - mae: 2.8746\n",
            "Epoch 163/1000\n",
            "13/13 [==============================] - 0s 3ms/step - loss: 16.4812 - mae: 2.8636\n",
            "Epoch 164/1000\n",
            "13/13 [==============================] - 0s 2ms/step - loss: 16.3871 - mae: 2.8556\n",
            "Epoch 165/1000\n",
            "13/13 [==============================] - 0s 2ms/step - loss: 16.2850 - mae: 2.8484\n",
            "Epoch 166/1000\n",
            "13/13 [==============================] - 0s 2ms/step - loss: 16.2029 - mae: 2.8409\n",
            "Epoch 167/1000\n",
            "13/13 [==============================] - 0s 2ms/step - loss: 16.1177 - mae: 2.8320\n",
            "Epoch 168/1000\n",
            "13/13 [==============================] - 0s 2ms/step - loss: 16.0186 - mae: 2.8236\n",
            "Epoch 169/1000\n",
            "13/13 [==============================] - 0s 2ms/step - loss: 15.9281 - mae: 2.8170\n",
            "Epoch 170/1000\n",
            "13/13 [==============================] - 0s 2ms/step - loss: 15.8430 - mae: 2.8092\n",
            "Epoch 171/1000\n",
            "13/13 [==============================] - 0s 2ms/step - loss: 15.7310 - mae: 2.7986\n",
            "Epoch 172/1000\n",
            "13/13 [==============================] - 0s 2ms/step - loss: 15.6394 - mae: 2.7894\n",
            "Epoch 173/1000\n",
            "13/13 [==============================] - 0s 3ms/step - loss: 15.5591 - mae: 2.7858\n",
            "Epoch 174/1000\n",
            "13/13 [==============================] - 0s 3ms/step - loss: 15.4551 - mae: 2.7769\n",
            "Epoch 175/1000\n",
            "13/13 [==============================] - 0s 3ms/step - loss: 15.3841 - mae: 2.7715\n",
            "Epoch 176/1000\n",
            "13/13 [==============================] - 0s 2ms/step - loss: 15.2724 - mae: 2.7601\n",
            "Epoch 177/1000\n",
            "13/13 [==============================] - 0s 3ms/step - loss: 15.1991 - mae: 2.7526\n",
            "Epoch 178/1000\n",
            "13/13 [==============================] - 0s 2ms/step - loss: 15.1147 - mae: 2.7416\n",
            "Epoch 179/1000\n",
            "13/13 [==============================] - 0s 2ms/step - loss: 15.0017 - mae: 2.7321\n",
            "Epoch 180/1000\n",
            "13/13 [==============================] - 0s 2ms/step - loss: 14.9417 - mae: 2.7258\n",
            "Epoch 181/1000\n",
            "13/13 [==============================] - 0s 2ms/step - loss: 14.8348 - mae: 2.7159\n",
            "Epoch 182/1000\n",
            "13/13 [==============================] - 0s 2ms/step - loss: 14.7588 - mae: 2.7101\n",
            "Epoch 183/1000\n",
            "13/13 [==============================] - 0s 2ms/step - loss: 14.6778 - mae: 2.7032\n",
            "Epoch 184/1000\n",
            "13/13 [==============================] - 0s 2ms/step - loss: 14.5655 - mae: 2.6888\n",
            "Epoch 185/1000\n",
            "13/13 [==============================] - 0s 2ms/step - loss: 14.4983 - mae: 2.6845\n",
            "Epoch 186/1000\n",
            "13/13 [==============================] - 0s 2ms/step - loss: 14.4054 - mae: 2.6775\n",
            "Epoch 187/1000\n",
            "13/13 [==============================] - 0s 3ms/step - loss: 14.3225 - mae: 2.6685\n",
            "Epoch 188/1000\n",
            "13/13 [==============================] - 0s 2ms/step - loss: 14.2739 - mae: 2.6591\n",
            "Epoch 189/1000\n",
            "13/13 [==============================] - 0s 2ms/step - loss: 14.1648 - mae: 2.6500\n",
            "Epoch 190/1000\n",
            "13/13 [==============================] - 0s 2ms/step - loss: 14.0964 - mae: 2.6456\n",
            "Epoch 191/1000\n",
            "13/13 [==============================] - 0s 2ms/step - loss: 14.0171 - mae: 2.6405\n",
            "Epoch 192/1000\n",
            "13/13 [==============================] - 0s 2ms/step - loss: 13.9500 - mae: 2.6347\n",
            "Epoch 193/1000\n",
            "13/13 [==============================] - 0s 3ms/step - loss: 13.8838 - mae: 2.6286\n",
            "Epoch 194/1000\n",
            "13/13 [==============================] - 0s 2ms/step - loss: 13.8155 - mae: 2.6221\n",
            "Epoch 195/1000\n",
            "13/13 [==============================] - 0s 2ms/step - loss: 13.7276 - mae: 2.6128\n",
            "Epoch 196/1000\n",
            "13/13 [==============================] - 0s 2ms/step - loss: 13.6536 - mae: 2.6064\n",
            "Epoch 197/1000\n",
            "13/13 [==============================] - 0s 2ms/step - loss: 13.5887 - mae: 2.6011\n",
            "Epoch 198/1000\n",
            "13/13 [==============================] - 0s 2ms/step - loss: 13.5184 - mae: 2.5941\n",
            "Epoch 199/1000\n",
            "13/13 [==============================] - 0s 2ms/step - loss: 13.4535 - mae: 2.5872\n",
            "Epoch 200/1000\n",
            "13/13 [==============================] - 0s 3ms/step - loss: 13.4047 - mae: 2.5861\n",
            "Epoch 201/1000\n",
            "13/13 [==============================] - 0s 2ms/step - loss: 13.3222 - mae: 2.5760\n",
            "Epoch 202/1000\n",
            "13/13 [==============================] - 0s 2ms/step - loss: 13.2827 - mae: 2.5766\n",
            "Epoch 203/1000\n",
            "13/13 [==============================] - 0s 3ms/step - loss: 13.1724 - mae: 2.5650\n",
            "Epoch 204/1000\n",
            "13/13 [==============================] - 0s 2ms/step - loss: 13.1205 - mae: 2.5560\n",
            "Epoch 205/1000\n",
            "13/13 [==============================] - 0s 3ms/step - loss: 13.0578 - mae: 2.5467\n",
            "Epoch 206/1000\n",
            "13/13 [==============================] - 0s 2ms/step - loss: 13.0269 - mae: 2.5427\n",
            "Epoch 207/1000\n",
            "13/13 [==============================] - 0s 2ms/step - loss: 12.9297 - mae: 2.5361\n",
            "Epoch 208/1000\n",
            "13/13 [==============================] - 0s 3ms/step - loss: 12.8768 - mae: 2.5352\n",
            "Epoch 209/1000\n",
            "13/13 [==============================] - 0s 3ms/step - loss: 12.8187 - mae: 2.5319\n",
            "Epoch 210/1000\n",
            "13/13 [==============================] - 0s 2ms/step - loss: 12.7520 - mae: 2.5268\n",
            "Epoch 211/1000\n",
            "13/13 [==============================] - 0s 2ms/step - loss: 12.6948 - mae: 2.5202\n",
            "Epoch 212/1000\n",
            "13/13 [==============================] - 0s 2ms/step - loss: 12.6438 - mae: 2.5122\n",
            "Epoch 213/1000\n",
            "13/13 [==============================] - 0s 2ms/step - loss: 12.5853 - mae: 2.5074\n",
            "Epoch 214/1000\n",
            "13/13 [==============================] - 0s 2ms/step - loss: 12.5442 - mae: 2.4996\n",
            "Epoch 215/1000\n",
            "13/13 [==============================] - 0s 2ms/step - loss: 12.4821 - mae: 2.4939\n",
            "Epoch 216/1000\n",
            "13/13 [==============================] - 0s 2ms/step - loss: 12.4259 - mae: 2.4933\n",
            "Epoch 217/1000\n",
            "13/13 [==============================] - 0s 2ms/step - loss: 12.4140 - mae: 2.4963\n",
            "Epoch 218/1000\n",
            "13/13 [==============================] - 0s 2ms/step - loss: 12.3119 - mae: 2.4832\n",
            "Epoch 219/1000\n",
            "13/13 [==============================] - 0s 2ms/step - loss: 12.3069 - mae: 2.4734\n",
            "Epoch 220/1000\n",
            "13/13 [==============================] - 0s 3ms/step - loss: 12.2130 - mae: 2.4650\n",
            "Epoch 221/1000\n",
            "13/13 [==============================] - 0s 2ms/step - loss: 12.1513 - mae: 2.4632\n",
            "Epoch 222/1000\n",
            "13/13 [==============================] - 0s 2ms/step - loss: 12.1133 - mae: 2.4606\n",
            "Epoch 223/1000\n",
            "13/13 [==============================] - 0s 2ms/step - loss: 12.0464 - mae: 2.4554\n",
            "Epoch 224/1000\n",
            "13/13 [==============================] - 0s 2ms/step - loss: 12.0168 - mae: 2.4531\n",
            "Epoch 225/1000\n",
            "13/13 [==============================] - 0s 2ms/step - loss: 11.9494 - mae: 2.4477\n",
            "Epoch 226/1000\n",
            "13/13 [==============================] - 0s 2ms/step - loss: 11.9031 - mae: 2.4413\n",
            "Epoch 227/1000\n",
            "13/13 [==============================] - 0s 2ms/step - loss: 11.8672 - mae: 2.4380\n",
            "Epoch 228/1000\n",
            "13/13 [==============================] - 0s 2ms/step - loss: 11.8195 - mae: 2.4313\n",
            "Epoch 229/1000\n",
            "13/13 [==============================] - 0s 3ms/step - loss: 11.7731 - mae: 2.4245\n",
            "Epoch 230/1000\n",
            "13/13 [==============================] - 0s 3ms/step - loss: 11.7420 - mae: 2.4284\n",
            "Epoch 231/1000\n",
            "13/13 [==============================] - 0s 2ms/step - loss: 11.6926 - mae: 2.4289\n",
            "Epoch 232/1000\n",
            "13/13 [==============================] - 0s 3ms/step - loss: 11.6327 - mae: 2.4162\n",
            "Epoch 233/1000\n",
            "13/13 [==============================] - 0s 2ms/step - loss: 11.5885 - mae: 2.4108\n",
            "Epoch 234/1000\n",
            "13/13 [==============================] - 0s 3ms/step - loss: 11.5456 - mae: 2.4075\n",
            "Epoch 235/1000\n",
            "13/13 [==============================] - 0s 2ms/step - loss: 11.4975 - mae: 2.4020\n",
            "Epoch 236/1000\n",
            "13/13 [==============================] - 0s 2ms/step - loss: 11.4637 - mae: 2.3988\n",
            "Epoch 237/1000\n",
            "13/13 [==============================] - 0s 2ms/step - loss: 11.4226 - mae: 2.3949\n",
            "Epoch 238/1000\n",
            "13/13 [==============================] - 0s 2ms/step - loss: 11.3787 - mae: 2.3887\n",
            "Epoch 239/1000\n",
            "13/13 [==============================] - 0s 2ms/step - loss: 11.3399 - mae: 2.3854\n",
            "Epoch 240/1000\n",
            "13/13 [==============================] - 0s 3ms/step - loss: 11.2966 - mae: 2.3854\n",
            "Epoch 241/1000\n",
            "13/13 [==============================] - 0s 3ms/step - loss: 11.2619 - mae: 2.3834\n",
            "Epoch 242/1000\n",
            "13/13 [==============================] - 0s 2ms/step - loss: 11.2007 - mae: 2.3749\n",
            "Epoch 243/1000\n",
            "13/13 [==============================] - 0s 2ms/step - loss: 11.1647 - mae: 2.3742\n",
            "Epoch 244/1000\n",
            "13/13 [==============================] - 0s 2ms/step - loss: 11.1194 - mae: 2.3691\n",
            "Epoch 245/1000\n",
            "13/13 [==============================] - 0s 2ms/step - loss: 11.1059 - mae: 2.3653\n",
            "Epoch 246/1000\n",
            "13/13 [==============================] - 0s 2ms/step - loss: 11.0473 - mae: 2.3592\n",
            "Epoch 247/1000\n",
            "13/13 [==============================] - 0s 3ms/step - loss: 11.0143 - mae: 2.3595\n",
            "Epoch 248/1000\n",
            "13/13 [==============================] - 0s 2ms/step - loss: 11.0070 - mae: 2.3575\n",
            "Epoch 249/1000\n",
            "13/13 [==============================] - 0s 2ms/step - loss: 10.9561 - mae: 2.3563\n",
            "Epoch 250/1000\n",
            "13/13 [==============================] - 0s 2ms/step - loss: 10.9153 - mae: 2.3501\n",
            "Epoch 251/1000\n",
            "13/13 [==============================] - 0s 2ms/step - loss: 10.8686 - mae: 2.3415\n",
            "Epoch 252/1000\n",
            "13/13 [==============================] - 0s 2ms/step - loss: 10.8526 - mae: 2.3415\n",
            "Epoch 253/1000\n",
            "13/13 [==============================] - 0s 2ms/step - loss: 10.8020 - mae: 2.3346\n",
            "Epoch 254/1000\n",
            "13/13 [==============================] - 0s 2ms/step - loss: 10.7699 - mae: 2.3327\n",
            "Epoch 255/1000\n",
            "13/13 [==============================] - 0s 3ms/step - loss: 10.7247 - mae: 2.3307\n",
            "Epoch 256/1000\n",
            "13/13 [==============================] - 0s 2ms/step - loss: 10.7178 - mae: 2.3309\n",
            "Epoch 257/1000\n",
            "13/13 [==============================] - 0s 2ms/step - loss: 10.6836 - mae: 2.3279\n",
            "Epoch 258/1000\n",
            "13/13 [==============================] - 0s 2ms/step - loss: 10.6431 - mae: 2.3218\n",
            "Epoch 259/1000\n",
            "13/13 [==============================] - 0s 2ms/step - loss: 10.6153 - mae: 2.3191\n",
            "Epoch 260/1000\n",
            "13/13 [==============================] - 0s 2ms/step - loss: 10.5664 - mae: 2.3160\n",
            "Epoch 261/1000\n",
            "13/13 [==============================] - 0s 3ms/step - loss: 10.5496 - mae: 2.3173\n",
            "Epoch 262/1000\n",
            "13/13 [==============================] - 0s 2ms/step - loss: 10.5137 - mae: 2.3095\n",
            "Epoch 263/1000\n",
            "13/13 [==============================] - 0s 2ms/step - loss: 10.4725 - mae: 2.3047\n",
            "Epoch 264/1000\n",
            "13/13 [==============================] - 0s 2ms/step - loss: 10.4523 - mae: 2.3043\n",
            "Epoch 265/1000\n",
            "13/13 [==============================] - 0s 2ms/step - loss: 10.4088 - mae: 2.2994\n",
            "Epoch 266/1000\n",
            "13/13 [==============================] - 0s 2ms/step - loss: 10.3889 - mae: 2.2947\n",
            "Epoch 267/1000\n",
            "13/13 [==============================] - 0s 3ms/step - loss: 10.3504 - mae: 2.2918\n",
            "Epoch 268/1000\n",
            "13/13 [==============================] - 0s 3ms/step - loss: 10.3291 - mae: 2.2936\n",
            "Epoch 269/1000\n",
            "13/13 [==============================] - 0s 2ms/step - loss: 10.3124 - mae: 2.2920\n",
            "Epoch 270/1000\n",
            "13/13 [==============================] - 0s 2ms/step - loss: 10.2696 - mae: 2.2829\n",
            "Epoch 271/1000\n",
            "13/13 [==============================] - 0s 2ms/step - loss: 10.2598 - mae: 2.2823\n",
            "Epoch 272/1000\n",
            "13/13 [==============================] - 0s 2ms/step - loss: 10.2602 - mae: 2.2868\n",
            "Epoch 273/1000\n",
            "13/13 [==============================] - 0s 3ms/step - loss: 10.2107 - mae: 2.2804\n",
            "Epoch 274/1000\n",
            "13/13 [==============================] - 0s 2ms/step - loss: 10.1834 - mae: 2.2752\n",
            "Epoch 275/1000\n",
            "13/13 [==============================] - 0s 3ms/step - loss: 10.1427 - mae: 2.2705\n",
            "Epoch 276/1000\n",
            "13/13 [==============================] - 0s 2ms/step - loss: 10.1184 - mae: 2.2706\n",
            "Epoch 277/1000\n",
            "13/13 [==============================] - 0s 2ms/step - loss: 10.0825 - mae: 2.2643\n",
            "Epoch 278/1000\n",
            "13/13 [==============================] - 0s 2ms/step - loss: 10.0958 - mae: 2.2666\n",
            "Epoch 279/1000\n",
            "13/13 [==============================] - 0s 3ms/step - loss: 10.0448 - mae: 2.2631\n",
            "Epoch 280/1000\n",
            "13/13 [==============================] - 0s 3ms/step - loss: 10.0443 - mae: 2.2605\n",
            "Epoch 281/1000\n",
            "13/13 [==============================] - 0s 3ms/step - loss: 10.0059 - mae: 2.2598\n",
            "Epoch 282/1000\n",
            "13/13 [==============================] - 0s 3ms/step - loss: 9.9699 - mae: 2.2554\n",
            "Epoch 283/1000\n",
            "13/13 [==============================] - 0s 3ms/step - loss: 9.9715 - mae: 2.2525\n",
            "Epoch 284/1000\n",
            "13/13 [==============================] - 0s 2ms/step - loss: 9.9769 - mae: 2.2552\n",
            "Epoch 285/1000\n",
            "13/13 [==============================] - 0s 3ms/step - loss: 9.9599 - mae: 2.2527\n",
            "Epoch 286/1000\n",
            "13/13 [==============================] - 0s 3ms/step - loss: 9.9128 - mae: 2.2475\n",
            "Epoch 287/1000\n",
            "13/13 [==============================] - 0s 3ms/step - loss: 9.8724 - mae: 2.2464\n",
            "Epoch 288/1000\n",
            "13/13 [==============================] - 0s 2ms/step - loss: 9.8397 - mae: 2.2419\n",
            "Epoch 289/1000\n",
            "13/13 [==============================] - 0s 3ms/step - loss: 9.8049 - mae: 2.2395\n",
            "Epoch 290/1000\n",
            "13/13 [==============================] - 0s 3ms/step - loss: 9.7832 - mae: 2.2356\n",
            "Epoch 291/1000\n",
            "13/13 [==============================] - 0s 2ms/step - loss: 9.7681 - mae: 2.2337\n",
            "Epoch 292/1000\n",
            "13/13 [==============================] - 0s 2ms/step - loss: 9.7387 - mae: 2.2293\n",
            "Epoch 293/1000\n",
            "13/13 [==============================] - 0s 2ms/step - loss: 9.7516 - mae: 2.2281\n",
            "Epoch 294/1000\n",
            "13/13 [==============================] - 0s 2ms/step - loss: 9.7141 - mae: 2.2282\n",
            "Epoch 295/1000\n",
            "13/13 [==============================] - 0s 2ms/step - loss: 9.6951 - mae: 2.2250\n",
            "Epoch 296/1000\n",
            "13/13 [==============================] - 0s 2ms/step - loss: 9.7015 - mae: 2.2276\n",
            "Epoch 297/1000\n",
            "13/13 [==============================] - 0s 3ms/step - loss: 9.6563 - mae: 2.2206\n",
            "Epoch 298/1000\n",
            "13/13 [==============================] - 0s 2ms/step - loss: 9.6347 - mae: 2.2169\n",
            "Epoch 299/1000\n",
            "13/13 [==============================] - 0s 2ms/step - loss: 9.6208 - mae: 2.2175\n",
            "Epoch 300/1000\n",
            "13/13 [==============================] - 0s 2ms/step - loss: 9.5895 - mae: 2.2133\n",
            "Epoch 301/1000\n",
            "13/13 [==============================] - 0s 2ms/step - loss: 9.5762 - mae: 2.2118\n",
            "Epoch 302/1000\n",
            "13/13 [==============================] - 0s 3ms/step - loss: 9.5637 - mae: 2.2125\n",
            "Epoch 303/1000\n",
            "13/13 [==============================] - 0s 3ms/step - loss: 9.5278 - mae: 2.2057\n",
            "Epoch 304/1000\n",
            "13/13 [==============================] - 0s 2ms/step - loss: 9.5173 - mae: 2.2033\n",
            "Epoch 305/1000\n",
            "13/13 [==============================] - 0s 4ms/step - loss: 9.5424 - mae: 2.2075\n",
            "Epoch 306/1000\n",
            "13/13 [==============================] - 0s 2ms/step - loss: 9.5409 - mae: 2.2089\n",
            "Epoch 307/1000\n",
            "13/13 [==============================] - 0s 2ms/step - loss: 9.4754 - mae: 2.1991\n",
            "Epoch 308/1000\n",
            "13/13 [==============================] - 0s 2ms/step - loss: 9.4648 - mae: 2.1983\n",
            "Epoch 309/1000\n",
            "13/13 [==============================] - 0s 2ms/step - loss: 9.4468 - mae: 2.1961\n",
            "Epoch 310/1000\n",
            "13/13 [==============================] - 0s 3ms/step - loss: 9.4459 - mae: 2.1959\n",
            "Epoch 311/1000\n",
            "13/13 [==============================] - 0s 2ms/step - loss: 9.4199 - mae: 2.1921\n",
            "Epoch 312/1000\n",
            "13/13 [==============================] - 0s 2ms/step - loss: 9.3704 - mae: 2.1876\n",
            "Epoch 313/1000\n",
            "13/13 [==============================] - 0s 3ms/step - loss: 9.3796 - mae: 2.1906\n",
            "Epoch 314/1000\n",
            "13/13 [==============================] - 0s 2ms/step - loss: 9.3477 - mae: 2.1843\n",
            "Epoch 315/1000\n",
            "13/13 [==============================] - 0s 3ms/step - loss: 9.3342 - mae: 2.1810\n",
            "Epoch 316/1000\n",
            "13/13 [==============================] - 0s 2ms/step - loss: 9.3465 - mae: 2.1829\n",
            "Epoch 317/1000\n",
            "13/13 [==============================] - 0s 2ms/step - loss: 9.3009 - mae: 2.1791\n",
            "Epoch 318/1000\n",
            "13/13 [==============================] - 0s 2ms/step - loss: 9.2858 - mae: 2.1811\n",
            "Epoch 319/1000\n",
            "13/13 [==============================] - 0s 2ms/step - loss: 9.2752 - mae: 2.1797\n",
            "Epoch 320/1000\n",
            "13/13 [==============================] - 0s 2ms/step - loss: 9.2774 - mae: 2.1767\n",
            "Epoch 321/1000\n",
            "13/13 [==============================] - 0s 2ms/step - loss: 9.2496 - mae: 2.1724\n",
            "Epoch 322/1000\n",
            "13/13 [==============================] - 0s 2ms/step - loss: 9.2418 - mae: 2.1737\n",
            "Epoch 323/1000\n",
            "13/13 [==============================] - 0s 2ms/step - loss: 9.2265 - mae: 2.1716\n",
            "Epoch 324/1000\n",
            "13/13 [==============================] - 0s 3ms/step - loss: 9.2138 - mae: 2.1682\n",
            "Epoch 325/1000\n",
            "13/13 [==============================] - 0s 2ms/step - loss: 9.1987 - mae: 2.1666\n",
            "Epoch 326/1000\n",
            "13/13 [==============================] - 0s 2ms/step - loss: 9.1697 - mae: 2.1634\n",
            "Epoch 327/1000\n",
            "13/13 [==============================] - 0s 3ms/step - loss: 9.1595 - mae: 2.1644\n",
            "Epoch 328/1000\n",
            "13/13 [==============================] - 0s 2ms/step - loss: 9.1456 - mae: 2.1643\n",
            "Epoch 329/1000\n",
            "13/13 [==============================] - 0s 2ms/step - loss: 9.1458 - mae: 2.1600\n",
            "Epoch 330/1000\n",
            "13/13 [==============================] - 0s 2ms/step - loss: 9.1267 - mae: 2.1564\n",
            "Epoch 331/1000\n",
            "13/13 [==============================] - 0s 3ms/step - loss: 9.1006 - mae: 2.1553\n",
            "Epoch 332/1000\n",
            "13/13 [==============================] - 0s 2ms/step - loss: 9.0838 - mae: 2.1543\n",
            "Epoch 333/1000\n",
            "13/13 [==============================] - 0s 2ms/step - loss: 9.0622 - mae: 2.1498\n",
            "Epoch 334/1000\n",
            "13/13 [==============================] - 0s 2ms/step - loss: 9.0571 - mae: 2.1503\n",
            "Epoch 335/1000\n",
            "13/13 [==============================] - 0s 3ms/step - loss: 9.0649 - mae: 2.1484\n",
            "Epoch 336/1000\n",
            "13/13 [==============================] - 0s 2ms/step - loss: 9.0153 - mae: 2.1478\n",
            "Epoch 337/1000\n",
            "13/13 [==============================] - 0s 2ms/step - loss: 9.0175 - mae: 2.1435\n",
            "Epoch 338/1000\n",
            "13/13 [==============================] - 0s 2ms/step - loss: 9.0014 - mae: 2.1432\n",
            "Epoch 339/1000\n",
            "13/13 [==============================] - 0s 2ms/step - loss: 8.9894 - mae: 2.1451\n",
            "Epoch 340/1000\n",
            "13/13 [==============================] - 0s 2ms/step - loss: 8.9758 - mae: 2.1432\n",
            "Epoch 341/1000\n",
            "13/13 [==============================] - 0s 2ms/step - loss: 8.9580 - mae: 2.1391\n",
            "Epoch 342/1000\n",
            "13/13 [==============================] - 0s 3ms/step - loss: 8.9444 - mae: 2.1403\n",
            "Epoch 343/1000\n",
            "13/13 [==============================] - 0s 3ms/step - loss: 8.9333 - mae: 2.1340\n",
            "Epoch 344/1000\n",
            "13/13 [==============================] - 0s 2ms/step - loss: 8.9506 - mae: 2.1336\n",
            "Epoch 345/1000\n",
            "13/13 [==============================] - 0s 3ms/step - loss: 8.8909 - mae: 2.1310\n",
            "Epoch 346/1000\n",
            "13/13 [==============================] - 0s 2ms/step - loss: 8.8888 - mae: 2.1298\n",
            "Epoch 347/1000\n",
            "13/13 [==============================] - 0s 2ms/step - loss: 8.8666 - mae: 2.1253\n",
            "Epoch 348/1000\n",
            "13/13 [==============================] - 0s 2ms/step - loss: 8.8843 - mae: 2.1327\n",
            "Epoch 349/1000\n",
            "13/13 [==============================] - 0s 3ms/step - loss: 8.8440 - mae: 2.1257\n",
            "Epoch 350/1000\n",
            "13/13 [==============================] - 0s 3ms/step - loss: 8.8429 - mae: 2.1251\n",
            "Epoch 351/1000\n",
            "13/13 [==============================] - 0s 2ms/step - loss: 8.8405 - mae: 2.1236\n",
            "Epoch 352/1000\n",
            "13/13 [==============================] - 0s 3ms/step - loss: 8.8230 - mae: 2.1236\n",
            "Epoch 353/1000\n",
            "13/13 [==============================] - 0s 3ms/step - loss: 8.8070 - mae: 2.1186\n",
            "Epoch 354/1000\n",
            "13/13 [==============================] - 0s 2ms/step - loss: 8.7857 - mae: 2.1159\n",
            "Epoch 355/1000\n",
            "13/13 [==============================] - 0s 3ms/step - loss: 8.7915 - mae: 2.1169\n",
            "Epoch 356/1000\n",
            "13/13 [==============================] - 0s 3ms/step - loss: 8.7623 - mae: 2.1147\n",
            "Epoch 357/1000\n",
            "13/13 [==============================] - 0s 3ms/step - loss: 8.7530 - mae: 2.1153\n",
            "Epoch 358/1000\n",
            "13/13 [==============================] - 0s 3ms/step - loss: 8.7284 - mae: 2.1137\n",
            "Epoch 359/1000\n",
            "13/13 [==============================] - 0s 3ms/step - loss: 8.7184 - mae: 2.1083\n",
            "Epoch 360/1000\n",
            "13/13 [==============================] - 0s 3ms/step - loss: 8.7192 - mae: 2.1079\n",
            "Epoch 361/1000\n",
            "13/13 [==============================] - 0s 3ms/step - loss: 8.7103 - mae: 2.1081\n",
            "Epoch 362/1000\n",
            "13/13 [==============================] - 0s 3ms/step - loss: 8.6781 - mae: 2.1044\n",
            "Epoch 363/1000\n",
            "13/13 [==============================] - 0s 3ms/step - loss: 8.7021 - mae: 2.1123\n",
            "Epoch 364/1000\n",
            "13/13 [==============================] - 0s 3ms/step - loss: 8.6827 - mae: 2.1074\n",
            "Epoch 365/1000\n",
            "13/13 [==============================] - 0s 3ms/step - loss: 8.6599 - mae: 2.1006\n",
            "Epoch 366/1000\n",
            "13/13 [==============================] - 0s 3ms/step - loss: 8.6510 - mae: 2.1000\n",
            "Epoch 367/1000\n",
            "13/13 [==============================] - 0s 4ms/step - loss: 8.6514 - mae: 2.1038\n",
            "Epoch 368/1000\n",
            "13/13 [==============================] - 0s 4ms/step - loss: 8.6309 - mae: 2.1016\n",
            "Epoch 369/1000\n",
            "13/13 [==============================] - 0s 4ms/step - loss: 8.6359 - mae: 2.1002\n",
            "Epoch 370/1000\n",
            "13/13 [==============================] - 0s 4ms/step - loss: 8.6044 - mae: 2.0961\n",
            "Epoch 371/1000\n",
            "13/13 [==============================] - 0s 4ms/step - loss: 8.6111 - mae: 2.0961\n",
            "Epoch 372/1000\n",
            "13/13 [==============================] - 0s 3ms/step - loss: 8.5807 - mae: 2.0908\n",
            "Epoch 373/1000\n",
            "13/13 [==============================] - 0s 3ms/step - loss: 8.5763 - mae: 2.0977\n",
            "Epoch 374/1000\n",
            "13/13 [==============================] - 0s 4ms/step - loss: 8.5732 - mae: 2.0978\n",
            "Epoch 375/1000\n",
            "13/13 [==============================] - 0s 3ms/step - loss: 8.5538 - mae: 2.0899\n",
            "Epoch 376/1000\n",
            "13/13 [==============================] - 0s 4ms/step - loss: 8.5416 - mae: 2.0888\n",
            "Epoch 377/1000\n",
            "13/13 [==============================] - 0s 4ms/step - loss: 8.5462 - mae: 2.0905\n",
            "Epoch 378/1000\n",
            "13/13 [==============================] - 0s 4ms/step - loss: 8.5305 - mae: 2.0882\n",
            "Epoch 379/1000\n",
            "13/13 [==============================] - 0s 3ms/step - loss: 8.5082 - mae: 2.0832\n",
            "Epoch 380/1000\n",
            "13/13 [==============================] - 0s 3ms/step - loss: 8.5133 - mae: 2.0873\n",
            "Epoch 381/1000\n",
            "13/13 [==============================] - 0s 3ms/step - loss: 8.5582 - mae: 2.0920\n",
            "Epoch 382/1000\n",
            "13/13 [==============================] - 0s 3ms/step - loss: 8.4796 - mae: 2.0805\n",
            "Epoch 383/1000\n",
            "13/13 [==============================] - 0s 3ms/step - loss: 8.4892 - mae: 2.0853\n",
            "Epoch 384/1000\n",
            "13/13 [==============================] - 0s 3ms/step - loss: 8.4553 - mae: 2.0775\n",
            "Epoch 385/1000\n",
            "13/13 [==============================] - 0s 3ms/step - loss: 8.4561 - mae: 2.0803\n",
            "Epoch 386/1000\n",
            "13/13 [==============================] - 0s 3ms/step - loss: 8.4401 - mae: 2.0776\n",
            "Epoch 387/1000\n",
            "13/13 [==============================] - 0s 3ms/step - loss: 8.4387 - mae: 2.0762\n",
            "Epoch 388/1000\n",
            "13/13 [==============================] - 0s 3ms/step - loss: 8.4353 - mae: 2.0760\n",
            "Epoch 389/1000\n",
            "13/13 [==============================] - 0s 3ms/step - loss: 8.4342 - mae: 2.0745\n",
            "Epoch 390/1000\n",
            "13/13 [==============================] - 0s 3ms/step - loss: 8.4087 - mae: 2.0743\n",
            "Epoch 391/1000\n",
            "13/13 [==============================] - 0s 3ms/step - loss: 8.4316 - mae: 2.0777\n",
            "Epoch 392/1000\n",
            "13/13 [==============================] - 0s 3ms/step - loss: 8.4042 - mae: 2.0705\n",
            "Epoch 393/1000\n",
            "13/13 [==============================] - 0s 2ms/step - loss: 8.3899 - mae: 2.0708\n",
            "Epoch 394/1000\n",
            "13/13 [==============================] - 0s 3ms/step - loss: 8.3817 - mae: 2.0707\n",
            "Epoch 395/1000\n",
            "13/13 [==============================] - 0s 3ms/step - loss: 8.3970 - mae: 2.0706\n",
            "Epoch 396/1000\n",
            "13/13 [==============================] - 0s 3ms/step - loss: 8.3650 - mae: 2.0670\n",
            "Epoch 397/1000\n",
            "13/13 [==============================] - 0s 3ms/step - loss: 8.3892 - mae: 2.0722\n",
            "Epoch 398/1000\n",
            "13/13 [==============================] - 0s 3ms/step - loss: 8.3689 - mae: 2.0735\n",
            "Epoch 399/1000\n",
            "13/13 [==============================] - 0s 3ms/step - loss: 8.3414 - mae: 2.0677\n",
            "Epoch 400/1000\n",
            "13/13 [==============================] - 0s 3ms/step - loss: 8.3316 - mae: 2.0635\n",
            "Epoch 401/1000\n",
            "13/13 [==============================] - 0s 3ms/step - loss: 8.3350 - mae: 2.0649\n",
            "Epoch 402/1000\n",
            "13/13 [==============================] - 0s 4ms/step - loss: 8.3107 - mae: 2.0619\n",
            "Epoch 403/1000\n",
            "13/13 [==============================] - 0s 3ms/step - loss: 8.3239 - mae: 2.0614\n",
            "Epoch 404/1000\n",
            "13/13 [==============================] - 0s 3ms/step - loss: 8.3130 - mae: 2.0648\n",
            "Epoch 405/1000\n",
            "13/13 [==============================] - 0s 3ms/step - loss: 8.3054 - mae: 2.0574\n",
            "Epoch 406/1000\n",
            "13/13 [==============================] - 0s 3ms/step - loss: 8.2786 - mae: 2.0577\n",
            "Epoch 407/1000\n",
            "13/13 [==============================] - 0s 3ms/step - loss: 8.2657 - mae: 2.0584\n",
            "Epoch 408/1000\n",
            "13/13 [==============================] - 0s 4ms/step - loss: 8.2580 - mae: 2.0577\n",
            "Epoch 409/1000\n",
            "13/13 [==============================] - 0s 3ms/step - loss: 8.2691 - mae: 2.0564\n",
            "Epoch 410/1000\n",
            "13/13 [==============================] - 0s 3ms/step - loss: 8.2758 - mae: 2.0586\n",
            "Epoch 411/1000\n",
            "13/13 [==============================] - 0s 4ms/step - loss: 8.2401 - mae: 2.0524\n",
            "Epoch 412/1000\n",
            "13/13 [==============================] - 0s 3ms/step - loss: 8.2413 - mae: 2.0543\n",
            "Epoch 413/1000\n",
            "13/13 [==============================] - 0s 3ms/step - loss: 8.2348 - mae: 2.0531\n",
            "Epoch 414/1000\n",
            "13/13 [==============================] - 0s 3ms/step - loss: 8.2342 - mae: 2.0500\n",
            "Epoch 415/1000\n",
            "13/13 [==============================] - 0s 3ms/step - loss: 8.2363 - mae: 2.0521\n",
            "Epoch 416/1000\n",
            "13/13 [==============================] - 0s 3ms/step - loss: 8.2197 - mae: 2.0494\n",
            "Epoch 417/1000\n",
            "13/13 [==============================] - 0s 3ms/step - loss: 8.1988 - mae: 2.0487\n",
            "Epoch 418/1000\n",
            "13/13 [==============================] - 0s 3ms/step - loss: 8.1919 - mae: 2.0472\n",
            "Epoch 419/1000\n",
            "13/13 [==============================] - 0s 3ms/step - loss: 8.2055 - mae: 2.0528\n",
            "Epoch 420/1000\n",
            "13/13 [==============================] - 0s 3ms/step - loss: 8.1692 - mae: 2.0469\n",
            "Epoch 421/1000\n",
            "13/13 [==============================] - 0s 3ms/step - loss: 8.1690 - mae: 2.0445\n",
            "Epoch 422/1000\n",
            "13/13 [==============================] - 0s 3ms/step - loss: 8.1457 - mae: 2.0407\n",
            "Epoch 423/1000\n",
            "13/13 [==============================] - 0s 3ms/step - loss: 8.1766 - mae: 2.0437\n",
            "Epoch 424/1000\n",
            "13/13 [==============================] - 0s 3ms/step - loss: 8.1753 - mae: 2.0446\n",
            "Epoch 425/1000\n",
            "13/13 [==============================] - 0s 3ms/step - loss: 8.1317 - mae: 2.0397\n",
            "Epoch 426/1000\n",
            "13/13 [==============================] - 0s 4ms/step - loss: 8.1255 - mae: 2.0397\n",
            "Epoch 427/1000\n",
            "13/13 [==============================] - 0s 3ms/step - loss: 8.1393 - mae: 2.0417\n",
            "Epoch 428/1000\n",
            "13/13 [==============================] - 0s 3ms/step - loss: 8.1165 - mae: 2.0387\n",
            "Epoch 429/1000\n",
            "13/13 [==============================] - 0s 3ms/step - loss: 8.1152 - mae: 2.0384\n",
            "Epoch 430/1000\n",
            "13/13 [==============================] - 0s 4ms/step - loss: 8.1161 - mae: 2.0411\n",
            "Epoch 431/1000\n",
            "13/13 [==============================] - 0s 3ms/step - loss: 8.0859 - mae: 2.0340\n",
            "Epoch 432/1000\n",
            "13/13 [==============================] - 0s 3ms/step - loss: 8.1078 - mae: 2.0374\n",
            "Epoch 433/1000\n",
            "13/13 [==============================] - 0s 3ms/step - loss: 8.0694 - mae: 2.0356\n",
            "Epoch 434/1000\n",
            "13/13 [==============================] - 0s 3ms/step - loss: 8.0918 - mae: 2.0343\n",
            "Epoch 435/1000\n",
            "13/13 [==============================] - 0s 3ms/step - loss: 8.0754 - mae: 2.0350\n",
            "Epoch 436/1000\n",
            "13/13 [==============================] - 0s 3ms/step - loss: 8.0611 - mae: 2.0358\n",
            "Epoch 437/1000\n",
            "13/13 [==============================] - 0s 5ms/step - loss: 8.0938 - mae: 2.0396\n",
            "Epoch 438/1000\n",
            "13/13 [==============================] - 0s 4ms/step - loss: 8.0624 - mae: 2.0337\n",
            "Epoch 439/1000\n",
            "13/13 [==============================] - 0s 3ms/step - loss: 8.0579 - mae: 2.0390\n",
            "Epoch 440/1000\n",
            "13/13 [==============================] - 0s 4ms/step - loss: 8.0318 - mae: 2.0313\n",
            "Epoch 441/1000\n",
            "13/13 [==============================] - 0s 3ms/step - loss: 8.0346 - mae: 2.0299\n",
            "Epoch 442/1000\n",
            "13/13 [==============================] - 0s 3ms/step - loss: 8.0357 - mae: 2.0330\n",
            "Epoch 443/1000\n",
            "13/13 [==============================] - 0s 3ms/step - loss: 8.0302 - mae: 2.0299\n",
            "Epoch 444/1000\n",
            "13/13 [==============================] - 0s 3ms/step - loss: 8.0606 - mae: 2.0371\n",
            "Epoch 445/1000\n",
            "13/13 [==============================] - 0s 3ms/step - loss: 8.0253 - mae: 2.0286\n",
            "Epoch 446/1000\n",
            "13/13 [==============================] - 0s 3ms/step - loss: 8.0016 - mae: 2.0294\n",
            "Epoch 447/1000\n",
            "13/13 [==============================] - 0s 3ms/step - loss: 7.9858 - mae: 2.0280\n",
            "Epoch 448/1000\n",
            "13/13 [==============================] - 0s 3ms/step - loss: 8.0009 - mae: 2.0304\n",
            "Epoch 449/1000\n",
            "13/13 [==============================] - 0s 3ms/step - loss: 7.9652 - mae: 2.0257\n",
            "Epoch 450/1000\n",
            "13/13 [==============================] - 0s 3ms/step - loss: 7.9718 - mae: 2.0249\n",
            "Epoch 451/1000\n",
            "13/13 [==============================] - 0s 3ms/step - loss: 7.9595 - mae: 2.0242\n",
            "Epoch 452/1000\n",
            "13/13 [==============================] - 0s 3ms/step - loss: 7.9771 - mae: 2.0272\n",
            "Epoch 453/1000\n",
            "13/13 [==============================] - 0s 3ms/step - loss: 7.9593 - mae: 2.0252\n",
            "Epoch 454/1000\n",
            "13/13 [==============================] - 0s 3ms/step - loss: 7.9699 - mae: 2.0243\n",
            "Epoch 455/1000\n",
            "13/13 [==============================] - 0s 3ms/step - loss: 7.9514 - mae: 2.0236\n",
            "Epoch 456/1000\n",
            "13/13 [==============================] - 0s 3ms/step - loss: 7.9414 - mae: 2.0235\n",
            "Epoch 457/1000\n",
            "13/13 [==============================] - 0s 3ms/step - loss: 7.9605 - mae: 2.0296\n",
            "Epoch 458/1000\n",
            "13/13 [==============================] - 0s 3ms/step - loss: 7.9339 - mae: 2.0238\n",
            "Epoch 459/1000\n",
            "13/13 [==============================] - 0s 3ms/step - loss: 7.9104 - mae: 2.0195\n",
            "Epoch 460/1000\n",
            "13/13 [==============================] - 0s 3ms/step - loss: 7.9131 - mae: 2.0192\n",
            "Epoch 461/1000\n",
            "13/13 [==============================] - 0s 3ms/step - loss: 7.9061 - mae: 2.0176\n",
            "Epoch 462/1000\n",
            "13/13 [==============================] - 0s 3ms/step - loss: 7.9233 - mae: 2.0218\n",
            "Epoch 463/1000\n",
            "13/13 [==============================] - 0s 3ms/step - loss: 7.8866 - mae: 2.0173\n",
            "Epoch 464/1000\n",
            "13/13 [==============================] - 0s 3ms/step - loss: 7.8884 - mae: 2.0156\n",
            "Epoch 465/1000\n",
            "13/13 [==============================] - 0s 3ms/step - loss: 7.8807 - mae: 2.0172\n",
            "Epoch 466/1000\n",
            "13/13 [==============================] - 0s 3ms/step - loss: 7.9143 - mae: 2.0209\n",
            "Epoch 467/1000\n",
            "13/13 [==============================] - 0s 3ms/step - loss: 7.8624 - mae: 2.0146\n",
            "Epoch 468/1000\n",
            "13/13 [==============================] - 0s 4ms/step - loss: 7.9149 - mae: 2.0201\n",
            "Epoch 469/1000\n",
            "13/13 [==============================] - 0s 3ms/step - loss: 7.8643 - mae: 2.0129\n",
            "Epoch 470/1000\n",
            "13/13 [==============================] - 0s 4ms/step - loss: 7.8681 - mae: 2.0176\n",
            "Epoch 471/1000\n",
            "13/13 [==============================] - 0s 4ms/step - loss: 7.8651 - mae: 2.0151\n",
            "Epoch 472/1000\n",
            "13/13 [==============================] - 0s 3ms/step - loss: 7.8446 - mae: 2.0140\n",
            "Epoch 473/1000\n",
            "13/13 [==============================] - 0s 3ms/step - loss: 7.8324 - mae: 2.0128\n",
            "Epoch 474/1000\n",
            "13/13 [==============================] - 0s 4ms/step - loss: 7.8367 - mae: 2.0127\n",
            "Epoch 475/1000\n",
            "13/13 [==============================] - 0s 3ms/step - loss: 7.8427 - mae: 2.0142\n",
            "Epoch 476/1000\n",
            "13/13 [==============================] - 0s 3ms/step - loss: 7.8068 - mae: 2.0087\n",
            "Epoch 477/1000\n",
            "13/13 [==============================] - 0s 3ms/step - loss: 7.8572 - mae: 2.0169\n",
            "Epoch 478/1000\n",
            "13/13 [==============================] - 0s 3ms/step - loss: 7.8080 - mae: 2.0086\n",
            "Epoch 479/1000\n",
            "13/13 [==============================] - 0s 3ms/step - loss: 7.8001 - mae: 2.0093\n",
            "Epoch 480/1000\n",
            "13/13 [==============================] - 0s 3ms/step - loss: 7.8070 - mae: 2.0113\n",
            "Epoch 481/1000\n",
            "13/13 [==============================] - 0s 3ms/step - loss: 7.8022 - mae: 2.0093\n",
            "Epoch 482/1000\n",
            "13/13 [==============================] - 0s 2ms/step - loss: 7.7882 - mae: 2.0081\n",
            "Epoch 483/1000\n",
            "13/13 [==============================] - 0s 3ms/step - loss: 7.7835 - mae: 2.0058\n",
            "Epoch 484/1000\n",
            "13/13 [==============================] - 0s 3ms/step - loss: 7.7999 - mae: 2.0089\n",
            "Epoch 485/1000\n",
            "13/13 [==============================] - 0s 3ms/step - loss: 7.7771 - mae: 2.0069\n",
            "Epoch 486/1000\n",
            "13/13 [==============================] - 0s 3ms/step - loss: 7.7726 - mae: 2.0062\n",
            "Epoch 487/1000\n",
            "13/13 [==============================] - 0s 2ms/step - loss: 7.7849 - mae: 2.0050\n",
            "Epoch 488/1000\n",
            "13/13 [==============================] - 0s 2ms/step - loss: 7.7514 - mae: 2.0046\n",
            "Epoch 489/1000\n",
            "13/13 [==============================] - 0s 3ms/step - loss: 7.7576 - mae: 2.0040\n",
            "Epoch 490/1000\n",
            "13/13 [==============================] - 0s 4ms/step - loss: 7.7756 - mae: 2.0070\n",
            "Epoch 491/1000\n",
            "13/13 [==============================] - 0s 3ms/step - loss: 7.7685 - mae: 2.0051\n",
            "Epoch 492/1000\n",
            "13/13 [==============================] - 0s 3ms/step - loss: 7.7419 - mae: 2.0008\n",
            "Epoch 493/1000\n",
            "13/13 [==============================] - 0s 3ms/step - loss: 7.7521 - mae: 2.0029\n",
            "Epoch 494/1000\n",
            "13/13 [==============================] - 0s 3ms/step - loss: 7.7398 - mae: 2.0034\n",
            "Epoch 495/1000\n",
            "13/13 [==============================] - 0s 2ms/step - loss: 7.7401 - mae: 2.0012\n",
            "Epoch 496/1000\n",
            "13/13 [==============================] - 0s 3ms/step - loss: 7.7350 - mae: 2.0034\n",
            "Epoch 497/1000\n",
            "13/13 [==============================] - 0s 3ms/step - loss: 7.7260 - mae: 1.9995\n",
            "Epoch 498/1000\n",
            "13/13 [==============================] - 0s 3ms/step - loss: 7.7033 - mae: 1.9942\n",
            "Epoch 499/1000\n",
            "13/13 [==============================] - 0s 3ms/step - loss: 7.7211 - mae: 1.9976\n",
            "Epoch 500/1000\n",
            "13/13 [==============================] - 0s 3ms/step - loss: 7.7352 - mae: 2.0030\n",
            "Epoch 501/1000\n",
            "13/13 [==============================] - 0s 3ms/step - loss: 7.6832 - mae: 1.9936\n",
            "Epoch 502/1000\n",
            "13/13 [==============================] - 0s 3ms/step - loss: 7.7001 - mae: 1.9948\n",
            "Epoch 503/1000\n",
            "13/13 [==============================] - 0s 3ms/step - loss: 7.6879 - mae: 1.9952\n",
            "Epoch 504/1000\n",
            "13/13 [==============================] - 0s 3ms/step - loss: 7.6822 - mae: 1.9944\n",
            "Epoch 505/1000\n",
            "13/13 [==============================] - 0s 3ms/step - loss: 7.6922 - mae: 1.9963\n",
            "Epoch 506/1000\n",
            "13/13 [==============================] - 0s 3ms/step - loss: 7.6851 - mae: 1.9945\n",
            "Epoch 507/1000\n",
            "13/13 [==============================] - 0s 3ms/step - loss: 7.6654 - mae: 1.9919\n",
            "Epoch 508/1000\n",
            "13/13 [==============================] - 0s 3ms/step - loss: 7.6774 - mae: 1.9935\n",
            "Epoch 509/1000\n",
            "13/13 [==============================] - 0s 3ms/step - loss: 7.6655 - mae: 1.9916\n",
            "Epoch 510/1000\n",
            "13/13 [==============================] - 0s 3ms/step - loss: 7.6611 - mae: 1.9909\n",
            "Epoch 511/1000\n",
            "13/13 [==============================] - 0s 3ms/step - loss: 7.6532 - mae: 1.9911\n",
            "Epoch 512/1000\n",
            "13/13 [==============================] - 0s 3ms/step - loss: 7.6524 - mae: 1.9906\n",
            "Epoch 513/1000\n",
            "13/13 [==============================] - 0s 3ms/step - loss: 7.6859 - mae: 1.9958\n",
            "Epoch 514/1000\n",
            "13/13 [==============================] - 0s 3ms/step - loss: 7.6787 - mae: 1.9914\n",
            "Epoch 515/1000\n",
            "13/13 [==============================] - 0s 3ms/step - loss: 7.6425 - mae: 1.9900\n",
            "Epoch 516/1000\n",
            "13/13 [==============================] - 0s 3ms/step - loss: 7.6350 - mae: 1.9890\n",
            "Epoch 517/1000\n",
            "13/13 [==============================] - 0s 3ms/step - loss: 7.6503 - mae: 1.9907\n",
            "Epoch 518/1000\n",
            "13/13 [==============================] - 0s 3ms/step - loss: 7.6161 - mae: 1.9901\n",
            "Epoch 519/1000\n",
            "13/13 [==============================] - 0s 3ms/step - loss: 7.6185 - mae: 1.9860\n",
            "Epoch 520/1000\n",
            "13/13 [==============================] - 0s 3ms/step - loss: 7.6387 - mae: 1.9888\n",
            "Epoch 521/1000\n",
            "13/13 [==============================] - 0s 3ms/step - loss: 7.6186 - mae: 1.9865\n",
            "Epoch 522/1000\n",
            "13/13 [==============================] - 0s 3ms/step - loss: 7.6129 - mae: 1.9847\n",
            "Epoch 523/1000\n",
            "13/13 [==============================] - 0s 3ms/step - loss: 7.6025 - mae: 1.9811\n",
            "Epoch 524/1000\n",
            "13/13 [==============================] - 0s 3ms/step - loss: 7.6089 - mae: 1.9853\n",
            "Epoch 525/1000\n",
            "13/13 [==============================] - 0s 3ms/step - loss: 7.6028 - mae: 1.9840\n",
            "Epoch 526/1000\n",
            "13/13 [==============================] - 0s 3ms/step - loss: 7.5800 - mae: 1.9806\n",
            "Epoch 527/1000\n",
            "13/13 [==============================] - 0s 3ms/step - loss: 7.5790 - mae: 1.9798\n",
            "Epoch 528/1000\n",
            "13/13 [==============================] - 0s 3ms/step - loss: 7.5893 - mae: 1.9819\n",
            "Epoch 529/1000\n",
            "13/13 [==============================] - 0s 3ms/step - loss: 7.5653 - mae: 1.9795\n",
            "Epoch 530/1000\n",
            "13/13 [==============================] - 0s 3ms/step - loss: 7.5826 - mae: 1.9800\n",
            "Epoch 531/1000\n",
            "13/13 [==============================] - 0s 3ms/step - loss: 7.5553 - mae: 1.9758\n",
            "Epoch 532/1000\n",
            "13/13 [==============================] - 0s 3ms/step - loss: 7.5656 - mae: 1.9819\n",
            "Epoch 533/1000\n",
            "13/13 [==============================] - 0s 3ms/step - loss: 7.5618 - mae: 1.9805\n",
            "Epoch 534/1000\n",
            "13/13 [==============================] - 0s 2ms/step - loss: 7.5723 - mae: 1.9799\n",
            "Epoch 535/1000\n",
            "13/13 [==============================] - 0s 2ms/step - loss: 7.5574 - mae: 1.9791\n",
            "Epoch 536/1000\n",
            "13/13 [==============================] - 0s 3ms/step - loss: 7.5511 - mae: 1.9764\n",
            "Epoch 537/1000\n",
            "13/13 [==============================] - 0s 3ms/step - loss: 7.5553 - mae: 1.9774\n",
            "Epoch 538/1000\n",
            "13/13 [==============================] - 0s 3ms/step - loss: 7.5383 - mae: 1.9747\n",
            "Epoch 539/1000\n",
            "13/13 [==============================] - 0s 4ms/step - loss: 7.5396 - mae: 1.9741\n",
            "Epoch 540/1000\n",
            "13/13 [==============================] - 0s 3ms/step - loss: 7.5416 - mae: 1.9749\n",
            "Epoch 541/1000\n",
            "13/13 [==============================] - 0s 3ms/step - loss: 7.5494 - mae: 1.9731\n",
            "Epoch 542/1000\n",
            "13/13 [==============================] - 0s 3ms/step - loss: 7.5297 - mae: 1.9721\n",
            "Epoch 543/1000\n",
            "13/13 [==============================] - 0s 3ms/step - loss: 7.5367 - mae: 1.9735\n",
            "Epoch 544/1000\n",
            "13/13 [==============================] - 0s 4ms/step - loss: 7.5241 - mae: 1.9750\n",
            "Epoch 545/1000\n",
            "13/13 [==============================] - 0s 3ms/step - loss: 7.5169 - mae: 1.9730\n",
            "Epoch 546/1000\n",
            "13/13 [==============================] - 0s 3ms/step - loss: 7.5029 - mae: 1.9712\n",
            "Epoch 547/1000\n",
            "13/13 [==============================] - 0s 3ms/step - loss: 7.5186 - mae: 1.9721\n",
            "Epoch 548/1000\n",
            "13/13 [==============================] - 0s 3ms/step - loss: 7.5033 - mae: 1.9708\n",
            "Epoch 549/1000\n",
            "13/13 [==============================] - 0s 3ms/step - loss: 7.5156 - mae: 1.9746\n",
            "Epoch 550/1000\n",
            "13/13 [==============================] - 0s 3ms/step - loss: 7.5163 - mae: 1.9729\n",
            "Epoch 551/1000\n",
            "13/13 [==============================] - 0s 3ms/step - loss: 7.5552 - mae: 1.9757\n",
            "Epoch 552/1000\n",
            "13/13 [==============================] - 0s 3ms/step - loss: 7.5238 - mae: 1.9757\n",
            "Epoch 553/1000\n",
            "13/13 [==============================] - 0s 3ms/step - loss: 7.5113 - mae: 1.9707\n",
            "Epoch 554/1000\n",
            "13/13 [==============================] - 0s 3ms/step - loss: 7.5114 - mae: 1.9694\n",
            "Epoch 555/1000\n",
            "13/13 [==============================] - 0s 3ms/step - loss: 7.4776 - mae: 1.9691\n",
            "Epoch 556/1000\n",
            "13/13 [==============================] - 0s 3ms/step - loss: 7.4911 - mae: 1.9692\n",
            "Epoch 557/1000\n",
            "13/13 [==============================] - 0s 2ms/step - loss: 7.4808 - mae: 1.9665\n",
            "Epoch 558/1000\n",
            "13/13 [==============================] - 0s 3ms/step - loss: 7.4825 - mae: 1.9680\n",
            "Epoch 559/1000\n",
            "13/13 [==============================] - 0s 3ms/step - loss: 7.4811 - mae: 1.9689\n",
            "Epoch 560/1000\n",
            "13/13 [==============================] - 0s 3ms/step - loss: 7.4644 - mae: 1.9651\n",
            "Epoch 561/1000\n",
            "13/13 [==============================] - 0s 3ms/step - loss: 7.4564 - mae: 1.9641\n",
            "Epoch 562/1000\n",
            "13/13 [==============================] - 0s 3ms/step - loss: 7.4693 - mae: 1.9641\n",
            "Epoch 563/1000\n",
            "13/13 [==============================] - 0s 3ms/step - loss: 7.4605 - mae: 1.9656\n",
            "Epoch 564/1000\n",
            "13/13 [==============================] - 0s 3ms/step - loss: 7.4470 - mae: 1.9633\n",
            "Epoch 565/1000\n",
            "13/13 [==============================] - 0s 3ms/step - loss: 7.4637 - mae: 1.9656\n",
            "Epoch 566/1000\n",
            "13/13 [==============================] - 0s 3ms/step - loss: 7.4568 - mae: 1.9657\n",
            "Epoch 567/1000\n",
            "13/13 [==============================] - 0s 2ms/step - loss: 7.4295 - mae: 1.9606\n",
            "Epoch 568/1000\n",
            "13/13 [==============================] - 0s 2ms/step - loss: 7.4453 - mae: 1.9653\n",
            "Epoch 569/1000\n",
            "13/13 [==============================] - 0s 2ms/step - loss: 7.4316 - mae: 1.9622\n",
            "Epoch 570/1000\n",
            "13/13 [==============================] - 0s 3ms/step - loss: 7.4220 - mae: 1.9609\n",
            "Epoch 571/1000\n",
            "13/13 [==============================] - 0s 3ms/step - loss: 7.4534 - mae: 1.9623\n",
            "Epoch 572/1000\n",
            "13/13 [==============================] - 0s 3ms/step - loss: 7.4974 - mae: 1.9660\n",
            "Epoch 573/1000\n",
            "13/13 [==============================] - 0s 3ms/step - loss: 7.4569 - mae: 1.9649\n",
            "Epoch 574/1000\n",
            "13/13 [==============================] - 0s 3ms/step - loss: 7.3866 - mae: 1.9570\n",
            "Epoch 575/1000\n",
            "13/13 [==============================] - 0s 3ms/step - loss: 7.3908 - mae: 1.9561\n",
            "Epoch 576/1000\n",
            "13/13 [==============================] - 0s 3ms/step - loss: 7.4461 - mae: 1.9617\n",
            "Epoch 577/1000\n",
            "13/13 [==============================] - 0s 3ms/step - loss: 7.3900 - mae: 1.9537\n",
            "Epoch 578/1000\n",
            "13/13 [==============================] - 0s 3ms/step - loss: 7.4038 - mae: 1.9572\n",
            "Epoch 579/1000\n",
            "13/13 [==============================] - 0s 3ms/step - loss: 7.3959 - mae: 1.9577\n",
            "Epoch 580/1000\n",
            "13/13 [==============================] - 0s 3ms/step - loss: 7.3902 - mae: 1.9563\n",
            "Epoch 581/1000\n",
            "13/13 [==============================] - 0s 3ms/step - loss: 7.3944 - mae: 1.9547\n",
            "Epoch 582/1000\n",
            "13/13 [==============================] - 0s 3ms/step - loss: 7.3832 - mae: 1.9530\n",
            "Epoch 583/1000\n",
            "13/13 [==============================] - 0s 3ms/step - loss: 7.3681 - mae: 1.9524\n",
            "Epoch 584/1000\n",
            "13/13 [==============================] - 0s 3ms/step - loss: 7.3622 - mae: 1.9510\n",
            "Epoch 585/1000\n",
            "13/13 [==============================] - 0s 3ms/step - loss: 7.3911 - mae: 1.9539\n",
            "Epoch 586/1000\n",
            "13/13 [==============================] - 0s 3ms/step - loss: 7.3755 - mae: 1.9520\n",
            "Epoch 587/1000\n",
            "13/13 [==============================] - 0s 3ms/step - loss: 7.3728 - mae: 1.9501\n",
            "Epoch 588/1000\n",
            "13/13 [==============================] - 0s 4ms/step - loss: 7.3541 - mae: 1.9510\n",
            "Epoch 589/1000\n",
            "13/13 [==============================] - 0s 3ms/step - loss: 7.3569 - mae: 1.9498\n",
            "Epoch 590/1000\n",
            "13/13 [==============================] - 0s 3ms/step - loss: 7.3468 - mae: 1.9469\n",
            "Epoch 591/1000\n",
            "13/13 [==============================] - 0s 3ms/step - loss: 7.3483 - mae: 1.9489\n",
            "Epoch 592/1000\n",
            "13/13 [==============================] - 0s 3ms/step - loss: 7.3498 - mae: 1.9510\n",
            "Epoch 593/1000\n",
            "13/13 [==============================] - 0s 3ms/step - loss: 7.3286 - mae: 1.9427\n",
            "Epoch 594/1000\n",
            "13/13 [==============================] - 0s 3ms/step - loss: 7.3257 - mae: 1.9457\n",
            "Epoch 595/1000\n",
            "13/13 [==============================] - 0s 3ms/step - loss: 7.3247 - mae: 1.9456\n",
            "Epoch 596/1000\n",
            "13/13 [==============================] - 0s 3ms/step - loss: 7.3318 - mae: 1.9447\n",
            "Epoch 597/1000\n",
            "13/13 [==============================] - 0s 3ms/step - loss: 7.3279 - mae: 1.9429\n",
            "Epoch 598/1000\n",
            "13/13 [==============================] - 0s 3ms/step - loss: 7.3223 - mae: 1.9459\n",
            "Epoch 599/1000\n",
            "13/13 [==============================] - 0s 3ms/step - loss: 7.3202 - mae: 1.9411\n",
            "Epoch 600/1000\n",
            "13/13 [==============================] - 0s 3ms/step - loss: 7.3133 - mae: 1.9411\n",
            "Epoch 601/1000\n",
            "13/13 [==============================] - 0s 3ms/step - loss: 7.2858 - mae: 1.9403\n",
            "Epoch 602/1000\n",
            "13/13 [==============================] - 0s 3ms/step - loss: 7.2851 - mae: 1.9401\n",
            "Epoch 603/1000\n",
            "13/13 [==============================] - 0s 3ms/step - loss: 7.2695 - mae: 1.9393\n",
            "Epoch 604/1000\n",
            "13/13 [==============================] - 0s 3ms/step - loss: 7.2593 - mae: 1.9360\n",
            "Epoch 605/1000\n",
            "13/13 [==============================] - 0s 3ms/step - loss: 7.2654 - mae: 1.9367\n",
            "Epoch 606/1000\n",
            "13/13 [==============================] - 0s 3ms/step - loss: 7.2674 - mae: 1.9370\n",
            "Epoch 607/1000\n",
            "13/13 [==============================] - 0s 3ms/step - loss: 7.2768 - mae: 1.9369\n",
            "Epoch 608/1000\n",
            "13/13 [==============================] - 0s 3ms/step - loss: 7.2625 - mae: 1.9356\n",
            "Epoch 609/1000\n",
            "13/13 [==============================] - 0s 3ms/step - loss: 7.2607 - mae: 1.9332\n",
            "Epoch 610/1000\n",
            "13/13 [==============================] - 0s 3ms/step - loss: 7.2440 - mae: 1.9327\n",
            "Epoch 611/1000\n",
            "13/13 [==============================] - 0s 4ms/step - loss: 7.2488 - mae: 1.9362\n",
            "Epoch 612/1000\n",
            "13/13 [==============================] - 0s 3ms/step - loss: 7.2396 - mae: 1.9324\n",
            "Epoch 613/1000\n",
            "13/13 [==============================] - 0s 3ms/step - loss: 7.2514 - mae: 1.9330\n",
            "Epoch 614/1000\n",
            "13/13 [==============================] - 0s 3ms/step - loss: 7.2521 - mae: 1.9338\n",
            "Epoch 615/1000\n",
            "13/13 [==============================] - 0s 3ms/step - loss: 7.2525 - mae: 1.9333\n",
            "Epoch 616/1000\n",
            "13/13 [==============================] - 0s 3ms/step - loss: 7.2190 - mae: 1.9293\n",
            "Epoch 617/1000\n",
            "13/13 [==============================] - 0s 3ms/step - loss: 7.2370 - mae: 1.9332\n",
            "Epoch 618/1000\n",
            "13/13 [==============================] - 0s 4ms/step - loss: 7.2238 - mae: 1.9303\n",
            "Epoch 619/1000\n",
            "13/13 [==============================] - 0s 4ms/step - loss: 7.2533 - mae: 1.9323\n",
            "Epoch 620/1000\n",
            "13/13 [==============================] - 0s 3ms/step - loss: 7.2117 - mae: 1.9276\n",
            "Epoch 621/1000\n",
            "13/13 [==============================] - 0s 2ms/step - loss: 7.2230 - mae: 1.9329\n",
            "Epoch 622/1000\n",
            "13/13 [==============================] - 0s 3ms/step - loss: 7.2290 - mae: 1.9348\n",
            "Epoch 623/1000\n",
            "13/13 [==============================] - 0s 3ms/step - loss: 7.2276 - mae: 1.9313\n",
            "Epoch 624/1000\n",
            "13/13 [==============================] - 0s 2ms/step - loss: 7.2140 - mae: 1.9294\n",
            "Epoch 625/1000\n",
            "13/13 [==============================] - 0s 4ms/step - loss: 7.1965 - mae: 1.9276\n",
            "Epoch 626/1000\n",
            "13/13 [==============================] - 0s 3ms/step - loss: 7.2249 - mae: 1.9297\n",
            "Epoch 627/1000\n",
            "13/13 [==============================] - 0s 3ms/step - loss: 7.2336 - mae: 1.9325\n",
            "Epoch 628/1000\n",
            "13/13 [==============================] - 0s 4ms/step - loss: 7.1972 - mae: 1.9263\n",
            "Epoch 629/1000\n",
            "13/13 [==============================] - 0s 3ms/step - loss: 7.1740 - mae: 1.9232\n",
            "Epoch 630/1000\n",
            "13/13 [==============================] - 0s 3ms/step - loss: 7.1809 - mae: 1.9237\n",
            "Epoch 631/1000\n",
            "13/13 [==============================] - 0s 3ms/step - loss: 7.1669 - mae: 1.9225\n",
            "Epoch 632/1000\n",
            "13/13 [==============================] - 0s 4ms/step - loss: 7.1900 - mae: 1.9252\n",
            "Epoch 633/1000\n",
            "13/13 [==============================] - 0s 3ms/step - loss: 7.1675 - mae: 1.9195\n",
            "Epoch 634/1000\n",
            "13/13 [==============================] - 0s 3ms/step - loss: 7.1909 - mae: 1.9267\n",
            "Epoch 635/1000\n",
            "13/13 [==============================] - 0s 3ms/step - loss: 7.1650 - mae: 1.9208\n",
            "Epoch 636/1000\n",
            "13/13 [==============================] - 0s 3ms/step - loss: 7.1702 - mae: 1.9216\n",
            "Epoch 637/1000\n",
            "13/13 [==============================] - 0s 3ms/step - loss: 7.1572 - mae: 1.9215\n",
            "Epoch 638/1000\n",
            "13/13 [==============================] - 0s 3ms/step - loss: 7.1488 - mae: 1.9184\n",
            "Epoch 639/1000\n",
            "13/13 [==============================] - 0s 3ms/step - loss: 7.1689 - mae: 1.9212\n",
            "Epoch 640/1000\n",
            "13/13 [==============================] - 0s 2ms/step - loss: 7.1610 - mae: 1.9199\n",
            "Epoch 641/1000\n",
            "13/13 [==============================] - 0s 2ms/step - loss: 7.1884 - mae: 1.9280\n",
            "Epoch 642/1000\n",
            "13/13 [==============================] - 0s 2ms/step - loss: 7.1467 - mae: 1.9186\n",
            "Epoch 643/1000\n",
            "13/13 [==============================] - 0s 2ms/step - loss: 7.1328 - mae: 1.9191\n",
            "Epoch 644/1000\n",
            "13/13 [==============================] - 0s 3ms/step - loss: 7.1401 - mae: 1.9174\n",
            "Epoch 645/1000\n",
            "13/13 [==============================] - 0s 2ms/step - loss: 7.1608 - mae: 1.9207\n",
            "Epoch 646/1000\n",
            "13/13 [==============================] - 0s 3ms/step - loss: 7.1210 - mae: 1.9139\n",
            "Epoch 647/1000\n",
            "13/13 [==============================] - 0s 2ms/step - loss: 7.1599 - mae: 1.9146\n",
            "Epoch 648/1000\n",
            "13/13 [==============================] - 0s 2ms/step - loss: 7.1505 - mae: 1.9143\n",
            "Epoch 649/1000\n",
            "13/13 [==============================] - 0s 3ms/step - loss: 7.1342 - mae: 1.9151\n",
            "Epoch 650/1000\n",
            "13/13 [==============================] - 0s 2ms/step - loss: 7.1330 - mae: 1.9193\n",
            "Epoch 651/1000\n",
            "13/13 [==============================] - 0s 3ms/step - loss: 7.1236 - mae: 1.9135\n",
            "Epoch 652/1000\n",
            "13/13 [==============================] - 0s 2ms/step - loss: 7.1214 - mae: 1.9138\n",
            "Epoch 653/1000\n",
            "13/13 [==============================] - 0s 2ms/step - loss: 7.1117 - mae: 1.9186\n",
            "Epoch 654/1000\n",
            "13/13 [==============================] - 0s 2ms/step - loss: 7.1121 - mae: 1.9184\n",
            "Epoch 655/1000\n",
            "13/13 [==============================] - 0s 2ms/step - loss: 7.0964 - mae: 1.9102\n",
            "Epoch 656/1000\n",
            "13/13 [==============================] - 0s 3ms/step - loss: 7.1063 - mae: 1.9125\n",
            "Epoch 657/1000\n",
            "13/13 [==============================] - 0s 3ms/step - loss: 7.1016 - mae: 1.9136\n",
            "Epoch 658/1000\n",
            "13/13 [==============================] - 0s 3ms/step - loss: 7.0953 - mae: 1.9091\n",
            "Epoch 659/1000\n",
            "13/13 [==============================] - 0s 3ms/step - loss: 7.1033 - mae: 1.9128\n",
            "Epoch 660/1000\n",
            "13/13 [==============================] - 0s 2ms/step - loss: 7.0937 - mae: 1.9080\n",
            "Epoch 661/1000\n",
            "13/13 [==============================] - 0s 3ms/step - loss: 7.0899 - mae: 1.9107\n",
            "Epoch 662/1000\n",
            "13/13 [==============================] - 0s 3ms/step - loss: 7.1148 - mae: 1.9165\n",
            "Epoch 663/1000\n",
            "13/13 [==============================] - 0s 3ms/step - loss: 7.0920 - mae: 1.9127\n",
            "Epoch 664/1000\n",
            "13/13 [==============================] - 0s 2ms/step - loss: 7.0722 - mae: 1.9107\n",
            "Epoch 665/1000\n",
            "13/13 [==============================] - 0s 3ms/step - loss: 7.0710 - mae: 1.9092\n",
            "Epoch 666/1000\n",
            "13/13 [==============================] - 0s 3ms/step - loss: 7.0985 - mae: 1.9124\n",
            "Epoch 667/1000\n",
            "13/13 [==============================] - 0s 3ms/step - loss: 7.0665 - mae: 1.9104\n",
            "Epoch 668/1000\n",
            "13/13 [==============================] - 0s 2ms/step - loss: 7.0725 - mae: 1.9075\n",
            "Epoch 669/1000\n",
            "13/13 [==============================] - 0s 3ms/step - loss: 7.0820 - mae: 1.9106\n",
            "Epoch 670/1000\n",
            "13/13 [==============================] - 0s 3ms/step - loss: 7.0596 - mae: 1.9091\n",
            "Epoch 671/1000\n",
            "13/13 [==============================] - 0s 3ms/step - loss: 7.0873 - mae: 1.9124\n",
            "Epoch 672/1000\n",
            "13/13 [==============================] - 0s 3ms/step - loss: 7.0512 - mae: 1.9077\n",
            "Epoch 673/1000\n",
            "13/13 [==============================] - 0s 3ms/step - loss: 7.0568 - mae: 1.9111\n",
            "Epoch 674/1000\n",
            "13/13 [==============================] - 0s 3ms/step - loss: 7.0637 - mae: 1.9117\n",
            "Epoch 675/1000\n",
            "13/13 [==============================] - 0s 3ms/step - loss: 7.0380 - mae: 1.9060\n",
            "Epoch 676/1000\n",
            "13/13 [==============================] - 0s 3ms/step - loss: 7.0583 - mae: 1.9102\n",
            "Epoch 677/1000\n",
            "13/13 [==============================] - 0s 3ms/step - loss: 7.0684 - mae: 1.9162\n",
            "Epoch 678/1000\n",
            "13/13 [==============================] - 0s 3ms/step - loss: 7.0427 - mae: 1.9061\n",
            "Epoch 679/1000\n",
            "13/13 [==============================] - 0s 3ms/step - loss: 7.0819 - mae: 1.9106\n",
            "Epoch 680/1000\n",
            "13/13 [==============================] - 0s 3ms/step - loss: 7.0181 - mae: 1.9053\n",
            "Epoch 681/1000\n",
            "13/13 [==============================] - 0s 3ms/step - loss: 7.0282 - mae: 1.9012\n",
            "Epoch 682/1000\n",
            "13/13 [==============================] - 0s 4ms/step - loss: 7.0366 - mae: 1.9057\n",
            "Epoch 683/1000\n",
            "13/13 [==============================] - 0s 3ms/step - loss: 7.0289 - mae: 1.9059\n",
            "Epoch 684/1000\n",
            "13/13 [==============================] - 0s 3ms/step - loss: 7.0069 - mae: 1.9024\n",
            "Epoch 685/1000\n",
            "13/13 [==============================] - 0s 3ms/step - loss: 7.0154 - mae: 1.9018\n",
            "Epoch 686/1000\n",
            "13/13 [==============================] - 0s 3ms/step - loss: 7.0026 - mae: 1.8969\n",
            "Epoch 687/1000\n",
            "13/13 [==============================] - 0s 3ms/step - loss: 7.0152 - mae: 1.9051\n",
            "Epoch 688/1000\n",
            "13/13 [==============================] - 0s 3ms/step - loss: 7.0181 - mae: 1.9039\n",
            "Epoch 689/1000\n",
            "13/13 [==============================] - 0s 3ms/step - loss: 7.0269 - mae: 1.8996\n",
            "Epoch 690/1000\n",
            "13/13 [==============================] - 0s 3ms/step - loss: 6.9974 - mae: 1.9006\n",
            "Epoch 691/1000\n",
            "13/13 [==============================] - 0s 3ms/step - loss: 7.0017 - mae: 1.9037\n",
            "Epoch 692/1000\n",
            "13/13 [==============================] - 0s 3ms/step - loss: 6.9895 - mae: 1.8987\n",
            "Epoch 693/1000\n",
            "13/13 [==============================] - 0s 3ms/step - loss: 7.0284 - mae: 1.8993\n",
            "Epoch 694/1000\n",
            "13/13 [==============================] - 0s 3ms/step - loss: 6.9733 - mae: 1.8972\n",
            "Epoch 695/1000\n",
            "13/13 [==============================] - 0s 4ms/step - loss: 6.9928 - mae: 1.9013\n",
            "Epoch 696/1000\n",
            "13/13 [==============================] - 0s 3ms/step - loss: 6.9744 - mae: 1.8978\n",
            "Epoch 697/1000\n",
            "13/13 [==============================] - 0s 3ms/step - loss: 6.9946 - mae: 1.8997\n",
            "Epoch 698/1000\n",
            "13/13 [==============================] - 0s 3ms/step - loss: 6.9724 - mae: 1.8976\n",
            "Epoch 699/1000\n",
            "13/13 [==============================] - 0s 2ms/step - loss: 6.9747 - mae: 1.8976\n",
            "Epoch 700/1000\n",
            "13/13 [==============================] - 0s 3ms/step - loss: 6.9620 - mae: 1.8954\n",
            "Epoch 701/1000\n",
            "13/13 [==============================] - 0s 3ms/step - loss: 7.0002 - mae: 1.9031\n",
            "Epoch 702/1000\n",
            "13/13 [==============================] - 0s 3ms/step - loss: 6.9395 - mae: 1.8931\n",
            "Epoch 703/1000\n",
            "13/13 [==============================] - 0s 3ms/step - loss: 6.9643 - mae: 1.8963\n",
            "Epoch 704/1000\n",
            "13/13 [==============================] - 0s 3ms/step - loss: 6.9710 - mae: 1.8949\n",
            "Epoch 705/1000\n",
            "13/13 [==============================] - 0s 3ms/step - loss: 6.9637 - mae: 1.8973\n",
            "Epoch 706/1000\n",
            "13/13 [==============================] - 0s 3ms/step - loss: 6.9560 - mae: 1.8962\n",
            "Epoch 707/1000\n",
            "13/13 [==============================] - 0s 3ms/step - loss: 6.9423 - mae: 1.8932\n",
            "Epoch 708/1000\n",
            "13/13 [==============================] - 0s 3ms/step - loss: 6.9552 - mae: 1.8938\n",
            "Epoch 709/1000\n",
            "13/13 [==============================] - 0s 3ms/step - loss: 6.9623 - mae: 1.8956\n",
            "Epoch 710/1000\n",
            "13/13 [==============================] - 0s 3ms/step - loss: 6.9499 - mae: 1.8938\n",
            "Epoch 711/1000\n",
            "13/13 [==============================] - 0s 3ms/step - loss: 6.9548 - mae: 1.8968\n",
            "Epoch 712/1000\n",
            "13/13 [==============================] - 0s 3ms/step - loss: 6.9535 - mae: 1.8957\n",
            "Epoch 713/1000\n",
            "13/13 [==============================] - 0s 3ms/step - loss: 6.9503 - mae: 1.8914\n",
            "Epoch 714/1000\n",
            "13/13 [==============================] - 0s 3ms/step - loss: 6.9245 - mae: 1.8883\n",
            "Epoch 715/1000\n",
            "13/13 [==============================] - 0s 3ms/step - loss: 6.9517 - mae: 1.8933\n",
            "Epoch 716/1000\n",
            "13/13 [==============================] - 0s 4ms/step - loss: 6.9287 - mae: 1.8925\n",
            "Epoch 717/1000\n",
            "13/13 [==============================] - 0s 3ms/step - loss: 6.9032 - mae: 1.8891\n",
            "Epoch 718/1000\n",
            "13/13 [==============================] - 0s 3ms/step - loss: 6.9274 - mae: 1.8891\n",
            "Epoch 719/1000\n",
            "13/13 [==============================] - 0s 3ms/step - loss: 6.9495 - mae: 1.8898\n",
            "Epoch 720/1000\n",
            "13/13 [==============================] - 0s 3ms/step - loss: 6.9497 - mae: 1.8897\n",
            "Epoch 721/1000\n",
            "13/13 [==============================] - 0s 3ms/step - loss: 6.9154 - mae: 1.8909\n",
            "Epoch 722/1000\n",
            "13/13 [==============================] - 0s 4ms/step - loss: 6.9139 - mae: 1.8970\n",
            "Epoch 723/1000\n",
            "13/13 [==============================] - 0s 4ms/step - loss: 6.9112 - mae: 1.8883\n",
            "Epoch 724/1000\n",
            "13/13 [==============================] - 0s 3ms/step - loss: 6.9316 - mae: 1.8921\n",
            "Epoch 725/1000\n",
            "13/13 [==============================] - 0s 3ms/step - loss: 6.9091 - mae: 1.8891\n",
            "Epoch 726/1000\n",
            "13/13 [==============================] - 0s 3ms/step - loss: 6.9081 - mae: 1.8872\n",
            "Epoch 727/1000\n",
            "13/13 [==============================] - 0s 3ms/step - loss: 6.9093 - mae: 1.8914\n",
            "Epoch 728/1000\n",
            "13/13 [==============================] - 0s 4ms/step - loss: 6.9117 - mae: 1.8941\n",
            "Epoch 729/1000\n",
            "13/13 [==============================] - 0s 4ms/step - loss: 6.8939 - mae: 1.8900\n",
            "Epoch 730/1000\n",
            "13/13 [==============================] - 0s 3ms/step - loss: 6.8923 - mae: 1.8841\n",
            "Epoch 731/1000\n",
            "13/13 [==============================] - 0s 3ms/step - loss: 6.9592 - mae: 1.8906\n",
            "Epoch 732/1000\n",
            "13/13 [==============================] - 0s 4ms/step - loss: 6.8966 - mae: 1.8861\n",
            "Epoch 733/1000\n",
            "13/13 [==============================] - 0s 3ms/step - loss: 6.9045 - mae: 1.8876\n",
            "Epoch 734/1000\n",
            "13/13 [==============================] - 0s 3ms/step - loss: 6.8991 - mae: 1.8900\n",
            "Epoch 735/1000\n",
            "13/13 [==============================] - 0s 3ms/step - loss: 6.8880 - mae: 1.8892\n",
            "Epoch 736/1000\n",
            "13/13 [==============================] - 0s 3ms/step - loss: 6.8768 - mae: 1.8867\n",
            "Epoch 737/1000\n",
            "13/13 [==============================] - 0s 3ms/step - loss: 6.8898 - mae: 1.8896\n",
            "Epoch 738/1000\n",
            "13/13 [==============================] - 0s 4ms/step - loss: 6.9168 - mae: 1.8909\n",
            "Epoch 739/1000\n",
            "13/13 [==============================] - 0s 3ms/step - loss: 6.8742 - mae: 1.8822\n",
            "Epoch 740/1000\n",
            "13/13 [==============================] - 0s 3ms/step - loss: 6.9428 - mae: 1.8957\n",
            "Epoch 741/1000\n",
            "13/13 [==============================] - 0s 4ms/step - loss: 6.8999 - mae: 1.8919\n",
            "Epoch 742/1000\n",
            "13/13 [==============================] - 0s 3ms/step - loss: 6.8625 - mae: 1.8811\n",
            "Epoch 743/1000\n",
            "13/13 [==============================] - 0s 3ms/step - loss: 6.8835 - mae: 1.8843\n",
            "Epoch 744/1000\n",
            "13/13 [==============================] - 0s 3ms/step - loss: 6.8804 - mae: 1.8900\n",
            "Epoch 745/1000\n",
            "13/13 [==============================] - 0s 3ms/step - loss: 6.8778 - mae: 1.8839\n",
            "Epoch 746/1000\n",
            "13/13 [==============================] - 0s 3ms/step - loss: 6.8484 - mae: 1.8792\n",
            "Epoch 747/1000\n",
            "13/13 [==============================] - 0s 3ms/step - loss: 6.8567 - mae: 1.8811\n",
            "Epoch 748/1000\n",
            "13/13 [==============================] - 0s 3ms/step - loss: 6.8631 - mae: 1.8815\n",
            "Epoch 749/1000\n",
            "13/13 [==============================] - 0s 3ms/step - loss: 6.8529 - mae: 1.8828\n",
            "Epoch 750/1000\n",
            "13/13 [==============================] - 0s 3ms/step - loss: 6.8417 - mae: 1.8793\n",
            "Epoch 751/1000\n",
            "13/13 [==============================] - 0s 3ms/step - loss: 6.8628 - mae: 1.8793\n",
            "Epoch 752/1000\n",
            "13/13 [==============================] - 0s 3ms/step - loss: 6.8407 - mae: 1.8782\n",
            "Epoch 753/1000\n",
            "13/13 [==============================] - 0s 3ms/step - loss: 6.8511 - mae: 1.8799\n",
            "Epoch 754/1000\n",
            "13/13 [==============================] - 0s 3ms/step - loss: 6.8670 - mae: 1.8812\n",
            "Epoch 755/1000\n",
            "13/13 [==============================] - 0s 3ms/step - loss: 6.8595 - mae: 1.8794\n",
            "Epoch 756/1000\n",
            "13/13 [==============================] - 0s 3ms/step - loss: 6.8175 - mae: 1.8776\n",
            "Epoch 757/1000\n",
            "13/13 [==============================] - 0s 3ms/step - loss: 6.8474 - mae: 1.8774\n",
            "Epoch 758/1000\n",
            "13/13 [==============================] - 0s 3ms/step - loss: 6.8433 - mae: 1.8798\n",
            "Epoch 759/1000\n",
            "13/13 [==============================] - 0s 3ms/step - loss: 6.8167 - mae: 1.8777\n",
            "Epoch 760/1000\n",
            "13/13 [==============================] - 0s 3ms/step - loss: 6.8363 - mae: 1.8806\n",
            "Epoch 761/1000\n",
            "13/13 [==============================] - 0s 3ms/step - loss: 6.8279 - mae: 1.8773\n",
            "Epoch 762/1000\n",
            "13/13 [==============================] - 0s 3ms/step - loss: 6.8464 - mae: 1.8836\n",
            "Epoch 763/1000\n",
            "13/13 [==============================] - 0s 4ms/step - loss: 6.8148 - mae: 1.8749\n",
            "Epoch 764/1000\n",
            "13/13 [==============================] - 0s 3ms/step - loss: 6.8203 - mae: 1.8748\n",
            "Epoch 765/1000\n",
            "13/13 [==============================] - 0s 3ms/step - loss: 6.8294 - mae: 1.8786\n",
            "Epoch 766/1000\n",
            "13/13 [==============================] - 0s 3ms/step - loss: 6.8234 - mae: 1.8793\n",
            "Epoch 767/1000\n",
            "13/13 [==============================] - 0s 3ms/step - loss: 6.8032 - mae: 1.8721\n",
            "Epoch 768/1000\n",
            "13/13 [==============================] - 0s 3ms/step - loss: 6.8095 - mae: 1.8758\n",
            "Epoch 769/1000\n",
            "13/13 [==============================] - 0s 3ms/step - loss: 6.8217 - mae: 1.8756\n",
            "Epoch 770/1000\n",
            "13/13 [==============================] - 0s 3ms/step - loss: 6.8896 - mae: 1.8824\n",
            "Epoch 771/1000\n",
            "13/13 [==============================] - 0s 3ms/step - loss: 6.8270 - mae: 1.8795\n",
            "Epoch 772/1000\n",
            "13/13 [==============================] - 0s 3ms/step - loss: 6.8015 - mae: 1.8754\n",
            "Epoch 773/1000\n",
            "13/13 [==============================] - 0s 3ms/step - loss: 6.7988 - mae: 1.8715\n",
            "Epoch 774/1000\n",
            "13/13 [==============================] - 0s 3ms/step - loss: 6.7852 - mae: 1.8695\n",
            "Epoch 775/1000\n",
            "13/13 [==============================] - 0s 3ms/step - loss: 6.7788 - mae: 1.8704\n",
            "Epoch 776/1000\n",
            "13/13 [==============================] - 0s 3ms/step - loss: 6.7928 - mae: 1.8750\n",
            "Epoch 777/1000\n",
            "13/13 [==============================] - 0s 3ms/step - loss: 6.7869 - mae: 1.8730\n",
            "Epoch 778/1000\n",
            "13/13 [==============================] - 0s 3ms/step - loss: 6.8093 - mae: 1.8787\n",
            "Epoch 779/1000\n",
            "13/13 [==============================] - 0s 3ms/step - loss: 6.7918 - mae: 1.8726\n",
            "Epoch 780/1000\n",
            "13/13 [==============================] - 0s 3ms/step - loss: 6.7683 - mae: 1.8694\n",
            "Epoch 781/1000\n",
            "13/13 [==============================] - 0s 3ms/step - loss: 6.7960 - mae: 1.8729\n",
            "Epoch 782/1000\n",
            "13/13 [==============================] - 0s 3ms/step - loss: 6.8124 - mae: 1.8772\n",
            "Epoch 783/1000\n",
            "13/13 [==============================] - 0s 3ms/step - loss: 6.7836 - mae: 1.8759\n",
            "Epoch 784/1000\n",
            "13/13 [==============================] - 0s 3ms/step - loss: 6.7943 - mae: 1.8680\n",
            "Epoch 785/1000\n",
            "13/13 [==============================] - 0s 3ms/step - loss: 6.7597 - mae: 1.8698\n",
            "Epoch 786/1000\n",
            "13/13 [==============================] - 0s 3ms/step - loss: 6.7570 - mae: 1.8676\n",
            "Epoch 787/1000\n",
            "13/13 [==============================] - 0s 3ms/step - loss: 6.7601 - mae: 1.8645\n",
            "Epoch 788/1000\n",
            "13/13 [==============================] - 0s 3ms/step - loss: 6.7507 - mae: 1.8636\n",
            "Epoch 789/1000\n",
            "13/13 [==============================] - 0s 3ms/step - loss: 6.7589 - mae: 1.8696\n",
            "Epoch 790/1000\n",
            "13/13 [==============================] - 0s 4ms/step - loss: 6.7704 - mae: 1.8715\n",
            "Epoch 791/1000\n",
            "13/13 [==============================] - 0s 3ms/step - loss: 6.7406 - mae: 1.8654\n",
            "Epoch 792/1000\n",
            "13/13 [==============================] - 0s 3ms/step - loss: 6.7787 - mae: 1.8706\n",
            "Epoch 793/1000\n",
            "13/13 [==============================] - 0s 3ms/step - loss: 6.7646 - mae: 1.8701\n",
            "Epoch 794/1000\n",
            "13/13 [==============================] - 0s 4ms/step - loss: 6.7601 - mae: 1.8707\n",
            "Epoch 795/1000\n",
            "13/13 [==============================] - 0s 3ms/step - loss: 6.7377 - mae: 1.8667\n",
            "Epoch 796/1000\n",
            "13/13 [==============================] - 0s 3ms/step - loss: 6.7560 - mae: 1.8666\n",
            "Epoch 797/1000\n",
            "13/13 [==============================] - 0s 3ms/step - loss: 6.7465 - mae: 1.8612\n",
            "Epoch 798/1000\n",
            "13/13 [==============================] - 0s 4ms/step - loss: 6.7410 - mae: 1.8656\n",
            "Epoch 799/1000\n",
            "13/13 [==============================] - 0s 4ms/step - loss: 6.7340 - mae: 1.8652\n",
            "Epoch 800/1000\n",
            "13/13 [==============================] - 0s 3ms/step - loss: 6.7316 - mae: 1.8642\n",
            "Epoch 801/1000\n",
            "13/13 [==============================] - 0s 3ms/step - loss: 6.7281 - mae: 1.8608\n",
            "Epoch 802/1000\n",
            "13/13 [==============================] - 0s 4ms/step - loss: 6.7274 - mae: 1.8627\n",
            "Epoch 803/1000\n",
            "13/13 [==============================] - 0s 3ms/step - loss: 6.7342 - mae: 1.8634\n",
            "Epoch 804/1000\n",
            "13/13 [==============================] - 0s 3ms/step - loss: 6.7348 - mae: 1.8647\n",
            "Epoch 805/1000\n",
            "13/13 [==============================] - 0s 4ms/step - loss: 6.7304 - mae: 1.8638\n",
            "Epoch 806/1000\n",
            "13/13 [==============================] - 0s 3ms/step - loss: 6.7205 - mae: 1.8652\n",
            "Epoch 807/1000\n",
            "13/13 [==============================] - 0s 3ms/step - loss: 6.7144 - mae: 1.8617\n",
            "Epoch 808/1000\n",
            "13/13 [==============================] - 0s 4ms/step - loss: 6.7284 - mae: 1.8620\n",
            "Epoch 809/1000\n",
            "13/13 [==============================] - 0s 3ms/step - loss: 6.7197 - mae: 1.8603\n",
            "Epoch 810/1000\n",
            "13/13 [==============================] - 0s 4ms/step - loss: 6.7072 - mae: 1.8609\n",
            "Epoch 811/1000\n",
            "13/13 [==============================] - 0s 3ms/step - loss: 6.7132 - mae: 1.8631\n",
            "Epoch 812/1000\n",
            "13/13 [==============================] - 0s 3ms/step - loss: 6.7173 - mae: 1.8622\n",
            "Epoch 813/1000\n",
            "13/13 [==============================] - 0s 4ms/step - loss: 6.7746 - mae: 1.8632\n",
            "Epoch 814/1000\n",
            "13/13 [==============================] - 0s 3ms/step - loss: 6.7007 - mae: 1.8602\n",
            "Epoch 815/1000\n",
            "13/13 [==============================] - 0s 4ms/step - loss: 6.7136 - mae: 1.8647\n",
            "Epoch 816/1000\n",
            "13/13 [==============================] - 0s 4ms/step - loss: 6.7087 - mae: 1.8597\n",
            "Epoch 817/1000\n",
            "13/13 [==============================] - 0s 3ms/step - loss: 6.7322 - mae: 1.8604\n",
            "Epoch 818/1000\n",
            "13/13 [==============================] - 0s 3ms/step - loss: 6.7058 - mae: 1.8611\n",
            "Epoch 819/1000\n",
            "13/13 [==============================] - 0s 3ms/step - loss: 6.7315 - mae: 1.8658\n",
            "Epoch 820/1000\n",
            "13/13 [==============================] - 0s 3ms/step - loss: 6.7068 - mae: 1.8574\n",
            "Epoch 821/1000\n",
            "13/13 [==============================] - 0s 4ms/step - loss: 6.7160 - mae: 1.8619\n",
            "Epoch 822/1000\n",
            "13/13 [==============================] - 0s 3ms/step - loss: 6.7038 - mae: 1.8587\n",
            "Epoch 823/1000\n",
            "13/13 [==============================] - 0s 3ms/step - loss: 6.7140 - mae: 1.8616\n",
            "Epoch 824/1000\n",
            "13/13 [==============================] - 0s 4ms/step - loss: 6.7208 - mae: 1.8606\n",
            "Epoch 825/1000\n",
            "13/13 [==============================] - 0s 3ms/step - loss: 6.6795 - mae: 1.8582\n",
            "Epoch 826/1000\n",
            "13/13 [==============================] - 0s 3ms/step - loss: 6.7367 - mae: 1.8603\n",
            "Epoch 827/1000\n",
            "13/13 [==============================] - 0s 3ms/step - loss: 6.7046 - mae: 1.8654\n",
            "Epoch 828/1000\n",
            "13/13 [==============================] - 0s 3ms/step - loss: 6.6981 - mae: 1.8651\n",
            "Epoch 829/1000\n",
            "13/13 [==============================] - 0s 3ms/step - loss: 6.6813 - mae: 1.8580\n",
            "Epoch 830/1000\n",
            "13/13 [==============================] - 0s 3ms/step - loss: 6.6714 - mae: 1.8547\n",
            "Epoch 831/1000\n",
            "13/13 [==============================] - 0s 3ms/step - loss: 6.6795 - mae: 1.8575\n",
            "Epoch 832/1000\n",
            "13/13 [==============================] - 0s 3ms/step - loss: 6.6758 - mae: 1.8561\n",
            "Epoch 833/1000\n",
            "13/13 [==============================] - 0s 3ms/step - loss: 6.6795 - mae: 1.8585\n",
            "Epoch 834/1000\n",
            "13/13 [==============================] - 0s 3ms/step - loss: 6.6840 - mae: 1.8590\n",
            "Epoch 835/1000\n",
            "13/13 [==============================] - 0s 3ms/step - loss: 6.7238 - mae: 1.8611\n",
            "Epoch 836/1000\n",
            "13/13 [==============================] - 0s 3ms/step - loss: 6.6921 - mae: 1.8573\n",
            "Epoch 837/1000\n",
            "13/13 [==============================] - 0s 3ms/step - loss: 6.6836 - mae: 1.8547\n",
            "Epoch 838/1000\n",
            "13/13 [==============================] - 0s 3ms/step - loss: 6.7061 - mae: 1.8596\n",
            "Epoch 839/1000\n",
            "13/13 [==============================] - 0s 3ms/step - loss: 6.7061 - mae: 1.8579\n",
            "Epoch 840/1000\n",
            "13/13 [==============================] - 0s 3ms/step - loss: 6.6617 - mae: 1.8500\n",
            "Epoch 841/1000\n",
            "13/13 [==============================] - 0s 3ms/step - loss: 6.6629 - mae: 1.8559\n",
            "Epoch 842/1000\n",
            "13/13 [==============================] - 0s 3ms/step - loss: 6.6756 - mae: 1.8582\n",
            "Epoch 843/1000\n",
            "13/13 [==============================] - 0s 3ms/step - loss: 6.6521 - mae: 1.8525\n",
            "Epoch 844/1000\n",
            "13/13 [==============================] - 0s 3ms/step - loss: 6.6487 - mae: 1.8505\n",
            "Epoch 845/1000\n",
            "13/13 [==============================] - 0s 3ms/step - loss: 6.6761 - mae: 1.8532\n",
            "Epoch 846/1000\n",
            "13/13 [==============================] - 0s 3ms/step - loss: 6.6542 - mae: 1.8546\n",
            "Epoch 847/1000\n",
            "13/13 [==============================] - 0s 3ms/step - loss: 6.6898 - mae: 1.8552\n",
            "Epoch 848/1000\n",
            "13/13 [==============================] - 0s 3ms/step - loss: 6.6601 - mae: 1.8502\n",
            "Epoch 849/1000\n",
            "13/13 [==============================] - 0s 3ms/step - loss: 6.6612 - mae: 1.8507\n",
            "Epoch 850/1000\n",
            "13/13 [==============================] - 0s 3ms/step - loss: 6.6894 - mae: 1.8625\n",
            "Epoch 851/1000\n",
            "13/13 [==============================] - 0s 3ms/step - loss: 6.6626 - mae: 1.8486\n",
            "Epoch 852/1000\n",
            "13/13 [==============================] - 0s 3ms/step - loss: 6.6576 - mae: 1.8494\n",
            "Epoch 853/1000\n",
            "13/13 [==============================] - 0s 3ms/step - loss: 6.6698 - mae: 1.8506\n",
            "Epoch 854/1000\n",
            "13/13 [==============================] - 0s 3ms/step - loss: 6.6666 - mae: 1.8528\n",
            "Epoch 855/1000\n",
            "13/13 [==============================] - 0s 3ms/step - loss: 6.6353 - mae: 1.8495\n",
            "Epoch 856/1000\n",
            "13/13 [==============================] - 0s 3ms/step - loss: 6.6912 - mae: 1.8514\n",
            "Epoch 857/1000\n",
            "13/13 [==============================] - 0s 3ms/step - loss: 6.6747 - mae: 1.8491\n",
            "Epoch 858/1000\n",
            "13/13 [==============================] - 0s 3ms/step - loss: 6.6272 - mae: 1.8524\n",
            "Epoch 859/1000\n",
            "13/13 [==============================] - 0s 3ms/step - loss: 6.6679 - mae: 1.8515\n",
            "Epoch 860/1000\n",
            "13/13 [==============================] - 0s 3ms/step - loss: 6.6380 - mae: 1.8448\n",
            "Epoch 861/1000\n",
            "13/13 [==============================] - 0s 3ms/step - loss: 6.6587 - mae: 1.8486\n",
            "Epoch 862/1000\n",
            "13/13 [==============================] - 0s 3ms/step - loss: 6.6218 - mae: 1.8457\n",
            "Epoch 863/1000\n",
            "13/13 [==============================] - 0s 3ms/step - loss: 6.6327 - mae: 1.8447\n",
            "Epoch 864/1000\n",
            "13/13 [==============================] - 0s 2ms/step - loss: 6.6403 - mae: 1.8473\n",
            "Epoch 865/1000\n",
            "13/13 [==============================] - 0s 2ms/step - loss: 6.6246 - mae: 1.8478\n",
            "Epoch 866/1000\n",
            "13/13 [==============================] - 0s 2ms/step - loss: 6.6312 - mae: 1.8515\n",
            "Epoch 867/1000\n",
            "13/13 [==============================] - 0s 3ms/step - loss: 6.6324 - mae: 1.8445\n",
            "Epoch 868/1000\n",
            "13/13 [==============================] - 0s 3ms/step - loss: 6.6214 - mae: 1.8417\n",
            "Epoch 869/1000\n",
            "13/13 [==============================] - 0s 2ms/step - loss: 6.6396 - mae: 1.8493\n",
            "Epoch 870/1000\n",
            "13/13 [==============================] - 0s 3ms/step - loss: 6.6150 - mae: 1.8484\n",
            "Epoch 871/1000\n",
            "13/13 [==============================] - 0s 3ms/step - loss: 6.6248 - mae: 1.8441\n",
            "Epoch 872/1000\n",
            "13/13 [==============================] - 0s 3ms/step - loss: 6.6182 - mae: 1.8419\n",
            "Epoch 873/1000\n",
            "13/13 [==============================] - 0s 3ms/step - loss: 6.6064 - mae: 1.8432\n",
            "Epoch 874/1000\n",
            "13/13 [==============================] - 0s 3ms/step - loss: 6.6119 - mae: 1.8426\n",
            "Epoch 875/1000\n",
            "13/13 [==============================] - 0s 3ms/step - loss: 6.6213 - mae: 1.8455\n",
            "Epoch 876/1000\n",
            "13/13 [==============================] - 0s 3ms/step - loss: 6.6211 - mae: 1.8480\n",
            "Epoch 877/1000\n",
            "13/13 [==============================] - 0s 3ms/step - loss: 6.6368 - mae: 1.8447\n",
            "Epoch 878/1000\n",
            "13/13 [==============================] - 0s 3ms/step - loss: 6.6322 - mae: 1.8415\n",
            "Epoch 879/1000\n",
            "13/13 [==============================] - 0s 3ms/step - loss: 6.5830 - mae: 1.8356\n",
            "Epoch 880/1000\n",
            "13/13 [==============================] - 0s 3ms/step - loss: 6.6785 - mae: 1.8577\n",
            "Epoch 881/1000\n",
            "13/13 [==============================] - 0s 3ms/step - loss: 6.5834 - mae: 1.8376\n",
            "Epoch 882/1000\n",
            "13/13 [==============================] - 0s 3ms/step - loss: 6.6336 - mae: 1.8431\n",
            "Epoch 883/1000\n",
            "13/13 [==============================] - 0s 3ms/step - loss: 6.6218 - mae: 1.8423\n",
            "Epoch 884/1000\n",
            "13/13 [==============================] - 0s 3ms/step - loss: 6.6052 - mae: 1.8424\n",
            "Epoch 885/1000\n",
            "13/13 [==============================] - 0s 3ms/step - loss: 6.6133 - mae: 1.8438\n",
            "Epoch 886/1000\n",
            "13/13 [==============================] - 0s 3ms/step - loss: 6.5898 - mae: 1.8386\n",
            "Epoch 887/1000\n",
            "13/13 [==============================] - 0s 3ms/step - loss: 6.6101 - mae: 1.8393\n",
            "Epoch 888/1000\n",
            "13/13 [==============================] - 0s 3ms/step - loss: 6.6142 - mae: 1.8437\n",
            "Epoch 889/1000\n",
            "13/13 [==============================] - 0s 3ms/step - loss: 6.6121 - mae: 1.8393\n",
            "Epoch 890/1000\n",
            "13/13 [==============================] - 0s 3ms/step - loss: 6.5914 - mae: 1.8412\n",
            "Epoch 891/1000\n",
            "13/13 [==============================] - 0s 3ms/step - loss: 6.5801 - mae: 1.8381\n",
            "Epoch 892/1000\n",
            "13/13 [==============================] - 0s 3ms/step - loss: 6.5885 - mae: 1.8416\n",
            "Epoch 893/1000\n",
            "13/13 [==============================] - 0s 3ms/step - loss: 6.5942 - mae: 1.8397\n",
            "Epoch 894/1000\n",
            "13/13 [==============================] - 0s 4ms/step - loss: 6.6314 - mae: 1.8429\n",
            "Epoch 895/1000\n",
            "13/13 [==============================] - 0s 3ms/step - loss: 6.6025 - mae: 1.8338\n",
            "Epoch 896/1000\n",
            "13/13 [==============================] - 0s 3ms/step - loss: 6.5960 - mae: 1.8378\n",
            "Epoch 897/1000\n",
            "13/13 [==============================] - 0s 3ms/step - loss: 6.5830 - mae: 1.8397\n",
            "Epoch 898/1000\n",
            "13/13 [==============================] - 0s 3ms/step - loss: 6.5844 - mae: 1.8384\n",
            "Epoch 899/1000\n",
            "13/13 [==============================] - 0s 3ms/step - loss: 6.5845 - mae: 1.8381\n",
            "Epoch 900/1000\n",
            "13/13 [==============================] - 0s 3ms/step - loss: 6.5792 - mae: 1.8352\n",
            "Epoch 901/1000\n",
            "13/13 [==============================] - 0s 3ms/step - loss: 6.5864 - mae: 1.8395\n",
            "Epoch 902/1000\n",
            "13/13 [==============================] - 0s 3ms/step - loss: 6.5854 - mae: 1.8379\n",
            "Epoch 903/1000\n",
            "13/13 [==============================] - 0s 3ms/step - loss: 6.5837 - mae: 1.8368\n",
            "Epoch 904/1000\n",
            "13/13 [==============================] - 0s 3ms/step - loss: 6.5922 - mae: 1.8351\n",
            "Epoch 905/1000\n",
            "13/13 [==============================] - 0s 3ms/step - loss: 6.6234 - mae: 1.8419\n",
            "Epoch 906/1000\n",
            "13/13 [==============================] - 0s 3ms/step - loss: 6.5918 - mae: 1.8392\n",
            "Epoch 907/1000\n",
            "13/13 [==============================] - 0s 3ms/step - loss: 6.5986 - mae: 1.8344\n",
            "Epoch 908/1000\n",
            "13/13 [==============================] - 0s 3ms/step - loss: 6.5872 - mae: 1.8358\n",
            "Epoch 909/1000\n",
            "13/13 [==============================] - 0s 3ms/step - loss: 6.5667 - mae: 1.8310\n",
            "Epoch 910/1000\n",
            "13/13 [==============================] - 0s 3ms/step - loss: 6.5775 - mae: 1.8362\n",
            "Epoch 911/1000\n",
            "13/13 [==============================] - 0s 3ms/step - loss: 6.5854 - mae: 1.8363\n",
            "Epoch 912/1000\n",
            "13/13 [==============================] - 0s 3ms/step - loss: 6.5825 - mae: 1.8369\n",
            "Epoch 913/1000\n",
            "13/13 [==============================] - 0s 3ms/step - loss: 6.5548 - mae: 1.8311\n",
            "Epoch 914/1000\n",
            "13/13 [==============================] - 0s 3ms/step - loss: 6.5812 - mae: 1.8353\n",
            "Epoch 915/1000\n",
            "13/13 [==============================] - 0s 3ms/step - loss: 6.5774 - mae: 1.8308\n",
            "Epoch 916/1000\n",
            "13/13 [==============================] - 0s 3ms/step - loss: 6.5539 - mae: 1.8290\n",
            "Epoch 917/1000\n",
            "13/13 [==============================] - 0s 3ms/step - loss: 6.5611 - mae: 1.8329\n",
            "Epoch 918/1000\n",
            "13/13 [==============================] - 0s 3ms/step - loss: 6.5585 - mae: 1.8384\n",
            "Epoch 919/1000\n",
            "13/13 [==============================] - 0s 3ms/step - loss: 6.5641 - mae: 1.8319\n",
            "Epoch 920/1000\n",
            "13/13 [==============================] - 0s 3ms/step - loss: 6.5528 - mae: 1.8299\n",
            "Epoch 921/1000\n",
            "13/13 [==============================] - 0s 3ms/step - loss: 6.5545 - mae: 1.8331\n",
            "Epoch 922/1000\n",
            "13/13 [==============================] - 0s 3ms/step - loss: 6.5817 - mae: 1.8354\n",
            "Epoch 923/1000\n",
            "13/13 [==============================] - 0s 3ms/step - loss: 6.5490 - mae: 1.8302\n",
            "Epoch 924/1000\n",
            "13/13 [==============================] - 0s 3ms/step - loss: 6.5803 - mae: 1.8343\n",
            "Epoch 925/1000\n",
            "13/13 [==============================] - 0s 3ms/step - loss: 6.5583 - mae: 1.8295\n",
            "Epoch 926/1000\n",
            "13/13 [==============================] - 0s 3ms/step - loss: 6.5458 - mae: 1.8294\n",
            "Epoch 927/1000\n",
            "13/13 [==============================] - 0s 3ms/step - loss: 6.5615 - mae: 1.8303\n",
            "Epoch 928/1000\n",
            "13/13 [==============================] - 0s 2ms/step - loss: 6.5460 - mae: 1.8320\n",
            "Epoch 929/1000\n",
            "13/13 [==============================] - 0s 3ms/step - loss: 6.5378 - mae: 1.8283\n",
            "Epoch 930/1000\n",
            "13/13 [==============================] - 0s 2ms/step - loss: 6.5384 - mae: 1.8266\n",
            "Epoch 931/1000\n",
            "13/13 [==============================] - 0s 3ms/step - loss: 6.5643 - mae: 1.8374\n",
            "Epoch 932/1000\n",
            "13/13 [==============================] - 0s 3ms/step - loss: 6.5407 - mae: 1.8280\n",
            "Epoch 933/1000\n",
            "13/13 [==============================] - 0s 2ms/step - loss: 6.5639 - mae: 1.8250\n",
            "Epoch 934/1000\n",
            "13/13 [==============================] - 0s 2ms/step - loss: 6.5557 - mae: 1.8289\n",
            "Epoch 935/1000\n",
            "13/13 [==============================] - 0s 3ms/step - loss: 6.5466 - mae: 1.8334\n",
            "Epoch 936/1000\n",
            "13/13 [==============================] - 0s 3ms/step - loss: 6.5778 - mae: 1.8247\n",
            "Epoch 937/1000\n",
            "13/13 [==============================] - 0s 3ms/step - loss: 6.5335 - mae: 1.8242\n",
            "Epoch 938/1000\n",
            "13/13 [==============================] - 0s 3ms/step - loss: 6.5398 - mae: 1.8330\n",
            "Epoch 939/1000\n",
            "13/13 [==============================] - 0s 2ms/step - loss: 6.5299 - mae: 1.8260\n",
            "Epoch 940/1000\n",
            "13/13 [==============================] - 0s 3ms/step - loss: 6.5559 - mae: 1.8249\n",
            "Epoch 941/1000\n",
            "13/13 [==============================] - 0s 3ms/step - loss: 6.5424 - mae: 1.8291\n",
            "Epoch 942/1000\n",
            "13/13 [==============================] - 0s 3ms/step - loss: 6.5323 - mae: 1.8273\n",
            "Epoch 943/1000\n",
            "13/13 [==============================] - 0s 3ms/step - loss: 6.5155 - mae: 1.8242\n",
            "Epoch 944/1000\n",
            "13/13 [==============================] - 0s 3ms/step - loss: 6.5216 - mae: 1.8256\n",
            "Epoch 945/1000\n",
            "13/13 [==============================] - 0s 3ms/step - loss: 6.5508 - mae: 1.8303\n",
            "Epoch 946/1000\n",
            "13/13 [==============================] - 0s 3ms/step - loss: 6.5267 - mae: 1.8227\n",
            "Epoch 947/1000\n",
            "13/13 [==============================] - 0s 3ms/step - loss: 6.5674 - mae: 1.8308\n",
            "Epoch 948/1000\n",
            "13/13 [==============================] - 0s 5ms/step - loss: 6.5412 - mae: 1.8287\n",
            "Epoch 949/1000\n",
            "13/13 [==============================] - 0s 3ms/step - loss: 6.5391 - mae: 1.8257\n",
            "Epoch 950/1000\n",
            "13/13 [==============================] - 0s 4ms/step - loss: 6.5185 - mae: 1.8212\n",
            "Epoch 951/1000\n",
            "13/13 [==============================] - 0s 3ms/step - loss: 6.5351 - mae: 1.8304\n",
            "Epoch 952/1000\n",
            "13/13 [==============================] - 0s 3ms/step - loss: 6.5481 - mae: 1.8259\n",
            "Epoch 953/1000\n",
            "13/13 [==============================] - 0s 3ms/step - loss: 6.5266 - mae: 1.8255\n",
            "Epoch 954/1000\n",
            "13/13 [==============================] - 0s 3ms/step - loss: 6.5141 - mae: 1.8175\n",
            "Epoch 955/1000\n",
            "13/13 [==============================] - 0s 3ms/step - loss: 6.5322 - mae: 1.8185\n",
            "Epoch 956/1000\n",
            "13/13 [==============================] - 0s 3ms/step - loss: 6.5139 - mae: 1.8179\n",
            "Epoch 957/1000\n",
            "13/13 [==============================] - 0s 3ms/step - loss: 6.5098 - mae: 1.8202\n",
            "Epoch 958/1000\n",
            "13/13 [==============================] - 0s 4ms/step - loss: 6.5155 - mae: 1.8170\n",
            "Epoch 959/1000\n",
            "13/13 [==============================] - 0s 4ms/step - loss: 6.5208 - mae: 1.8200\n",
            "Epoch 960/1000\n",
            "13/13 [==============================] - 0s 3ms/step - loss: 6.5074 - mae: 1.8246\n",
            "Epoch 961/1000\n",
            "13/13 [==============================] - 0s 3ms/step - loss: 6.5145 - mae: 1.8265\n",
            "Epoch 962/1000\n",
            "13/13 [==============================] - 0s 3ms/step - loss: 6.5697 - mae: 1.8267\n",
            "Epoch 963/1000\n",
            "13/13 [==============================] - 0s 3ms/step - loss: 6.5376 - mae: 1.8277\n",
            "Epoch 964/1000\n",
            "13/13 [==============================] - 0s 3ms/step - loss: 6.5149 - mae: 1.8277\n",
            "Epoch 965/1000\n",
            "13/13 [==============================] - 0s 3ms/step - loss: 6.5284 - mae: 1.8195\n",
            "Epoch 966/1000\n",
            "13/13 [==============================] - 0s 3ms/step - loss: 6.5621 - mae: 1.8353\n",
            "Epoch 967/1000\n",
            "13/13 [==============================] - 0s 3ms/step - loss: 6.5210 - mae: 1.8317\n",
            "Epoch 968/1000\n",
            "13/13 [==============================] - 0s 3ms/step - loss: 6.5184 - mae: 1.8206\n",
            "Epoch 969/1000\n",
            "13/13 [==============================] - 0s 3ms/step - loss: 6.5133 - mae: 1.8191\n",
            "Epoch 970/1000\n",
            "13/13 [==============================] - 0s 3ms/step - loss: 6.5233 - mae: 1.8261\n",
            "Epoch 971/1000\n",
            "13/13 [==============================] - 0s 3ms/step - loss: 6.4835 - mae: 1.8179\n",
            "Epoch 972/1000\n",
            "13/13 [==============================] - 0s 3ms/step - loss: 6.5172 - mae: 1.8139\n",
            "Epoch 973/1000\n",
            "13/13 [==============================] - 0s 3ms/step - loss: 6.4924 - mae: 1.8178\n",
            "Epoch 974/1000\n",
            "13/13 [==============================] - 0s 3ms/step - loss: 6.4958 - mae: 1.8269\n",
            "Epoch 975/1000\n",
            "13/13 [==============================] - 0s 3ms/step - loss: 6.4952 - mae: 1.8219\n",
            "Epoch 976/1000\n",
            "13/13 [==============================] - 0s 3ms/step - loss: 6.4766 - mae: 1.8140\n",
            "Epoch 977/1000\n",
            "13/13 [==============================] - 0s 4ms/step - loss: 6.4869 - mae: 1.8132\n",
            "Epoch 978/1000\n",
            "13/13 [==============================] - 0s 3ms/step - loss: 6.4871 - mae: 1.8170\n",
            "Epoch 979/1000\n",
            "13/13 [==============================] - 0s 3ms/step - loss: 6.5293 - mae: 1.8240\n",
            "Epoch 980/1000\n",
            "13/13 [==============================] - 0s 4ms/step - loss: 6.4963 - mae: 1.8170\n",
            "Epoch 981/1000\n",
            "13/13 [==============================] - 0s 3ms/step - loss: 6.4826 - mae: 1.8102\n",
            "Epoch 982/1000\n",
            "13/13 [==============================] - 0s 3ms/step - loss: 6.4826 - mae: 1.8171\n",
            "Epoch 983/1000\n",
            "13/13 [==============================] - 0s 3ms/step - loss: 6.4834 - mae: 1.8120\n",
            "Epoch 984/1000\n",
            "13/13 [==============================] - 0s 3ms/step - loss: 6.4954 - mae: 1.8177\n",
            "Epoch 985/1000\n",
            "13/13 [==============================] - 0s 3ms/step - loss: 6.4845 - mae: 1.8188\n",
            "Epoch 986/1000\n",
            "13/13 [==============================] - 0s 3ms/step - loss: 6.4846 - mae: 1.8163\n",
            "Epoch 987/1000\n",
            "13/13 [==============================] - 0s 3ms/step - loss: 6.4778 - mae: 1.8188\n",
            "Epoch 988/1000\n",
            "13/13 [==============================] - 0s 3ms/step - loss: 6.4813 - mae: 1.8099\n",
            "Epoch 989/1000\n",
            "13/13 [==============================] - 0s 3ms/step - loss: 6.4601 - mae: 1.8113\n",
            "Epoch 990/1000\n",
            "13/13 [==============================] - 0s 3ms/step - loss: 6.4819 - mae: 1.8144\n",
            "Epoch 991/1000\n",
            "13/13 [==============================] - 0s 3ms/step - loss: 6.4984 - mae: 1.8079\n",
            "Epoch 992/1000\n",
            "13/13 [==============================] - 0s 3ms/step - loss: 6.4658 - mae: 1.8098\n",
            "Epoch 993/1000\n",
            "13/13 [==============================] - 0s 3ms/step - loss: 6.4651 - mae: 1.8166\n",
            "Epoch 994/1000\n",
            "13/13 [==============================] - 0s 4ms/step - loss: 6.4562 - mae: 1.8119\n",
            "Epoch 995/1000\n",
            "13/13 [==============================] - 0s 4ms/step - loss: 6.4487 - mae: 1.8090\n",
            "Epoch 996/1000\n",
            "13/13 [==============================] - 0s 3ms/step - loss: 6.4455 - mae: 1.8050\n",
            "Epoch 997/1000\n",
            "13/13 [==============================] - 0s 3ms/step - loss: 6.4482 - mae: 1.8089\n",
            "Epoch 998/1000\n",
            "13/13 [==============================] - 0s 3ms/step - loss: 6.4658 - mae: 1.8132\n",
            "Epoch 999/1000\n",
            "13/13 [==============================] - 0s 3ms/step - loss: 6.4403 - mae: 1.8080\n",
            "Epoch 1000/1000\n",
            "13/13 [==============================] - 0s 3ms/step - loss: 6.4383 - mae: 1.8050\n"
          ]
        }
      ],
      "source": [
        "history = model.fit(\n",
        "    x_train_std,\n",
        "    y_train,\n",
        "    epochs=1000,\n",
        ")"
      ]
    },
    {
      "cell_type": "markdown",
      "metadata": {
        "id": "0xAXSo5-HCIo"
      },
      "source": [
        "### Avaliando o modelo treinado no conjunto de treinamento\n",
        "\n",
        "O método `evaluate` retorna uma **lista** com valores da função de erro e das métricas defindas durante a compilação do modelo."
      ]
    },
    {
      "cell_type": "code",
      "execution_count": 135,
      "metadata": {
        "id": "PXzMCGzVUuTx",
        "outputId": "14a99dc5-cc83-49c1-9296-49593ae5a4e5",
        "colab": {
          "base_uri": "https://localhost:8080/"
        }
      },
      "outputs": [
        {
          "output_type": "stream",
          "name": "stdout",
          "text": [
            "13/13 [==============================] - 0s 2ms/step - loss: 6.4132 - mae: 1.8047\n",
            "MSE no conjunto de treinamento: 6.4132\n",
            "MAE no conjunto de treinamento: 1.8047\n"
          ]
        }
      ],
      "source": [
        "train_eval = model.evaluate(x_train_std, y_train)\n",
        "\n",
        "print (\"MSE no conjunto de treinamento: {:.5}\".format(train_eval[0]))\n",
        "print (\"MAE no conjunto de treinamento: {:.5}\".format(train_eval[1]))"
      ]
    },
    {
      "cell_type": "markdown",
      "source": [
        "### Plotando os erros"
      ],
      "metadata": {
        "id": "e3_9dkS5knbd"
      }
    },
    {
      "cell_type": "code",
      "execution_count": 136,
      "metadata": {
        "id": "ShUfx2ZSCylX",
        "outputId": "2bf05d5d-7b14-4156-bf19-3615e03f8fff",
        "colab": {
          "base_uri": "https://localhost:8080/"
        }
      },
      "outputs": [
        {
          "output_type": "execute_result",
          "data": {
            "text/plain": [
              "dict_keys(['loss', 'mae'])"
            ]
          },
          "metadata": {},
          "execution_count": 136
        }
      ],
      "source": [
        "# Verificando os resultados disponíveis no dicionário.\n",
        "history.history.keys()"
      ]
    },
    {
      "cell_type": "code",
      "execution_count": 137,
      "metadata": {
        "id": "npIubpXaKl6u",
        "outputId": "b8320de8-1e6b-4f98-e2ba-a7620d2fdebd",
        "colab": {
          "base_uri": "https://localhost:8080/",
          "height": 474
        }
      },
      "outputs": [
        {
          "output_type": "display_data",
          "data": {
            "text/plain": [
              "<Figure size 640x480 with 1 Axes>"
            ],
            "image/png": "[encoded data removed]"
          },
          "metadata": {}
        }
      ],
      "source": [
        "plt.plot(history.history['loss'], label='MSE')\n",
        "plt.title('Erro do modelo')\n",
        "plt.ylabel('Erro')\n",
        "plt.xlabel('Época')\n",
        "plt.legend(loc='upper right')\n",
        "plt.grid()\n",
        "plt.show()"
      ]
    },
    {
      "cell_type": "code",
      "execution_count": 138,
      "metadata": {
        "id": "g6qHpwg8BpZi",
        "outputId": "c0029239-c3b0-4dd5-b33c-0a3081109296",
        "colab": {
          "base_uri": "https://localhost:8080/",
          "height": 474
        }
      },
      "outputs": [
        {
          "output_type": "display_data",
          "data": {
            "text/plain": [
              "<Figure size 640x480 with 1 Axes>"
            ],
            "image/png": "[encoded data removed]"
          },
          "metadata": {}
        }
      ],
      "source": [
        "plt.plot(history.history['mae'], label='MAE')\n",
        "plt.title('Erro do modelo')\n",
        "plt.ylabel('Erro em 1K de USD')\n",
        "plt.xlabel('Época')\n",
        "plt.legend(loc='upper right')\n",
        "plt.grid()\n",
        "plt.show()"
      ]
    },
    {
      "cell_type": "markdown",
      "metadata": {
        "id": "JYHTdEJVH0tZ"
      },
      "source": [
        "## Testando o modelo treinado no conjunto de teste\n",
        "### Medindo a capacidade de generalização\n",
        "\n"
      ]
    },
    {
      "cell_type": "code",
      "execution_count": 139,
      "metadata": {
        "id": "QBuJGqbSH6xT",
        "outputId": "9c0158ae-3678-4bc8-c753-512e9a14e776",
        "colab": {
          "base_uri": "https://localhost:8080/"
        }
      },
      "outputs": [
        {
          "output_type": "stream",
          "name": "stdout",
          "text": [
            "4/4 [==============================] - 0s 4ms/step - loss: 15.4711 - mae: 2.7530\n",
            "MSE no conjunto de teste: 15.471\n",
            "MAE no conjunto de teste: 2.753\n"
          ]
        }
      ],
      "source": [
        "test_eval = model.evaluate(x_test_std, y_test)\n",
        "\n",
        "print (\"MSE no conjunto de teste: {:.5}\".format(test_eval[0]))\n",
        "print (\"MAE no conjunto de teste: {:.5}\".format(test_eval[1]))"
      ]
    },
    {
      "cell_type": "markdown",
      "metadata": {
        "id": "we1LXnkDzbaS"
      },
      "source": [
        "O modelo tem um MAE de cerca de 2760 dólares, o que parecer ser um **erro médio** razoável para **estimar** o preço de uma casa."
      ]
    },
    {
      "cell_type": "markdown",
      "source": [
        "#### Comparando os 5 primeiros valores preditos com o esperados."
      ],
      "metadata": {
        "id": "5-3GpgoU2TUq"
      }
    },
    {
      "cell_type": "code",
      "execution_count": 140,
      "metadata": {
        "id": "tkaTLMaTIbIL",
        "outputId": "56a9854a-20af-416c-aa20-9883ecb1eb58",
        "colab": {
          "base_uri": "https://localhost:8080/"
        }
      },
      "outputs": [
        {
          "output_type": "stream",
          "name": "stdout",
          "text": [
            "4/4 [==============================] - 0s 3ms/step\n",
            "[[ 7.296834]\n",
            " [18.96468 ]\n",
            " [22.558468]\n",
            " [32.253067]\n",
            " [23.899185]]\n"
          ]
        }
      ],
      "source": [
        "y_hat = model.predict(x_test_std)\n",
        "\n",
        "print(y_hat[:5]) # obtém as predições para as 5 primeiras amostras do conjunto de teste"
      ]
    },
    {
      "cell_type": "code",
      "execution_count": 141,
      "metadata": {
        "id": "9p9buLk54A1W",
        "outputId": "9093c9ec-912f-4988-cda4-e2166d0025aa",
        "colab": {
          "base_uri": "https://localhost:8080/"
        }
      },
      "outputs": [
        {
          "output_type": "stream",
          "name": "stdout",
          "text": [
            "[ 7.2 18.8 19.  27.  22.2]\n"
          ]
        }
      ],
      "source": [
        "print(y_test[:5]) # obtém os valores esperados para as 5 primeiras amostras"
      ]
    },
    {
      "cell_type": "code",
      "execution_count": 142,
      "metadata": {
        "id": "ERuEyCmx4QHY",
        "outputId": "da9aaa8b-538f-44b7-cfa5-21431bfa1bb9",
        "colab": {
          "base_uri": "https://localhost:8080/",
          "height": 450
        }
      },
      "outputs": [
        {
          "output_type": "display_data",
          "data": {
            "text/plain": [
              "<Figure size 640x480 with 1 Axes>"
            ],
            "image/png": "[encoded data removed]"
          },
          "metadata": {}
        }
      ],
      "source": [
        "plt.hist(y_hat, label='Predições', color = 'b')\n",
        "plt.hist(y_test, label = 'Valores esperados', color = 'r', alpha=0.5)\n",
        "plt.xlabel('Preços em 1K dólares')\n",
        "plt.legend()\n",
        "plt.grid()\n",
        "plt.show()"
      ]
    },
    {
      "cell_type": "markdown",
      "source": [
        "Observando o histograma acima, vemos que as predições estão de certa forma similares aos valores esperados em grande parte do intervalo, mas que existem alguns erros em determinados intervalos."
      ],
      "metadata": {
        "id": "pDdL9hgK4TNo"
      }
    },
    {
      "cell_type": "markdown",
      "metadata": {
        "id": "RQgmjypmxaFP"
      },
      "source": [
        "## Fazendo inferências\n",
        "\n",
        "Vamos utilizar um valor totalmente inédito (valores chutados).\n",
        "\n",
        "O objetivo final da criação de um modelo de regressão é fazer inferências, ou seja, utilizá-los com dados totalmente inéditos."
      ]
    },
    {
      "cell_type": "code",
      "execution_count": 143,
      "metadata": {
        "id": "EIior9FBvdcs",
        "outputId": "a8f4ffe9-73e9-4371-f12f-b013e4a4f13c",
        "colab": {
          "base_uri": "https://localhost:8080/"
        }
      },
      "outputs": [
        {
          "output_type": "execute_result",
          "data": {
            "text/plain": [
              "(13,)"
            ]
          },
          "metadata": {},
          "execution_count": 143
        }
      ],
      "source": [
        "xt = np.array([1.1, 0., 9., 0., 0.6, 7., 92., 3.8 , 4., 300., 21., 200, 19.5])\n",
        "xt.shape"
      ]
    },
    {
      "cell_type": "markdown",
      "source": [
        "Vejamos as dimensões do conjunto de treinamento (isso é válido para o te teste também).\n",
        "\n",
        "Cada **linha** é um exemplo de entrada para o modelo. Portanto, o modelo espera vetores linha com 13 colunas como entrada."
      ],
      "metadata": {
        "id": "t1FU2mXS53Vl"
      }
    },
    {
      "cell_type": "code",
      "execution_count": 144,
      "metadata": {
        "id": "Vp2mV37ZyOXE",
        "outputId": "1d7b5c1a-1788-4e89-f55a-b047c09f8d4f",
        "colab": {
          "base_uri": "https://localhost:8080/"
        }
      },
      "outputs": [
        {
          "output_type": "execute_result",
          "data": {
            "text/plain": [
              "(404, 13)"
            ]
          },
          "metadata": {},
          "execution_count": 144
        }
      ],
      "source": [
        "x_train.shape"
      ]
    },
    {
      "cell_type": "markdown",
      "source": [
        "Desta forma, precisamos fazer um **reshape** do novo vetor de atributos, pois o modelo espera vetores **linha**, ou seja, com dimensão $1 \\times 13$."
      ],
      "metadata": {
        "id": "ulJtk7lu5kfc"
      }
    },
    {
      "cell_type": "code",
      "execution_count": 145,
      "metadata": {
        "id": "2qp7KDtgyz8g",
        "outputId": "1883e092-6787-4758-e885-b503d11da692",
        "colab": {
          "base_uri": "https://localhost:8080/"
        }
      },
      "outputs": [
        {
          "output_type": "execute_result",
          "data": {
            "text/plain": [
              "(1, 13)"
            ]
          },
          "metadata": {},
          "execution_count": 145
        }
      ],
      "source": [
        "xt = np.reshape(xt, (1, 13))\n",
        "xt.shape"
      ]
    },
    {
      "cell_type": "markdown",
      "source": [
        "Em seguida, padronizamos o novo dado.\n",
        "\n",
        "**Observações**.:\n",
        "\n",
        "+ Como treinamos o modelos com dados escalonados, o escalonamento (padronização, normalização, etc.) deve sempre aplicada a qualquer novo dado.\n",
        "+ Percebam que usamos o mesmo objeto `scaler` usado para escalonar os dados de treinamento e teste."
      ],
      "metadata": {
        "id": "25p2xwCD6RF2"
      }
    },
    {
      "cell_type": "code",
      "execution_count": 146,
      "metadata": {
        "id": "XDlArmS2xfuR",
        "outputId": "f38f251c-4b0d-4d72-cadd-d24ef5478271",
        "colab": {
          "base_uri": "https://localhost:8080/"
        }
      },
      "outputs": [
        {
          "output_type": "stream",
          "name": "stdout",
          "text": [
            "[[-0.28659955 -0.48361547 -0.30934443 -0.25683275  0.36401915  1.03386853\n",
            "   0.82381223  0.02945662 -0.62624905 -0.63729594  1.14850044 -1.64672402\n",
            "   0.93287232]]\n"
          ]
        }
      ],
      "source": [
        "xt_norm = scaler.transform(xt)\n",
        "\n",
        "print(xt_norm)"
      ]
    },
    {
      "cell_type": "markdown",
      "source": [
        "Ao final, relizamos a predição, ou seja, a estimativa do preço da casa."
      ],
      "metadata": {
        "id": "7sUjU-kS6oOe"
      }
    },
    {
      "cell_type": "code",
      "execution_count": 147,
      "metadata": {
        "id": "fHbXuOGkzJ-n",
        "outputId": "1407f34c-6e36-46d0-b733-c4e0933074e4",
        "colab": {
          "base_uri": "https://localhost:8080/"
        }
      },
      "outputs": [
        {
          "output_type": "stream",
          "name": "stdout",
          "text": [
            "1/1 [==============================] - 0s 36ms/step\n",
            "[[16.005367]]\n",
            "(1, 1)\n"
          ]
        }
      ],
      "source": [
        "yt = model.predict(xt_norm)\n",
        "\n",
        "print(yt)\n",
        "print(yt.shape)"
      ]
    },
    {
      "cell_type": "code",
      "execution_count": 148,
      "metadata": {
        "id": "lfb5RGKT0rs3",
        "outputId": "b0aefec2-e007-48c6-8c34-698533edbdc2",
        "colab": {
          "base_uri": "https://localhost:8080/"
        }
      },
      "outputs": [
        {
          "output_type": "stream",
          "name": "stdout",
          "text": [
            "O valor estimado para esta casa é de 16.01 mil dólares\n"
          ]
        }
      ],
      "source": [
        "print(\"O valor estimado para esta casa é de {:.2f} mil dólares\".format(yt[0][0]))"
      ]
    },
    {
      "cell_type": "markdown",
      "metadata": {
        "id": "RUNbBC_FgcWZ"
      },
      "source": [
        "## Encontrando os melhores hiperparâmetros\n",
        "\n",
        "Para realizar a otimização hiperparamétrica, usaremos o KerasTuner.\n",
        "\n",
        "O KerasTuner é um *framework* de otimização de hiperparâmetros escalável e fácil de usar que automatiza a busca pelos hiperparâmetros ótimos.\n",
        "\n",
        "Ele implementa por padrão técnicas de otimização bayesiana, hiperband e busca aleatória. Outras técnicas podem ser criadas e usadas com ele.\n",
        "\n",
        "Para mais informações, veja [KerasTuner](https://keras.io/keras_tuner/)\n"
      ]
    },
    {
      "cell_type": "code",
      "execution_count": 149,
      "metadata": {
        "id": "dql5K0r9gU1F",
        "colab": {
          "base_uri": "https://localhost:8080/"
        },
        "outputId": "ef4ea931-7561-446d-e782-a4f8f4131995"
      },
      "outputs": [
        {
          "output_type": "stream",
          "name": "stdout",
          "text": [
            "Requirement already satisfied: keras-tuner in /usr/local/lib/python3.10/dist-packages (1.3.5)\n",
            "Requirement already satisfied: packaging in /usr/local/lib/python3.10/dist-packages (from keras-tuner) (23.1)\n",
            "Requirement already satisfied: requests in /usr/local/lib/python3.10/dist-packages (from keras-tuner) (2.31.0)\n",
            "Requirement already satisfied: kt-legacy in /usr/local/lib/python3.10/dist-packages (from keras-tuner) (1.0.5)\n",
            "Requirement already satisfied: charset-normalizer<4,>=2 in /usr/local/lib/python3.10/dist-packages (from requests->keras-tuner) (3.2.0)\n",
            "Requirement already satisfied: idna<4,>=2.5 in /usr/local/lib/python3.10/dist-packages (from requests->keras-tuner) (3.4)\n",
            "Requirement already satisfied: urllib3<3,>=1.21.1 in /usr/local/lib/python3.10/dist-packages (from requests->keras-tuner) (1.26.16)\n",
            "Requirement already satisfied: certifi>=2017.4.17 in /usr/local/lib/python3.10/dist-packages (from requests->keras-tuner) (2023.7.22)\n"
          ]
        }
      ],
      "source": [
        "# Instalando o KerasTuner.\n",
        "!pip install keras-tuner --upgrade"
      ]
    },
    {
      "cell_type": "code",
      "execution_count": 150,
      "metadata": {
        "id": "AP1tw9u9g5Uf"
      },
      "outputs": [],
      "source": [
        "# Importanda a biblioteca KerasTuner.\n",
        "import keras_tuner as kt"
      ]
    },
    {
      "cell_type": "markdown",
      "metadata": {
        "id": "5UHfySq-hJHo"
      },
      "source": [
        "Para realizar a otimização hiperparamétrica com o KerasTuner, precisamos definir uma função que cria e retorna um modelo do TensorFlow.\n",
        "\n",
        "A função precisa ter um argumento, por exemplo, chamado `hp`, que será usado para definir os hiperparâmetros durante a criação do modelo.\n",
        "\n",
        "O argumento de entrada da função é um objeto da classe `HyperParameters`, o qual possui alguns métodos, entre eles o `Choice`, que escolhe um valor entre um conjunto predefinido de valores possíveis (por exemplo, de uma lista).\n",
        "\n",
        "Para uma lista com todos os outros métodos da classe `HyperParameters`, veja [hyperparameters](https://keras.io/api/keras_tuner/hyperparameters/)\n",
        "\n",
        "No código abaixo, testamos alguns valores para a quantidade de neurônios da camada oculta."
      ]
    },
    {
      "cell_type": "code",
      "execution_count": 151,
      "metadata": {
        "id": "qbvjlmNdhBn6"
      },
      "outputs": [],
      "source": [
        "def build_model(hp):\n",
        "\n",
        "  # Cria o modelo sequêncial.\n",
        "  model = tf.keras.Sequential()\n",
        "\n",
        "  # Adiciona a camada oculta.\n",
        "  model.add(\n",
        "      tf.keras.layers.Dense(\n",
        "          hp.Choice('units', [10, 20, 30]),\n",
        "          activation='relu')\n",
        "  )\n",
        "\n",
        "  # Adiciona a camada de saída.\n",
        "  model.add(tf.keras.layers.Dense(1))\n",
        "\n",
        "  # Compila o modelo.\n",
        "  model.compile(optimizer='adam', loss='mse')\n",
        "\n",
        "  # Retorna o modelo.\n",
        "  return model"
      ]
    },
    {
      "cell_type": "markdown",
      "metadata": {
        "id": "lsNpzZpeh2Hi"
      },
      "source": [
        "A biblioteca disponibiliza várias classes de otimizadores hiperparamétricos, mas neste exemplo, usaremos um dos mais simples, que é o `RandomSearch`, que como o próprio nome diz, faz uma busca aleatória pelos melhores valores.\n",
        "\n",
        "Outros otimizadores podem ser encontrados em [Tuners](https://keras.io/api/keras_tuner/tuners/).\n",
        "\n",
        "Durante a criação do objeto da classe `RandomSearch`, nós passamos a função que cria o modelo, definimos um `objective`, que neste caso é a minimização do erro de validação, `val_loss`, e, opcionalmente, pode-se definir o número máximo de tentativas, ou seja, de conjuntos de valores diferentes a serem testados, através do parâmetro `max_trials`."
      ]
    },
    {
      "cell_type": "code",
      "execution_count": 152,
      "metadata": {
        "id": "zufG9sUjh1xV"
      },
      "outputs": [],
      "source": [
        "# Instanciando um objeto da classe RandomSearch.\n",
        "tuner = kt.RandomSearch(\n",
        "    build_model,\n",
        "    objective='val_loss'\n",
        ")"
      ]
    },
    {
      "cell_type": "markdown",
      "metadata": {
        "id": "wN6Ci84OiFaZ"
      },
      "source": [
        "#### Fazendo a busca pelo melhor modelo.\n",
        "\n",
        "O método `search` faz a busca pelo melhor conjunto de hiperparâmetros.\n",
        "\n",
        "Passamos para ele os conjuntos de treinamento e validação e definimos o número de épocas em que cada modelo (conjunto de hiperparâmetros) será treinado"
      ]
    },
    {
      "cell_type": "code",
      "execution_count": 153,
      "metadata": {
        "id": "WnkdoSzLiJUY"
      },
      "outputs": [],
      "source": [
        "tuner.search(\n",
        "    x_train_std, y_train,\n",
        "    epochs=500,\n",
        "    validation_data=(x_test_std, y_test)\n",
        ")"
      ]
    },
    {
      "cell_type": "markdown",
      "source": [
        "Obtendo os melhores hiperparâmetros."
      ],
      "metadata": {
        "id": "BAW8ju2Jlk8I"
      }
    },
    {
      "cell_type": "code",
      "source": [
        "best_hps  = tuner.get_best_hyperparameters()[0]\n",
        "\n",
        "print(f\"\"\"\n",
        "A pesquisa de hiperparâmetros foi concluída. O número ideal de neurônios na camada oculta é {best_hps.get('units')}.\n",
        "\"\"\")"
      ],
      "metadata": {
        "colab": {
          "base_uri": "https://localhost:8080/"
        },
        "id": "xRAptdj9kaa9",
        "outputId": "ebc88c29-32af-412c-b1be-4418363f68c9"
      },
      "execution_count": 154,
      "outputs": [
        {
          "output_type": "stream",
          "name": "stdout",
          "text": [
            "\n",
            "A pesquisa de hiperparâmetros foi concluída. O número ideal de neurônios na camada oculta é 20.\n",
            "\n"
          ]
        }
      ]
    },
    {
      "cell_type": "markdown",
      "source": [
        "Obtendo o melhor modelo."
      ],
      "metadata": {
        "id": "oe_YaLMYkKrJ"
      }
    },
    {
      "cell_type": "code",
      "source": [
        "best_model = tuner.get_best_models()[0]"
      ],
      "metadata": {
        "id": "AQbHedAtsipY"
      },
      "execution_count": 155,
      "outputs": []
    },
    {
      "cell_type": "markdown",
      "source": [
        "Podemos imprimir um resumo do espaço de busca com o método `search_space_summary()`."
      ],
      "metadata": {
        "id": "7EquHI3ijAyW"
      }
    },
    {
      "cell_type": "code",
      "execution_count": 156,
      "metadata": {
        "id": "70gOV5Idme4w",
        "outputId": "a3d2cf37-d4fa-4bc4-f0cb-c79ab0ba5d4f",
        "colab": {
          "base_uri": "https://localhost:8080/"
        }
      },
      "outputs": [
        {
          "output_type": "stream",
          "name": "stdout",
          "text": [
            "Search space summary\n",
            "Default search space size: 1\n",
            "units (Choice)\n",
            "{'default': 10, 'conditions': [], 'values': [10, 20, 30], 'ordered': True}\n"
          ]
        }
      ],
      "source": [
        "tuner.search_space_summary()"
      ]
    },
    {
      "cell_type": "markdown",
      "source": [
        "Podemos também imprimir um resumo dos resultados da busca com o método `results_summary()`.\n",
        "\n",
        "**Observação**\n",
        "\n",
        "+ O `score` é baseado no `loss` configurado no método `compile` do modelo.\n",
        "+ Assim, no caso abaixo, o `score` é o MSE e, portanto, quanto menor o `score`, melhor o modelo."
      ],
      "metadata": {
        "id": "hl9aW5--ji1l"
      }
    },
    {
      "cell_type": "code",
      "execution_count": 157,
      "metadata": {
        "id": "zcF6Ogb_mtYW",
        "outputId": "5ce7d238-f060-404f-f4cd-fa540df282c8",
        "colab": {
          "base_uri": "https://localhost:8080/"
        }
      },
      "outputs": [
        {
          "output_type": "stream",
          "name": "stdout",
          "text": [
            "Results summary\n",
            "Results in ./untitled_project\n",
            "Showing 10 best trials\n",
            "Objective(name=\"val_loss\", direction=\"min\")\n",
            "\n",
            "Trial 0 summary\n",
            "Hyperparameters:\n",
            "units: 20\n",
            "Score: 17.91876792907715\n",
            "\n",
            "Trial 2 summary\n",
            "Hyperparameters:\n",
            "units: 30\n",
            "Score: 18.493206024169922\n",
            "\n",
            "Trial 1 summary\n",
            "Hyperparameters:\n",
            "units: 10\n",
            "Score: 21.48969841003418\n"
          ]
        }
      ],
      "source": [
        "tuner.results_summary()"
      ]
    }
  ],
  "metadata": {
    "colab": {
      "provenance": []
    },
    "kernelspec": {
      "display_name": "Python 3",
      "name": "python3"
    },
    "language_info": {
      "name": "python"
    }
  },
  "nbformat": 4,
  "nbformat_minor": 0
}