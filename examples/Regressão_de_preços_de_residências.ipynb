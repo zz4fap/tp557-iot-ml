{
 "cells": [
  {
   "cell_type": "markdown",
   "metadata": {
    "id": "Zo2JiEtkzvQL"
   },
   "source": [
    "# Regressão de preços de residências usando redes neurais densas (DNNs)\n"
   ]
  },
  {
   "cell_type": "markdown",
   "metadata": {
    "id": "z56YN3JZ0Duh"
   },
   "source": [
    "## Importando as bibliotecas"
   ]
  },
  {
   "cell_type": "code",
   "execution_count": 1,
   "metadata": {
    "id": "YfPnR74Gzc_q"
   },
   "outputs": [],
   "source": [
    "import numpy as np\n",
    "import matplotlib.pyplot as plt\n",
    "import tensorflow as tf"
   ]
  },
  {
   "cell_type": "markdown",
   "metadata": {
    "id": "xrGLDV6q0PCc"
   },
   "source": [
    "## A base de dados\n",
    "\n",
    "Neste exemplo, utilizaremos uma rede neural para aproximar o conjunto de dados do Boston Housing e predizer o custo médio de uma casa em uma área de Boston.\n",
    "\n",
    "Esta base de dados contém **informações do censo dos EUA relativos aos preços de residências** em diferentes locais nos subúrbios de Boston **no final dos anos 1970**.\n",
    "\n",
    "**A base possui 506 exemplos e 13 atributos numéricos** (atributos $x_i$ com $i$ variando de 1 a 13). \n",
    "\n",
    "O **décimo quarto atributo** (i.e., MEDV: Median value of owner-occupied homes in USD 1000's) é considerado como sendo o **rótulo**, ou seja, o valor que queremos predizer com o modelo.\n",
    "\n",
    "A descrição das informações contidas no banco de dados segue abaixo.\n",
    "\n",
    "| Attribute |                              Description                              |\n",
    "|:---------:|:---------------------------------------------------------------------:|\n",
    "|    CRIM   |                     per capita crime rate by town                     |\n",
    "|     ZN    |    proportion of residential land zoned for lots over 25,000 sq.ft.   |\n",
    "|   INDUS   |            proportion of non-retail business acres per town           |\n",
    "|    CHAS   | Charles River dummy variable (= 1 if tract bounds river; 0 otherwise) |\n",
    "|    NOX    |           nitric oxides concentration (parts per 10 million)          |\n",
    "|     RM    |                  average number of rooms per dwelling                 |\n",
    "|    AGE    |         proportion of owner-occupied units built prior to 1940        |\n",
    "|    DIS    |          weighted distances to five Boston employment centres         |\n",
    "|    RAD    |               index of accessibility to radial highways               |\n",
    "|    TAX    |                full-value property-tax rate per USD 10.000               |\n",
    "|  PTRATIO  |                      pupil-teacher ratio by town                      |\n",
    "|     B     |  1000(Bk - 0.63)^2 where Bk is the proportion of black people by town |\n",
    "|   LSTAT   |                     lower status of the population                    |\n",
    "|    MEDV   |            Median value of owner-occupied homes in USD 1000's            |\n",
    "\n",
    "\n",
    "### Objetivo\n",
    "\n",
    "O objetivo é treinar um modelo de regressão que prediga o valor médio das casas naquela área usando os 13 atributos fornecidos.\n",
    "\n",
    "\n",
    "**Observação**\n",
    "\n",
    "A base de dados do Boston Housing é um das várias bases de dados disponibilizadas pela biblioteca TensorFlow.\n",
    "\n",
    "Outras bases de dados estão disponíveis em [TF datasets](https://www.tensorflow.org/api_docs/python/tf/keras/datasets)."
   ]
  },
  {
   "cell_type": "markdown",
   "metadata": {
    "id": "fyf8lZNuF0nz"
   },
   "source": [
    "## Baixando a base de dados\n",
    "\n",
    "Usamos a função `load_data()` do módulo `datasets` do TensorFlow para baixar a base de dados.\n",
    "\n",
    "A função **divide o conjunto total de dados em conjuntos de treinamento e teste**. \n",
    "\n",
    "Por padrão, ela separa 80% do total para treinamento e 20% para testes.\n",
    "\n",
    "Como o próprio nome já diz, o **conjunto de treinamento** é usado para treinar o modelo.\n",
    "\n",
    "Já o **conjunto de teste** é usado para medir a **capacidade de generalização do modelo**, pois ele **não é usado durante o treinamento**."
   ]
  },
  {
   "cell_type": "code",
   "execution_count": 2,
   "metadata": {
    "id": "Ib2Ihepx0N6h"
   },
   "outputs": [],
   "source": [
    "(x_train, y_train), (x_test, y_test) = tf.keras.datasets.boston_housing.load_data()"
   ]
  },
  {
   "cell_type": "markdown",
   "metadata": {
    "id": "2d6pGhBxFu95"
   },
   "source": [
    "### Dimensões dos conjuntos de treinamento e teste.\n",
    "\n",
    "As arrays Numpy têm um atributo `shape`, o qual retorna uma *tupla* com as dimensões das arrays."
   ]
  },
  {
   "cell_type": "code",
   "execution_count": 3,
   "metadata": {
    "colab": {
     "base_uri": "https://localhost:8080/"
    },
    "id": "pq1bMIRd38b8",
    "outputId": "2957b4dd-83b8-4a3d-a49f-f19488681fcc"
   },
   "outputs": [
    {
     "name": "stdout",
     "output_type": "stream",
     "text": [
      "(404, 13)\n",
      "(404,)\n"
     ]
    }
   ],
   "source": [
    "print(x_train.shape)\n",
    "print(y_train.shape)"
   ]
  },
  {
   "cell_type": "code",
   "execution_count": 4,
   "metadata": {
    "colab": {
     "base_uri": "https://localhost:8080/"
    },
    "id": "qHaUYnSs4bq4",
    "outputId": "a0bfa28a-986b-42a0-eb5d-d6d612e80786"
   },
   "outputs": [
    {
     "name": "stdout",
     "output_type": "stream",
     "text": [
      "(102, 13)\n",
      "(102,)\n"
     ]
    }
   ],
   "source": [
    "print(x_test.shape)\n",
    "print(y_test.shape)"
   ]
  },
  {
   "cell_type": "markdown",
   "metadata": {},
   "source": [
    "## Análise exploratória dos dados"
   ]
  },
  {
   "cell_type": "markdown",
   "metadata": {
    "id": "44ENgGg2Qudp"
   },
   "source": [
    "### Explorando os rótulos ($y$)"
   ]
  },
  {
   "cell_type": "code",
   "execution_count": 5,
   "metadata": {
    "colab": {
     "base_uri": "https://localhost:8080/"
    },
    "id": "82O77YHNybhA",
    "outputId": "d77f3a76-6ac4-4a71-a3c0-2b878cebd32b"
   },
   "outputs": [
    {
     "name": "stdout",
     "output_type": "stream",
     "text": [
      "Preço mín. em 1K de USD:  5.0\n",
      "Preço médio em 1K de USD:  22.4\n",
      "Preço máx. em 1K de USD:  50.0\n"
     ]
    }
   ],
   "source": [
    "print('Preço mín. em 1K de USD: ',  y_train.min())\n",
    "print('Preço médio em 1K de USD: ', round(y_train.mean(), 2))\n",
    "print('Preço máx. em 1K de USD: ',  y_train.max())"
   ]
  },
  {
   "cell_type": "markdown",
   "metadata": {
    "id": "YntJY4qbGY83"
   },
   "source": [
    "#### Plotando o histograma dos rótulos"
   ]
  },
  {
   "cell_type": "code",
   "execution_count": 6,
   "metadata": {
    "colab": {
     "base_uri": "https://localhost:8080/",
     "height": 453
    },
    "id": "1SCj8H9rysOM",
    "outputId": "7b5778b2-5b69-4ccc-f3de-2bf40083a3bd"
   },
   "outputs": [
    {
     "data": {
      "image/png": "[encoded data removed]",
      "text/plain": [
       "<Figure size 640x480 with 1 Axes>"
      ]
     },
     "metadata": {},
     "output_type": "display_data"
    }
   ],
   "source": [
    "plt.hist(y_train, label='train', bins=20)\n",
    "plt.hist(y_test, label = 'test', bins=20)\n",
    "plt.xlabel('Preço em K$')\n",
    "plt.grid()\n",
    "plt.legend()\n",
    "plt.show()"
   ]
  },
  {
   "cell_type": "markdown",
   "metadata": {
    "id": "y-rucFopR7-H"
   },
   "source": [
    "**Observação**\n",
    "\n",
    "Vejam que os rótulos de teste têm uma **distribuição similar** aos de treinamento, tendo apenas uma quantidade menor."
   ]
  },
  {
   "cell_type": "markdown",
   "metadata": {
    "id": "_M47lzg7z3vI"
   },
   "source": [
    "### Explorando os atributos ($x_i, \\forall i \\in {1, ..., 13}$)"
   ]
  },
  {
   "cell_type": "markdown",
   "metadata": {
    "id": "7UscKMDdGkcB"
   },
   "source": [
    "#### Verificando o intervalo de valores de cada um dos 13 atributos."
   ]
  },
  {
   "cell_type": "code",
   "execution_count": 7,
   "metadata": {
    "colab": {
     "base_uri": "https://localhost:8080/"
    },
    "id": "sgy3E-Y7D__F",
    "outputId": "fab1f206-752f-4710-fffe-aabaf1d0d544"
   },
   "outputs": [
    {
     "name": "stdout",
     "output_type": "stream",
     "text": [
      "Atributo 1 ==> varia de 0.00632 a 88.9762\n",
      "Atributo 2 ==> varia de 0.0 a 100.0\n",
      "Atributo 3 ==> varia de 0.46 a 27.74\n",
      "Atributo 4 ==> varia de 0.0 a 1.0\n",
      "Atributo 5 ==> varia de 0.385 a 0.871\n",
      "Atributo 6 ==> varia de 3.561 a 8.725\n",
      "Atributo 7 ==> varia de 2.9 a 100.0\n",
      "Atributo 8 ==> varia de 1.1296 a 10.7103\n",
      "Atributo 9 ==> varia de 1.0 a 24.0\n",
      "Atributo 10 ==> varia de 188.0 a 711.0\n",
      "Atributo 11 ==> varia de 12.6 a 22.0\n",
      "Atributo 12 ==> varia de 0.32 a 396.9\n",
      "Atributo 13 ==> varia de 1.73 a 37.97\n"
     ]
    }
   ],
   "source": [
    "for i in range(len(x_train[0])):\n",
    "    print(\"Atributo {} ==> varia de {} a {}\".format(\n",
    "      i+1, x_train[:,i].min(), x_train[:,i].max()\n",
    "      )\n",
    "  )"
   ]
  },
  {
   "cell_type": "markdown",
   "metadata": {},
   "source": [
    "**Observação**\n",
    "\n",
    "+ Percebam que os atributos têm intervalos bastante diferentes.\n",
    "\n",
    "+ As diferenças nos intervalos dos atributos podem afetar **negativamente** o desempenho do modelo."
   ]
  },
  {
   "cell_type": "markdown",
   "metadata": {
    "id": "zydqdnphG1V_"
   },
   "source": [
    "#### Plotando os histogramas dos atributos"
   ]
  },
  {
   "cell_type": "code",
   "execution_count": 8,
   "metadata": {
    "colab": {
     "base_uri": "https://localhost:8080/",
     "height": 1000
    },
    "id": "DGLqc-E4rkCG",
    "outputId": "5d8398cf-de71-432b-d0a4-1bfcb6155a45"
   },
   "outputs": [
    {
     "data": {
      "text/plain": [
       "array([[<Axes: title={'center': 'CRIM'}>, <Axes: title={'center': 'ZN'}>,\n",
       "        <Axes: title={'center': 'INDUS'}>,\n",
       "        <Axes: title={'center': 'CHAS'}>],\n",
       "       [<Axes: title={'center': 'NOX'}>, <Axes: title={'center': 'RM'}>,\n",
       "        <Axes: title={'center': 'AGE'}>, <Axes: title={'center': 'DIS'}>],\n",
       "       [<Axes: title={'center': 'RAD'}>, <Axes: title={'center': 'TAX'}>,\n",
       "        <Axes: title={'center': 'PTRATIO'}>,\n",
       "        <Axes: title={'center': 'B'}>],\n",
       "       [<Axes: title={'center': 'LSTAT'}>, <Axes: >, <Axes: >, <Axes: >]],\n",
       "      dtype=object)"
      ]
     },
     "execution_count": 8,
     "metadata": {},
     "output_type": "execute_result"
    },
    {
     "data": {
      "image/png": "[encoded data removed]",
      "text/plain": [
       "<Figure size 1600x2000 with 16 Axes>"
      ]
     },
     "metadata": {},
     "output_type": "display_data"
    }
   ],
   "source": [
    "# Biblioteca para análise e manipulação de dados.\n",
    "import pandas as pd\n",
    "\n",
    "# Concatena os dois conjuntos em apenas um.\n",
    "x = np.vstack([x_train, x_test])\n",
    "\n",
    "# Cria um objeto do tipo DataFrame.\n",
    "df = pd.DataFrame(x, columns=['CRIM','ZN','INDUS','CHAS','NOX','RM','AGE','DIS','RAD','TAX','PTRATIO','B','LSTAT'])\n",
    "\n",
    "# Plota os histogramas de todos os atributos.\n",
    "df.hist(figsize=(16, 20), xlabelsize=8, ylabelsize=8)"
   ]
  },
  {
   "cell_type": "markdown",
   "metadata": {
    "id": "0-H0LwB_7von"
   },
   "source": [
    "### Pré-processamento dos dados\n",
    "\n",
    "Como percebemos, os atributos têm diferentes intervalos de valores.\n",
    "\n",
    "Quando os atributos têm intervalos de valores muito diferentes, os modelos de aprendizado de máquina, podem ser afetados com\n",
    "\n",
    "  + **Influência desproporcional**: Atributos com **intervalos maiores** podem ter uma **influência desproporcional sobre o processo de aprendizado**, levando o **modelo a dar mais importância a esses atributos** e menos importância aos atributos com intervalos menores.\n",
    "  <br/>\n",
    "\n",
    "  + **Dificuldade de convergência**: Algoritmos de otimização, como o **gradiente descendente**, podem ter **dificuldade em convergir rapidamente quando os atributos têm escalas muito diferentes**. Isso pode resultar em um treinamento mais lento ou até mesmo na não convergência do modelo.\n",
    "\n",
    "Uma forma de resolver ou mitigar estes problemas é através do **escalonamento dos atributos**.\n",
    "\n",
    "O **escalonamento** de dados serve para garantir que os atributos **estejam em uma escala compatível e comparável**, melhorando assim o desempenho e a eficácia de muitos algoritmos de aprendizado.\n",
    "\n",
    "Existem duas formas comuns de escalonamento que podem ser aplicadas aos atributos em um conjunto de dados:\n",
    "\n",
    "+ **Normalização**: os valores dos atributos são transformados para um intervalo entre 0 e 1. A normalização de cada amostra, $x_i[n]$, do conjunto é feita da seguinte forma:\n",
    "$$z_i[n] = \\frac{x_i[n] - \\min{x_i}}{\\max{x_i}-\\min{x_i}}, \\forall i \\in [1, ..., K]\\;\\;\\ \\text{e} \\;\\;\\ n \\in [0, ..., N-1],$$\n",
    "onde $\\min{x_i}$ e $\\max{x_i}$ são os valores mínimo e máximo do $i$-ésimo atributo do conjunto de treinamento, respectivamente.\n",
    "<br/>\n",
    "\n",
    "+ **Padronização**: os valores dos atributos são transformados para terem uma média igual a 0 e um desvio padrão igual a 1. A padronização de cada amostra, $x_i[n]$, do conjunto é feita da seguinte forma:\n",
    "$$z_i[n] = \\frac{x_i[n] - \\mu_{x_i}}{\\sigma_{x_i}}, \\forall i \\in [1, ..., K]\\;\\;\\ \\text{e} \\;\\;\\ n \\in [0, ..., N-1]$$\n",
    "onde $\\mu_{x_i}$ e $\\sigma_{x_i}$ são a média e o desvio padrão das amostras do $i$-ésimo atributo do conjunto de treinamento, respectivamente.\n",
    "\n",
    "**Observações**\n",
    "\n",
    "+ Os **parâmetros para escalonamento são calculados a partir do conjunto de treinamento** e aplicados a todos os conjuntos.\n",
    "  + Isso **evita o vazamento de informações do futuro no treinamento** (i.e., os dados inéditos do conjunto de testes) e garante consistência no pré-processamento, garantindo predições coerentes em diferentes conjuntos de dados.\n",
    "+ Em geral, não se aplica escalonamento aos rótulos.\n",
    "+ Não existe uma regra direta para dizer quando normalizar ou\n",
    "padronizar os atributos. Portanto, é comum treinar o modelo com os dados brutos, normalizados e padronizados e, em seguida, comparar o desempenho para cada um dos casos.\n",
    "\n",
    "Usaremos a classe `StandardScaler` da biblioteca `SciKit-learn` para padronizar os atributos."
   ]
  },
  {
   "cell_type": "code",
   "execution_count": 9,
   "metadata": {
    "id": "uZrGVMsH0X3F"
   },
   "outputs": [],
   "source": [
    "# Importamos a classe StandardScaler.\n",
    "from sklearn.preprocessing import StandardScaler\n",
    "\n",
    "# Instanciamos um objeto da classe StandardScaler.\n",
    "scaler = StandardScaler()\n",
    "\n",
    "# Calcula-se os parâmetros de padronização usando o conjunto de treinamento.\n",
    "scaler.fit(x_train)\n",
    "\n",
    "# Usamos o método `transform` para padronizar os atributos de treinamento e teste.\n",
    "x_train_std = scaler.transform(x_train)\n",
    "x_test_std = scaler.transform(x_test)"
   ]
  },
  {
   "cell_type": "markdown",
   "metadata": {
    "id": "i4tVlw4Za3-U"
   },
   "source": [
    "Comparando os valores máximos e mínimos antes e depois do escalonamento"
   ]
  },
  {
   "cell_type": "code",
   "execution_count": 10,
   "metadata": {
    "colab": {
     "base_uri": "https://localhost:8080/"
    },
    "id": "V0JnMrLAa3Y4",
    "outputId": "00610fc6-817a-4b86-c1ff-b3a651518620"
   },
   "outputs": [
    {
     "name": "stdout",
     "output_type": "stream",
     "text": [
      "Máx. antes do escalonamento: 711.0\n",
      "Mín. antes do escalonamento: 0.0\n",
      "\n",
      "Máx. depois do escalonamento: 9.234847178400438\n",
      "Mín. depois do escalonamento: -3.8172503201932715\n"
     ]
    }
   ],
   "source": [
    "print('Máx. antes do escalonamento:', x_train.max())\n",
    "print('Mín. antes do escalonamento:', x_train.min())\n",
    "\n",
    "print('\\nMáx. depois do escalonamento:', x_train_std.max())\n",
    "print('Mín. depois do escalonamento:', x_train_std.min())"
   ]
  },
  {
   "cell_type": "markdown",
   "metadata": {
    "id": "pYMsyOk8-xnf"
   },
   "source": [
    "## Definindo o modelo\n",
    "\n",
    "Sabemos que a base de dados possui 13 atributos. Portanto, a **entrada da rede neural deve ter uma dimensão igual a 13**, ou seja, a rede deve ter 13 entradas.\n",
    "\n",
    "O **número de exemplos não é usado para especificar as dimensões de entrada da rede**, pois ele pode ser alterado dependendo do tamanho do *mini-batch* usado."
   ]
  },
  {
   "cell_type": "code",
   "execution_count": 11,
   "metadata": {
    "colab": {
     "base_uri": "https://localhost:8080/"
    },
    "id": "JBUukyQ0INrf",
    "outputId": "fb9fc17e-dbed-48c7-f6c8-b47946e42b17"
   },
   "outputs": [
    {
     "data": {
      "text/plain": [
       "(404, 13)"
      ]
     },
     "execution_count": 11,
     "metadata": {},
     "output_type": "execute_result"
    }
   ],
   "source": [
    "x_train_std.shape"
   ]
  },
  {
   "cell_type": "code",
   "execution_count": 12,
   "metadata": {
    "colab": {
     "base_uri": "https://localhost:8080/"
    },
    "id": "ezpCJySN5h2Y",
    "outputId": "8d59593c-9c82-421f-b68e-21c9ae797da7"
   },
   "outputs": [
    {
     "data": {
      "text/plain": [
       "13"
      ]
     },
     "execution_count": 12,
     "metadata": {},
     "output_type": "execute_result"
    }
   ],
   "source": [
    "x_train_std.shape[1]"
   ]
  },
  {
   "cell_type": "markdown",
   "metadata": {
    "id": "M-rf04NFdM-9"
   },
   "source": [
    "Assim, definimos a variável `input_shape` usando apenas o número de colunas da matriz de entrada."
   ]
  },
  {
   "cell_type": "code",
   "execution_count": 13,
   "metadata": {
    "colab": {
     "base_uri": "https://localhost:8080/"
    },
    "id": "sDlDs9YO5qk_",
    "outputId": "59bebc7b-e2cb-4a69-f155-d893d49c58be"
   },
   "outputs": [
    {
     "name": "stdout",
     "output_type": "stream",
     "text": [
      "Dimensão de entrada: 13\n"
     ]
    }
   ],
   "source": [
    "input_shape = x_train_std.shape[1]\n",
    "\n",
    "print('Dimensão de entrada:', input_shape)"
   ]
  },
  {
   "cell_type": "markdown",
   "metadata": {
    "id": "UZimwlA92lLr"
   },
   "source": [
    "Vamos inicialmente criar um modelo com **uma única camada oculta com 20 neurônios**, mas iremos validar outros valores mais tarde com a otimização hiperparamétrica.\n",
    "\n",
    "Desta forma, a rede que precisamos definir terá uma **entrada com dimensão igual a 13**, **uma camada oculta com 20 neurônios** e **uma camada de saída com apenas um neurônio** para corresponder à dimensão dos rótulos, $y$.\n",
    "\n",
    "<img src=\"https://raw.githubusercontent.com/zz4fap/tp557-iot-ml/main/figures/exercicio_regressao.png\" width=\"400px\">\n",
    "\n",
    "\n",
    "**Observações**\n",
    "\n",
    "+ Percebam que o número de entradas e saídas da rede neural é sempre definido pelo conjunto de dados que temos.\n",
    "+ O que precisamos definir nós mesmos é o número de camadas e nós em cada uma das camadas ocultas.\n",
    "   + O que **precisamos ter como objetivo é encontrar o modelo mais simples, mas ainda explique bem os dados**, ou seja, generalize bem.\n",
    "   + Modelos **muito complexos** (i.e., grandes) têm uma **capacidade muito grande** (i.e., memória) e podem acabar **memorizando o conjunto de treinamento** ao invés de encontrarem uma solução geral (i.e., **sobreajuste**).\n",
    "+ Como encontramos os valores ideiais para estes **hiperparâmetros**?\n",
    "   + Através de técnicas de otimização hiperparamétrica.\n",
    "   + Na sequência, usaremos uma biblioteca que implementa algumas técnicas."
   ]
  },
  {
   "cell_type": "code",
   "execution_count": 14,
   "metadata": {
    "colab": {
     "base_uri": "https://localhost:8080/"
    },
    "id": "dEdoqWl28dB3",
    "outputId": "4c3cfcf3-0574-4ff1-ca2d-36747afe880c"
   },
   "outputs": [
    {
     "name": "stdout",
     "output_type": "stream",
     "text": [
      "Model: \"sequential\"\n",
      "_________________________________________________________________\n",
      " Layer (type)                Output Shape              Param #   \n",
      "=================================================================\n",
      " dense (Dense)               (None, 20)                280       \n",
      "                                                                 \n",
      " dense_1 (Dense)             (None, 1)                 21        \n",
      "                                                                 \n",
      "=================================================================\n",
      "Total params: 301\n",
      "Trainable params: 301\n",
      "Non-trainable params: 0\n",
      "_________________________________________________________________\n"
     ]
    }
   ],
   "source": [
    "model = tf.keras.models.Sequential(\n",
    "    [\n",
    "        tf.keras.layers.Dense(20, input_shape=[input_shape], activation='relu'),\n",
    "        tf.keras.layers.Dense(1)\n",
    "    ]\n",
    ")\n",
    "\n",
    "model.summary()"
   ]
  },
  {
   "cell_type": "markdown",
   "metadata": {
    "id": "FNTU33Hn1TRj"
   },
   "source": [
    "**Observação**\n",
    "\n",
    "+ A camada de entrada possui 13 conexões, uma para cada atributo $x_i$.\n",
    "\n",
    "+ Cada atributo se conecta a todos os neurônios da camada oculta, que tem 20 neurônios.\n",
    "\n",
    "+ Assim, os parâmetros treináneis da camada oculta são $13 \\times 20 + 20 = 280$, i.e., $13 \\times 20$ pesos sinápticos mais $20$ pesos de bias por neurônio.\n",
    "\n",
    "+ A camada de saída tem apenas um neurônio que está conectado às saídas de todos os neurônios da camada anterior. Assim, ela possui $20 + 1 = 21$ parâmetros treináneis, ou seja, $20$ pesos sinápticos e $1$ peso de bias.\n",
    "\n",
    "+ Isso totaliza $280 + 21 = 301$ parâmetros treináveis (ou seja, 301 pesos)."
   ]
  },
  {
   "cell_type": "markdown",
   "metadata": {
    "id": "IfGTI8SY_3AL"
   },
   "source": [
    "## Compilando o modelo\n",
    "\n",
    "Para compilar o modelo, precisamos definir uma função de erro a ser minimizada e o otimizador a ser usado para a minimização."
   ]
  },
  {
   "cell_type": "markdown",
   "metadata": {
    "id": "QzTQem0EHY-O"
   },
   "source": [
    "### Diferentes funções de erro.\n",
    "\n",
    "Como vimos anteriormente, existem várias funções de erro que podemos utilizar para otimizar um modelo de aprendizado de máquina para problemas de regressão.\n",
    "\n",
    "Além do MSE, para problemas de regressão também podemos usar\n",
    "\n",
    "+ `Mean Absolute Error (MAE)` que é calculado como:\n",
    "$$MAE=\\frac{1}{n}\\sum_{i=1}^{n}(\\left|y_{i}-\\hat{y}_{i}\\right|)$$\n",
    "  + Não amplifica erros maiores, o que pode torná-lo mais robusto a outliers.\n",
    "<br/><br/>\n",
    "\n",
    "+ `Root Mean Square Error (RMSE)`, que é a raiz quadrada do MSE e é calculado da seguinte forma:\n",
    "$$RSME=\\sqrt{\\frac{1}{N}\\sum_{i=1}^{N}{(y_{i}-\\hat{y}_{i})}^2}$$\n",
    "  + Toma-se a raíz quadrada do MSE para trazer a métrica de volta à mesma unidade dos dados originais, tornando-a mais interpretável e comparável com os valores reais.\n",
    "  + O MSE e o RMSE tendem a penalizar mais erros maiores, enquanto o MAE é mais tolerante a eles.\n",
    "\n",
    "Podemos definir o **MSE como a função de erro (i.e., perda) que queremos minimizar**, mas também acompanhar o MAE ou RMSE. \n",
    "\n",
    "Isso é possível através do uso do parâmetro `metrics` do método `compile`, para o qual podemos passar uma **lista** com as métricas que queremos acompanhar durante o treinamento."
   ]
  },
  {
   "cell_type": "markdown",
   "metadata": {
    "id": "K7yHe1BU_Cr2"
   },
   "source": [
    "### Otimizador\n",
    "\n",
    "Em exemplos anteriores, usamos o Gradiente Descendente Estocástico (SGD) como otimizador. Neste exemplo, usaremos um outro tipo de otimizador muito popular para o treinamento de redes neurais.\n",
    "\n",
    "O otimizador que utilizaremos será o [Adam](https://www.tensorflow.org/api_docs/python/tf/keras/optimizers/Adam).\n",
    "\n",
    "O Adam (Adaptive Moment Estimation) foi projetado para **superar algumas limitações do SGD**, como **problemas de convergência e passo de aprendizagem fixo**.\n",
    "\n",
    "Ele é uma variante (**melhoria**) do SGD que **combina** técnicas conhecidas como **termo momentum** e **passos de aprendizagem independentes e variáveis**.\n",
    "\n",
    "Usa **estimativas dos momentos de primeira e segunda ordens** (i.e., média e variância) para **acelerar a convergência do algoritmo**, **evitar divergência** e **ajustar automaticamente os valores dos passos de aprendizagem** de acordo com os gradientes em diferentes direções, respectivamente.\n",
    "\n",
    "Por padrão, o valor do hiperparâmetro `learning_rate` é $0.001$."
   ]
  },
  {
   "cell_type": "code",
   "execution_count": 15,
   "metadata": {
    "id": "NA21O9Y0_BJ7"
   },
   "outputs": [],
   "source": [
    "model.compile(\n",
    "    optimizer='adam',\n",
    "    loss='mse',\n",
    "    metrics=['mae'] # métrica usada para monitorar as etapas de treinamento e teste.\n",
    ")"
   ]
  },
  {
   "cell_type": "markdown",
   "metadata": {
    "id": "pJZ4fvT3_yd7"
   },
   "source": [
    "## Treinando o modelo\n",
    "\n",
    "**Observações**\n",
    "\n",
    "+ Se durante o treinamento quisermos avaliar o desempenho do modelo no conjunto de teste, podemos usar o parâmetro `validation_data` para passar o conjunto de testes para o método `fit`.\n",
    "<br/>\n",
    "\n",
    "+ Atribuímos o retorno do método `fit` (i.e., dicionário com resultados) à variável `history` para que possamos plotar os resultados obtidos durante o treinamento.\n",
    "<br/>\n",
    "\n",
    "+ Percebam que estamos usando o **conjunto de treinamento padronizado**."
   ]
  },
  {
   "cell_type": "code",
   "execution_count": 16,
   "metadata": {
    "colab": {
     "base_uri": "https://localhost:8080/"
    },
    "id": "RxklrX_R_uvn",
    "outputId": "8a410ce8-271f-4ce4-e184-4b0139e0834a"
   },
   "outputs": [
    {
     "name": "stdout",
     "output_type": "stream",
     "text": [
      "Epoch 1/1000\n",
      "13/13 [==============================] - 1s 3ms/step - loss: 568.6294 - mae: 22.0056\n",
      "Epoch 2/1000\n",
      "13/13 [==============================] - 0s 3ms/step - loss: 559.5665 - mae: 21.8110\n",
      "Epoch 3/1000\n",
      "13/13 [==============================] - 0s 3ms/step - loss: 550.0872 - mae: 21.6097\n",
      "Epoch 4/1000\n",
      "13/13 [==============================] - 0s 2ms/step - loss: 540.1761 - mae: 21.4000\n",
      "Epoch 5/1000\n",
      "13/13 [==============================] - 0s 2ms/step - loss: 529.7088 - mae: 21.1782\n",
      "Epoch 6/1000\n",
      "13/13 [==============================] - 0s 2ms/step - loss: 518.4051 - mae: 20.9368\n",
      "Epoch 7/1000\n",
      "13/13 [==============================] - 0s 2ms/step - loss: 506.0088 - mae: 20.6692\n",
      "Epoch 8/1000\n",
      "13/13 [==============================] - 0s 2ms/step - loss: 492.8841 - mae: 20.3816\n",
      "Epoch 9/1000\n",
      "13/13 [==============================] - 0s 2ms/step - loss: 478.9961 - mae: 20.0716\n",
      "Epoch 10/1000\n",
      "13/13 [==============================] - 0s 3ms/step - loss: 464.3371 - mae: 19.7435\n",
      "Epoch 11/1000\n",
      "13/13 [==============================] - 0s 2ms/step - loss: 448.0383 - mae: 19.3736\n",
      "Epoch 12/1000\n",
      "13/13 [==============================] - 0s 3ms/step - loss: 431.5810 - mae: 18.9869\n",
      "Epoch 13/1000\n",
      "13/13 [==============================] - 0s 3ms/step - loss: 413.6853 - mae: 18.5599\n",
      "Epoch 14/1000\n",
      "13/13 [==============================] - 0s 3ms/step - loss: 395.6192 - mae: 18.1179\n",
      "Epoch 15/1000\n",
      "13/13 [==============================] - 0s 3ms/step - loss: 376.2904 - mae: 17.6358\n",
      "Epoch 16/1000\n",
      "13/13 [==============================] - 0s 2ms/step - loss: 357.1908 - mae: 17.1438\n",
      "Epoch 17/1000\n",
      "13/13 [==============================] - 0s 2ms/step - loss: 337.0093 - mae: 16.6107\n",
      "Epoch 18/1000\n",
      "13/13 [==============================] - 0s 2ms/step - loss: 316.6478 - mae: 16.0518\n",
      "Epoch 19/1000\n",
      "13/13 [==============================] - 0s 2ms/step - loss: 296.5893 - mae: 15.4690\n",
      "Epoch 20/1000\n",
      "13/13 [==============================] - 0s 2ms/step - loss: 276.2728 - mae: 14.8666\n",
      "Epoch 21/1000\n",
      "13/13 [==============================] - 0s 2ms/step - loss: 256.7235 - mae: 14.2546\n",
      "Epoch 22/1000\n",
      "13/13 [==============================] - 0s 2ms/step - loss: 237.5491 - mae: 13.6095\n",
      "Epoch 23/1000\n",
      "13/13 [==============================] - 0s 2ms/step - loss: 219.1139 - mae: 12.9639\n",
      "Epoch 24/1000\n",
      "13/13 [==============================] - 0s 2ms/step - loss: 201.5493 - mae: 12.3070\n",
      "Epoch 25/1000\n",
      "13/13 [==============================] - 0s 2ms/step - loss: 184.6890 - mae: 11.6634\n",
      "Epoch 26/1000\n",
      "13/13 [==============================] - 0s 2ms/step - loss: 169.3886 - mae: 11.0462\n",
      "Epoch 27/1000\n",
      "13/13 [==============================] - 0s 2ms/step - loss: 155.1032 - mae: 10.4263\n",
      "Epoch 28/1000\n",
      "13/13 [==============================] - 0s 2ms/step - loss: 141.9185 - mae: 9.8440\n",
      "Epoch 29/1000\n",
      "13/13 [==============================] - 0s 2ms/step - loss: 130.1160 - mae: 9.2970\n",
      "Epoch 30/1000\n",
      "13/13 [==============================] - 0s 2ms/step - loss: 119.3176 - mae: 8.8055\n",
      "Epoch 31/1000\n",
      "13/13 [==============================] - 0s 2ms/step - loss: 109.7806 - mae: 8.3586\n",
      "Epoch 32/1000\n",
      "13/13 [==============================] - 0s 2ms/step - loss: 101.2910 - mae: 7.9415\n",
      "Epoch 33/1000\n",
      "13/13 [==============================] - 0s 2ms/step - loss: 93.4579 - mae: 7.5598\n",
      "Epoch 34/1000\n",
      "13/13 [==============================] - 0s 2ms/step - loss: 86.6668 - mae: 7.2248\n",
      "Epoch 35/1000\n",
      "13/13 [==============================] - 0s 2ms/step - loss: 80.5116 - mae: 6.9195\n",
      "Epoch 36/1000\n",
      "13/13 [==============================] - 0s 2ms/step - loss: 75.0176 - mae: 6.6376\n",
      "Epoch 37/1000\n",
      "13/13 [==============================] - 0s 2ms/step - loss: 70.2112 - mae: 6.3848\n",
      "Epoch 38/1000\n",
      "13/13 [==============================] - 0s 2ms/step - loss: 65.9442 - mae: 6.1531\n",
      "Epoch 39/1000\n",
      "13/13 [==============================] - 0s 2ms/step - loss: 61.8987 - mae: 5.9299\n",
      "Epoch 40/1000\n",
      "13/13 [==============================] - 0s 2ms/step - loss: 58.4912 - mae: 5.7352\n",
      "Epoch 41/1000\n",
      "13/13 [==============================] - 0s 2ms/step - loss: 55.3025 - mae: 5.5554\n",
      "Epoch 42/1000\n",
      "13/13 [==============================] - 0s 2ms/step - loss: 52.4939 - mae: 5.3856\n",
      "Epoch 43/1000\n",
      "13/13 [==============================] - 0s 2ms/step - loss: 49.9692 - mae: 5.2304\n",
      "Epoch 44/1000\n",
      "13/13 [==============================] - 0s 2ms/step - loss: 47.6342 - mae: 5.0979\n",
      "Epoch 45/1000\n",
      "13/13 [==============================] - 0s 2ms/step - loss: 45.5718 - mae: 4.9638\n",
      "Epoch 46/1000\n",
      "13/13 [==============================] - 0s 2ms/step - loss: 43.7407 - mae: 4.8466\n",
      "Epoch 47/1000\n",
      "13/13 [==============================] - 0s 3ms/step - loss: 42.1207 - mae: 4.7432\n",
      "Epoch 48/1000\n",
      "13/13 [==============================] - 0s 2ms/step - loss: 40.5489 - mae: 4.6453\n",
      "Epoch 49/1000\n",
      "13/13 [==============================] - 0s 2ms/step - loss: 39.2485 - mae: 4.5586\n",
      "Epoch 50/1000\n",
      "13/13 [==============================] - 0s 2ms/step - loss: 38.0516 - mae: 4.4774\n",
      "Epoch 51/1000\n",
      "13/13 [==============================] - 0s 2ms/step - loss: 36.9055 - mae: 4.3978\n",
      "Epoch 52/1000\n",
      "13/13 [==============================] - 0s 2ms/step - loss: 35.9792 - mae: 4.3323\n",
      "Epoch 53/1000\n",
      "13/13 [==============================] - 0s 2ms/step - loss: 35.0537 - mae: 4.2740\n",
      "Epoch 54/1000\n",
      "13/13 [==============================] - 0s 2ms/step - loss: 34.2683 - mae: 4.2179\n",
      "Epoch 55/1000\n",
      "13/13 [==============================] - 0s 2ms/step - loss: 33.5853 - mae: 4.1661\n",
      "Epoch 56/1000\n",
      "13/13 [==============================] - 0s 2ms/step - loss: 32.8686 - mae: 4.1193\n",
      "Epoch 57/1000\n",
      "13/13 [==============================] - 0s 2ms/step - loss: 32.2750 - mae: 4.0826\n",
      "Epoch 58/1000\n",
      "13/13 [==============================] - 0s 2ms/step - loss: 31.7171 - mae: 4.0454\n",
      "Epoch 59/1000\n",
      "13/13 [==============================] - 0s 2ms/step - loss: 31.2555 - mae: 4.0068\n",
      "Epoch 60/1000\n",
      "13/13 [==============================] - 0s 2ms/step - loss: 30.7221 - mae: 3.9735\n",
      "Epoch 61/1000\n",
      "13/13 [==============================] - 0s 2ms/step - loss: 30.3746 - mae: 3.9479\n",
      "Epoch 62/1000\n",
      "13/13 [==============================] - 0s 2ms/step - loss: 29.9567 - mae: 3.9215\n",
      "Epoch 63/1000\n",
      "13/13 [==============================] - 0s 2ms/step - loss: 29.5328 - mae: 3.8936\n",
      "Epoch 64/1000\n",
      "13/13 [==============================] - 0s 2ms/step - loss: 29.1905 - mae: 3.8684\n",
      "Epoch 65/1000\n",
      "13/13 [==============================] - 0s 2ms/step - loss: 28.8483 - mae: 3.8462\n",
      "Epoch 66/1000\n",
      "13/13 [==============================] - 0s 2ms/step - loss: 28.5682 - mae: 3.8277\n",
      "Epoch 67/1000\n",
      "13/13 [==============================] - 0s 2ms/step - loss: 28.2486 - mae: 3.8094\n",
      "Epoch 68/1000\n",
      "13/13 [==============================] - 0s 2ms/step - loss: 27.9420 - mae: 3.7898\n",
      "Epoch 69/1000\n",
      "13/13 [==============================] - 0s 2ms/step - loss: 27.6814 - mae: 3.7766\n",
      "Epoch 70/1000\n",
      "13/13 [==============================] - 0s 2ms/step - loss: 27.3973 - mae: 3.7611\n",
      "Epoch 71/1000\n",
      "13/13 [==============================] - 0s 2ms/step - loss: 27.1237 - mae: 3.7454\n",
      "Epoch 72/1000\n",
      "13/13 [==============================] - 0s 2ms/step - loss: 26.8880 - mae: 3.7359\n",
      "Epoch 73/1000\n",
      "13/13 [==============================] - 0s 2ms/step - loss: 26.6232 - mae: 3.7179\n",
      "Epoch 74/1000\n",
      "13/13 [==============================] - 0s 2ms/step - loss: 26.3957 - mae: 3.7045\n",
      "Epoch 75/1000\n",
      "13/13 [==============================] - 0s 2ms/step - loss: 26.1765 - mae: 3.6926\n",
      "Epoch 76/1000\n",
      "13/13 [==============================] - 0s 2ms/step - loss: 25.9205 - mae: 3.6761\n",
      "Epoch 77/1000\n",
      "13/13 [==============================] - 0s 2ms/step - loss: 25.7012 - mae: 3.6618\n",
      "Epoch 78/1000\n",
      "13/13 [==============================] - 0s 2ms/step - loss: 25.4680 - mae: 3.6509\n",
      "Epoch 79/1000\n",
      "13/13 [==============================] - 0s 2ms/step - loss: 25.2553 - mae: 3.6405\n",
      "Epoch 80/1000\n",
      "13/13 [==============================] - 0s 2ms/step - loss: 25.0507 - mae: 3.6267\n",
      "Epoch 81/1000\n",
      "13/13 [==============================] - 0s 2ms/step - loss: 24.8607 - mae: 3.6151\n",
      "Epoch 82/1000\n",
      "13/13 [==============================] - 0s 2ms/step - loss: 24.6473 - mae: 3.6038\n",
      "Epoch 83/1000\n",
      "13/13 [==============================] - 0s 2ms/step - loss: 24.4119 - mae: 3.5893\n",
      "Epoch 84/1000\n"
     ]
    },
    {
     "name": "stdout",
     "output_type": "stream",
     "text": [
      "13/13 [==============================] - 0s 2ms/step - loss: 24.2298 - mae: 3.5776\n",
      "Epoch 85/1000\n",
      "13/13 [==============================] - 0s 2ms/step - loss: 24.0270 - mae: 3.5627\n",
      "Epoch 86/1000\n",
      "13/13 [==============================] - 0s 2ms/step - loss: 23.8413 - mae: 3.5504\n",
      "Epoch 87/1000\n",
      "13/13 [==============================] - 0s 2ms/step - loss: 23.6388 - mae: 3.5384\n",
      "Epoch 88/1000\n",
      "13/13 [==============================] - 0s 2ms/step - loss: 23.4750 - mae: 3.5298\n",
      "Epoch 89/1000\n",
      "13/13 [==============================] - 0s 2ms/step - loss: 23.2788 - mae: 3.5191\n",
      "Epoch 90/1000\n",
      "13/13 [==============================] - 0s 2ms/step - loss: 23.0837 - mae: 3.5046\n",
      "Epoch 91/1000\n",
      "13/13 [==============================] - 0s 2ms/step - loss: 22.9163 - mae: 3.4914\n",
      "Epoch 92/1000\n",
      "13/13 [==============================] - 0s 2ms/step - loss: 22.7646 - mae: 3.4830\n",
      "Epoch 93/1000\n",
      "13/13 [==============================] - 0s 2ms/step - loss: 22.5704 - mae: 3.4698\n",
      "Epoch 94/1000\n",
      "13/13 [==============================] - 0s 2ms/step - loss: 22.4050 - mae: 3.4569\n",
      "Epoch 95/1000\n",
      "13/13 [==============================] - 0s 2ms/step - loss: 22.2265 - mae: 3.4427\n",
      "Epoch 96/1000\n",
      "13/13 [==============================] - 0s 2ms/step - loss: 22.0716 - mae: 3.4314\n",
      "Epoch 97/1000\n",
      "13/13 [==============================] - 0s 2ms/step - loss: 21.8932 - mae: 3.4196\n",
      "Epoch 98/1000\n",
      "13/13 [==============================] - 0s 2ms/step - loss: 21.7372 - mae: 3.4064\n",
      "Epoch 99/1000\n",
      "13/13 [==============================] - 0s 2ms/step - loss: 21.5722 - mae: 3.3957\n",
      "Epoch 100/1000\n",
      "13/13 [==============================] - 0s 2ms/step - loss: 21.3936 - mae: 3.3818\n",
      "Epoch 101/1000\n",
      "13/13 [==============================] - 0s 2ms/step - loss: 21.2214 - mae: 3.3696\n",
      "Epoch 102/1000\n",
      "13/13 [==============================] - 0s 2ms/step - loss: 21.0735 - mae: 3.3589\n",
      "Epoch 103/1000\n",
      "13/13 [==============================] - 0s 2ms/step - loss: 20.9068 - mae: 3.3501\n",
      "Epoch 104/1000\n",
      "13/13 [==============================] - 0s 2ms/step - loss: 20.7382 - mae: 3.3373\n",
      "Epoch 105/1000\n",
      "13/13 [==============================] - 0s 2ms/step - loss: 20.5691 - mae: 3.3274\n",
      "Epoch 106/1000\n",
      "13/13 [==============================] - 0s 3ms/step - loss: 20.4008 - mae: 3.3104\n",
      "Epoch 107/1000\n",
      "13/13 [==============================] - 0s 3ms/step - loss: 20.2490 - mae: 3.2986\n",
      "Epoch 108/1000\n",
      "13/13 [==============================] - 0s 3ms/step - loss: 20.0942 - mae: 3.2873\n",
      "Epoch 109/1000\n",
      "13/13 [==============================] - 0s 3ms/step - loss: 19.9190 - mae: 3.2749\n",
      "Epoch 110/1000\n",
      "13/13 [==============================] - 0s 2ms/step - loss: 19.7760 - mae: 3.2628\n",
      "Epoch 111/1000\n",
      "13/13 [==============================] - 0s 2ms/step - loss: 19.6052 - mae: 3.2491\n",
      "Epoch 112/1000\n",
      "13/13 [==============================] - 0s 3ms/step - loss: 19.4475 - mae: 3.2368\n",
      "Epoch 113/1000\n",
      "13/13 [==============================] - 0s 2ms/step - loss: 19.2875 - mae: 3.2246\n",
      "Epoch 114/1000\n",
      "13/13 [==============================] - 0s 2ms/step - loss: 19.1237 - mae: 3.2090\n",
      "Epoch 115/1000\n",
      "13/13 [==============================] - 0s 3ms/step - loss: 18.9521 - mae: 3.1964\n",
      "Epoch 116/1000\n",
      "13/13 [==============================] - 0s 2ms/step - loss: 18.7936 - mae: 3.1868\n",
      "Epoch 117/1000\n",
      "13/13 [==============================] - 0s 2ms/step - loss: 18.6243 - mae: 3.1726\n",
      "Epoch 118/1000\n",
      "13/13 [==============================] - 0s 3ms/step - loss: 18.4743 - mae: 3.1580\n",
      "Epoch 119/1000\n",
      "13/13 [==============================] - 0s 3ms/step - loss: 18.3173 - mae: 3.1447\n",
      "Epoch 120/1000\n",
      "13/13 [==============================] - 0s 2ms/step - loss: 18.1668 - mae: 3.1334\n",
      "Epoch 121/1000\n",
      "13/13 [==============================] - 0s 3ms/step - loss: 18.0104 - mae: 3.1187\n",
      "Epoch 122/1000\n",
      "13/13 [==============================] - 0s 2ms/step - loss: 17.8505 - mae: 3.1059\n",
      "Epoch 123/1000\n",
      "13/13 [==============================] - 0s 2ms/step - loss: 17.7294 - mae: 3.0956\n",
      "Epoch 124/1000\n",
      "13/13 [==============================] - 0s 2ms/step - loss: 17.5803 - mae: 3.0788\n",
      "Epoch 125/1000\n",
      "13/13 [==============================] - 0s 3ms/step - loss: 17.4044 - mae: 3.0638\n",
      "Epoch 126/1000\n",
      "13/13 [==============================] - 0s 3ms/step - loss: 17.2705 - mae: 3.0548\n",
      "Epoch 127/1000\n",
      "13/13 [==============================] - 0s 2ms/step - loss: 17.0924 - mae: 3.0401\n",
      "Epoch 128/1000\n",
      "13/13 [==============================] - 0s 2ms/step - loss: 16.9441 - mae: 3.0263\n",
      "Epoch 129/1000\n",
      "13/13 [==============================] - 0s 3ms/step - loss: 16.7979 - mae: 3.0130\n",
      "Epoch 130/1000\n",
      "13/13 [==============================] - 0s 2ms/step - loss: 16.6527 - mae: 2.9997\n",
      "Epoch 131/1000\n",
      "13/13 [==============================] - 0s 2ms/step - loss: 16.5311 - mae: 2.9889\n",
      "Epoch 132/1000\n",
      "13/13 [==============================] - 0s 2ms/step - loss: 16.3882 - mae: 2.9769\n",
      "Epoch 133/1000\n",
      "13/13 [==============================] - 0s 2ms/step - loss: 16.2854 - mae: 2.9628\n",
      "Epoch 134/1000\n",
      "13/13 [==============================] - 0s 3ms/step - loss: 16.1225 - mae: 2.9490\n",
      "Epoch 135/1000\n",
      "13/13 [==============================] - 0s 2ms/step - loss: 16.0128 - mae: 2.9422\n",
      "Epoch 136/1000\n",
      "13/13 [==============================] - 0s 2ms/step - loss: 15.8707 - mae: 2.9297\n",
      "Epoch 137/1000\n",
      "13/13 [==============================] - 0s 3ms/step - loss: 15.7496 - mae: 2.9201\n",
      "Epoch 138/1000\n",
      "13/13 [==============================] - 0s 2ms/step - loss: 15.6238 - mae: 2.9086\n",
      "Epoch 139/1000\n",
      "13/13 [==============================] - 0s 2ms/step - loss: 15.5129 - mae: 2.8992\n",
      "Epoch 140/1000\n",
      "13/13 [==============================] - 0s 2ms/step - loss: 15.3826 - mae: 2.8872\n",
      "Epoch 141/1000\n",
      "13/13 [==============================] - 0s 2ms/step - loss: 15.3093 - mae: 2.8830\n",
      "Epoch 142/1000\n",
      "13/13 [==============================] - 0s 2ms/step - loss: 15.1543 - mae: 2.8689\n",
      "Epoch 143/1000\n",
      "13/13 [==============================] - 0s 2ms/step - loss: 15.0417 - mae: 2.8577\n",
      "Epoch 144/1000\n",
      "13/13 [==============================] - 0s 2ms/step - loss: 14.9392 - mae: 2.8501\n",
      "Epoch 145/1000\n",
      "13/13 [==============================] - 0s 2ms/step - loss: 14.8129 - mae: 2.8384\n",
      "Epoch 146/1000\n",
      "13/13 [==============================] - 0s 2ms/step - loss: 14.7056 - mae: 2.8241\n",
      "Epoch 147/1000\n",
      "13/13 [==============================] - 0s 2ms/step - loss: 14.6029 - mae: 2.8145\n",
      "Epoch 148/1000\n",
      "13/13 [==============================] - 0s 2ms/step - loss: 14.5086 - mae: 2.8070\n",
      "Epoch 149/1000\n",
      "13/13 [==============================] - 0s 2ms/step - loss: 14.4000 - mae: 2.7975\n",
      "Epoch 150/1000\n",
      "13/13 [==============================] - 0s 2ms/step - loss: 14.2997 - mae: 2.7858\n",
      "Epoch 151/1000\n",
      "13/13 [==============================] - 0s 2ms/step - loss: 14.1938 - mae: 2.7754\n",
      "Epoch 152/1000\n",
      "13/13 [==============================] - 0s 2ms/step - loss: 14.1085 - mae: 2.7682\n",
      "Epoch 153/1000\n",
      "13/13 [==============================] - 0s 2ms/step - loss: 13.9951 - mae: 2.7592\n",
      "Epoch 154/1000\n",
      "13/13 [==============================] - 0s 2ms/step - loss: 13.9121 - mae: 2.7510\n",
      "Epoch 155/1000\n",
      "13/13 [==============================] - 0s 3ms/step - loss: 13.8149 - mae: 2.7435\n",
      "Epoch 156/1000\n",
      "13/13 [==============================] - 0s 2ms/step - loss: 13.7057 - mae: 2.7346\n",
      "Epoch 157/1000\n",
      "13/13 [==============================] - 0s 2ms/step - loss: 13.6190 - mae: 2.7248\n",
      "Epoch 158/1000\n",
      "13/13 [==============================] - 0s 2ms/step - loss: 13.5410 - mae: 2.7167\n",
      "Epoch 159/1000\n",
      "13/13 [==============================] - 0s 2ms/step - loss: 13.4407 - mae: 2.7050\n",
      "Epoch 160/1000\n",
      "13/13 [==============================] - 0s 2ms/step - loss: 13.3518 - mae: 2.6954\n",
      "Epoch 161/1000\n",
      "13/13 [==============================] - 0s 3ms/step - loss: 13.2792 - mae: 2.6876\n",
      "Epoch 162/1000\n",
      "13/13 [==============================] - 0s 3ms/step - loss: 13.1821 - mae: 2.6797\n",
      "Epoch 163/1000\n",
      "13/13 [==============================] - 0s 3ms/step - loss: 13.0910 - mae: 2.6706\n",
      "Epoch 164/1000\n",
      "13/13 [==============================] - 0s 3ms/step - loss: 13.0088 - mae: 2.6603\n",
      "Epoch 165/1000\n",
      "13/13 [==============================] - 0s 3ms/step - loss: 12.9203 - mae: 2.6522\n",
      "Epoch 166/1000\n",
      "13/13 [==============================] - 0s 3ms/step - loss: 12.8479 - mae: 2.6454\n",
      "Epoch 167/1000\n"
     ]
    },
    {
     "name": "stdout",
     "output_type": "stream",
     "text": [
      "13/13 [==============================] - 0s 3ms/step - loss: 12.7731 - mae: 2.6377\n",
      "Epoch 168/1000\n",
      "13/13 [==============================] - 0s 3ms/step - loss: 12.6996 - mae: 2.6306\n",
      "Epoch 169/1000\n",
      "13/13 [==============================] - 0s 3ms/step - loss: 12.6195 - mae: 2.6210\n",
      "Epoch 170/1000\n",
      "13/13 [==============================] - 0s 2ms/step - loss: 12.5377 - mae: 2.6122\n",
      "Epoch 171/1000\n",
      "13/13 [==============================] - 0s 2ms/step - loss: 12.4732 - mae: 2.6068\n",
      "Epoch 172/1000\n",
      "13/13 [==============================] - 0s 2ms/step - loss: 12.3943 - mae: 2.5950\n",
      "Epoch 173/1000\n",
      "13/13 [==============================] - 0s 2ms/step - loss: 12.3241 - mae: 2.5872\n",
      "Epoch 174/1000\n",
      "13/13 [==============================] - 0s 2ms/step - loss: 12.2658 - mae: 2.5820\n",
      "Epoch 175/1000\n",
      "13/13 [==============================] - 0s 2ms/step - loss: 12.1839 - mae: 2.5733\n",
      "Epoch 176/1000\n",
      "13/13 [==============================] - 0s 3ms/step - loss: 12.1245 - mae: 2.5640\n",
      "Epoch 177/1000\n",
      "13/13 [==============================] - 0s 2ms/step - loss: 12.0643 - mae: 2.5573\n",
      "Epoch 178/1000\n",
      "13/13 [==============================] - 0s 3ms/step - loss: 11.9913 - mae: 2.5488\n",
      "Epoch 179/1000\n",
      "13/13 [==============================] - 0s 2ms/step - loss: 11.9320 - mae: 2.5425\n",
      "Epoch 180/1000\n",
      "13/13 [==============================] - 0s 2ms/step - loss: 11.8738 - mae: 2.5375\n",
      "Epoch 181/1000\n",
      "13/13 [==============================] - 0s 2ms/step - loss: 11.8052 - mae: 2.5299\n",
      "Epoch 182/1000\n",
      "13/13 [==============================] - 0s 3ms/step - loss: 11.7574 - mae: 2.5238\n",
      "Epoch 183/1000\n",
      "13/13 [==============================] - 0s 3ms/step - loss: 11.7024 - mae: 2.5150\n",
      "Epoch 184/1000\n",
      "13/13 [==============================] - 0s 2ms/step - loss: 11.6316 - mae: 2.5076\n",
      "Epoch 185/1000\n",
      "13/13 [==============================] - 0s 2ms/step - loss: 11.5822 - mae: 2.5021\n",
      "Epoch 186/1000\n",
      "13/13 [==============================] - 0s 2ms/step - loss: 11.5269 - mae: 2.4940\n",
      "Epoch 187/1000\n",
      "13/13 [==============================] - 0s 2ms/step - loss: 11.4687 - mae: 2.4895\n",
      "Epoch 188/1000\n",
      "13/13 [==============================] - 0s 2ms/step - loss: 11.4182 - mae: 2.4818\n",
      "Epoch 189/1000\n",
      "13/13 [==============================] - 0s 2ms/step - loss: 11.3588 - mae: 2.4733\n",
      "Epoch 190/1000\n",
      "13/13 [==============================] - 0s 2ms/step - loss: 11.3081 - mae: 2.4665\n",
      "Epoch 191/1000\n",
      "13/13 [==============================] - 0s 2ms/step - loss: 11.2608 - mae: 2.4629\n",
      "Epoch 192/1000\n",
      "13/13 [==============================] - 0s 2ms/step - loss: 11.2036 - mae: 2.4565\n",
      "Epoch 193/1000\n",
      "13/13 [==============================] - 0s 3ms/step - loss: 11.1651 - mae: 2.4509\n",
      "Epoch 194/1000\n",
      "13/13 [==============================] - 0s 3ms/step - loss: 11.1159 - mae: 2.4430\n",
      "Epoch 195/1000\n",
      "13/13 [==============================] - 0s 2ms/step - loss: 11.0648 - mae: 2.4370\n",
      "Epoch 196/1000\n",
      "13/13 [==============================] - 0s 2ms/step - loss: 11.0273 - mae: 2.4304\n",
      "Epoch 197/1000\n",
      "13/13 [==============================] - 0s 2ms/step - loss: 11.0043 - mae: 2.4289\n",
      "Epoch 198/1000\n",
      "13/13 [==============================] - 0s 2ms/step - loss: 10.9254 - mae: 2.4192\n",
      "Epoch 199/1000\n",
      "13/13 [==============================] - 0s 2ms/step - loss: 10.8972 - mae: 2.4126\n",
      "Epoch 200/1000\n",
      "13/13 [==============================] - 0s 2ms/step - loss: 10.8428 - mae: 2.4061\n",
      "Epoch 201/1000\n",
      "13/13 [==============================] - 0s 2ms/step - loss: 10.8040 - mae: 2.4027\n",
      "Epoch 202/1000\n",
      "13/13 [==============================] - 0s 2ms/step - loss: 10.7527 - mae: 2.3987\n",
      "Epoch 203/1000\n",
      "13/13 [==============================] - 0s 2ms/step - loss: 10.7190 - mae: 2.3933\n",
      "Epoch 204/1000\n",
      "13/13 [==============================] - 0s 2ms/step - loss: 10.7089 - mae: 2.3946\n",
      "Epoch 205/1000\n",
      "13/13 [==============================] - 0s 2ms/step - loss: 10.6586 - mae: 2.3852\n",
      "Epoch 206/1000\n",
      "13/13 [==============================] - 0s 3ms/step - loss: 10.6001 - mae: 2.3782\n",
      "Epoch 207/1000\n",
      "13/13 [==============================] - 0s 2ms/step - loss: 10.5674 - mae: 2.3729\n",
      "Epoch 208/1000\n",
      "13/13 [==============================] - 0s 3ms/step - loss: 10.5262 - mae: 2.3682\n",
      "Epoch 209/1000\n",
      "13/13 [==============================] - 0s 2ms/step - loss: 10.4949 - mae: 2.3650\n",
      "Epoch 210/1000\n",
      "13/13 [==============================] - 0s 2ms/step - loss: 10.4994 - mae: 2.3643\n",
      "Epoch 211/1000\n",
      "13/13 [==============================] - 0s 2ms/step - loss: 10.4143 - mae: 2.3532\n",
      "Epoch 212/1000\n",
      "13/13 [==============================] - 0s 2ms/step - loss: 10.3873 - mae: 2.3519\n",
      "Epoch 213/1000\n",
      "13/13 [==============================] - 0s 2ms/step - loss: 10.3542 - mae: 2.3468\n",
      "Epoch 214/1000\n",
      "13/13 [==============================] - 0s 3ms/step - loss: 10.3111 - mae: 2.3410\n",
      "Epoch 215/1000\n",
      "13/13 [==============================] - 0s 3ms/step - loss: 10.2788 - mae: 2.3353\n",
      "Epoch 216/1000\n",
      "13/13 [==============================] - 0s 2ms/step - loss: 10.2528 - mae: 2.3337\n",
      "Epoch 217/1000\n",
      "13/13 [==============================] - 0s 2ms/step - loss: 10.2099 - mae: 2.3296\n",
      "Epoch 218/1000\n",
      "13/13 [==============================] - 0s 2ms/step - loss: 10.1930 - mae: 2.3254\n",
      "Epoch 219/1000\n",
      "13/13 [==============================] - 0s 2ms/step - loss: 10.1687 - mae: 2.3241\n",
      "Epoch 220/1000\n",
      "13/13 [==============================] - 0s 2ms/step - loss: 10.1527 - mae: 2.3227\n",
      "Epoch 221/1000\n",
      "13/13 [==============================] - 0s 3ms/step - loss: 10.1053 - mae: 2.3181\n",
      "Epoch 222/1000\n",
      "13/13 [==============================] - 0s 3ms/step - loss: 10.0959 - mae: 2.3146\n",
      "Epoch 223/1000\n",
      "13/13 [==============================] - 0s 3ms/step - loss: 10.0365 - mae: 2.3064\n",
      "Epoch 224/1000\n",
      "13/13 [==============================] - 0s 2ms/step - loss: 10.0078 - mae: 2.3028\n",
      "Epoch 225/1000\n",
      "13/13 [==============================] - 0s 2ms/step - loss: 9.9798 - mae: 2.3000\n",
      "Epoch 226/1000\n",
      "13/13 [==============================] - 0s 2ms/step - loss: 9.9561 - mae: 2.2972\n",
      "Epoch 227/1000\n",
      "13/13 [==============================] - 0s 2ms/step - loss: 9.9330 - mae: 2.2934\n",
      "Epoch 228/1000\n",
      "13/13 [==============================] - 0s 2ms/step - loss: 9.9017 - mae: 2.2882\n",
      "Epoch 229/1000\n",
      "13/13 [==============================] - 0s 2ms/step - loss: 9.8748 - mae: 2.2856\n",
      "Epoch 230/1000\n",
      "13/13 [==============================] - 0s 3ms/step - loss: 9.8484 - mae: 2.2831\n",
      "Epoch 231/1000\n",
      "13/13 [==============================] - 0s 2ms/step - loss: 9.8287 - mae: 2.2806\n",
      "Epoch 232/1000\n",
      "13/13 [==============================] - 0s 2ms/step - loss: 9.8129 - mae: 2.2743\n",
      "Epoch 233/1000\n",
      "13/13 [==============================] - 0s 2ms/step - loss: 9.7745 - mae: 2.2749\n",
      "Epoch 234/1000\n",
      "13/13 [==============================] - 0s 2ms/step - loss: 9.7451 - mae: 2.2717\n",
      "Epoch 235/1000\n",
      "13/13 [==============================] - 0s 3ms/step - loss: 9.7206 - mae: 2.2693\n",
      "Epoch 236/1000\n",
      "13/13 [==============================] - 0s 3ms/step - loss: 9.7000 - mae: 2.2665\n",
      "Epoch 237/1000\n",
      "13/13 [==============================] - 0s 3ms/step - loss: 9.6872 - mae: 2.2630\n",
      "Epoch 238/1000\n",
      "13/13 [==============================] - 0s 2ms/step - loss: 9.6500 - mae: 2.2570\n",
      "Epoch 239/1000\n",
      "13/13 [==============================] - 0s 2ms/step - loss: 9.6264 - mae: 2.2547\n",
      "Epoch 240/1000\n",
      "13/13 [==============================] - 0s 2ms/step - loss: 9.6143 - mae: 2.2520\n",
      "Epoch 241/1000\n",
      "13/13 [==============================] - 0s 2ms/step - loss: 9.5912 - mae: 2.2481\n",
      "Epoch 242/1000\n",
      "13/13 [==============================] - 0s 2ms/step - loss: 9.5579 - mae: 2.2438\n",
      "Epoch 243/1000\n",
      "13/13 [==============================] - 0s 2ms/step - loss: 9.5537 - mae: 2.2434\n",
      "Epoch 244/1000\n",
      "13/13 [==============================] - 0s 3ms/step - loss: 9.5100 - mae: 2.2376\n",
      "Epoch 245/1000\n",
      "13/13 [==============================] - 0s 3ms/step - loss: 9.5218 - mae: 2.2336\n",
      "Epoch 246/1000\n",
      "13/13 [==============================] - 0s 2ms/step - loss: 9.5272 - mae: 2.2358\n",
      "Epoch 247/1000\n",
      "13/13 [==============================] - 0s 2ms/step - loss: 9.4628 - mae: 2.2299\n",
      "Epoch 248/1000\n",
      "13/13 [==============================] - 0s 2ms/step - loss: 9.4300 - mae: 2.2258\n",
      "Epoch 249/1000\n",
      "13/13 [==============================] - 0s 2ms/step - loss: 9.4192 - mae: 2.2228\n",
      "Epoch 250/1000\n",
      "13/13 [==============================] - 0s 2ms/step - loss: 9.3890 - mae: 2.2165\n",
      "Epoch 251/1000\n"
     ]
    },
    {
     "name": "stdout",
     "output_type": "stream",
     "text": [
      "13/13 [==============================] - 0s 2ms/step - loss: 9.3703 - mae: 2.2141\n",
      "Epoch 252/1000\n",
      "13/13 [==============================] - 0s 2ms/step - loss: 9.3559 - mae: 2.2141\n",
      "Epoch 253/1000\n",
      "13/13 [==============================] - 0s 2ms/step - loss: 9.3364 - mae: 2.2113\n",
      "Epoch 254/1000\n",
      "13/13 [==============================] - 0s 2ms/step - loss: 9.3262 - mae: 2.2058\n",
      "Epoch 255/1000\n",
      "13/13 [==============================] - 0s 2ms/step - loss: 9.2979 - mae: 2.2034\n",
      "Epoch 256/1000\n",
      "13/13 [==============================] - 0s 2ms/step - loss: 9.2659 - mae: 2.1999\n",
      "Epoch 257/1000\n",
      "13/13 [==============================] - 0s 2ms/step - loss: 9.2440 - mae: 2.1964\n",
      "Epoch 258/1000\n",
      "13/13 [==============================] - 0s 2ms/step - loss: 9.2351 - mae: 2.1952\n",
      "Epoch 259/1000\n",
      "13/13 [==============================] - 0s 2ms/step - loss: 9.2309 - mae: 2.1939\n",
      "Epoch 260/1000\n",
      "13/13 [==============================] - 0s 2ms/step - loss: 9.1863 - mae: 2.1859\n",
      "Epoch 261/1000\n",
      "13/13 [==============================] - 0s 2ms/step - loss: 9.1662 - mae: 2.1849\n",
      "Epoch 262/1000\n",
      "13/13 [==============================] - 0s 2ms/step - loss: 9.1720 - mae: 2.1880\n",
      "Epoch 263/1000\n",
      "13/13 [==============================] - 0s 2ms/step - loss: 9.1344 - mae: 2.1790\n",
      "Epoch 264/1000\n",
      "13/13 [==============================] - 0s 2ms/step - loss: 9.1178 - mae: 2.1741\n",
      "Epoch 265/1000\n",
      "13/13 [==============================] - 0s 2ms/step - loss: 9.1079 - mae: 2.1764\n",
      "Epoch 266/1000\n",
      "13/13 [==============================] - 0s 2ms/step - loss: 9.0676 - mae: 2.1725\n",
      "Epoch 267/1000\n",
      "13/13 [==============================] - 0s 2ms/step - loss: 9.0598 - mae: 2.1672\n",
      "Epoch 268/1000\n",
      "13/13 [==============================] - 0s 2ms/step - loss: 9.0379 - mae: 2.1644\n",
      "Epoch 269/1000\n",
      "13/13 [==============================] - 0s 2ms/step - loss: 9.0586 - mae: 2.1694\n",
      "Epoch 270/1000\n",
      "13/13 [==============================] - 0s 2ms/step - loss: 9.0092 - mae: 2.1605\n",
      "Epoch 271/1000\n",
      "13/13 [==============================] - 0s 2ms/step - loss: 8.9931 - mae: 2.1572\n",
      "Epoch 272/1000\n",
      "13/13 [==============================] - 0s 2ms/step - loss: 8.9833 - mae: 2.1540\n",
      "Epoch 273/1000\n",
      "13/13 [==============================] - 0s 2ms/step - loss: 8.9374 - mae: 2.1513\n",
      "Epoch 274/1000\n",
      "13/13 [==============================] - 0s 2ms/step - loss: 8.9152 - mae: 2.1466\n",
      "Epoch 275/1000\n",
      "13/13 [==============================] - 0s 2ms/step - loss: 8.9139 - mae: 2.1444\n",
      "Epoch 276/1000\n",
      "13/13 [==============================] - 0s 2ms/step - loss: 8.8852 - mae: 2.1417\n",
      "Epoch 277/1000\n",
      "13/13 [==============================] - 0s 2ms/step - loss: 8.8755 - mae: 2.1409\n",
      "Epoch 278/1000\n",
      "13/13 [==============================] - 0s 2ms/step - loss: 8.8635 - mae: 2.1362\n",
      "Epoch 279/1000\n",
      "13/13 [==============================] - 0s 2ms/step - loss: 8.8383 - mae: 2.1329\n",
      "Epoch 280/1000\n",
      "13/13 [==============================] - 0s 2ms/step - loss: 8.8447 - mae: 2.1364\n",
      "Epoch 281/1000\n",
      "13/13 [==============================] - 0s 2ms/step - loss: 8.8221 - mae: 2.1277\n",
      "Epoch 282/1000\n",
      "13/13 [==============================] - 0s 2ms/step - loss: 8.7846 - mae: 2.1230\n",
      "Epoch 283/1000\n",
      "13/13 [==============================] - 0s 2ms/step - loss: 8.7699 - mae: 2.1195\n",
      "Epoch 284/1000\n",
      "13/13 [==============================] - 0s 2ms/step - loss: 8.7443 - mae: 2.1181\n",
      "Epoch 285/1000\n",
      "13/13 [==============================] - 0s 2ms/step - loss: 8.7266 - mae: 2.1166\n",
      "Epoch 286/1000\n",
      "13/13 [==============================] - 0s 2ms/step - loss: 8.7156 - mae: 2.1147\n",
      "Epoch 287/1000\n",
      "13/13 [==============================] - 0s 2ms/step - loss: 8.6974 - mae: 2.1118\n",
      "Epoch 288/1000\n",
      "13/13 [==============================] - 0s 2ms/step - loss: 8.6904 - mae: 2.1104\n",
      "Epoch 289/1000\n",
      "13/13 [==============================] - 0s 2ms/step - loss: 8.6781 - mae: 2.1063\n",
      "Epoch 290/1000\n",
      "13/13 [==============================] - 0s 2ms/step - loss: 8.6612 - mae: 2.1029\n",
      "Epoch 291/1000\n",
      "13/13 [==============================] - 0s 2ms/step - loss: 8.6381 - mae: 2.0994\n",
      "Epoch 292/1000\n",
      "13/13 [==============================] - 0s 2ms/step - loss: 8.6333 - mae: 2.0971\n",
      "Epoch 293/1000\n",
      "13/13 [==============================] - 0s 2ms/step - loss: 8.6223 - mae: 2.0970\n",
      "Epoch 294/1000\n",
      "13/13 [==============================] - 0s 2ms/step - loss: 8.6019 - mae: 2.0935\n",
      "Epoch 295/1000\n",
      "13/13 [==============================] - 0s 2ms/step - loss: 8.5877 - mae: 2.0948\n",
      "Epoch 296/1000\n",
      "13/13 [==============================] - 0s 2ms/step - loss: 8.5847 - mae: 2.0927\n",
      "Epoch 297/1000\n",
      "13/13 [==============================] - 0s 2ms/step - loss: 8.5710 - mae: 2.0896\n",
      "Epoch 298/1000\n",
      "13/13 [==============================] - 0s 2ms/step - loss: 8.5378 - mae: 2.0856\n",
      "Epoch 299/1000\n",
      "13/13 [==============================] - 0s 2ms/step - loss: 8.5308 - mae: 2.0833\n",
      "Epoch 300/1000\n",
      "13/13 [==============================] - 0s 2ms/step - loss: 8.5184 - mae: 2.0839\n",
      "Epoch 301/1000\n",
      "13/13 [==============================] - 0s 2ms/step - loss: 8.4986 - mae: 2.0805\n",
      "Epoch 302/1000\n",
      "13/13 [==============================] - 0s 2ms/step - loss: 8.4770 - mae: 2.0805\n",
      "Epoch 303/1000\n",
      "13/13 [==============================] - 0s 2ms/step - loss: 8.4672 - mae: 2.0768\n",
      "Epoch 304/1000\n",
      "13/13 [==============================] - 0s 2ms/step - loss: 8.4633 - mae: 2.0734\n",
      "Epoch 305/1000\n",
      "13/13 [==============================] - 0s 2ms/step - loss: 8.4573 - mae: 2.0743\n",
      "Epoch 306/1000\n",
      "13/13 [==============================] - 0s 2ms/step - loss: 8.4482 - mae: 2.0685\n",
      "Epoch 307/1000\n",
      "13/13 [==============================] - 0s 2ms/step - loss: 8.4353 - mae: 2.0699\n",
      "Epoch 308/1000\n",
      "13/13 [==============================] - 0s 3ms/step - loss: 8.3942 - mae: 2.0654\n",
      "Epoch 309/1000\n",
      "13/13 [==============================] - 0s 2ms/step - loss: 8.3814 - mae: 2.0625\n",
      "Epoch 310/1000\n",
      "13/13 [==============================] - 0s 2ms/step - loss: 8.4032 - mae: 2.0676\n",
      "Epoch 311/1000\n",
      "13/13 [==============================] - 0s 2ms/step - loss: 8.3878 - mae: 2.0561\n",
      "Epoch 312/1000\n",
      "13/13 [==============================] - 0s 2ms/step - loss: 8.3484 - mae: 2.0569\n",
      "Epoch 313/1000\n",
      "13/13 [==============================] - 0s 2ms/step - loss: 8.3317 - mae: 2.0569\n",
      "Epoch 314/1000\n",
      "13/13 [==============================] - 0s 2ms/step - loss: 8.3273 - mae: 2.0552\n",
      "Epoch 315/1000\n",
      "13/13 [==============================] - 0s 2ms/step - loss: 8.3054 - mae: 2.0509\n",
      "Epoch 316/1000\n",
      "13/13 [==============================] - 0s 2ms/step - loss: 8.2992 - mae: 2.0497\n",
      "Epoch 317/1000\n",
      "13/13 [==============================] - 0s 2ms/step - loss: 8.3256 - mae: 2.0568\n",
      "Epoch 318/1000\n",
      "13/13 [==============================] - 0s 2ms/step - loss: 8.2775 - mae: 2.0492\n",
      "Epoch 319/1000\n",
      "13/13 [==============================] - 0s 2ms/step - loss: 8.2634 - mae: 2.0435\n",
      "Epoch 320/1000\n",
      "13/13 [==============================] - 0s 2ms/step - loss: 8.2524 - mae: 2.0432\n",
      "Epoch 321/1000\n",
      "13/13 [==============================] - 0s 3ms/step - loss: 8.2374 - mae: 2.0418\n",
      "Epoch 322/1000\n",
      "13/13 [==============================] - 0s 2ms/step - loss: 8.2151 - mae: 2.0367\n",
      "Epoch 323/1000\n",
      "13/13 [==============================] - 0s 2ms/step - loss: 8.2108 - mae: 2.0346\n",
      "Epoch 324/1000\n",
      "13/13 [==============================] - 0s 2ms/step - loss: 8.1948 - mae: 2.0342\n",
      "Epoch 325/1000\n",
      "13/13 [==============================] - 0s 2ms/step - loss: 8.1846 - mae: 2.0341\n",
      "Epoch 326/1000\n",
      "13/13 [==============================] - 0s 2ms/step - loss: 8.1902 - mae: 2.0373\n",
      "Epoch 327/1000\n",
      "13/13 [==============================] - 0s 2ms/step - loss: 8.1958 - mae: 2.0398\n",
      "Epoch 328/1000\n",
      "13/13 [==============================] - 0s 2ms/step - loss: 8.1577 - mae: 2.0333\n",
      "Epoch 329/1000\n",
      "13/13 [==============================] - 0s 2ms/step - loss: 8.1466 - mae: 2.0264\n",
      "Epoch 330/1000\n",
      "13/13 [==============================] - 0s 2ms/step - loss: 8.1284 - mae: 2.0229\n",
      "Epoch 331/1000\n",
      "13/13 [==============================] - 0s 2ms/step - loss: 8.1099 - mae: 2.0241\n",
      "Epoch 332/1000\n",
      "13/13 [==============================] - 0s 2ms/step - loss: 8.1154 - mae: 2.0259\n",
      "Epoch 333/1000\n",
      "13/13 [==============================] - 0s 2ms/step - loss: 8.1114 - mae: 2.0260\n",
      "Epoch 334/1000\n",
      "13/13 [==============================] - 0s 2ms/step - loss: 8.0818 - mae: 2.0217\n",
      "Epoch 335/1000\n"
     ]
    },
    {
     "name": "stdout",
     "output_type": "stream",
     "text": [
      "13/13 [==============================] - 0s 2ms/step - loss: 8.0973 - mae: 2.0255\n",
      "Epoch 336/1000\n",
      "13/13 [==============================] - 0s 2ms/step - loss: 8.0624 - mae: 2.0199\n",
      "Epoch 337/1000\n",
      "13/13 [==============================] - 0s 2ms/step - loss: 8.0514 - mae: 2.0170\n",
      "Epoch 338/1000\n",
      "13/13 [==============================] - 0s 2ms/step - loss: 8.0449 - mae: 2.0142\n",
      "Epoch 339/1000\n",
      "13/13 [==============================] - 0s 2ms/step - loss: 8.0346 - mae: 2.0144\n",
      "Epoch 340/1000\n",
      "13/13 [==============================] - 0s 2ms/step - loss: 8.0262 - mae: 2.0111\n",
      "Epoch 341/1000\n",
      "13/13 [==============================] - 0s 2ms/step - loss: 8.0078 - mae: 2.0086\n",
      "Epoch 342/1000\n",
      "13/13 [==============================] - 0s 2ms/step - loss: 8.0037 - mae: 2.0076\n",
      "Epoch 343/1000\n",
      "13/13 [==============================] - 0s 2ms/step - loss: 7.9819 - mae: 2.0073\n",
      "Epoch 344/1000\n",
      "13/13 [==============================] - 0s 2ms/step - loss: 7.9942 - mae: 2.0113\n",
      "Epoch 345/1000\n",
      "13/13 [==============================] - 0s 2ms/step - loss: 7.9698 - mae: 2.0083\n",
      "Epoch 346/1000\n",
      "13/13 [==============================] - 0s 2ms/step - loss: 7.9657 - mae: 2.0029\n",
      "Epoch 347/1000\n",
      "13/13 [==============================] - 0s 2ms/step - loss: 7.9515 - mae: 1.9999\n",
      "Epoch 348/1000\n",
      "13/13 [==============================] - 0s 2ms/step - loss: 7.9608 - mae: 2.0034\n",
      "Epoch 349/1000\n",
      "13/13 [==============================] - 0s 2ms/step - loss: 7.9590 - mae: 2.0040\n",
      "Epoch 350/1000\n",
      "13/13 [==============================] - 0s 3ms/step - loss: 7.9169 - mae: 1.9955\n",
      "Epoch 351/1000\n",
      "13/13 [==============================] - 0s 2ms/step - loss: 7.9148 - mae: 1.9970\n",
      "Epoch 352/1000\n",
      "13/13 [==============================] - 0s 2ms/step - loss: 7.9404 - mae: 2.0074\n",
      "Epoch 353/1000\n",
      "13/13 [==============================] - 0s 2ms/step - loss: 7.8939 - mae: 1.9944\n",
      "Epoch 354/1000\n",
      "13/13 [==============================] - 0s 2ms/step - loss: 7.8863 - mae: 1.9937\n",
      "Epoch 355/1000\n",
      "13/13 [==============================] - 0s 2ms/step - loss: 7.8814 - mae: 1.9934\n",
      "Epoch 356/1000\n",
      "13/13 [==============================] - 0s 2ms/step - loss: 7.8542 - mae: 1.9902\n",
      "Epoch 357/1000\n",
      "13/13 [==============================] - 0s 2ms/step - loss: 7.8613 - mae: 1.9873\n",
      "Epoch 358/1000\n",
      "13/13 [==============================] - 0s 3ms/step - loss: 7.8471 - mae: 1.9858\n",
      "Epoch 359/1000\n",
      "13/13 [==============================] - 0s 3ms/step - loss: 7.8521 - mae: 1.9851\n",
      "Epoch 360/1000\n",
      "13/13 [==============================] - 0s 3ms/step - loss: 7.8266 - mae: 1.9832\n",
      "Epoch 361/1000\n",
      "13/13 [==============================] - 0s 3ms/step - loss: 7.8272 - mae: 1.9881\n",
      "Epoch 362/1000\n",
      "13/13 [==============================] - 0s 2ms/step - loss: 7.8030 - mae: 1.9820\n",
      "Epoch 363/1000\n",
      "13/13 [==============================] - 0s 2ms/step - loss: 7.8127 - mae: 1.9798\n",
      "Epoch 364/1000\n",
      "13/13 [==============================] - 0s 2ms/step - loss: 7.7898 - mae: 1.9772\n",
      "Epoch 365/1000\n",
      "13/13 [==============================] - 0s 2ms/step - loss: 7.7806 - mae: 1.9780\n",
      "Epoch 366/1000\n",
      "13/13 [==============================] - 0s 2ms/step - loss: 7.7882 - mae: 1.9809\n",
      "Epoch 367/1000\n",
      "13/13 [==============================] - 0s 2ms/step - loss: 7.7634 - mae: 1.9763\n",
      "Epoch 368/1000\n",
      "13/13 [==============================] - 0s 2ms/step - loss: 7.7549 - mae: 1.9752\n",
      "Epoch 369/1000\n",
      "13/13 [==============================] - 0s 2ms/step - loss: 7.7601 - mae: 1.9776\n",
      "Epoch 370/1000\n",
      "13/13 [==============================] - 0s 2ms/step - loss: 7.7566 - mae: 1.9760\n",
      "Epoch 371/1000\n",
      "13/13 [==============================] - 0s 2ms/step - loss: 7.7385 - mae: 1.9721\n",
      "Epoch 372/1000\n",
      "13/13 [==============================] - 0s 2ms/step - loss: 7.7505 - mae: 1.9780\n",
      "Epoch 373/1000\n",
      "13/13 [==============================] - 0s 2ms/step - loss: 7.7106 - mae: 1.9716\n",
      "Epoch 374/1000\n",
      "13/13 [==============================] - 0s 2ms/step - loss: 7.7022 - mae: 1.9699\n",
      "Epoch 375/1000\n",
      "13/13 [==============================] - 0s 2ms/step - loss: 7.6872 - mae: 1.9673\n",
      "Epoch 376/1000\n",
      "13/13 [==============================] - 0s 2ms/step - loss: 7.6796 - mae: 1.9657\n",
      "Epoch 377/1000\n",
      "13/13 [==============================] - 0s 2ms/step - loss: 7.6774 - mae: 1.9654\n",
      "Epoch 378/1000\n",
      "13/13 [==============================] - 0s 2ms/step - loss: 7.6642 - mae: 1.9647\n",
      "Epoch 379/1000\n",
      "13/13 [==============================] - 0s 2ms/step - loss: 7.6850 - mae: 1.9694\n",
      "Epoch 380/1000\n",
      "13/13 [==============================] - 0s 2ms/step - loss: 7.6606 - mae: 1.9647\n",
      "Epoch 381/1000\n",
      "13/13 [==============================] - 0s 2ms/step - loss: 7.6545 - mae: 1.9650\n",
      "Epoch 382/1000\n",
      "13/13 [==============================] - 0s 2ms/step - loss: 7.6451 - mae: 1.9619\n",
      "Epoch 383/1000\n",
      "13/13 [==============================] - 0s 3ms/step - loss: 7.6500 - mae: 1.9609\n",
      "Epoch 384/1000\n",
      "13/13 [==============================] - 0s 2ms/step - loss: 7.6536 - mae: 1.9596\n",
      "Epoch 385/1000\n",
      "13/13 [==============================] - 0s 2ms/step - loss: 7.6067 - mae: 1.9544\n",
      "Epoch 386/1000\n",
      "13/13 [==============================] - 0s 2ms/step - loss: 7.5958 - mae: 1.9551\n",
      "Epoch 387/1000\n",
      "13/13 [==============================] - 0s 2ms/step - loss: 7.6040 - mae: 1.9581\n",
      "Epoch 388/1000\n",
      "13/13 [==============================] - 0s 2ms/step - loss: 7.5898 - mae: 1.9576\n",
      "Epoch 389/1000\n",
      "13/13 [==============================] - 0s 3ms/step - loss: 7.5855 - mae: 1.9543\n",
      "Epoch 390/1000\n",
      "13/13 [==============================] - 0s 2ms/step - loss: 7.5932 - mae: 1.9566\n",
      "Epoch 391/1000\n",
      "13/13 [==============================] - 0s 2ms/step - loss: 7.5831 - mae: 1.9562\n",
      "Epoch 392/1000\n",
      "13/13 [==============================] - 0s 2ms/step - loss: 7.5988 - mae: 1.9499\n",
      "Epoch 393/1000\n",
      "13/13 [==============================] - 0s 2ms/step - loss: 7.5635 - mae: 1.9459\n",
      "Epoch 394/1000\n",
      "13/13 [==============================] - 0s 2ms/step - loss: 7.5564 - mae: 1.9472\n",
      "Epoch 395/1000\n",
      "13/13 [==============================] - 0s 2ms/step - loss: 7.5426 - mae: 1.9476\n",
      "Epoch 396/1000\n",
      "13/13 [==============================] - 0s 2ms/step - loss: 7.5223 - mae: 1.9443\n",
      "Epoch 397/1000\n",
      "13/13 [==============================] - 0s 2ms/step - loss: 7.5483 - mae: 1.9509\n",
      "Epoch 398/1000\n",
      "13/13 [==============================] - 0s 2ms/step - loss: 7.5287 - mae: 1.9475\n",
      "Epoch 399/1000\n",
      "13/13 [==============================] - 0s 2ms/step - loss: 7.5110 - mae: 1.9450\n",
      "Epoch 400/1000\n",
      "13/13 [==============================] - 0s 2ms/step - loss: 7.5315 - mae: 1.9426\n",
      "Epoch 401/1000\n",
      "13/13 [==============================] - 0s 2ms/step - loss: 7.5202 - mae: 1.9454\n",
      "Epoch 402/1000\n",
      "13/13 [==============================] - 0s 2ms/step - loss: 7.5069 - mae: 1.9458\n",
      "Epoch 403/1000\n",
      "13/13 [==============================] - 0s 2ms/step - loss: 7.4891 - mae: 1.9409\n",
      "Epoch 404/1000\n",
      "13/13 [==============================] - 0s 2ms/step - loss: 7.4927 - mae: 1.9384\n",
      "Epoch 405/1000\n",
      "13/13 [==============================] - 0s 2ms/step - loss: 7.4748 - mae: 1.9403\n",
      "Epoch 406/1000\n",
      "13/13 [==============================] - 0s 2ms/step - loss: 7.4731 - mae: 1.9405\n",
      "Epoch 407/1000\n",
      "13/13 [==============================] - 0s 2ms/step - loss: 7.4698 - mae: 1.9425\n",
      "Epoch 408/1000\n",
      "13/13 [==============================] - 0s 2ms/step - loss: 7.4625 - mae: 1.9396\n",
      "Epoch 409/1000\n",
      "13/13 [==============================] - 0s 2ms/step - loss: 7.4392 - mae: 1.9326\n",
      "Epoch 410/1000\n",
      "13/13 [==============================] - 0s 2ms/step - loss: 7.4443 - mae: 1.9346\n",
      "Epoch 411/1000\n",
      "13/13 [==============================] - 0s 2ms/step - loss: 7.4277 - mae: 1.9295\n",
      "Epoch 412/1000\n",
      "13/13 [==============================] - 0s 2ms/step - loss: 7.4305 - mae: 1.9314\n",
      "Epoch 413/1000\n",
      "13/13 [==============================] - 0s 3ms/step - loss: 7.4228 - mae: 1.9310\n",
      "Epoch 414/1000\n",
      "13/13 [==============================] - 0s 2ms/step - loss: 7.4222 - mae: 1.9295\n",
      "Epoch 415/1000\n",
      "13/13 [==============================] - 0s 2ms/step - loss: 7.3962 - mae: 1.9237\n",
      "Epoch 416/1000\n",
      "13/13 [==============================] - 0s 2ms/step - loss: 7.3986 - mae: 1.9286\n",
      "Epoch 417/1000\n",
      "13/13 [==============================] - 0s 2ms/step - loss: 7.3809 - mae: 1.9280\n",
      "Epoch 418/1000\n",
      "13/13 [==============================] - 0s 2ms/step - loss: 7.3754 - mae: 1.9255\n",
      "Epoch 419/1000\n"
     ]
    },
    {
     "name": "stdout",
     "output_type": "stream",
     "text": [
      "13/13 [==============================] - 0s 2ms/step - loss: 7.3770 - mae: 1.9276\n",
      "Epoch 420/1000\n",
      "13/13 [==============================] - 0s 2ms/step - loss: 7.3753 - mae: 1.9259\n",
      "Epoch 421/1000\n",
      "13/13 [==============================] - 0s 2ms/step - loss: 7.3584 - mae: 1.9192\n",
      "Epoch 422/1000\n",
      "13/13 [==============================] - 0s 2ms/step - loss: 7.3649 - mae: 1.9259\n",
      "Epoch 423/1000\n",
      "13/13 [==============================] - 0s 2ms/step - loss: 7.3618 - mae: 1.9254\n",
      "Epoch 424/1000\n",
      "13/13 [==============================] - 0s 2ms/step - loss: 7.3414 - mae: 1.9218\n",
      "Epoch 425/1000\n",
      "13/13 [==============================] - 0s 2ms/step - loss: 7.3313 - mae: 1.9204\n",
      "Epoch 426/1000\n",
      "13/13 [==============================] - 0s 2ms/step - loss: 7.3350 - mae: 1.9222\n",
      "Epoch 427/1000\n",
      "13/13 [==============================] - 0s 2ms/step - loss: 7.3323 - mae: 1.9207\n",
      "Epoch 428/1000\n",
      "13/13 [==============================] - 0s 2ms/step - loss: 7.3216 - mae: 1.9200\n",
      "Epoch 429/1000\n",
      "13/13 [==============================] - 0s 2ms/step - loss: 7.3173 - mae: 1.9193\n",
      "Epoch 430/1000\n",
      "13/13 [==============================] - 0s 2ms/step - loss: 7.3082 - mae: 1.9188\n",
      "Epoch 431/1000\n",
      "13/13 [==============================] - 0s 2ms/step - loss: 7.3231 - mae: 1.9163\n",
      "Epoch 432/1000\n",
      "13/13 [==============================] - 0s 2ms/step - loss: 7.3063 - mae: 1.9157\n",
      "Epoch 433/1000\n",
      "13/13 [==============================] - 0s 2ms/step - loss: 7.2898 - mae: 1.9161\n",
      "Epoch 434/1000\n",
      "13/13 [==============================] - 0s 2ms/step - loss: 7.2916 - mae: 1.9137\n",
      "Epoch 435/1000\n",
      "13/13 [==============================] - 0s 2ms/step - loss: 7.2835 - mae: 1.9128\n",
      "Epoch 436/1000\n",
      "13/13 [==============================] - 0s 2ms/step - loss: 7.2829 - mae: 1.9128\n",
      "Epoch 437/1000\n",
      "13/13 [==============================] - 0s 2ms/step - loss: 7.2783 - mae: 1.9149\n",
      "Epoch 438/1000\n",
      "13/13 [==============================] - 0s 2ms/step - loss: 7.2725 - mae: 1.9117\n",
      "Epoch 439/1000\n",
      "13/13 [==============================] - 0s 2ms/step - loss: 7.2584 - mae: 1.9113\n",
      "Epoch 440/1000\n",
      "13/13 [==============================] - 0s 2ms/step - loss: 7.2527 - mae: 1.9113\n",
      "Epoch 441/1000\n",
      "13/13 [==============================] - 0s 2ms/step - loss: 7.2684 - mae: 1.9091\n",
      "Epoch 442/1000\n",
      "13/13 [==============================] - 0s 2ms/step - loss: 7.2489 - mae: 1.9116\n",
      "Epoch 443/1000\n",
      "13/13 [==============================] - 0s 2ms/step - loss: 7.2406 - mae: 1.9096\n",
      "Epoch 444/1000\n",
      "13/13 [==============================] - 0s 2ms/step - loss: 7.2170 - mae: 1.9057\n",
      "Epoch 445/1000\n",
      "13/13 [==============================] - 0s 2ms/step - loss: 7.2256 - mae: 1.9052\n",
      "Epoch 446/1000\n",
      "13/13 [==============================] - 0s 2ms/step - loss: 7.2102 - mae: 1.9044\n",
      "Epoch 447/1000\n",
      "13/13 [==============================] - 0s 2ms/step - loss: 7.2046 - mae: 1.9052\n",
      "Epoch 448/1000\n",
      "13/13 [==============================] - 0s 2ms/step - loss: 7.2104 - mae: 1.9084\n",
      "Epoch 449/1000\n",
      "13/13 [==============================] - 0s 2ms/step - loss: 7.2033 - mae: 1.9063\n",
      "Epoch 450/1000\n",
      "13/13 [==============================] - 0s 2ms/step - loss: 7.1934 - mae: 1.9033\n",
      "Epoch 451/1000\n",
      "13/13 [==============================] - 0s 2ms/step - loss: 7.1907 - mae: 1.9028\n",
      "Epoch 452/1000\n",
      "13/13 [==============================] - 0s 2ms/step - loss: 7.2295 - mae: 1.9079\n",
      "Epoch 453/1000\n",
      "13/13 [==============================] - 0s 2ms/step - loss: 7.1910 - mae: 1.9041\n",
      "Epoch 454/1000\n",
      "13/13 [==============================] - 0s 2ms/step - loss: 7.1954 - mae: 1.9011\n",
      "Epoch 455/1000\n",
      "13/13 [==============================] - 0s 2ms/step - loss: 7.1785 - mae: 1.9011\n",
      "Epoch 456/1000\n",
      "13/13 [==============================] - 0s 2ms/step - loss: 7.1717 - mae: 1.8994\n",
      "Epoch 457/1000\n",
      "13/13 [==============================] - 0s 3ms/step - loss: 7.1579 - mae: 1.8980\n",
      "Epoch 458/1000\n",
      "13/13 [==============================] - 0s 2ms/step - loss: 7.1567 - mae: 1.9002\n",
      "Epoch 459/1000\n",
      "13/13 [==============================] - 0s 2ms/step - loss: 7.1527 - mae: 1.8997\n",
      "Epoch 460/1000\n",
      "13/13 [==============================] - 0s 2ms/step - loss: 7.1538 - mae: 1.8973\n",
      "Epoch 461/1000\n",
      "13/13 [==============================] - 0s 2ms/step - loss: 7.1446 - mae: 1.8959\n",
      "Epoch 462/1000\n",
      "13/13 [==============================] - 0s 2ms/step - loss: 7.1558 - mae: 1.9000\n",
      "Epoch 463/1000\n",
      "13/13 [==============================] - 0s 2ms/step - loss: 7.1408 - mae: 1.8991\n",
      "Epoch 464/1000\n",
      "13/13 [==============================] - 0s 2ms/step - loss: 7.1446 - mae: 1.8996\n",
      "Epoch 465/1000\n",
      "13/13 [==============================] - 0s 2ms/step - loss: 7.1177 - mae: 1.8935\n",
      "Epoch 466/1000\n",
      "13/13 [==============================] - 0s 2ms/step - loss: 7.1330 - mae: 1.8961\n",
      "Epoch 467/1000\n",
      "13/13 [==============================] - 0s 2ms/step - loss: 7.1223 - mae: 1.8938\n",
      "Epoch 468/1000\n",
      "13/13 [==============================] - 0s 2ms/step - loss: 7.1301 - mae: 1.8998\n",
      "Epoch 469/1000\n",
      "13/13 [==============================] - 0s 2ms/step - loss: 7.1390 - mae: 1.8972\n",
      "Epoch 470/1000\n",
      "13/13 [==============================] - 0s 2ms/step - loss: 7.1024 - mae: 1.8908\n",
      "Epoch 471/1000\n",
      "13/13 [==============================] - 0s 2ms/step - loss: 7.1076 - mae: 1.8910\n",
      "Epoch 472/1000\n",
      "13/13 [==============================] - 0s 2ms/step - loss: 7.1368 - mae: 1.9005\n",
      "Epoch 473/1000\n",
      "13/13 [==============================] - 0s 2ms/step - loss: 7.1003 - mae: 1.8903\n",
      "Epoch 474/1000\n",
      "13/13 [==============================] - 0s 2ms/step - loss: 7.0803 - mae: 1.8901\n",
      "Epoch 475/1000\n",
      "13/13 [==============================] - 0s 2ms/step - loss: 7.0742 - mae: 1.8891\n",
      "Epoch 476/1000\n",
      "13/13 [==============================] - 0s 2ms/step - loss: 7.0788 - mae: 1.8882\n",
      "Epoch 477/1000\n",
      "13/13 [==============================] - 0s 2ms/step - loss: 7.0718 - mae: 1.8890\n",
      "Epoch 478/1000\n",
      "13/13 [==============================] - 0s 2ms/step - loss: 7.0733 - mae: 1.8904\n",
      "Epoch 479/1000\n",
      "13/13 [==============================] - 0s 2ms/step - loss: 7.0629 - mae: 1.8862\n",
      "Epoch 480/1000\n",
      "13/13 [==============================] - 0s 2ms/step - loss: 7.0651 - mae: 1.8871\n",
      "Epoch 481/1000\n",
      "13/13 [==============================] - 0s 2ms/step - loss: 7.0550 - mae: 1.8884\n",
      "Epoch 482/1000\n",
      "13/13 [==============================] - 0s 2ms/step - loss: 7.0715 - mae: 1.8885\n",
      "Epoch 483/1000\n",
      "13/13 [==============================] - 0s 2ms/step - loss: 7.0736 - mae: 1.8920\n",
      "Epoch 484/1000\n",
      "13/13 [==============================] - 0s 2ms/step - loss: 7.0808 - mae: 1.8869\n",
      "Epoch 485/1000\n",
      "13/13 [==============================] - 0s 2ms/step - loss: 7.0569 - mae: 1.8888\n",
      "Epoch 486/1000\n",
      "13/13 [==============================] - 0s 2ms/step - loss: 7.0443 - mae: 1.8873\n",
      "Epoch 487/1000\n",
      "13/13 [==============================] - 0s 2ms/step - loss: 7.0215 - mae: 1.8855\n",
      "Epoch 488/1000\n",
      "13/13 [==============================] - 0s 2ms/step - loss: 7.0278 - mae: 1.8906\n",
      "Epoch 489/1000\n",
      "13/13 [==============================] - 0s 2ms/step - loss: 7.0326 - mae: 1.8817\n",
      "Epoch 490/1000\n",
      "13/13 [==============================] - 0s 2ms/step - loss: 7.0213 - mae: 1.8833\n",
      "Epoch 491/1000\n",
      "13/13 [==============================] - 0s 2ms/step - loss: 7.0127 - mae: 1.8829\n",
      "Epoch 492/1000\n",
      "13/13 [==============================] - 0s 2ms/step - loss: 7.0087 - mae: 1.8825\n",
      "Epoch 493/1000\n",
      "13/13 [==============================] - 0s 3ms/step - loss: 6.9919 - mae: 1.8782\n",
      "Epoch 494/1000\n",
      "13/13 [==============================] - 0s 2ms/step - loss: 7.0029 - mae: 1.8805\n",
      "Epoch 495/1000\n",
      "13/13 [==============================] - 0s 2ms/step - loss: 6.9945 - mae: 1.8782\n",
      "Epoch 496/1000\n",
      "13/13 [==============================] - 0s 2ms/step - loss: 6.9992 - mae: 1.8783\n",
      "Epoch 497/1000\n",
      "13/13 [==============================] - 0s 2ms/step - loss: 6.9924 - mae: 1.8811\n",
      "Epoch 498/1000\n",
      "13/13 [==============================] - 0s 2ms/step - loss: 6.9966 - mae: 1.8797\n",
      "Epoch 499/1000\n",
      "13/13 [==============================] - 0s 3ms/step - loss: 6.9813 - mae: 1.8788\n",
      "Epoch 500/1000\n",
      "13/13 [==============================] - 0s 3ms/step - loss: 6.9655 - mae: 1.8786\n",
      "Epoch 501/1000\n",
      "13/13 [==============================] - 0s 3ms/step - loss: 6.9702 - mae: 1.8756\n",
      "Epoch 502/1000\n",
      "13/13 [==============================] - 0s 3ms/step - loss: 6.9985 - mae: 1.8792\n",
      "Epoch 503/1000\n"
     ]
    },
    {
     "name": "stdout",
     "output_type": "stream",
     "text": [
      "13/13 [==============================] - 0s 3ms/step - loss: 6.9412 - mae: 1.8715\n",
      "Epoch 504/1000\n",
      "13/13 [==============================] - 0s 3ms/step - loss: 6.9405 - mae: 1.8750\n",
      "Epoch 505/1000\n",
      "13/13 [==============================] - 0s 2ms/step - loss: 6.9457 - mae: 1.8738\n",
      "Epoch 506/1000\n",
      "13/13 [==============================] - 0s 2ms/step - loss: 6.9247 - mae: 1.8722\n",
      "Epoch 507/1000\n",
      "13/13 [==============================] - 0s 2ms/step - loss: 6.9185 - mae: 1.8719\n",
      "Epoch 508/1000\n",
      "13/13 [==============================] - 0s 2ms/step - loss: 6.9148 - mae: 1.8722\n",
      "Epoch 509/1000\n",
      "13/13 [==============================] - 0s 2ms/step - loss: 6.9092 - mae: 1.8670\n",
      "Epoch 510/1000\n",
      "13/13 [==============================] - 0s 2ms/step - loss: 6.9274 - mae: 1.8745\n",
      "Epoch 511/1000\n",
      "13/13 [==============================] - 0s 2ms/step - loss: 6.9249 - mae: 1.8756\n",
      "Epoch 512/1000\n",
      "13/13 [==============================] - 0s 2ms/step - loss: 6.9202 - mae: 1.8732\n",
      "Epoch 513/1000\n",
      "13/13 [==============================] - 0s 2ms/step - loss: 6.8928 - mae: 1.8733\n",
      "Epoch 514/1000\n",
      "13/13 [==============================] - 0s 3ms/step - loss: 6.8882 - mae: 1.8666\n",
      "Epoch 515/1000\n",
      "13/13 [==============================] - 0s 2ms/step - loss: 6.8858 - mae: 1.8649\n",
      "Epoch 516/1000\n",
      "13/13 [==============================] - 0s 2ms/step - loss: 6.8954 - mae: 1.8666\n",
      "Epoch 517/1000\n",
      "13/13 [==============================] - 0s 2ms/step - loss: 6.8630 - mae: 1.8659\n",
      "Epoch 518/1000\n",
      "13/13 [==============================] - 0s 2ms/step - loss: 6.8759 - mae: 1.8652\n",
      "Epoch 519/1000\n",
      "13/13 [==============================] - 0s 3ms/step - loss: 6.8707 - mae: 1.8690\n",
      "Epoch 520/1000\n",
      "13/13 [==============================] - 0s 2ms/step - loss: 6.8619 - mae: 1.8689\n",
      "Epoch 521/1000\n",
      "13/13 [==============================] - 0s 3ms/step - loss: 6.8677 - mae: 1.8678\n",
      "Epoch 522/1000\n",
      "13/13 [==============================] - 0s 3ms/step - loss: 6.8431 - mae: 1.8637\n",
      "Epoch 523/1000\n",
      "13/13 [==============================] - 0s 3ms/step - loss: 6.8586 - mae: 1.8653\n",
      "Epoch 524/1000\n",
      "13/13 [==============================] - 0s 2ms/step - loss: 6.8279 - mae: 1.8628\n",
      "Epoch 525/1000\n",
      "13/13 [==============================] - 0s 2ms/step - loss: 6.8282 - mae: 1.8638\n",
      "Epoch 526/1000\n",
      "13/13 [==============================] - 0s 2ms/step - loss: 6.8142 - mae: 1.8623\n",
      "Epoch 527/1000\n",
      "13/13 [==============================] - 0s 2ms/step - loss: 6.8074 - mae: 1.8594\n",
      "Epoch 528/1000\n",
      "13/13 [==============================] - 0s 2ms/step - loss: 6.8276 - mae: 1.8570\n",
      "Epoch 529/1000\n",
      "13/13 [==============================] - 0s 2ms/step - loss: 6.8085 - mae: 1.8608\n",
      "Epoch 530/1000\n",
      "13/13 [==============================] - 0s 3ms/step - loss: 6.8091 - mae: 1.8586\n",
      "Epoch 531/1000\n",
      "13/13 [==============================] - 0s 3ms/step - loss: 6.7942 - mae: 1.8565\n",
      "Epoch 532/1000\n",
      "13/13 [==============================] - 0s 2ms/step - loss: 6.7951 - mae: 1.8583\n",
      "Epoch 533/1000\n",
      "13/13 [==============================] - 0s 2ms/step - loss: 6.8139 - mae: 1.8641\n",
      "Epoch 534/1000\n",
      "13/13 [==============================] - 0s 3ms/step - loss: 6.8024 - mae: 1.8555\n",
      "Epoch 535/1000\n",
      "13/13 [==============================] - 0s 3ms/step - loss: 6.7955 - mae: 1.8582\n",
      "Epoch 536/1000\n",
      "13/13 [==============================] - 0s 2ms/step - loss: 6.7750 - mae: 1.8565\n",
      "Epoch 537/1000\n",
      "13/13 [==============================] - 0s 3ms/step - loss: 6.7725 - mae: 1.8553\n",
      "Epoch 538/1000\n",
      "13/13 [==============================] - 0s 3ms/step - loss: 6.7823 - mae: 1.8564\n",
      "Epoch 539/1000\n",
      "13/13 [==============================] - 0s 2ms/step - loss: 6.7664 - mae: 1.8571\n",
      "Epoch 540/1000\n",
      "13/13 [==============================] - 0s 2ms/step - loss: 6.7639 - mae: 1.8547\n",
      "Epoch 541/1000\n",
      "13/13 [==============================] - 0s 3ms/step - loss: 6.7631 - mae: 1.8528\n",
      "Epoch 542/1000\n",
      "13/13 [==============================] - 0s 2ms/step - loss: 6.7548 - mae: 1.8526\n",
      "Epoch 543/1000\n",
      "13/13 [==============================] - 0s 2ms/step - loss: 6.7582 - mae: 1.8521\n",
      "Epoch 544/1000\n",
      "13/13 [==============================] - 0s 2ms/step - loss: 6.7503 - mae: 1.8527\n",
      "Epoch 545/1000\n",
      "13/13 [==============================] - 0s 2ms/step - loss: 6.7501 - mae: 1.8504\n",
      "Epoch 546/1000\n",
      "13/13 [==============================] - 0s 2ms/step - loss: 6.7347 - mae: 1.8508\n",
      "Epoch 547/1000\n",
      "13/13 [==============================] - 0s 2ms/step - loss: 6.7378 - mae: 1.8531\n",
      "Epoch 548/1000\n",
      "13/13 [==============================] - 0s 2ms/step - loss: 6.7278 - mae: 1.8518\n",
      "Epoch 549/1000\n",
      "13/13 [==============================] - 0s 2ms/step - loss: 6.7607 - mae: 1.8532\n",
      "Epoch 550/1000\n",
      "13/13 [==============================] - 0s 2ms/step - loss: 6.7288 - mae: 1.8495\n",
      "Epoch 551/1000\n",
      "13/13 [==============================] - 0s 2ms/step - loss: 6.7252 - mae: 1.8507\n",
      "Epoch 552/1000\n",
      "13/13 [==============================] - 0s 2ms/step - loss: 6.7404 - mae: 1.8509\n",
      "Epoch 553/1000\n",
      "13/13 [==============================] - 0s 2ms/step - loss: 6.7720 - mae: 1.8592\n",
      "Epoch 554/1000\n",
      "13/13 [==============================] - 0s 2ms/step - loss: 6.7385 - mae: 1.8527\n",
      "Epoch 555/1000\n",
      "13/13 [==============================] - 0s 2ms/step - loss: 6.7256 - mae: 1.8481\n",
      "Epoch 556/1000\n",
      "13/13 [==============================] - 0s 2ms/step - loss: 6.7499 - mae: 1.8524\n",
      "Epoch 557/1000\n",
      "13/13 [==============================] - 0s 2ms/step - loss: 6.7000 - mae: 1.8483\n",
      "Epoch 558/1000\n",
      "13/13 [==============================] - 0s 2ms/step - loss: 6.6829 - mae: 1.8426\n",
      "Epoch 559/1000\n",
      "13/13 [==============================] - 0s 2ms/step - loss: 6.6874 - mae: 1.8482\n",
      "Epoch 560/1000\n",
      "13/13 [==============================] - 0s 2ms/step - loss: 6.6912 - mae: 1.8459\n",
      "Epoch 561/1000\n",
      "13/13 [==============================] - 0s 3ms/step - loss: 6.6579 - mae: 1.8397\n",
      "Epoch 562/1000\n",
      "13/13 [==============================] - 0s 3ms/step - loss: 6.6747 - mae: 1.8434\n",
      "Epoch 563/1000\n",
      "13/13 [==============================] - 0s 2ms/step - loss: 6.6691 - mae: 1.8434\n",
      "Epoch 564/1000\n",
      "13/13 [==============================] - 0s 2ms/step - loss: 6.6552 - mae: 1.8415\n",
      "Epoch 565/1000\n",
      "13/13 [==============================] - 0s 3ms/step - loss: 6.6497 - mae: 1.8402\n",
      "Epoch 566/1000\n",
      "13/13 [==============================] - 0s 2ms/step - loss: 6.6427 - mae: 1.8371\n",
      "Epoch 567/1000\n",
      "13/13 [==============================] - 0s 2ms/step - loss: 6.6595 - mae: 1.8409\n",
      "Epoch 568/1000\n",
      "13/13 [==============================] - 0s 2ms/step - loss: 6.6454 - mae: 1.8401\n",
      "Epoch 569/1000\n",
      "13/13 [==============================] - 0s 2ms/step - loss: 6.6302 - mae: 1.8343\n",
      "Epoch 570/1000\n",
      "13/13 [==============================] - 0s 2ms/step - loss: 6.6243 - mae: 1.8368\n",
      "Epoch 571/1000\n",
      "13/13 [==============================] - 0s 2ms/step - loss: 6.6234 - mae: 1.8361\n",
      "Epoch 572/1000\n",
      "13/13 [==============================] - 0s 2ms/step - loss: 6.6183 - mae: 1.8341\n",
      "Epoch 573/1000\n",
      "13/13 [==============================] - 0s 2ms/step - loss: 6.6316 - mae: 1.8326\n",
      "Epoch 574/1000\n",
      "13/13 [==============================] - 0s 2ms/step - loss: 6.6526 - mae: 1.8398\n",
      "Epoch 575/1000\n",
      "13/13 [==============================] - 0s 2ms/step - loss: 6.6314 - mae: 1.8295\n",
      "Epoch 576/1000\n",
      "13/13 [==============================] - 0s 2ms/step - loss: 6.6142 - mae: 1.8296\n",
      "Epoch 577/1000\n",
      "13/13 [==============================] - 0s 3ms/step - loss: 6.6254 - mae: 1.8340\n",
      "Epoch 578/1000\n",
      "13/13 [==============================] - 0s 2ms/step - loss: 6.6009 - mae: 1.8320\n",
      "Epoch 579/1000\n",
      "13/13 [==============================] - 0s 2ms/step - loss: 6.6446 - mae: 1.8409\n",
      "Epoch 580/1000\n",
      "13/13 [==============================] - 0s 2ms/step - loss: 6.6110 - mae: 1.8324\n",
      "Epoch 581/1000\n",
      "13/13 [==============================] - 0s 2ms/step - loss: 6.5926 - mae: 1.8304\n",
      "Epoch 582/1000\n",
      "13/13 [==============================] - 0s 2ms/step - loss: 6.5798 - mae: 1.8299\n",
      "Epoch 583/1000\n",
      "13/13 [==============================] - 0s 2ms/step - loss: 6.5925 - mae: 1.8330\n",
      "Epoch 584/1000\n",
      "13/13 [==============================] - 0s 2ms/step - loss: 6.6136 - mae: 1.8377\n",
      "Epoch 585/1000\n",
      "13/13 [==============================] - 0s 2ms/step - loss: 6.6052 - mae: 1.8329\n",
      "Epoch 586/1000\n",
      "13/13 [==============================] - 0s 2ms/step - loss: 6.5943 - mae: 1.8318\n",
      "Epoch 587/1000\n"
     ]
    },
    {
     "name": "stdout",
     "output_type": "stream",
     "text": [
      "13/13 [==============================] - 0s 2ms/step - loss: 6.5709 - mae: 1.8269\n",
      "Epoch 588/1000\n",
      "13/13 [==============================] - 0s 2ms/step - loss: 6.5942 - mae: 1.8300\n",
      "Epoch 589/1000\n",
      "13/13 [==============================] - 0s 2ms/step - loss: 6.5878 - mae: 1.8273\n",
      "Epoch 590/1000\n",
      "13/13 [==============================] - 0s 2ms/step - loss: 6.5626 - mae: 1.8249\n",
      "Epoch 591/1000\n",
      "13/13 [==============================] - 0s 2ms/step - loss: 6.5823 - mae: 1.8316\n",
      "Epoch 592/1000\n",
      "13/13 [==============================] - 0s 2ms/step - loss: 6.5583 - mae: 1.8259\n",
      "Epoch 593/1000\n",
      "13/13 [==============================] - 0s 2ms/step - loss: 6.5482 - mae: 1.8241\n",
      "Epoch 594/1000\n",
      "13/13 [==============================] - 0s 3ms/step - loss: 6.5443 - mae: 1.8230\n",
      "Epoch 595/1000\n",
      "13/13 [==============================] - 0s 2ms/step - loss: 6.5618 - mae: 1.8235\n",
      "Epoch 596/1000\n",
      "13/13 [==============================] - 0s 2ms/step - loss: 6.5312 - mae: 1.8204\n",
      "Epoch 597/1000\n",
      "13/13 [==============================] - 0s 3ms/step - loss: 6.5385 - mae: 1.8236\n",
      "Epoch 598/1000\n",
      "13/13 [==============================] - 0s 2ms/step - loss: 6.5348 - mae: 1.8236\n",
      "Epoch 599/1000\n",
      "13/13 [==============================] - 0s 2ms/step - loss: 6.5328 - mae: 1.8220\n",
      "Epoch 600/1000\n",
      "13/13 [==============================] - 0s 2ms/step - loss: 6.5367 - mae: 1.8248\n",
      "Epoch 601/1000\n",
      "13/13 [==============================] - 0s 2ms/step - loss: 6.5560 - mae: 1.8309\n",
      "Epoch 602/1000\n",
      "13/13 [==============================] - 0s 2ms/step - loss: 6.5197 - mae: 1.8251\n",
      "Epoch 603/1000\n",
      "13/13 [==============================] - 0s 2ms/step - loss: 6.5294 - mae: 1.8203\n",
      "Epoch 604/1000\n",
      "13/13 [==============================] - 0s 2ms/step - loss: 6.5325 - mae: 1.8215\n",
      "Epoch 605/1000\n",
      "13/13 [==============================] - 0s 2ms/step - loss: 6.5194 - mae: 1.8213\n",
      "Epoch 606/1000\n",
      "13/13 [==============================] - 0s 2ms/step - loss: 6.5135 - mae: 1.8226\n",
      "Epoch 607/1000\n",
      "13/13 [==============================] - 0s 2ms/step - loss: 6.5261 - mae: 1.8247\n",
      "Epoch 608/1000\n",
      "13/13 [==============================] - 0s 2ms/step - loss: 6.5144 - mae: 1.8195\n",
      "Epoch 609/1000\n",
      "13/13 [==============================] - 0s 2ms/step - loss: 6.5480 - mae: 1.8274\n",
      "Epoch 610/1000\n",
      "13/13 [==============================] - 0s 2ms/step - loss: 6.4999 - mae: 1.8227\n",
      "Epoch 611/1000\n",
      "13/13 [==============================] - 0s 2ms/step - loss: 6.4936 - mae: 1.8167\n",
      "Epoch 612/1000\n",
      "13/13 [==============================] - 0s 2ms/step - loss: 6.5031 - mae: 1.8172\n",
      "Epoch 613/1000\n",
      "13/13 [==============================] - 0s 2ms/step - loss: 6.4966 - mae: 1.8149\n",
      "Epoch 614/1000\n",
      "13/13 [==============================] - 0s 2ms/step - loss: 6.5122 - mae: 1.8259\n",
      "Epoch 615/1000\n",
      "13/13 [==============================] - 0s 2ms/step - loss: 6.4835 - mae: 1.8185\n",
      "Epoch 616/1000\n",
      "13/13 [==============================] - 0s 2ms/step - loss: 6.4998 - mae: 1.8167\n",
      "Epoch 617/1000\n",
      "13/13 [==============================] - 0s 2ms/step - loss: 6.4916 - mae: 1.8162\n",
      "Epoch 618/1000\n",
      "13/13 [==============================] - 0s 2ms/step - loss: 6.4993 - mae: 1.8172\n",
      "Epoch 619/1000\n",
      "13/13 [==============================] - 0s 2ms/step - loss: 6.4790 - mae: 1.8144\n",
      "Epoch 620/1000\n",
      "13/13 [==============================] - 0s 2ms/step - loss: 6.4830 - mae: 1.8164\n",
      "Epoch 621/1000\n",
      "13/13 [==============================] - 0s 2ms/step - loss: 6.4808 - mae: 1.8161\n",
      "Epoch 622/1000\n",
      "13/13 [==============================] - 0s 2ms/step - loss: 6.4961 - mae: 1.8221\n",
      "Epoch 623/1000\n",
      "13/13 [==============================] - 0s 2ms/step - loss: 6.4739 - mae: 1.8184\n",
      "Epoch 624/1000\n",
      "13/13 [==============================] - 0s 2ms/step - loss: 6.4742 - mae: 1.8116\n",
      "Epoch 625/1000\n",
      "13/13 [==============================] - 0s 2ms/step - loss: 6.4685 - mae: 1.8158\n",
      "Epoch 626/1000\n",
      "13/13 [==============================] - 0s 3ms/step - loss: 6.4633 - mae: 1.8173\n",
      "Epoch 627/1000\n",
      "13/13 [==============================] - 0s 2ms/step - loss: 6.4565 - mae: 1.8116\n",
      "Epoch 628/1000\n",
      "13/13 [==============================] - 0s 2ms/step - loss: 6.4633 - mae: 1.8107\n",
      "Epoch 629/1000\n",
      "13/13 [==============================] - 0s 2ms/step - loss: 6.4696 - mae: 1.8174\n",
      "Epoch 630/1000\n",
      "13/13 [==============================] - 0s 2ms/step - loss: 6.4819 - mae: 1.8189\n",
      "Epoch 631/1000\n",
      "13/13 [==============================] - 0s 2ms/step - loss: 6.4373 - mae: 1.8079\n",
      "Epoch 632/1000\n",
      "13/13 [==============================] - 0s 2ms/step - loss: 6.4664 - mae: 1.8147\n",
      "Epoch 633/1000\n",
      "13/13 [==============================] - 0s 2ms/step - loss: 6.4380 - mae: 1.8108\n",
      "Epoch 634/1000\n",
      "13/13 [==============================] - 0s 2ms/step - loss: 6.4426 - mae: 1.8142\n",
      "Epoch 635/1000\n",
      "13/13 [==============================] - 0s 2ms/step - loss: 6.4523 - mae: 1.8149\n",
      "Epoch 636/1000\n",
      "13/13 [==============================] - 0s 2ms/step - loss: 6.4338 - mae: 1.8072\n",
      "Epoch 637/1000\n",
      "13/13 [==============================] - 0s 2ms/step - loss: 6.4308 - mae: 1.8100\n",
      "Epoch 638/1000\n",
      "13/13 [==============================] - 0s 2ms/step - loss: 6.4306 - mae: 1.8143\n",
      "Epoch 639/1000\n",
      "13/13 [==============================] - 0s 2ms/step - loss: 6.4427 - mae: 1.8090\n",
      "Epoch 640/1000\n",
      "13/13 [==============================] - 0s 2ms/step - loss: 6.4468 - mae: 1.8067\n",
      "Epoch 641/1000\n",
      "13/13 [==============================] - 0s 2ms/step - loss: 6.4275 - mae: 1.8142\n",
      "Epoch 642/1000\n",
      "13/13 [==============================] - 0s 2ms/step - loss: 6.4289 - mae: 1.8070\n",
      "Epoch 643/1000\n",
      "13/13 [==============================] - 0s 2ms/step - loss: 6.4170 - mae: 1.8060\n",
      "Epoch 644/1000\n",
      "13/13 [==============================] - 0s 2ms/step - loss: 6.4185 - mae: 1.8088\n",
      "Epoch 645/1000\n",
      "13/13 [==============================] - 0s 3ms/step - loss: 6.4091 - mae: 1.8055\n",
      "Epoch 646/1000\n",
      "13/13 [==============================] - 0s 2ms/step - loss: 6.3956 - mae: 1.8046\n",
      "Epoch 647/1000\n",
      "13/13 [==============================] - 0s 2ms/step - loss: 6.4126 - mae: 1.8073\n",
      "Epoch 648/1000\n",
      "13/13 [==============================] - 0s 2ms/step - loss: 6.4115 - mae: 1.8064\n",
      "Epoch 649/1000\n",
      "13/13 [==============================] - 0s 2ms/step - loss: 6.3893 - mae: 1.8042\n",
      "Epoch 650/1000\n",
      "13/13 [==============================] - 0s 2ms/step - loss: 6.4077 - mae: 1.8096\n",
      "Epoch 651/1000\n",
      "13/13 [==============================] - 0s 2ms/step - loss: 6.4068 - mae: 1.8057\n",
      "Epoch 652/1000\n",
      "13/13 [==============================] - 0s 2ms/step - loss: 6.3988 - mae: 1.8080\n",
      "Epoch 653/1000\n",
      "13/13 [==============================] - 0s 2ms/step - loss: 6.4083 - mae: 1.8077\n",
      "Epoch 654/1000\n",
      "13/13 [==============================] - 0s 2ms/step - loss: 6.3903 - mae: 1.8031\n",
      "Epoch 655/1000\n",
      "13/13 [==============================] - 0s 2ms/step - loss: 6.4009 - mae: 1.8059\n",
      "Epoch 656/1000\n",
      "13/13 [==============================] - 0s 2ms/step - loss: 6.3843 - mae: 1.8054\n",
      "Epoch 657/1000\n",
      "13/13 [==============================] - 0s 2ms/step - loss: 6.3769 - mae: 1.8048\n",
      "Epoch 658/1000\n",
      "13/13 [==============================] - 0s 2ms/step - loss: 6.3862 - mae: 1.8096\n",
      "Epoch 659/1000\n",
      "13/13 [==============================] - 0s 3ms/step - loss: 6.3867 - mae: 1.8031\n",
      "Epoch 660/1000\n",
      "13/13 [==============================] - 0s 2ms/step - loss: 6.3827 - mae: 1.8012\n",
      "Epoch 661/1000\n",
      "13/13 [==============================] - 0s 2ms/step - loss: 6.3695 - mae: 1.8031\n",
      "Epoch 662/1000\n",
      "13/13 [==============================] - 0s 2ms/step - loss: 6.3677 - mae: 1.7997\n",
      "Epoch 663/1000\n",
      "13/13 [==============================] - 0s 2ms/step - loss: 6.3680 - mae: 1.8030\n",
      "Epoch 664/1000\n",
      "13/13 [==============================] - 0s 2ms/step - loss: 6.3786 - mae: 1.8080\n",
      "Epoch 665/1000\n",
      "13/13 [==============================] - 0s 2ms/step - loss: 6.3630 - mae: 1.8006\n",
      "Epoch 666/1000\n",
      "13/13 [==============================] - 0s 2ms/step - loss: 6.3696 - mae: 1.8013\n",
      "Epoch 667/1000\n",
      "13/13 [==============================] - 0s 2ms/step - loss: 6.3600 - mae: 1.7982\n",
      "Epoch 668/1000\n",
      "13/13 [==============================] - 0s 2ms/step - loss: 6.3519 - mae: 1.7988\n",
      "Epoch 669/1000\n",
      "13/13 [==============================] - 0s 2ms/step - loss: 6.3525 - mae: 1.7987\n",
      "Epoch 670/1000\n",
      "13/13 [==============================] - 0s 2ms/step - loss: 6.3483 - mae: 1.7999\n",
      "Epoch 671/1000\n"
     ]
    },
    {
     "name": "stdout",
     "output_type": "stream",
     "text": [
      "13/13 [==============================] - 0s 2ms/step - loss: 6.3568 - mae: 1.7995\n",
      "Epoch 672/1000\n",
      "13/13 [==============================] - 0s 2ms/step - loss: 6.3422 - mae: 1.8009\n",
      "Epoch 673/1000\n",
      "13/13 [==============================] - 0s 2ms/step - loss: 6.3410 - mae: 1.7967\n",
      "Epoch 674/1000\n",
      "13/13 [==============================] - 0s 2ms/step - loss: 6.3303 - mae: 1.7945\n",
      "Epoch 675/1000\n",
      "13/13 [==============================] - 0s 2ms/step - loss: 6.3623 - mae: 1.8026\n",
      "Epoch 676/1000\n",
      "13/13 [==============================] - 0s 2ms/step - loss: 6.3453 - mae: 1.7989\n",
      "Epoch 677/1000\n",
      "13/13 [==============================] - 0s 2ms/step - loss: 6.3499 - mae: 1.8046\n",
      "Epoch 678/1000\n",
      "13/13 [==============================] - 0s 2ms/step - loss: 6.3334 - mae: 1.7975\n",
      "Epoch 679/1000\n",
      "13/13 [==============================] - 0s 2ms/step - loss: 6.3348 - mae: 1.7985\n",
      "Epoch 680/1000\n",
      "13/13 [==============================] - 0s 2ms/step - loss: 6.3282 - mae: 1.7996\n",
      "Epoch 681/1000\n",
      "13/13 [==============================] - 0s 2ms/step - loss: 6.3319 - mae: 1.8018\n",
      "Epoch 682/1000\n",
      "13/13 [==============================] - 0s 2ms/step - loss: 6.3343 - mae: 1.7986\n",
      "Epoch 683/1000\n",
      "13/13 [==============================] - 0s 2ms/step - loss: 6.3518 - mae: 1.8063\n",
      "Epoch 684/1000\n",
      "13/13 [==============================] - 0s 2ms/step - loss: 6.2969 - mae: 1.7913\n",
      "Epoch 685/1000\n",
      "13/13 [==============================] - 0s 2ms/step - loss: 6.3420 - mae: 1.7972\n",
      "Epoch 686/1000\n",
      "13/13 [==============================] - 0s 2ms/step - loss: 6.3150 - mae: 1.7971\n",
      "Epoch 687/1000\n",
      "13/13 [==============================] - 0s 2ms/step - loss: 6.3062 - mae: 1.7915\n",
      "Epoch 688/1000\n",
      "13/13 [==============================] - 0s 2ms/step - loss: 6.3146 - mae: 1.7948\n",
      "Epoch 689/1000\n",
      "13/13 [==============================] - 0s 2ms/step - loss: 6.2972 - mae: 1.7930\n",
      "Epoch 690/1000\n",
      "13/13 [==============================] - 0s 2ms/step - loss: 6.3049 - mae: 1.7927\n",
      "Epoch 691/1000\n",
      "13/13 [==============================] - 0s 2ms/step - loss: 6.2919 - mae: 1.7950\n",
      "Epoch 692/1000\n",
      "13/13 [==============================] - 0s 2ms/step - loss: 6.2922 - mae: 1.7937\n",
      "Epoch 693/1000\n",
      "13/13 [==============================] - 0s 2ms/step - loss: 6.2923 - mae: 1.7908\n",
      "Epoch 694/1000\n",
      "13/13 [==============================] - 0s 2ms/step - loss: 6.2929 - mae: 1.7905\n",
      "Epoch 695/1000\n",
      "13/13 [==============================] - 0s 2ms/step - loss: 6.2830 - mae: 1.7908\n",
      "Epoch 696/1000\n",
      "13/13 [==============================] - 0s 3ms/step - loss: 6.2708 - mae: 1.7896\n",
      "Epoch 697/1000\n",
      "13/13 [==============================] - 0s 2ms/step - loss: 6.2791 - mae: 1.7931\n",
      "Epoch 698/1000\n",
      "13/13 [==============================] - 0s 2ms/step - loss: 6.2913 - mae: 1.7901\n",
      "Epoch 699/1000\n",
      "13/13 [==============================] - 0s 2ms/step - loss: 6.2897 - mae: 1.7905\n",
      "Epoch 700/1000\n",
      "13/13 [==============================] - 0s 2ms/step - loss: 6.2911 - mae: 1.7901\n",
      "Epoch 701/1000\n",
      "13/13 [==============================] - 0s 2ms/step - loss: 6.2784 - mae: 1.7893\n",
      "Epoch 702/1000\n",
      "13/13 [==============================] - 0s 2ms/step - loss: 6.2770 - mae: 1.7895\n",
      "Epoch 703/1000\n",
      "13/13 [==============================] - 0s 2ms/step - loss: 6.2782 - mae: 1.7887\n",
      "Epoch 704/1000\n",
      "13/13 [==============================] - 0s 2ms/step - loss: 6.2770 - mae: 1.7918\n",
      "Epoch 705/1000\n",
      "13/13 [==============================] - 0s 2ms/step - loss: 6.2609 - mae: 1.7870\n",
      "Epoch 706/1000\n",
      "13/13 [==============================] - 0s 2ms/step - loss: 6.2666 - mae: 1.7861\n",
      "Epoch 707/1000\n",
      "13/13 [==============================] - 0s 2ms/step - loss: 6.2595 - mae: 1.7837\n",
      "Epoch 708/1000\n",
      "13/13 [==============================] - 0s 2ms/step - loss: 6.2603 - mae: 1.7858\n",
      "Epoch 709/1000\n",
      "13/13 [==============================] - 0s 2ms/step - loss: 6.2707 - mae: 1.7924\n",
      "Epoch 710/1000\n",
      "13/13 [==============================] - 0s 2ms/step - loss: 6.2733 - mae: 1.7856\n",
      "Epoch 711/1000\n",
      "13/13 [==============================] - 0s 2ms/step - loss: 6.2452 - mae: 1.7846\n",
      "Epoch 712/1000\n",
      "13/13 [==============================] - 0s 2ms/step - loss: 6.2402 - mae: 1.7860\n",
      "Epoch 713/1000\n",
      "13/13 [==============================] - 0s 2ms/step - loss: 6.2448 - mae: 1.7874\n",
      "Epoch 714/1000\n",
      "13/13 [==============================] - 0s 2ms/step - loss: 6.2499 - mae: 1.7859\n",
      "Epoch 715/1000\n",
      "13/13 [==============================] - 0s 2ms/step - loss: 6.2264 - mae: 1.7823\n",
      "Epoch 716/1000\n",
      "13/13 [==============================] - 0s 2ms/step - loss: 6.2410 - mae: 1.7847\n",
      "Epoch 717/1000\n",
      "13/13 [==============================] - 0s 2ms/step - loss: 6.2649 - mae: 1.7882\n",
      "Epoch 718/1000\n",
      "13/13 [==============================] - 0s 2ms/step - loss: 6.2349 - mae: 1.7822\n",
      "Epoch 719/1000\n",
      "13/13 [==============================] - 0s 2ms/step - loss: 6.2585 - mae: 1.7862\n",
      "Epoch 720/1000\n",
      "13/13 [==============================] - 0s 2ms/step - loss: 6.2411 - mae: 1.7850\n",
      "Epoch 721/1000\n",
      "13/13 [==============================] - 0s 2ms/step - loss: 6.2393 - mae: 1.7795\n",
      "Epoch 722/1000\n",
      "13/13 [==============================] - 0s 2ms/step - loss: 6.2288 - mae: 1.7802\n",
      "Epoch 723/1000\n",
      "13/13 [==============================] - 0s 2ms/step - loss: 6.2615 - mae: 1.7909\n",
      "Epoch 724/1000\n",
      "13/13 [==============================] - 0s 2ms/step - loss: 6.2302 - mae: 1.7813\n",
      "Epoch 725/1000\n",
      "13/13 [==============================] - 0s 2ms/step - loss: 6.2114 - mae: 1.7820\n",
      "Epoch 726/1000\n",
      "13/13 [==============================] - 0s 2ms/step - loss: 6.2141 - mae: 1.7836\n",
      "Epoch 727/1000\n",
      "13/13 [==============================] - 0s 2ms/step - loss: 6.2101 - mae: 1.7776\n",
      "Epoch 728/1000\n",
      "13/13 [==============================] - 0s 2ms/step - loss: 6.2304 - mae: 1.7799\n",
      "Epoch 729/1000\n",
      "13/13 [==============================] - 0s 2ms/step - loss: 6.2051 - mae: 1.7755\n",
      "Epoch 730/1000\n",
      "13/13 [==============================] - 0s 2ms/step - loss: 6.2229 - mae: 1.7811\n",
      "Epoch 731/1000\n",
      "13/13 [==============================] - 0s 2ms/step - loss: 6.2029 - mae: 1.7773\n",
      "Epoch 732/1000\n",
      "13/13 [==============================] - 0s 2ms/step - loss: 6.2072 - mae: 1.7775\n",
      "Epoch 733/1000\n",
      "13/13 [==============================] - 0s 2ms/step - loss: 6.1980 - mae: 1.7750\n",
      "Epoch 734/1000\n",
      "13/13 [==============================] - 0s 2ms/step - loss: 6.2036 - mae: 1.7783\n",
      "Epoch 735/1000\n",
      "13/13 [==============================] - 0s 2ms/step - loss: 6.2059 - mae: 1.7809\n",
      "Epoch 736/1000\n",
      "13/13 [==============================] - 0s 2ms/step - loss: 6.1889 - mae: 1.7747\n",
      "Epoch 737/1000\n",
      "13/13 [==============================] - 0s 2ms/step - loss: 6.1939 - mae: 1.7744\n",
      "Epoch 738/1000\n",
      "13/13 [==============================] - 0s 2ms/step - loss: 6.1830 - mae: 1.7732\n",
      "Epoch 739/1000\n",
      "13/13 [==============================] - 0s 2ms/step - loss: 6.1928 - mae: 1.7796\n",
      "Epoch 740/1000\n",
      "13/13 [==============================] - 0s 2ms/step - loss: 6.1913 - mae: 1.7738\n",
      "Epoch 741/1000\n",
      "13/13 [==============================] - 0s 2ms/step - loss: 6.1834 - mae: 1.7743\n",
      "Epoch 742/1000\n",
      "13/13 [==============================] - 0s 2ms/step - loss: 6.1916 - mae: 1.7778\n",
      "Epoch 743/1000\n",
      "13/13 [==============================] - 0s 3ms/step - loss: 6.1876 - mae: 1.7708\n",
      "Epoch 744/1000\n",
      "13/13 [==============================] - 0s 2ms/step - loss: 6.1958 - mae: 1.7787\n",
      "Epoch 745/1000\n",
      "13/13 [==============================] - 0s 2ms/step - loss: 6.1941 - mae: 1.7786\n",
      "Epoch 746/1000\n",
      "13/13 [==============================] - 0s 2ms/step - loss: 6.1954 - mae: 1.7757\n",
      "Epoch 747/1000\n",
      "13/13 [==============================] - 0s 3ms/step - loss: 6.1733 - mae: 1.7738\n",
      "Epoch 748/1000\n",
      "13/13 [==============================] - 0s 2ms/step - loss: 6.1694 - mae: 1.7684\n",
      "Epoch 749/1000\n",
      "13/13 [==============================] - 0s 2ms/step - loss: 6.1878 - mae: 1.7734\n",
      "Epoch 750/1000\n",
      "13/13 [==============================] - 0s 2ms/step - loss: 6.1746 - mae: 1.7709\n",
      "Epoch 751/1000\n",
      "13/13 [==============================] - 0s 2ms/step - loss: 6.1688 - mae: 1.7737\n",
      "Epoch 752/1000\n",
      "13/13 [==============================] - 0s 2ms/step - loss: 6.1734 - mae: 1.7739\n",
      "Epoch 753/1000\n",
      "13/13 [==============================] - 0s 2ms/step - loss: 6.1597 - mae: 1.7675\n",
      "Epoch 754/1000\n",
      "13/13 [==============================] - 0s 2ms/step - loss: 6.1659 - mae: 1.7712\n",
      "Epoch 755/1000\n"
     ]
    },
    {
     "name": "stdout",
     "output_type": "stream",
     "text": [
      "13/13 [==============================] - 0s 2ms/step - loss: 6.1456 - mae: 1.7641\n",
      "Epoch 756/1000\n",
      "13/13 [==============================] - 0s 2ms/step - loss: 6.1537 - mae: 1.7648\n",
      "Epoch 757/1000\n",
      "13/13 [==============================] - 0s 2ms/step - loss: 6.1583 - mae: 1.7702\n",
      "Epoch 758/1000\n",
      "13/13 [==============================] - 0s 2ms/step - loss: 6.1638 - mae: 1.7683\n",
      "Epoch 759/1000\n",
      "13/13 [==============================] - 0s 2ms/step - loss: 6.1619 - mae: 1.7692\n",
      "Epoch 760/1000\n",
      "13/13 [==============================] - 0s 2ms/step - loss: 6.1639 - mae: 1.7736\n",
      "Epoch 761/1000\n",
      "13/13 [==============================] - 0s 2ms/step - loss: 6.1408 - mae: 1.7651\n",
      "Epoch 762/1000\n",
      "13/13 [==============================] - 0s 2ms/step - loss: 6.1417 - mae: 1.7631\n",
      "Epoch 763/1000\n",
      "13/13 [==============================] - 0s 2ms/step - loss: 6.1350 - mae: 1.7630\n",
      "Epoch 764/1000\n",
      "13/13 [==============================] - 0s 2ms/step - loss: 6.1344 - mae: 1.7640\n",
      "Epoch 765/1000\n",
      "13/13 [==============================] - 0s 2ms/step - loss: 6.1404 - mae: 1.7672\n",
      "Epoch 766/1000\n",
      "13/13 [==============================] - 0s 2ms/step - loss: 6.1393 - mae: 1.7666\n",
      "Epoch 767/1000\n",
      "13/13 [==============================] - 0s 2ms/step - loss: 6.1329 - mae: 1.7634\n",
      "Epoch 768/1000\n",
      "13/13 [==============================] - 0s 2ms/step - loss: 6.1249 - mae: 1.7647\n",
      "Epoch 769/1000\n",
      "13/13 [==============================] - 0s 2ms/step - loss: 6.1327 - mae: 1.7644\n",
      "Epoch 770/1000\n",
      "13/13 [==============================] - 0s 2ms/step - loss: 6.1285 - mae: 1.7621\n",
      "Epoch 771/1000\n",
      "13/13 [==============================] - 0s 2ms/step - loss: 6.1170 - mae: 1.7635\n",
      "Epoch 772/1000\n",
      "13/13 [==============================] - 0s 2ms/step - loss: 6.1257 - mae: 1.7654\n",
      "Epoch 773/1000\n",
      "13/13 [==============================] - 0s 2ms/step - loss: 6.1110 - mae: 1.7632\n",
      "Epoch 774/1000\n",
      "13/13 [==============================] - 0s 2ms/step - loss: 6.1215 - mae: 1.7643\n",
      "Epoch 775/1000\n",
      "13/13 [==============================] - 0s 2ms/step - loss: 6.1081 - mae: 1.7622\n",
      "Epoch 776/1000\n",
      "13/13 [==============================] - 0s 2ms/step - loss: 6.1228 - mae: 1.7658\n",
      "Epoch 777/1000\n",
      "13/13 [==============================] - 0s 2ms/step - loss: 6.1368 - mae: 1.7688\n",
      "Epoch 778/1000\n",
      "13/13 [==============================] - 0s 2ms/step - loss: 6.0968 - mae: 1.7623\n",
      "Epoch 779/1000\n",
      "13/13 [==============================] - 0s 2ms/step - loss: 6.1007 - mae: 1.7561\n",
      "Epoch 780/1000\n",
      "13/13 [==============================] - 0s 2ms/step - loss: 6.1019 - mae: 1.7573\n",
      "Epoch 781/1000\n",
      "13/13 [==============================] - 0s 2ms/step - loss: 6.1105 - mae: 1.7622\n",
      "Epoch 782/1000\n",
      "13/13 [==============================] - 0s 2ms/step - loss: 6.1253 - mae: 1.7672\n",
      "Epoch 783/1000\n",
      "13/13 [==============================] - 0s 2ms/step - loss: 6.1032 - mae: 1.7581\n",
      "Epoch 784/1000\n",
      "13/13 [==============================] - 0s 2ms/step - loss: 6.1154 - mae: 1.7668\n",
      "Epoch 785/1000\n",
      "13/13 [==============================] - 0s 3ms/step - loss: 6.0899 - mae: 1.7621\n",
      "Epoch 786/1000\n",
      "13/13 [==============================] - 0s 2ms/step - loss: 6.0982 - mae: 1.7557\n",
      "Epoch 787/1000\n",
      "13/13 [==============================] - 0s 2ms/step - loss: 6.1014 - mae: 1.7538\n",
      "Epoch 788/1000\n",
      "13/13 [==============================] - 0s 2ms/step - loss: 6.0958 - mae: 1.7573\n",
      "Epoch 789/1000\n",
      "13/13 [==============================] - 0s 2ms/step - loss: 6.0917 - mae: 1.7543\n",
      "Epoch 790/1000\n",
      "13/13 [==============================] - 0s 2ms/step - loss: 6.0964 - mae: 1.7582\n",
      "Epoch 791/1000\n",
      "13/13 [==============================] - 0s 2ms/step - loss: 6.0980 - mae: 1.7579\n",
      "Epoch 792/1000\n",
      "13/13 [==============================] - 0s 2ms/step - loss: 6.1037 - mae: 1.7571\n",
      "Epoch 793/1000\n",
      "13/13 [==============================] - 0s 2ms/step - loss: 6.0712 - mae: 1.7532\n",
      "Epoch 794/1000\n",
      "13/13 [==============================] - 0s 2ms/step - loss: 6.0838 - mae: 1.7562\n",
      "Epoch 795/1000\n",
      "13/13 [==============================] - 0s 2ms/step - loss: 6.0700 - mae: 1.7554\n",
      "Epoch 796/1000\n",
      "13/13 [==============================] - 0s 3ms/step - loss: 6.0795 - mae: 1.7553\n",
      "Epoch 797/1000\n",
      "13/13 [==============================] - 0s 3ms/step - loss: 6.0843 - mae: 1.7577\n",
      "Epoch 798/1000\n",
      "13/13 [==============================] - 0s 3ms/step - loss: 6.0904 - mae: 1.7507\n",
      "Epoch 799/1000\n",
      "13/13 [==============================] - 0s 3ms/step - loss: 6.0745 - mae: 1.7543\n",
      "Epoch 800/1000\n",
      "13/13 [==============================] - 0s 3ms/step - loss: 6.0619 - mae: 1.7547\n",
      "Epoch 801/1000\n",
      "13/13 [==============================] - 0s 3ms/step - loss: 6.0557 - mae: 1.7507\n",
      "Epoch 802/1000\n",
      "13/13 [==============================] - 0s 2ms/step - loss: 6.0608 - mae: 1.7516\n",
      "Epoch 803/1000\n",
      "13/13 [==============================] - 0s 3ms/step - loss: 6.0555 - mae: 1.7499\n",
      "Epoch 804/1000\n",
      "13/13 [==============================] - 0s 2ms/step - loss: 6.0574 - mae: 1.7508\n",
      "Epoch 805/1000\n",
      "13/13 [==============================] - 0s 2ms/step - loss: 6.0751 - mae: 1.7533\n",
      "Epoch 806/1000\n",
      "13/13 [==============================] - 0s 3ms/step - loss: 6.0475 - mae: 1.7473\n",
      "Epoch 807/1000\n",
      "13/13 [==============================] - 0s 2ms/step - loss: 6.0632 - mae: 1.7544\n",
      "Epoch 808/1000\n",
      "13/13 [==============================] - 0s 2ms/step - loss: 6.0471 - mae: 1.7484\n",
      "Epoch 809/1000\n",
      "13/13 [==============================] - 0s 2ms/step - loss: 6.0676 - mae: 1.7493\n",
      "Epoch 810/1000\n",
      "13/13 [==============================] - 0s 3ms/step - loss: 6.0506 - mae: 1.7519\n",
      "Epoch 811/1000\n",
      "13/13 [==============================] - 0s 2ms/step - loss: 6.0510 - mae: 1.7493\n",
      "Epoch 812/1000\n",
      "13/13 [==============================] - 0s 2ms/step - loss: 6.0506 - mae: 1.7474\n",
      "Epoch 813/1000\n",
      "13/13 [==============================] - 0s 2ms/step - loss: 6.0300 - mae: 1.7484\n",
      "Epoch 814/1000\n",
      "13/13 [==============================] - 0s 2ms/step - loss: 6.0347 - mae: 1.7484\n",
      "Epoch 815/1000\n",
      "13/13 [==============================] - 0s 2ms/step - loss: 6.0266 - mae: 1.7470\n",
      "Epoch 816/1000\n",
      "13/13 [==============================] - 0s 2ms/step - loss: 6.0230 - mae: 1.7459\n",
      "Epoch 817/1000\n",
      "13/13 [==============================] - 0s 2ms/step - loss: 6.0263 - mae: 1.7461\n",
      "Epoch 818/1000\n",
      "13/13 [==============================] - 0s 2ms/step - loss: 6.0383 - mae: 1.7495\n",
      "Epoch 819/1000\n",
      "13/13 [==============================] - 0s 2ms/step - loss: 6.0207 - mae: 1.7456\n",
      "Epoch 820/1000\n",
      "13/13 [==============================] - 0s 2ms/step - loss: 6.0370 - mae: 1.7502\n",
      "Epoch 821/1000\n",
      "13/13 [==============================] - 0s 2ms/step - loss: 6.0303 - mae: 1.7450\n",
      "Epoch 822/1000\n",
      "13/13 [==============================] - 0s 3ms/step - loss: 6.0760 - mae: 1.7558\n",
      "Epoch 823/1000\n",
      "13/13 [==============================] - 0s 2ms/step - loss: 6.0156 - mae: 1.7443\n",
      "Epoch 824/1000\n",
      "13/13 [==============================] - 0s 2ms/step - loss: 6.0542 - mae: 1.7488\n",
      "Epoch 825/1000\n",
      "13/13 [==============================] - 0s 2ms/step - loss: 6.0422 - mae: 1.7461\n",
      "Epoch 826/1000\n",
      "13/13 [==============================] - 0s 3ms/step - loss: 6.0080 - mae: 1.7383\n",
      "Epoch 827/1000\n",
      "13/13 [==============================] - 0s 2ms/step - loss: 6.0307 - mae: 1.7491\n",
      "Epoch 828/1000\n",
      "13/13 [==============================] - 0s 2ms/step - loss: 6.0132 - mae: 1.7432\n",
      "Epoch 829/1000\n",
      "13/13 [==============================] - 0s 3ms/step - loss: 5.9998 - mae: 1.7413\n",
      "Epoch 830/1000\n",
      "13/13 [==============================] - 0s 2ms/step - loss: 6.0049 - mae: 1.7421\n",
      "Epoch 831/1000\n",
      "13/13 [==============================] - 0s 2ms/step - loss: 6.0060 - mae: 1.7432\n",
      "Epoch 832/1000\n",
      "13/13 [==============================] - 0s 2ms/step - loss: 6.0441 - mae: 1.7461\n",
      "Epoch 833/1000\n",
      "13/13 [==============================] - 0s 2ms/step - loss: 5.9857 - mae: 1.7423\n",
      "Epoch 834/1000\n",
      "13/13 [==============================] - 0s 2ms/step - loss: 6.0452 - mae: 1.7506\n",
      "Epoch 835/1000\n",
      "13/13 [==============================] - 0s 2ms/step - loss: 5.9953 - mae: 1.7425\n",
      "Epoch 836/1000\n",
      "13/13 [==============================] - 0s 2ms/step - loss: 5.9864 - mae: 1.7404\n",
      "Epoch 837/1000\n",
      "13/13 [==============================] - 0s 2ms/step - loss: 6.0006 - mae: 1.7417\n",
      "Epoch 838/1000\n",
      "13/13 [==============================] - 0s 2ms/step - loss: 5.9885 - mae: 1.7392\n",
      "Epoch 839/1000\n"
     ]
    },
    {
     "name": "stdout",
     "output_type": "stream",
     "text": [
      "13/13 [==============================] - 0s 2ms/step - loss: 5.9836 - mae: 1.7423\n",
      "Epoch 840/1000\n",
      "13/13 [==============================] - 0s 2ms/step - loss: 5.9930 - mae: 1.7440\n",
      "Epoch 841/1000\n",
      "13/13 [==============================] - 0s 2ms/step - loss: 5.9835 - mae: 1.7382\n",
      "Epoch 842/1000\n",
      "13/13 [==============================] - 0s 3ms/step - loss: 5.9765 - mae: 1.7374\n",
      "Epoch 843/1000\n",
      "13/13 [==============================] - 0s 2ms/step - loss: 5.9762 - mae: 1.7442\n",
      "Epoch 844/1000\n",
      "13/13 [==============================] - 0s 3ms/step - loss: 5.9782 - mae: 1.7424\n",
      "Epoch 845/1000\n",
      "13/13 [==============================] - 0s 2ms/step - loss: 5.9986 - mae: 1.7365\n",
      "Epoch 846/1000\n",
      "13/13 [==============================] - 0s 3ms/step - loss: 5.9925 - mae: 1.7379\n",
      "Epoch 847/1000\n",
      "13/13 [==============================] - 0s 3ms/step - loss: 5.9681 - mae: 1.7373\n",
      "Epoch 848/1000\n",
      "13/13 [==============================] - 0s 2ms/step - loss: 5.9594 - mae: 1.7371\n",
      "Epoch 849/1000\n",
      "13/13 [==============================] - 0s 2ms/step - loss: 5.9748 - mae: 1.7385\n",
      "Epoch 850/1000\n",
      "13/13 [==============================] - 0s 2ms/step - loss: 5.9638 - mae: 1.7383\n",
      "Epoch 851/1000\n",
      "13/13 [==============================] - 0s 2ms/step - loss: 5.9718 - mae: 1.7404\n",
      "Epoch 852/1000\n",
      "13/13 [==============================] - 0s 2ms/step - loss: 5.9559 - mae: 1.7395\n",
      "Epoch 853/1000\n",
      "13/13 [==============================] - 0s 2ms/step - loss: 5.9627 - mae: 1.7431\n",
      "Epoch 854/1000\n",
      "13/13 [==============================] - 0s 2ms/step - loss: 5.9611 - mae: 1.7370\n",
      "Epoch 855/1000\n",
      "13/13 [==============================] - 0s 2ms/step - loss: 5.9591 - mae: 1.7353\n",
      "Epoch 856/1000\n",
      "13/13 [==============================] - 0s 2ms/step - loss: 5.9625 - mae: 1.7376\n",
      "Epoch 857/1000\n",
      "13/13 [==============================] - 0s 2ms/step - loss: 5.9669 - mae: 1.7403\n",
      "Epoch 858/1000\n",
      "13/13 [==============================] - 0s 3ms/step - loss: 5.9486 - mae: 1.7331\n",
      "Epoch 859/1000\n",
      "13/13 [==============================] - 0s 3ms/step - loss: 5.9580 - mae: 1.7382\n",
      "Epoch 860/1000\n",
      "13/13 [==============================] - 0s 2ms/step - loss: 5.9464 - mae: 1.7395\n",
      "Epoch 861/1000\n",
      "13/13 [==============================] - 0s 2ms/step - loss: 5.9777 - mae: 1.7380\n",
      "Epoch 862/1000\n",
      "13/13 [==============================] - 0s 3ms/step - loss: 5.9377 - mae: 1.7319\n",
      "Epoch 863/1000\n",
      "13/13 [==============================] - 0s 2ms/step - loss: 5.9403 - mae: 1.7356\n",
      "Epoch 864/1000\n",
      "13/13 [==============================] - 0s 2ms/step - loss: 5.9371 - mae: 1.7361\n",
      "Epoch 865/1000\n",
      "13/13 [==============================] - 0s 2ms/step - loss: 5.9513 - mae: 1.7373\n",
      "Epoch 866/1000\n",
      "13/13 [==============================] - 0s 2ms/step - loss: 5.9330 - mae: 1.7363\n",
      "Epoch 867/1000\n",
      "13/13 [==============================] - 0s 2ms/step - loss: 5.9344 - mae: 1.7354\n",
      "Epoch 868/1000\n",
      "13/13 [==============================] - 0s 2ms/step - loss: 5.9469 - mae: 1.7372\n",
      "Epoch 869/1000\n",
      "13/13 [==============================] - 0s 2ms/step - loss: 5.9234 - mae: 1.7340\n",
      "Epoch 870/1000\n",
      "13/13 [==============================] - 0s 2ms/step - loss: 5.9472 - mae: 1.7412\n",
      "Epoch 871/1000\n",
      "13/13 [==============================] - 0s 2ms/step - loss: 5.9224 - mae: 1.7303\n",
      "Epoch 872/1000\n",
      "13/13 [==============================] - 0s 2ms/step - loss: 5.9303 - mae: 1.7361\n",
      "Epoch 873/1000\n",
      "13/13 [==============================] - 0s 2ms/step - loss: 5.9146 - mae: 1.7346\n",
      "Epoch 874/1000\n",
      "13/13 [==============================] - 0s 2ms/step - loss: 5.9338 - mae: 1.7297\n",
      "Epoch 875/1000\n",
      "13/13 [==============================] - 0s 2ms/step - loss: 5.9261 - mae: 1.7390\n",
      "Epoch 876/1000\n",
      "13/13 [==============================] - 0s 2ms/step - loss: 5.9259 - mae: 1.7353\n",
      "Epoch 877/1000\n",
      "13/13 [==============================] - 0s 3ms/step - loss: 5.9154 - mae: 1.7299\n",
      "Epoch 878/1000\n",
      "13/13 [==============================] - 0s 3ms/step - loss: 5.9186 - mae: 1.7369\n",
      "Epoch 879/1000\n",
      "13/13 [==============================] - 0s 2ms/step - loss: 5.9425 - mae: 1.7380\n",
      "Epoch 880/1000\n",
      "13/13 [==============================] - 0s 2ms/step - loss: 5.9049 - mae: 1.7340\n",
      "Epoch 881/1000\n",
      "13/13 [==============================] - 0s 2ms/step - loss: 5.9191 - mae: 1.7391\n",
      "Epoch 882/1000\n",
      "13/13 [==============================] - 0s 3ms/step - loss: 5.9200 - mae: 1.7300\n",
      "Epoch 883/1000\n",
      "13/13 [==============================] - 0s 3ms/step - loss: 5.8975 - mae: 1.7301\n",
      "Epoch 884/1000\n",
      "13/13 [==============================] - 0s 3ms/step - loss: 5.9094 - mae: 1.7284\n",
      "Epoch 885/1000\n",
      "13/13 [==============================] - 0s 2ms/step - loss: 5.9173 - mae: 1.7316\n",
      "Epoch 886/1000\n",
      "13/13 [==============================] - 0s 3ms/step - loss: 5.9091 - mae: 1.7322\n",
      "Epoch 887/1000\n",
      "13/13 [==============================] - 0s 2ms/step - loss: 5.9118 - mae: 1.7393\n",
      "Epoch 888/1000\n",
      "13/13 [==============================] - 0s 2ms/step - loss: 5.9210 - mae: 1.7342\n",
      "Epoch 889/1000\n",
      "13/13 [==============================] - 0s 3ms/step - loss: 5.9070 - mae: 1.7294\n",
      "Epoch 890/1000\n",
      "13/13 [==============================] - 0s 2ms/step - loss: 5.8934 - mae: 1.7270\n",
      "Epoch 891/1000\n",
      "13/13 [==============================] - 0s 2ms/step - loss: 5.8914 - mae: 1.7302\n",
      "Epoch 892/1000\n",
      "13/13 [==============================] - 0s 2ms/step - loss: 5.8818 - mae: 1.7290\n",
      "Epoch 893/1000\n",
      "13/13 [==============================] - 0s 2ms/step - loss: 5.8808 - mae: 1.7241\n",
      "Epoch 894/1000\n",
      "13/13 [==============================] - 0s 2ms/step - loss: 5.8950 - mae: 1.7267\n",
      "Epoch 895/1000\n",
      "13/13 [==============================] - 0s 2ms/step - loss: 5.9169 - mae: 1.7334\n",
      "Epoch 896/1000\n",
      "13/13 [==============================] - 0s 2ms/step - loss: 5.8598 - mae: 1.7230\n",
      "Epoch 897/1000\n",
      "13/13 [==============================] - 0s 2ms/step - loss: 5.8916 - mae: 1.7313\n",
      "Epoch 898/1000\n",
      "13/13 [==============================] - 0s 2ms/step - loss: 5.8782 - mae: 1.7251\n",
      "Epoch 899/1000\n",
      "13/13 [==============================] - 0s 2ms/step - loss: 5.8760 - mae: 1.7227\n",
      "Epoch 900/1000\n",
      "13/13 [==============================] - 0s 2ms/step - loss: 5.8836 - mae: 1.7247\n",
      "Epoch 901/1000\n",
      "13/13 [==============================] - 0s 2ms/step - loss: 5.8618 - mae: 1.7252\n",
      "Epoch 902/1000\n",
      "13/13 [==============================] - 0s 2ms/step - loss: 5.8954 - mae: 1.7281\n",
      "Epoch 903/1000\n",
      "13/13 [==============================] - 0s 2ms/step - loss: 5.8744 - mae: 1.7250\n",
      "Epoch 904/1000\n",
      "13/13 [==============================] - 0s 2ms/step - loss: 5.8760 - mae: 1.7220\n",
      "Epoch 905/1000\n",
      "13/13 [==============================] - 0s 2ms/step - loss: 5.8942 - mae: 1.7253\n",
      "Epoch 906/1000\n",
      "13/13 [==============================] - 0s 3ms/step - loss: 5.8499 - mae: 1.7204\n",
      "Epoch 907/1000\n",
      "13/13 [==============================] - 0s 2ms/step - loss: 5.8466 - mae: 1.7179\n",
      "Epoch 908/1000\n",
      "13/13 [==============================] - 0s 2ms/step - loss: 5.8608 - mae: 1.7242\n",
      "Epoch 909/1000\n",
      "13/13 [==============================] - 0s 2ms/step - loss: 5.8534 - mae: 1.7235\n",
      "Epoch 910/1000\n",
      "13/13 [==============================] - 0s 2ms/step - loss: 5.8617 - mae: 1.7211\n",
      "Epoch 911/1000\n",
      "13/13 [==============================] - 0s 2ms/step - loss: 5.8460 - mae: 1.7183\n",
      "Epoch 912/1000\n",
      "13/13 [==============================] - 0s 2ms/step - loss: 5.8444 - mae: 1.7210\n",
      "Epoch 913/1000\n",
      "13/13 [==============================] - 0s 2ms/step - loss: 5.8494 - mae: 1.7237\n",
      "Epoch 914/1000\n",
      "13/13 [==============================] - 0s 2ms/step - loss: 5.8435 - mae: 1.7183\n",
      "Epoch 915/1000\n",
      "13/13 [==============================] - 0s 2ms/step - loss: 5.8314 - mae: 1.7158\n",
      "Epoch 916/1000\n",
      "13/13 [==============================] - 0s 2ms/step - loss: 5.8453 - mae: 1.7177\n",
      "Epoch 917/1000\n",
      "13/13 [==============================] - 0s 2ms/step - loss: 5.8321 - mae: 1.7164\n",
      "Epoch 918/1000\n",
      "13/13 [==============================] - 0s 2ms/step - loss: 5.8356 - mae: 1.7148\n",
      "Epoch 919/1000\n",
      "13/13 [==============================] - 0s 2ms/step - loss: 5.8756 - mae: 1.7309\n",
      "Epoch 920/1000\n",
      "13/13 [==============================] - 0s 2ms/step - loss: 5.8354 - mae: 1.7180\n",
      "Epoch 921/1000\n",
      "13/13 [==============================] - 0s 3ms/step - loss: 5.8301 - mae: 1.7150\n",
      "Epoch 922/1000\n",
      "13/13 [==============================] - 0s 3ms/step - loss: 5.8418 - mae: 1.7187\n",
      "Epoch 923/1000\n"
     ]
    },
    {
     "name": "stdout",
     "output_type": "stream",
     "text": [
      "13/13 [==============================] - 0s 3ms/step - loss: 5.8637 - mae: 1.7227\n",
      "Epoch 924/1000\n",
      "13/13 [==============================] - 0s 3ms/step - loss: 5.8519 - mae: 1.7199\n",
      "Epoch 925/1000\n",
      "13/13 [==============================] - 0s 2ms/step - loss: 5.8511 - mae: 1.7255\n",
      "Epoch 926/1000\n",
      "13/13 [==============================] - 0s 2ms/step - loss: 5.8277 - mae: 1.7208\n",
      "Epoch 927/1000\n",
      "13/13 [==============================] - 0s 2ms/step - loss: 5.8245 - mae: 1.7174\n",
      "Epoch 928/1000\n",
      "13/13 [==============================] - 0s 2ms/step - loss: 5.8197 - mae: 1.7170\n",
      "Epoch 929/1000\n",
      "13/13 [==============================] - 0s 2ms/step - loss: 5.8194 - mae: 1.7181\n",
      "Epoch 930/1000\n",
      "13/13 [==============================] - 0s 2ms/step - loss: 5.8044 - mae: 1.7126\n",
      "Epoch 931/1000\n",
      "13/13 [==============================] - 0s 2ms/step - loss: 5.8071 - mae: 1.7128\n",
      "Epoch 932/1000\n",
      "13/13 [==============================] - 0s 2ms/step - loss: 5.8106 - mae: 1.7197\n",
      "Epoch 933/1000\n",
      "13/13 [==============================] - 0s 3ms/step - loss: 5.7941 - mae: 1.7126\n",
      "Epoch 934/1000\n",
      "13/13 [==============================] - 0s 2ms/step - loss: 5.8033 - mae: 1.7112\n",
      "Epoch 935/1000\n",
      "13/13 [==============================] - 0s 3ms/step - loss: 5.8053 - mae: 1.7131\n",
      "Epoch 936/1000\n",
      "13/13 [==============================] - 0s 2ms/step - loss: 5.7836 - mae: 1.7084\n",
      "Epoch 937/1000\n",
      "13/13 [==============================] - 0s 2ms/step - loss: 5.7910 - mae: 1.7112\n",
      "Epoch 938/1000\n",
      "13/13 [==============================] - 0s 2ms/step - loss: 5.7900 - mae: 1.7115\n",
      "Epoch 939/1000\n",
      "13/13 [==============================] - 0s 2ms/step - loss: 5.7854 - mae: 1.7128\n",
      "Epoch 940/1000\n",
      "13/13 [==============================] - 0s 2ms/step - loss: 5.7980 - mae: 1.7119\n",
      "Epoch 941/1000\n",
      "13/13 [==============================] - 0s 2ms/step - loss: 5.7881 - mae: 1.7080\n",
      "Epoch 942/1000\n",
      "13/13 [==============================] - 0s 3ms/step - loss: 5.7754 - mae: 1.7085\n",
      "Epoch 943/1000\n",
      "13/13 [==============================] - 0s 2ms/step - loss: 5.7786 - mae: 1.7112\n",
      "Epoch 944/1000\n",
      "13/13 [==============================] - 0s 2ms/step - loss: 5.7749 - mae: 1.7096\n",
      "Epoch 945/1000\n",
      "13/13 [==============================] - 0s 2ms/step - loss: 5.7759 - mae: 1.7116\n",
      "Epoch 946/1000\n",
      "13/13 [==============================] - 0s 2ms/step - loss: 5.7723 - mae: 1.7101\n",
      "Epoch 947/1000\n",
      "13/13 [==============================] - 0s 2ms/step - loss: 5.7622 - mae: 1.7031\n",
      "Epoch 948/1000\n",
      "13/13 [==============================] - 0s 2ms/step - loss: 5.7748 - mae: 1.7054\n",
      "Epoch 949/1000\n",
      "13/13 [==============================] - 0s 2ms/step - loss: 5.7562 - mae: 1.7041\n",
      "Epoch 950/1000\n",
      "13/13 [==============================] - 0s 2ms/step - loss: 5.7504 - mae: 1.7014\n",
      "Epoch 951/1000\n",
      "13/13 [==============================] - 0s 2ms/step - loss: 5.7766 - mae: 1.7051\n",
      "Epoch 952/1000\n",
      "13/13 [==============================] - 0s 2ms/step - loss: 5.7385 - mae: 1.6973\n",
      "Epoch 953/1000\n",
      "13/13 [==============================] - 0s 2ms/step - loss: 5.7536 - mae: 1.7036\n",
      "Epoch 954/1000\n",
      "13/13 [==============================] - 0s 2ms/step - loss: 5.7487 - mae: 1.7026\n",
      "Epoch 955/1000\n",
      "13/13 [==============================] - 0s 2ms/step - loss: 5.7460 - mae: 1.7012\n",
      "Epoch 956/1000\n",
      "13/13 [==============================] - 0s 2ms/step - loss: 5.7471 - mae: 1.7000\n",
      "Epoch 957/1000\n",
      "13/13 [==============================] - 0s 2ms/step - loss: 5.7440 - mae: 1.7006\n",
      "Epoch 958/1000\n",
      "13/13 [==============================] - 0s 2ms/step - loss: 5.7522 - mae: 1.7059\n",
      "Epoch 959/1000\n",
      "13/13 [==============================] - 0s 3ms/step - loss: 5.7529 - mae: 1.6995\n",
      "Epoch 960/1000\n",
      "13/13 [==============================] - 0s 3ms/step - loss: 5.7549 - mae: 1.7018\n",
      "Epoch 961/1000\n",
      "13/13 [==============================] - 0s 3ms/step - loss: 5.7343 - mae: 1.6987\n",
      "Epoch 962/1000\n",
      "13/13 [==============================] - 0s 2ms/step - loss: 5.7444 - mae: 1.7028\n",
      "Epoch 963/1000\n",
      "13/13 [==============================] - 0s 2ms/step - loss: 5.7225 - mae: 1.6977\n",
      "Epoch 964/1000\n",
      "13/13 [==============================] - 0s 2ms/step - loss: 5.7225 - mae: 1.7005\n",
      "Epoch 965/1000\n",
      "13/13 [==============================] - 0s 3ms/step - loss: 5.7402 - mae: 1.7034\n",
      "Epoch 966/1000\n",
      "13/13 [==============================] - 0s 2ms/step - loss: 5.7158 - mae: 1.6966\n",
      "Epoch 967/1000\n",
      "13/13 [==============================] - 0s 2ms/step - loss: 5.7349 - mae: 1.6985\n",
      "Epoch 968/1000\n",
      "13/13 [==============================] - 0s 2ms/step - loss: 5.7629 - mae: 1.7031\n",
      "Epoch 969/1000\n",
      "13/13 [==============================] - 0s 2ms/step - loss: 5.7048 - mae: 1.6940\n",
      "Epoch 970/1000\n",
      "13/13 [==============================] - 0s 2ms/step - loss: 5.7249 - mae: 1.6966\n",
      "Epoch 971/1000\n",
      "13/13 [==============================] - 0s 2ms/step - loss: 5.7205 - mae: 1.6981\n",
      "Epoch 972/1000\n",
      "13/13 [==============================] - 0s 2ms/step - loss: 5.7194 - mae: 1.6997\n",
      "Epoch 973/1000\n",
      "13/13 [==============================] - 0s 2ms/step - loss: 5.7157 - mae: 1.6961\n",
      "Epoch 974/1000\n",
      "13/13 [==============================] - 0s 2ms/step - loss: 5.7300 - mae: 1.7044\n",
      "Epoch 975/1000\n",
      "13/13 [==============================] - 0s 2ms/step - loss: 5.7053 - mae: 1.6988\n",
      "Epoch 976/1000\n",
      "13/13 [==============================] - 0s 2ms/step - loss: 5.7075 - mae: 1.6946\n",
      "Epoch 977/1000\n",
      "13/13 [==============================] - 0s 2ms/step - loss: 5.7284 - mae: 1.7050\n",
      "Epoch 978/1000\n",
      "13/13 [==============================] - 0s 2ms/step - loss: 5.7011 - mae: 1.6904\n",
      "Epoch 979/1000\n",
      "13/13 [==============================] - 0s 2ms/step - loss: 5.6949 - mae: 1.6911\n",
      "Epoch 980/1000\n",
      "13/13 [==============================] - 0s 2ms/step - loss: 5.7029 - mae: 1.6960\n",
      "Epoch 981/1000\n",
      "13/13 [==============================] - 0s 2ms/step - loss: 5.6861 - mae: 1.6917\n",
      "Epoch 982/1000\n",
      "13/13 [==============================] - 0s 2ms/step - loss: 5.6955 - mae: 1.6913\n",
      "Epoch 983/1000\n",
      "13/13 [==============================] - 0s 3ms/step - loss: 5.7153 - mae: 1.6976\n",
      "Epoch 984/1000\n",
      "13/13 [==============================] - 0s 2ms/step - loss: 5.6834 - mae: 1.6906\n",
      "Epoch 985/1000\n",
      "13/13 [==============================] - 0s 2ms/step - loss: 5.6950 - mae: 1.6928\n",
      "Epoch 986/1000\n",
      "13/13 [==============================] - 0s 2ms/step - loss: 5.7086 - mae: 1.6933\n",
      "Epoch 987/1000\n",
      "13/13 [==============================] - 0s 2ms/step - loss: 5.6899 - mae: 1.6887\n",
      "Epoch 988/1000\n",
      "13/13 [==============================] - 0s 2ms/step - loss: 5.6743 - mae: 1.6839\n",
      "Epoch 989/1000\n",
      "13/13 [==============================] - 0s 2ms/step - loss: 5.6865 - mae: 1.6897\n",
      "Epoch 990/1000\n",
      "13/13 [==============================] - 0s 2ms/step - loss: 5.7069 - mae: 1.6955\n",
      "Epoch 991/1000\n",
      "13/13 [==============================] - 0s 3ms/step - loss: 5.6727 - mae: 1.6925\n",
      "Epoch 992/1000\n",
      "13/13 [==============================] - 0s 3ms/step - loss: 5.6771 - mae: 1.6902\n",
      "Epoch 993/1000\n",
      "13/13 [==============================] - 0s 3ms/step - loss: 5.6747 - mae: 1.6873\n",
      "Epoch 994/1000\n",
      "13/13 [==============================] - 0s 2ms/step - loss: 5.6921 - mae: 1.6936\n",
      "Epoch 995/1000\n",
      "13/13 [==============================] - 0s 2ms/step - loss: 5.6778 - mae: 1.6900\n",
      "Epoch 996/1000\n",
      "13/13 [==============================] - 0s 2ms/step - loss: 5.6666 - mae: 1.6922\n",
      "Epoch 997/1000\n",
      "13/13 [==============================] - 0s 2ms/step - loss: 5.6862 - mae: 1.6896\n",
      "Epoch 998/1000\n",
      "13/13 [==============================] - 0s 2ms/step - loss: 5.6823 - mae: 1.6884\n",
      "Epoch 999/1000\n",
      "13/13 [==============================] - 0s 2ms/step - loss: 5.6643 - mae: 1.6847\n",
      "Epoch 1000/1000\n",
      "13/13 [==============================] - 0s 2ms/step - loss: 5.6646 - mae: 1.6865\n"
     ]
    }
   ],
   "source": [
    "history = model.fit(\n",
    "    x_train_std,\n",
    "    y_train,\n",
    "    epochs=1000,\n",
    ")"
   ]
  },
  {
   "cell_type": "markdown",
   "metadata": {
    "id": "0xAXSo5-HCIo"
   },
   "source": [
    "### Avaliando o modelo treinado no conjunto de treinamento\n",
    "\n",
    "O método `evaluate` retorna uma **lista** com valores da função de erro e das métricas defindas durante a compilação do modelo."
   ]
  },
  {
   "cell_type": "code",
   "execution_count": 17,
   "metadata": {
    "colab": {
     "base_uri": "https://localhost:8080/"
    },
    "id": "PXzMCGzVUuTx",
    "outputId": "14a99dc5-cc83-49c1-9296-49593ae5a4e5"
   },
   "outputs": [
    {
     "name": "stdout",
     "output_type": "stream",
     "text": [
      "13/13 [==============================] - 0s 2ms/step - loss: 5.6301 - mae: 1.6815\n",
      "MSE no conjunto de treinamento: 5.6301\n",
      "MAE no conjunto de treinamento: 1.6815\n"
     ]
    }
   ],
   "source": [
    "train_eval = model.evaluate(x_train_std, y_train)\n",
    "\n",
    "print (\"MSE no conjunto de treinamento: {:.5}\".format(train_eval[0]))\n",
    "print (\"MAE no conjunto de treinamento: {:.5}\".format(train_eval[1]))"
   ]
  },
  {
   "cell_type": "markdown",
   "metadata": {
    "id": "e3_9dkS5knbd"
   },
   "source": [
    "### Plotando os erros"
   ]
  },
  {
   "cell_type": "code",
   "execution_count": 18,
   "metadata": {
    "colab": {
     "base_uri": "https://localhost:8080/"
    },
    "id": "ShUfx2ZSCylX",
    "outputId": "2bf05d5d-7b14-4156-bf19-3615e03f8fff"
   },
   "outputs": [
    {
     "data": {
      "text/plain": [
       "dict_keys(['loss', 'mae'])"
      ]
     },
     "execution_count": 18,
     "metadata": {},
     "output_type": "execute_result"
    }
   ],
   "source": [
    "# Verificando os resultados disponíveis no dicionário.\n",
    "history.history.keys()"
   ]
  },
  {
   "cell_type": "code",
   "execution_count": 19,
   "metadata": {
    "colab": {
     "base_uri": "https://localhost:8080/",
     "height": 474
    },
    "id": "npIubpXaKl6u",
    "outputId": "b8320de8-1e6b-4f98-e2ba-a7620d2fdebd"
   },
   "outputs": [
    {
     "data": {
      "image/png": "[encoded data removed]",
      "text/plain": [
       "<Figure size 640x480 with 1 Axes>"
      ]
     },
     "metadata": {},
     "output_type": "display_data"
    }
   ],
   "source": [
    "plt.plot(history.history['loss'], label='MSE')\n",
    "plt.title('Erro do modelo (MSE)')\n",
    "plt.ylabel('Erro')\n",
    "plt.xlabel('Época')\n",
    "plt.legend(loc='upper right')\n",
    "plt.grid()\n",
    "plt.show()"
   ]
  },
  {
   "cell_type": "code",
   "execution_count": 20,
   "metadata": {
    "colab": {
     "base_uri": "https://localhost:8080/",
     "height": 474
    },
    "id": "g6qHpwg8BpZi",
    "outputId": "c0029239-c3b0-4dd5-b33c-0a3081109296"
   },
   "outputs": [
    {
     "data": {
      "image/png": "[encoded data removed]",
      "text/plain": [
       "<Figure size 640x480 with 1 Axes>"
      ]
     },
     "metadata": {},
     "output_type": "display_data"
    }
   ],
   "source": [
    "plt.plot(history.history['mae'], label='MAE')\n",
    "plt.title('Erro do modelo (MAE)')\n",
    "plt.ylabel('Erro em 1K de USD')\n",
    "plt.xlabel('Época')\n",
    "plt.legend(loc='upper right')\n",
    "plt.grid()\n",
    "plt.show()"
   ]
  },
  {
   "cell_type": "markdown",
   "metadata": {
    "id": "JYHTdEJVH0tZ"
   },
   "source": [
    "## Testando o modelo treinado no conjunto de teste\n",
    "### Medindo a capacidade de generalização\n",
    "\n",
    "**Obs**.: Usamos o conjunto de teste padronizado."
   ]
  },
  {
   "cell_type": "code",
   "execution_count": 21,
   "metadata": {
    "colab": {
     "base_uri": "https://localhost:8080/"
    },
    "id": "QBuJGqbSH6xT",
    "outputId": "9c0158ae-3678-4bc8-c753-512e9a14e776"
   },
   "outputs": [
    {
     "name": "stdout",
     "output_type": "stream",
     "text": [
      "4/4 [==============================] - 0s 2ms/step - loss: 15.6785 - mae: 2.7044\n",
      "MSE no conjunto de teste: 15.679\n",
      "MAE no conjunto de teste: 2.7044\n"
     ]
    }
   ],
   "source": [
    "test_eval = model.evaluate(x_test_std, y_test)\n",
    "\n",
    "print (\"MSE no conjunto de teste: {:.5}\".format(test_eval[0]))\n",
    "print (\"MAE no conjunto de teste: {:.5}\".format(test_eval[1]))"
   ]
  },
  {
   "cell_type": "markdown",
   "metadata": {
    "id": "we1LXnkDzbaS"
   },
   "source": [
    "O modelo tem um MAE de cerca de 2700 dólares, o que parecer ser um **erro médio** razoável para **estimar** o preço de uma casa."
   ]
  },
  {
   "cell_type": "markdown",
   "metadata": {
    "id": "5-3GpgoU2TUq"
   },
   "source": [
    "#### Comparando os 5 primeiros valores preditos com o esperados."
   ]
  },
  {
   "cell_type": "code",
   "execution_count": 22,
   "metadata": {
    "colab": {
     "base_uri": "https://localhost:8080/"
    },
    "id": "tkaTLMaTIbIL",
    "outputId": "56a9854a-20af-416c-aa20-9883ecb1eb58"
   },
   "outputs": [
    {
     "name": "stdout",
     "output_type": "stream",
     "text": [
      "4/4 [==============================] - 0s 2ms/step\n",
      "[[ 8.49228 ]\n",
      " [17.417694]\n",
      " [22.46905 ]\n",
      " [37.859158]\n",
      " [25.310614]]\n"
     ]
    }
   ],
   "source": [
    "y_hat = model.predict(x_test_std)\n",
    "\n",
    "print(y_hat[:5]) # obtém as predições para as 5 primeiras amostras do conjunto de teste"
   ]
  },
  {
   "cell_type": "code",
   "execution_count": 23,
   "metadata": {
    "colab": {
     "base_uri": "https://localhost:8080/"
    },
    "id": "9p9buLk54A1W",
    "outputId": "9093c9ec-912f-4988-cda4-e2166d0025aa"
   },
   "outputs": [
    {
     "name": "stdout",
     "output_type": "stream",
     "text": [
      "[ 7.2 18.8 19.  27.  22.2]\n"
     ]
    }
   ],
   "source": [
    "print(y_test[:5]) # obtém os valores esperados para as 5 primeiras amostras"
   ]
  },
  {
   "cell_type": "code",
   "execution_count": 24,
   "metadata": {
    "colab": {
     "base_uri": "https://localhost:8080/",
     "height": 450
    },
    "id": "ERuEyCmx4QHY",
    "outputId": "da9aaa8b-538f-44b7-cfa5-21431bfa1bb9"
   },
   "outputs": [
    {
     "data": {
      "image/png": "[encoded data removed]",
      "text/plain": [
       "<Figure size 640x480 with 1 Axes>"
      ]
     },
     "metadata": {},
     "output_type": "display_data"
    }
   ],
   "source": [
    "plt.hist(y_hat, label='Predições', color = 'b')\n",
    "plt.hist(y_test, label = 'Valores esperados', color = 'r', alpha=0.5)\n",
    "plt.xlabel('Preços em 1K dólares')\n",
    "plt.legend()\n",
    "plt.grid()\n",
    "plt.show()"
   ]
  },
  {
   "cell_type": "markdown",
   "metadata": {
    "id": "pDdL9hgK4TNo"
   },
   "source": [
    "Observando o histograma acima, vemos que as predições estão de certa forma similares aos valores esperados em grande parte do intervalo, mas que existem alguns erros em determinados intervalos."
   ]
  },
  {
   "cell_type": "markdown",
   "metadata": {
    "id": "RQgmjypmxaFP"
   },
   "source": [
    "## Fazendo inferências\n",
    "\n",
    "Vamos utilizar um valor totalmente inédito (valores chutados).\n",
    "\n",
    "**O objetivo final da criação de um modelo de regressão é fazer inferências para dados inéditos**."
   ]
  },
  {
   "cell_type": "code",
   "execution_count": 25,
   "metadata": {
    "colab": {
     "base_uri": "https://localhost:8080/"
    },
    "id": "EIior9FBvdcs",
    "outputId": "a8f4ffe9-73e9-4371-f12f-b013e4a4f13c"
   },
   "outputs": [
    {
     "data": {
      "text/plain": [
       "(13,)"
      ]
     },
     "execution_count": 25,
     "metadata": {},
     "output_type": "execute_result"
    }
   ],
   "source": [
    "xt = np.array([1.1, 0., 9., 0., 0.6, 7., 92., 3.8 , 4., 300., 21., 200, 19.5])\n",
    "xt.shape"
   ]
  },
  {
   "cell_type": "markdown",
   "metadata": {
    "id": "t1FU2mXS53Vl"
   },
   "source": [
    "Vejamos as dimensões do conjunto de treinamento (isso é válido para o teste também).\n",
    "\n",
    "Cada **linha** é um exemplo de entrada para o modelo. Portanto, o modelo espera vetores linha com 13 colunas como entrada."
   ]
  },
  {
   "cell_type": "code",
   "execution_count": 26,
   "metadata": {
    "colab": {
     "base_uri": "https://localhost:8080/"
    },
    "id": "Vp2mV37ZyOXE",
    "outputId": "1d7b5c1a-1788-4e89-f55a-b047c09f8d4f"
   },
   "outputs": [
    {
     "data": {
      "text/plain": [
       "(404, 13)"
      ]
     },
     "execution_count": 26,
     "metadata": {},
     "output_type": "execute_result"
    }
   ],
   "source": [
    "x_train.shape"
   ]
  },
  {
   "cell_type": "markdown",
   "metadata": {
    "id": "ulJtk7lu5kfc"
   },
   "source": [
    "Desta forma, precisamos fazer um **reshape** do novo vetor de atributos, pois o modelo espera vetores **linha**, ou seja, com dimensão $1 \\times 13$."
   ]
  },
  {
   "cell_type": "code",
   "execution_count": 27,
   "metadata": {
    "colab": {
     "base_uri": "https://localhost:8080/"
    },
    "id": "2qp7KDtgyz8g",
    "outputId": "1883e092-6787-4758-e885-b503d11da692"
   },
   "outputs": [
    {
     "data": {
      "text/plain": [
       "(1, 13)"
      ]
     },
     "execution_count": 27,
     "metadata": {},
     "output_type": "execute_result"
    }
   ],
   "source": [
    "xt = np.reshape(xt, (1, 13))\n",
    "xt.shape"
   ]
  },
  {
   "cell_type": "markdown",
   "metadata": {
    "id": "25p2xwCD6RF2"
   },
   "source": [
    "Em seguida, padronizamos o novo dado.\n",
    "\n",
    "**Observações**.:\n",
    "\n",
    "+ Como treinamos o modelos com dados escalonados, o escalonamento (padronização, normalização, etc.) deve sempre ser aplicado a qualquer novo dado.\n",
    "+ Percebam que usamos o mesmo objeto `scaler` usado para escalonar os dados de treinamento e teste."
   ]
  },
  {
   "cell_type": "code",
   "execution_count": 28,
   "metadata": {
    "colab": {
     "base_uri": "https://localhost:8080/"
    },
    "id": "XDlArmS2xfuR",
    "outputId": "f38f251c-4b0d-4d72-cadd-d24ef5478271"
   },
   "outputs": [
    {
     "name": "stdout",
     "output_type": "stream",
     "text": [
      "[[-0.28659955 -0.48361547 -0.30934443 -0.25683275  0.36401915  1.03386853\n",
      "   0.82381223  0.02945662 -0.62624905 -0.63729594  1.14850044 -1.64672402\n",
      "   0.93287232]]\n"
     ]
    }
   ],
   "source": [
    "xt_norm = scaler.transform(xt)\n",
    "\n",
    "print(xt_norm)"
   ]
  },
  {
   "cell_type": "markdown",
   "metadata": {
    "id": "7sUjU-kS6oOe"
   },
   "source": [
    "Ao final, relizamos a predição, ou seja, a estimativa do preço da casa."
   ]
  },
  {
   "cell_type": "code",
   "execution_count": 29,
   "metadata": {
    "colab": {
     "base_uri": "https://localhost:8080/"
    },
    "id": "fHbXuOGkzJ-n",
    "outputId": "1407f34c-6e36-46d0-b733-c4e0933074e4"
   },
   "outputs": [
    {
     "name": "stdout",
     "output_type": "stream",
     "text": [
      "1/1 [==============================] - 0s 16ms/step\n",
      "[[13.2533045]]\n",
      "(1, 1)\n"
     ]
    }
   ],
   "source": [
    "yt = model.predict(xt_norm)\n",
    "\n",
    "print(yt)\n",
    "print(yt.shape)"
   ]
  },
  {
   "cell_type": "code",
   "execution_count": 30,
   "metadata": {
    "colab": {
     "base_uri": "https://localhost:8080/"
    },
    "id": "lfb5RGKT0rs3",
    "outputId": "b0aefec2-e007-48c6-8c34-698533edbdc2"
   },
   "outputs": [
    {
     "name": "stdout",
     "output_type": "stream",
     "text": [
      "O valor estimado para esta casa é de 13.25 mil dólares\n"
     ]
    }
   ],
   "source": [
    "print(\"O valor estimado para esta casa é de {:.2f} mil dólares\".format(yt[0][0]))"
   ]
  },
  {
   "cell_type": "markdown",
   "metadata": {
    "id": "RUNbBC_FgcWZ"
   },
   "source": [
    "## Encontrando os melhores hiperparâmetros\n",
    "\n",
    "Usaremos o KerasTuner para realizar a otimização hiperparamétrica.\n",
    "\n",
    "O KerasTuner é um *framework* de otimização de hiperparâmetros escalável e fácil de usar que automatiza a busca pelos hiperparâmetros ótimos.\n",
    "\n",
    "Ele implementa por padrão técnicas de otimização **bayesiana**, **hiperband** e **busca em grade e aleatória**. Outras técnicas podem ser criadas e usadas com ele.\n",
    "\n",
    "Para mais informações, veja [KerasTuner](https://keras.io/keras_tuner/)"
   ]
  },
  {
   "cell_type": "code",
   "execution_count": 31,
   "metadata": {
    "colab": {
     "base_uri": "https://localhost:8080/"
    },
    "id": "dql5K0r9gU1F",
    "outputId": "ef4ea931-7561-446d-e782-a4f8f4131995"
   },
   "outputs": [
    {
     "name": "stdout",
     "output_type": "stream",
     "text": [
      "Requirement already satisfied: keras-tuner in c:\\users\\felipe.figueiredo\\appdata\\local\\anaconda3\\lib\\site-packages (1.3.5)\n",
      "Requirement already satisfied: kt-legacy in c:\\users\\felipe.figueiredo\\appdata\\local\\anaconda3\\lib\\site-packages (from keras-tuner) (1.0.5)\n",
      "Requirement already satisfied: packaging in c:\\users\\felipe.figueiredo\\appdata\\local\\anaconda3\\lib\\site-packages (from keras-tuner) (22.0)\n",
      "Requirement already satisfied: requests in c:\\users\\felipe.figueiredo\\appdata\\local\\anaconda3\\lib\\site-packages (from keras-tuner) (2.28.1)\n",
      "Requirement already satisfied: idna<4,>=2.5 in c:\\users\\felipe.figueiredo\\appdata\\local\\anaconda3\\lib\\site-packages (from requests->keras-tuner) (3.4)\n",
      "Requirement already satisfied: certifi>=2017.4.17 in c:\\users\\felipe.figueiredo\\appdata\\local\\anaconda3\\lib\\site-packages (from requests->keras-tuner) (2023.7.22)\n",
      "Requirement already satisfied: urllib3<1.27,>=1.21.1 in c:\\users\\felipe.figueiredo\\appdata\\local\\anaconda3\\lib\\site-packages (from requests->keras-tuner) (1.26.14)\n",
      "Requirement already satisfied: charset-normalizer<3,>=2 in c:\\users\\felipe.figueiredo\\appdata\\local\\anaconda3\\lib\\site-packages (from requests->keras-tuner) (2.0.4)\n"
     ]
    }
   ],
   "source": [
    "# Instalando o KerasTuner.\n",
    "!pip install keras-tuner --upgrade"
   ]
  },
  {
   "cell_type": "code",
   "execution_count": 32,
   "metadata": {
    "id": "AP1tw9u9g5Uf"
   },
   "outputs": [],
   "source": [
    "# Importanda a biblioteca KerasTuner.\n",
    "import keras_tuner as kt"
   ]
  },
  {
   "cell_type": "markdown",
   "metadata": {},
   "source": [
    "### Definindo a função de criação do modelo"
   ]
  },
  {
   "cell_type": "markdown",
   "metadata": {
    "id": "5UHfySq-hJHo"
   },
   "source": [
    "Para realizar a otimização hiperparamétrica com o KerasTuner, precisamos **definir uma função que cria e retorna um modelo do TensorFlow**.\n",
    "\n",
    "A função deve ter **um argumento**, por exemplo, chamado `hp`, que será **usado para definir os hiperparâmetros** durante a criação do modelo.\n",
    "\n",
    "O argumento de entrada da função é um objeto da classe `HyperParameters`, o qual possui alguns métodos, entre eles o `Choice`, que **escolhe aleatoriamente um valor entre um conjunto predefinido de valores possíveis** (por exemplo, de uma lista).\n",
    "\n",
    "Para uma lista com todos os outros métodos da classe `HyperParameters`, acesse [hyperparameters](https://keras.io/api/keras_tuner/hyperparameters/).\n",
    "\n",
    "No código abaixo, testamos alguns valores para a **quantidade de neurônios da camada oculta**."
   ]
  },
  {
   "cell_type": "code",
   "execution_count": 33,
   "metadata": {
    "id": "qbvjlmNdhBn6"
   },
   "outputs": [],
   "source": [
    "def build_model(hp):\n",
    "\n",
    "  # Cria o modelo sequêncial.\n",
    "  model = tf.keras.Sequential()\n",
    "\n",
    "  # Adiciona a camada oculta.\n",
    "  model.add(\n",
    "      tf.keras.layers.Dense(\n",
    "          hp.Choice('units', [10, 20, 30]),\n",
    "          activation='relu')\n",
    "  )\n",
    "\n",
    "  # Adiciona a camada de saída.\n",
    "  model.add(tf.keras.layers.Dense(1))\n",
    "\n",
    "  # Compila o modelo.\n",
    "  model.compile(optimizer='adam', loss='mse')\n",
    "\n",
    "  # Retorna o modelo.\n",
    "  return model"
   ]
  },
  {
   "cell_type": "markdown",
   "metadata": {},
   "source": [
    "### Definindo o otimizador hiperparamétrico"
   ]
  },
  {
   "cell_type": "markdown",
   "metadata": {
    "id": "lsNpzZpeh2Hi"
   },
   "source": [
    "A biblioteca disponibiliza várias **classes de otimizadores hiperparamétricos**, mas neste exemplo, usaremos um dos mais simples, que é o `RandomSearch`, que como o próprio nome diz, **faz uma busca aleatória pelos melhores valores**.\n",
    "\n",
    "Outros otimizadores podem ser encontrados em [Tuners](https://keras.io/api/keras_tuner/tuners/).\n",
    "\n",
    "Durante a criação do objeto da classe `RandomSearch`, nós passamos para seu construtor:\n",
    "\n",
    "+ a função que cria o modelo, \n",
    "+ definimos um `objective`, que neste caso é a minimização do erro de validação, `val_loss`, \n",
    "+ e, opcionalmente, pode-se definir o número máximo de tentativas, ou seja, de conjuntos de valores diferentes a serem testados, através do parâmetro `max_trials`, cujo valor padrão é 10."
   ]
  },
  {
   "cell_type": "code",
   "execution_count": 34,
   "metadata": {
    "id": "zufG9sUjh1xV"
   },
   "outputs": [
    {
     "name": "stdout",
     "output_type": "stream",
     "text": [
      "INFO:tensorflow:Reloading Tuner from .\\untitled_project\\tuner0.json\n"
     ]
    }
   ],
   "source": [
    "# Instanciando um objeto da classe RandomSearch.\n",
    "tuner = kt.RandomSearch(\n",
    "    build_model,\n",
    "    objective='val_loss'\n",
    ")"
   ]
  },
  {
   "cell_type": "markdown",
   "metadata": {
    "id": "wN6Ci84OiFaZ"
   },
   "source": [
    "### Buscando o melhor modelo.\n",
    "\n",
    "O método `search` faz a busca pelo melhor conjunto de hiperparâmetros.\n",
    "\n",
    "Passamos para ele os conjuntos de treinamento e validação (teste neste caso) e definimos o número de épocas em que cada modelo (conjunto de hiperparâmetros) será treinado"
   ]
  },
  {
   "cell_type": "code",
   "execution_count": 35,
   "metadata": {
    "id": "WnkdoSzLiJUY"
   },
   "outputs": [
    {
     "name": "stdout",
     "output_type": "stream",
     "text": [
      "INFO:tensorflow:Oracle triggered exit\n"
     ]
    }
   ],
   "source": [
    "tuner.search(\n",
    "    x_train_std, y_train,\n",
    "    epochs=500,\n",
    "    validation_data=(x_test_std, y_test)\n",
    ")"
   ]
  },
  {
   "cell_type": "markdown",
   "metadata": {
    "id": "BAW8ju2Jlk8I"
   },
   "source": [
    "### Obtendo os melhores hiperparâmetros\n",
    "\n",
    "Após a busca, obtemos os melhores hiperparâmetros aravés do método `get_best_hyperparameters`."
   ]
  },
  {
   "cell_type": "code",
   "execution_count": 36,
   "metadata": {
    "colab": {
     "base_uri": "https://localhost:8080/"
    },
    "id": "xRAptdj9kaa9",
    "outputId": "ebc88c29-32af-412c-b1be-4418363f68c9"
   },
   "outputs": [
    {
     "name": "stdout",
     "output_type": "stream",
     "text": [
      "\n",
      "A pesquisa de hiperparâmetros foi concluída. O número ideal de neurônios na camada oculta é 10.\n",
      "\n"
     ]
    }
   ],
   "source": [
    "best_hps  = tuner.get_best_hyperparameters()[0]\n",
    "\n",
    "print(f\"\"\"\n",
    "A pesquisa de hiperparâmetros foi concluída. O número ideal de neurônios na camada oculta é {best_hps.get('units')}.\n",
    "\"\"\")"
   ]
  },
  {
   "cell_type": "markdown",
   "metadata": {
    "id": "oe_YaLMYkKrJ"
   },
   "source": [
    "### Obtendo o melhor modelo."
   ]
  },
  {
   "cell_type": "code",
   "execution_count": 37,
   "metadata": {
    "id": "AQbHedAtsipY"
   },
   "outputs": [],
   "source": [
    "best_model = tuner.get_best_models()[0]"
   ]
  },
  {
   "cell_type": "markdown",
   "metadata": {
    "id": "7EquHI3ijAyW"
   },
   "source": [
    "### Espaço de busca\n",
    "\n",
    "Podemos imprimir um resumo do espaço de busca com o método `search_space_summary()`."
   ]
  },
  {
   "cell_type": "code",
   "execution_count": 38,
   "metadata": {
    "colab": {
     "base_uri": "https://localhost:8080/"
    },
    "id": "70gOV5Idme4w",
    "outputId": "a3d2cf37-d4fa-4bc4-f0cb-c79ab0ba5d4f"
   },
   "outputs": [
    {
     "name": "stdout",
     "output_type": "stream",
     "text": [
      "Search space summary\n",
      "Default search space size: 1\n",
      "units (Choice)\n",
      "{'default': 10, 'conditions': [], 'values': [10, 20, 30], 'ordered': True}\n"
     ]
    }
   ],
   "source": [
    "tuner.search_space_summary()"
   ]
  },
  {
   "cell_type": "markdown",
   "metadata": {
    "id": "hl9aW5--ji1l"
   },
   "source": [
    "### Imprimindo o resumo dos resultados\n",
    "\n",
    "Podemos também imprimir um resumo dos resultados da busca com o método `results_summary()`.\n",
    "\n",
    "**Observação**\n",
    "\n",
    "+ O `score` é baseado no `loss` configurado no método `compile` do modelo.\n",
    "+ Assim, no caso abaixo, o `score` é o MSE e, portanto, quanto menor o `score`, melhor será o modelo."
   ]
  },
  {
   "cell_type": "code",
   "execution_count": 39,
   "metadata": {
    "colab": {
     "base_uri": "https://localhost:8080/"
    },
    "id": "zcF6Ogb_mtYW",
    "outputId": "5ce7d238-f060-404f-f4cd-fa540df282c8"
   },
   "outputs": [
    {
     "name": "stdout",
     "output_type": "stream",
     "text": [
      "Results summary\n",
      "Results in .\\untitled_project\n",
      "Showing 10 best trials\n",
      "Objective(name=\"val_loss\", direction=\"min\")\n",
      "\n",
      "Trial 00 summary\n",
      "Hyperparameters:\n",
      "units: 10\n",
      "Score: 17.630491256713867\n",
      "\n",
      "Trial 01 summary\n",
      "Hyperparameters:\n",
      "units: 30\n",
      "Score: 18.234060287475586\n",
      "\n",
      "Trial 02 summary\n",
      "Hyperparameters:\n",
      "units: 20\n",
      "Score: 19.675739288330078\n"
     ]
    }
   ],
   "source": [
    "tuner.results_summary()"
   ]
  }
 ],
 "metadata": {
  "colab": {
   "provenance": []
  },
  "kernelspec": {
   "display_name": "Python 3 (ipykernel)",
   "language": "python",
   "name": "python3"
  },
  "language_info": {
   "codemirror_mode": {
    "name": "ipython",
    "version": 3
   },
   "file_extension": ".py",
   "mimetype": "text/x-python",
   "name": "python",
   "nbconvert_exporter": "python",
   "pygments_lexer": "ipython3",
   "version": "3.10.9"
  }
 },
 "nbformat": 4,
 "nbformat_minor": 1
}
