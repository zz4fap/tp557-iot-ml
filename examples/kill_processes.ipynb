{
 "cells": [
  {
   "cell_type": "code",
   "execution_count": 15,
   "id": "9068e62e",
   "metadata": {},
   "outputs": [
    {
     "name": "stdout",
     "output_type": "stream",
     "text": [
      "Tue Oct 24 16:49:33 2023       \n",
      "+-----------------------------------------------------------------------------+\n",
      "| NVIDIA-SMI 462.62       Driver Version: 462.62       CUDA Version: 11.2     |\n",
      "|-------------------------------+----------------------+----------------------+\n",
      "| GPU  Name            TCC/WDDM | Bus-Id        Disp.A | Volatile Uncorr. ECC |\n",
      "| Fan  Temp  Perf  Pwr:Usage/Cap|         Memory-Usage | GPU-Util  Compute M. |\n",
      "|                               |                      |               MIG M. |\n",
      "|===============================+======================+======================|\n",
      "|   0  GeForce RTX 307... WDDM  | 00000000:01:00.0  On |                  N/A |\n",
      "| N/A   51C    P8    20W /  N/A |   3530MiB /  8192MiB |      0%      Default |\n",
      "|                               |                      |                  N/A |\n",
      "+-------------------------------+----------------------+----------------------+\n",
      "                                                                               \n",
      "+-----------------------------------------------------------------------------+\n",
      "| Processes:                                                                  |\n",
      "|  GPU   GI   CI        PID   Type   Process name                  GPU Memory |\n",
      "|        ID   ID                                                   Usage      |\n",
      "|=============================================================================|\n",
      "|    0   N/A  N/A     11224    C+G   ...artMenuExperienceHost.exe    N/A      |\n",
      "|    0   N/A  N/A     15760    C+G   ...nt Security\\EPConsole.exe    N/A      |\n",
      "|    0   N/A  N/A     16800    C+G   ...ge\\Application\\msedge.exe    N/A      |\n",
      "|    0   N/A  N/A     17964    C+G   ...t\\Teams\\current\\Teams.exe    N/A      |\n",
      "|    0   N/A  N/A     20536    C+G   Insufficient Permissions        N/A      |\n",
      "|    0   N/A  N/A     21220    C+G   ...n1h2txyewy\\SearchHost.exe    N/A      |\n",
      "|    0   N/A  N/A     27464    C+G   C:\\Windows\\explorer.exe         N/A      |\n",
      "|    0   N/A  N/A     27496    C+G   ...y\\ShellExperienceHost.exe    N/A      |\n",
      "|    0   N/A  N/A     27884      C   ...ocal\\anaconda3\\python.exe    N/A      |\n",
      "+-----------------------------------------------------------------------------+\n"
     ]
    }
   ],
   "source": [
    "!nvidia-smi"
   ]
  },
  {
   "cell_type": "code",
   "execution_count": 14,
   "id": "52c22992",
   "metadata": {},
   "outputs": [],
   "source": [
    "import psutil\n",
    "pid_to_kill = 26864                                                                                                                                                                                                                                                                           \n",
    "process = psutil.Process(pid_to_kill)\n",
    "    \n",
    "# Encerra o processo\n",
    "process.terminate()"
   ]
  },
  {
   "cell_type": "code",
   "execution_count": null,
   "id": "51d33663",
   "metadata": {},
   "outputs": [],
   "source": []
  },
  {
   "cell_type": "code",
   "execution_count": null,
   "id": "31971d72",
   "metadata": {},
   "outputs": [],
   "source": []
  }
 ],
 "metadata": {
  "kernelspec": {
   "display_name": "Python 3 (ipykernel)",
   "language": "python",
   "name": "python3"
  },
  "language_info": {
   "codemirror_mode": {
    "name": "ipython",
    "version": 3
   },
   "file_extension": ".py",
   "mimetype": "text/x-python",
   "name": "python",
   "nbconvert_exporter": "python",
   "pygments_lexer": "ipython3",
   "version": "3.10.9"
  }
 },
 "nbformat": 4,
 "nbformat_minor": 5
}
