{
 "cells": [
  {
   "cell_type": "markdown",
   "metadata": {
    "id": "SfhF5BUcomZP"
   },
   "source": [
    "# Exercício sobre o gradiente descendente\n",
    "\n",
    "### Neste notebook, exploraremos a função de erro - em particular, a função do erro quadrático médio (MSE) para um problema de regressão. Também treinaremos um modelo básico de Machine Learning usando o Gradiente Descente para ajustar uma função hipótese aos nossos dados e, consequentemente, minimizar o erro\n",
    "\n",
    "#### Instruções\n",
    "\n",
    "1. Antes de começar, você deve clicar na opção \"Copiar para o Drive\" na barra superior do Colab. Depois de clicar nela, verifique se você está trabalhando nessa versão do notebook para que seu trabalho seja salvo.\n",
    "2. Quando você terminar o exercício, vá ao menu do Colab e selecione a opção para fazer download do notebook.\n",
    "    * Os notebooks têm extensão .ipynb.\n",
    "    * Este deve ser o arquivo que você irá entregar.\n",
    "    * Para baixá-lo, vá até a opção **File** -> **Download .ipynb**.\n",
    "3. Após o download do notebook, vá até a aba de tarefas do MS Teams, localize a tarefa referente a este laboratório e faça o upload do seu notebook. Veja que há uma opção de anexar arquivos à tarefa.\n",
    "4. Não se esqueça de colocar seu **nome** na célula de texto abaixo."
   ]
  },
  {
   "cell_type": "markdown",
   "metadata": {
    "id": "IyzD_3KP1ms-"
   },
   "source": [
    "**Nome**:"
   ]
  },
  {
   "cell_type": "markdown",
   "metadata": {
    "id": "-TiTRaOfOlIq"
   },
   "source": [
    "## 1.Explorando o erro"
   ]
  },
  {
   "cell_type": "markdown",
   "metadata": {
    "id": "SQxFbTjb1RRf"
   },
   "source": [
    "Nesta seção, definimos um problema de regressão linear da forma $\\hat{y} = a_0 + a_1 x$. Geramos o conjunto de dados que usaremos para encontrar a relação entre x e y, ou seja, chegar aos valores ótimos de $a_0$ e $a_1$."
   ]
  },
  {
   "cell_type": "markdown",
   "metadata": {
    "id": "Oo4qroNybu_H"
   },
   "source": [
    "\n",
    "\n",
    "---\n",
    "\n",
    "**Pergunta 1**: Diz-se que na regressão linear, tentamos encontrar a função que melhor se ajusta aos dados. Você consegue pensar o por quê disso?\n",
    "\n",
    "**Resposta:**\n",
    "\n",
    "---\n",
    "\n"
   ]
  },
  {
   "cell_type": "markdown",
   "metadata": {
    "id": "Rr3SfU1pOHji"
   },
   "source": [
    "Abaixo, importamos duas bibliotecas -\n",
    "\n",
    "\n",
    "1.   [math](https://docs.python.org/3/library/math.html) - operações matemáticas básicas, e.g.: raíz quadrada, potência, etc.\n",
    "2.   [matplotlib](https://matplotlib.org/) - visualização de dados\n",
    "3.   [numpy](https://numpy.org/) - manipulação de arrays"
   ]
  },
  {
   "cell_type": "code",
   "execution_count": 60,
   "metadata": {
    "id": "ULRbhByH_g6G"
   },
   "outputs": [],
   "source": [
    "# importando as bibliotecas que serão usadas.\n",
    "import math\n",
    "import matplotlib.pyplot as plt\n",
    "import numpy as np"
   ]
  },
  {
   "cell_type": "markdown",
   "metadata": {
    "id": "mzT77SGLNmzq"
   },
   "source": [
    "A célula abaixo calcula os valores $\\hat{y}$ preditos para palpites de $a_0$ e $a_1$. Altere os valores dos dois pesos e explore como a saída da função hipótese e, consequentemente, o erro mudam para diferentes pesos."
   ]
  },
  {
   "cell_type": "markdown",
   "metadata": {
    "id": "3vI1oUZPL1QL"
   },
   "source": [
    "---\n",
    "\n",
    "**Pergunta 2**: Informe o erro para três valores diferentes de $a_0$ e $a_1$. (Execute as três células de código abaixo para cada par de valores)\n",
    "\n",
    "**Resposta:**\n",
    "\n",
    "1.   $a_0$ = , $a_1$ = , MSE =\n",
    "2.   $a_0$ = , $a_1$ = , MSE =\n",
    "3.   $a_0$ = , $a_1$ = , MSE =\n",
    "\n",
    "---"
   ]
  },
  {
   "cell_type": "code",
   "execution_count": 61,
   "metadata": {
    "colab": {
     "base_uri": "https://localhost:8080/"
    },
    "id": "PwrR2q7tZKPi",
    "outputId": "4e9b5a1f-82c2-4005-cf88-f6c045c99596"
   },
   "outputs": [
    {
     "name": "stdout",
     "output_type": "stream",
     "text": [
      "y: [-3 -1  1  3  5  7]\n",
      "y_hat: [-3. -1.  1.  3.  5.  7.]\n"
     ]
    }
   ],
   "source": [
    "# Edite os pesps a0 e a1 para obter valores de erro diferentes.\n",
    "# Execute esta célula novamente quando terminar de definir os novos pesos.\n",
    "# Seu y será calculado como y = ao + a1*x, então\n",
    "# se a0 = -1 e a1 = 3, então y = -1 + 3x\n",
    "\n",
    "a0 = -1 # < Coloque um valor aqui >\n",
    "a1 = 2  # < Coloque um valor aqui >\n",
    "\n",
    "x = np.array([-1, 0, 1, 2, 3, 4])\n",
    "y = np.array([-3, -1, 1, 3, 5, 7])      # Valores esperados (rótulos) for a0 = -1 e a1 = 2, i.e, y = -1 + 2x\n",
    "\n",
    "y_hat = np.zeros((len(y), ))\n",
    "for i, xi in enumerate(x):\n",
    "  y_hat[i] = a0 + a1*xi                 # Predições feitas com base nos valores definidos para os pesos.\n",
    "\n",
    "print(\"y: \" + str(y))\n",
    "print(\"y_hat: \" + str(y_hat))"
   ]
  },
  {
   "cell_type": "markdown",
   "metadata": {
    "id": "2759rVV6CjFY"
   },
   "source": [
    "Antes de prosseguirmos para o cálculo do erro, vamos visualizar a diferença entre os valores esperados e preditos. No gráfico de dispersão abaixo, os *pontos azuis* representam os valores esperados, os *pontos verdes* representam os valores preditos e as *linhas tracejadas vermelhas* representam a diferença entre os dois para cada amostra de dados individual.\n",
    "\n",
    "Você pode ler mais sobre gráficos de dispersão da biblioteca matplotlib [aqui](https://matplotlib.org/stable/api/_as_gen/matplotlib.pyplot.scatter.html)."
   ]
  },
  {
   "cell_type": "code",
   "execution_count": 62,
   "metadata": {
    "colab": {
     "base_uri": "https://localhost:8080/",
     "height": 430
    },
    "id": "JJxSeN1B-fL8",
    "outputId": "b73b9327-5bdd-42e3-b05a-ffd3d287f74b"
   },
   "outputs": [
    {
     "data": {
      "image/png": "[encoded data removed]",
      "text/plain": [
       "<Figure size 640x480 with 1 Axes>"
      ]
     },
     "metadata": {},
     "output_type": "display_data"
    }
   ],
   "source": [
    "# Visualização do erro entre os valores esperados e preditos pela função hipótese.\n",
    "plt.scatter(x, y, color='blue', label='Valores esperados')                    # valores esperados\n",
    "plt.scatter(x, y_hat, color='green', label='Valores preditos')                # valores preditos\n",
    "plt.vlines(x, ymin=np.minimum(y, y_hat), ymax=np.maximum(y, y_hat), color=\"red\", linestyle='--', alpha=0.3)\n",
    "plt.legend()\n",
    "plt.grid()\n",
    "plt.show()"
   ]
  },
  {
   "cell_type": "markdown",
   "metadata": {
    "id": "2oUxMYFcFe6e"
   },
   "source": [
    "Nós poderíamos simplesmente pegar a média das diferenças entre os os valores esperados e preditos para calcular o erro do modelo. No entanto, a presença de erros negativos faria com que alguns erros se cancelassem, não dando uma representação precisa do erro total. Portanto, a coisa mais inteligente a fazer aqui é elevar ao quadrado cada valor de erro individual e calcular a média de todos os erros individuais, ou seja, calcular o **MSE**."
   ]
  },
  {
   "cell_type": "code",
   "execution_count": 63,
   "metadata": {
    "colab": {
     "base_uri": "https://localhost:8080/"
    },
    "id": "MUOgz0NoChZG",
    "outputId": "ca4e465f-d160-4a6e-c686-7c09cb826d1b"
   },
   "outputs": [
    {
     "name": "stdout",
     "output_type": "stream",
     "text": [
      "MSE: 0.0\n"
     ]
    }
   ],
   "source": [
    "# Vamos calcular o erro.\n",
    "mse = 0\n",
    "N = len(y) # Número total de amostras.\n",
    "for i in range(0, N):\n",
    "  squared_diff = (y[i] - y_hat[i]) ** 2\n",
    "  mse += squared_diff\n",
    "\n",
    "# Divide pelo número total de amostras.\n",
    "mse /= N\n",
    "\n",
    "print(\"MSE: \" + str((mse)))"
   ]
  },
  {
   "cell_type": "markdown",
   "metadata": {
    "id": "YZqMW2IHvqXR"
   },
   "source": [
    "## 2. Minimizando o erro"
   ]
  },
  {
   "cell_type": "markdown",
   "metadata": {
    "id": "LOr5Jm5TwZKr"
   },
   "source": [
    "Nesta seção, iremos minimizar o erro do nosso modelo de regressão, treinando-o com os dados fornecidos."
   ]
  },
  {
   "cell_type": "markdown",
   "metadata": {
    "id": "sGS5IutpPhGP"
   },
   "source": [
    "Nós importamos a seguinte biblioteca -\n",
    "\n",
    "\n",
    "1.   [tensorflow](https://www.tensorflow.org/) - biblioteca de código aberto para criar e treinar modelos de ML."
   ]
  },
  {
   "cell_type": "code",
   "execution_count": 64,
   "metadata": {
    "colab": {
     "base_uri": "https://localhost:8080/"
    },
    "id": "l8uQAtpf_smh",
    "outputId": "4fb1755d-ecd9-46c3-b7e4-8ffb464edc2b"
   },
   "outputs": [
    {
     "name": "stdout",
     "output_type": "stream",
     "text": [
      "Colab only includes TensorFlow 2.x; %tensorflow_version has no effect.\n"
     ]
    }
   ],
   "source": [
    "try:\n",
    "  # %tensorflow_version only exists in Colab.\n",
    "  %tensorflow_version 2.x\n",
    "except Exception:\n",
    "  pass\n",
    "\n",
    "import tensorflow as tf"
   ]
  },
  {
   "cell_type": "markdown",
   "metadata": {
    "id": "FDgvPAZZQt2e"
   },
   "source": [
    "Para treinar nosso modelo de regressão linear, precisamos primeiro definir (i) o modelo, (ii) a função de erro e (iii) o procedimento (i.e., algoritmo) de treinamento."
   ]
  },
  {
   "cell_type": "markdown",
   "metadata": {
    "id": "SLCbfuwWSTSx"
   },
   "source": [
    "### Modelo de regressão linear\n",
    "\n",
    "O modelo representa a função hipótese $\\hat{y} = a_0 + a_1 x$. Portanto, o modelo gera um valor de $\\hat{y}$ para determinados $a_0$, $a_1$ e x quando é chamado."
   ]
  },
  {
   "cell_type": "code",
   "execution_count": 65,
   "metadata": {
    "id": "JOKXLdtQYAn9"
   },
   "outputs": [],
   "source": [
    "# Definindo nosso palpite inicial.\n",
    "A0_INICIAL = 10.0\n",
    "A1_INICIAL = 10.0\n",
    "\n",
    "# Define nosso modelo de regressão.\n",
    "class Model(object):\n",
    "  def __init__(self):\n",
    "    # Inicializando os pesos como variáveis do Tensorflow.\n",
    "    self.a0 = tf.Variable(A0_INICIAL)\n",
    "    self.a1 = tf.Variable(A1_INICIAL)\n",
    "\n",
    "  # O método call é chamado toda a vez que passamos um valor de x para o modelo.\n",
    "  def __call__(self, x):\n",
    "    return self.a0 + self.a1*x"
   ]
  },
  {
   "cell_type": "markdown",
   "metadata": {
    "id": "yaSBNf3JN9PM"
   },
   "source": [
    "***Dica:*** Dado uma valor de x, o método `__call__()` retorna um valor de $\\hat{y}$. Sabemos que o melhor formato para a função hipótese, ou seja, o modelo, é $\\hat{y} = a_0 + a_1 x$. Portanto, o método `__call__()` retorna `self.a0 + self.a1 * x`."
   ]
  },
  {
   "cell_type": "markdown",
   "metadata": {
    "id": "qZyKjNZkbMXp"
   },
   "source": [
    "### Função de erro\n",
    "\n",
    "Em seguida, definimos nossa função de erro, que irá retornar o erro quadrático médio (MSE).\n",
    "\n",
    "A função do Tensorflow `tf.reduce_mean()` calcula a média do tensor (i.e., vetor/array) de entrada. Leia mais [aqui](https://www.tensorflow.org/api_docs/python/tf/math/reduce_mean).\n",
    "\n",
    "No caso do código abaixo, a função `tf.reduce_mean()` calcula a média dos erros individuais."
   ]
  },
  {
   "cell_type": "code",
   "execution_count": 66,
   "metadata": {
    "id": "jY0OplVNbWHx"
   },
   "outputs": [],
   "source": [
    "# Definindo nossa função de erro.\n",
    "def erro(predicted_y, target_y):\n",
    "  return tf.reduce_mean(tf.square(predicted_y - target_y))"
   ]
  },
  {
   "cell_type": "markdown",
   "metadata": {
    "id": "cJj1cxFadTDy"
   },
   "source": [
    "### Procedimento (algoritmo) de treinamento\n",
    "\n",
    "Aqui, o algoritmo do gradiente descendente é usado para o treinamento do modelo.\n",
    "\n",
    "Definimos uma função chamada `train` que executa uma iteração do **gradiente descendente** usando **todas** as amostras em nosso conjunto de dados (ou seja, usa todos os valores x e y disponíveis para treinamento).\n",
    "\n",
    "Uma iteração do algoritmo de otimização do gradiente descendente envolve:\n",
    "\n",
    "1. o cálculo do erro\n",
    "2. o cálculo das derivadas da função de erro em relação ao pesos individuais (i.e., $a_0$ e $a_1$)\n",
    "3. a atualização dos pesos do modelo com as derivadas calculadas (i.e., vetor gradiente)"
   ]
  },
  {
   "cell_type": "markdown",
   "metadata": {
    "id": "aDxqkMRskxx4"
   },
   "source": [
    "**API Gradient Tape do TensorFlow** -\n",
    "\n",
    "O cálculo das derivadas parciais da função de erro em relação aos pesos é feito automaticamente por um objeto da classe `GradientTape()` do TensorFlow.\n",
    "\n",
    "Você pode aprender mais sobre a classe `GradientTape()` em https://www.tensorflow.org/api_docs/python/tf/GradientTape"
   ]
  },
  {
   "cell_type": "code",
   "execution_count": 67,
   "metadata": {
    "id": "9fLQyjzVv4u3"
   },
   "outputs": [],
   "source": [
    "# Definindo o processo de treinamento (ou atualização dos pesos)\n",
    "def train(model, inputs, outputs, learning_rate):\n",
    "  with tf.GradientTape() as t:\n",
    "    # Erro atual.\n",
    "    current_error = erro(model(inputs), outputs)\n",
    "\n",
    "    # Aqui é onde diferenciamos a função de erro em relação aos pesos do modelo.\n",
    "    da0, da1 = t.gradient(current_error, [model.a0, model.a1])      # derro/da0, derro/da1\n",
    "\n",
    "    # E aqui é onde atualizamos os pesos do modelo com base no passo de aprendizagem escolhido.\n",
    "    model.a0.assign_sub(learning_rate * da0)   # model.a0 = model.a0 - learning_rate*a0\n",
    "    model.a1.assign_sub(learning_rate * da1)   # model.a1 = model.a1 - learning_rate*a1\n",
    "\n",
    "    # Retorna o erro atual.\n",
    "    return current_error"
   ]
  },
  {
   "cell_type": "markdown",
   "metadata": {
    "id": "-1qR8Ly_SA7I"
   },
   "source": [
    "---\n",
    "\n",
    "\n",
    "**Pergunta 3**: No código acima, antes de treinar o modelo, quais são as três coisas que precisamos definir?\n",
    "\n",
    "**Resposta:**\n",
    "\n",
    "---"
   ]
  },
  {
   "cell_type": "markdown",
   "metadata": {
    "id": "GmwQwGuqMP5O"
   },
   "source": [
    "---\n",
    "\n",
    "**Pergunta 4**: Qual versão do gradiente descendente está implentada no código acima?\n",
    "\n",
    "**Resposta:**\n",
    "\n",
    "---"
   ]
  },
  {
   "cell_type": "markdown",
   "metadata": {
    "id": "t9OVMTeQwIYy"
   },
   "source": [
    "### Treinando o modelo\n",
    "\n",
    "Agora que definimos todas as funções individuais que vamos precisar, é hora de juntá-las.\n",
    "\n",
    "Primeiro definimos o conjunto de dados (x e y) e, em seguida, instanciamos nosso modelo. Na sequência, treinamos nosso modelo por várias épocas. Para cada época, calculamos e armazenamos os valores dos pesos ($a_0$ e $a_1$) e o erro."
   ]
  },
  {
   "cell_type": "markdown",
   "metadata": {
    "id": "PktVRvVFTWQC"
   },
   "source": [
    "Observe a diminuição do erro à medida que as épocas passam."
   ]
  },
  {
   "cell_type": "code",
   "execution_count": 68,
   "metadata": {
    "colab": {
     "base_uri": "https://localhost:8080/"
    },
    "id": "NCPlW9FpwFgV",
    "outputId": "d24ef0d2-f380-41e8-ce37-a591fc4d95b4"
   },
   "outputs": [
    {
     "name": "stdout",
     "output_type": "stream",
     "text": [
      "Epoch  0: w=10.00 b=10.00, loss=715.66669\n",
      "Epoch  1: w=9.77 b=9.42, loss=640.37299\n",
      "Epoch  2: w=9.55 b=8.88, loss=573.31366\n",
      "Epoch  3: w=9.34 b=8.36, loss=513.58490\n",
      "Epoch  4: w=9.14 b=7.88, loss=460.38223\n",
      "Epoch  5: w=8.95 b=7.42, loss=412.98914\n",
      "Epoch  6: w=8.77 b=6.99, loss=370.76804\n",
      "Epoch  7: w=8.60 b=6.59, loss=333.15128\n",
      "Epoch  8: w=8.44 b=6.21, loss=299.63358\n",
      "Epoch  9: w=8.28 b=5.85, loss=269.76511\n",
      "Epoch 10: w=8.13 b=5.51, loss=243.14545\n",
      "Epoch 11: w=7.98 b=5.19, loss=219.41809\n",
      "Epoch 12: w=7.85 b=4.89, loss=198.26579\n",
      "Epoch 13: w=7.71 b=4.61, loss=179.40607\n",
      "Epoch 14: w=7.59 b=4.35, loss=162.58748\n",
      "Epoch 15: w=7.47 b=4.10, loss=147.58614\n",
      "Epoch 16: w=7.35 b=3.86, loss=134.20280\n",
      "Epoch 17: w=7.24 b=3.64, loss=122.26014\n",
      "Epoch 18: w=7.13 b=3.43, loss=111.60019\n",
      "Epoch 19: w=7.03 b=3.23, loss=102.08240\n",
      "Epoch 20: w=6.93 b=3.05, loss=93.58163\n",
      "Epoch 21: w=6.84 b=2.88, loss=85.98649\n",
      "Epoch 22: w=6.74 b=2.71, loss=79.19780\n",
      "Epoch 23: w=6.66 b=2.56, loss=73.12731\n",
      "Epoch 24: w=6.57 b=2.42, loss=67.69640\n",
      "Epoch 25: w=6.49 b=2.28, loss=62.83515\n",
      "Epoch 26: w=6.41 b=2.16, loss=58.48124\n",
      "Epoch 27: w=6.33 b=2.04, loss=54.57925\n",
      "Epoch 28: w=6.26 b=1.92, loss=51.07980\n",
      "Epoch 29: w=6.19 b=1.82, loss=47.93897\n",
      "Epoch 30: w=6.12 b=1.72, loss=45.11764\n",
      "Epoch 31: w=6.05 b=1.63, loss=42.58098\n",
      "Epoch 32: w=5.99 b=1.54, loss=40.29800\n",
      "Epoch 33: w=5.92 b=1.46, loss=38.24108\n",
      "Epoch 34: w=5.86 b=1.38, loss=36.38565\n",
      "Epoch 35: w=5.80 b=1.31, loss=34.70985\n",
      "Epoch 36: w=5.75 b=1.25, loss=33.19419\n",
      "Epoch 37: w=5.69 b=1.18, loss=31.82134\n",
      "Epoch 38: w=5.63 b=1.13, loss=30.57584\n",
      "Epoch 39: w=5.58 b=1.07, loss=29.44397\n",
      "Epoch 40: w=5.53 b=1.02, loss=28.41347\n",
      "Epoch 41: w=5.48 b=0.97, loss=27.47346\n",
      "Epoch 42: w=5.43 b=0.93, loss=26.61422\n",
      "Epoch 43: w=5.38 b=0.89, loss=25.82713\n",
      "Epoch 44: w=5.33 b=0.85, loss=25.10448\n",
      "Epoch 45: w=5.29 b=0.81, loss=24.43942\n",
      "Epoch 46: w=5.24 b=0.78, loss=23.82587\n",
      "Epoch 47: w=5.20 b=0.75, loss=23.25837\n",
      "Epoch 48: w=5.16 b=0.72, loss=22.73209\n",
      "Epoch 49: w=5.11 b=0.70, loss=22.24273\n"
     ]
    }
   ],
   "source": [
    "# Definindo o conjunto de dados e o passo de aprendizagem.\n",
    "x = np.array([-1.0, 0.0, 1.0, 2.0, 3.0, 4.0])\n",
    "y = np.array([-3.0, -1.0, 1.0, 3.0, 5.0, 7.0])\n",
    "\n",
    "# Passo de aprendizagem.\n",
    "LEARNING_RATE = 0.005\n",
    "\n",
    "# Número de épocas.\n",
    "epochs = 50\n",
    "\n",
    "# Instancia o modelo.\n",
    "model = Model()\n",
    "\n",
    "# Coletando o histórico de valores a0 e a1 para plotar mais tarde.\n",
    "list_a0, list_a1 = [], []\n",
    "erros = []\n",
    "\n",
    "# Laço (loop) de treinamento.\n",
    "for epoch in range(epochs):\n",
    "\n",
    "  # Armazena os valores dos pesos.\n",
    "  list_a0.append(model.a0.numpy())\n",
    "  list_a1.append(model.a1.numpy())\n",
    "\n",
    "  # Iteração de treinamento.\n",
    "  current_error = train(model, x, y, learning_rate=LEARNING_RATE)\n",
    "\n",
    "  # Armzena os erros ao longo das épocas de treinamento.\n",
    "  erros.append(current_error)\n",
    "\n",
    "  # Imprime os erros ao longo das épocas de treinamento.\n",
    "  print('Epoch %2d: w=%1.2f b=%1.2f, loss=%2.5f' % (epoch, list_a0[-1], list_a1[-1], current_error))"
   ]
  },
  {
   "cell_type": "markdown",
   "metadata": {
    "id": "6afLtlyRwR-x"
   },
   "source": [
    "### Plote os valores dos pesos ao longo das épocas de treinamento.\n",
    "\n",
    "Abaixo está um gráfico dos valores dos pesos do modelo $a_0$ e $a_1$ (eixo y) ao longo das épocas (eixo x). À medida que o modelo é treinado, observe como os valores de $a_0$ e $a_1$ convergem para os valores verdadeiros 1.0 e 2.0, respectivamente."
   ]
  },
  {
   "cell_type": "code",
   "execution_count": 69,
   "metadata": {
    "colab": {
     "base_uri": "https://localhost:8080/",
     "height": 451
    },
    "id": "50uecDpHwPGV",
    "outputId": "923fbf82-0416-4318-a555-6327d3d5629c"
   },
   "outputs": [
    {
     "data": {
      "image/png": "[encoded data removed]",
      "text/plain": [
       "<Figure size 640x480 with 1 Axes>"
      ]
     },
     "metadata": {},
     "output_type": "display_data"
    }
   ],
   "source": [
    "# Plote os valores de a0 e a1 para cada época de treinamento em relação aos valores verdadeiros.\n",
    "TRUE_a0 = -1.0\n",
    "TRUE_a1 = 2.0\n",
    "\n",
    "xaxis = range(epochs)\n",
    "plt.plot(xaxis, list_a0, 'r', xaxis, list_a1, 'b')\n",
    "plt.plot([TRUE_a0] * epochs, 'r--', [TRUE_a1] * epochs, 'b--')\n",
    "plt.legend(['a0', 'a1', 'a0 verdadeiro', 'a1 verdadeiro'])\n",
    "plt.xlabel('Épocas')\n",
    "plt.ylabel('Valor do peso')\n",
    "plt.grid()\n",
    "plt.show()"
   ]
  },
  {
   "cell_type": "markdown",
   "metadata": {
    "id": "XcD48DftWR1S"
   },
   "source": [
    "---\n",
    "\n",
    "**Pergunta 5**: No gráfico acima, o que significam as linhas sólidas e as pontilhadas?\n",
    "\n",
    "**Resposta:**\n",
    "\n",
    "---"
   ]
  },
  {
   "cell_type": "markdown",
   "metadata": {
    "id": "UtEhd1N1L7CZ"
   },
   "source": [
    "### Plote o MSE ao longo das épocas de treinamento\n",
    "\n",
    "O gráfico abaixo mostra o MSE ao longo do treinamento do modelo."
   ]
  },
  {
   "cell_type": "code",
   "execution_count": 70,
   "metadata": {
    "colab": {
     "base_uri": "https://localhost:8080/",
     "height": 451
    },
    "id": "-IClvkEoKzSR",
    "outputId": "33fb2922-9ac4-4998-bbab-b2e0477739e8"
   },
   "outputs": [
    {
     "data": {
      "image/png": "[encoded data removed]",
      "text/plain": [
       "<Figure size 640x480 with 1 Axes>"
      ]
     },
     "metadata": {},
     "output_type": "display_data"
    }
   ],
   "source": [
    "plt.plot(range(epochs), erros)\n",
    "plt.xlabel('Épocas')\n",
    "plt.ylabel('MSE')\n",
    "plt.grid()\n",
    "plt.show()"
   ]
  },
  {
   "cell_type": "markdown",
   "metadata": {
    "id": "Z4BymjKIL3v_"
   },
   "source": [
    "---\n",
    "\n",
    "**Pergunta 6**: O que você conclui sobre os resultados anteriores? Os pesos do modelo estão próximos dos valores verdadeiros após as 50 épocas de treinamento? Caso não, o que pode ser feito para melhorar isso? Descreva todas as possíveis formas e implemente uma delas. Cite qual delas será implementada.\n",
    "\n",
    "**Resposta:**\n",
    "\n",
    "---"
   ]
  },
  {
   "cell_type": "markdown",
   "metadata": {
    "id": "wH1lzGkYMqiN"
   },
   "source": [
    "---\n",
    "\n",
    "**Pergunta 7**: O que ocorreria se o passo de aprendizagem fosse feito igual a 1?\n",
    "\n",
    "**Resposta:**\n",
    "\n",
    "---"
   ]
  }
 ],
 "metadata": {
  "colab": {
   "provenance": []
  },
  "kernelspec": {
   "display_name": "Python 3 (ipykernel)",
   "language": "python",
   "name": "python3"
  },
  "language_info": {
   "codemirror_mode": {
    "name": "ipython",
    "version": 3
   },
   "file_extension": ".py",
   "mimetype": "text/x-python",
   "name": "python",
   "nbconvert_exporter": "python",
   "pygments_lexer": "ipython3",
   "version": "3.10.9"
  }
 },
 "nbformat": 4,
 "nbformat_minor": 1
}
