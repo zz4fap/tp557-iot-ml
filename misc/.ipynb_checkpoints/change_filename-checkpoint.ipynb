{
 "cells": [
  {
   "cell_type": "code",
   "execution_count": 24,
   "id": "0dcac06b",
   "metadata": {},
   "outputs": [
    {
     "name": "stdout",
     "output_type": "stream",
     "text": [
      "angular_leaf_spot.43.jpg\n",
      "angular_leaf_spot.44.jpg\n",
      "angular_leaf_spot.45.jpg\n",
      "angular_leaf_spot.46.jpg\n",
      "angular_leaf_spot.47.jpg\n",
      "angular_leaf_spot.48.jpg\n",
      "angular_leaf_spot.49.jpg\n",
      "angular_leaf_spot.50.jpg\n",
      "angular_leaf_spot.51.jpg\n",
      "angular_leaf_spot.52.jpg\n",
      "angular_leaf_spot.53.jpg\n",
      "angular_leaf_spot.54.jpg\n",
      "angular_leaf_spot.55.jpg\n",
      "angular_leaf_spot.56.jpg\n",
      "angular_leaf_spot.57.jpg\n",
      "angular_leaf_spot.58.jpg\n",
      "angular_leaf_spot.59.jpg\n",
      "angular_leaf_spot.60.jpg\n",
      "angular_leaf_spot.61.jpg\n",
      "angular_leaf_spot.62.jpg\n",
      "angular_leaf_spot.63.jpg\n",
      "angular_leaf_spot.64.jpg\n",
      "angular_leaf_spot.65.jpg\n",
      "angular_leaf_spot.66.jpg\n",
      "angular_leaf_spot.67.jpg\n",
      "angular_leaf_spot.68.jpg\n",
      "angular_leaf_spot.69.jpg\n",
      "angular_leaf_spot.70.jpg\n",
      "angular_leaf_spot.71.jpg\n",
      "angular_leaf_spot.72.jpg\n",
      "angular_leaf_spot.73.jpg\n",
      "angular_leaf_spot.74.jpg\n",
      "angular_leaf_spot.75.jpg\n",
      "angular_leaf_spot.76.jpg\n",
      "angular_leaf_spot.77.jpg\n",
      "angular_leaf_spot.78.jpg\n",
      "angular_leaf_spot.79.jpg\n",
      "angular_leaf_spot.80.jpg\n",
      "angular_leaf_spot.81.jpg\n",
      "angular_leaf_spot.82.jpg\n",
      "angular_leaf_spot.83.jpg\n",
      "angular_leaf_spot.84.jpg\n",
      "angular_leaf_spot.85.jpg\n",
      "angular_leaf_spot.86.jpg\n"
     ]
    }
   ],
   "source": [
    "import os\n",
    "from pathlib import Path\n",
    "\n",
    "def renomear_arquivos(caminho_pasta):\n",
    "    \"\"\"\n",
    "    Renomeia todos os arquivos dentro de uma pasta.\n",
    "    Args: caminho_pasta: O caminho da pasta que contém os arquivos a serem renomeados.\n",
    "    Returns:\n",
    "    None.\n",
    "    \"\"\"\n",
    "\n",
    "    # Obtém a lista de arquivos na pasta.\n",
    "    arquivos = os.listdir(caminho_pasta)\n",
    "\n",
    "    inc = 43\n",
    "    # Itera sobre os arquivos e renomeia-os.\n",
    "    for arquivo in arquivos:\n",
    "        # Obtém o novo nome do arquivo.\n",
    "        ret=arquivo.split('_val')\n",
    "        #ret=arquivo.split('_test')\n",
    "        if(len(ret) > 1):\n",
    "            novo_nome = f\"{ret[0]}.{inc}.jpg\"\n",
    "            #novo_nome = f\"{ret[0]}{ret[1]}\"\n",
    "            print(novo_nome)\n",
    "            # Renomeia o arquivo.\n",
    "            os.rename(os.path.join(caminho_pasta, arquivo), os.path.join(caminho_pasta, novo_nome))\n",
    "            inc += 1\n",
    "\n",
    "# Exemplo de uso\n",
    "caminho_pasta = 'C:/Users/felipe.figueiredo/Downloads/ibean_dataset/test/angular_leaf_spot/'\n",
    "\n",
    "renomear_arquivos(caminho_pasta)\n"
   ]
  },
  {
   "cell_type": "code",
   "execution_count": null,
   "id": "5b7db886",
   "metadata": {},
   "outputs": [],
   "source": []
  }
 ],
 "metadata": {
  "kernelspec": {
   "display_name": "Python 3 (ipykernel)",
   "language": "python",
   "name": "python3"
  },
  "language_info": {
   "codemirror_mode": {
    "name": "ipython",
    "version": 3
   },
   "file_extension": ".py",
   "mimetype": "text/x-python",
   "name": "python",
   "nbconvert_exporter": "python",
   "pygments_lexer": "ipython3",
   "version": "3.10.9"
  }
 },
 "nbformat": 4,
 "nbformat_minor": 5
}
