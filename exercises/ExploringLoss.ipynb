{
 "cells": [
  {
   "cell_type": "markdown",
   "metadata": {},
   "source": [
    "In this next Colab you will get to explore linear regression and loss functions for yourself. We have provided a cell that will compute the predicted Y values as well as the loss function for your guess of w and b. Simply change their values and explore how the output and loss changes.\n",
    "\n",
    "Note: You may receive a warning that the Colab was not authored by Google, and this may occur on future Colabs as well. That is entirely normal as we authored many of these Colabs ourselves for this course"
   ]
  },
  {
   "cell_type": "code",
   "execution_count": null,
   "metadata": {
    "id": "PwrR2q7tZKPi"
   },
   "outputs": [],
   "source": [
    "import math\n",
    "# Edit these parameters to try different loss measurements. Rerun this cell when\n",
    "# done. Your Y will be calculated as Y=wX+b, so if w=3, and b=-1, then Y=3x-1.\n",
    "\n",
    "w = 3\n",
    "b = -1\n",
    "\n",
    "x = [-1, 0, 1, 2, 3, 4]\n",
    "y = [-3, -1, 1, 3, 5, 7]\n",
    "myY = []\n",
    "\n",
    "\n",
    "for thisX in x:\n",
    "    thisY = (w*thisX)+b\n",
    "    myY.append(thisY)\n",
    "\n",
    "print(f\"Real Y is {str(y)}\")\n",
    "print(f\"My Y is   {str(myY)}\")\n",
    "\n",
    "# let's calculate the loss\n",
    "total_square_error = 0\n",
    "for i in range(0, len(y)):\n",
    "    square_error = (y[i] - myY[i]) ** 2\n",
    "    total_square_error += square_error\n",
    "\n",
    "print(f\"My loss is: {str(math.sqrt(total_square_error))}\")"
   ]
  },
  {
   "cell_type": "code",
   "execution_count": null,
   "metadata": {
    "id": "5uLZdF3IQ8rq"
   },
   "outputs": [],
   "source": []
  }
 ],
 "metadata": {
  "colab": {
   "name": "ExploringLoss.ipynb",
   "provenance": []
  },
  "kernelspec": {
   "display_name": "Python 3 (ipykernel)",
   "language": "python",
   "name": "python3"
  },
  "language_info": {
   "codemirror_mode": {
    "name": "ipython",
    "version": 3
   },
   "file_extension": ".py",
   "mimetype": "text/x-python",
   "name": "python",
   "nbconvert_exporter": "python",
   "pygments_lexer": "ipython3",
   "version": "3.10.9"
  }
 },
 "nbformat": 4,
 "nbformat_minor": 1
}
