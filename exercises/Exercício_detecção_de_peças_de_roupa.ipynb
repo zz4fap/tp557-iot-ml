{
 "cells": [
  {
   "cell_type": "markdown",
   "metadata": {
    "id": "1hc7kKg4o7rG"
   },
   "source": [
    "# Exercício sobre detecção de peças de roupa\n",
    "\n",
    "Neste exercício, você deve criar um modelo de rede neural para **classificação de imagens de roupas**.\n",
    "\n",
    "Use otimização hiperparamétrica para encontrar um boa arquitetura para o modelo.\n",
    "\n",
    "Após encontrar um bom modelo, faça o seguinte:\n",
    "\n",
    "1. Imprima a acurácia com os conjuntos de treinamento e teste.\n",
    "\n",
    "**OBS**.: Não se esqueça de ativar o uso de GPU."
   ]
  },
  {
   "cell_type": "markdown",
   "metadata": {
    "id": "fuYzMWRYruMt"
   },
   "source": [
    "## Importando as bibliotecas"
   ]
  },
  {
   "cell_type": "code",
   "execution_count": null,
   "metadata": {
    "colab": {
     "base_uri": "https://localhost:8080/"
    },
    "id": "dzLKpmZICaWN",
    "outputId": "29944ab6-4ebf-402d-ec03-7911296230ee"
   },
   "outputs": [],
   "source": [
    "import tensorflow as tf\n",
    "import numpy as np\n",
    "import matplotlib.pyplot as plt\n",
    "import seaborn as sns\n",
    "from sklearn.metrics import confusion_matrix\n",
    "# Instalando o KerasTuner.\n",
    "!pip install keras-tuner --upgrade\n",
    "\n",
    "# Importanda a biblioteca KerasTuner.\n",
    "import keras_tuner as kt"
   ]
  },
  {
   "cell_type": "markdown",
   "metadata": {
    "id": "yR0EdgrLCaWR"
   },
   "source": [
    "## Importando a base de dados Fashion MNIST"
   ]
  },
  {
   "cell_type": "markdown",
   "metadata": {
    "id": "DLdCchMdCaWQ"
   },
   "source": [
    "Este exercício usa a base de dados [Fashion MNIST](https://github.com/zalandoresearch/fashion-mnist) que contém 70.000 imagens em tons de cinza divididas em 10 categorias (ou classes).\n",
    "\n",
    "As imagens são arrays NumPy de dimensão $28 \\times 28$ pixels. Os pixels têm valores inteiros entre 0 to 255. Os rótulos (i.e., *labels*) estão em uma array de inteiros e estão no intervalo de 0 a 9.\n",
    "\n",
    "O número do rótulo corresponde à classe de roupa que cada imagem representa:\n",
    "\n",
    "<table>\n",
    "  <tr>\n",
    "    <th>Label</th>\n",
    "    <th>Classe</th>\n",
    "  </tr>\n",
    "  <tr>\n",
    "    <td>0</td>\n",
    "    <td>Camisetas/Top (T-shirt/top)</td>\n",
    "  </tr>\n",
    "  <tr>\n",
    "    <td>1</td>\n",
    "    <td>Calça (Trouser)</td>\n",
    "  </tr>\n",
    "    <tr>\n",
    "    <td>2</td>\n",
    "    <td>Suéter (Pullover)</td>\n",
    "  </tr>\n",
    "    <tr>\n",
    "    <td>3</td>\n",
    "    <td>Vestidos (Dress)</td>\n",
    "  </tr>\n",
    "    <tr>\n",
    "    <td>4</td>\n",
    "    <td>Casaco (Coat)</td>\n",
    "  </tr>\n",
    "    <tr>\n",
    "    <td>5</td>\n",
    "    <td>Sandálias (Sandal)</td>\n",
    "  </tr>\n",
    "    <tr>\n",
    "    <td>6</td>\n",
    "    <td>Camisas (Shirt)</td>\n",
    "  </tr>\n",
    "    <tr>\n",
    "    <td>7</td>\n",
    "    <td>Tênis (Sneaker)</td>\n",
    "  </tr>\n",
    "    <tr>\n",
    "    <td>8</td>\n",
    "    <td>Bolsa (Bag)</td>\n",
    "  </tr>\n",
    "    <tr>\n",
    "    <td>9</td>\n",
    "    <td>Botas (Ankle boot)</td>\n",
    "  </tr>\n",
    "</table>\n",
    "\n",
    "Cada imagem contém um único objeto (i.e., uma peça de roupa) e, portanto, é mapeada em um só *rótulo*.\n",
    "\n",
    "As imagens mostram **peças de roupa** com baixa resolução (28 por 28 pixels), como vemos abaixo.\n",
    "\n",
    "<table>\n",
    "  <tr><td>\n",
    "    <img src=\"https://tensorflow.org/images/fashion-mnist-sprite.png\"\n",
    "         alt=\"Fashion MNIST sprite\"  width=\"600\">\n",
    "  </td></tr>\n",
    "  <tr><td align=\"center\">\n",
    "    <b>Figure 1.</b> <a href=\"https://github.com/zalandoresearch/fashion-mnist\">Amostras de Fashion-MNIST</a> (por Zalando, MIT License).<br/>&nbsp;\n",
    "  </td></tr>\n",
    "</table>\n",
    "\n",
    "Usaremos 60.000 imagens para treinar nossa rede neural e 10.000 imagens para avaliar quão precisamente nossa rede aprendeu a classificar as imagens.\n",
    "\n",
    "Nós podemos acessar a base de dados *Fashion MNIST* diretamente do TensorFlow através da função `fashion_mnist.load_data()` do módulo `datasets`.\n",
    "\n",
    "Importe e carregue a base Fashion MNIST com o código abaixo."
   ]
  },
  {
   "cell_type": "code",
   "execution_count": null,
   "metadata": {
    "colab": {
     "base_uri": "https://localhost:8080/"
    },
    "id": "7MqDQO0KCaWS",
    "outputId": "0f092485-a612-4034-8481-d1f56874cb6c"
   },
   "outputs": [],
   "source": [
    "(X_train, y_train), (X_test, y_test) = tf.keras.datasets.fashion_mnist.load_data()"
   ]
  },
  {
   "cell_type": "markdown",
   "metadata": {},
   "source": [
    "### Crie seu código abaixo."
   ]
  },
  {
   "cell_type": "code",
   "execution_count": null,
   "metadata": {},
   "outputs": [],
   "source": []
  }
 ],
 "metadata": {
  "accelerator": "GPU",
  "colab": {
   "provenance": []
  },
  "gpuClass": "standard",
  "kernelspec": {
   "display_name": "Python 3 (ipykernel)",
   "language": "python",
   "name": "python3"
  },
  "language_info": {
   "codemirror_mode": {
    "name": "ipython",
    "version": 3
   },
   "file_extension": ".py",
   "mimetype": "text/x-python",
   "name": "python",
   "nbconvert_exporter": "python",
   "pygments_lexer": "ipython3",
   "version": "3.10.9"
  }
 },
 "nbformat": 4,
 "nbformat_minor": 1
}
