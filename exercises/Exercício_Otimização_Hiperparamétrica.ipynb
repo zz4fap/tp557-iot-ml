{
  "cells": [
    {
      "cell_type": "markdown",
      "metadata": {
        "id": "Zo2JiEtkzvQL"
      },
      "source": [
        "# Exercício sobre otimização hiperparamétrica para regressão de preços de residências usando redes neurais densas (DNNs)\n",
        "\n",
        "Neste exercício, você irá encontrar o melhor conjunto de hiperparâmetros de um modelo para regressão.\n",
        "\n",
        "Leia atentamente o conteúdo de todas as células e sigas as intruções abaixo.\n",
        "\n",
        "Ao final, responda:\n",
        "\n",
        "+ Qual o melhor conjunto de hiperparâmetros encontrado?\n",
        "+ Esse resultado é melhor do que aquele que encontramos em sala de aula?"
      ]
    },
    {
      "cell_type": "markdown",
      "metadata": {
        "id": "z56YN3JZ0Duh"
      },
      "source": [
        "## Importe as bibliotecas\n",
        "\n",
        "Execute a célula abaixo."
      ]
    },
    {
      "cell_type": "code",
      "execution_count": null,
      "metadata": {
        "id": "YfPnR74Gzc_q",
        "colab": {
          "base_uri": "https://localhost:8080/"
        },
        "outputId": "60cbde2c-9004-42f3-d82a-d9cf58059599"
      },
      "outputs": [
        {
          "output_type": "stream",
          "name": "stdout",
          "text": [
            "Collecting keras-tuner\n",
            "  Downloading keras_tuner-1.3.5-py3-none-any.whl (176 kB)\n",
            "\u001b[2K     \u001b[90m━━━━━━━━━━━━━━━━━━━━━━━━━━━━━━━━━━━━━━━\u001b[0m \u001b[32m176.1/176.1 kB\u001b[0m \u001b[31m1.7 MB/s\u001b[0m eta \u001b[36m0:00:00\u001b[0m\n",
            "\u001b[?25hRequirement already satisfied: packaging in /usr/local/lib/python3.10/dist-packages (from keras-tuner) (23.1)\n",
            "Requirement already satisfied: requests in /usr/local/lib/python3.10/dist-packages (from keras-tuner) (2.31.0)\n",
            "Collecting kt-legacy (from keras-tuner)\n",
            "  Downloading kt_legacy-1.0.5-py3-none-any.whl (9.6 kB)\n",
            "Requirement already satisfied: charset-normalizer<4,>=2 in /usr/local/lib/python3.10/dist-packages (from requests->keras-tuner) (3.2.0)\n",
            "Requirement already satisfied: idna<4,>=2.5 in /usr/local/lib/python3.10/dist-packages (from requests->keras-tuner) (3.4)\n",
            "Requirement already satisfied: urllib3<3,>=1.21.1 in /usr/local/lib/python3.10/dist-packages (from requests->keras-tuner) (2.0.4)\n",
            "Requirement already satisfied: certifi>=2017.4.17 in /usr/local/lib/python3.10/dist-packages (from requests->keras-tuner) (2023.7.22)\n",
            "Installing collected packages: kt-legacy, keras-tuner\n",
            "Successfully installed keras-tuner-1.3.5 kt-legacy-1.0.5\n"
          ]
        }
      ],
      "source": [
        "import numpy as np\n",
        "import matplotlib.pyplot as plt\n",
        "import tensorflow as tf\n",
        "# Importamos a classe StandardScaler.\n",
        "from sklearn.preprocessing import StandardScaler\n",
        "\n",
        "# Instalando o KerasTuner.\n",
        "!pip install keras-tuner --upgrade\n",
        "\n",
        "# Importanda a biblioteca KerasTuner.\n",
        "import keras_tuner as kt"
      ]
    },
    {
      "cell_type": "markdown",
      "metadata": {
        "id": "xrGLDV6q0PCc"
      },
      "source": [
        "## Baixe a base de dados\n",
        "\n",
        "Execute a célula abaixo."
      ]
    },
    {
      "cell_type": "code",
      "execution_count": null,
      "metadata": {
        "id": "Ib2Ihepx0N6h",
        "colab": {
          "base_uri": "https://localhost:8080/"
        },
        "outputId": "2459d512-b61f-4952-ac0e-152e487c562b"
      },
      "outputs": [
        {
          "output_type": "stream",
          "name": "stdout",
          "text": [
            "Downloading data from https://storage.googleapis.com/tensorflow/tf-keras-datasets/boston_housing.npz\n",
            "57026/57026 [==============================] - 0s 0us/step\n"
          ]
        }
      ],
      "source": [
        "data = tf.keras.datasets.boston_housing\n",
        "\n",
        "(x_train, y_train), (x_test, y_test) = data.load_data()"
      ]
    },
    {
      "cell_type": "markdown",
      "metadata": {
        "id": "0-H0LwB_7von"
      },
      "source": [
        "### Pradronize os dados\n",
        "\n",
        "Execute a célula abaixo."
      ]
    },
    {
      "cell_type": "code",
      "execution_count": null,
      "metadata": {
        "id": "uZrGVMsH0X3F"
      },
      "outputs": [],
      "source": [
        "# Instanciamos um objeto da classe StandardScaler.\n",
        "scaler = StandardScaler()\n",
        "\n",
        "# Calcula-se os parâmetros de padronização usando o conjunto de treinamento.\n",
        "scaler.fit(x_train)\n",
        "\n",
        "# Usamos o método `transform` para padronizar os atributos de treinamento e teste.\n",
        "x_train_std = scaler.transform(x_train)\n",
        "x_test_std = scaler.transform(x_test)"
      ]
    },
    {
      "cell_type": "markdown",
      "metadata": {
        "id": "RUNbBC_FgcWZ"
      },
      "source": [
        "## Encontre os melhores hiperparâmetros"
      ]
    },
    {
      "cell_type": "markdown",
      "source": [
        "### Defina a função de criação do modelo\n",
        "\n",
        "\n",
        "Modifique a função abaixo de forma que a busca aleatória teste combinações aleatórias dos seguintes hiperparâmetros e valores:\n",
        "\n",
        "1.   Número de camadas ocultas (`layers`): 1, 2 e 3.\n",
        "2.   Número de neurônios nas camadas ocultas (`units`): 5, 10, 15, 20 e 25.\n",
        "3.   Passo de aprendizagem do otmizador (`learning_rate`): 0.0003, 0.001 e 0.003.\n",
        "4.   Otimizador (`optimizer`): 'sgd' e 'adam'.\n",
        "5.   Função de ativação das camadas ocultas (`activation`): 'relu' e 'sigmoid'.\n",
        "\n",
        "**Observação**\n",
        "\n",
        "+ A busca deve demorar vários minutos, tenha paciência.\n"
      ],
      "metadata": {
        "id": "xFpK--7yynT1"
      }
    },
    {
      "cell_type": "code",
      "execution_count": null,
      "metadata": {
        "id": "qbvjlmNdhBn6"
      },
      "outputs": [],
      "source": [
        "def build_model(hp):\n",
        "\n",
        "  # Cria o modelo sequêncial.\n",
        "  model = tf.keras.Sequential()\n",
        "\n",
        "  # Adicionando a camada de entrada. Ela não possui pesos, apenas especifica as dimensões da entrada.\n",
        "  model.add(tf.keras.layers.Input(13))\n",
        "\n",
        "\n",
        "  # ADICIONE O SEU CÓDIGO AQUI.\n",
        "\n",
        "\n",
        "\n",
        "  # Compila o modelo.\n",
        "  model.compile(optimizer=optimizer, loss='mse', metrics=['mae'])\n",
        "\n",
        "  # Retorna o modelo.\n",
        "  return model"
      ]
    },
    {
      "cell_type": "markdown",
      "metadata": {
        "id": "lsNpzZpeh2Hi"
      },
      "source": [
        "### Instancie o objeto de busca aleatória\n",
        "\n",
        "Execute as células abaixo."
      ]
    },
    {
      "cell_type": "code",
      "execution_count": null,
      "metadata": {
        "id": "zufG9sUjh1xV"
      },
      "outputs": [],
      "source": [
        "# Instanciando um objeto da classe RandomSearch.\n",
        "tuner = kt.RandomSearch(\n",
        "    build_model,\n",
        "    objective='val_loss'\n",
        ")"
      ]
    },
    {
      "cell_type": "markdown",
      "metadata": {
        "id": "wN6Ci84OiFaZ"
      },
      "source": [
        "#### Faça a busca pelo melhor modelo.\n",
        "\n",
        "Execute as células abaixo."
      ]
    },
    {
      "cell_type": "code",
      "execution_count": null,
      "metadata": {
        "id": "WnkdoSzLiJUY",
        "colab": {
          "base_uri": "https://localhost:8080/"
        },
        "outputId": "197c9015-03fa-42f5-aabe-3f861d5a6ea2"
      },
      "outputs": [
        {
          "output_type": "stream",
          "name": "stdout",
          "text": [
            "Trial 10 Complete [00h 00m 59s]\n",
            "val_loss: 15.436296463012695\n",
            "\n",
            "Best val_loss So Far: 12.995327949523926\n",
            "Total elapsed time: 00h 11m 46s\n"
          ]
        }
      ],
      "source": [
        "tuner.search(\n",
        "    x_train_std, y_train,\n",
        "    epochs=500,\n",
        "    validation_data=(x_test_std, y_test)\n",
        ")"
      ]
    },
    {
      "cell_type": "markdown",
      "source": [
        "Obtendo os melhores hiperparâmetros."
      ],
      "metadata": {
        "id": "BAW8ju2Jlk8I"
      }
    },
    {
      "cell_type": "code",
      "source": [
        "best_hps  = tuner.get_best_hyperparameters(1)[0]\n",
        "\n",
        "print('A pesquisa de hiperparâmetros foi concluída.')\n",
        "print(f\"\"\"O número ideal de camadas ocultas é {best_hps.get('layers')}.\"\"\")\n",
        "for i in range(best_hps.get('layers')):\n",
        "  print(f\"\"\"O número ideal de neurônios na camada oculta # {i+1} é {best_hps.get('units_'+str(i))}.\"\"\")\n",
        "print(f\"\"\"O valor ideal do passo de aprendizagem é o {best_hps.get('learning_rate')}.\"\"\")\n",
        "print(f\"\"\"O otimizador ideal é {best_hps.get('optimizer')}.\"\"\")\n",
        "print(f\"\"\"A função de ativação ideal é a {best_hps.get('activation')}.\"\"\")"
      ],
      "metadata": {
        "colab": {
          "base_uri": "https://localhost:8080/"
        },
        "id": "xRAptdj9kaa9",
        "outputId": "9176b83b-21af-4245-d148-6d7871abaa6e"
      },
      "execution_count": null,
      "outputs": [
        {
          "output_type": "stream",
          "name": "stdout",
          "text": [
            "A pesquisa de hiperparâmetros foi concluída.\n",
            "O número ideal de camadas ocultas é 3.\n",
            "O número ideal de neurônios na camada oculta # 1 é 20.\n",
            "O número ideal de neurônios na camada oculta # 2 é 10.\n",
            "O número ideal de neurônios na camada oculta # 3 é 15.\n",
            "O valor ideal do passo de aprendizagem é o 0.003.\n",
            "O otimizador ideal é adam.\n",
            "A função de ativação ideal é a relu.\n"
          ]
        }
      ]
    },
    {
      "cell_type": "markdown",
      "source": [
        "Imprimindo o resumo dos resultados da busca."
      ],
      "metadata": {
        "id": "hl9aW5--ji1l"
      }
    },
    {
      "cell_type": "code",
      "execution_count": null,
      "metadata": {
        "id": "zcF6Ogb_mtYW",
        "outputId": "d16f2d61-eaf8-470d-db73-60d342be7f85",
        "colab": {
          "base_uri": "https://localhost:8080/"
        }
      },
      "outputs": [
        {
          "output_type": "stream",
          "name": "stdout",
          "text": [
            "Results summary\n",
            "Results in ./untitled_project\n",
            "Showing 10 best trials\n",
            "Objective(name=\"val_loss\", direction=\"min\")\n",
            "\n",
            "Trial 07 summary\n",
            "Hyperparameters:\n",
            "layers: 3\n",
            "activation: relu\n",
            "units_0: 20\n",
            "optimizer: adam\n",
            "learning_rate: 0.003\n",
            "units_1: 10\n",
            "units_2: 15\n",
            "Score: 12.995327949523926\n",
            "\n",
            "Trial 04 summary\n",
            "Hyperparameters:\n",
            "layers: 3\n",
            "activation: relu\n",
            "units_0: 10\n",
            "optimizer: sgd\n",
            "learning_rate: 0.003\n",
            "units_1: 15\n",
            "units_2: 20\n",
            "Score: 13.027603149414062\n",
            "\n",
            "Trial 09 summary\n",
            "Hyperparameters:\n",
            "layers: 3\n",
            "activation: sigmoid\n",
            "units_0: 15\n",
            "optimizer: adam\n",
            "learning_rate: 0.003\n",
            "units_1: 5\n",
            "units_2: 5\n",
            "Score: 15.436296463012695\n",
            "\n",
            "Trial 05 summary\n",
            "Hyperparameters:\n",
            "layers: 3\n",
            "activation: relu\n",
            "units_0: 10\n",
            "optimizer: adam\n",
            "learning_rate: 0.001\n",
            "units_1: 15\n",
            "units_2: 15\n",
            "Score: 15.630149841308594\n",
            "\n",
            "Trial 06 summary\n",
            "Hyperparameters:\n",
            "layers: 1\n",
            "activation: sigmoid\n",
            "units_0: 25\n",
            "optimizer: sgd\n",
            "learning_rate: 0.003\n",
            "units_1: 25\n",
            "units_2: 15\n",
            "Score: 17.479297637939453\n",
            "\n",
            "Trial 03 summary\n",
            "Hyperparameters:\n",
            "layers: 1\n",
            "activation: sigmoid\n",
            "units_0: 25\n",
            "optimizer: sgd\n",
            "learning_rate: 0.003\n",
            "units_1: 10\n",
            "units_2: 5\n",
            "Score: 18.134706497192383\n",
            "\n",
            "Trial 01 summary\n",
            "Hyperparameters:\n",
            "layers: 1\n",
            "activation: relu\n",
            "units_0: 20\n",
            "optimizer: adam\n",
            "learning_rate: 0.0003\n",
            "Score: 20.84093475341797\n",
            "\n",
            "Trial 00 summary\n",
            "Hyperparameters:\n",
            "layers: 1\n",
            "activation: sigmoid\n",
            "units_0: 5\n",
            "optimizer: sgd\n",
            "learning_rate: 0.0003\n",
            "Score: 25.429548263549805\n",
            "\n",
            "Trial 08 summary\n",
            "Hyperparameters:\n",
            "layers: 1\n",
            "activation: relu\n",
            "units_0: 20\n",
            "optimizer: adam\n",
            "learning_rate: 0.0003\n",
            "units_1: 15\n",
            "units_2: 5\n",
            "Score: 26.48325538635254\n",
            "\n",
            "Trial 02 summary\n",
            "Hyperparameters:\n",
            "layers: 3\n",
            "activation: sigmoid\n",
            "units_0: 20\n",
            "optimizer: adam\n",
            "learning_rate: 0.0003\n",
            "units_1: 5\n",
            "units_2: 5\n",
            "Score: 271.1514892578125\n"
          ]
        }
      ],
      "source": [
        "tuner.results_summary()"
      ]
    },
    {
      "cell_type": "markdown",
      "source": [
        "## Obtenha e construa o melhor modelo\n",
        "\n",
        "Execute a célula abaixo."
      ],
      "metadata": {
        "id": "e25O2H-X9rIR"
      }
    },
    {
      "cell_type": "code",
      "source": [
        "best_model = tuner.get_best_models(1)[0]\n",
        "\n",
        "best_model.build(input_shape=(13,))\n",
        "\n",
        "best_model.summary()"
      ],
      "metadata": {
        "colab": {
          "base_uri": "https://localhost:8080/"
        },
        "id": "So-OnPO89qgA",
        "outputId": "c89bdf10-a137-4db7-c72e-90ef3f50f653"
      },
      "execution_count": null,
      "outputs": [
        {
          "output_type": "stream",
          "name": "stdout",
          "text": [
            "Model: \"sequential\"\n",
            "_________________________________________________________________\n",
            " Layer (type)                Output Shape              Param #   \n",
            "=================================================================\n",
            " dense (Dense)               (None, 20)                280       \n",
            "                                                                 \n",
            " dense_1 (Dense)             (None, 10)                210       \n",
            "                                                                 \n",
            " dense_2 (Dense)             (None, 15)                165       \n",
            "                                                                 \n",
            " dense_3 (Dense)             (None, 1)                 16        \n",
            "                                                                 \n",
            "=================================================================\n",
            "Total params: 671\n",
            "Trainable params: 671\n",
            "Non-trainable params: 0\n",
            "_________________________________________________________________\n"
          ]
        }
      ]
    },
    {
      "cell_type": "markdown",
      "source": [
        "## Avalie o melhor modelo nos conjuntos de treinamento e teste.\n",
        "\n",
        "Execute as células abaixo."
      ],
      "metadata": {
        "id": "JusxjdkP3A7C"
      }
    },
    {
      "cell_type": "code",
      "source": [
        "train_eval = best_model.evaluate(x_train_std, y_train)\n",
        "\n",
        "print (\"MSE no conjunto de treinamento: {:.5}\".format(train_eval[0]))\n",
        "print (\"MAE no conjunto de treinamento: {:.5}\".format(train_eval[1]))"
      ],
      "metadata": {
        "id": "vi3sMlGZ26Mj",
        "colab": {
          "base_uri": "https://localhost:8080/"
        },
        "outputId": "01192630-6eca-482a-ea83-0c935431ab47"
      },
      "execution_count": null,
      "outputs": [
        {
          "output_type": "stream",
          "name": "stdout",
          "text": [
            "13/13 [==============================] - 0s 2ms/step - loss: 2.6891 - mae: 1.2368\n",
            "[2.689089298248291, 1.2368288040161133]\n",
            "MSE no conjunto de treinamento: 2.6891\n",
            "MAE no conjunto de treinamento: 1.2368\n"
          ]
        }
      ]
    },
    {
      "cell_type": "code",
      "source": [
        "test_eval = best_model.evaluate(x_test_std, y_test)\n",
        "\n",
        "print (\"MSE no conjunto de teste: {:.5}\".format(test_eval[0]))\n",
        "print (\"MAE no conjunto de teste: {:.5}\".format(test_eval[1]))"
      ],
      "metadata": {
        "id": "9DIrm-LY2-pU",
        "colab": {
          "base_uri": "https://localhost:8080/"
        },
        "outputId": "ed10d6d7-7bcc-4e7b-c3a5-ac38d4e19617"
      },
      "execution_count": null,
      "outputs": [
        {
          "output_type": "stream",
          "name": "stdout",
          "text": [
            "4/4 [==============================] - 0s 4ms/step - loss: 12.9953 - mae: 2.3362\n",
            "MSE no conjunto de teste: 12.995\n",
            "MAE no conjunto de teste: 2.3362\n"
          ]
        }
      ]
    }
  ],
  "metadata": {
    "colab": {
      "provenance": []
    },
    "kernelspec": {
      "display_name": "Python 3",
      "name": "python3"
    },
    "language_info": {
      "name": "python"
    }
  },
  "nbformat": 4,
  "nbformat_minor": 0
}