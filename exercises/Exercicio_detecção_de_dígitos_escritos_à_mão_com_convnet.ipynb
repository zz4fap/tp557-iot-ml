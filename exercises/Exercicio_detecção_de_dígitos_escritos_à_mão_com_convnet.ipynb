{
 "cells": [
  {
   "cell_type": "markdown",
   "metadata": {
    "id": "Zo2JiEtkzvQL"
   },
   "source": [
    "# Exercício sobre detecção de dígitos escritos à mão com rede convolucional\n",
    "\n",
    "Use otimização hiperparamétrica para encontrar uma arquitetura de rede convolucional que apresente um bom desempenho."
   ]
  },
  {
   "cell_type": "markdown",
   "metadata": {
    "id": "ZLLenukpg6VN"
   },
   "source": [
    "**Observação**: Verifiquem se o uso de GPU está habilitado."
   ]
  },
  {
   "cell_type": "markdown",
   "metadata": {
    "id": "z56YN3JZ0Duh"
   },
   "source": [
    "## Importando as bibliotecas"
   ]
  },
  {
   "cell_type": "code",
   "execution_count": null,
   "metadata": {
    "id": "YfPnR74Gzc_q"
   },
   "outputs": [],
   "source": [
    "import numpy as np\n",
    "import matplotlib.pyplot as plt\n",
    "import tensorflow as tf\n",
    "\n",
    "!pip install keras-tuner --upgrade\n",
    "\n",
    "import keras_tuner as kt"
   ]
  },
  {
   "cell_type": "markdown",
   "metadata": {
    "id": "xrGLDV6q0PCc"
   },
   "source": [
    "## Baixando o conjunto de dados MNIST\n",
    "\n",
    "\n",
    "O conjunto de dados MNIST de dígitos manuscritos, pode ser baixado com o [TF](https://www.tensorflow.org/api_docs/python/tf/keras/datasets/mnist/load_data).\n",
    "\n",
    "O conjunto contém imagens 28x28 pixels em tons de cinza dos 10 dígitos (0-9).\n",
    "Ele possui um conjunto de treinamento com 60.000 imagens e um conjunto de teste com 10.000."
   ]
  },
  {
   "cell_type": "code",
   "execution_count": null,
   "metadata": {
    "colab": {
     "base_uri": "https://localhost:8080/"
    },
    "id": "Ib2Ihepx0N6h",
    "outputId": "46df5f21-dcfe-4c5c-8cc2-c81f7d6947d7"
   },
   "outputs": [],
   "source": [
    "(ltrain_images, ltrain_labels), (test_images, test_labels) = tf.keras.datasets.mnist.load_data()"
   ]
  },
  {
   "cell_type": "markdown",
   "metadata": {
    "id": "nxTp8fjIKxAk"
   },
   "source": [
    "## Dividindo em o conjunto original de treinamento em um conjunto de treinamento menor e um conjunto de validação"
   ]
  },
  {
   "cell_type": "markdown",
   "metadata": {
    "id": "c-5RfO0PLghj"
   },
   "source": [
    "### Separamos as primeiras 10.000 imagens para o conjunto de validação."
   ]
  },
  {
   "cell_type": "code",
   "execution_count": null,
   "metadata": {
    "id": "u_e88OtBak7n"
   },
   "outputs": [],
   "source": [
    "val_images = ltrain_images[:10000]\n",
    "val_labels = ltrain_labels[:10000]"
   ]
  },
  {
   "cell_type": "code",
   "execution_count": null,
   "metadata": {
    "colab": {
     "base_uri": "https://localhost:8080/"
    },
    "id": "hcuDlGmVLz2k",
    "outputId": "043abd02-19eb-4318-e040-4020f34bc396"
   },
   "outputs": [],
   "source": [
    "print(val_images.shape)\n",
    "print(val_labels.shape)"
   ]
  },
  {
   "cell_type": "markdown",
   "metadata": {
    "id": "lyE6KB2oLqpB"
   },
   "source": [
    "### As 50.000 restantes vão para o novo conjunto de treinamento (menor)"
   ]
  },
  {
   "cell_type": "code",
   "execution_count": null,
   "metadata": {
    "id": "MtTSlX3TaDqj"
   },
   "outputs": [],
   "source": [
    "train_images = ltrain_images[10000:]\n",
    "train_labels = ltrain_labels[10000:]"
   ]
  },
  {
   "cell_type": "code",
   "execution_count": null,
   "metadata": {
    "colab": {
     "base_uri": "https://localhost:8080/"
    },
    "id": "pq1bMIRd38b8",
    "outputId": "68a696df-3d86-49b1-862d-84c438ffe169"
   },
   "outputs": [],
   "source": [
    "print(train_images.shape)\n",
    "print(train_labels.shape)"
   ]
  },
  {
   "cell_type": "markdown",
   "metadata": {
    "id": "0-H0LwB_7von"
   },
   "source": [
    "## Pré-processamento dos dados\n",
    "\n",
    "Aplique normalização aos dados (i.e., atributos) dos três conjuntos.\n",
    "\n",
    "Como os valores dos pixels variam entre 0 e 255, basta dividí-los por 255.0 e o intervalo final ficará entre 0.0 e 1.0."
   ]
  },
  {
   "cell_type": "code",
   "execution_count": null,
   "metadata": {
    "id": "uZrGVMsH0X3F"
   },
   "outputs": [],
   "source": [
    "# Digite o código aqui."
   ]
  },
  {
   "cell_type": "markdown",
   "metadata": {
    "id": "pYMsyOk8-xnf"
   },
   "source": [
    "## Defina a função que cria os diferentes modelos que serão treinados e testados"
   ]
  },
  {
   "cell_type": "code",
   "execution_count": null,
   "metadata": {},
   "outputs": [],
   "source": [
    "# Digite o código aqui."
   ]
  },
  {
   "cell_type": "markdown",
   "metadata": {},
   "source": [
    "## Use otimização Bayesiana para encontrar os melhores hiperparâmetros"
   ]
  },
  {
   "cell_type": "code",
   "execution_count": null,
   "metadata": {},
   "outputs": [],
   "source": [
    "# Digite o código aqui."
   ]
  },
  {
   "cell_type": "markdown",
   "metadata": {},
   "source": [
    "## Apresente o resumo dos resultados"
   ]
  },
  {
   "cell_type": "code",
   "execution_count": null,
   "metadata": {},
   "outputs": [],
   "source": [
    "tuner.results_summary()"
   ]
  },
  {
   "cell_type": "markdown",
   "metadata": {
    "id": "JYHTdEJVH0tZ"
   },
   "source": [
    "## Teste o melhor modelo nos três conjuntos"
   ]
  },
  {
   "cell_type": "code",
   "execution_count": null,
   "metadata": {
    "colab": {
     "base_uri": "https://localhost:8080/"
    },
    "id": "QBuJGqbSH6xT",
    "outputId": "e40fe505-0377-4535-95be-e5c81ad2b784"
   },
   "outputs": [],
   "source": [
    "# Digite o código aqui."
   ]
  },
  {
   "cell_type": "code",
   "execution_count": null,
   "metadata": {
    "colab": {
     "base_uri": "https://localhost:8080/"
    },
    "id": "kvv19U6BbYeF",
    "outputId": "fdef9cd2-1306-4879-a28c-8f42e0c8cb36"
   },
   "outputs": [],
   "source": [
    "# Digite o código aqui."
   ]
  },
  {
   "cell_type": "code",
   "execution_count": null,
   "metadata": {
    "colab": {
     "base_uri": "https://localhost:8080/"
    },
    "id": "bKgtMK9IbaYC",
    "outputId": "bf3f79ad-a3ce-4663-b1e6-c486ba97ed80"
   },
   "outputs": [],
   "source": [
    "# Digite o código aqui."
   ]
  },
  {
   "cell_type": "markdown",
   "metadata": {},
   "source": [
    "## Os resultados nos três conjuntos são melhores do que aqueles que você obteve com uma rede neural densa de alimentação direta?"
   ]
  },
  {
   "cell_type": "markdown",
   "metadata": {},
   "source": [
    "#### Escreva sua resposta aqui."
   ]
  }
 ],
 "metadata": {
  "accelerator": "GPU",
  "colab": {
   "provenance": []
  },
  "kernelspec": {
   "display_name": "Python 3 (ipykernel)",
   "language": "python",
   "name": "python3"
  },
  "language_info": {
   "codemirror_mode": {
    "name": "ipython",
    "version": 3
   },
   "file_extension": ".py",
   "mimetype": "text/x-python",
   "name": "python",
   "nbconvert_exporter": "python",
   "pygments_lexer": "ipython3",
   "version": "3.10.9"
  }
 },
 "nbformat": 4,
 "nbformat_minor": 1
}
