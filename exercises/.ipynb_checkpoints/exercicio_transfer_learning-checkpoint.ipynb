{
 "cells": [
  {
   "cell_type": "markdown",
   "metadata": {
    "id": "hRTa3Ee15WsJ"
   },
   "source": [
    "# Exercício sobre transfer learning e ajuste fino de um modelo"
   ]
  },
  {
   "cell_type": "markdown",
   "metadata": {
    "id": "2X4KyhORdSeO"
   },
   "source": [
    "Nesse exercício, você irá criar um modelo que detecte se uma foto foi tirada em uma área urbana ou rural. Você poderia construir um novo modelo do zero para esse propósito específico, mas para obter bons resultados, você precisaria de milhares de fotos com rótulos de quais são urbanas e quais são rurais.\n",
    "\n",
    "Você usará *transfer learning* para treinar um modelo pré-treinado com muito menos dados.\n",
    "\n",
    "ImageNet é um grande conjunto de dados de imagens, composto por mais de 14 milhões de imagens de milhares de categorias. Keras disponibiliza vários modelos que foram pré-treinados neste conjunto de dados aqui. Um dos modelos é o ResNet.\n",
    "\n",
    "Você irá adaptar o modelo ResNet50 pré-treinado na base de dados *imagenet* para uma nova tarefa de prever se uma imagem é de uma área rural ou urbana.\n",
    "\n",
    "Para mais informações sobre o modelo, acesse o link para a documentação da classe: [ResNet50](https://keras.io/api/applications/resnet/#resnet50-function)\n",
    "\n",
    "**OBS**.: Use o exemplo [transfer_learning.ipynb](https://colab.research.google.com/github/zz4fap/tp557-iot-ml/blob/master/examples/transfer_learning.ipynb) como base para resolver este exercício."
   ]
  },
  {
   "cell_type": "markdown",
   "metadata": {
    "id": "JWPqV1UXxKwl"
   },
   "source": [
    "## Importando as bibliotecas\n",
    "\n",
    "Execute a célula de código abaixo."
   ]
  },
  {
   "cell_type": "code",
   "execution_count": 1,
   "metadata": {
    "id": "TqOt6Sv7AsMi"
   },
   "outputs": [],
   "source": [
    "import matplotlib.pyplot as plt\n",
    "import numpy as np\n",
    "import os\n",
    "import tensorflow as tf"
   ]
  },
  {
   "cell_type": "markdown",
   "metadata": {
    "id": "v77rlkCKW0IJ"
   },
   "source": [
    "## Pré-processamento dos dados"
   ]
  },
  {
   "cell_type": "markdown",
   "metadata": {
    "id": "vHP9qMJxt2oz"
   },
   "source": [
    "### Baixe a base de dados\n",
    "\n",
    "**OBS**.: Como o conjunto de dados é bastante reduzido, usaremos apenas os conjuntos de treinamento e validação. O conjunto de treinamento possui 72 imagens e o de validação apenas 20.\n",
    "\n",
    "Execute a célula de código abaixo."
   ]
  },
  {
   "cell_type": "code",
   "execution_count": null,
   "metadata": {
    "colab": {
     "base_uri": "https://localhost:8080/"
    },
    "id": "ro4oYaEmxe4r",
    "outputId": "fd2dc8d9-e0a5-46ce-d274-b85b15a6c00e"
   },
   "outputs": [
    {
     "name": "stdout",
     "output_type": "stream",
     "text": [
      "Downloading data from https://www.dropbox.com/scl/fi/xfrxie8y8xhie2t9ziz27/rural_urban_dataset.zip?rlkey=c1x7i6pk4q86imm4mcstqn5yk&dl=1\n",
      "6450132/6450132 [==============================] - 2s 0us/step\n"
     ]
    }
   ],
   "source": [
    "_URL = 'https://www.dropbox.com/scl/fi/xfrxie8y8xhie2t9ziz27/rural_urban_dataset.zip?rlkey=c1x7i6pk4q86imm4mcstqn5yk&dl=1'\n",
    "\n",
    "path_to_zip = tf.keras.utils.get_file('rural_urban_dataset.zip', origin=_URL, extract=True)\n",
    "\n",
    "PATH = os.path.join(os.path.dirname(path_to_zip), 'rural_and_urban_photos')\n",
    "print(PATH)\n",
    "\n",
    "train_dir = os.path.join(PATH, 'train')\n",
    "validation_dir = os.path.join(PATH, 'val')\n",
    "\n",
    "# Mini-batch size.\n",
    "BATCH_SIZE = 10\n",
    "\n",
    "# Image size.\n",
    "IMG_SIZE = (224, 224)\n",
    "\n",
    "train_dataset = tf.keras.utils.image_dataset_from_directory(train_dir,\n",
    "                                                            shuffle=True,\n",
    "                                                            batch_size=BATCH_SIZE,\n",
    "                                                            image_size=IMG_SIZE)"
   ]
  },
  {
   "cell_type": "markdown",
   "metadata": {},
   "source": [
    "Execute a célula de código abaixo."
   ]
  },
  {
   "cell_type": "code",
   "execution_count": null,
   "metadata": {
    "colab": {
     "base_uri": "https://localhost:8080/"
    },
    "id": "cAvtLwi7_J__",
    "outputId": "c841c314-957c-4c99-9556-6f7e81dcbd61"
   },
   "outputs": [],
   "source": [
    "validation_dataset = tf.keras.utils.image_dataset_from_directory(validation_dir,\n",
    "                                                                 shuffle=True,\n",
    "                                                                 batch_size=BATCH_SIZE,\n",
    "                                                                 image_size=IMG_SIZE)"
   ]
  },
  {
   "cell_type": "markdown",
   "metadata": {
    "id": "yO1Q2JaW5sIy"
   },
   "source": [
    "Exibindo as primeiras nove imagens e rótulos do conjunto de treinamento.\n",
    "\n",
    "Execute a célula de código abaixo."
   ]
  },
  {
   "cell_type": "code",
   "execution_count": null,
   "metadata": {
    "colab": {
     "base_uri": "https://localhost:8080/",
     "height": 829
    },
    "id": "K5BeQyKThC_Y",
    "outputId": "4bfa2dd7-43f1-4d79-e70d-2ac70907106d"
   },
   "outputs": [],
   "source": [
    "class_names = train_dataset.class_names\n",
    "\n",
    "plt.figure(figsize=(10, 10))\n",
    "for images, labels in train_dataset.take(1):\n",
    "  for i in range(9):\n",
    "    ax = plt.subplot(3, 3, i + 1)\n",
    "    plt.imshow(images[i].numpy().astype(\"uint8\"))\n",
    "    plt.title(class_names[labels[i]]+': '+str(int(labels[i])))\n",
    "    plt.axis(\"off\")"
   ]
  },
  {
   "cell_type": "markdown",
   "metadata": {
    "id": "MakSrdd--RKg"
   },
   "source": [
    "### Configurando o conjunto de dados para desempenho"
   ]
  },
  {
   "cell_type": "markdown",
   "metadata": {
    "id": "22XWC7yjkZu4"
   },
   "source": [
    "Use a pré-busca (i.e., *prefetch*) em buffer para carregar imagens do disco sem bloquear a E/S.\n",
    "\n",
    "Execute a célula de código abaixo."
   ]
  },
  {
   "cell_type": "code",
   "execution_count": null,
   "metadata": {
    "id": "p3UUPdm86LNC"
   },
   "outputs": [],
   "source": [
    "AUTOTUNE = tf.data.AUTOTUNE\n",
    "\n",
    "train_dataset = train_dataset.prefetch(buffer_size=AUTOTUNE)\n",
    "validation_dataset = validation_dataset.prefetch(buffer_size=AUTOTUNE)"
   ]
  },
  {
   "cell_type": "markdown",
   "metadata": {
    "id": "MYfcVwYLiR98"
   },
   "source": [
    "### Use data augmentation"
   ]
  },
  {
   "cell_type": "markdown",
   "metadata": {
    "id": "bDWc5Oad1daX"
   },
   "source": [
    "Aplique transformações aleatórias às imagens de treinamento."
   ]
  },
  {
   "cell_type": "code",
   "execution_count": null,
   "metadata": {
    "id": "3P99QiMGit1A"
   },
   "outputs": [],
   "source": [
    "# Digite o código aqui."
   ]
  },
  {
   "cell_type": "markdown",
   "metadata": {
    "id": "9mD3rE2Lm7-d"
   },
   "source": [
    "Aplique essas camadas de transformações repetidamente em uma mesma imagem e exiba o resultado."
   ]
  },
  {
   "cell_type": "code",
   "execution_count": null,
   "metadata": {
    "colab": {
     "base_uri": "https://localhost:8080/",
     "height": 807
    },
    "id": "aQullOUHkm67",
    "outputId": "89d68702-cc3f-4aa6-c73d-122de21eceb9"
   },
   "outputs": [],
   "source": [
    "# Digite o código aqui."
   ]
  },
  {
   "cell_type": "markdown",
   "metadata": {
    "id": "bAywKtuVn8uK"
   },
   "source": [
    "### Redimensione os valores de pixel\n",
    "\n",
    "Use a função `tf.keras.applications.resnet.preprocess_input` para converter as imagens de entrada de RGB para BGR e, em seguida, centralizar cada canal de cores em relação ao conjunto de dados ImageNet, sem dimensionamento.\n",
    "\n",
    "Para mais informações sobre o modelo, acesse o link para a documentação da classe: [ResNet50](https://keras.io/api/applications/resnet/#resnet50-function)"
   ]
  },
  {
   "cell_type": "code",
   "execution_count": null,
   "metadata": {
    "id": "cO0HM9JAQUFq"
   },
   "outputs": [],
   "source": [
    "# Digite o código aqui."
   ]
  },
  {
   "cell_type": "markdown",
   "metadata": {
    "id": "OkH-kazQecHB"
   },
   "source": [
    "## Crie o modelo base a partir das convnets pré-treinadas\n",
    "\n",
    "Instancie o modelo ResNet50 com `include_top=False` e `weights='imagenet'`. Lembre-se que o `input_shape` deve ter 3 dimensões."
   ]
  },
  {
   "cell_type": "code",
   "execution_count": null,
   "metadata": {
    "colab": {
     "base_uri": "https://localhost:8080/"
    },
    "id": "19IQ2gqneqmS",
    "outputId": "9dd1171c-9a55-4f3b-ae83-c2aff5592513"
   },
   "outputs": [],
   "source": [
    "# Digite o código aqui."
   ]
  },
  {
   "cell_type": "markdown",
   "metadata": {
    "id": "rlx56nQtfe8Y"
   },
   "source": [
    "## Extração de características\n",
    "\n",
    "Nesta etapa, você deve congelar a base convolucional do modelo criado na etapa anterior e usá-la como extrator de características. Além disso, você deve adicionar um classificador sobre ele e treiná-lo."
   ]
  },
  {
   "cell_type": "markdown",
   "metadata": {
    "id": "CnMLieHBCwil"
   },
   "source": [
    "### Congele a base convolucional\n"
   ]
  },
  {
   "cell_type": "code",
   "execution_count": null,
   "metadata": {
    "id": "OTCJH4bphOeo"
   },
   "outputs": [],
   "source": [
    "# Digite o código aqui."
   ]
  },
  {
   "cell_type": "markdown",
   "metadata": {
    "id": "jsNHwpm7BeVM"
   },
   "source": [
    "### Imprima o resumo do modelo e compare a quantidade de parâmetros treináveis e não treináveis."
   ]
  },
  {
   "cell_type": "code",
   "execution_count": null,
   "metadata": {
    "colab": {
     "base_uri": "https://localhost:8080/"
    },
    "id": "KpbzSmPkDa-N",
    "outputId": "b4fa273d-6355-4b39-9970-2c4c03406f0c"
   },
   "outputs": [],
   "source": [
    "# Digite o código aqui."
   ]
  },
  {
   "cell_type": "markdown",
   "metadata": {
    "id": "QBc31c4tMOdH"
   },
   "source": [
    "### Adicione uma camada de classificação\n",
    "\n",
    "Gere predições a partir do bloco de características tomando a média das localizações espaciais usando uma camada `tf.keras.layers.GlobalAveragePooling2D` para converter as características em um vetor."
   ]
  },
  {
   "cell_type": "code",
   "execution_count": null,
   "metadata": {
    "id": "dLnpMF5KOALm"
   },
   "outputs": [],
   "source": [
    "# Digite o código aqui."
   ]
  },
  {
   "cell_type": "markdown",
   "metadata": {
    "id": "O1p0OJBR6dOT"
   },
   "source": [
    "Na sequência, crie uma camada `tf.keras.layers.Dense` para converter essas características em uma única predição por imagem. Não precisamos de uma função de ativação aqui porque esta predição será tratada como um `logit`, ou seja, um valor bruto de predição. Os números positivos predizem a classe 1, os números negativos predizem a classe 0."
   ]
  },
  {
   "cell_type": "code",
   "execution_count": null,
   "metadata": {
    "id": "Wv4afXKj6cVa"
   },
   "outputs": [],
   "source": [
    "# Digite o código aqui."
   ]
  },
  {
   "cell_type": "markdown",
   "metadata": {
    "id": "HXvz-ZkTa9b3"
   },
   "source": [
    "Crie o modelo encadeando as camadas de aumento de dados, pré-processamento, modelo base (ResNet50), `global_average_layer` e classificador. Adicione uma camada de `dropout` entre a camada `global_average_layer` e a camada de classificação.\n",
    "\n",
    "Não se esqueça de fazer `training=False` no modelo base (ResNet50), pois o modelo contém camadas de `BatchNormalization`."
   ]
  },
  {
   "cell_type": "code",
   "execution_count": null,
   "metadata": {
    "id": "DgzQX6Veb2WT"
   },
   "outputs": [],
   "source": [
    "# Digite o código aqui."
   ]
  },
  {
   "cell_type": "markdown",
   "metadata": {
    "id": "Yqk7IV-dZeuj"
   },
   "source": [
    "### Imprima o resumo do modelo e compare a quantidade de parâmetros treináveis e não treináveis."
   ]
  },
  {
   "cell_type": "code",
   "execution_count": null,
   "metadata": {
    "colab": {
     "base_uri": "https://localhost:8080/"
    },
    "id": "I8ARiyMFsgbH",
    "outputId": "a3a35bd5-c8f1-49b1-fde3-4cf6243fbbb3"
   },
   "outputs": [],
   "source": [
    "# Digite o código aqui."
   ]
  },
  {
   "cell_type": "markdown",
   "metadata": {
    "id": "g0ylJXE_kRLi"
   },
   "source": [
    "### Compile o modelo\n",
    "\n",
    "Compile o modelo antes de treiná-lo. Como existem duas classes, use a perda `tf.keras.losses.BinaryCrossentropy` com `from_logits=True`, pois o modelo fornece uma saída linear (i.e., última camada não tem função de ativação).\n",
    "\n",
    "**OBS**.: Use um passo de aprendizagem de `0.0001`"
   ]
  },
  {
   "cell_type": "code",
   "execution_count": null,
   "metadata": {
    "id": "RpR8HdyMhukJ"
   },
   "outputs": [],
   "source": [
    "# Digite o código aqui."
   ]
  },
  {
   "cell_type": "markdown",
   "metadata": {
    "id": "RxvgOYTDSWTx"
   },
   "source": [
    "### Treine o modelo\n",
    "\n",
    "Verifique a acurácia do modelo sem nenhum treinamento no conjunto de validação."
   ]
  },
  {
   "cell_type": "code",
   "execution_count": null,
   "metadata": {
    "colab": {
     "base_uri": "https://localhost:8080/"
    },
    "id": "Om4O3EESkab1",
    "outputId": "25d2d011-9877-499a-84e6-9c3f020ec106"
   },
   "outputs": [],
   "source": [
    "# Digite o código aqui."
   ]
  },
  {
   "cell_type": "markdown",
   "metadata": {
    "id": "3ZSJ7K9LGJ3D"
   },
   "source": [
    "Treine o modelo por 25 épocas. Você deve ver uma acurácia de aproximadamente 90% no conjunto de validação."
   ]
  },
  {
   "cell_type": "code",
   "execution_count": null,
   "metadata": {
    "colab": {
     "base_uri": "https://localhost:8080/"
    },
    "id": "JsaRFlZ9B6WK",
    "outputId": "2176b2c7-b85e-4654-b983-da58bdcb9df7"
   },
   "outputs": [],
   "source": [
    "# Digite o código aqui."
   ]
  },
  {
   "cell_type": "markdown",
   "metadata": {
    "id": "Hd94CKImf8vi"
   },
   "source": [
    "### Plote as curvas de aprendizado\n",
    "\n",
    "Analise as curvas de aprendizado da acurácia/perda de treinamento e validação ao usar o modelo base ResNet50 como um extrator de características."
   ]
  },
  {
   "cell_type": "code",
   "execution_count": null,
   "metadata": {
    "colab": {
     "base_uri": "https://localhost:8080/",
     "height": 718
    },
    "id": "53OTCh3jnbwV",
    "outputId": "50be65a6-b23e-4d13-a333-e03d7182c9a5"
   },
   "outputs": [],
   "source": [
    "# Digite o código aqui."
   ]
  },
  {
   "cell_type": "markdown",
   "metadata": {
    "id": "CqwV-CRdS6Nv"
   },
   "source": [
    "## Faça o ajuste fino do modelo\n"
   ]
  },
  {
   "cell_type": "markdown",
   "metadata": {
    "id": "rfxv_ifotQak"
   },
   "source": [
    "### Descongele as camadas superiores do modelo\n",
    "\n",
    "Tudo o que você precisa fazer é descongelar o modelo base e definir as camadas inferiores como não treináveis. Em seguida, você deve recompilar o modelo (necessário para que essas alterações tenham efeito) e retomar o treinamento.\n",
    "\n",
    "### Descongele o modelo base."
   ]
  },
  {
   "cell_type": "code",
   "execution_count": null,
   "metadata": {
    "id": "4nzcagVitLQm"
   },
   "outputs": [],
   "source": [
    "# Digite o código aqui."
   ]
  },
  {
   "cell_type": "markdown",
   "metadata": {
    "id": "Rg8gES_GazWf"
   },
   "source": [
    "### Congele apenas as 100 primeiras camadas do modelo base."
   ]
  },
  {
   "cell_type": "code",
   "execution_count": null,
   "metadata": {
    "colab": {
     "base_uri": "https://localhost:8080/"
    },
    "id": "-4HgVAacRs5v",
    "outputId": "c7b4e6db-b4ff-4efd-bf6d-a7e4de6a6640"
   },
   "outputs": [],
   "source": [
    "# Digite o código aqui."
   ]
  },
  {
   "cell_type": "markdown",
   "metadata": {
    "id": "4Uk1dgsxT0IS"
   },
   "source": [
    "### Compile o modelo\n",
    "\n",
    "Como você está treinando um modelo muito maior e deseja reajustar os pesos pré-treinados, é importante utilizar uma taxa de aprendizado menor nesta fase. Caso contrário, o modelo poderá se ajustar muito rapidamente.\n",
    "\n",
    "**OBS**.: Use um passo de aprendizagem 10 vezes menor do que o usado anteriormente."
   ]
  },
  {
   "cell_type": "code",
   "execution_count": null,
   "metadata": {
    "id": "NtUnaz0WUDva"
   },
   "outputs": [],
   "source": [
    "# Digite o código aqui."
   ]
  },
  {
   "cell_type": "markdown",
   "metadata": {
    "id": "OtBbwc4jbT4T"
   },
   "source": [
    "### Imprima o resumo do modelo e compare a quantidade de parâmetros treináveis e não treináveis."
   ]
  },
  {
   "cell_type": "code",
   "execution_count": null,
   "metadata": {
    "colab": {
     "base_uri": "https://localhost:8080/"
    },
    "id": "WwBWy7J2kZvA",
    "outputId": "272311ef-ba6c-4b5a-e1cf-5f0310e6eae3"
   },
   "outputs": [],
   "source": [
    "# Digite o código aqui."
   ]
  },
  {
   "cell_type": "markdown",
   "metadata": {
    "id": "0foWUN-yDLo_"
   },
   "source": [
    "### Continue o treinamento do modelo\n",
    "\n",
    "Esta etapa deve melhorar a acurácia do modelo em alguns pontos percentuais.\n",
    "\n",
    "**OBS**.: Faça o ajuste fine do modelo por 15 épocas."
   ]
  },
  {
   "cell_type": "code",
   "execution_count": null,
   "metadata": {
    "colab": {
     "base_uri": "https://localhost:8080/"
    },
    "id": "ECQLkAsFTlun",
    "outputId": "2b7a1a1a-3c69-4e05-aa47-5abdc27c0e2e"
   },
   "outputs": [],
   "source": [
    "# Digite o código aqui."
   ]
  },
  {
   "cell_type": "markdown",
   "metadata": {
    "id": "DNtfNZKlInGT"
   },
   "source": [
    "### Plote as curvas de aprendizado\n",
    "\n",
    "Analise as curvas de aprendizado da acurácia/perda de treinamento e validação ao usar o modelo base ResNet50 como um extrator de características.\n",
    "\n",
    "Após o ajuste fino, o modelo deve atingir mais de 98% de acurácia no conjunto de validação."
   ]
  },
  {
   "cell_type": "code",
   "execution_count": null,
   "metadata": {
    "colab": {
     "base_uri": "https://localhost:8080/",
     "height": 718
    },
    "id": "PpA8PlpQKygw",
    "outputId": "962fcdbd-fb92-4f19-f32a-3e749799fd2f"
   },
   "outputs": [],
   "source": [
    "# Digite o código aqui."
   ]
  },
  {
   "cell_type": "markdown",
   "metadata": {
    "id": "PSXH7PRMxOi5"
   },
   "source": [
    "### Avalie e faça predições com o modelo\n",
    "\n",
    "Verifique o desempenho do modelo nos dados do conjunto de validação usando o método `evaluate`."
   ]
  },
  {
   "cell_type": "code",
   "execution_count": null,
   "metadata": {
    "colab": {
     "base_uri": "https://localhost:8080/"
    },
    "id": "2KyNhagHwfar",
    "outputId": "161d7089-1e04-4e98-8a10-38b58d437ac0"
   },
   "outputs": [],
   "source": [
    "# Digite o código aqui."
   ]
  },
  {
   "cell_type": "markdown",
   "metadata": {
    "id": "8UjS5ukZfOcR"
   },
   "source": [
    "### Exiba algumas imagens do conjunto de validação juntamente com a classe que foi atribuída a ela."
   ]
  },
  {
   "cell_type": "code",
   "execution_count": null,
   "metadata": {
    "colab": {
     "base_uri": "https://localhost:8080/",
     "height": 898
    },
    "id": "RUNoQNgtfNgt",
    "outputId": "274f0ce5-d915-4412-fc99-ec4ad581421c"
   },
   "outputs": [],
   "source": [
    "# Digite o código aqui."
   ]
  },
  {
   "cell_type": "markdown",
   "metadata": {
    "id": "7q3-XDBbdUnT"
   },
   "source": [
    "### Após análisar os resultados gerados pelo novo modelo, o que você pode concluir?\n",
    "\n",
    "**Resposta**\n",
    "\n",
    "Escreva sua reposta aqui."
   ]
  }
 ],
 "metadata": {
  "accelerator": "GPU",
  "colab": {
   "gpuType": "T4",
   "provenance": []
  },
  "kernelspec": {
   "display_name": "Python 3 (ipykernel)",
   "language": "python",
   "name": "python3"
  },
  "language_info": {
   "codemirror_mode": {
    "name": "ipython",
    "version": 3
   },
   "file_extension": ".py",
   "mimetype": "text/x-python",
   "name": "python",
   "nbconvert_exporter": "python",
   "pygments_lexer": "ipython3",
   "version": "3.10.9"
  }
 },
 "nbformat": 4,
 "nbformat_minor": 1
}
