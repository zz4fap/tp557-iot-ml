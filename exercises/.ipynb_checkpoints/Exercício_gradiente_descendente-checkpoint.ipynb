{
 "cells": [
  {
   "cell_type": "markdown",
   "metadata": {
    "id": "SfhF5BUcomZP"
   },
   "source": [
    "# Gradiente descendente\n",
    "\n",
    "### Neste notebook, exploraremos a função de erro - em particular, a função do erro quadrático médio (MSE) para um problema de regressão. Também treinaremos um modelo básico de Machine Learning usando o Gradiente Descente para ajustar uma função hipótese aos nossos dados e, consequentemente, minimizar o erro\n",
    "\n",
    "#### Instruções\n",
    "\n",
    "1. Antes de começar, você deve clicar na opção \"Copiar para o Drive\" na barra superior do Colab. Depois de clicar nela, verifique se você está trabalhando nessa versão do notebook para que seu trabalho seja salvo.\n",
    "2. Quando você terminar o exercício, vá ao menu do Colab e selecione a opção para fazer download do notebook.\n",
    "    * Os notebooks têm extensão .ipynb.\n",
    "    * Este deve ser o arquivo que você irá entregar.\n",
    "    * Para baixá-lo, vá até a opção **File** -> **Download .ipynb**.\n",
    "3. Após o download do notebook, vá até a aba de tarefas do MS Teams, localize a tarefa referente a este exercício e faça o upload do seu notebook. Veja que há uma opção de anexar arquivos à tarefa.\n",
    "4. Não se esqueça de colocar seu **nome** na célula de texto abaixo."
   ]
  },
  {
   "cell_type": "markdown",
   "metadata": {
    "id": "IyzD_3KP1ms-"
   },
   "source": [
    "**Nome**: Coloque seu nome aqui."
   ]
  },
  {
   "cell_type": "markdown",
   "metadata": {
    "id": "-TiTRaOfOlIq"
   },
   "source": [
    "## 1. Explorando o erro"
   ]
  },
  {
   "cell_type": "markdown",
   "metadata": {
    "id": "SQxFbTjb1RRf"
   },
   "source": [
    "Nesta seção, definimos um problema de regressão linear da forma $\\hat{y} = a_0 + a_1 x$. Geramos o conjunto de dados que usaremos para encontrar a relação entre x e y, ou seja, chegar aos valores ótimos de $a_0$ e $a_1$."
   ]
  },
  {
   "cell_type": "markdown",
   "metadata": {
    "id": "Oo4qroNybu_H"
   },
   "source": [
    "\n",
    "\n",
    "---\n",
    "\n",
    "**Pergunta 1**: Diz-se que na regressão linear, tentamos encontrar a função que melhor se ajusta aos dados. Você consegue pensar o por quê disso?\n",
    "\n",
    "**Resposta:**\n",
    "\n",
    "---\n",
    "\n"
   ]
  },
  {
   "cell_type": "markdown",
   "metadata": {
    "id": "Rr3SfU1pOHji"
   },
   "source": [
    "Abaixo, importamos três bibliotecas:\n",
    "\n",
    "\n",
    "1.   [math](https://docs.python.org/3/library/math.html) - operações matemáticas básicas, e.g.: raíz quadrada, potência, etc.\n",
    "2.   [matplotlib](https://matplotlib.org/) - visualização de dados\n",
    "3.   [numpy](https://numpy.org/) - manipulação de arrays"
   ]
  },
  {
   "cell_type": "code",
   "execution_count": 1,
   "metadata": {
    "id": "ULRbhByH_g6G"
   },
   "outputs": [],
   "source": [
    "# importando as bibliotecas que serão usadas.\n",
    "import math\n",
    "import matplotlib.pyplot as plt\n",
    "import numpy as np"
   ]
  },
  {
   "cell_type": "markdown",
   "metadata": {
    "id": "mzT77SGLNmzq"
   },
   "source": [
    "A célula abaixo calcula os valores $\\hat{y}$ preditos para palpites de $a_0$ e $a_1$. Altere os valores dos dois pesos e explore como a saída da função hipótese e, consequentemente, o erro mudam para diferentes pesos."
   ]
  },
  {
   "cell_type": "markdown",
   "metadata": {
    "id": "3vI1oUZPL1QL"
   },
   "source": [
    "---\n",
    "\n",
    "**Pergunta 2**: Informe o erro para três valores diferentes de $a_0$ e $a_1$. (Execute as três células de código abaixo para cada par de valores de $a_0$ e $a_1$)\n",
    "\n",
    "**Resposta:**\n",
    "\n",
    "1.   $a_0$ = , $a_1$ = , MSE =\n",
    "2.   $a_0$ = , $a_1$ = , MSE =\n",
    "3.   $a_0$ = , $a_1$ = , MSE =\n",
    "\n",
    "---"
   ]
  },
  {
   "cell_type": "code",
   "execution_count": 2,
   "metadata": {
    "colab": {
     "base_uri": "https://localhost:8080/"
    },
    "id": "PwrR2q7tZKPi",
    "outputId": "4e9b5a1f-82c2-4005-cf88-f6c045c99596"
   },
   "outputs": [
    {
     "name": "stdout",
     "output_type": "stream",
     "text": [
      "y: [2.843  3.1381 2.9244 2.7861 2.928  2.7738 2.8377 2.7283 2.9339 2.8179\n",
      " 2.9297 2.9174 2.9368 2.6965 2.498  2.6416 2.4662 2.7446 2.8236 2.5448\n",
      " 2.5921 2.6842 2.268  2.5057 2.457  2.4846 2.6486 2.5413 2.3897 2.4596\n",
      " 2.295  2.2857 2.4995 2.4205 2.3266 2.2281 2.3636 2.2785 2.1923 2.2687\n",
      " 2.1807 2.115  2.2315 2.0983 2.0559 2.0267 2.0947 1.9915 2.0493 2.069\n",
      " 2.12   1.908  1.9794 1.9558 1.7788 1.9183 1.9108 1.8345 1.8798 1.8059\n",
      " 1.9824 1.7402 1.6944 1.658  1.6566 1.5599 1.5479 1.4707 1.6614 1.7665\n",
      " 1.5337 1.3794 1.4164 1.7335 1.5664 1.4243 1.5442 1.309  1.4028 1.3816\n",
      " 1.6266 1.431  1.4552 1.496  1.2963 1.2333 1.2134 1.2729 1.2125 1.2815\n",
      " 1.1458 0.9575 1.3239 1.1006 1.0718 1.0081 1.0699 0.9018 1.1268 0.9014]\n",
      "y_hat: [-3.   -2.96 -2.92 -2.88 -2.84 -2.8  -2.76 -2.72 -2.68 -2.64 -2.6  -2.56\n",
      " -2.52 -2.48 -2.44 -2.4  -2.36 -2.32 -2.28 -2.24 -2.2  -2.16 -2.12 -2.08\n",
      " -2.04 -2.   -1.96 -1.92 -1.88 -1.84 -1.8  -1.76 -1.72 -1.68 -1.64 -1.6\n",
      " -1.56 -1.52 -1.48 -1.44 -1.4  -1.36 -1.32 -1.28 -1.24 -1.2  -1.16 -1.12\n",
      " -1.08 -1.04 -1.   -0.96 -0.92 -0.88 -0.84 -0.8  -0.76 -0.72 -0.68 -0.64\n",
      " -0.6  -0.56 -0.52 -0.48 -0.44 -0.4  -0.36 -0.32 -0.28 -0.24 -0.2  -0.16\n",
      " -0.12 -0.08 -0.04  0.    0.04  0.08  0.12  0.16  0.2   0.24  0.28  0.32\n",
      "  0.36  0.4   0.44  0.48  0.52  0.56  0.6   0.64  0.68  0.72  0.76  0.8\n",
      "  0.84  0.88  0.92  0.96]\n"
     ]
    }
   ],
   "source": [
    "# Edite os valores pesos a0 e a1 para obter valores de erro diferentes.\n",
    "# Execute esta célula novamente quando terminar de definir os novos pesos.\n",
    "# Seu y será calculado como y = a0 + a1*x, então se a0 = -1 e a1 = 2, então y = -1 + 2x\n",
    "\n",
    "a0 = -1 # < Coloque um valor aqui >\n",
    "a1 = 2  # < Coloque um valor aqui >\n",
    "\n",
    "# Atributo.\n",
    "x = np.array([[-1.0000],[-0.9800],[-0.9600],[-0.9400],[-0.9200],[-0.9000],[-0.8800],[-0.8600],[-0.8400],[-0.8200],[-0.8000],[-0.7800],[-0.7600],[-0.7400],[-0.7200],[-0.7000],[-0.6800],[-0.6600],[-0.6400],[-0.6200],[-0.6000],[-0.5800],[-0.5600],[-0.5400],[-0.5200],[-0.5000],[-0.4800],[-0.4600],[-0.4400],[-0.4200],[-0.4000],[-0.3800],[-0.3600],[-0.3400],[-0.3200],[-0.3000],[-0.2800],[-0.2600],[-0.2400],[-0.2200],[-0.2000],[-0.1800],[-0.1600],[-0.1400],[-0.1200],[-0.1000],[-0.0800],[-0.0600],[-0.0400],[-0.0200],[0.0000],[0.0200],[0.0400],[0.0600],[0.0800],[0.1000],[0.1200],[0.1400],[0.1600],[0.1800],[0.2000],[0.2200],[0.2400],[0.2600],[0.2800],[0.3000],[0.3200],[0.3400],[0.3600],[0.3800],[0.4000],[0.4200],[0.4400],[0.4600],[0.4800],[0.5000],[0.5200],[0.5400],[0.5600],[0.5800],[0.6000],[0.6200],[0.6400],[0.6600],[0.6800],[0.7000],[0.7200],[0.7400],[0.7600],[0.7800],[0.8000],[0.8200],[0.8400],[0.8600],[0.8800],[0.9000],[0.9200],[0.9400],[0.9600],[0.9800]])\n",
    "x = x.reshape((len(x), ))\n",
    "\n",
    "# Valores esperados (rótulos).\n",
    "y = np.array([[2.8430],[3.1381],[2.9244],[2.7861],[2.9280],[2.7738],[2.8377],[2.7283],[2.9339],[2.8179],[2.9297],[2.9174],[2.9368],[2.6965],[2.4980],[2.6416],[2.4662],[2.7446],[2.8236],[2.5448],[2.5921],[2.6842],[2.2680],[2.5057],[2.4570],[2.4846],[2.6486],[2.5413],[2.3897],[2.4596],[2.2950],[2.2857],[2.4995],[2.4205],[2.3266],[2.2281],[2.3636],[2.2785],[2.1923],[2.2687],[2.1807],[2.1150],[2.2315],[2.0983],[2.0559],[2.0267],[2.0947],[1.9915],[2.0493],[2.0690],[2.1200],[1.9080],[1.9794],[1.9558],[1.7788],[1.9183],[1.9108],[1.8345],[1.8798],[1.8059],[1.9824],[1.7402],[1.6944],[1.6580],[1.6566],[1.5599],[1.5479],[1.4707],[1.6614],[1.7665],[1.5337],[1.3794],[1.4164],[1.7335],[1.5664],[1.4243],[1.5442],[1.3090],[1.4028],[1.3816],[1.6266],[1.4310],[1.4552],[1.4960],[1.2963],[1.2333],[1.2134],[1.2729],[1.2125],[1.2815],[1.1458],[0.9575],[1.3239],[1.1006],[1.0718],[1.0081],[1.0699],[0.9018],[1.1268],[0.9014]])\n",
    "y = y.reshape((len(y),))\n",
    "\n",
    "y_hat = np.zeros((len(y), ))\n",
    "for i, xi in enumerate(x):\n",
    "    y_hat[i] = a0 + a1*xi     # Predições feitas com base nos valores definidos para os pesos.\n",
    "\n",
    "print(\"y: \" + str(y))\n",
    "print(\"y_hat: \" + str(y_hat))"
   ]
  },
  {
   "cell_type": "markdown",
   "metadata": {
    "id": "2759rVV6CjFY"
   },
   "source": [
    "Antes de prosseguirmos para o cálculo do erro, vamos visualizar a diferença entre os valores esperados e preditos. No gráfico de dispersão abaixo, os *pontos azuis* representam os valores esperados, os *pontos verdes* representam os valores preditos e as *linhas tracejadas vermelhas* representam a diferença entre os dois para cada amostra de dados individual.\n",
    "\n",
    "Você pode ler mais sobre gráficos de dispersão da biblioteca matplotlib [aqui](https://matplotlib.org/stable/api/_as_gen/matplotlib.pyplot.scatter.html)."
   ]
  },
  {
   "cell_type": "code",
   "execution_count": 3,
   "metadata": {
    "colab": {
     "base_uri": "https://localhost:8080/",
     "height": 430
    },
    "id": "JJxSeN1B-fL8",
    "outputId": "b73b9327-5bdd-42e3-b05a-ffd3d287f74b"
   },
   "outputs": [
    {
     "data": {
      "image/png": "[encoded data removed]",
      "text/plain": [
       "<Figure size 640x480 with 1 Axes>"
      ]
     },
     "metadata": {},
     "output_type": "display_data"
    }
   ],
   "source": [
    "# Visualização do erro entre os valores esperados e preditos pela função hipótese.\n",
    "plt.scatter(x, y, color='blue', label='Valores esperados')                    # valores esperados\n",
    "plt.scatter(x, y_hat, color='green', label='Valores preditos')                # valores preditos\n",
    "plt.vlines(x, ymin=np.minimum(y, y_hat), ymax=np.maximum(y, y_hat), color=\"red\", linestyle='--', alpha=0.3)\n",
    "plt.legend()\n",
    "plt.grid()\n",
    "plt.show()"
   ]
  },
  {
   "cell_type": "markdown",
   "metadata": {
    "id": "2oUxMYFcFe6e"
   },
   "source": [
    "Nós poderíamos simplesmente pegar a média das diferenças entre os os valores esperados e preditos para calcular o erro do modelo. No entanto, a presença de erros negativos faria com que alguns erros se cancelassem, não dando uma representação precisa do erro total. \n",
    "\n",
    "Portanto, a coisa mais inteligente a fazer aqui é elevar ao quadrado cada valor de erro individual e calcular a média de todos os erros individuais, ou seja, calcular o **MSE**."
   ]
  },
  {
   "cell_type": "code",
   "execution_count": 4,
   "metadata": {
    "colab": {
     "base_uri": "https://localhost:8080/"
    },
    "id": "MUOgz0NoChZG",
    "outputId": "ca4e465f-d160-4a6e-c686-7c09cb826d1b"
   },
   "outputs": [
    {
     "name": "stdout",
     "output_type": "stream",
     "text": [
      "MSE: 12.120521110999999\n"
     ]
    }
   ],
   "source": [
    "# Vamos calcular o erro.\n",
    "mse = 0\n",
    "N = len(y) # Número total de amostras.\n",
    "for i in range(0, N):\n",
    "    squared_diff = (y[i] - y_hat[i]) ** 2\n",
    "    mse += squared_diff\n",
    "\n",
    "# Divide pelo número total de amostras.\n",
    "mse /= N\n",
    "\n",
    "print(\"MSE: \" + str((mse)))"
   ]
  },
  {
   "cell_type": "markdown",
   "metadata": {
    "id": "YZqMW2IHvqXR"
   },
   "source": [
    "## 2. Minimizando o erro"
   ]
  },
  {
   "cell_type": "markdown",
   "metadata": {
    "id": "LOr5Jm5TwZKr"
   },
   "source": [
    "Nesta seção, iremos minimizar o erro do nosso modelo de regressão, treinando-o com os dados fornecidos."
   ]
  },
  {
   "cell_type": "markdown",
   "metadata": {
    "id": "sGS5IutpPhGP"
   },
   "source": [
    "Primeiro, nós importamos a biblioteca:\n",
    "\n",
    "1.   [tensorflow](https://www.tensorflow.org/) - biblioteca de código aberto para criar e treinar modelos de ML."
   ]
  },
  {
   "cell_type": "code",
   "execution_count": 5,
   "metadata": {
    "colab": {
     "base_uri": "https://localhost:8080/"
    },
    "id": "l8uQAtpf_smh",
    "outputId": "4fb1755d-ecd9-46c3-b7e4-8ffb464edc2b"
   },
   "outputs": [],
   "source": [
    "import tensorflow as tf"
   ]
  },
  {
   "cell_type": "markdown",
   "metadata": {
    "id": "FDgvPAZZQt2e"
   },
   "source": [
    "Para treinar nosso modelo de regressão linear, precisamos primeiro definir \n",
    "\n",
    "+ (i) o modelo, \n",
    "+ (ii) a função de erro e \n",
    "+ (iii) o procedimento (i.e., algoritmo) de treinamento."
   ]
  },
  {
   "cell_type": "markdown",
   "metadata": {
    "id": "SLCbfuwWSTSx"
   },
   "source": [
    "### Definindo o modelo de regressão linear\n",
    "\n",
    "O modelo implementado abaixo representa a função hipótese $\\hat{y} = a_0 + a_1 x$. \n",
    "\n",
    "Portanto, o modelo gera (**retorna**) um valor de $\\hat{y}$ para determinados $a_0$, $a_1$ e $x$ quando é chamado."
   ]
  },
  {
   "cell_type": "code",
   "execution_count": 6,
   "metadata": {
    "id": "JOKXLdtQYAn9"
   },
   "outputs": [],
   "source": [
    "# Definindo nosso palpite inicial.\n",
    "A0_INICIAL = 10.0\n",
    "A1_INICIAL = 10.0\n",
    "\n",
    "# Define nosso modelo de regressão.\n",
    "class Model(object):\n",
    "    def __init__(self, a0=A0_INICIAL, a1=A1_INICIAL):\n",
    "        # Inicializando os pesos como variáveis do Tensorflow.\n",
    "        self.a0 = tf.Variable(a0)\n",
    "        self.a1 = tf.Variable(a1)\n",
    "    \n",
    "    # O método call é chamado toda a vez que passamos um valor de x para o modelo.\n",
    "    def __call__(self, x):\n",
    "        return self.a0 + self.a1*x"
   ]
  },
  {
   "cell_type": "markdown",
   "metadata": {
    "id": "yaSBNf3JN9PM"
   },
   "source": [
    "**OBS**.: Dado uma valor de x, o método `__call__()` retorna um valor de $\\hat{y}$. Sabemos que o melhor formato para a função hipótese, ou seja, o modelo, é $\\hat{y} = a_0 + a_1 x$. Portanto, o método `__call__()` retorna `self.a0 + self.a1 * x`."
   ]
  },
  {
   "cell_type": "markdown",
   "metadata": {
    "id": "qZyKjNZkbMXp"
   },
   "source": [
    "### Definindo a função de erro\n",
    "\n",
    "Em seguida, definimos a função de erro, a qual irá retornar o erro quadrático médio (MSE).\n",
    "\n",
    "A função do Tensorflow `tf.reduce_mean()` calcula a média do tensor (i.e., vetor/array) de entrada. Leia mais sobre ela [aqui](https://www.tensorflow.org/api_docs/python/tf/math/reduce_mean).\n",
    "\n",
    "No caso do código abaixo, a função `tf.reduce_mean()` calcula a média dos erros individuais."
   ]
  },
  {
   "cell_type": "code",
   "execution_count": 7,
   "metadata": {
    "id": "jY0OplVNbWHx"
   },
   "outputs": [],
   "source": [
    "# Definindo nossa função de erro.\n",
    "def erro(predicted_y, target_y):\n",
    "    return tf.reduce_mean(tf.square(predicted_y - target_y))"
   ]
  },
  {
   "cell_type": "markdown",
   "metadata": {
    "id": "cJj1cxFadTDy"
   },
   "source": [
    "### Definindo o procedimento (algoritmo) de treinamento\n",
    "\n",
    "Aqui, o algoritmo do gradiente descendente é usado para o treinamento do modelo.\n",
    "\n",
    "Definimos uma função chamada `train` que executa uma **iteração do gradiente descendente** usando **todas** as amostras em nosso conjunto de dados (ou seja, usa todos os valores $x$ e $y$ disponíveis para treinamento).\n",
    "\n",
    "Uma iteração do algoritmo de otimização do gradiente descendente envolve:\n",
    "\n",
    "1. o cálculo do erro\n",
    "2. o cálculo das derivadas da função de erro em relação ao pesos individuais (i.e., $a_0$ e $a_1$)\n",
    "3. a atualização dos pesos do modelo com as derivadas calculadas (i.e., vetor gradiente)"
   ]
  },
  {
   "cell_type": "markdown",
   "metadata": {
    "id": "aDxqkMRskxx4"
   },
   "source": [
    "**API Gradient Tape do TensorFlow**\n",
    "\n",
    "O cálculo das derivadas parciais da função de erro em relação aos pesos é feito automaticamente por um objeto da classe `GradientTape()` do TensorFlow.\n",
    "\n",
    "Você pode aprender mais sobre a classe `GradientTape()` em https://www.tensorflow.org/api_docs/python/tf/GradientTape"
   ]
  },
  {
   "cell_type": "code",
   "execution_count": 8,
   "metadata": {
    "id": "9fLQyjzVv4u3"
   },
   "outputs": [],
   "source": [
    "# Definindo o processo de treinamento (ou atualização dos pesos)\n",
    "def train(model, inputs, outputs, learning_rate):\n",
    "    with tf.GradientTape() as t:\n",
    "        # Erro atual.\n",
    "        current_error = erro(model(inputs), outputs)\n",
    "\n",
    "        # Aqui é onde diferenciamos a função de erro em relação aos pesos do modelo.\n",
    "        da0, da1 = t.gradient(current_error, [model.a0, model.a1])      # derro/da0, derro/da1\n",
    "\n",
    "        # E aqui é onde atualizamos os pesos do modelo com base no passo de aprendizagem escolhido.\n",
    "        model.a0.assign_sub(learning_rate * da0)   # model.a0 = model.a0 - learning_rate*a0\n",
    "        model.a1.assign_sub(learning_rate * da1)   # model.a1 = model.a1 - learning_rate*a1\n",
    "\n",
    "        # Retorna o erro atual.\n",
    "        return current_error"
   ]
  },
  {
   "cell_type": "markdown",
   "metadata": {
    "id": "-1qR8Ly_SA7I"
   },
   "source": [
    "---\n",
    "\n",
    "\n",
    "**Pergunta 3**: No código acima, antes de treinar o modelo, quais são as três coisas que precisamos definir?\n",
    "\n",
    "**Resposta:**\n",
    "\n",
    "---"
   ]
  },
  {
   "cell_type": "markdown",
   "metadata": {
    "id": "GmwQwGuqMP5O"
   },
   "source": [
    "---\n",
    "\n",
    "**Pergunta 4**: Qual versão do gradiente descendente está implentada no código acima?\n",
    "\n",
    "**Resposta:**\n",
    "\n",
    "---"
   ]
  },
  {
   "cell_type": "markdown",
   "metadata": {
    "id": "t9OVMTeQwIYy"
   },
   "source": [
    "### Treinando o modelo\n",
    "\n",
    "Agora que definimos todas as funções individuais que vamos precisar, é hora de juntá-las.\n",
    "\n",
    "O conjunto de dados ($x$ e $y$) já foi definido anteriormente.\n",
    "\n",
    "Inicialmente, definimos p passo de aprendizagem e o número de épocas de treinamento.\n",
    "\n",
    "Em seguida, instanciamos o modelo. \n",
    "\n",
    "Na sequência, treinamos o modelo por várias épocas. Para cada época, calculamos e armazenamos os valores dos pesos ($a_0$ e $a_1$) e o erro.\n",
    "\n",
    "Observe a diminuição do erro à medida que as épocas passam.\n",
    "\n",
    "**OBS**.: Você vai precisar encontrar valores para o passo de aprendizagem e número de épocas de forma que o gradiente descendente convirja."
   ]
  },
  {
   "cell_type": "code",
   "execution_count": 9,
   "metadata": {
    "colab": {
     "base_uri": "https://localhost:8080/"
    },
    "id": "NCPlW9FpwFgV",
    "outputId": "d24ef0d2-f380-41e8-ce37-a591fc4d95b4"
   },
   "outputs": [
    {
     "name": "stdout",
     "output_type": "stream",
     "text": [
      "Época  0: a0=10.00 a1=10.00, loss=102.84038\n",
      "Época  1: a0=9.92 a1=9.96, loss=101.34013\n",
      "Época  2: a0=9.84 a1=9.93, loss=99.86611\n",
      "Época  3: a0=9.77 a1=9.89, loss=98.41779\n",
      "Época  4: a0=9.69 a1=9.86, loss=96.99471\n",
      "Época  5: a0=9.61 a1=9.82, loss=95.59641\n",
      "Época  6: a0=9.54 a1=9.79, loss=94.22238\n",
      "Época  7: a0=9.46 a1=9.75, loss=92.87218\n",
      "Época  8: a0=9.39 a1=9.72, loss=91.54537\n",
      "Época  9: a0=9.32 a1=9.68, loss=90.24149\n",
      "Época 10: a0=9.24 a1=9.65, loss=88.96013\n",
      "Época 11: a0=9.17 a1=9.61, loss=87.70083\n",
      "Época 12: a0=9.10 a1=9.58, loss=86.46321\n",
      "Época 13: a0=9.03 a1=9.54, loss=85.24683\n",
      "Época 14: a0=8.96 a1=9.51, loss=84.05132\n",
      "Época 15: a0=8.89 a1=9.47, loss=82.87627\n",
      "Época 16: a0=8.83 a1=9.44, loss=81.72129\n",
      "Época 17: a0=8.76 a1=9.40, loss=80.58601\n",
      "Época 18: a0=8.69 a1=9.37, loss=79.47006\n",
      "Época 19: a0=8.63 a1=9.34, loss=78.37308\n",
      "Época 20: a0=8.56 a1=9.30, loss=77.29471\n",
      "Época 21: a0=8.50 a1=9.27, loss=76.23459\n",
      "Época 22: a0=8.43 a1=9.24, loss=75.19239\n",
      "Época 23: a0=8.37 a1=9.20, loss=74.16777\n",
      "Época 24: a0=8.31 a1=9.17, loss=73.16042\n",
      "Época 25: a0=8.24 a1=9.14, loss=72.17000\n",
      "Época 26: a0=8.18 a1=9.10, loss=71.19618\n",
      "Época 27: a0=8.12 a1=9.07, loss=70.23867\n",
      "Época 28: a0=8.06 a1=9.04, loss=69.29716\n",
      "Época 29: a0=8.00 a1=9.00, loss=68.37136\n",
      "Época 30: a0=7.94 a1=8.97, loss=67.46097\n",
      "Época 31: a0=7.88 a1=8.94, loss=66.56570\n",
      "Época 32: a0=7.82 a1=8.91, loss=65.68527\n",
      "Época 33: a0=7.77 a1=8.87, loss=64.81941\n",
      "Época 34: a0=7.71 a1=8.84, loss=63.96785\n",
      "Época 35: a0=7.65 a1=8.81, loss=63.13031\n",
      "Época 36: a0=7.60 a1=8.78, loss=62.30656\n",
      "Época 37: a0=7.54 a1=8.74, loss=61.49632\n",
      "Época 38: a0=7.49 a1=8.71, loss=60.69934\n",
      "Época 39: a0=7.43 a1=8.68, loss=59.91539\n",
      "Época 40: a0=7.38 a1=8.65, loss=59.14422\n",
      "Época 41: a0=7.33 a1=8.62, loss=58.38560\n",
      "Época 42: a0=7.28 a1=8.59, loss=57.63930\n",
      "Época 43: a0=7.22 a1=8.55, loss=56.90508\n",
      "Época 44: a0=7.17 a1=8.52, loss=56.18272\n",
      "Época 45: a0=7.12 a1=8.49, loss=55.47203\n",
      "Época 46: a0=7.07 a1=8.46, loss=54.77275\n",
      "Época 47: a0=7.02 a1=8.43, loss=54.08472\n",
      "Época 48: a0=6.97 a1=8.40, loss=53.40770\n",
      "Época 49: a0=6.92 a1=8.37, loss=52.74149\n"
     ]
    }
   ],
   "source": [
    "# Passo de aprendizagem.\n",
    "LEARNING_RATE = 0.005\n",
    "\n",
    "# Número de épocas.\n",
    "epochs = 50\n",
    "\n",
    "# Instancia o modelo.\n",
    "model = Model()\n",
    "\n",
    "# Coletando o histórico de valores a0 e a1 para plotar mais tarde.\n",
    "list_a0, list_a1 = [], []\n",
    "erros = []\n",
    "\n",
    "# Laço (loop) de treinamento.\n",
    "for epoch in range(epochs):\n",
    "    \n",
    "    # Armazena os valores dos pesos.\n",
    "    list_a0.append(model.a0.numpy())\n",
    "    list_a1.append(model.a1.numpy())\n",
    "    \n",
    "    # Iteração de treinamento.\n",
    "    current_error = train(model, x, y, learning_rate=LEARNING_RATE)\n",
    "    \n",
    "    # Armzena os erros ao longo das épocas de treinamento.\n",
    "    erros.append(current_error)\n",
    "    \n",
    "    # Imprime os erros ao longo das épocas de treinamento.\n",
    "    print('Época %2d: a0=%1.2f a1=%1.2f, loss=%2.5f' % (epoch, list_a0[-1], list_a1[-1], current_error))"
   ]
  },
  {
   "cell_type": "markdown",
   "metadata": {
    "id": "6afLtlyRwR-x"
   },
   "source": [
    "### Plote os valores dos pesos ao longo das épocas de treinamento.\n",
    "\n",
    "Abaixo está um gráfico dos valores dos pesos do modelo $a_0$ e $a_1$ (eixo y) ao longo das épocas (eixo x). À medida que o modelo é treinado, observe como os valores de $a_0$ e $a_1$ se estabilizam em um valor."
   ]
  },
  {
   "cell_type": "code",
   "execution_count": 10,
   "metadata": {
    "colab": {
     "base_uri": "https://localhost:8080/",
     "height": 451
    },
    "id": "50uecDpHwPGV",
    "outputId": "923fbf82-0416-4318-a555-6327d3d5629c"
   },
   "outputs": [
    {
     "data": {
      "image/png": "[encoded data removed]",
      "text/plain": [
       "<Figure size 640x480 with 1 Axes>"
      ]
     },
     "metadata": {},
     "output_type": "display_data"
    }
   ],
   "source": [
    "# Plote os valores de a0 e a1 para cada época de treinamento em relação aos valores verdadeiros.\n",
    "xaxis = range(epochs)\n",
    "plt.plot(xaxis, list_a0, 'r', xaxis, list_a1, 'b')\n",
    "plt.legend(['a0', 'a1'])\n",
    "plt.xlabel('Épocas')\n",
    "plt.ylabel('Valor do peso')\n",
    "plt.grid()\n",
    "plt.show()"
   ]
  },
  {
   "cell_type": "markdown",
   "metadata": {
    "id": "UtEhd1N1L7CZ"
   },
   "source": [
    "### Plote o MSE ao longo das épocas de treinamento\n",
    "\n",
    "O gráfico abaixo mostra o MSE ao longo do treinamento do modelo."
   ]
  },
  {
   "cell_type": "code",
   "execution_count": 11,
   "metadata": {
    "colab": {
     "base_uri": "https://localhost:8080/",
     "height": 451
    },
    "id": "-IClvkEoKzSR",
    "outputId": "33fb2922-9ac4-4998-bbab-b2e0477739e8"
   },
   "outputs": [
    {
     "data": {
      "image/png": "[encoded data removed]",
      "text/plain": [
       "<Figure size 640x480 with 1 Axes>"
      ]
     },
     "metadata": {},
     "output_type": "display_data"
    }
   ],
   "source": [
    "plt.plot(range(epochs), erros)\n",
    "plt.xlabel('Épocas')\n",
    "plt.ylabel('MSE')\n",
    "plt.grid()\n",
    "plt.show()"
   ]
  },
  {
   "cell_type": "markdown",
   "metadata": {
    "id": "XcD48DftWR1S"
   },
   "source": [
    "---\n",
    "\n",
    "**Pergunta 5**: Após observar os últimos dois gráficos acima, podemos dizer que o algoritmo convergiu?\n",
    "\n",
    "**Resposta:**\n",
    "\n",
    "---"
   ]
  },
  {
   "cell_type": "markdown",
   "metadata": {},
   "source": [
    "### Plote uma figura comparando os dados de treinamento e a melhor função hipótese."
   ]
  },
  {
   "cell_type": "code",
   "execution_count": 12,
   "metadata": {},
   "outputs": [],
   "source": [
    "# Digite o código de exercício aqui."
   ]
  },
  {
   "cell_type": "markdown",
   "metadata": {
    "id": "wH1lzGkYMqiN"
   },
   "source": [
    "---\n",
    "\n",
    "**Pergunta 6**: O que ocorreria se o passo de aprendizagem fosse feito igual a 1.1? Altere o valor e execute todas a células novamente.\n",
    "\n",
    "**Resposta:**\n",
    "\n",
    "---"
   ]
  }
 ],
 "metadata": {
  "colab": {
   "provenance": []
  },
  "kernelspec": {
   "display_name": "Python 3 (ipykernel)",
   "language": "python",
   "name": "python3"
  },
  "language_info": {
   "codemirror_mode": {
    "name": "ipython",
    "version": 3
   },
   "file_extension": ".py",
   "mimetype": "text/x-python",
   "name": "python",
   "nbconvert_exporter": "python",
   "pygments_lexer": "ipython3",
   "version": "3.10.9"
  }
 },
 "nbformat": 4,
 "nbformat_minor": 1
}
