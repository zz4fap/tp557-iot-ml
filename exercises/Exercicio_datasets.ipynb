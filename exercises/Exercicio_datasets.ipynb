{
 "cells": [
  {
   "cell_type": "markdown",
   "metadata": {
    "id": "Zo2JiEtkzvQL"
   },
   "source": [
    "# Exercício sobre datasets e análise dos resultados de treinamento"
   ]
  },
  {
   "cell_type": "markdown",
   "metadata": {
    "id": "ZLLenukpg6VN"
   },
   "source": [
    "**Observação**: Verifiquem se o uso de GPU está habilitado."
   ]
  },
  {
   "cell_type": "markdown",
   "metadata": {
    "id": "z56YN3JZ0Duh"
   },
   "source": [
    "## Importando as bibliotecas"
   ]
  },
  {
   "cell_type": "code",
   "execution_count": null,
   "metadata": {
    "id": "YfPnR74Gzc_q"
   },
   "outputs": [],
   "source": [
    "import numpy as np\n",
    "import matplotlib.pyplot as plt\n",
    "import tensorflow as tf"
   ]
  },
  {
   "cell_type": "markdown",
   "metadata": {
    "id": "xrGLDV6q0PCc"
   },
   "source": [
    "## Baixando o conjunto de dados MNIST\n",
    "\n",
    "\n",
    "O conjunto de dados MNIST de dígitos manuscritos, pode ser baixado com o [TF](https://www.tensorflow.org/api_docs/python/tf/keras/datasets/mnist/load_data).\n",
    "\n",
    "O conjunto contém imagens 28x28 pixels em tons de cinza dos 10 dígitos (0-9).\n",
    "Ele possui um conjunto de treinamento com 60.000 imagens e um conjunto de teste com 10.000."
   ]
  },
  {
   "cell_type": "code",
   "execution_count": null,
   "metadata": {
    "colab": {
     "base_uri": "https://localhost:8080/"
    },
    "id": "Ib2Ihepx0N6h",
    "outputId": "c183b226-0fe5-4d95-94a6-5b67870c3d8e"
   },
   "outputs": [],
   "source": [
    "(ltrain_images, ltrain_labels), (test_images, test_labels) = tf.keras.datasets.mnist.load_data()"
   ]
  },
  {
   "cell_type": "markdown",
   "metadata": {
    "id": "nxTp8fjIKxAk"
   },
   "source": [
    "## Divindo em o conjunto inicial de treinamento em um conjunto de treinamento menor e um conjunto de validação"
   ]
  },
  {
   "cell_type": "markdown",
   "metadata": {
    "id": "c-5RfO0PLghj"
   },
   "source": [
    "### Separamos as primeiras 10.000 imagens para o conjunto de validação."
   ]
  },
  {
   "cell_type": "code",
   "execution_count": null,
   "metadata": {
    "id": "u_e88OtBak7n"
   },
   "outputs": [],
   "source": [
    "val_images = ltrain_images[:10000]\n",
    "val_labels = ltrain_labels[:10000]"
   ]
  },
  {
   "cell_type": "code",
   "execution_count": null,
   "metadata": {
    "colab": {
     "base_uri": "https://localhost:8080/"
    },
    "id": "hcuDlGmVLz2k",
    "outputId": "4c77ae75-5454-4bae-9cf9-171e3213b6f7"
   },
   "outputs": [],
   "source": [
    "print(val_images.shape)\n",
    "print(val_labels.shape)"
   ]
  },
  {
   "cell_type": "markdown",
   "metadata": {
    "id": "lyE6KB2oLqpB"
   },
   "source": [
    "### As 50.000 restantes vão para o novo conjunto de treinamento (menor)"
   ]
  },
  {
   "cell_type": "code",
   "execution_count": null,
   "metadata": {
    "id": "MtTSlX3TaDqj"
   },
   "outputs": [],
   "source": [
    "train_images = ltrain_images[10000:]\n",
    "train_labels = ltrain_labels[10000:]"
   ]
  },
  {
   "cell_type": "code",
   "execution_count": null,
   "metadata": {
    "colab": {
     "base_uri": "https://localhost:8080/"
    },
    "id": "pq1bMIRd38b8",
    "outputId": "568248a7-26f8-463c-ccd2-a90cfb3619d0"
   },
   "outputs": [],
   "source": [
    "print(train_images.shape)\n",
    "print(train_labels.shape)"
   ]
  },
  {
   "cell_type": "markdown",
   "metadata": {
    "id": "0-H0LwB_7von"
   },
   "source": [
    "## Pré-processamento dos dados\n",
    "\n",
    "Vamos aplicar normalização aos dados (i.e., atributos) dos três conjuntos.\n",
    "\n",
    "Como os valores dos pixels variam entre 0 e 255, basta dividí-los por 255.0 e o intervalo final ficará entre 0.0 e 1.0."
   ]
  },
  {
   "cell_type": "code",
   "execution_count": null,
   "metadata": {
    "id": "uZrGVMsH0X3F"
   },
   "outputs": [],
   "source": [
    "train_images  = train_images / 255.0\n",
    "val_images = val_images / 255.0\n",
    "test_images = test_images / 255.0"
   ]
  },
  {
   "cell_type": "markdown",
   "metadata": {
    "id": "dWH_kfJ2RPGc"
   },
   "source": [
    "## Execute a célula de código abaixo e analise as figuras geradas e os resultados de desempenho nos três conjuntos."
   ]
  },
  {
   "cell_type": "code",
   "execution_count": null,
   "metadata": {
    "colab": {
     "base_uri": "https://localhost:8080/",
     "height": 1000
    },
    "id": "NA21O9Y0_BJ7",
    "outputId": "82e0242e-6e9a-4c63-f7a1-83247b6ed639"
   },
   "outputs": [],
   "source": [
    "# Definindo o modelo.\n",
    "model = tf.keras.models.Sequential()\n",
    "model.add(tf.keras.layers.Flatten(input_shape=(28, 28)))\n",
    "model.add(tf.keras.layers.Dense(20, activation='relu'))\n",
    "model.add(tf.keras.layers.Dense(10, activation='softmax'))\n",
    "\n",
    "# Instanciando otimizador Adam.\n",
    "opt = tf.keras.optimizers.Adam(learning_rate=0.1)\n",
    "\n",
    "# Compilando a rede neural.\n",
    "model.compile(\n",
    "    optimizer=opt,\n",
    "    loss='sparse_categorical_crossentropy',\n",
    "    metrics=['accuracy']\n",
    ")\n",
    "\n",
    "# Treinando o modelo.\n",
    "history = model.fit(\n",
    "    train_images,\n",
    "    train_labels,\n",
    "    epochs=30,\n",
    "    validation_data=(val_images, val_labels)\n",
    ")\n",
    "\n",
    "# Plotando os resultados de perda.\n",
    "plt.plot(history.history['loss'], label='Train')\n",
    "plt.plot(history.history['val_loss'], label='Val')\n",
    "plt.title('Perda do modelo')\n",
    "plt.ylabel('Acurácia')\n",
    "plt.xlabel('Época')\n",
    "plt.legend(loc='upper left')\n",
    "plt.xticks(range(20))\n",
    "plt.grid()\n",
    "plt.show()\n",
    "\n",
    "# Plotando os resultados de acurácia.\n",
    "plt.plot(history.history['accuracy'], label='Train')\n",
    "plt.plot(history.history['val_accuracy'], label='Val')\n",
    "plt.title('Acurácia do modelo')\n",
    "plt.ylabel('Acurácia')\n",
    "plt.xlabel('Época')\n",
    "plt.legend(loc='upper left')\n",
    "plt.xticks(range(20))\n",
    "plt.grid()\n",
    "plt.show()\n",
    "\n",
    "# Avaliando o desempenho no conjunto de treinamento.\n",
    "print('Treinamento:', model.evaluate(train_images, train_labels))\n",
    "# Avaliando o desempenho no conjunto de validação.\n",
    "print('Validação:', model.evaluate(val_images, val_labels))\n",
    "# Avaliando o desempenho no conjunto de teste.\n",
    "print('Teste:', model.evaluate(test_images, test_labels))"
   ]
  },
  {
   "cell_type": "markdown",
   "metadata": {
    "id": "HsoegtL0bBFy"
   },
   "source": [
    "### O que você conclui sobre o treinamento deste modelo? Podemos dizer que o modelo treinado tem um bom desempenho? Caso não, o que pode ser feito para melhorar este desempenho? *Justifique suas respostas*\n",
    "\n",
    "**Reposta**\n",
    "\n",
    "Escreva sua resposta aqui."
   ]
  },
  {
   "cell_type": "markdown",
   "metadata": {
    "id": "ItL2bJyxbnlR"
   },
   "source": [
    "## Execute a célula de código abaixo e analise as figuras geradas e os resultados de desempenho nos três conjuntos."
   ]
  },
  {
   "cell_type": "code",
   "execution_count": null,
   "metadata": {
    "colab": {
     "base_uri": "https://localhost:8080/",
     "height": 1000
    },
    "id": "Dzo-wcqBbnyg",
    "outputId": "027b276c-edb0-4530-d412-5552712f37d2"
   },
   "outputs": [],
   "source": [
    "# Definindo o modelo.\n",
    "model = tf.keras.models.Sequential()\n",
    "model.add(tf.keras.layers.Flatten(input_shape=(28, 28)))\n",
    "model.add(tf.keras.layers.Dense(20, activation='relu'))\n",
    "model.add(tf.keras.layers.Dense(10, activation='softmax'))\n",
    "\n",
    "# Instanciando otimizador Adam.\n",
    "opt = tf.keras.optimizers.Adam(learning_rate=0.0001)\n",
    "\n",
    "# Compilando a rede neural.\n",
    "model.compile(\n",
    "    optimizer=opt,\n",
    "    loss='sparse_categorical_crossentropy',\n",
    "    metrics=['accuracy']\n",
    ")\n",
    "\n",
    "# Treinando o modelo.\n",
    "epochs = 40\n",
    "history = model.fit(\n",
    "    train_images,\n",
    "    train_labels,\n",
    "    epochs=epochs,\n",
    "    validation_data=(val_images, val_labels)\n",
    ")\n",
    "\n",
    "# Plotando os resultados de perda.\n",
    "plt.plot(history.history['loss'], label='Train')\n",
    "plt.plot(history.history['val_loss'], label='Val')\n",
    "plt.title('Perda do modelo')\n",
    "plt.ylabel('Acurácia')\n",
    "plt.xlabel('Época')\n",
    "plt.legend(loc='upper left')\n",
    "plt.grid()\n",
    "plt.show()\n",
    "\n",
    "# Plotando os resultados de acurácia.\n",
    "plt.plot(history.history['accuracy'], label='Train')\n",
    "plt.plot(history.history['val_accuracy'], label='Val')\n",
    "plt.title('Acurácia do modelo')\n",
    "plt.ylabel('Acurácia')\n",
    "plt.xlabel('Época')\n",
    "plt.legend(loc='upper left')\n",
    "plt.grid()\n",
    "plt.show()\n",
    "\n",
    "# Avaliando o desempenho no conjunto de treinamento.\n",
    "print('Treinamento:', model.evaluate(train_images, train_labels))\n",
    "# Avaliando o desempenho no conjunto de validação.\n",
    "print('Validação:', model.evaluate(val_images, val_labels))\n",
    "# Avaliando o desempenho no conjunto de teste.\n",
    "print('Teste:', model.evaluate(test_images, test_labels))"
   ]
  },
  {
   "cell_type": "markdown",
   "metadata": {
    "id": "miJbehIfdDz3"
   },
   "source": [
    "### O que você conclui sobre o treinamento deste outro modelo? Podemos dizer que o modelo treinado tem um bom desempenho? Caso não, o que pode ser feito para melhorar este desempenho? *Justifique suas respostas*\n",
    "\n",
    "**Reposta**\n",
    "\n",
    "Escreva sua resposta aqui."
   ]
  },
  {
   "cell_type": "markdown",
   "metadata": {
    "id": "rk70oflLfX4e"
   },
   "source": [
    "## Execute a célula de código abaixo e analise o código (mais especificamente a arquitetura da rede neural), as figuras geradas e os resultados de desempenho nos três conjuntos."
   ]
  },
  {
   "cell_type": "code",
   "execution_count": null,
   "metadata": {
    "colab": {
     "base_uri": "https://localhost:8080/",
     "height": 1000
    },
    "id": "DT7jC2syfYDq",
    "outputId": "38bc7ac6-f542-4711-d547-f3ba3c4ab83e"
   },
   "outputs": [],
   "source": [
    "# Definindo o modelo.\n",
    "model = tf.keras.models.Sequential()\n",
    "model.add(tf.keras.layers.Flatten(input_shape=(28, 28)))\n",
    "model.add(tf.keras.layers.Dense(128, activation='relu'))\n",
    "model.add(tf.keras.layers.Dense(64, activation='relu'))\n",
    "model.add(tf.keras.layers.Dense(32, activation='relu'))\n",
    "model.add(tf.keras.layers.Dense(10, activation='softmax'))\n",
    "\n",
    "# Instanciando otimizador Adam.\n",
    "opt = tf.keras.optimizers.Adam(learning_rate=0.0001)\n",
    "\n",
    "# Compilando a rede neural.\n",
    "model.compile(\n",
    "    optimizer=opt,\n",
    "    loss='sparse_categorical_crossentropy',\n",
    "    metrics=['accuracy']\n",
    ")\n",
    "\n",
    "# Treinando o modelo.\n",
    "epochs = 100\n",
    "history = model.fit(\n",
    "    train_images,\n",
    "    train_labels,\n",
    "    epochs=epochs,\n",
    "    validation_data=(val_images, val_labels)\n",
    ")\n",
    "\n",
    "# Plotando os resultados de perda.\n",
    "plt.plot(history.history['loss'], label='Train')\n",
    "plt.plot(history.history['val_loss'], label='Val')\n",
    "plt.title('Perda do modelo')\n",
    "plt.ylabel('Acurácia')\n",
    "plt.xlabel('Época')\n",
    "plt.legend(loc='upper left')\n",
    "plt.grid()\n",
    "plt.show()\n",
    "\n",
    "# Plotando os resultados de acurácia.\n",
    "plt.plot(history.history['accuracy'], label='Train')\n",
    "plt.plot(history.history['val_accuracy'], label='Val')\n",
    "plt.title('Acurácia do modelo')\n",
    "plt.ylabel('Acurácia')\n",
    "plt.xlabel('Época')\n",
    "plt.legend(loc='upper left')\n",
    "plt.grid()\n",
    "plt.show()\n",
    "\n",
    "# Avaliando o desempenho no conjunto de treinamento.\n",
    "print('Treinamento:', model.evaluate(train_images, train_labels))\n",
    "# Avaliando o desempenho no conjunto de validação.\n",
    "print('Validação:', model.evaluate(val_images, val_labels))\n",
    "# Avaliando o desempenho no conjunto de teste.\n",
    "print('Teste:', model.evaluate(test_images, test_labels))"
   ]
  },
  {
   "cell_type": "markdown",
   "metadata": {
    "id": "-F4Wj2xDkCVy"
   },
   "source": [
    "### O que você conclui sobre o treinamento deste outro modelo? Podemos dizer que o modelo treinado tem um bom desempenho? Caso não, o que pode ser feito para melhorar este desempenho? *Justifique suas respostas*\n",
    "\n",
    "**Reposta**\n",
    "\n",
    "Escreva sua resposta aqui."
   ]
  },
  {
   "cell_type": "markdown",
   "metadata": {
    "id": "iN8CEieKm6vj"
   },
   "source": [
    "## Execute a célula de código abaixo e analise as figuras geradas e os resultados de desempenho nos três conjuntos."
   ]
  },
  {
   "cell_type": "code",
   "execution_count": null,
   "metadata": {
    "colab": {
     "base_uri": "https://localhost:8080/",
     "height": 1000
    },
    "id": "lMD5nrqEm61F",
    "outputId": "36d98c20-55f4-4a2d-fd71-f7e976cfbcae"
   },
   "outputs": [],
   "source": [
    "# Definindo o modelo.\n",
    "model = tf.keras.models.Sequential()\n",
    "model.add(tf.keras.layers.Flatten(input_shape=(28, 28)))\n",
    "model.add(tf.keras.layers.Dense(20, activation='relu'))\n",
    "model.add(tf.keras.layers.Dense(10, activation='softmax'))\n",
    "\n",
    "# Instanciando otimizador Adam.\n",
    "opt = tf.keras.optimizers.Adam(learning_rate=0.0000001)\n",
    "\n",
    "# Compilando a rede neural.\n",
    "model.compile(\n",
    "    optimizer=opt,\n",
    "    loss='sparse_categorical_crossentropy',\n",
    "    metrics=['accuracy']\n",
    ")\n",
    "\n",
    "# Treinando o modelo.\n",
    "epochs = 40\n",
    "history = model.fit(\n",
    "    train_images,\n",
    "    train_labels,\n",
    "    epochs=epochs,\n",
    "    validation_data=(val_images, val_labels)\n",
    ")\n",
    "\n",
    "# Plotando os resultados de perda.\n",
    "plt.plot(history.history['loss'], label='Train')\n",
    "plt.plot(history.history['val_loss'], label='Val')\n",
    "plt.title('Perda do modelo')\n",
    "plt.ylabel('Acurácia')\n",
    "plt.xlabel('Época')\n",
    "plt.legend(loc='upper left')\n",
    "plt.grid()\n",
    "plt.show()\n",
    "\n",
    "# Plotando os resultados de acurácia.\n",
    "plt.plot(history.history['accuracy'], label='Train')\n",
    "plt.plot(history.history['val_accuracy'], label='Val')\n",
    "plt.title('Acurácia do modelo')\n",
    "plt.ylabel('Acurácia')\n",
    "plt.xlabel('Época')\n",
    "plt.legend(loc='upper left')\n",
    "plt.grid()\n",
    "plt.show()\n",
    "\n",
    "# Avaliando o desempenho no conjunto de treinamento.\n",
    "print('Treinamento:', model.evaluate(train_images, train_labels))\n",
    "# Avaliando o desempenho no conjunto de validação.\n",
    "print('Validação:', model.evaluate(val_images, val_labels))\n",
    "# Avaliando o desempenho no conjunto de teste.\n",
    "print('Teste:', model.evaluate(test_images, test_labels))"
   ]
  },
  {
   "cell_type": "markdown",
   "metadata": {
    "id": "vj6_YsI4nHMA"
   },
   "source": [
    "### O que você conclui sobre o treinamento deste outro modelo? Podemos dizer que o modelo treinado tem um bom desempenho? Caso não, o que pode ser feito para melhorar este desempenho? Compare os resultados das figuras acima com os resultados obtidos com o treinamento do segundo modelo. *Justifique suas respostas*\n",
    "\n",
    "**Reposta**\n",
    "\n",
    "Escreva sua resposta aqui."
   ]
  }
 ],
 "metadata": {
  "accelerator": "GPU",
  "colab": {
   "gpuType": "T4",
   "provenance": []
  },
  "kernelspec": {
   "display_name": "Python 3 (ipykernel)",
   "language": "python",
   "name": "python3"
  },
  "language_info": {
   "codemirror_mode": {
    "name": "ipython",
    "version": 3
   },
   "file_extension": ".py",
   "mimetype": "text/x-python",
   "name": "python",
   "nbconvert_exporter": "python",
   "pygments_lexer": "ipython3",
   "version": "3.10.9"
  }
 },
 "nbformat": 4,
 "nbformat_minor": 1
}
